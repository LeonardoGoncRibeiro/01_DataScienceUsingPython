{
  "nbformat": 4,
  "nbformat_minor": 0,
  "metadata": {
    "colab": {
      "name": "07_LinearRegression_AdvancedModelingTechniques.ipynb",
      "provenance": [],
      "collapsed_sections": [],
      "toc_visible": true,
      "authorship_tag": "ABX9TyMJWI846RnaXcy/YVm/FWaP",
      "include_colab_link": true
    },
    "kernelspec": {
      "name": "python3",
      "display_name": "Python 3"
    },
    "language_info": {
      "name": "python"
    }
  },
  "cells": [
    {
      "cell_type": "markdown",
      "metadata": {
        "id": "view-in-github",
        "colab_type": "text"
      },
      "source": [
        "<a href=\"https://colab.research.google.com/github/LeonardoGoncRibeiro/01_DataScienceUsingPython/blob/main/07_LinearRegression_AdvancedModelingTechniques.ipynb\" target=\"_parent\"><img src=\"https://colab.research.google.com/assets/colab-badge.svg\" alt=\"Open In Colab\"/></a>"
      ]
    },
    {
      "cell_type": "markdown",
      "source": [
        "# Statistics Using Python: Linear Regression - Advanced Modeling Techniques\n",
        "\n",
        "In this course, we will learn how to better apply a linear regression model. First, we will understand how we can prepare our dataset to be fitted to a given model. Some transformations can be very import so that our model may show a better performance.\n",
        "\n",
        "Then, we will learn how to use linear regression with two different libraries: sklearn and statsmodels. While the regression result is very similar, each library provides different methods for the linear regression model. \n",
        "\n",
        "Finally, we will learn some advanced modeling techniques, and understand how to make predictions, how to interpret the estimated coefficients, and how to make graphical analyses from our results."
      ],
      "metadata": {
        "id": "nhCo120Jz7ig"
      }
    },
    {
      "cell_type": "markdown",
      "source": [
        "To that end, we will use a dataset from the housing market. Let's import it:"
      ],
      "metadata": {
        "id": "A-rM9lOO_v-n"
      }
    },
    {
      "cell_type": "code",
      "execution_count": 58,
      "metadata": {
        "colab": {
          "base_uri": "https://localhost:8080/",
          "height": 206
        },
        "id": "aneRy9RuzoZv",
        "outputId": "f4aed291-c972-4051-fae2-54b7004e00c8"
      },
      "outputs": [
        {
          "output_type": "execute_result",
          "data": {
            "text/plain": [
              "     Valor  Area  Dist_Praia  Dist_Farmacia\n",
              "0  4600000   280    0.240925       0.793637\n",
              "1   900000   208    0.904136       0.134494\n",
              "2  2550000   170    0.059525       0.423318\n",
              "3   550000   100    2.883181       0.525064\n",
              "4  2200000   164    0.239758       0.192374"
            ],
            "text/html": [
              "\n",
              "  <div id=\"df-5475c4ae-52a3-4bb9-9fde-383f112e7718\">\n",
              "    <div class=\"colab-df-container\">\n",
              "      <div>\n",
              "<style scoped>\n",
              "    .dataframe tbody tr th:only-of-type {\n",
              "        vertical-align: middle;\n",
              "    }\n",
              "\n",
              "    .dataframe tbody tr th {\n",
              "        vertical-align: top;\n",
              "    }\n",
              "\n",
              "    .dataframe thead th {\n",
              "        text-align: right;\n",
              "    }\n",
              "</style>\n",
              "<table border=\"1\" class=\"dataframe\">\n",
              "  <thead>\n",
              "    <tr style=\"text-align: right;\">\n",
              "      <th></th>\n",
              "      <th>Valor</th>\n",
              "      <th>Area</th>\n",
              "      <th>Dist_Praia</th>\n",
              "      <th>Dist_Farmacia</th>\n",
              "    </tr>\n",
              "  </thead>\n",
              "  <tbody>\n",
              "    <tr>\n",
              "      <th>0</th>\n",
              "      <td>4600000</td>\n",
              "      <td>280</td>\n",
              "      <td>0.240925</td>\n",
              "      <td>0.793637</td>\n",
              "    </tr>\n",
              "    <tr>\n",
              "      <th>1</th>\n",
              "      <td>900000</td>\n",
              "      <td>208</td>\n",
              "      <td>0.904136</td>\n",
              "      <td>0.134494</td>\n",
              "    </tr>\n",
              "    <tr>\n",
              "      <th>2</th>\n",
              "      <td>2550000</td>\n",
              "      <td>170</td>\n",
              "      <td>0.059525</td>\n",
              "      <td>0.423318</td>\n",
              "    </tr>\n",
              "    <tr>\n",
              "      <th>3</th>\n",
              "      <td>550000</td>\n",
              "      <td>100</td>\n",
              "      <td>2.883181</td>\n",
              "      <td>0.525064</td>\n",
              "    </tr>\n",
              "    <tr>\n",
              "      <th>4</th>\n",
              "      <td>2200000</td>\n",
              "      <td>164</td>\n",
              "      <td>0.239758</td>\n",
              "      <td>0.192374</td>\n",
              "    </tr>\n",
              "  </tbody>\n",
              "</table>\n",
              "</div>\n",
              "      <button class=\"colab-df-convert\" onclick=\"convertToInteractive('df-5475c4ae-52a3-4bb9-9fde-383f112e7718')\"\n",
              "              title=\"Convert this dataframe to an interactive table.\"\n",
              "              style=\"display:none;\">\n",
              "        \n",
              "  <svg xmlns=\"http://www.w3.org/2000/svg\" height=\"24px\"viewBox=\"0 0 24 24\"\n",
              "       width=\"24px\">\n",
              "    <path d=\"M0 0h24v24H0V0z\" fill=\"none\"/>\n",
              "    <path d=\"M18.56 5.44l.94 2.06.94-2.06 2.06-.94-2.06-.94-.94-2.06-.94 2.06-2.06.94zm-11 1L8.5 8.5l.94-2.06 2.06-.94-2.06-.94L8.5 2.5l-.94 2.06-2.06.94zm10 10l.94 2.06.94-2.06 2.06-.94-2.06-.94-.94-2.06-.94 2.06-2.06.94z\"/><path d=\"M17.41 7.96l-1.37-1.37c-.4-.4-.92-.59-1.43-.59-.52 0-1.04.2-1.43.59L10.3 9.45l-7.72 7.72c-.78.78-.78 2.05 0 2.83L4 21.41c.39.39.9.59 1.41.59.51 0 1.02-.2 1.41-.59l7.78-7.78 2.81-2.81c.8-.78.8-2.07 0-2.86zM5.41 20L4 18.59l7.72-7.72 1.47 1.35L5.41 20z\"/>\n",
              "  </svg>\n",
              "      </button>\n",
              "      \n",
              "  <style>\n",
              "    .colab-df-container {\n",
              "      display:flex;\n",
              "      flex-wrap:wrap;\n",
              "      gap: 12px;\n",
              "    }\n",
              "\n",
              "    .colab-df-convert {\n",
              "      background-color: #E8F0FE;\n",
              "      border: none;\n",
              "      border-radius: 50%;\n",
              "      cursor: pointer;\n",
              "      display: none;\n",
              "      fill: #1967D2;\n",
              "      height: 32px;\n",
              "      padding: 0 0 0 0;\n",
              "      width: 32px;\n",
              "    }\n",
              "\n",
              "    .colab-df-convert:hover {\n",
              "      background-color: #E2EBFA;\n",
              "      box-shadow: 0px 1px 2px rgba(60, 64, 67, 0.3), 0px 1px 3px 1px rgba(60, 64, 67, 0.15);\n",
              "      fill: #174EA6;\n",
              "    }\n",
              "\n",
              "    [theme=dark] .colab-df-convert {\n",
              "      background-color: #3B4455;\n",
              "      fill: #D2E3FC;\n",
              "    }\n",
              "\n",
              "    [theme=dark] .colab-df-convert:hover {\n",
              "      background-color: #434B5C;\n",
              "      box-shadow: 0px 1px 3px 1px rgba(0, 0, 0, 0.15);\n",
              "      filter: drop-shadow(0px 1px 2px rgba(0, 0, 0, 0.3));\n",
              "      fill: #FFFFFF;\n",
              "    }\n",
              "  </style>\n",
              "\n",
              "      <script>\n",
              "        const buttonEl =\n",
              "          document.querySelector('#df-5475c4ae-52a3-4bb9-9fde-383f112e7718 button.colab-df-convert');\n",
              "        buttonEl.style.display =\n",
              "          google.colab.kernel.accessAllowed ? 'block' : 'none';\n",
              "\n",
              "        async function convertToInteractive(key) {\n",
              "          const element = document.querySelector('#df-5475c4ae-52a3-4bb9-9fde-383f112e7718');\n",
              "          const dataTable =\n",
              "            await google.colab.kernel.invokeFunction('convertToInteractive',\n",
              "                                                     [key], {});\n",
              "          if (!dataTable) return;\n",
              "\n",
              "          const docLinkHtml = 'Like what you see? Visit the ' +\n",
              "            '<a target=\"_blank\" href=https://colab.research.google.com/notebooks/data_table.ipynb>data table notebook</a>'\n",
              "            + ' to learn more about interactive tables.';\n",
              "          element.innerHTML = '';\n",
              "          dataTable['output_type'] = 'display_data';\n",
              "          await google.colab.output.renderOutput(dataTable, element);\n",
              "          const docLink = document.createElement('div');\n",
              "          docLink.innerHTML = docLinkHtml;\n",
              "          element.appendChild(docLink);\n",
              "        }\n",
              "      </script>\n",
              "    </div>\n",
              "  </div>\n",
              "  "
            ]
          },
          "metadata": {},
          "execution_count": 58
        }
      ],
      "source": [
        "import pandas as pd\n",
        "\n",
        "dataset = pd.read_csv('dataset.csv', sep = ';')\n",
        "dataset.head( )"
      ]
    },
    {
      "cell_type": "markdown",
      "source": [
        "Thus, our dataset has 4 columns, which store the value of each house, its area, its distance from the beach, and its distance from the closest drugstore. "
      ],
      "metadata": {
        "id": "7rDUCm9RARHn"
      }
    },
    {
      "cell_type": "markdown",
      "source": [
        "## Preliminary analyses\n",
        "\n",
        "Let's start understanding our dataset a little bit more through some preliminary analyses. Thus, let's check the number of entries, and if there are null values."
      ],
      "metadata": {
        "id": "Mp0P0xr2BDYr"
      }
    },
    {
      "cell_type": "code",
      "source": [
        "dataset.info( )"
      ],
      "metadata": {
        "colab": {
          "base_uri": "https://localhost:8080/"
        },
        "id": "Cgyt37-iAObJ",
        "outputId": "e75d1385-4c86-405a-b9ba-a7afa44393c7"
      },
      "execution_count": 59,
      "outputs": [
        {
          "output_type": "stream",
          "name": "stdout",
          "text": [
            "<class 'pandas.core.frame.DataFrame'>\n",
            "RangeIndex: 5000 entries, 0 to 4999\n",
            "Data columns (total 4 columns):\n",
            " #   Column         Non-Null Count  Dtype  \n",
            "---  ------         --------------  -----  \n",
            " 0   Valor          5000 non-null   int64  \n",
            " 1   Area           5000 non-null   int64  \n",
            " 2   Dist_Praia     5000 non-null   float64\n",
            " 3   Dist_Farmacia  5000 non-null   float64\n",
            "dtypes: float64(2), int64(2)\n",
            "memory usage: 156.4 KB\n"
          ]
        }
      ]
    },
    {
      "cell_type": "markdown",
      "source": [
        "We have 5000 entries in our dataset, and there are no null values.\n",
        "\n",
        "Now, let's use describe( ) to understand more about each feature."
      ],
      "metadata": {
        "id": "9XMUYhvdAgcn"
      }
    },
    {
      "cell_type": "code",
      "source": [
        "dataset.describe( )"
      ],
      "metadata": {
        "colab": {
          "base_uri": "https://localhost:8080/",
          "height": 300
        },
        "id": "QO_2jp-CAfZZ",
        "outputId": "76ab4a94-0ce8-47d6-d1db-10f875b90dc8"
      },
      "execution_count": 60,
      "outputs": [
        {
          "output_type": "execute_result",
          "data": {
            "text/plain": [
              "              Valor         Area   Dist_Praia  Dist_Farmacia\n",
              "count  5.000000e+03  5000.000000  5000.000000    5000.000000\n",
              "mean   1.402926e+06   121.944800     3.021920       0.497160\n",
              "std    1.883269e+06    90.536969     3.170933       0.291355\n",
              "min    7.500000e+04    16.000000     0.000000       0.000331\n",
              "25%    4.600000e+05    70.000000     0.438417       0.238640\n",
              "50%    8.200000e+05    93.000000     1.476958       0.503260\n",
              "75%    1.590000e+06   146.000000     5.605379       0.747737\n",
              "max    2.500000e+07  2000.000000    17.962942       0.999987"
            ],
            "text/html": [
              "\n",
              "  <div id=\"df-bbee5d50-4434-431e-9449-c70f8fd0a9fb\">\n",
              "    <div class=\"colab-df-container\">\n",
              "      <div>\n",
              "<style scoped>\n",
              "    .dataframe tbody tr th:only-of-type {\n",
              "        vertical-align: middle;\n",
              "    }\n",
              "\n",
              "    .dataframe tbody tr th {\n",
              "        vertical-align: top;\n",
              "    }\n",
              "\n",
              "    .dataframe thead th {\n",
              "        text-align: right;\n",
              "    }\n",
              "</style>\n",
              "<table border=\"1\" class=\"dataframe\">\n",
              "  <thead>\n",
              "    <tr style=\"text-align: right;\">\n",
              "      <th></th>\n",
              "      <th>Valor</th>\n",
              "      <th>Area</th>\n",
              "      <th>Dist_Praia</th>\n",
              "      <th>Dist_Farmacia</th>\n",
              "    </tr>\n",
              "  </thead>\n",
              "  <tbody>\n",
              "    <tr>\n",
              "      <th>count</th>\n",
              "      <td>5.000000e+03</td>\n",
              "      <td>5000.000000</td>\n",
              "      <td>5000.000000</td>\n",
              "      <td>5000.000000</td>\n",
              "    </tr>\n",
              "    <tr>\n",
              "      <th>mean</th>\n",
              "      <td>1.402926e+06</td>\n",
              "      <td>121.944800</td>\n",
              "      <td>3.021920</td>\n",
              "      <td>0.497160</td>\n",
              "    </tr>\n",
              "    <tr>\n",
              "      <th>std</th>\n",
              "      <td>1.883269e+06</td>\n",
              "      <td>90.536969</td>\n",
              "      <td>3.170933</td>\n",
              "      <td>0.291355</td>\n",
              "    </tr>\n",
              "    <tr>\n",
              "      <th>min</th>\n",
              "      <td>7.500000e+04</td>\n",
              "      <td>16.000000</td>\n",
              "      <td>0.000000</td>\n",
              "      <td>0.000331</td>\n",
              "    </tr>\n",
              "    <tr>\n",
              "      <th>25%</th>\n",
              "      <td>4.600000e+05</td>\n",
              "      <td>70.000000</td>\n",
              "      <td>0.438417</td>\n",
              "      <td>0.238640</td>\n",
              "    </tr>\n",
              "    <tr>\n",
              "      <th>50%</th>\n",
              "      <td>8.200000e+05</td>\n",
              "      <td>93.000000</td>\n",
              "      <td>1.476958</td>\n",
              "      <td>0.503260</td>\n",
              "    </tr>\n",
              "    <tr>\n",
              "      <th>75%</th>\n",
              "      <td>1.590000e+06</td>\n",
              "      <td>146.000000</td>\n",
              "      <td>5.605379</td>\n",
              "      <td>0.747737</td>\n",
              "    </tr>\n",
              "    <tr>\n",
              "      <th>max</th>\n",
              "      <td>2.500000e+07</td>\n",
              "      <td>2000.000000</td>\n",
              "      <td>17.962942</td>\n",
              "      <td>0.999987</td>\n",
              "    </tr>\n",
              "  </tbody>\n",
              "</table>\n",
              "</div>\n",
              "      <button class=\"colab-df-convert\" onclick=\"convertToInteractive('df-bbee5d50-4434-431e-9449-c70f8fd0a9fb')\"\n",
              "              title=\"Convert this dataframe to an interactive table.\"\n",
              "              style=\"display:none;\">\n",
              "        \n",
              "  <svg xmlns=\"http://www.w3.org/2000/svg\" height=\"24px\"viewBox=\"0 0 24 24\"\n",
              "       width=\"24px\">\n",
              "    <path d=\"M0 0h24v24H0V0z\" fill=\"none\"/>\n",
              "    <path d=\"M18.56 5.44l.94 2.06.94-2.06 2.06-.94-2.06-.94-.94-2.06-.94 2.06-2.06.94zm-11 1L8.5 8.5l.94-2.06 2.06-.94-2.06-.94L8.5 2.5l-.94 2.06-2.06.94zm10 10l.94 2.06.94-2.06 2.06-.94-2.06-.94-.94-2.06-.94 2.06-2.06.94z\"/><path d=\"M17.41 7.96l-1.37-1.37c-.4-.4-.92-.59-1.43-.59-.52 0-1.04.2-1.43.59L10.3 9.45l-7.72 7.72c-.78.78-.78 2.05 0 2.83L4 21.41c.39.39.9.59 1.41.59.51 0 1.02-.2 1.41-.59l7.78-7.78 2.81-2.81c.8-.78.8-2.07 0-2.86zM5.41 20L4 18.59l7.72-7.72 1.47 1.35L5.41 20z\"/>\n",
              "  </svg>\n",
              "      </button>\n",
              "      \n",
              "  <style>\n",
              "    .colab-df-container {\n",
              "      display:flex;\n",
              "      flex-wrap:wrap;\n",
              "      gap: 12px;\n",
              "    }\n",
              "\n",
              "    .colab-df-convert {\n",
              "      background-color: #E8F0FE;\n",
              "      border: none;\n",
              "      border-radius: 50%;\n",
              "      cursor: pointer;\n",
              "      display: none;\n",
              "      fill: #1967D2;\n",
              "      height: 32px;\n",
              "      padding: 0 0 0 0;\n",
              "      width: 32px;\n",
              "    }\n",
              "\n",
              "    .colab-df-convert:hover {\n",
              "      background-color: #E2EBFA;\n",
              "      box-shadow: 0px 1px 2px rgba(60, 64, 67, 0.3), 0px 1px 3px 1px rgba(60, 64, 67, 0.15);\n",
              "      fill: #174EA6;\n",
              "    }\n",
              "\n",
              "    [theme=dark] .colab-df-convert {\n",
              "      background-color: #3B4455;\n",
              "      fill: #D2E3FC;\n",
              "    }\n",
              "\n",
              "    [theme=dark] .colab-df-convert:hover {\n",
              "      background-color: #434B5C;\n",
              "      box-shadow: 0px 1px 3px 1px rgba(0, 0, 0, 0.15);\n",
              "      filter: drop-shadow(0px 1px 2px rgba(0, 0, 0, 0.3));\n",
              "      fill: #FFFFFF;\n",
              "    }\n",
              "  </style>\n",
              "\n",
              "      <script>\n",
              "        const buttonEl =\n",
              "          document.querySelector('#df-bbee5d50-4434-431e-9449-c70f8fd0a9fb button.colab-df-convert');\n",
              "        buttonEl.style.display =\n",
              "          google.colab.kernel.accessAllowed ? 'block' : 'none';\n",
              "\n",
              "        async function convertToInteractive(key) {\n",
              "          const element = document.querySelector('#df-bbee5d50-4434-431e-9449-c70f8fd0a9fb');\n",
              "          const dataTable =\n",
              "            await google.colab.kernel.invokeFunction('convertToInteractive',\n",
              "                                                     [key], {});\n",
              "          if (!dataTable) return;\n",
              "\n",
              "          const docLinkHtml = 'Like what you see? Visit the ' +\n",
              "            '<a target=\"_blank\" href=https://colab.research.google.com/notebooks/data_table.ipynb>data table notebook</a>'\n",
              "            + ' to learn more about interactive tables.';\n",
              "          element.innerHTML = '';\n",
              "          dataTable['output_type'] = 'display_data';\n",
              "          await google.colab.output.renderOutput(dataTable, element);\n",
              "          const docLink = document.createElement('div');\n",
              "          docLink.innerHTML = docLinkHtml;\n",
              "          element.appendChild(docLink);\n",
              "        }\n",
              "      </script>\n",
              "    </div>\n",
              "  </div>\n",
              "  "
            ]
          },
          "metadata": {},
          "execution_count": 60
        }
      ]
    },
    {
      "cell_type": "markdown",
      "source": [
        "We can see that our features are very different. For instance, while the maximum value is $2.5 \\times 10^7$, the maximum distance from a drugstore is approximately 1 km. \n",
        "\n",
        "Another aspect we can see is that the mean for 'Valor', 'Area' and 'Dist_Praia' is higher than the median, which might mean that the distribution is right-skewed. \n",
        "\n",
        "Finally, in a first glance, by looking at the maximum and minimum values, it seems that there is no strange outlier. All values seem to be correct (for instance, we can see how a house may have an area of $2000$ m$^2$, or how a house may cost R\\$ $2.5 \\times 10^7$). It might be interesting to remove some extreme values, but this will not be performed here.\n",
        "\n",
        "Let's draw a correlation matrix:"
      ],
      "metadata": {
        "id": "MNyJHDoQBN5a"
      }
    },
    {
      "cell_type": "code",
      "source": [
        "dataset.corr( )"
      ],
      "metadata": {
        "colab": {
          "base_uri": "https://localhost:8080/",
          "height": 175
        },
        "id": "qjhxmR1VAlmr",
        "outputId": "2d2bdb93-1e9c-4d28-8e19-a2d5050416b1"
      },
      "execution_count": 61,
      "outputs": [
        {
          "output_type": "execute_result",
          "data": {
            "text/plain": [
              "                  Valor      Area  Dist_Praia  Dist_Farmacia\n",
              "Valor          1.000000  0.710974   -0.366542      -0.024366\n",
              "Area           0.710974  1.000000   -0.283371      -0.030990\n",
              "Dist_Praia    -0.366542 -0.283371    1.000000       0.025645\n",
              "Dist_Farmacia -0.024366 -0.030990    0.025645       1.000000"
            ],
            "text/html": [
              "\n",
              "  <div id=\"df-91defb30-df70-4ec0-b872-6c430d719625\">\n",
              "    <div class=\"colab-df-container\">\n",
              "      <div>\n",
              "<style scoped>\n",
              "    .dataframe tbody tr th:only-of-type {\n",
              "        vertical-align: middle;\n",
              "    }\n",
              "\n",
              "    .dataframe tbody tr th {\n",
              "        vertical-align: top;\n",
              "    }\n",
              "\n",
              "    .dataframe thead th {\n",
              "        text-align: right;\n",
              "    }\n",
              "</style>\n",
              "<table border=\"1\" class=\"dataframe\">\n",
              "  <thead>\n",
              "    <tr style=\"text-align: right;\">\n",
              "      <th></th>\n",
              "      <th>Valor</th>\n",
              "      <th>Area</th>\n",
              "      <th>Dist_Praia</th>\n",
              "      <th>Dist_Farmacia</th>\n",
              "    </tr>\n",
              "  </thead>\n",
              "  <tbody>\n",
              "    <tr>\n",
              "      <th>Valor</th>\n",
              "      <td>1.000000</td>\n",
              "      <td>0.710974</td>\n",
              "      <td>-0.366542</td>\n",
              "      <td>-0.024366</td>\n",
              "    </tr>\n",
              "    <tr>\n",
              "      <th>Area</th>\n",
              "      <td>0.710974</td>\n",
              "      <td>1.000000</td>\n",
              "      <td>-0.283371</td>\n",
              "      <td>-0.030990</td>\n",
              "    </tr>\n",
              "    <tr>\n",
              "      <th>Dist_Praia</th>\n",
              "      <td>-0.366542</td>\n",
              "      <td>-0.283371</td>\n",
              "      <td>1.000000</td>\n",
              "      <td>0.025645</td>\n",
              "    </tr>\n",
              "    <tr>\n",
              "      <th>Dist_Farmacia</th>\n",
              "      <td>-0.024366</td>\n",
              "      <td>-0.030990</td>\n",
              "      <td>0.025645</td>\n",
              "      <td>1.000000</td>\n",
              "    </tr>\n",
              "  </tbody>\n",
              "</table>\n",
              "</div>\n",
              "      <button class=\"colab-df-convert\" onclick=\"convertToInteractive('df-91defb30-df70-4ec0-b872-6c430d719625')\"\n",
              "              title=\"Convert this dataframe to an interactive table.\"\n",
              "              style=\"display:none;\">\n",
              "        \n",
              "  <svg xmlns=\"http://www.w3.org/2000/svg\" height=\"24px\"viewBox=\"0 0 24 24\"\n",
              "       width=\"24px\">\n",
              "    <path d=\"M0 0h24v24H0V0z\" fill=\"none\"/>\n",
              "    <path d=\"M18.56 5.44l.94 2.06.94-2.06 2.06-.94-2.06-.94-.94-2.06-.94 2.06-2.06.94zm-11 1L8.5 8.5l.94-2.06 2.06-.94-2.06-.94L8.5 2.5l-.94 2.06-2.06.94zm10 10l.94 2.06.94-2.06 2.06-.94-2.06-.94-.94-2.06-.94 2.06-2.06.94z\"/><path d=\"M17.41 7.96l-1.37-1.37c-.4-.4-.92-.59-1.43-.59-.52 0-1.04.2-1.43.59L10.3 9.45l-7.72 7.72c-.78.78-.78 2.05 0 2.83L4 21.41c.39.39.9.59 1.41.59.51 0 1.02-.2 1.41-.59l7.78-7.78 2.81-2.81c.8-.78.8-2.07 0-2.86zM5.41 20L4 18.59l7.72-7.72 1.47 1.35L5.41 20z\"/>\n",
              "  </svg>\n",
              "      </button>\n",
              "      \n",
              "  <style>\n",
              "    .colab-df-container {\n",
              "      display:flex;\n",
              "      flex-wrap:wrap;\n",
              "      gap: 12px;\n",
              "    }\n",
              "\n",
              "    .colab-df-convert {\n",
              "      background-color: #E8F0FE;\n",
              "      border: none;\n",
              "      border-radius: 50%;\n",
              "      cursor: pointer;\n",
              "      display: none;\n",
              "      fill: #1967D2;\n",
              "      height: 32px;\n",
              "      padding: 0 0 0 0;\n",
              "      width: 32px;\n",
              "    }\n",
              "\n",
              "    .colab-df-convert:hover {\n",
              "      background-color: #E2EBFA;\n",
              "      box-shadow: 0px 1px 2px rgba(60, 64, 67, 0.3), 0px 1px 3px 1px rgba(60, 64, 67, 0.15);\n",
              "      fill: #174EA6;\n",
              "    }\n",
              "\n",
              "    [theme=dark] .colab-df-convert {\n",
              "      background-color: #3B4455;\n",
              "      fill: #D2E3FC;\n",
              "    }\n",
              "\n",
              "    [theme=dark] .colab-df-convert:hover {\n",
              "      background-color: #434B5C;\n",
              "      box-shadow: 0px 1px 3px 1px rgba(0, 0, 0, 0.15);\n",
              "      filter: drop-shadow(0px 1px 2px rgba(0, 0, 0, 0.3));\n",
              "      fill: #FFFFFF;\n",
              "    }\n",
              "  </style>\n",
              "\n",
              "      <script>\n",
              "        const buttonEl =\n",
              "          document.querySelector('#df-91defb30-df70-4ec0-b872-6c430d719625 button.colab-df-convert');\n",
              "        buttonEl.style.display =\n",
              "          google.colab.kernel.accessAllowed ? 'block' : 'none';\n",
              "\n",
              "        async function convertToInteractive(key) {\n",
              "          const element = document.querySelector('#df-91defb30-df70-4ec0-b872-6c430d719625');\n",
              "          const dataTable =\n",
              "            await google.colab.kernel.invokeFunction('convertToInteractive',\n",
              "                                                     [key], {});\n",
              "          if (!dataTable) return;\n",
              "\n",
              "          const docLinkHtml = 'Like what you see? Visit the ' +\n",
              "            '<a target=\"_blank\" href=https://colab.research.google.com/notebooks/data_table.ipynb>data table notebook</a>'\n",
              "            + ' to learn more about interactive tables.';\n",
              "          element.innerHTML = '';\n",
              "          dataTable['output_type'] = 'display_data';\n",
              "          await google.colab.output.renderOutput(dataTable, element);\n",
              "          const docLink = document.createElement('div');\n",
              "          docLink.innerHTML = docLinkHtml;\n",
              "          element.appendChild(docLink);\n",
              "        }\n",
              "      </script>\n",
              "    </div>\n",
              "  </div>\n",
              "  "
            ]
          },
          "metadata": {},
          "execution_count": 61
        }
      ]
    },
    {
      "cell_type": "code",
      "source": [
        "import seaborn as sns\n",
        "\n",
        "sns.heatmap(dataset.corr( ), annot = True, cmap = 'crest')"
      ],
      "metadata": {
        "colab": {
          "base_uri": "https://localhost:8080/",
          "height": 287
        },
        "id": "h7cUW4qNCFWx",
        "outputId": "73902b64-48dc-4432-e05d-a56d3120a61b"
      },
      "execution_count": 62,
      "outputs": [
        {
          "output_type": "execute_result",
          "data": {
            "text/plain": [
              "<matplotlib.axes._subplots.AxesSubplot at 0x7f09747ad090>"
            ]
          },
          "metadata": {},
          "execution_count": 62
        },
        {
          "output_type": "display_data",
          "data": {
            "text/plain": [
              "<Figure size 432x288 with 2 Axes>"
            ],
            "image/png": "[encoded data removed]"
          },
          "metadata": {
            "needs_background": "light"
          }
        }
      ]
    },
    {
      "cell_type": "markdown",
      "source": [
        "There is a strong correlation between the area and the value. Also, we see a rather strong negative correlation between the distance to the beach and the value.\n",
        "\n",
        "There correlation between the distance to the drugstore and the value is very low, but it is also negative.\n",
        "\n",
        "Also, there is a very low correlation between the explicative variables."
      ],
      "metadata": {
        "id": "i6CKUSN6CjzP"
      }
    },
    {
      "cell_type": "markdown",
      "source": [
        "# Behavior of the dependent variable\n",
        "\n",
        "Now, let's study the behavior of the dependent variable. We will see how it is distributed, and how it is correlated to the explicative features."
      ],
      "metadata": {
        "id": "k468FccsgpGc"
      }
    },
    {
      "cell_type": "code",
      "source": [
        "ax = sns.boxplot(x = 'Valor', data = dataset)"
      ],
      "metadata": {
        "id": "ScQ0HbUVDBub",
        "colab": {
          "base_uri": "https://localhost:8080/",
          "height": 279
        },
        "outputId": "4512a434-6cc4-49b7-bf37-834c4f7e964f"
      },
      "execution_count": 63,
      "outputs": [
        {
          "output_type": "display_data",
          "data": {
            "text/plain": [
              "<Figure size 432x288 with 1 Axes>"
            ],
            "image/png": "[encoded data removed]"
          },
          "metadata": {
            "needs_background": "light"
          }
        }
      ]
    },
    {
      "cell_type": "markdown",
      "source": [
        "Note that the boxplot for the housing prices shows a very right-skewed behavior. However, this is a common behavior for this type of variable: we can't have negative prices, but it is not that unusual to see very expensive houses."
      ],
      "metadata": {
        "id": "kvclFgkHhL6D"
      }
    },
    {
      "cell_type": "markdown",
      "source": [
        "Now, let's see the frequency distribution for this variable using a histogram."
      ],
      "metadata": {
        "id": "TZ9C0rtmhwms"
      }
    },
    {
      "cell_type": "code",
      "source": [
        "ax = sns.histplot(x = 'Valor', data = dataset, bins = 50, stat = 'density', kde = True)"
      ],
      "metadata": {
        "colab": {
          "base_uri": "https://localhost:8080/",
          "height": 290
        },
        "id": "VGDcb_I4huyL",
        "outputId": "9a32856e-9e96-4dac-a1bf-45582a4873bc"
      },
      "execution_count": 64,
      "outputs": [
        {
          "output_type": "display_data",
          "data": {
            "text/plain": [
              "<Figure size 432x288 with 1 Axes>"
            ],
            "image/png": "[encoded data removed]"
          },
          "metadata": {
            "needs_background": "light"
          }
        }
      ]
    },
    {
      "cell_type": "markdown",
      "source": [
        "Again, we see that the distribution for housing prices is very right-skewed. Looking at the histogram, the distribution looks a lot like an exponential distribution."
      ],
      "metadata": {
        "id": "iaEzjWmSiS5b"
      }
    },
    {
      "cell_type": "markdown",
      "source": [
        "However, note that many of our statistical tests and methods assume that the distribution of data follows a Normal. In that case, we can use transformations to make it so that our data shows a distribution closer to the Normal."
      ],
      "metadata": {
        "id": "YpOA-5J5ism8"
      }
    },
    {
      "cell_type": "markdown",
      "source": [
        "Finally, let's see how the explicative variables are related to the dependent variables. Thus, we will use a pairplot:"
      ],
      "metadata": {
        "id": "PSg3wzfVjKGQ"
      }
    },
    {
      "cell_type": "code",
      "source": [
        "ax = sns.pairplot(dataset, y_vars = ['Valor'], x_vars = ['Area', 'Dist_Praia', 'Dist_Farmacia'], kind = 'reg', plot_kws={'line_kws':{'color':'red'}})\n",
        "ax.figure.set_size_inches(12, 4)"
      ],
      "metadata": {
        "colab": {
          "base_uri": "https://localhost:8080/",
          "height": 271
        },
        "id": "Z2JG2SzwiLhk",
        "outputId": "0416269f-4229-4f28-9b15-807ed9a555aa"
      },
      "execution_count": 65,
      "outputs": [
        {
          "output_type": "display_data",
          "data": {
            "text/plain": [
              "<Figure size 864x288 with 3 Axes>"
            ],
            "image/png": "[encoded data removed]"
          },
          "metadata": {
            "needs_background": "light"
          }
        }
      ]
    },
    {
      "cell_type": "markdown",
      "source": [
        "We see that, as the area increases, the housing prices tend to increase. The opposite behavior is seen when we analyze the distance to the beach. The third feature, however, seems to present a very low influence in the housing prices.\n",
        "\n",
        "However, note that the features does not seem to present a linear association with the data. For instance, the scatter plot for the distance to the beach seems to present a descending exponential relation. Again, we can perform some transformations to make the association closer to a line."
      ],
      "metadata": {
        "id": "79c6QAa4jvix"
      }
    },
    {
      "cell_type": "markdown",
      "source": [
        "# Transformation of our features\n",
        "\n",
        "Now, let's perform transformations in our features. Most statistics assume that the distribution of our target feature follows a Normal and, as such, we should try to make it so that our response follows a Normal distribution (symmetric bell-shaped curve).\n",
        "\n",
        "This transformation is performed using the Numpy library:\n",
        "\n"
      ],
      "metadata": {
        "id": "BpCVi_RylNn0"
      }
    },
    {
      "cell_type": "code",
      "source": [
        "import numpy as np"
      ],
      "metadata": {
        "id": "mmam8hDMjhfZ"
      },
      "execution_count": 66,
      "outputs": []
    },
    {
      "cell_type": "markdown",
      "source": [
        "Now, how should we perform our transformation? Let's look again to how our target is distributed:"
      ],
      "metadata": {
        "id": "EP8lkxBplpFA"
      }
    },
    {
      "cell_type": "code",
      "source": [
        "ax = sns.histplot(x = 'Valor', data = dataset, bins = 50, stat = 'density', kde = True)"
      ],
      "metadata": {
        "colab": {
          "base_uri": "https://localhost:8080/",
          "height": 290
        },
        "id": "OGP-ZJEhloFe",
        "outputId": "50307df2-3fbe-436f-e7fb-dd70fbb066a1"
      },
      "execution_count": 67,
      "outputs": [
        {
          "output_type": "display_data",
          "data": {
            "text/plain": [
              "<Figure size 432x288 with 1 Axes>"
            ],
            "image/png": "[encoded data removed]"
          },
          "metadata": {
            "needs_background": "light"
          }
        }
      ]
    },
    {
      "cell_type": "markdown",
      "source": [
        "We said that this distribution looks a lot like a Exponential distribution, where there are higher frequencies in lower prices.\n",
        "\n",
        "Now, let's look how a negative logarithm function behaves:"
      ],
      "metadata": {
        "id": "dleV9EnAlzrL"
      }
    },
    {
      "cell_type": "code",
      "source": [
        "x = np.linspace(1, 100, num = 101)\n",
        "y = -np.log(x)\n",
        "\n",
        "sns.lineplot(x, y)"
      ],
      "metadata": {
        "colab": {
          "base_uri": "https://localhost:8080/",
          "height": 337
        },
        "id": "48HfPA1olyjl",
        "outputId": "6e3b214e-3e1f-4631-9885-49d048e71512"
      },
      "execution_count": 68,
      "outputs": [
        {
          "output_type": "stream",
          "name": "stderr",
          "text": [
            "/usr/local/lib/python3.7/dist-packages/seaborn/_decorators.py:43: FutureWarning: Pass the following variables as keyword args: x, y. From version 0.12, the only valid positional argument will be `data`, and passing other arguments without an explicit keyword will result in an error or misinterpretation.\n",
            "  FutureWarning\n"
          ]
        },
        {
          "output_type": "execute_result",
          "data": {
            "text/plain": [
              "<matplotlib.axes._subplots.AxesSubplot at 0x7f096469fd10>"
            ]
          },
          "metadata": {},
          "execution_count": 68
        },
        {
          "output_type": "display_data",
          "data": {
            "text/plain": [
              "<Figure size 432x288 with 1 Axes>"
            ],
            "image/png": "[encoded data removed]"
          },
          "metadata": {
            "needs_background": "light"
          }
        }
      ]
    },
    {
      "cell_type": "markdown",
      "source": [
        "It looks a lot like the distribution of our variable! \n",
        "\n",
        "Let's start performing our variable transformation. First transforming our target:"
      ],
      "metadata": {
        "id": "vgmXiRFPmi_8"
      }
    },
    {
      "cell_type": "code",
      "source": [
        "dataset['log_Valor'] = np.log(dataset.Valor)\n",
        "dataset.head( )"
      ],
      "metadata": {
        "colab": {
          "base_uri": "https://localhost:8080/",
          "height": 206
        },
        "id": "fYMj2gyQmTCW",
        "outputId": "92b272e5-6be3-4d51-aafe-687bbcbd8360"
      },
      "execution_count": 69,
      "outputs": [
        {
          "output_type": "execute_result",
          "data": {
            "text/plain": [
              "     Valor  Area  Dist_Praia  Dist_Farmacia  log_Valor\n",
              "0  4600000   280    0.240925       0.793637  15.341567\n",
              "1   900000   208    0.904136       0.134494  13.710150\n",
              "2  2550000   170    0.059525       0.423318  14.751604\n",
              "3   550000   100    2.883181       0.525064  13.217674\n",
              "4  2200000   164    0.239758       0.192374  14.603968"
            ],
            "text/html": [
              "\n",
              "  <div id=\"df-043e55e3-f9b9-4bb3-9c96-03d517cc478f\">\n",
              "    <div class=\"colab-df-container\">\n",
              "      <div>\n",
              "<style scoped>\n",
              "    .dataframe tbody tr th:only-of-type {\n",
              "        vertical-align: middle;\n",
              "    }\n",
              "\n",
              "    .dataframe tbody tr th {\n",
              "        vertical-align: top;\n",
              "    }\n",
              "\n",
              "    .dataframe thead th {\n",
              "        text-align: right;\n",
              "    }\n",
              "</style>\n",
              "<table border=\"1\" class=\"dataframe\">\n",
              "  <thead>\n",
              "    <tr style=\"text-align: right;\">\n",
              "      <th></th>\n",
              "      <th>Valor</th>\n",
              "      <th>Area</th>\n",
              "      <th>Dist_Praia</th>\n",
              "      <th>Dist_Farmacia</th>\n",
              "      <th>log_Valor</th>\n",
              "    </tr>\n",
              "  </thead>\n",
              "  <tbody>\n",
              "    <tr>\n",
              "      <th>0</th>\n",
              "      <td>4600000</td>\n",
              "      <td>280</td>\n",
              "      <td>0.240925</td>\n",
              "      <td>0.793637</td>\n",
              "      <td>15.341567</td>\n",
              "    </tr>\n",
              "    <tr>\n",
              "      <th>1</th>\n",
              "      <td>900000</td>\n",
              "      <td>208</td>\n",
              "      <td>0.904136</td>\n",
              "      <td>0.134494</td>\n",
              "      <td>13.710150</td>\n",
              "    </tr>\n",
              "    <tr>\n",
              "      <th>2</th>\n",
              "      <td>2550000</td>\n",
              "      <td>170</td>\n",
              "      <td>0.059525</td>\n",
              "      <td>0.423318</td>\n",
              "      <td>14.751604</td>\n",
              "    </tr>\n",
              "    <tr>\n",
              "      <th>3</th>\n",
              "      <td>550000</td>\n",
              "      <td>100</td>\n",
              "      <td>2.883181</td>\n",
              "      <td>0.525064</td>\n",
              "      <td>13.217674</td>\n",
              "    </tr>\n",
              "    <tr>\n",
              "      <th>4</th>\n",
              "      <td>2200000</td>\n",
              "      <td>164</td>\n",
              "      <td>0.239758</td>\n",
              "      <td>0.192374</td>\n",
              "      <td>14.603968</td>\n",
              "    </tr>\n",
              "  </tbody>\n",
              "</table>\n",
              "</div>\n",
              "      <button class=\"colab-df-convert\" onclick=\"convertToInteractive('df-043e55e3-f9b9-4bb3-9c96-03d517cc478f')\"\n",
              "              title=\"Convert this dataframe to an interactive table.\"\n",
              "              style=\"display:none;\">\n",
              "        \n",
              "  <svg xmlns=\"http://www.w3.org/2000/svg\" height=\"24px\"viewBox=\"0 0 24 24\"\n",
              "       width=\"24px\">\n",
              "    <path d=\"M0 0h24v24H0V0z\" fill=\"none\"/>\n",
              "    <path d=\"M18.56 5.44l.94 2.06.94-2.06 2.06-.94-2.06-.94-.94-2.06-.94 2.06-2.06.94zm-11 1L8.5 8.5l.94-2.06 2.06-.94-2.06-.94L8.5 2.5l-.94 2.06-2.06.94zm10 10l.94 2.06.94-2.06 2.06-.94-2.06-.94-.94-2.06-.94 2.06-2.06.94z\"/><path d=\"M17.41 7.96l-1.37-1.37c-.4-.4-.92-.59-1.43-.59-.52 0-1.04.2-1.43.59L10.3 9.45l-7.72 7.72c-.78.78-.78 2.05 0 2.83L4 21.41c.39.39.9.59 1.41.59.51 0 1.02-.2 1.41-.59l7.78-7.78 2.81-2.81c.8-.78.8-2.07 0-2.86zM5.41 20L4 18.59l7.72-7.72 1.47 1.35L5.41 20z\"/>\n",
              "  </svg>\n",
              "      </button>\n",
              "      \n",
              "  <style>\n",
              "    .colab-df-container {\n",
              "      display:flex;\n",
              "      flex-wrap:wrap;\n",
              "      gap: 12px;\n",
              "    }\n",
              "\n",
              "    .colab-df-convert {\n",
              "      background-color: #E8F0FE;\n",
              "      border: none;\n",
              "      border-radius: 50%;\n",
              "      cursor: pointer;\n",
              "      display: none;\n",
              "      fill: #1967D2;\n",
              "      height: 32px;\n",
              "      padding: 0 0 0 0;\n",
              "      width: 32px;\n",
              "    }\n",
              "\n",
              "    .colab-df-convert:hover {\n",
              "      background-color: #E2EBFA;\n",
              "      box-shadow: 0px 1px 2px rgba(60, 64, 67, 0.3), 0px 1px 3px 1px rgba(60, 64, 67, 0.15);\n",
              "      fill: #174EA6;\n",
              "    }\n",
              "\n",
              "    [theme=dark] .colab-df-convert {\n",
              "      background-color: #3B4455;\n",
              "      fill: #D2E3FC;\n",
              "    }\n",
              "\n",
              "    [theme=dark] .colab-df-convert:hover {\n",
              "      background-color: #434B5C;\n",
              "      box-shadow: 0px 1px 3px 1px rgba(0, 0, 0, 0.15);\n",
              "      filter: drop-shadow(0px 1px 2px rgba(0, 0, 0, 0.3));\n",
              "      fill: #FFFFFF;\n",
              "    }\n",
              "  </style>\n",
              "\n",
              "      <script>\n",
              "        const buttonEl =\n",
              "          document.querySelector('#df-043e55e3-f9b9-4bb3-9c96-03d517cc478f button.colab-df-convert');\n",
              "        buttonEl.style.display =\n",
              "          google.colab.kernel.accessAllowed ? 'block' : 'none';\n",
              "\n",
              "        async function convertToInteractive(key) {\n",
              "          const element = document.querySelector('#df-043e55e3-f9b9-4bb3-9c96-03d517cc478f');\n",
              "          const dataTable =\n",
              "            await google.colab.kernel.invokeFunction('convertToInteractive',\n",
              "                                                     [key], {});\n",
              "          if (!dataTable) return;\n",
              "\n",
              "          const docLinkHtml = 'Like what you see? Visit the ' +\n",
              "            '<a target=\"_blank\" href=https://colab.research.google.com/notebooks/data_table.ipynb>data table notebook</a>'\n",
              "            + ' to learn more about interactive tables.';\n",
              "          element.innerHTML = '';\n",
              "          dataTable['output_type'] = 'display_data';\n",
              "          await google.colab.output.renderOutput(dataTable, element);\n",
              "          const docLink = document.createElement('div');\n",
              "          docLink.innerHTML = docLinkHtml;\n",
              "          element.appendChild(docLink);\n",
              "        }\n",
              "      </script>\n",
              "    </div>\n",
              "  </div>\n",
              "  "
            ]
          },
          "metadata": {},
          "execution_count": 69
        }
      ]
    },
    {
      "cell_type": "code",
      "source": [
        "ax = sns.histplot(x = 'log_Valor', data = dataset, bins = 50, stat = 'density', kde = True)"
      ],
      "metadata": {
        "colab": {
          "base_uri": "https://localhost:8080/",
          "height": 280
        },
        "id": "rCGGMdMynDf2",
        "outputId": "039501a0-05bd-4aba-eae9-e842a941e19a"
      },
      "execution_count": 70,
      "outputs": [
        {
          "output_type": "display_data",
          "data": {
            "text/plain": [
              "<Figure size 432x288 with 1 Axes>"
            ],
            "image/png": "[encoded data removed]"
          },
          "metadata": {
            "needs_background": "light"
          }
        }
      ]
    },
    {
      "cell_type": "markdown",
      "source": [
        "Nice! Our target is now much closer to a Normal distribution!\n",
        "\n",
        "Now, we are going to perform the same transformation to our features.\n",
        "\n",
        "Note that the logarithm function is not defined for $x = 0$. However, we have some values of our dataset with a 0 value (when houses are very close to the beach or to a drugstore). Thus, we have to perform a pre-transformation before taking the log. In this case, we will sum $1$ to the entire feature. Note that this does not change the distribution of the feature itself!"
      ],
      "metadata": {
        "id": "eLNQTBcGniQD"
      }
    },
    {
      "cell_type": "code",
      "source": [
        "dataset['log_Area'] = np.log(dataset.Area)\n",
        "dataset['log_Dist_Praia'] = np.log(dataset.Dist_Praia + 1)\n",
        "dataset['log_Dist_Farmacia'] = np.log(dataset.Dist_Farmacia + 1)\n",
        "\n",
        "dataset.head( )"
      ],
      "metadata": {
        "colab": {
          "base_uri": "https://localhost:8080/",
          "height": 206
        },
        "id": "omxcTputnMJn",
        "outputId": "e98a9216-9066-4f54-b4c6-142d91d9c3fa"
      },
      "execution_count": 71,
      "outputs": [
        {
          "output_type": "execute_result",
          "data": {
            "text/plain": [
              "     Valor  Area  Dist_Praia  Dist_Farmacia  log_Valor  log_Area  \\\n",
              "0  4600000   280    0.240925       0.793637  15.341567  5.634790   \n",
              "1   900000   208    0.904136       0.134494  13.710150  5.337538   \n",
              "2  2550000   170    0.059525       0.423318  14.751604  5.135798   \n",
              "3   550000   100    2.883181       0.525064  13.217674  4.605170   \n",
              "4  2200000   164    0.239758       0.192374  14.603968  5.099866   \n",
              "\n",
              "   log_Dist_Praia  log_Dist_Farmacia  \n",
              "0        0.215857           0.584245  \n",
              "1        0.644028           0.126187  \n",
              "2        0.057821           0.352991  \n",
              "3        1.356655           0.422036  \n",
              "4        0.214916           0.175946  "
            ],
            "text/html": [
              "\n",
              "  <div id=\"df-5c981077-7668-4313-9a93-f57b4bc0cc66\">\n",
              "    <div class=\"colab-df-container\">\n",
              "      <div>\n",
              "<style scoped>\n",
              "    .dataframe tbody tr th:only-of-type {\n",
              "        vertical-align: middle;\n",
              "    }\n",
              "\n",
              "    .dataframe tbody tr th {\n",
              "        vertical-align: top;\n",
              "    }\n",
              "\n",
              "    .dataframe thead th {\n",
              "        text-align: right;\n",
              "    }\n",
              "</style>\n",
              "<table border=\"1\" class=\"dataframe\">\n",
              "  <thead>\n",
              "    <tr style=\"text-align: right;\">\n",
              "      <th></th>\n",
              "      <th>Valor</th>\n",
              "      <th>Area</th>\n",
              "      <th>Dist_Praia</th>\n",
              "      <th>Dist_Farmacia</th>\n",
              "      <th>log_Valor</th>\n",
              "      <th>log_Area</th>\n",
              "      <th>log_Dist_Praia</th>\n",
              "      <th>log_Dist_Farmacia</th>\n",
              "    </tr>\n",
              "  </thead>\n",
              "  <tbody>\n",
              "    <tr>\n",
              "      <th>0</th>\n",
              "      <td>4600000</td>\n",
              "      <td>280</td>\n",
              "      <td>0.240925</td>\n",
              "      <td>0.793637</td>\n",
              "      <td>15.341567</td>\n",
              "      <td>5.634790</td>\n",
              "      <td>0.215857</td>\n",
              "      <td>0.584245</td>\n",
              "    </tr>\n",
              "    <tr>\n",
              "      <th>1</th>\n",
              "      <td>900000</td>\n",
              "      <td>208</td>\n",
              "      <td>0.904136</td>\n",
              "      <td>0.134494</td>\n",
              "      <td>13.710150</td>\n",
              "      <td>5.337538</td>\n",
              "      <td>0.644028</td>\n",
              "      <td>0.126187</td>\n",
              "    </tr>\n",
              "    <tr>\n",
              "      <th>2</th>\n",
              "      <td>2550000</td>\n",
              "      <td>170</td>\n",
              "      <td>0.059525</td>\n",
              "      <td>0.423318</td>\n",
              "      <td>14.751604</td>\n",
              "      <td>5.135798</td>\n",
              "      <td>0.057821</td>\n",
              "      <td>0.352991</td>\n",
              "    </tr>\n",
              "    <tr>\n",
              "      <th>3</th>\n",
              "      <td>550000</td>\n",
              "      <td>100</td>\n",
              "      <td>2.883181</td>\n",
              "      <td>0.525064</td>\n",
              "      <td>13.217674</td>\n",
              "      <td>4.605170</td>\n",
              "      <td>1.356655</td>\n",
              "      <td>0.422036</td>\n",
              "    </tr>\n",
              "    <tr>\n",
              "      <th>4</th>\n",
              "      <td>2200000</td>\n",
              "      <td>164</td>\n",
              "      <td>0.239758</td>\n",
              "      <td>0.192374</td>\n",
              "      <td>14.603968</td>\n",
              "      <td>5.099866</td>\n",
              "      <td>0.214916</td>\n",
              "      <td>0.175946</td>\n",
              "    </tr>\n",
              "  </tbody>\n",
              "</table>\n",
              "</div>\n",
              "      <button class=\"colab-df-convert\" onclick=\"convertToInteractive('df-5c981077-7668-4313-9a93-f57b4bc0cc66')\"\n",
              "              title=\"Convert this dataframe to an interactive table.\"\n",
              "              style=\"display:none;\">\n",
              "        \n",
              "  <svg xmlns=\"http://www.w3.org/2000/svg\" height=\"24px\"viewBox=\"0 0 24 24\"\n",
              "       width=\"24px\">\n",
              "    <path d=\"M0 0h24v24H0V0z\" fill=\"none\"/>\n",
              "    <path d=\"M18.56 5.44l.94 2.06.94-2.06 2.06-.94-2.06-.94-.94-2.06-.94 2.06-2.06.94zm-11 1L8.5 8.5l.94-2.06 2.06-.94-2.06-.94L8.5 2.5l-.94 2.06-2.06.94zm10 10l.94 2.06.94-2.06 2.06-.94-2.06-.94-.94-2.06-.94 2.06-2.06.94z\"/><path d=\"M17.41 7.96l-1.37-1.37c-.4-.4-.92-.59-1.43-.59-.52 0-1.04.2-1.43.59L10.3 9.45l-7.72 7.72c-.78.78-.78 2.05 0 2.83L4 21.41c.39.39.9.59 1.41.59.51 0 1.02-.2 1.41-.59l7.78-7.78 2.81-2.81c.8-.78.8-2.07 0-2.86zM5.41 20L4 18.59l7.72-7.72 1.47 1.35L5.41 20z\"/>\n",
              "  </svg>\n",
              "      </button>\n",
              "      \n",
              "  <style>\n",
              "    .colab-df-container {\n",
              "      display:flex;\n",
              "      flex-wrap:wrap;\n",
              "      gap: 12px;\n",
              "    }\n",
              "\n",
              "    .colab-df-convert {\n",
              "      background-color: #E8F0FE;\n",
              "      border: none;\n",
              "      border-radius: 50%;\n",
              "      cursor: pointer;\n",
              "      display: none;\n",
              "      fill: #1967D2;\n",
              "      height: 32px;\n",
              "      padding: 0 0 0 0;\n",
              "      width: 32px;\n",
              "    }\n",
              "\n",
              "    .colab-df-convert:hover {\n",
              "      background-color: #E2EBFA;\n",
              "      box-shadow: 0px 1px 2px rgba(60, 64, 67, 0.3), 0px 1px 3px 1px rgba(60, 64, 67, 0.15);\n",
              "      fill: #174EA6;\n",
              "    }\n",
              "\n",
              "    [theme=dark] .colab-df-convert {\n",
              "      background-color: #3B4455;\n",
              "      fill: #D2E3FC;\n",
              "    }\n",
              "\n",
              "    [theme=dark] .colab-df-convert:hover {\n",
              "      background-color: #434B5C;\n",
              "      box-shadow: 0px 1px 3px 1px rgba(0, 0, 0, 0.15);\n",
              "      filter: drop-shadow(0px 1px 2px rgba(0, 0, 0, 0.3));\n",
              "      fill: #FFFFFF;\n",
              "    }\n",
              "  </style>\n",
              "\n",
              "      <script>\n",
              "        const buttonEl =\n",
              "          document.querySelector('#df-5c981077-7668-4313-9a93-f57b4bc0cc66 button.colab-df-convert');\n",
              "        buttonEl.style.display =\n",
              "          google.colab.kernel.accessAllowed ? 'block' : 'none';\n",
              "\n",
              "        async function convertToInteractive(key) {\n",
              "          const element = document.querySelector('#df-5c981077-7668-4313-9a93-f57b4bc0cc66');\n",
              "          const dataTable =\n",
              "            await google.colab.kernel.invokeFunction('convertToInteractive',\n",
              "                                                     [key], {});\n",
              "          if (!dataTable) return;\n",
              "\n",
              "          const docLinkHtml = 'Like what you see? Visit the ' +\n",
              "            '<a target=\"_blank\" href=https://colab.research.google.com/notebooks/data_table.ipynb>data table notebook</a>'\n",
              "            + ' to learn more about interactive tables.';\n",
              "          element.innerHTML = '';\n",
              "          dataTable['output_type'] = 'display_data';\n",
              "          await google.colab.output.renderOutput(dataTable, element);\n",
              "          const docLink = document.createElement('div');\n",
              "          docLink.innerHTML = docLinkHtml;\n",
              "          element.appendChild(docLink);\n",
              "        }\n",
              "      </script>\n",
              "    </div>\n",
              "  </div>\n",
              "  "
            ]
          },
          "metadata": {},
          "execution_count": 71
        }
      ]
    },
    {
      "cell_type": "markdown",
      "source": [
        "Nice! It seems to have worked out.\n",
        "\n",
        "Now, let's verify if there is a linear association between the transformed features and the transformed variables:"
      ],
      "metadata": {
        "id": "VpROdzjYouCc"
      }
    },
    {
      "cell_type": "code",
      "source": [
        "ax = sns.pairplot(dataset, y_vars = ['log_Valor'], x_vars = ['log_Area', 'log_Dist_Praia', 'log_Dist_Farmacia'], kind = 'reg', plot_kws={'line_kws':{'color':'red'}})"
      ],
      "metadata": {
        "colab": {
          "base_uri": "https://localhost:8080/",
          "height": 197
        },
        "id": "5CwVtXO6pbJ7",
        "outputId": "ad792c84-e3c2-4390-b149-170dd28fb87e"
      },
      "execution_count": 72,
      "outputs": [
        {
          "output_type": "display_data",
          "data": {
            "text/plain": [
              "<Figure size 540x180 with 3 Axes>"
            ],
            "image/png": "[encoded data removed]"
          },
          "metadata": {
            "needs_background": "light"
          }
        }
      ]
    },
    {
      "cell_type": "markdown",
      "source": [
        "Nice! Now we can see a more clear linear association between log_Area and log_Dist_Praia with our new transformed target! However, once again, we see no clear linear association between log_Dist_Farmacia and log_Valor. Finally, let's check again the correlation matrix:"
      ],
      "metadata": {
        "id": "dnQceTtJpiDd"
      }
    },
    {
      "cell_type": "code",
      "source": [
        "sns.heatmap(dataset[['log_Valor', 'log_Area', 'log_Dist_Praia', 'log_Dist_Farmacia']].corr( ), annot = True, cmap = 'crest')"
      ],
      "metadata": {
        "colab": {
          "base_uri": "https://localhost:8080/",
          "height": 367
        },
        "id": "fEpNFSLip7zT",
        "outputId": "13231707-8f39-4dcf-e983-f39d256b3eaf"
      },
      "execution_count": 73,
      "outputs": [
        {
          "output_type": "execute_result",
          "data": {
            "text/plain": [
              "<matplotlib.axes._subplots.AxesSubplot at 0x7f0964387d50>"
            ]
          },
          "metadata": {},
          "execution_count": 73
        },
        {
          "output_type": "display_data",
          "data": {
            "text/plain": [
              "<Figure size 432x288 with 2 Axes>"
            ],
            "image/png": "[encoded data removed]"
          },
          "metadata": {
            "needs_background": "light"
          }
        }
      ]
    },
    {
      "cell_type": "markdown",
      "source": [
        "We see that, taking the absolute value, the correlation between log_Area and log_Dist_Praia with log_Valor is much higher!"
      ],
      "metadata": {
        "id": "HwwfPGD-qHLY"
      }
    },
    {
      "cell_type": "markdown",
      "source": [
        "**Note that we can only transform the target and the features using the logarithm because it is a monotonic function. This means that, if we have a lower value, the logarithm ALWAYS brings a higher value, and if we have a higher value, the logarithm ALWAYS brings a lower value. Functions that do not share this property can not be used to transform a variable.**"
      ],
      "metadata": {
        "id": "U5ChgSpNoHH4"
      }
    },
    {
      "cell_type": "markdown",
      "source": [
        "# Performing our linear regression\n",
        "\n",
        "Now that we have transformed our variables, we will now perform our linear regression. Here, we create our model using two different libraries: statsmodels and scikit-learn. \n",
        "\n",
        "Before going further into model fitting, we will first define our train-test split.\n",
        "\n"
      ],
      "metadata": {
        "id": "mIk6yJyCqhVv"
      }
    },
    {
      "cell_type": "code",
      "source": [
        "from sklearn.model_selection import train_test_split"
      ],
      "metadata": {
        "id": "eToGdfa7obtb"
      },
      "execution_count": 74,
      "outputs": []
    },
    {
      "cell_type": "markdown",
      "source": [
        "Now, let's define our target and our features:"
      ],
      "metadata": {
        "id": "M8m_bYj6rYdf"
      }
    },
    {
      "cell_type": "code",
      "source": [
        "y = dataset.log_Valor\n",
        "X = dataset[['log_Area', 'log_Dist_Praia', 'log_Dist_Farmacia']]"
      ],
      "metadata": {
        "id": "LqUr2GRlrMBM"
      },
      "execution_count": 75,
      "outputs": []
    },
    {
      "cell_type": "markdown",
      "source": [
        "Then, let's perform our train-test split:"
      ],
      "metadata": {
        "id": "MY43NpxVrdNb"
      }
    },
    {
      "cell_type": "code",
      "source": [
        "X_train, X_test, y_train, y_test = train_test_split(X, y, test_size = 0.2, random_state = 2811)"
      ],
      "metadata": {
        "id": "OSHPgz40rck3"
      },
      "execution_count": 76,
      "outputs": []
    },
    {
      "cell_type": "markdown",
      "source": [
        "Now, let's continue to build our regression. Note that we are building a regression from the logarithm of our features and target. Thus, in fact, we are building a log-linear model:\n",
        "\n",
        "https://en.wikipedia.org/wiki/Log-linear_model"
      ],
      "metadata": {
        "id": "cvngfxaPsmoZ"
      }
    },
    {
      "cell_type": "markdown",
      "source": [
        "## Statsmodels\n",
        "\n",
        "Now, let's define a linear regression of our transformed variables. First, we are going to import statsmodels:\n",
        "\n"
      ],
      "metadata": {
        "id": "AkyEK_03r7I2"
      }
    },
    {
      "cell_type": "code",
      "source": [
        "import statsmodels.api as sm"
      ],
      "metadata": {
        "id": "i8r_QDJyrztb"
      },
      "execution_count": 77,
      "outputs": []
    },
    {
      "cell_type": "markdown",
      "source": [
        "Now, we are going to define our model:"
      ],
      "metadata": {
        "id": "1VEuWd5Ys4BC"
      }
    },
    {
      "cell_type": "code",
      "source": [
        "y_f = y_train\n",
        "X_f = sm.add_constant(X_train)"
      ],
      "metadata": {
        "colab": {
          "base_uri": "https://localhost:8080/"
        },
        "id": "0ZwEjY3_s0aP",
        "outputId": "31245dd3-4687-44e3-e545-4f6622b0ae89"
      },
      "execution_count": 78,
      "outputs": [
        {
          "output_type": "stream",
          "name": "stderr",
          "text": [
            "/usr/local/lib/python3.7/dist-packages/statsmodels/tsa/tsatools.py:117: FutureWarning: In a future version of pandas all arguments of concat except for the argument 'objs' will be keyword-only\n",
            "  x = pd.concat(x[::order], 1)\n"
          ]
        }
      ]
    },
    {
      "cell_type": "code",
      "source": [
        "model_sm = sm.OLS(y_f, X_f, hasconst = True).fit( )"
      ],
      "metadata": {
        "id": "Dzv4yaqftERG"
      },
      "execution_count": 79,
      "outputs": []
    },
    {
      "cell_type": "markdown",
      "source": [
        "Nice! Now, let's see a summary for our model, with different test-statistics:"
      ],
      "metadata": {
        "id": "H6E4v4TItX8G"
      }
    },
    {
      "cell_type": "code",
      "source": [
        "print(model_sm.summary( ))"
      ],
      "metadata": {
        "colab": {
          "base_uri": "https://localhost:8080/"
        },
        "id": "-MneyNYwtWZC",
        "outputId": "9e8a03b6-97b4-4b0a-9d92-3722b77db0cc"
      },
      "execution_count": 80,
      "outputs": [
        {
          "output_type": "stream",
          "name": "stdout",
          "text": [
            "                            OLS Regression Results                            \n",
            "==============================================================================\n",
            "Dep. Variable:              log_Valor   R-squared:                       0.805\n",
            "Model:                            OLS   Adj. R-squared:                  0.805\n",
            "Method:                 Least Squares   F-statistic:                     5495.\n",
            "Date:                Sun, 29 May 2022   Prob (F-statistic):               0.00\n",
            "Time:                        12:23:32   Log-Likelihood:                -2044.9\n",
            "No. Observations:                4000   AIC:                             4098.\n",
            "Df Residuals:                    3996   BIC:                             4123.\n",
            "Df Model:                           3                                         \n",
            "Covariance Type:            nonrobust                                         \n",
            "=====================================================================================\n",
            "                        coef    std err          t      P>|t|      [0.025      0.975]\n",
            "-------------------------------------------------------------------------------------\n",
            "const                 9.3417      0.060    154.734      0.000       9.223       9.460\n",
            "log_Area              1.0580      0.012     89.320      0.000       1.035       1.081\n",
            "log_Dist_Praia       -0.4905      0.009    -56.690      0.000      -0.508      -0.474\n",
            "log_Dist_Farmacia    -0.0167      0.032     -0.521      0.603      -0.080       0.046\n",
            "==============================================================================\n",
            "Omnibus:                       64.751   Durbin-Watson:                   1.971\n",
            "Prob(Omnibus):                  0.000   Jarque-Bera (JB):              106.858\n",
            "Skew:                           0.136   Prob(JB):                     6.25e-24\n",
            "Kurtosis:                       3.753   Cond. No.                         47.6\n",
            "==============================================================================\n",
            "\n",
            "Warnings:\n",
            "[1] Standard Errors assume that the covariance matrix of the errors is correctly specified.\n"
          ]
        }
      ]
    },
    {
      "cell_type": "markdown",
      "source": [
        "Now, let's discuss a little about some test-statistics. \n",
        "\n",
        "The F-test tests the hypothesis that the model parameters do not represent the target feature well, which means that the model is not good. It tests all parameters at once, and, if *Prob(F-statistic)* is higher than the test significance, we could accept the null hypothesis. However, since *Prob(F-statistic)*$\\approx 0.0$, we reject this hypothesis.\n",
        "\n",
        "However, let's look to each variable by itself. Here, we can see for $P > |t|$, or for the confidence interval. Considering a test significance of 5%, we not the $P > |t|$ is much higher for log_Dist_Farmacia. This means that the feature is not helping the model to predict the target. We can reach the same conclusion by seeing that the confidence interval encompasses the 0 value, which means that the coefficient for this feature could be 0."
      ],
      "metadata": {
        "id": "FK773XauuciE"
      }
    },
    {
      "cell_type": "markdown",
      "source": [
        "Let's try to define the model once again, now taking the Dist_Farmacia out of our model:"
      ],
      "metadata": {
        "id": "Y-81Cbm2wTKG"
      }
    },
    {
      "cell_type": "code",
      "source": [
        "X_up = dataset[['log_Area', 'log_Dist_Praia']]\n",
        "\n",
        "X_train, X_test, y_train, y_test = train_test_split(X_up, y, test_size = 0.2, random_state = 2811)\n",
        "\n",
        "y_f = y_train\n",
        "X_f = sm.add_constant(X_train)\n",
        "model_sm = sm.OLS(y_f, X_f, hasconst = True).fit( )"
      ],
      "metadata": {
        "colab": {
          "base_uri": "https://localhost:8080/"
        },
        "id": "etDEv7WNutFR",
        "outputId": "f61f0a34-9b87-4a87-b00b-af3c42fe08c8"
      },
      "execution_count": 81,
      "outputs": [
        {
          "output_type": "stream",
          "name": "stderr",
          "text": [
            "/usr/local/lib/python3.7/dist-packages/statsmodels/tsa/tsatools.py:117: FutureWarning: In a future version of pandas all arguments of concat except for the argument 'objs' will be keyword-only\n",
            "  x = pd.concat(x[::order], 1)\n"
          ]
        }
      ]
    },
    {
      "cell_type": "markdown",
      "source": [
        "Now, let's get a summary for our model:"
      ],
      "metadata": {
        "id": "YNGX40Ejw-dj"
      }
    },
    {
      "cell_type": "code",
      "source": [
        "print(model_sm.summary( ))"
      ],
      "metadata": {
        "colab": {
          "base_uri": "https://localhost:8080/"
        },
        "id": "yYMR61KmwjIr",
        "outputId": "bf08d3b5-6011-40a9-f21a-a6b40d2a6fd9"
      },
      "execution_count": 82,
      "outputs": [
        {
          "output_type": "stream",
          "name": "stdout",
          "text": [
            "                            OLS Regression Results                            \n",
            "==============================================================================\n",
            "Dep. Variable:              log_Valor   R-squared:                       0.805\n",
            "Model:                            OLS   Adj. R-squared:                  0.805\n",
            "Method:                 Least Squares   F-statistic:                     8244.\n",
            "Date:                Sun, 29 May 2022   Prob (F-statistic):               0.00\n",
            "Time:                        12:23:32   Log-Likelihood:                -2045.1\n",
            "No. Observations:                4000   AIC:                             4096.\n",
            "Df Residuals:                    3997   BIC:                             4115.\n",
            "Df Model:                           2                                         \n",
            "Covariance Type:            nonrobust                                         \n",
            "==================================================================================\n",
            "                     coef    std err          t      P>|t|      [0.025      0.975]\n",
            "----------------------------------------------------------------------------------\n",
            "const              9.3349      0.059    158.353      0.000       9.219       9.450\n",
            "log_Area           1.0581      0.012     89.345      0.000       1.035       1.081\n",
            "log_Dist_Praia    -0.4906      0.009    -56.709      0.000      -0.508      -0.474\n",
            "==============================================================================\n",
            "Omnibus:                       65.115   Durbin-Watson:                   1.972\n",
            "Prob(Omnibus):                  0.000   Jarque-Bera (JB):              107.712\n",
            "Skew:                           0.136   Prob(JB):                     4.08e-24\n",
            "Kurtosis:                       3.757   Cond. No.                         46.1\n",
            "==============================================================================\n",
            "\n",
            "Warnings:\n",
            "[1] Standard Errors assume that the covariance matrix of the errors is correctly specified.\n"
          ]
        }
      ]
    },
    {
      "cell_type": "markdown",
      "source": [
        "Note that, even though we now have less explicative parameters, our $R^2$ stayed the same! That shows that the feature log_Dist_Farmacia was not helping to explain our variable."
      ],
      "metadata": {
        "id": "dZsiGLlOy1Qe"
      }
    },
    {
      "cell_type": "markdown",
      "source": [
        "## Scikit-learn\n",
        "\n",
        "Now, we are going to fit our model using the scikit-learn package which is very popular for Data Science. First, importing the library:"
      ],
      "metadata": {
        "id": "D2easg01zUtG"
      }
    },
    {
      "cell_type": "code",
      "source": [
        "from sklearn.linear_model import LinearRegression"
      ],
      "metadata": {
        "id": "LxZre1NcxKhw"
      },
      "execution_count": 83,
      "outputs": []
    },
    {
      "cell_type": "markdown",
      "source": [
        "Now, we instance an object of class LinearRegression:"
      ],
      "metadata": {
        "id": "oPhvJfqyzpzw"
      }
    },
    {
      "cell_type": "code",
      "source": [
        "model_sk = LinearRegression( )"
      ],
      "metadata": {
        "id": "LwiEH8kLzpKg"
      },
      "execution_count": 84,
      "outputs": []
    },
    {
      "cell_type": "markdown",
      "source": [
        "And, finally, we fit the model:"
      ],
      "metadata": {
        "id": "Z5Nc5h7BzwiQ"
      }
    },
    {
      "cell_type": "code",
      "source": [
        "model_sk.fit(X_train, y_train)"
      ],
      "metadata": {
        "colab": {
          "base_uri": "https://localhost:8080/",
          "height": 166
        },
        "id": "JobnpjR6zv4q",
        "outputId": "ff8a0704-6543-43f6-8da1-11a5daf87698"
      },
      "execution_count": 89,
      "outputs": [
        {
          "output_type": "error",
          "ename": "AttributeError",
          "evalue": "ignored",
          "traceback": [
            "\u001b[0;31m---------------------------------------------------------------------------\u001b[0m",
            "\u001b[0;31mAttributeError\u001b[0m                            Traceback (most recent call last)",
            "\u001b[0;32m<ipython-input-89-dbc1541c04a6>\u001b[0m in \u001b[0;36m<module>\u001b[0;34m()\u001b[0m\n\u001b[0;32m----> 1\u001b[0;31m \u001b[0mmodel_sk\u001b[0m\u001b[0;34m.\u001b[0m\u001b[0mfit\u001b[0m\u001b[0;34m(\u001b[0m\u001b[0mX_train\u001b[0m\u001b[0;34m,\u001b[0m \u001b[0my_train\u001b[0m\u001b[0;34m)\u001b[0m\u001b[0;34m.\u001b[0m\u001b[0mround\u001b[0m\u001b[0;34m(\u001b[0m\u001b[0;36m3\u001b[0m\u001b[0;34m)\u001b[0m\u001b[0;34m\u001b[0m\u001b[0;34m\u001b[0m\u001b[0m\n\u001b[0m",
            "\u001b[0;31mAttributeError\u001b[0m: 'LinearRegression' object has no attribute 'round'"
          ]
        }
      ]
    },
    {
      "cell_type": "markdown",
      "source": [
        "Now, let's show the $R^2$ for the sklearn model:"
      ],
      "metadata": {
        "id": "daQKr9btz5H1"
      }
    },
    {
      "cell_type": "code",
      "source": [
        "model_sk.score(X_train, y_train).round(3)"
      ],
      "metadata": {
        "colab": {
          "base_uri": "https://localhost:8080/"
        },
        "id": "lhIMT8AWz1BI",
        "outputId": "e4c5740b-a848-4445-a350-c910a6d8c89a"
      },
      "execution_count": 90,
      "outputs": [
        {
          "output_type": "execute_result",
          "data": {
            "text/plain": [
              "0.805"
            ]
          },
          "metadata": {},
          "execution_count": 90
        }
      ]
    },
    {
      "cell_type": "markdown",
      "source": [
        "Nice! We got the same $R^2$ as before. \n",
        "\n",
        "Now, let's try to evaluate the $R^2$ for the test data:"
      ],
      "metadata": {
        "id": "Ppvq_sCY0IF_"
      }
    },
    {
      "cell_type": "code",
      "source": [
        "model_sk.score(X_test, y_test).round(3)"
      ],
      "metadata": {
        "colab": {
          "base_uri": "https://localhost:8080/"
        },
        "id": "2d26ZWMvz-Kd",
        "outputId": "7c9dd170-3612-42ef-b8d5-1993bfcb2a13"
      },
      "execution_count": 94,
      "outputs": [
        {
          "output_type": "execute_result",
          "data": {
            "text/plain": [
              "0.79"
            ]
          },
          "metadata": {},
          "execution_count": 94
        }
      ]
    },
    {
      "cell_type": "markdown",
      "source": [
        "We can also see this result using:"
      ],
      "metadata": {
        "id": "FzGdpupm0Wrh"
      }
    },
    {
      "cell_type": "code",
      "source": [
        "from sklearn import metrics\n",
        "\n",
        "y_pred = model_sk.predict(X_test)\n",
        "\n",
        "metrics.r2_score(y_test, y_pred).round(3)\n"
      ],
      "metadata": {
        "colab": {
          "base_uri": "https://localhost:8080/"
        },
        "id": "6M4Yl_Ql0TOK",
        "outputId": "76a9bfd0-7349-4ae0-b722-995886cf3b19"
      },
      "execution_count": 95,
      "outputs": [
        {
          "output_type": "execute_result",
          "data": {
            "text/plain": [
              "0.79"
            ]
          },
          "metadata": {},
          "execution_count": 95
        }
      ]
    },
    {
      "cell_type": "markdown",
      "source": [
        "The $R^2$ for the test data was not much different from the $R^2$ from the train data. This is a strong indicative that our model is not overfitted!"
      ],
      "metadata": {
        "id": "by3Bbf2c05TQ"
      }
    },
    {
      "cell_type": "markdown",
      "source": [
        "Using sklearn, we can then get the prediction of arbitrary values using:"
      ],
      "metadata": {
        "id": "OCLLAiF813xt"
      }
    },
    {
      "cell_type": "code",
      "source": [
        "log_area = 5\n",
        "log_Dist_Praia = 1.28\n",
        "\n",
        "entry = [[log_area, log_Dist_Praia]]\n",
        "\n",
        "y_p = model_sk.predict(entry)[0]\n",
        "y_p"
      ],
      "metadata": {
        "colab": {
          "base_uri": "https://localhost:8080/"
        },
        "id": "egBepOpv0tbO",
        "outputId": "418397e0-0417-42ab-b886-5d9a5e5333ad"
      },
      "execution_count": 100,
      "outputs": [
        {
          "output_type": "stream",
          "name": "stderr",
          "text": [
            "/usr/local/lib/python3.7/dist-packages/sklearn/base.py:451: UserWarning: X does not have valid feature names, but LinearRegression was fitted with feature names\n",
            "  \"X does not have valid feature names, but\"\n"
          ]
        },
        {
          "output_type": "execute_result",
          "data": {
            "text/plain": [
              "13.99732360449768"
            ]
          },
          "metadata": {},
          "execution_count": 100
        }
      ]
    },
    {
      "cell_type": "markdown",
      "source": [
        "Note that the prediction gives the transformed output. To get the real prediction, we have to invert the transformation. We can do this using:"
      ],
      "metadata": {
        "id": "ZbSYVkyL2ZY5"
      }
    },
    {
      "cell_type": "code",
      "source": [
        "np.exp(y_p)"
      ],
      "metadata": {
        "colab": {
          "base_uri": "https://localhost:8080/"
        },
        "id": "IlVbgxIu2Ojm",
        "outputId": "d88a4db2-3e5a-4870-f1b5-3d10e1d7fdf7"
      },
      "execution_count": 101,
      "outputs": [
        {
          "output_type": "execute_result",
          "data": {
            "text/plain": [
              "1199389.9428106577"
            ]
          },
          "metadata": {},
          "execution_count": 101
        }
      ]
    },
    {
      "cell_type": "markdown",
      "source": [
        "Nice! Note that entries should also be given in logarithm form. So, to make it easier for the user, we can implement the transformation before passing the features to the model:"
      ],
      "metadata": {
        "id": "nWRMbT1A2rme"
      }
    },
    {
      "cell_type": "code",
      "source": [
        "area = 150\n",
        "dist_praia = 1\n",
        "\n",
        "log_area = np.log(area)\n",
        "log_Dist_Praia = np.log(dist_praia + 1)\n",
        "\n",
        "entry = [[log_area, log_Dist_Praia]]\n",
        "\n",
        "y_p = np.exp(model_sk.predict(entry)[0])\n",
        "y_p"
      ],
      "metadata": {
        "colab": {
          "base_uri": "https://localhost:8080/"
        },
        "id": "uazv29ML2q47",
        "outputId": "fedbb48a-356a-478f-e2bc-669fb708e2ed"
      },
      "execution_count": 105,
      "outputs": [
        {
          "output_type": "stream",
          "name": "stderr",
          "text": [
            "/usr/local/lib/python3.7/dist-packages/sklearn/base.py:451: UserWarning: X does not have valid feature names, but LinearRegression was fitted with feature names\n",
            "  \"X does not have valid feature names, but\"\n"
          ]
        },
        {
          "output_type": "execute_result",
          "data": {
            "text/plain": [
              "1617664.122980751"
            ]
          },
          "metadata": {},
          "execution_count": 105
        }
      ]
    },
    {
      "cell_type": "markdown",
      "source": [
        "## Interpreting the coefficients\n",
        "\n",
        "When fitting our model, we simply defined the parameters of our log-linear functions. Let's take a look at these parameters:"
      ],
      "metadata": {
        "id": "8JSQeJ1L3opU"
      }
    },
    {
      "cell_type": "code",
      "source": [
        "model_sk.intercept_"
      ],
      "metadata": {
        "colab": {
          "base_uri": "https://localhost:8080/"
        },
        "id": "oeouEFAQ3IZL",
        "outputId": "889a59e4-cd8e-4eca-9dc6-5f713ade1dd8"
      },
      "execution_count": 106,
      "outputs": [
        {
          "output_type": "execute_result",
          "data": {
            "text/plain": [
              "9.334916409800329"
            ]
          },
          "metadata": {},
          "execution_count": 106
        }
      ]
    },
    {
      "cell_type": "code",
      "source": [
        "model_sk.coef_"
      ],
      "metadata": {
        "colab": {
          "base_uri": "https://localhost:8080/"
        },
        "id": "HQ9UtBm_4BwQ",
        "outputId": "032873c0-fa4a-45a8-b133-7b48dd1a5fcf"
      },
      "execution_count": 107,
      "outputs": [
        {
          "output_type": "execute_result",
          "data": {
            "text/plain": [
              "array([ 1.05807818, -0.49061226])"
            ]
          },
          "metadata": {},
          "execution_count": 107
        }
      ]
    },
    {
      "cell_type": "markdown",
      "source": [
        "So, we have two types of parameters: the intercept ($\\beta_0$) and the angular coefficients ($\\beta_1$ and $\\beta_2$). Let's understand what these parameters mean."
      ],
      "metadata": {
        "id": "gpKXFh8g4EWv"
      }
    },
    {
      "cell_type": "markdown",
      "source": [
        "\n",
        "\n",
        "*   The intercept explicits the average effect in the target if all features are 0.0.\n",
        "*   The angular coefficient explicits the average effect in the target for a unitary increase in a given variable.\n",
        "\n"
      ],
      "metadata": {
        "id": "WUCapygT4gdg"
      }
    },
    {
      "cell_type": "markdown",
      "source": [
        "Thus, considering that all features are 0.0 (which is actually impossible, as we can't have null area), the housing price would be, on average:"
      ],
      "metadata": {
        "id": "TDiXJ7kZ4w17"
      }
    },
    {
      "cell_type": "code",
      "source": [
        "np.exp(model_sk.intercept_)"
      ],
      "metadata": {
        "colab": {
          "base_uri": "https://localhost:8080/"
        },
        "id": "GhWFrGeE4C0a",
        "outputId": "210f6701-9a7c-4776-af7e-c32e66b1fa82"
      },
      "execution_count": 108,
      "outputs": [
        {
          "output_type": "execute_result",
          "data": {
            "text/plain": [
              "11326.681428069842"
            ]
          },
          "metadata": {},
          "execution_count": 108
        }
      ]
    },
    {
      "cell_type": "markdown",
      "source": [
        "Now, let's look at the coefficients:"
      ],
      "metadata": {
        "id": "xCz8i9E049Va"
      }
    },
    {
      "cell_type": "code",
      "source": [
        "model_sk.coef_"
      ],
      "metadata": {
        "colab": {
          "base_uri": "https://localhost:8080/"
        },
        "id": "-4y2Ftmc47oI",
        "outputId": "62c719df-8d1d-4337-e718-dd314459f457"
      },
      "execution_count": 109,
      "outputs": [
        {
          "output_type": "execute_result",
          "data": {
            "text/plain": [
              "array([ 1.05807818, -0.49061226])"
            ]
          },
          "metadata": {},
          "execution_count": 109
        }
      ]
    },
    {
      "cell_type": "markdown",
      "source": [
        "Note that these coefficients were taken from the transformed features, and the explain the transformed target! Thus, they actually express the percentual variation of the target.\n",
        "\n",
        "The first coefficient is related to the house area, and a unit percent increase changes the price in 1.06%.\n",
        "\n",
        "The second coefficient is realted to the distance to the beach, and a unit percent increase changes the price in -0.49%."
      ],
      "metadata": {
        "id": "WBmguo3p5lTK"
      }
    },
    {
      "cell_type": "markdown",
      "source": [
        "## Graphical analyses of our model\n",
        "\n",
        "Finally, let's see some graphical analyses of our model. First, let's plot the association between the true responses and the prediction (for the training data)."
      ],
      "metadata": {
        "id": "k4shS5_h6ZmA"
      }
    },
    {
      "cell_type": "code",
      "source": [
        "y_pred_train = model_sk.predict(X_train)\n",
        "\n",
        "ax = sns.scatterplot(y_train, y_pred_train)"
      ],
      "metadata": {
        "colab": {
          "base_uri": "https://localhost:8080/",
          "height": 335
        },
        "id": "Jo4itYTf5kql",
        "outputId": "7f242bd9-005c-49a2-d88d-4ad31b77f73b"
      },
      "execution_count": 111,
      "outputs": [
        {
          "output_type": "stream",
          "name": "stderr",
          "text": [
            "/usr/local/lib/python3.7/dist-packages/seaborn/_decorators.py:43: FutureWarning: Pass the following variables as keyword args: x, y. From version 0.12, the only valid positional argument will be `data`, and passing other arguments without an explicit keyword will result in an error or misinterpretation.\n",
            "  FutureWarning\n"
          ]
        },
        {
          "output_type": "display_data",
          "data": {
            "text/plain": [
              "<Figure size 432x288 with 1 Axes>"
            ],
            "image/png": "[encoded data removed]"
          },
          "metadata": {
            "needs_background": "light"
          }
        }
      ]
    },
    {
      "cell_type": "markdown",
      "source": [
        "Nice! We see that there is a linear association between these values. Note that we can also visualize a similar plot for the test set:"
      ],
      "metadata": {
        "id": "gpNp109B6xD5"
      }
    },
    {
      "cell_type": "code",
      "source": [
        "y_pred_test = model_sk.predict(X_test)\n",
        "\n",
        "ax = sns.scatterplot(y_test, y_pred_test)"
      ],
      "metadata": {
        "colab": {
          "base_uri": "https://localhost:8080/",
          "height": 336
        },
        "id": "JD3bG5lv6shO",
        "outputId": "9df6be44-1697-4448-df6e-07391a6e43b2"
      },
      "execution_count": 113,
      "outputs": [
        {
          "output_type": "stream",
          "name": "stderr",
          "text": [
            "/usr/local/lib/python3.7/dist-packages/seaborn/_decorators.py:43: FutureWarning: Pass the following variables as keyword args: x, y. From version 0.12, the only valid positional argument will be `data`, and passing other arguments without an explicit keyword will result in an error or misinterpretation.\n",
            "  FutureWarning\n"
          ]
        },
        {
          "output_type": "display_data",
          "data": {
            "text/plain": [
              "<Figure size 432x288 with 1 Axes>"
            ],
            "image/png": "[encoded data removed]"
          },
          "metadata": {
            "needs_background": "light"
          }
        }
      ]
    },
    {
      "cell_type": "markdown",
      "source": [
        "Great! Now, let's try to visualize our residuals. The residuals are the difference between the true values and the predicted values. In theory, these residuals should present mean 0 and the variance should be constant (homocedasticity). Also, they should be taken from a Normal distribution.\n",
        "\n",
        "Let's visualize them:"
      ],
      "metadata": {
        "id": "0Uh6-wen7GWL"
      }
    },
    {
      "cell_type": "code",
      "source": [
        "u = y_train - y_pred_train"
      ],
      "metadata": {
        "id": "oV-NqYtC64No"
      },
      "execution_count": 114,
      "outputs": []
    },
    {
      "cell_type": "code",
      "source": [
        "ax = sns.scatterplot(x = y_train, y = u)\n",
        "ax.hlines(y = 0.0, xmin = y_train.min( ), xmax = y_train.max( ), colors = 'red', linestyles = 'dashed')"
      ],
      "metadata": {
        "colab": {
          "base_uri": "https://localhost:8080/",
          "height": 297
        },
        "id": "hna5T23a7hD3",
        "outputId": "88890abd-0d88-47a5-fefd-6d4e125f85d6"
      },
      "execution_count": 115,
      "outputs": [
        {
          "output_type": "execute_result",
          "data": {
            "text/plain": [
              "<matplotlib.collections.LineCollection at 0x7f09644fd190>"
            ]
          },
          "metadata": {},
          "execution_count": 115
        },
        {
          "output_type": "display_data",
          "data": {
            "text/plain": [
              "<Figure size 432x288 with 1 Axes>"
            ],
            "image/png": "[encoded data removed]"
          },
          "metadata": {
            "needs_background": "light"
          }
        }
      ]
    },
    {
      "cell_type": "markdown",
      "source": [
        "We see that our residuals do not show to be homocedastic. Actually, for lower values of log_Valor, our residuals seem to be lower, and for higher values of log_Valor our residuals seem to be higher.\n",
        "\n",
        "Let's check if their distribution seems like a Normal distribution:"
      ],
      "metadata": {
        "id": "udRzKwyC74oy"
      }
    },
    {
      "cell_type": "code",
      "source": [
        "sns.histplot(u, stat = 'density', kde = True)"
      ],
      "metadata": {
        "colab": {
          "base_uri": "https://localhost:8080/",
          "height": 297
        },
        "id": "r74je4xU716T",
        "outputId": "f77d61d5-3366-401b-bd27-dc36f91c9be9"
      },
      "execution_count": 117,
      "outputs": [
        {
          "output_type": "execute_result",
          "data": {
            "text/plain": [
              "<matplotlib.axes._subplots.AxesSubplot at 0x7f0974953a50>"
            ]
          },
          "metadata": {},
          "execution_count": 117
        },
        {
          "output_type": "display_data",
          "data": {
            "text/plain": [
              "<Figure size 432x288 with 1 Axes>"
            ],
            "image/png": "[encoded data removed]"
          },
          "metadata": {
            "needs_background": "light"
          }
        }
      ]
    },
    {
      "cell_type": "markdown",
      "source": [
        "Our residuals resemble a Normal curve (symmetric bell-shaped curve)."
      ],
      "metadata": {
        "id": "-_03rnRH8SkJ"
      }
    },
    {
      "cell_type": "code",
      "source": [
        ""
      ],
      "metadata": {
        "id": "9TKvYsFX8qlZ"
      },
      "execution_count": null,
      "outputs": []
    }
  ]
}