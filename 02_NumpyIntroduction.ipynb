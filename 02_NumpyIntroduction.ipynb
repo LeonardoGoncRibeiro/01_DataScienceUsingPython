{
  "nbformat": 4,
  "nbformat_minor": 0,
  "metadata": {
    "colab": {
      "name": "02_NumpyIntroduction.ipynb",
      "provenance": [],
      "collapsed_sections": [],
      "toc_visible": true,
      "authorship_tag": "ABX9TyNT5aBTa4FAr/ODjCSKwgdN",
      "include_colab_link": true
    },
    "kernelspec": {
      "name": "python3",
      "display_name": "Python 3"
    },
    "language_info": {
      "name": "python"
    }
  },
  "cells": [
    {
      "cell_type": "markdown",
      "metadata": {
        "id": "view-in-github",
        "colab_type": "text"
      },
      "source": [
        "<a href=\"https://colab.research.google.com/github/LeonardoGoncRibeiro/01_DataScienceUsingPython/blob/main/02_NumpyIntroduction.ipynb\" target=\"_parent\"><img src=\"https://colab.research.google.com/assets/colab-badge.svg\" alt=\"Open In Colab\"/></a>"
      ]
    },
    {
      "cell_type": "markdown",
      "source": [
        "# Introduction to Numpy"
      ],
      "metadata": {
        "id": "WT6LFRlXeBOV"
      }
    },
    {
      "cell_type": "markdown",
      "source": [
        "In this file, numpy library will be introduced. Numpy is a very popular library for data science, as it assists in handling numerical data."
      ],
      "metadata": {
        "id": "Pl0xrvpUeFI7"
      }
    },
    {
      "cell_type": "markdown",
      "source": [
        "Checking python version"
      ],
      "metadata": {
        "id": "9dp75xICgHbk"
      }
    },
    {
      "cell_type": "code",
      "execution_count": 23,
      "metadata": {
        "colab": {
          "base_uri": "https://localhost:8080/"
        },
        "id": "fVv4TVWVd31q",
        "outputId": "e9f8f048-51c1-497a-e6b2-e3e83e9dfbd8"
      },
      "outputs": [
        {
          "output_type": "stream",
          "name": "stdout",
          "text": [
            "Python 3.7.13\n"
          ]
        }
      ],
      "source": [
        "!python -V"
      ]
    },
    {
      "cell_type": "markdown",
      "source": [
        "# Working with Numpy arrays"
      ],
      "metadata": {
        "id": "gW6Fv1htgjlw"
      }
    },
    {
      "cell_type": "code",
      "source": [
        "import numpy as np"
      ],
      "metadata": {
        "id": "HARCoPTFgJqs"
      },
      "execution_count": 24,
      "outputs": []
    },
    {
      "cell_type": "markdown",
      "source": [
        "Saving data to python variables"
      ],
      "metadata": {
        "id": "iyWsxqP9k7Iu"
      }
    },
    {
      "cell_type": "code",
      "source": [
        "km   = np.loadtxt('car_km.txt', dtype = float)\n",
        "year = np.loadtxt('car_year.txt', dtype = int)\n"
      ],
      "metadata": {
        "id": "zDbiNZi1goLN"
      },
      "execution_count": 143,
      "outputs": []
    },
    {
      "cell_type": "markdown",
      "source": [
        "Assessing measures of central tendency"
      ],
      "metadata": {
        "id": "O9x05g7AlPwF"
      }
    },
    {
      "cell_type": "code",
      "source": [
        "km_bar = np.mean(km)\n",
        "print(f'mean km: {km_bar}')"
      ],
      "metadata": {
        "colab": {
          "base_uri": "https://localhost:8080/"
        },
        "id": "IWJeh-XclODl",
        "outputId": "a297c515-d295-4643-b7bd-ecf8aa09c71c"
      },
      "execution_count": null,
      "outputs": [
        {
          "output_type": "stream",
          "name": "stdout",
          "text": [
            "mean km: 66215.77741935484\n"
          ]
        }
      ]
    },
    {
      "cell_type": "markdown",
      "source": [
        "Assessing the mean km driven per year for each car"
      ],
      "metadata": {
        "id": "kDFWPyO4lnBj"
      }
    },
    {
      "cell_type": "code",
      "source": [
        "year_now = 2022\n",
        "km_per_year = km/(year_now - year)\n",
        "\n",
        "km_per_year"
      ],
      "metadata": {
        "colab": {
          "base_uri": "https://localhost:8080/"
        },
        "id": "Ne7ymYu1li_N",
        "outputId": "7284d11b-ce15-4b6b-d174-15f32d6b9c3d"
      },
      "execution_count": null,
      "outputs": [
        {
          "output_type": "execute_result",
          "data": {
            "text/plain": [
              "array([ 4666.66666667,  3333.33333333, 10000.        , ...,\n",
              "        6384.61538462, 15000.        ,  6666.66666667])"
            ]
          },
          "metadata": {},
          "execution_count": 9
        }
      ]
    },
    {
      "cell_type": "markdown",
      "source": [
        "Note that these data hava a specific type related to numpy"
      ],
      "metadata": {
        "id": "0_T0wfSbl56e"
      }
    },
    {
      "cell_type": "code",
      "source": [
        "print(type(km_bar))\n",
        "\n",
        "print(type(km_per_year))"
      ],
      "metadata": {
        "colab": {
          "base_uri": "https://localhost:8080/"
        },
        "id": "XnbewA5ilzHq",
        "outputId": "d48fe330-20c0-4b46-9d0c-ef3372527aa7"
      },
      "execution_count": null,
      "outputs": [
        {
          "output_type": "stream",
          "name": "stdout",
          "text": [
            "<class 'numpy.float64'>\n",
            "<class 'numpy.ndarray'>\n"
          ]
        }
      ]
    },
    {
      "cell_type": "markdown",
      "source": [
        "# Important Python caractheristics"
      ],
      "metadata": {
        "id": "a3wSzA-KmWZb"
      }
    },
    {
      "cell_type": "markdown",
      "source": [
        "Here, we will show how to perform basic mathematical operations and expressions using Python."
      ],
      "metadata": {
        "id": "VQcPp3AimcVk"
      }
    },
    {
      "cell_type": "markdown",
      "source": [
        "# Mathematical operators"
      ],
      "metadata": {
        "id": "11zobNHbmrc9"
      }
    },
    {
      "cell_type": "code",
      "source": [
        "# addition\n",
        "\n",
        "2 + 2"
      ],
      "metadata": {
        "colab": {
          "base_uri": "https://localhost:8080/"
        },
        "id": "NobOvdfhmq6U",
        "outputId": "5d4bcd43-f000-4afc-9e38-324ed3b9815f"
      },
      "execution_count": null,
      "outputs": [
        {
          "output_type": "execute_result",
          "data": {
            "text/plain": [
              "4"
            ]
          },
          "metadata": {},
          "execution_count": 16
        }
      ]
    },
    {
      "cell_type": "code",
      "source": [
        "# substraction\n",
        "\n",
        "7-10"
      ],
      "metadata": {
        "colab": {
          "base_uri": "https://localhost:8080/"
        },
        "id": "56MNSIqYl-W5",
        "outputId": "0c496b67-b37c-448b-c518-d2fb6ee2ee96"
      },
      "execution_count": null,
      "outputs": [
        {
          "output_type": "execute_result",
          "data": {
            "text/plain": [
              "-3"
            ]
          },
          "metadata": {},
          "execution_count": 18
        }
      ]
    },
    {
      "cell_type": "code",
      "source": [
        "# multiplication\n",
        "\n",
        "9*4"
      ],
      "metadata": {
        "colab": {
          "base_uri": "https://localhost:8080/"
        },
        "id": "U52IHXJ8m1dl",
        "outputId": "715c4217-45ad-4d80-86df-7ba54bd9c736"
      },
      "execution_count": null,
      "outputs": [
        {
          "output_type": "execute_result",
          "data": {
            "text/plain": [
              "36"
            ]
          },
          "metadata": {},
          "execution_count": 19
        }
      ]
    },
    {
      "cell_type": "code",
      "source": [
        "# division\n",
        "\n",
        "10/3"
      ],
      "metadata": {
        "colab": {
          "base_uri": "https://localhost:8080/"
        },
        "id": "3kcm50-Om6uh",
        "outputId": "26683c4c-4673-4d2a-f251-9d21be6eceae"
      },
      "execution_count": null,
      "outputs": [
        {
          "output_type": "execute_result",
          "data": {
            "text/plain": [
              "3.3333333333333335"
            ]
          },
          "metadata": {},
          "execution_count": 20
        }
      ]
    },
    {
      "cell_type": "code",
      "source": [
        "# division (showing only the integer part)\n",
        "\n",
        "10//3"
      ],
      "metadata": {
        "colab": {
          "base_uri": "https://localhost:8080/"
        },
        "id": "yxDSeurAm8L4",
        "outputId": "03d6b33e-40ea-46f1-a726-b1f29f7443c0"
      },
      "execution_count": null,
      "outputs": [
        {
          "output_type": "execute_result",
          "data": {
            "text/plain": [
              "3"
            ]
          },
          "metadata": {},
          "execution_count": 21
        }
      ]
    },
    {
      "cell_type": "code",
      "source": [
        "# exponentiation\n",
        "\n",
        "2**3"
      ],
      "metadata": {
        "colab": {
          "base_uri": "https://localhost:8080/"
        },
        "id": "TyK2maOVm_Sq",
        "outputId": "4695fdd4-c341-42f7-b552-901033efd4f6"
      },
      "execution_count": null,
      "outputs": [
        {
          "output_type": "execute_result",
          "data": {
            "text/plain": [
              "8"
            ]
          },
          "metadata": {},
          "execution_count": 22
        }
      ]
    },
    {
      "cell_type": "code",
      "source": [
        "# division (remainder)\n",
        "\n",
        "10%3"
      ],
      "metadata": {
        "colab": {
          "base_uri": "https://localhost:8080/"
        },
        "id": "9cUfWl8SnCpp",
        "outputId": "d32813e7-4530-4cc2-a782-7b3e959f2d4d"
      },
      "execution_count": null,
      "outputs": [
        {
          "output_type": "execute_result",
          "data": {
            "text/plain": [
              "1"
            ]
          },
          "metadata": {},
          "execution_count": 23
        }
      ]
    },
    {
      "cell_type": "markdown",
      "source": [
        "# Mathematical expressions"
      ],
      "metadata": {
        "id": "PLAGfPHLnI2D"
      }
    },
    {
      "cell_type": "markdown",
      "source": [
        "Python considers conventional order for operations (first exponentiation, then multiplication/division, then addition/subtraction)"
      ],
      "metadata": {
        "id": "2JeaS3xfndMY"
      }
    },
    {
      "cell_type": "code",
      "source": [
        "5*2 + 3*2"
      ],
      "metadata": {
        "colab": {
          "base_uri": "https://localhost:8080/"
        },
        "id": "ppEJzTIpnHqW",
        "outputId": "2ba5126a-82ae-41f0-a45a-5db1c06eccba"
      },
      "execution_count": null,
      "outputs": [
        {
          "output_type": "execute_result",
          "data": {
            "text/plain": [
              "16"
            ]
          },
          "metadata": {},
          "execution_count": 24
        }
      ]
    },
    {
      "cell_type": "markdown",
      "source": [
        "We can use paranthesis to change order of operations."
      ],
      "metadata": {
        "id": "NvUmSwIXnYyH"
      }
    },
    {
      "cell_type": "code",
      "source": [
        "5*(2 + 3)*2 "
      ],
      "metadata": {
        "colab": {
          "base_uri": "https://localhost:8080/"
        },
        "id": "eW3uiMVlnT9x",
        "outputId": "ac3ced41-46c8-4a3b-997b-e2e01160b2a2"
      },
      "execution_count": null,
      "outputs": [
        {
          "output_type": "execute_result",
          "data": {
            "text/plain": [
              "50"
            ]
          },
          "metadata": {},
          "execution_count": 26
        }
      ]
    },
    {
      "cell_type": "markdown",
      "source": [
        "Variable _ stores the last result printed"
      ],
      "metadata": {
        "id": "bLlsd7mEnghE"
      }
    },
    {
      "cell_type": "code",
      "source": [
        "_"
      ],
      "metadata": {
        "colab": {
          "base_uri": "https://localhost:8080/"
        },
        "id": "fRql00o-njXp",
        "outputId": "0ae7462d-7913-4961-b5bf-68a67241cb3c"
      },
      "execution_count": null,
      "outputs": [
        {
          "output_type": "execute_result",
          "data": {
            "text/plain": [
              "50"
            ]
          },
          "metadata": {},
          "execution_count": 27
        }
      ]
    },
    {
      "cell_type": "code",
      "source": [
        "_ + 3*2"
      ],
      "metadata": {
        "colab": {
          "base_uri": "https://localhost:8080/"
        },
        "id": "mzHSjLBtnjr9",
        "outputId": "1c62e652-c34e-4aba-e703-c9c0b383a876"
      },
      "execution_count": null,
      "outputs": [
        {
          "output_type": "execute_result",
          "data": {
            "text/plain": [
              "56"
            ]
          },
          "metadata": {},
          "execution_count": 28
        }
      ]
    },
    {
      "cell_type": "code",
      "source": [
        "_/2"
      ],
      "metadata": {
        "colab": {
          "base_uri": "https://localhost:8080/"
        },
        "id": "FJNRoY5PnsMJ",
        "outputId": "3f005c94-dba6-4b8a-dcbd-90a0055a9272"
      },
      "execution_count": null,
      "outputs": [
        {
          "output_type": "execute_result",
          "data": {
            "text/plain": [
              "28.0"
            ]
          },
          "metadata": {},
          "execution_count": 29
        }
      ]
    },
    {
      "cell_type": "markdown",
      "source": [
        "# Variables"
      ],
      "metadata": {
        "id": "vTXTAQ0QnxhD"
      }
    },
    {
      "cell_type": "code",
      "source": [
        "current_year = 2022\n",
        "car_year_var = 2003\n",
        "total_km_var = 44410.0\n",
        "\n",
        "km_avg = total_km_var/(current_year - car_year_var)\n",
        "print(f'Average: {km_avg} km')"
      ],
      "metadata": {
        "colab": {
          "base_uri": "https://localhost:8080/"
        },
        "id": "KyQoQ7RUntuT",
        "outputId": "eae19f14-3190-48a4-d0e6-afdeb5caecba"
      },
      "execution_count": null,
      "outputs": [
        {
          "output_type": "stream",
          "name": "stdout",
          "text": [
            "Average: 2337.3684210526317 km\n"
          ]
        }
      ]
    },
    {
      "cell_type": "code",
      "source": [
        "# Estimating km in 2023\n",
        "\n",
        "pred_year = 2023\n",
        "\n",
        "total_km_var += km_avg*(pred_year - current_year) # Important operator! Sequential summation\n",
        "\n",
        "print(f'We predict that, at {pred_year}, total_km_var: {total_km_var} km')"
      ],
      "metadata": {
        "colab": {
          "base_uri": "https://localhost:8080/"
        },
        "id": "JBgEHevcofmI",
        "outputId": "c98331a4-e445-4557-f625-369f8bf7c7c2"
      },
      "execution_count": null,
      "outputs": [
        {
          "output_type": "stream",
          "name": "stdout",
          "text": [
            "We predict that, at 2023, total_km_var: 46747.36842105263 km\n"
          ]
        }
      ]
    },
    {
      "cell_type": "markdown",
      "source": [
        "Declaring multiple variables at once"
      ],
      "metadata": {
        "id": "ALlTvNSdpZGW"
      }
    },
    {
      "cell_type": "code",
      "source": [
        "current_year, car_year_var, total_km_var, pred_year = 2022, 2003, 44410.0, 2023;\n",
        "\n",
        "km_avg = total_km_var/(current_year - car_year_var)\n",
        "\n",
        "total_km_var += km_avg*(pred_year - current_year) # Important operator! Sequential summation\n",
        "\n",
        "print(f'We predict that, at {pred_year}, total_km_var: {total_km_var} km')"
      ],
      "metadata": {
        "colab": {
          "base_uri": "https://localhost:8080/"
        },
        "id": "3rHGAUPso_fI",
        "outputId": "2b25bbb7-7cf7-44f1-d8dc-baa86cd95a8e"
      },
      "execution_count": null,
      "outputs": [
        {
          "output_type": "stream",
          "name": "stdout",
          "text": [
            "We predict that, at 2023, total_km_var: 46747.36842105263 km\n"
          ]
        }
      ]
    },
    {
      "cell_type": "markdown",
      "source": [
        "# Variable types"
      ],
      "metadata": {
        "id": "6MsFj4coqImM"
      }
    },
    {
      "cell_type": "markdown",
      "source": [
        "**Numerical data**\n",
        "\n",
        "\n",
        "1.   **int** - Integers.\n",
        "2.   **float** - Floating point.\n",
        "\n",
        "**Booleans** - True or False.\n",
        "\n",
        "**Strings** - Sequence of characters. Text.\n",
        "\n",
        "**None** - No value.\n",
        "\n"
      ],
      "metadata": {
        "id": "uhOYsujCsQbM"
      }
    },
    {
      "cell_type": "code",
      "source": [
        "# Numerical data - int\n",
        "\n",
        "current_year = 2003\n",
        "type(current_year)"
      ],
      "metadata": {
        "colab": {
          "base_uri": "https://localhost:8080/"
        },
        "id": "pIKV8UXjqJ6r",
        "outputId": "18aa6d0c-6daf-42ff-bedb-e8948c5ed25f"
      },
      "execution_count": null,
      "outputs": [
        {
          "output_type": "execute_result",
          "data": {
            "text/plain": [
              "int"
            ]
          },
          "metadata": {},
          "execution_count": 45
        }
      ]
    },
    {
      "cell_type": "code",
      "source": [
        "# Numerical data - float\n",
        "\n",
        "km_total = 44410.0\n",
        "type(km_total)"
      ],
      "metadata": {
        "colab": {
          "base_uri": "https://localhost:8080/"
        },
        "id": "xQuO46fastuK",
        "outputId": "fd987e74-1d3d-43fc-ab3a-d2942fbe2c3c"
      },
      "execution_count": null,
      "outputs": [
        {
          "output_type": "execute_result",
          "data": {
            "text/plain": [
              "float"
            ]
          },
          "metadata": {},
          "execution_count": 46
        }
      ]
    },
    {
      "cell_type": "code",
      "source": [
        "# Boolean\n",
        "\n",
        "is_zero_km = True\n",
        "type(is_zero_km)"
      ],
      "metadata": {
        "colab": {
          "base_uri": "https://localhost:8080/"
        },
        "id": "IJNYCoHws1OO",
        "outputId": "262fe9a3-de11-404e-8d13-19bd3f2081bd"
      },
      "execution_count": null,
      "outputs": [
        {
          "output_type": "execute_result",
          "data": {
            "text/plain": [
              "bool"
            ]
          },
          "metadata": {},
          "execution_count": 51
        }
      ]
    },
    {
      "cell_type": "code",
      "source": [
        "# String\n",
        "\n",
        "name = 'Jetta'\n",
        "type(name)"
      ],
      "metadata": {
        "colab": {
          "base_uri": "https://localhost:8080/"
        },
        "id": "6RjMCdqstUSh",
        "outputId": "ee21b42f-d4c3-4b57-b6d5-c51b32b82a0d"
      },
      "execution_count": null,
      "outputs": [
        {
          "output_type": "execute_result",
          "data": {
            "text/plain": [
              "str"
            ]
          },
          "metadata": {},
          "execution_count": 53
        }
      ]
    },
    {
      "cell_type": "code",
      "source": [
        "# None\n",
        "\n",
        "kilometer = None\n",
        "type(kilometer)"
      ],
      "metadata": {
        "colab": {
          "base_uri": "https://localhost:8080/"
        },
        "id": "PcvySCDgtgDT",
        "outputId": "28a70de5-b4f1-4eee-cae6-e6fa387a264b"
      },
      "execution_count": null,
      "outputs": [
        {
          "output_type": "execute_result",
          "data": {
            "text/plain": [
              "NoneType"
            ]
          },
          "metadata": {},
          "execution_count": 54
        }
      ]
    },
    {
      "cell_type": "markdown",
      "source": [
        "# Type conversion"
      ],
      "metadata": {
        "id": "3B6RLGO3uCVG"
      }
    },
    {
      "cell_type": "markdown",
      "source": [
        "To better handle data, one might need to convert existing data."
      ],
      "metadata": {
        "id": "zJA-3iVcC8Pc"
      }
    },
    {
      "cell_type": "code",
      "source": [
        "a, b, c, d, e = 10, 20, 'Python is ', 'cool', 3.14"
      ],
      "metadata": {
        "id": "5G7Q54c-t9Hz"
      },
      "execution_count": null,
      "outputs": []
    },
    {
      "cell_type": "code",
      "source": [
        "a + b"
      ],
      "metadata": {
        "colab": {
          "base_uri": "https://localhost:8080/"
        },
        "id": "wuYU94lwDKoX",
        "outputId": "647d8e8b-b2ac-4d63-b33c-f0a5bd268cd0"
      },
      "execution_count": null,
      "outputs": [
        {
          "output_type": "execute_result",
          "data": {
            "text/plain": [
              "30"
            ]
          },
          "metadata": {},
          "execution_count": 64
        }
      ]
    },
    {
      "cell_type": "code",
      "source": [
        "c + d"
      ],
      "metadata": {
        "colab": {
          "base_uri": "https://localhost:8080/",
          "height": 35
        },
        "id": "szoe09M8DMX5",
        "outputId": "90cf4bff-243b-4aa9-96fb-e5374ba0b3b0"
      },
      "execution_count": null,
      "outputs": [
        {
          "output_type": "execute_result",
          "data": {
            "text/plain": [
              "'Python is cool'"
            ],
            "application/vnd.google.colaboratory.intrinsic+json": {
              "type": "string"
            }
          },
          "metadata": {},
          "execution_count": 65
        }
      ]
    },
    {
      "cell_type": "markdown",
      "source": [
        "Even though you are able to \"sum\" two strings or two numerical values, you can not sum a numerical value to a string. Type conversion is necessary to handle these cases."
      ],
      "metadata": {
        "id": "uS23xP3rDScH"
      }
    },
    {
      "cell_type": "code",
      "source": [
        "c + str(a)"
      ],
      "metadata": {
        "colab": {
          "base_uri": "https://localhost:8080/",
          "height": 35
        },
        "id": "rklO-7YJDNVT",
        "outputId": "bb135b9b-6086-465c-8675-51e4e55ce9b6"
      },
      "execution_count": null,
      "outputs": [
        {
          "output_type": "execute_result",
          "data": {
            "text/plain": [
              "'Python is 10'"
            ],
            "application/vnd.google.colaboratory.intrinsic+json": {
              "type": "string"
            }
          },
          "metadata": {},
          "execution_count": 66
        }
      ]
    },
    {
      "cell_type": "markdown",
      "source": [
        "However, summation of two numerical values always works (even if one is an integer and the other is a float)"
      ],
      "metadata": {
        "id": "ULi399M2DskV"
      }
    },
    {
      "cell_type": "code",
      "source": [
        "a + e"
      ],
      "metadata": {
        "colab": {
          "base_uri": "https://localhost:8080/"
        },
        "id": "TLzeX1lPDeuJ",
        "outputId": "25b8bb40-c655-40bb-b402-266feb22ca78"
      },
      "execution_count": null,
      "outputs": [
        {
          "output_type": "execute_result",
          "data": {
            "text/plain": [
              "13.14"
            ]
          },
          "metadata": {},
          "execution_count": 68
        }
      ]
    },
    {
      "cell_type": "code",
      "source": [
        "text = 'A quilometragem média do veículo é '\n",
        "Km = 100000\n",
        "Ano_atual = 2019\n",
        "Ano_fabricacao = 1999\n",
        "\n",
        "text + str( Km / (Ano_atual - Ano_fabricacao) ) + ' km'"
      ],
      "metadata": {
        "colab": {
          "base_uri": "https://localhost:8080/",
          "height": 35
        },
        "id": "6sVle4a5DlGh",
        "outputId": "789c692e-898c-4ee2-f340-8420d545e219"
      },
      "execution_count": null,
      "outputs": [
        {
          "output_type": "execute_result",
          "data": {
            "text/plain": [
              "'A quilometragem média do veículo é 5000.0 km'"
            ],
            "application/vnd.google.colaboratory.intrinsic+json": {
              "type": "string"
            }
          },
          "metadata": {},
          "execution_count": 69
        }
      ]
    },
    {
      "cell_type": "markdown",
      "source": [
        "# Indentation and commentaries"
      ],
      "metadata": {
        "id": "76iJA7fAEMfE"
      }
    },
    {
      "cell_type": "markdown",
      "source": [
        "For python, indentation is very important, as correct indentation is necessary so that loops and conditionals work correctly. "
      ],
      "metadata": {
        "id": "HBHsongyEQ5e"
      }
    },
    {
      "cell_type": "code",
      "source": [
        "curr_year = 2022\n",
        "fabr_year = 2019\n",
        "\n",
        "if (curr_year == fabr_year):\n",
        "  print('New car')\n",
        "else:\n",
        "  print('Old car')"
      ],
      "metadata": {
        "colab": {
          "base_uri": "https://localhost:8080/"
        },
        "id": "oYyh_VFUEDwW",
        "outputId": "7c9df332-56c3-458f-b9b1-26e5862acf62"
      },
      "execution_count": null,
      "outputs": [
        {
          "output_type": "stream",
          "name": "stdout",
          "text": [
            "Old car\n"
          ]
        }
      ]
    },
    {
      "cell_type": "markdown",
      "source": [
        "Commentaries, on the other hand, are optional, but it helps other people to understand our code"
      ],
      "metadata": {
        "id": "qNTGw341EuwM"
      }
    },
    {
      "cell_type": "code",
      "source": [
        "# This is a commentary\n",
        "\n",
        "curr_year = 2022               # Current year\n",
        "fabr_year = 2019               # Fabrication year\n",
        "\n",
        "if (curr_year == fabr_year):   # If car was fabricated this year\n",
        "  print('New car')\n",
        "else:                          # If not\n",
        "  print('Old car')"
      ],
      "metadata": {
        "id": "iDSecNDlEtaI"
      },
      "execution_count": null,
      "outputs": []
    },
    {
      "cell_type": "markdown",
      "source": [
        "String formatting is useful to print more organized texts."
      ],
      "metadata": {
        "id": "VnJp0oQ-FEsU"
      }
    },
    {
      "cell_type": "code",
      "source": [
        "print('Hi, {}!'.format('Leonardo'))"
      ],
      "metadata": {
        "colab": {
          "base_uri": "https://localhost:8080/"
        },
        "id": "2qaleGgaKBH-",
        "outputId": "b827c5cf-955a-424c-abdc-3699940ea012"
      },
      "execution_count": null,
      "outputs": [
        {
          "output_type": "stream",
          "name": "stdout",
          "text": [
            "Hi, Leonardo!\n"
          ]
        }
      ]
    },
    {
      "cell_type": "code",
      "source": [
        "print('Hi, {}! This is your access number {}'.format('Leonardo', 32))"
      ],
      "metadata": {
        "colab": {
          "base_uri": "https://localhost:8080/"
        },
        "id": "QB1Jm5NfKHqr",
        "outputId": "c02d0756-ab34-480a-d9d3-9412279ec0c5"
      },
      "execution_count": null,
      "outputs": [
        {
          "output_type": "stream",
          "name": "stdout",
          "text": [
            "Hi, Leonardo! This is your access number 32\n"
          ]
        }
      ]
    },
    {
      "cell_type": "code",
      "source": [
        "print('Hi, {name}! This is your access number {access}'.format(name = 'Leonardo', access = 32))"
      ],
      "metadata": {
        "colab": {
          "base_uri": "https://localhost:8080/"
        },
        "id": "Pjrjvgz6KPiy",
        "outputId": "2fd2cb74-4282-4e9c-f335-0e2d37076b6c"
      },
      "execution_count": null,
      "outputs": [
        {
          "output_type": "stream",
          "name": "stdout",
          "text": [
            "Hi, Leonardo! This is your access number 32\n"
          ]
        }
      ]
    },
    {
      "cell_type": "code",
      "source": [
        "name = 'Leonardo'\n",
        "access = 32\n",
        "print(f'Hi, {name}! This is your access number {access}')"
      ],
      "metadata": {
        "colab": {
          "base_uri": "https://localhost:8080/"
        },
        "id": "uGFyU7fVKWoN",
        "outputId": "f9288b44-0f78-48f0-c044-535124e4864a"
      },
      "execution_count": null,
      "outputs": [
        {
          "output_type": "stream",
          "name": "stdout",
          "text": [
            "Hi, Leonardo! This is your access number 32\n"
          ]
        }
      ]
    },
    {
      "cell_type": "markdown",
      "source": [
        "# Creating lists"
      ],
      "metadata": {
        "id": "JZhHGkf6K6wq"
      }
    },
    {
      "cell_type": "markdown",
      "source": [
        "We can create lists using [ ]\n",
        "\n",
        "Values from the list are separated using comma (,)\n",
        "\n"
      ],
      "metadata": {
        "id": "xAdLhhBTLFYM"
      }
    },
    {
      "cell_type": "code",
      "source": [
        "items = ['Cover', 'Cleaning cloth', 'Air freshener', 'Repair kit', 'Tire inflator', 'GPS', 'Tool kit']\n",
        "items"
      ],
      "metadata": {
        "colab": {
          "base_uri": "https://localhost:8080/"
        },
        "id": "jQlQ9JplK8PN",
        "outputId": "d8c7eec7-d9b9-47ad-f170-1bc1e2ef33dd"
      },
      "execution_count": null,
      "outputs": [
        {
          "output_type": "execute_result",
          "data": {
            "text/plain": [
              "['Cover',\n",
              " 'Cleaning cloth',\n",
              " 'Air freshener',\n",
              " 'Repair kit',\n",
              " 'Tire inflator',\n",
              " 'GPS',\n",
              " 'Tool kit']"
            ]
          },
          "metadata": {},
          "execution_count": 81
        }
      ]
    },
    {
      "cell_type": "markdown",
      "source": [
        "You can create a list **inside** another list."
      ],
      "metadata": {
        "id": "9BXg8k7KLqrc"
      }
    },
    {
      "cell_type": "code",
      "source": [
        "car_1 = ['Jetta', '4.0', 2003, 44410.0, False, [items[1], items[4], items[5]], 88078.64]\n",
        "car_2 = ['Passat', 'Diesel', 1991, 5712.0, False, [items[0], items[2]], 106161.94]"
      ],
      "metadata": {
        "colab": {
          "base_uri": "https://localhost:8080/"
        },
        "id": "EoKFIwLjLg0e",
        "outputId": "dcb6836a-590c-4e1f-846a-54a85d6440d9"
      },
      "execution_count": null,
      "outputs": [
        {
          "output_type": "execute_result",
          "data": {
            "text/plain": [
              "['Passat',\n",
              " 'Diesel',\n",
              " 1991,\n",
              " 5712.0,\n",
              " False,\n",
              " ['Cover', 'Air freshener'],\n",
              " 106161.94]"
            ]
          },
          "metadata": {},
          "execution_count": 85
        }
      ]
    },
    {
      "cell_type": "markdown",
      "source": [
        "You can even create a list from two (or more) other lists."
      ],
      "metadata": {
        "id": "HLCjmtjTMN6u"
      }
    },
    {
      "cell_type": "code",
      "source": [
        "cars = [car_1, car_2]\n",
        "cars"
      ],
      "metadata": {
        "colab": {
          "base_uri": "https://localhost:8080/"
        },
        "id": "lxUDvdAtL7MK",
        "outputId": "8290edea-6621-4c51-a45b-f662adb893b5"
      },
      "execution_count": null,
      "outputs": [
        {
          "output_type": "execute_result",
          "data": {
            "text/plain": [
              "[['Jetta',\n",
              "  '4.0',\n",
              "  2003,\n",
              "  44410.0,\n",
              "  False,\n",
              "  ['Cleaning cloth', 'Tire inflator', 'GPS'],\n",
              "  88078.64],\n",
              " ['Passat',\n",
              "  'Diesel',\n",
              "  1991,\n",
              "  5712.0,\n",
              "  False,\n",
              "  ['Cover', 'Air freshener'],\n",
              "  106161.94]]"
            ]
          },
          "metadata": {},
          "execution_count": 87
        }
      ]
    },
    {
      "cell_type": "markdown",
      "source": [
        "# Operations with lists"
      ],
      "metadata": {
        "id": "RcDgVI8vMddG"
      }
    },
    {
      "cell_type": "markdown",
      "source": [
        "More extensive documentation can be found in https://docs.python.org/3/tutorial/datastructures.html"
      ],
      "metadata": {
        "id": "Lc5J5amIN8dc"
      }
    },
    {
      "cell_type": "code",
      "source": [
        "items = ['Cover', 'Cleaning cloth', 'Air freshener', 'Repair kit', 'Tire inflator', 'GPS', 'Tool kit']"
      ],
      "metadata": {
        "id": "yPJnZPOCMVuT"
      },
      "execution_count": null,
      "outputs": []
    },
    {
      "cell_type": "markdown",
      "source": [
        "Check if an item is (or is not) on the list"
      ],
      "metadata": {
        "id": "CLn-BNWDNHxN"
      }
    },
    {
      "cell_type": "code",
      "source": [
        "'Air freshener' in items"
      ],
      "metadata": {
        "colab": {
          "base_uri": "https://localhost:8080/"
        },
        "id": "9lz7U6uNNHTn",
        "outputId": "5099d3c8-70fd-439b-e75d-5e890d796a98"
      },
      "execution_count": null,
      "outputs": [
        {
          "output_type": "execute_result",
          "data": {
            "text/plain": [
              "True"
            ]
          },
          "metadata": {},
          "execution_count": 89
        }
      ]
    },
    {
      "cell_type": "code",
      "source": [
        "'Power steering' in items"
      ],
      "metadata": {
        "colab": {
          "base_uri": "https://localhost:8080/"
        },
        "id": "AbKLhs7GNN1p",
        "outputId": "e07086ce-bb6a-41eb-e15e-0ecd300d05f9"
      },
      "execution_count": null,
      "outputs": [
        {
          "output_type": "execute_result",
          "data": {
            "text/plain": [
              "False"
            ]
          },
          "metadata": {},
          "execution_count": 90
        }
      ]
    },
    {
      "cell_type": "code",
      "source": [
        "'Power steering' not in items"
      ],
      "metadata": {
        "colab": {
          "base_uri": "https://localhost:8080/"
        },
        "id": "Np4-BFd0NWr6",
        "outputId": "98a564a3-eddc-49f4-d4ba-c49f54741980"
      },
      "execution_count": null,
      "outputs": [
        {
          "output_type": "execute_result",
          "data": {
            "text/plain": [
              "True"
            ]
          },
          "metadata": {},
          "execution_count": 91
        }
      ]
    },
    {
      "cell_type": "markdown",
      "source": [
        "Concatenating lists"
      ],
      "metadata": {
        "id": "iC90qyWiNkks"
      }
    },
    {
      "cell_type": "code",
      "source": [
        "items_a = ['Cover', 'Cleaning cloth', 'Air freshener', 'Repair kit']\n",
        "items_b = ['Tire inflator', 'GPS', 'Tool kit']\n",
        "items = items_a + items_b\n",
        "items"
      ],
      "metadata": {
        "colab": {
          "base_uri": "https://localhost:8080/"
        },
        "id": "4AdWUXPANhl3",
        "outputId": "11a1e2d3-c117-4b3d-b57d-d9e7680d27a7"
      },
      "execution_count": null,
      "outputs": [
        {
          "output_type": "execute_result",
          "data": {
            "text/plain": [
              "['Cover',\n",
              " 'Cleaning cloth',\n",
              " 'Air freshener',\n",
              " 'Repair kit',\n",
              " 'Tire inflator',\n",
              " 'GPS',\n",
              " 'Tool kit']"
            ]
          },
          "metadata": {},
          "execution_count": 95
        }
      ]
    },
    {
      "cell_type": "markdown",
      "source": [
        "List size"
      ],
      "metadata": {
        "id": "hkwaO-vgNxaN"
      }
    },
    {
      "cell_type": "code",
      "source": [
        "len(items)"
      ],
      "metadata": {
        "colab": {
          "base_uri": "https://localhost:8080/"
        },
        "id": "0Da83UvvNb3q",
        "outputId": "af3af1c2-03ea-46d7-95ac-7368746fe580"
      },
      "execution_count": null,
      "outputs": [
        {
          "output_type": "execute_result",
          "data": {
            "text/plain": [
              "7"
            ]
          },
          "metadata": {},
          "execution_count": 96
        }
      ]
    },
    {
      "cell_type": "markdown",
      "source": [
        "# List indexing"
      ],
      "metadata": {
        "id": "-v6UmwXYOLc5"
      }
    },
    {
      "cell_type": "markdown",
      "source": [
        "List indexing can be performed using [ ]"
      ],
      "metadata": {
        "id": "D6DsL9DFON1E"
      }
    },
    {
      "cell_type": "code",
      "source": [
        "items = ['Cover', 'Cleaning cloth', 'Air freshener', 'Repair kit', 'Tire inflator', 'GPS', 'Tool kit']"
      ],
      "metadata": {
        "id": "JlCWCvhmNzdO"
      },
      "execution_count": null,
      "outputs": []
    },
    {
      "cell_type": "code",
      "source": [
        "items[0]"
      ],
      "metadata": {
        "colab": {
          "base_uri": "https://localhost:8080/",
          "height": 35
        },
        "id": "dBo0IoDKOSWU",
        "outputId": "7b77626c-db24-4bc3-e628-5439081f6d61"
      },
      "execution_count": null,
      "outputs": [
        {
          "output_type": "execute_result",
          "data": {
            "text/plain": [
              "'Cover'"
            ],
            "application/vnd.google.colaboratory.intrinsic+json": {
              "type": "string"
            }
          },
          "metadata": {},
          "execution_count": 98
        }
      ]
    },
    {
      "cell_type": "code",
      "source": [
        "items[3]"
      ],
      "metadata": {
        "colab": {
          "base_uri": "https://localhost:8080/",
          "height": 35
        },
        "id": "oJjHuI_1OUQU",
        "outputId": "a5c31fc1-2502-4a2a-f4b2-03f0fa25316b"
      },
      "execution_count": null,
      "outputs": [
        {
          "output_type": "execute_result",
          "data": {
            "text/plain": [
              "'Repair kit'"
            ],
            "application/vnd.google.colaboratory.intrinsic+json": {
              "type": "string"
            }
          },
          "metadata": {},
          "execution_count": 99
        }
      ]
    },
    {
      "cell_type": "code",
      "source": [
        "items[-1]"
      ],
      "metadata": {
        "colab": {
          "base_uri": "https://localhost:8080/",
          "height": 35
        },
        "id": "UQtFx5EIOVXl",
        "outputId": "42256b5f-e955-4a51-f5bd-ca69fb103d64"
      },
      "execution_count": null,
      "outputs": [
        {
          "output_type": "execute_result",
          "data": {
            "text/plain": [
              "'Tool kit'"
            ],
            "application/vnd.google.colaboratory.intrinsic+json": {
              "type": "string"
            }
          },
          "metadata": {},
          "execution_count": 100
        }
      ]
    },
    {
      "cell_type": "code",
      "source": [
        "items[2:5]"
      ],
      "metadata": {
        "colab": {
          "base_uri": "https://localhost:8080/"
        },
        "id": "4YZnZyYpOWj0",
        "outputId": "5db4fee2-71b8-4c41-c48a-296d63a4b474"
      },
      "execution_count": null,
      "outputs": [
        {
          "output_type": "execute_result",
          "data": {
            "text/plain": [
              "['Air freshener', 'Repair kit', 'Tire inflator']"
            ]
          },
          "metadata": {},
          "execution_count": 101
        }
      ]
    },
    {
      "cell_type": "code",
      "source": [
        "items[3:]"
      ],
      "metadata": {
        "colab": {
          "base_uri": "https://localhost:8080/"
        },
        "id": "wSLsT41dOYZE",
        "outputId": "4c9d060a-2b36-4f5a-c36a-2348d7f4035e"
      },
      "execution_count": null,
      "outputs": [
        {
          "output_type": "execute_result",
          "data": {
            "text/plain": [
              "['Repair kit', 'Tire inflator', 'GPS', 'Tool kit']"
            ]
          },
          "metadata": {},
          "execution_count": 102
        }
      ]
    },
    {
      "cell_type": "markdown",
      "source": [
        "We can also perform list indexing when there are list inside other lists"
      ],
      "metadata": {
        "id": "wvJ4m4aFO7Hc"
      }
    },
    {
      "cell_type": "code",
      "source": [
        "car_1 = ['Jetta', '4.0', 2003, 44410.0, False, [items[1], items[4], items[5]], 88078.64]\n",
        "car_2 = ['Passat', 'Diesel', 1991, 5712.0, False, [items[0], items[2]], 106161.94]\n",
        "cars = [car_1, car_2]\n",
        "\n",
        "cars[0]"
      ],
      "metadata": {
        "colab": {
          "base_uri": "https://localhost:8080/"
        },
        "id": "loAsGETHOaRJ",
        "outputId": "4f2b00ac-4cc1-4f40-dad6-da6f9d4fa59e"
      },
      "execution_count": null,
      "outputs": [
        {
          "output_type": "execute_result",
          "data": {
            "text/plain": [
              "['Jetta',\n",
              " '4.0',\n",
              " 2003,\n",
              " 44410.0,\n",
              " False,\n",
              " ['Cleaning cloth', 'Tire inflator', 'GPS'],\n",
              " 88078.64]"
            ]
          },
          "metadata": {},
          "execution_count": 103
        }
      ]
    },
    {
      "cell_type": "code",
      "source": [
        "cars[0][0]"
      ],
      "metadata": {
        "colab": {
          "base_uri": "https://localhost:8080/",
          "height": 35
        },
        "id": "hiOcZQtEPBpd",
        "outputId": "f7fdfa58-90e1-4513-f340-c07f84a4e9a3"
      },
      "execution_count": null,
      "outputs": [
        {
          "output_type": "execute_result",
          "data": {
            "text/plain": [
              "'Jetta'"
            ],
            "application/vnd.google.colaboratory.intrinsic+json": {
              "type": "string"
            }
          },
          "metadata": {},
          "execution_count": 104
        }
      ]
    },
    {
      "cell_type": "code",
      "source": [
        "cars[0][5]"
      ],
      "metadata": {
        "colab": {
          "base_uri": "https://localhost:8080/"
        },
        "id": "rn9uGpX1PEXu",
        "outputId": "7ee9c9e3-7176-4d70-e90d-0ada526e1362"
      },
      "execution_count": null,
      "outputs": [
        {
          "output_type": "execute_result",
          "data": {
            "text/plain": [
              "['Cleaning cloth', 'Tire inflator', 'GPS']"
            ]
          },
          "metadata": {},
          "execution_count": 105
        }
      ]
    },
    {
      "cell_type": "code",
      "source": [
        "cars[0][5][-1]"
      ],
      "metadata": {
        "colab": {
          "base_uri": "https://localhost:8080/",
          "height": 35
        },
        "id": "cbLI98Z3PHwg",
        "outputId": "ebf69664-7fa7-42c4-b2e3-e90c4579e694"
      },
      "execution_count": null,
      "outputs": [
        {
          "output_type": "execute_result",
          "data": {
            "text/plain": [
              "'GPS'"
            ],
            "application/vnd.google.colaboratory.intrinsic+json": {
              "type": "string"
            }
          },
          "metadata": {},
          "execution_count": 106
        }
      ]
    },
    {
      "cell_type": "markdown",
      "source": [
        "We can slice lists using the correct indexing"
      ],
      "metadata": {
        "id": "AEEFbvDQPKLI"
      }
    },
    {
      "cell_type": "code",
      "source": [
        "some_items = items[2:5]    # Note that element 2 is included, and element 5 is not.\n",
        "some_items"
      ],
      "metadata": {
        "colab": {
          "base_uri": "https://localhost:8080/"
        },
        "id": "4stx0UxMPJFG",
        "outputId": "6408221e-9a5c-4d18-e16e-430319a3c6e3"
      },
      "execution_count": null,
      "outputs": [
        {
          "output_type": "execute_result",
          "data": {
            "text/plain": [
              "['Air freshener', 'Repair kit', 'Tire inflator']"
            ]
          },
          "metadata": {},
          "execution_count": 109
        }
      ]
    },
    {
      "cell_type": "code",
      "source": [
        "final_items = items[4:]\n",
        "some_items"
      ],
      "metadata": {
        "colab": {
          "base_uri": "https://localhost:8080/"
        },
        "id": "8_d0X_aQPRgh",
        "outputId": "dd41769a-9c35-4599-ccc4-c97cd39b8b2c"
      },
      "execution_count": null,
      "outputs": [
        {
          "output_type": "execute_result",
          "data": {
            "text/plain": [
              "['Air freshener', 'Repair kit', 'Tire inflator']"
            ]
          },
          "metadata": {},
          "execution_count": 110
        }
      ]
    },
    {
      "cell_type": "markdown",
      "source": [
        "# Methods using lists"
      ],
      "metadata": {
        "id": "YkvJUN4vPi2f"
      }
    },
    {
      "cell_type": "code",
      "source": [
        "items = ['Cover', 'Cleaning cloth', 'Air freshener', 'Repair kit', 'Tire inflator', 'GPS', 'Tool kit']"
      ],
      "metadata": {
        "id": "T5x1vWLQPhGB"
      },
      "execution_count": null,
      "outputs": []
    },
    {
      "cell_type": "code",
      "source": [
        "items.sort( ) # Sort list (in this case, in alphabetical order)\n",
        "items"
      ],
      "metadata": {
        "colab": {
          "base_uri": "https://localhost:8080/"
        },
        "id": "eTW9Oh9xP4d2",
        "outputId": "15725600-5ec4-46a6-8269-7fa8f4453f97"
      },
      "execution_count": null,
      "outputs": [
        {
          "output_type": "execute_result",
          "data": {
            "text/plain": [
              "['Air freshener',\n",
              " 'Cleaning cloth',\n",
              " 'Cover',\n",
              " 'GPS',\n",
              " 'Repair kit',\n",
              " 'Tire inflator',\n",
              " 'Tool kit']"
            ]
          },
          "metadata": {},
          "execution_count": 119
        }
      ]
    },
    {
      "cell_type": "code",
      "source": [
        "items.append('4X4') # Adds a final element\n",
        "items"
      ],
      "metadata": {
        "colab": {
          "base_uri": "https://localhost:8080/"
        },
        "id": "aeRBJrlMP-cu",
        "outputId": "c60ce458-3be8-4d7a-f86b-fe7d206dae54"
      },
      "execution_count": null,
      "outputs": [
        {
          "output_type": "execute_result",
          "data": {
            "text/plain": [
              "['Air freshener',\n",
              " 'Cleaning cloth',\n",
              " 'Cover',\n",
              " 'GPS',\n",
              " 'Repair kit',\n",
              " 'Tire inflator',\n",
              " 'Tool kit',\n",
              " '4X4']"
            ]
          },
          "metadata": {},
          "execution_count": 120
        }
      ]
    },
    {
      "cell_type": "code",
      "source": [
        "items.pop( ) # Remove final element\n",
        "items"
      ],
      "metadata": {
        "colab": {
          "base_uri": "https://localhost:8080/"
        },
        "id": "OtawQyOPQEbi",
        "outputId": "534571d6-3fe0-44c2-f24e-2a4cde618f3d"
      },
      "execution_count": null,
      "outputs": [
        {
          "output_type": "execute_result",
          "data": {
            "text/plain": [
              "['Air freshener',\n",
              " 'Cleaning cloth',\n",
              " 'Cover',\n",
              " 'GPS',\n",
              " 'Repair kit',\n",
              " 'Tire inflator',\n",
              " 'Tool kit']"
            ]
          },
          "metadata": {},
          "execution_count": 121
        }
      ]
    },
    {
      "cell_type": "code",
      "source": [
        "items.pop(4) # Element index can also be used to remove a specific element\n",
        "items"
      ],
      "metadata": {
        "colab": {
          "base_uri": "https://localhost:8080/"
        },
        "id": "cwBewtdvQJ0M",
        "outputId": "134f4287-5172-48a2-ff00-14db2a02b6f0"
      },
      "execution_count": null,
      "outputs": [
        {
          "output_type": "execute_result",
          "data": {
            "text/plain": [
              "['Air freshener',\n",
              " 'Cleaning cloth',\n",
              " 'Cover',\n",
              " 'GPS',\n",
              " 'Tire inflator',\n",
              " 'Tool kit']"
            ]
          },
          "metadata": {},
          "execution_count": 122
        }
      ]
    },
    {
      "cell_type": "code",
      "source": [
        "items2 = items.copy( ) # Make a copy of a list. Create a new space in the computer memory for the new list.\n",
        "items2"
      ],
      "metadata": {
        "colab": {
          "base_uri": "https://localhost:8080/"
        },
        "id": "Cacx6iJhQdWB",
        "outputId": "5b56cf34-70f8-4f02-cc2f-77834c99e3e6"
      },
      "execution_count": null,
      "outputs": [
        {
          "output_type": "execute_result",
          "data": {
            "text/plain": [
              "['Air freshener',\n",
              " 'Cleaning cloth',\n",
              " 'Cover',\n",
              " 'GPS',\n",
              " 'Tire inflator',\n",
              " 'Tool kit']"
            ]
          },
          "metadata": {},
          "execution_count": 125
        }
      ]
    },
    {
      "cell_type": "markdown",
      "source": [
        "# Loops and conditionals"
      ],
      "metadata": {
        "id": "EYm35pjqUUys"
      }
    },
    {
      "cell_type": "markdown",
      "source": [
        "For operator can be used for simple loops"
      ],
      "metadata": {
        "id": "OxwnYOE0UXB7"
      }
    },
    {
      "cell_type": "code",
      "source": [
        "items = ['Cover', 'Cleaning cloth', 'Air freshener', 'Repair kit', 'Tire inflator', 'GPS', 'Tool kit']\n",
        "items"
      ],
      "metadata": {
        "colab": {
          "base_uri": "https://localhost:8080/"
        },
        "id": "G6_Bc61DUWfW",
        "outputId": "9960c66c-92d7-4ac8-cb13-778dcbbef48a"
      },
      "execution_count": null,
      "outputs": [
        {
          "output_type": "execute_result",
          "data": {
            "text/plain": [
              "['Cover',\n",
              " 'Cleaning cloth',\n",
              " 'Air freshener',\n",
              " 'Repair kit',\n",
              " 'Tire inflator',\n",
              " 'GPS',\n",
              " 'Tool kit']"
            ]
          },
          "metadata": {},
          "execution_count": 127
        }
      ]
    },
    {
      "cell_type": "code",
      "source": [
        "for item in items:\n",
        "  print(item)"
      ],
      "metadata": {
        "colab": {
          "base_uri": "https://localhost:8080/"
        },
        "id": "xSI8C5hbUdO8",
        "outputId": "bb8d0d24-63bd-42fd-ab3e-67c403346d54"
      },
      "execution_count": null,
      "outputs": [
        {
          "output_type": "stream",
          "name": "stdout",
          "text": [
            "Cover\n",
            "Cleaning cloth\n",
            "Air freshener\n",
            "Repair kit\n",
            "Tire inflator\n",
            "GPS\n",
            "Tool kit\n"
          ]
        }
      ]
    },
    {
      "cell_type": "markdown",
      "source": [
        "List comprehension can be used to create lists"
      ],
      "metadata": {
        "id": "EpEmqkteUp0Y"
      }
    },
    {
      "cell_type": "code",
      "source": [
        "list(range(10)) # Creates a list from 0 to 10 (excluding the final term)"
      ],
      "metadata": {
        "colab": {
          "base_uri": "https://localhost:8080/"
        },
        "id": "Yy9cP1SFUli5",
        "outputId": "d993bc7c-0446-4eb1-9cb2-793bb91fc3e0"
      },
      "execution_count": null,
      "outputs": [
        {
          "output_type": "execute_result",
          "data": {
            "text/plain": [
              "[0, 1, 2, 3, 4, 5, 6, 7, 8, 9]"
            ]
          },
          "metadata": {},
          "execution_count": 130
        }
      ]
    },
    {
      "cell_type": "code",
      "source": [
        "for i in range(10):\n",
        "  print(i**2)"
      ],
      "metadata": {
        "colab": {
          "base_uri": "https://localhost:8080/"
        },
        "id": "EM-N-yy8U2hK",
        "outputId": "55a0b51a-f5da-485d-9928-c1df5e40e480"
      },
      "execution_count": null,
      "outputs": [
        {
          "output_type": "stream",
          "name": "stdout",
          "text": [
            "0\n",
            "1\n",
            "4\n",
            "9\n",
            "16\n",
            "25\n",
            "36\n",
            "49\n",
            "64\n",
            "81\n"
          ]
        }
      ]
    },
    {
      "cell_type": "code",
      "source": [
        "square_numbers = []  # Creating empty list\n",
        "\n",
        "for i in range(10):\n",
        "  square_numbers.append(i**2)\n",
        "\n",
        "square_numbers"
      ],
      "metadata": {
        "colab": {
          "base_uri": "https://localhost:8080/"
        },
        "id": "IBm6W8sfU-yR",
        "outputId": "8b45a589-629b-4504-cc04-6e6f0ebe67c3"
      },
      "execution_count": null,
      "outputs": [
        {
          "output_type": "execute_result",
          "data": {
            "text/plain": [
              "[0, 1, 4, 9, 16, 25, 36, 49, 64, 81]"
            ]
          },
          "metadata": {},
          "execution_count": 132
        }
      ]
    },
    {
      "cell_type": "markdown",
      "source": [
        "Using list comprehension, this entire procedure can be performed using a single line"
      ],
      "metadata": {
        "id": "aJQU9L6wVO0d"
      }
    },
    {
      "cell_type": "code",
      "source": [
        "square_numbers = [i**2 for i in range(10)]\n",
        "\n",
        "square_numbers"
      ],
      "metadata": {
        "colab": {
          "base_uri": "https://localhost:8080/"
        },
        "id": "NWGlC8JUVMvK",
        "outputId": "c57d92dd-bb16-4caf-cbc2-d6dd5711629f"
      },
      "execution_count": null,
      "outputs": [
        {
          "output_type": "execute_result",
          "data": {
            "text/plain": [
              "[0, 1, 4, 9, 16, 25, 36, 49, 64, 81]"
            ]
          },
          "metadata": {},
          "execution_count": 134
        }
      ]
    },
    {
      "cell_type": "markdown",
      "source": [
        "# Nested loops"
      ],
      "metadata": {
        "id": "F0l6w5UFVtrA"
      }
    },
    {
      "cell_type": "code",
      "source": [
        "car_1 = ['Jetta', '4.0', 2003, 44410.0, False, [items[1], items[4], items[5]], 88078.64]\n",
        "car_2 = ['Passat', 'Diesel', 1991, 5712.0, False, [items[0], items[2]], 106161.94]\n",
        "cars = [car_1, car_2]\n",
        "cars"
      ],
      "metadata": {
        "colab": {
          "base_uri": "https://localhost:8080/"
        },
        "id": "eAl_YonDVumP",
        "outputId": "b3f3aaeb-7b2c-48e6-bc5d-a275462c8d03"
      },
      "execution_count": null,
      "outputs": [
        {
          "output_type": "execute_result",
          "data": {
            "text/plain": [
              "[['Jetta',\n",
              "  '4.0',\n",
              "  2003,\n",
              "  44410.0,\n",
              "  False,\n",
              "  ['Cleaning cloth', 'Tire inflator', 'GPS'],\n",
              "  88078.64],\n",
              " ['Passat',\n",
              "  'Diesel',\n",
              "  1991,\n",
              "  5712.0,\n",
              "  False,\n",
              "  ['Cover', 'Air freshener'],\n",
              "  106161.94]]"
            ]
          },
          "metadata": {},
          "execution_count": 136
        }
      ]
    },
    {
      "cell_type": "code",
      "source": [
        "print(cars)"
      ],
      "metadata": {
        "colab": {
          "base_uri": "https://localhost:8080/"
        },
        "id": "7Xd7m3rHWfOY",
        "outputId": "f9ae8b60-1946-434c-98f1-afc69bb2dd66"
      },
      "execution_count": null,
      "outputs": [
        {
          "output_type": "stream",
          "name": "stdout",
          "text": [
            "[['Jetta', '4.0', 2003, 44410.0, False, ['Cleaning cloth', 'Tire inflator', 'GPS'], 88078.64], ['Passat', 'Diesel', 1991, 5712.0, False, ['Cover', 'Air freshener'], 106161.94]]\n"
          ]
        }
      ]
    },
    {
      "cell_type": "code",
      "source": [
        "for car in cars:\n",
        "  print(car)"
      ],
      "metadata": {
        "colab": {
          "base_uri": "https://localhost:8080/"
        },
        "id": "rRWBUzrJWhcY",
        "outputId": "d0185489-4f12-4985-b27d-a90bf7c15249"
      },
      "execution_count": null,
      "outputs": [
        {
          "output_type": "stream",
          "name": "stdout",
          "text": [
            "['Jetta', '4.0', 2003, 44410.0, False, ['Cleaning cloth', 'Tire inflator', 'GPS'], 88078.64]\n",
            "['Passat', 'Diesel', 1991, 5712.0, False, ['Cover', 'Air freshener'], 106161.94]\n"
          ]
        }
      ]
    },
    {
      "cell_type": "code",
      "source": [
        "for car in cars:        # In each iteration, read a car from the list  \n",
        "  for data in car:      # In each iteration, read data for each car\n",
        "    print(data)"
      ],
      "metadata": {
        "colab": {
          "base_uri": "https://localhost:8080/"
        },
        "id": "eor5tppHV0sk",
        "outputId": "6c0c025e-0a76-448a-9340-526735d68a12"
      },
      "execution_count": null,
      "outputs": [
        {
          "output_type": "stream",
          "name": "stdout",
          "text": [
            "Jetta\n",
            "4.0\n",
            "2003\n",
            "44410.0\n",
            "False\n",
            "['Cleaning cloth', 'Tire inflator', 'GPS']\n",
            "88078.64\n",
            "Passat\n",
            "Diesel\n",
            "1991\n",
            "5712.0\n",
            "False\n",
            "['Cover', 'Air freshener']\n",
            "106161.94\n"
          ]
        }
      ]
    },
    {
      "cell_type": "markdown",
      "source": [
        "Another example"
      ],
      "metadata": {
        "id": "asSURmf6W0ZU"
      }
    },
    {
      "cell_type": "code",
      "source": [
        "items_a = ['Cover', 'Air freshener', 'Repair kit', 'Tool kit']\n",
        "items_b = ['Repair kit', 'GPS']\n",
        "items_c = ['Cleaning cloth', 'Air freshener', 'Tire inflator']\n",
        "items_list = [items_a, items_b, items_c]"
      ],
      "metadata": {
        "id": "KPIaQ-pKWjqx"
      },
      "execution_count": null,
      "outputs": []
    },
    {
      "cell_type": "code",
      "source": [
        "accessories = []\n",
        "\n",
        "for items in items_list:\n",
        "  for item in items:\n",
        "    accessories.append(item)\n",
        "\n",
        "accessories"
      ],
      "metadata": {
        "colab": {
          "base_uri": "https://localhost:8080/"
        },
        "id": "Xc6Z7y7iXRl6",
        "outputId": "e0467336-250c-47bd-f3a2-0b2b7d35f705"
      },
      "execution_count": null,
      "outputs": [
        {
          "output_type": "execute_result",
          "data": {
            "text/plain": [
              "['Cover',\n",
              " 'Air freshener',\n",
              " 'Repair kit',\n",
              " 'Tool kit',\n",
              " 'Repair kit',\n",
              " 'GPS',\n",
              " 'Cleaning cloth',\n",
              " 'Air freshener',\n",
              " 'Tire inflator']"
            ]
          },
          "metadata": {},
          "execution_count": 144
        }
      ]
    },
    {
      "cell_type": "markdown",
      "source": [
        "To remove duplicates, we can use the set( ) function"
      ],
      "metadata": {
        "id": "9wEU-F5fXj5E"
      }
    },
    {
      "cell_type": "code",
      "source": [
        "accessories = list(set(accessories))"
      ],
      "metadata": {
        "id": "Y2x6d16mXdS5"
      },
      "execution_count": null,
      "outputs": []
    },
    {
      "cell_type": "markdown",
      "source": [
        "We can also perform these operations using list comprehension"
      ],
      "metadata": {
        "id": "XK6x-5XEXtvM"
      }
    },
    {
      "cell_type": "code",
      "source": [
        "acessories = list(set([item for items in items_list for item in items]))\n",
        "\n",
        "acessories"
      ],
      "metadata": {
        "colab": {
          "base_uri": "https://localhost:8080/"
        },
        "id": "P3gb-O3YXpJO",
        "outputId": "8c3bb44b-081a-4b0e-f4e2-56bb3e44c648"
      },
      "execution_count": null,
      "outputs": [
        {
          "output_type": "execute_result",
          "data": {
            "text/plain": [
              "['Repair kit',\n",
              " 'GPS',\n",
              " 'Cleaning cloth',\n",
              " 'Tool kit',\n",
              " 'Cover',\n",
              " 'Air freshener',\n",
              " 'Tire inflator']"
            ]
          },
          "metadata": {},
          "execution_count": 149
        }
      ]
    },
    {
      "cell_type": "markdown",
      "source": [
        "# Conditionals"
      ],
      "metadata": {
        "id": "LMIxWgsCHyF0"
      }
    },
    {
      "cell_type": "markdown",
      "source": [
        "Conditionals can be used to add specific triggers to code"
      ],
      "metadata": {
        "id": "hCnoS69qIrNT"
      }
    },
    {
      "cell_type": "code",
      "source": [
        "# index 1 - car name\n",
        "# index 2 - year\n",
        "# index 3 - is car 0 km?\n",
        "\n",
        "data = [\n",
        "        ['Jetta', 2003, False],\n",
        "        ['Passat', 1991, False],\n",
        "        ['Crossfox', 1990, False],\n",
        "        ['DS5', 2019, True],\n",
        "        ['Aston Martin DB4', 2006, False],\n",
        "        ['Palio', 2012, False],\n",
        "        ['A5', 2019, True],\n",
        "        ['Cabrio S3', 2009, False],\n",
        "        ['Dodge Journey', 2019, False],\n",
        "        ['Carens', 2011, False]\n",
        "]"
      ],
      "metadata": {
        "id": "ZGjxtE_NX48b"
      },
      "execution_count": 5,
      "outputs": []
    },
    {
      "cell_type": "markdown",
      "source": [
        "We want to print the car name if it is new (0 km)"
      ],
      "metadata": {
        "id": "jQG3EjsdIm2r"
      }
    },
    {
      "cell_type": "code",
      "source": [
        "for car in data:\n",
        "  if car[2] == True:\n",
        "    print(f'{car[0]} is 0 km.')"
      ],
      "metadata": {
        "colab": {
          "base_uri": "https://localhost:8080/"
        },
        "id": "WXYjZz3rIMdM",
        "outputId": "915d589c-9813-44b5-b207-f85bc3774bc0"
      },
      "execution_count": 6,
      "outputs": [
        {
          "output_type": "stream",
          "name": "stdout",
          "text": [
            "DS5 is 0 km.\n",
            "A5 is 0 km.\n"
          ]
        }
      ]
    },
    {
      "cell_type": "markdown",
      "source": [
        "Using list comprehension"
      ],
      "metadata": {
        "id": "zWLHSgA0JN6f"
      }
    },
    {
      "cell_type": "code",
      "source": [
        "new_cars = [car[0] for car in data if car[2] == True]\n",
        "new_cars"
      ],
      "metadata": {
        "colab": {
          "base_uri": "https://localhost:8080/"
        },
        "id": "o-vwHThSI9IP",
        "outputId": "c3f0f402-8ed4-4960-bffb-ad269a92da16"
      },
      "execution_count": 10,
      "outputs": [
        {
          "output_type": "execute_result",
          "data": {
            "text/plain": [
              "['DS5', 'A5']"
            ]
          },
          "metadata": {},
          "execution_count": 10
        }
      ]
    },
    {
      "cell_type": "markdown",
      "source": [
        "# If-else-elif"
      ],
      "metadata": {
        "id": "BhcUzHFAJz5g"
      }
    },
    {
      "cell_type": "markdown",
      "source": [
        "These operators can be used to handle exceptions when dealing with conditionals."
      ],
      "metadata": {
        "id": "fjcKFaIKJ1_a"
      }
    },
    {
      "cell_type": "code",
      "source": [
        "new_cars = []\n",
        "old_cars = []\n",
        "\n",
        "for car in data:\n",
        "  if car[2] == True:\n",
        "    print(f'{car[0]} is 0 km.')\n",
        "    new_cars.append(car[0])\n",
        "  else:\n",
        "    print(f'{car[0]} is not 0 km.')\n",
        "    old_cars.append(car[0])"
      ],
      "metadata": {
        "colab": {
          "base_uri": "https://localhost:8080/"
        },
        "id": "TSx-Y5MGJza9",
        "outputId": "f7841644-2b61-4e7a-a51c-be983fb1e9f9"
      },
      "execution_count": 13,
      "outputs": [
        {
          "output_type": "stream",
          "name": "stdout",
          "text": [
            "Jetta is not 0 km.\n",
            "Passat is not 0 km.\n",
            "Crossfox is not 0 km.\n",
            "DS5 is 0 km.\n",
            "Aston Martin DB4 is not 0 km.\n",
            "Palio is not 0 km.\n",
            "A5 is 0 km.\n",
            "Cabrio S3 is not 0 km.\n",
            "Dodge Journey is not 0 km.\n",
            "Carens is not 0 km.\n"
          ]
        }
      ]
    },
    {
      "cell_type": "markdown",
      "source": [
        "Elif can be used for more than two conditions"
      ],
      "metadata": {
        "id": "alavIHudKjH-"
      }
    },
    {
      "cell_type": "code",
      "source": [
        "for car in data:\n",
        "  if car[1] > 2015:\n",
        "    print(f'{car[0]} was fabricated after 2015.')\n",
        "  elif car[1] > 2005:\n",
        "    print(f'{car[0]} was fabricated between 2005 and 2015.')\n",
        "  elif car[1] > 1995:\n",
        "    print(f'{car[0]} was fabricated between 1995 and 2005.')\n",
        "  else:\n",
        "    print(f'{car[0]} was fabricated before 1995.')"
      ],
      "metadata": {
        "colab": {
          "base_uri": "https://localhost:8080/"
        },
        "id": "I8i79307KKzk",
        "outputId": "cdb21b2b-8516-4e22-9be8-8f31df0e8dbd"
      },
      "execution_count": 14,
      "outputs": [
        {
          "output_type": "stream",
          "name": "stdout",
          "text": [
            "Jetta was fabricated between 1995 and 2005.\n",
            "Passat was fabricated before 1995.\n",
            "Crossfox was fabricated before 1995.\n",
            "DS5 was fabricated after 2015.\n",
            "Aston Martin DB4 was fabricated between 2005 and 2015.\n",
            "Palio was fabricated between 2005 and 2015.\n",
            "A5 was fabricated after 2015.\n",
            "Cabrio S3 was fabricated between 2005 and 2015.\n",
            "Dodge Journey was fabricated after 2015.\n",
            "Carens was fabricated between 2005 and 2015.\n"
          ]
        }
      ]
    },
    {
      "cell_type": "markdown",
      "source": [
        "Other important operators:\n",
        "\n",
        "**and**: two conditions need to be satisfied\n",
        "\n",
        "**or**: either condition need to be satisfied"
      ],
      "metadata": {
        "id": "rA-ede_PLUsM"
      }
    },
    {
      "cell_type": "code",
      "source": [
        "for car in data:\n",
        "  if car[1] <= 2000 and car[2] == False:\n",
        "    print(f'{car[0]} is very old.')\n",
        "  \n",
        "  if car[1] > 2018 or car[2] == True:\n",
        "    print(f'{car[0]} is in very good condition.')\n"
      ],
      "metadata": {
        "colab": {
          "base_uri": "https://localhost:8080/"
        },
        "id": "t9r4XMK4LCLk",
        "outputId": "6c6ee9b3-feea-498f-8c96-d82c87b09418"
      },
      "execution_count": 15,
      "outputs": [
        {
          "output_type": "stream",
          "name": "stdout",
          "text": [
            "Passat is very old.\n",
            "Crossfox is very old.\n",
            "DS5 is in very good condition.\n",
            "A5 is in very good condition.\n",
            "Dodge Journey is in very good condition.\n"
          ]
        }
      ]
    },
    {
      "cell_type": "markdown",
      "source": [
        "# Numpy arrays"
      ],
      "metadata": {
        "id": "NX_IwXPkM6e9"
      }
    },
    {
      "cell_type": "markdown",
      "source": [
        "Finally, we will start working with numpy. Numpy is one of the most important python packages for handling numerical data. \n",
        "\n",
        "Numpy arrays are very similar to usual python lists."
      ],
      "metadata": {
        "id": "RV1ynozqM88g"
      }
    },
    {
      "cell_type": "code",
      "source": [
        "import numpy as np"
      ],
      "metadata": {
        "id": "YJZIGnI3MH3b"
      },
      "execution_count": 16,
      "outputs": []
    },
    {
      "cell_type": "code",
      "source": [
        "np.arange(10)  # Similar to range( ) "
      ],
      "metadata": {
        "colab": {
          "base_uri": "https://localhost:8080/"
        },
        "id": "pmpNxGrYPL0O",
        "outputId": "d12e755f-4a69-43ac-e5ad-9c7a18779910"
      },
      "execution_count": 18,
      "outputs": [
        {
          "output_type": "execute_result",
          "data": {
            "text/plain": [
              "array([0, 1, 2, 3, 4, 5, 6, 7, 8, 9])"
            ]
          },
          "metadata": {},
          "execution_count": 18
        }
      ]
    },
    {
      "cell_type": "markdown",
      "source": [
        "One may create numpy arrays from a Python list"
      ],
      "metadata": {
        "id": "ngveP8TvPhrP"
      }
    },
    {
      "cell_type": "code",
      "source": [
        "km_list  = [1000, 2300, 4987, 1500]\n",
        "\n",
        "km_array = np.array(km_list)\n",
        "km_array"
      ],
      "metadata": {
        "colab": {
          "base_uri": "https://localhost:8080/"
        },
        "id": "46v967tIPTC6",
        "outputId": "8aaafa2b-ebc4-43db-f9dc-3526d11c3c46"
      },
      "execution_count": 20,
      "outputs": [
        {
          "output_type": "execute_result",
          "data": {
            "text/plain": [
              "array([1000, 2300, 4987, 1500])"
            ]
          },
          "metadata": {},
          "execution_count": 20
        }
      ]
    },
    {
      "cell_type": "markdown",
      "source": [
        "We can check the type for the array"
      ],
      "metadata": {
        "id": "YmRkgstBPz7W"
      }
    },
    {
      "cell_type": "code",
      "source": [
        "type(km_array)"
      ],
      "metadata": {
        "colab": {
          "base_uri": "https://localhost:8080/"
        },
        "id": "APMr9u9oPtBu",
        "outputId": "06f50cea-4b22-462d-f40e-f60106e079f8"
      },
      "execution_count": 21,
      "outputs": [
        {
          "output_type": "execute_result",
          "data": {
            "text/plain": [
              "numpy.ndarray"
            ]
          },
          "metadata": {},
          "execution_count": 21
        }
      ]
    },
    {
      "cell_type": "markdown",
      "source": [
        "We can also check type of data inside the array\n",
        "\n",
        "Important: data from numpy arrays must be of the same type!"
      ],
      "metadata": {
        "id": "Qog1IK0wP3IH"
      }
    },
    {
      "cell_type": "code",
      "source": [
        "km_array.dtype"
      ],
      "metadata": {
        "colab": {
          "base_uri": "https://localhost:8080/"
        },
        "id": "FJIjjXlLPxUk",
        "outputId": "f3ae1e2e-4f2f-4e51-b42f-4f02d87cebfd"
      },
      "execution_count": 22,
      "outputs": [
        {
          "output_type": "execute_result",
          "data": {
            "text/plain": [
              "dtype('int64')"
            ]
          },
          "metadata": {},
          "execution_count": 22
        }
      ]
    },
    {
      "cell_type": "markdown",
      "source": [
        "Data from external files can also be turned into numpy arrays"
      ],
      "metadata": {
        "id": "4Ty7jjyIQBao"
      }
    },
    {
      "cell_type": "code",
      "source": [
        "km_array = np.loadtxt(fname = 'car_km.txt', dtype = int)\n",
        "km_array"
      ],
      "metadata": {
        "colab": {
          "base_uri": "https://localhost:8080/"
        },
        "id": "3WUnj8dpP-OC",
        "outputId": "8f711144-c903-4990-f918-c8b55c6ec911"
      },
      "execution_count": 29,
      "outputs": [
        {
          "output_type": "execute_result",
          "data": {
            "text/plain": [
              "array([ 70000,  50000, 100000, ...,  83000,  90000,  40000])"
            ]
          },
          "metadata": {},
          "execution_count": 29
        }
      ]
    },
    {
      "cell_type": "markdown",
      "source": [
        "We can also create arrays with multiple dimensions"
      ],
      "metadata": {
        "id": "EnV7BuqrRYx4"
      }
    },
    {
      "cell_type": "code",
      "source": [
        "data = [['Jetta', 2003, False],\n",
        "        ['Passat', 1991, False],\n",
        "        ['Crossfox', 1990, False],\n",
        "        ['DS5', 2019, True],\n",
        "        ['Aston Martin DB4', 2006, False],\n",
        "        ['Palio', 2012, False],\n",
        "        ['A5', 2019, True],\n",
        "        ['Cabrio S3', 2009, False],\n",
        "        ['Dodge Journey', 2019, False],\n",
        "        ['Carens', 2011, False]]\n",
        "\n",
        "data_array = np.array(data)\n",
        "data_array"
      ],
      "metadata": {
        "colab": {
          "base_uri": "https://localhost:8080/"
        },
        "id": "JNqi3V0WRBg4",
        "outputId": "5f7f2369-7e66-45fe-f84d-f1e1eb394cf7"
      },
      "execution_count": 31,
      "outputs": [
        {
          "output_type": "execute_result",
          "data": {
            "text/plain": [
              "array([['Jetta', '2003', 'False'],\n",
              "       ['Passat', '1991', 'False'],\n",
              "       ['Crossfox', '1990', 'False'],\n",
              "       ['DS5', '2019', 'True'],\n",
              "       ['Aston Martin DB4', '2006', 'False'],\n",
              "       ['Palio', '2012', 'False'],\n",
              "       ['A5', '2019', 'True'],\n",
              "       ['Cabrio S3', '2009', 'False'],\n",
              "       ['Dodge Journey', '2019', 'False'],\n",
              "       ['Carens', '2011', 'False']], dtype='<U21')"
            ]
          },
          "metadata": {},
          "execution_count": 31
        }
      ]
    },
    {
      "cell_type": "markdown",
      "source": [
        "Array dimension (in this case, number of row and columns) can be found using shape"
      ],
      "metadata": {
        "id": "qQxRayc4RtzO"
      }
    },
    {
      "cell_type": "code",
      "source": [
        "data_array.shape"
      ],
      "metadata": {
        "colab": {
          "base_uri": "https://localhost:8080/"
        },
        "id": "cwtdjsYzRmuG",
        "outputId": "7dcf5e28-6c8f-4c20-bbef-99f65a8d6075"
      },
      "execution_count": 33,
      "outputs": [
        {
          "output_type": "execute_result",
          "data": {
            "text/plain": [
              "(10, 3)"
            ]
          },
          "metadata": {},
          "execution_count": 33
        }
      ]
    },
    {
      "cell_type": "markdown",
      "source": [
        "Comparing efficiency of numpy arrays and python base lists"
      ],
      "metadata": {
        "id": "RrMPDW6KR5cX"
      }
    },
    {
      "cell_type": "code",
      "source": [
        "np_array = np.arange(1000000)"
      ],
      "metadata": {
        "id": "ACveBMfMRyjr"
      },
      "execution_count": 34,
      "outputs": []
    },
    {
      "cell_type": "code",
      "source": [
        "py_list = list(range(1000000))"
      ],
      "metadata": {
        "id": "xh79rycaSBbo"
      },
      "execution_count": 35,
      "outputs": []
    },
    {
      "cell_type": "markdown",
      "source": [
        "To compare execution times, we can use %time"
      ],
      "metadata": {
        "id": "ehrEoyyeSQhP"
      }
    },
    {
      "cell_type": "code",
      "source": [
        "%time for _ in range(100): np_array *= 2"
      ],
      "metadata": {
        "colab": {
          "base_uri": "https://localhost:8080/"
        },
        "id": "mwDqK7obSEWo",
        "outputId": "9bd1f1e0-9322-40a3-b04f-e451f78d98ed"
      },
      "execution_count": 36,
      "outputs": [
        {
          "output_type": "stream",
          "name": "stdout",
          "text": [
            "CPU times: user 104 ms, sys: 610 µs, total: 104 ms\n",
            "Wall time: 112 ms\n"
          ]
        }
      ]
    },
    {
      "cell_type": "code",
      "source": [
        "%time for _ in range(100): py_list = [x*2 for x in py_list]"
      ],
      "metadata": {
        "colab": {
          "base_uri": "https://localhost:8080/"
        },
        "id": "uF_ADn09Sdxb",
        "outputId": "52610d09-0513-4cf6-95ef-761de0f22e17"
      },
      "execution_count": 37,
      "outputs": [
        {
          "output_type": "stream",
          "name": "stdout",
          "text": [
            "CPU times: user 9.47 s, sys: 2.38 s, total: 11.9 s\n",
            "Wall time: 11.9 s\n"
          ]
        }
      ]
    },
    {
      "cell_type": "markdown",
      "source": [
        "Note that execution with numpy arrays is much faster than using conventional Python lists."
      ],
      "metadata": {
        "id": "cAhTZ_0nSuj3"
      }
    },
    {
      "cell_type": "markdown",
      "source": [
        "# Operations with Numpy arrays"
      ],
      "metadata": {
        "id": "WHoRvq2TW4mm"
      }
    },
    {
      "cell_type": "markdown",
      "source": [
        "Numpy is a very strong tool for dealing with numerical data. Thus, the possibility of performing mathematical operations using numpy arrays is one of the main reasons to use this library."
      ],
      "metadata": {
        "id": "n_h7VDt_XJtt"
      }
    },
    {
      "cell_type": "code",
      "source": [
        "km = [44410., 5712., 37123., 0., 25757.]\n",
        "year = [2003, 1991, 1990, 2019, 2006]"
      ],
      "metadata": {
        "id": "l8vZoBItSsO5"
      },
      "execution_count": 38,
      "outputs": []
    },
    {
      "cell_type": "markdown",
      "source": [
        "We are not able to perform operations using conventional Python lists. First, we have to turn them into Numpy arrays.\n",
        "\n",
        "Example: Calculating age of each car"
      ],
      "metadata": {
        "id": "N1tgHA8qXXbG"
      }
    },
    {
      "cell_type": "code",
      "source": [
        "km = np.array(km)\n",
        "year = np.array(year)\n",
        "\n",
        "curr_year = 2022\n",
        "age = curr_year - year\n",
        "age"
      ],
      "metadata": {
        "colab": {
          "base_uri": "https://localhost:8080/"
        },
        "id": "esdunpNgXEqS",
        "outputId": "5d023c2b-23d9-482d-adca-e49f6e73f9e3"
      },
      "execution_count": 41,
      "outputs": [
        {
          "output_type": "execute_result",
          "data": {
            "text/plain": [
              "array([19, 31, 32,  3, 16])"
            ]
          },
          "metadata": {},
          "execution_count": 41
        }
      ]
    },
    {
      "cell_type": "markdown",
      "source": [
        "We can also perform operations between arrays"
      ],
      "metadata": {
        "id": "tJb11yXBX2k1"
      }
    },
    {
      "cell_type": "code",
      "source": [
        "km_per_year = km/age # Division: index i with index i\n",
        "km_per_year"
      ],
      "metadata": {
        "colab": {
          "base_uri": "https://localhost:8080/"
        },
        "id": "dU-2TRW6XhNP",
        "outputId": "1fa10336-7819-4930-8648-3c54e861c379"
      },
      "execution_count": 43,
      "outputs": [
        {
          "output_type": "execute_result",
          "data": {
            "text/plain": [
              "array([2337.36842105,  184.25806452, 1160.09375   ,    0.        ,\n",
              "       1609.8125    ])"
            ]
          },
          "metadata": {},
          "execution_count": 43
        }
      ]
    },
    {
      "cell_type": "markdown",
      "source": [
        "Operations with multidimensional arrays"
      ],
      "metadata": {
        "id": "m6FkurCuYH77"
      }
    },
    {
      "cell_type": "code",
      "source": [
        "data = np.array([km, year])\n",
        "data.shape"
      ],
      "metadata": {
        "colab": {
          "base_uri": "https://localhost:8080/"
        },
        "id": "AmQIjdztYAFL",
        "outputId": "7235775e-421e-4ecb-9cf1-8f7b4f81d4f0"
      },
      "execution_count": 46,
      "outputs": [
        {
          "output_type": "execute_result",
          "data": {
            "text/plain": [
              "(2, 5)"
            ]
          },
          "metadata": {},
          "execution_count": 46
        }
      ]
    },
    {
      "cell_type": "code",
      "source": [
        "km_per_year = data[0]/(curr_year - data[1])\n",
        "km_per_year"
      ],
      "metadata": {
        "colab": {
          "base_uri": "https://localhost:8080/"
        },
        "id": "yAlNNkguYL7L",
        "outputId": "3d73cd6a-f510-4bd1-f66b-c6bb0634565f"
      },
      "execution_count": 48,
      "outputs": [
        {
          "output_type": "execute_result",
          "data": {
            "text/plain": [
              "array([2337.36842105,  184.25806452, 1160.09375   ,    0.        ,\n",
              "       1609.8125    ])"
            ]
          },
          "metadata": {},
          "execution_count": 48
        }
      ]
    },
    {
      "cell_type": "markdown",
      "source": [
        "Other example: calculating body mass index"
      ],
      "metadata": {
        "id": "sL53MBemYjlW"
      }
    },
    {
      "cell_type": "code",
      "source": [
        "height = [1.71, 1.82, 1.63, 1.67, 1.92, 1.69] # in meters\n",
        "weight = [72, 78, 53, 67, 89, 82] # in kg\n",
        "data = np.array([height, weight])"
      ],
      "metadata": {
        "id": "8nTPkiJKYMs6"
      },
      "execution_count": 51,
      "outputs": []
    },
    {
      "cell_type": "code",
      "source": [
        "BMI = data[1]/(data[0]**2)\n",
        "BMI"
      ],
      "metadata": {
        "colab": {
          "base_uri": "https://localhost:8080/"
        },
        "id": "-ine-DVTYzmc",
        "outputId": "c5a815c8-b142-4153-f6ea-d9241e2d458c"
      },
      "execution_count": 52,
      "outputs": [
        {
          "output_type": "execute_result",
          "data": {
            "text/plain": [
              "array([24.62296091, 23.54788069, 19.94805977, 24.02380867, 24.14279514,\n",
              "       28.71047932])"
            ]
          },
          "metadata": {},
          "execution_count": 52
        }
      ]
    },
    {
      "cell_type": "markdown",
      "source": [
        "# Indexing with Numpy arrays"
      ],
      "metadata": {
        "id": "OMksHhkBZWbt"
      }
    },
    {
      "cell_type": "markdown",
      "source": [
        "Indexing with numpy arrays is very similar to usual Python lists"
      ],
      "metadata": {
        "id": "MpTBv-q4ZZer"
      }
    },
    {
      "cell_type": "code",
      "source": [
        "counter = np.arange(10)"
      ],
      "metadata": {
        "id": "ulmSh7B6ZKKD"
      },
      "execution_count": 53,
      "outputs": []
    },
    {
      "cell_type": "code",
      "source": [
        "counter[5]"
      ],
      "metadata": {
        "colab": {
          "base_uri": "https://localhost:8080/"
        },
        "id": "hRx0TuDhZfFN",
        "outputId": "5598b835-5b66-4780-8930-88847f93dcfd"
      },
      "execution_count": 55,
      "outputs": [
        {
          "output_type": "execute_result",
          "data": {
            "text/plain": [
              "5"
            ]
          },
          "metadata": {},
          "execution_count": 55
        }
      ]
    },
    {
      "cell_type": "code",
      "source": [
        "counter[0]"
      ],
      "metadata": {
        "colab": {
          "base_uri": "https://localhost:8080/"
        },
        "id": "ZXvn_mgjZhR0",
        "outputId": "6d897528-6f42-4b8d-d26d-9a4f90db3838"
      },
      "execution_count": 56,
      "outputs": [
        {
          "output_type": "execute_result",
          "data": {
            "text/plain": [
              "0"
            ]
          },
          "metadata": {},
          "execution_count": 56
        }
      ]
    },
    {
      "cell_type": "code",
      "source": [
        "counter[-1]"
      ],
      "metadata": {
        "colab": {
          "base_uri": "https://localhost:8080/"
        },
        "id": "v5BoinTEZmAH",
        "outputId": "26cbd131-648d-4d77-f233-c5c7e68d3974"
      },
      "execution_count": 57,
      "outputs": [
        {
          "output_type": "execute_result",
          "data": {
            "text/plain": [
              "9"
            ]
          },
          "metadata": {},
          "execution_count": 57
        }
      ]
    },
    {
      "cell_type": "code",
      "source": [
        "data[0]"
      ],
      "metadata": {
        "colab": {
          "base_uri": "https://localhost:8080/"
        },
        "id": "QE_igqukZoUA",
        "outputId": "709f0d49-2712-409c-c5e7-4eb0fc0477e7"
      },
      "execution_count": 58,
      "outputs": [
        {
          "output_type": "execute_result",
          "data": {
            "text/plain": [
              "array([1.71, 1.82, 1.63, 1.67, 1.92, 1.69])"
            ]
          },
          "metadata": {},
          "execution_count": 58
        }
      ]
    },
    {
      "cell_type": "code",
      "source": [
        "data[0][2]"
      ],
      "metadata": {
        "colab": {
          "base_uri": "https://localhost:8080/"
        },
        "id": "gTlllOZEZqbv",
        "outputId": "2ce9d1a4-4679-4d1b-b22d-ffdf86945550"
      },
      "execution_count": 59,
      "outputs": [
        {
          "output_type": "execute_result",
          "data": {
            "text/plain": [
              "1.63"
            ]
          },
          "metadata": {},
          "execution_count": 59
        }
      ]
    },
    {
      "cell_type": "markdown",
      "source": [
        "Using Numpy arrays, indexing can also be performed similar to Matlab, as shown in the following."
      ],
      "metadata": {
        "id": "USsLRXhJhB02"
      }
    },
    {
      "cell_type": "code",
      "source": [
        "data[0,2]"
      ],
      "metadata": {
        "colab": {
          "base_uri": "https://localhost:8080/"
        },
        "id": "cZmKbRnOhHta",
        "outputId": "f281680d-92fb-4784-f9da-a67002211201"
      },
      "execution_count": 142,
      "outputs": [
        {
          "output_type": "execute_result",
          "data": {
            "text/plain": [
              "1.63"
            ]
          },
          "metadata": {},
          "execution_count": 142
        }
      ]
    },
    {
      "cell_type": "markdown",
      "source": [
        "Array slicing with Numpy arrays can have an additional argument, related to the step given"
      ],
      "metadata": {
        "id": "6DXF3GrlZ3QV"
      }
    },
    {
      "cell_type": "code",
      "source": [
        "end_count = counter[6:]\n",
        "end_count"
      ],
      "metadata": {
        "colab": {
          "base_uri": "https://localhost:8080/"
        },
        "id": "PdpS83HCZsKa",
        "outputId": "48c47e41-32b6-4cf4-bacf-a47e6bda4b44"
      },
      "execution_count": 61,
      "outputs": [
        {
          "output_type": "execute_result",
          "data": {
            "text/plain": [
              "array([6, 7, 8, 9])"
            ]
          },
          "metadata": {},
          "execution_count": 61
        }
      ]
    },
    {
      "cell_type": "code",
      "source": [
        "counter_even = counter[0:10:2]\n",
        "counter_even"
      ],
      "metadata": {
        "colab": {
          "base_uri": "https://localhost:8080/"
        },
        "id": "pW_NpdShaCwN",
        "outputId": "6cc31fbe-1a53-402e-e758-aae289694175"
      },
      "execution_count": 63,
      "outputs": [
        {
          "output_type": "execute_result",
          "data": {
            "text/plain": [
              "array([0, 2, 4, 6, 8])"
            ]
          },
          "metadata": {},
          "execution_count": 63
        }
      ]
    },
    {
      "cell_type": "code",
      "source": [
        "data[0][2:4]"
      ],
      "metadata": {
        "colab": {
          "base_uri": "https://localhost:8080/"
        },
        "id": "EZWi8fMRaIrd",
        "outputId": "b22aaf36-de46-4ef9-8b4c-f55a231ab967"
      },
      "execution_count": 65,
      "outputs": [
        {
          "output_type": "execute_result",
          "data": {
            "text/plain": [
              "array([1.63, 1.67])"
            ]
          },
          "metadata": {},
          "execution_count": 65
        }
      ]
    },
    {
      "cell_type": "markdown",
      "source": [
        "Indexing with boolean arrays"
      ],
      "metadata": {
        "id": "w4yKRv6ZakZ0"
      }
    },
    {
      "cell_type": "code",
      "source": [
        "good_weight = BMI < 24\n",
        "good_weight"
      ],
      "metadata": {
        "colab": {
          "base_uri": "https://localhost:8080/"
        },
        "id": "owXGWBeCaTPD",
        "outputId": "2d6a3691-d955-4dd6-9d55-8ebd750a4ba6"
      },
      "execution_count": 70,
      "outputs": [
        {
          "output_type": "execute_result",
          "data": {
            "text/plain": [
              "array([False,  True,  True, False, False, False])"
            ]
          },
          "metadata": {},
          "execution_count": 70
        }
      ]
    },
    {
      "cell_type": "markdown",
      "source": [
        "We can use boolean arrays to assist in indexing"
      ],
      "metadata": {
        "id": "JesUpIt6a3t8"
      }
    },
    {
      "cell_type": "code",
      "source": [
        "BMI[good_weight] # Only returns BMI[i] when good_weight[i] == True"
      ],
      "metadata": {
        "colab": {
          "base_uri": "https://localhost:8080/"
        },
        "id": "1YnFtBriatHt",
        "outputId": "28d94e04-fe5c-4242-f0db-e3f72ab539f8"
      },
      "execution_count": 71,
      "outputs": [
        {
          "output_type": "execute_result",
          "data": {
            "text/plain": [
              "array([23.54788069, 19.94805977])"
            ]
          },
          "metadata": {},
          "execution_count": 71
        }
      ]
    },
    {
      "cell_type": "markdown",
      "source": [
        "# Methods and attributes using Numpy arrays"
      ],
      "metadata": {
        "id": "qXOiq3RKbZi8"
      }
    },
    {
      "cell_type": "code",
      "source": [
        "height = [1.71, 1.82, 1.63, 1.67, 1.92, 1.69] # in meters\n",
        "weight = [72, 78, 53, 67, 89, 82] # in kg\n",
        "data = np.array([height, weight])"
      ],
      "metadata": {
        "id": "KrPbkXzteE25"
      },
      "execution_count": 99,
      "outputs": []
    },
    {
      "cell_type": "markdown",
      "source": [
        "**shape**: returns array dimensions"
      ],
      "metadata": {
        "id": "T3U2Yx7SboXz"
      }
    },
    {
      "cell_type": "code",
      "source": [
        "data.shape"
      ],
      "metadata": {
        "colab": {
          "base_uri": "https://localhost:8080/"
        },
        "id": "ZHZ5bY22a8mm",
        "outputId": "8215008f-343c-473e-b171-b1c7608f343f"
      },
      "execution_count": 100,
      "outputs": [
        {
          "output_type": "execute_result",
          "data": {
            "text/plain": [
              "(2, 6)"
            ]
          },
          "metadata": {},
          "execution_count": 100
        }
      ]
    },
    {
      "cell_type": "markdown",
      "source": [
        "**ndim**: returns number of dimensions of the array"
      ],
      "metadata": {
        "id": "7l5JLz2AbwFf"
      }
    },
    {
      "cell_type": "code",
      "source": [
        "data.ndim"
      ],
      "metadata": {
        "colab": {
          "base_uri": "https://localhost:8080/"
        },
        "id": "UubH032xbtlT",
        "outputId": "2fc42459-44e4-4567-d92c-9d4c5bc7ff99"
      },
      "execution_count": 101,
      "outputs": [
        {
          "output_type": "execute_result",
          "data": {
            "text/plain": [
              "2"
            ]
          },
          "metadata": {},
          "execution_count": 101
        }
      ]
    },
    {
      "cell_type": "markdown",
      "source": [
        "**size**: returns number of elements in the array"
      ],
      "metadata": {
        "id": "nY2GJMpkb4aC"
      }
    },
    {
      "cell_type": "code",
      "source": [
        "data.size"
      ],
      "metadata": {
        "colab": {
          "base_uri": "https://localhost:8080/"
        },
        "id": "FnXHF2cNb1vK",
        "outputId": "5d0fefa8-1c7f-47ec-f385-3fb4e73aab06"
      },
      "execution_count": 102,
      "outputs": [
        {
          "output_type": "execute_result",
          "data": {
            "text/plain": [
              "12"
            ]
          },
          "metadata": {},
          "execution_count": 102
        }
      ]
    },
    {
      "cell_type": "markdown",
      "source": [
        "**dtype**: returns data type"
      ],
      "metadata": {
        "id": "8iF9SisOb-HX"
      }
    },
    {
      "cell_type": "code",
      "source": [
        "data.dtype"
      ],
      "metadata": {
        "colab": {
          "base_uri": "https://localhost:8080/"
        },
        "id": "jl5-Tx7Ib3dW",
        "outputId": "8cdc24ba-7285-4b34-eaa7-3dd4475a3773"
      },
      "execution_count": 103,
      "outputs": [
        {
          "output_type": "execute_result",
          "data": {
            "text/plain": [
              "dtype('float64')"
            ]
          },
          "metadata": {},
          "execution_count": 103
        }
      ]
    },
    {
      "cell_type": "markdown",
      "source": [
        "**T**: transpose array"
      ],
      "metadata": {
        "id": "oM7bX602cBeu"
      }
    },
    {
      "cell_type": "code",
      "source": [
        "data"
      ],
      "metadata": {
        "colab": {
          "base_uri": "https://localhost:8080/"
        },
        "id": "8BBpP4qicHaM",
        "outputId": "18f008d4-d236-4e0a-8052-fcedd20065b0"
      },
      "execution_count": 104,
      "outputs": [
        {
          "output_type": "execute_result",
          "data": {
            "text/plain": [
              "array([[ 1.71,  1.82,  1.63,  1.67,  1.92,  1.69],\n",
              "       [72.  , 78.  , 53.  , 67.  , 89.  , 82.  ]])"
            ]
          },
          "metadata": {},
          "execution_count": 104
        }
      ]
    },
    {
      "cell_type": "code",
      "source": [
        "data.T"
      ],
      "metadata": {
        "colab": {
          "base_uri": "https://localhost:8080/"
        },
        "id": "41QjcP6gcA8R",
        "outputId": "3256798c-d804-4a02-f35d-dbb3bf4fd490"
      },
      "execution_count": 105,
      "outputs": [
        {
          "output_type": "execute_result",
          "data": {
            "text/plain": [
              "array([[ 1.71, 72.  ],\n",
              "       [ 1.82, 78.  ],\n",
              "       [ 1.63, 53.  ],\n",
              "       [ 1.67, 67.  ],\n",
              "       [ 1.92, 89.  ],\n",
              "       [ 1.69, 82.  ]])"
            ]
          },
          "metadata": {},
          "execution_count": 105
        }
      ]
    },
    {
      "cell_type": "markdown",
      "source": [
        "Methods:"
      ],
      "metadata": {
        "id": "T9gWXuODcI3Y"
      }
    },
    {
      "cell_type": "markdown",
      "source": [
        "**tolist( )**: turns arrays to lists"
      ],
      "metadata": {
        "id": "BUwPhu5-cN1e"
      }
    },
    {
      "cell_type": "code",
      "source": [
        "data.tolist( )"
      ],
      "metadata": {
        "colab": {
          "base_uri": "https://localhost:8080/"
        },
        "id": "o7m55nmkcF3o",
        "outputId": "28a7dd8a-14fe-4bdc-827e-bbe319668823"
      },
      "execution_count": 106,
      "outputs": [
        {
          "output_type": "execute_result",
          "data": {
            "text/plain": [
              "[[1.71, 1.82, 1.63, 1.67, 1.92, 1.69], [72.0, 78.0, 53.0, 67.0, 89.0, 82.0]]"
            ]
          },
          "metadata": {},
          "execution_count": 106
        }
      ]
    },
    {
      "cell_type": "markdown",
      "source": [
        "**reshape(shape[,order])**: returns array with the same data, but in a new shape\n",
        "\n"
      ],
      "metadata": {
        "id": "HxSxFgXdcUrE"
      }
    },
    {
      "cell_type": "code",
      "source": [
        "data"
      ],
      "metadata": {
        "colab": {
          "base_uri": "https://localhost:8080/"
        },
        "id": "4WZlB0n7cS7M",
        "outputId": "a9e91c3f-9cce-455a-8bd2-e6164ae016d4"
      },
      "execution_count": 107,
      "outputs": [
        {
          "output_type": "execute_result",
          "data": {
            "text/plain": [
              "array([[ 1.71,  1.82,  1.63,  1.67,  1.92,  1.69],\n",
              "       [72.  , 78.  , 53.  , 67.  , 89.  , 82.  ]])"
            ]
          },
          "metadata": {},
          "execution_count": 107
        }
      ]
    },
    {
      "cell_type": "code",
      "source": [
        "data.reshape((4,3))"
      ],
      "metadata": {
        "colab": {
          "base_uri": "https://localhost:8080/"
        },
        "id": "UEoFRyyQcdWr",
        "outputId": "aa1d05e3-accc-420c-a7dd-b9c172ac93fb"
      },
      "execution_count": 108,
      "outputs": [
        {
          "output_type": "execute_result",
          "data": {
            "text/plain": [
              "array([[ 1.71,  1.82,  1.63],\n",
              "       [ 1.67,  1.92,  1.69],\n",
              "       [72.  , 78.  , 53.  ],\n",
              "       [67.  , 89.  , 82.  ]])"
            ]
          },
          "metadata": {},
          "execution_count": 108
        }
      ]
    },
    {
      "cell_type": "code",
      "source": [
        "data.reshape((2, 6))"
      ],
      "metadata": {
        "colab": {
          "base_uri": "https://localhost:8080/"
        },
        "id": "kWuyiaR0dOO1",
        "outputId": "b43f1c5c-d166-40f9-ea94-561c7be0f8cb"
      },
      "execution_count": 109,
      "outputs": [
        {
          "output_type": "execute_result",
          "data": {
            "text/plain": [
              "array([[ 1.71,  1.82,  1.63,  1.67,  1.92,  1.69],\n",
              "       [72.  , 78.  , 53.  , 67.  , 89.  , 82.  ]])"
            ]
          },
          "metadata": {},
          "execution_count": 109
        }
      ]
    },
    {
      "cell_type": "markdown",
      "source": [
        "**resize(new_shape[,refcheck])**: changes shape and size of the array"
      ],
      "metadata": {
        "id": "XfEBNnMadXAl"
      }
    },
    {
      "cell_type": "code",
      "source": [
        "data.resize((3, 6), refcheck=False)"
      ],
      "metadata": {
        "id": "4CMtLut4dPsv"
      },
      "execution_count": 110,
      "outputs": []
    },
    {
      "cell_type": "code",
      "source": [
        "data"
      ],
      "metadata": {
        "colab": {
          "base_uri": "https://localhost:8080/"
        },
        "id": "M4Frjidzdi7m",
        "outputId": "500f9d3c-5244-41f1-82fe-ba68f20d690f"
      },
      "execution_count": 111,
      "outputs": [
        {
          "output_type": "execute_result",
          "data": {
            "text/plain": [
              "array([[ 1.71,  1.82,  1.63,  1.67,  1.92,  1.69],\n",
              "       [72.  , 78.  , 53.  , 67.  , 89.  , 82.  ],\n",
              "       [ 0.  ,  0.  ,  0.  ,  0.  ,  0.  ,  0.  ]])"
            ]
          },
          "metadata": {},
          "execution_count": 111
        }
      ]
    },
    {
      "cell_type": "code",
      "source": [
        "data[2] = data[1]/(data[0]**2)"
      ],
      "metadata": {
        "id": "vjIoXQ52dr3b"
      },
      "execution_count": 114,
      "outputs": []
    },
    {
      "cell_type": "code",
      "source": [
        "data"
      ],
      "metadata": {
        "colab": {
          "base_uri": "https://localhost:8080/"
        },
        "id": "wv7uXhGXd25M",
        "outputId": "2aa2d376-d5a8-4ac8-f2e8-734de04a4fb2"
      },
      "execution_count": 115,
      "outputs": [
        {
          "output_type": "execute_result",
          "data": {
            "text/plain": [
              "array([[ 1.71      ,  1.82      ,  1.63      ,  1.67      ,  1.92      ,\n",
              "         1.69      ],\n",
              "       [72.        , 78.        , 53.        , 67.        , 89.        ,\n",
              "        82.        ],\n",
              "       [24.62296091, 23.54788069, 19.94805977, 24.02380867, 24.14279514,\n",
              "        28.71047932]])"
            ]
          },
          "metadata": {},
          "execution_count": 115
        }
      ]
    },
    {
      "cell_type": "markdown",
      "source": [
        "# Basic statistics using Numpy"
      ],
      "metadata": {
        "id": "kxY5jv21eZh0"
      }
    },
    {
      "cell_type": "code",
      "source": [
        "car_year  = np.loadtxt(fname = 'car_year.txt', dtype = int)\n",
        "car_km    = np.loadtxt(fname = 'car_km.txt', dtype = float)\n",
        "car_price = np.loadtxt(fname = 'car_price.txt', dtype = float)"
      ],
      "metadata": {
        "id": "_IX8NVOpd3ef"
      },
      "execution_count": 125,
      "outputs": []
    },
    {
      "cell_type": "code",
      "source": [
        "car_year.shape"
      ],
      "metadata": {
        "colab": {
          "base_uri": "https://localhost:8080/"
        },
        "id": "lof4lu7yfKH8",
        "outputId": "374678fd-a9ae-4179-a4d3-fad4dbea4391"
      },
      "execution_count": 117,
      "outputs": [
        {
          "output_type": "execute_result",
          "data": {
            "text/plain": [
              "(4340,)"
            ]
          },
          "metadata": {},
          "execution_count": 117
        }
      ]
    },
    {
      "cell_type": "code",
      "source": [
        "car_km.shape"
      ],
      "metadata": {
        "colab": {
          "base_uri": "https://localhost:8080/"
        },
        "id": "rRAJix8HfMkc",
        "outputId": "6318fb97-3e88-4ae6-8008-5e36ba52afed"
      },
      "execution_count": 118,
      "outputs": [
        {
          "output_type": "execute_result",
          "data": {
            "text/plain": [
              "(4340,)"
            ]
          },
          "metadata": {},
          "execution_count": 118
        }
      ]
    },
    {
      "cell_type": "code",
      "source": [
        "car_price.shape"
      ],
      "metadata": {
        "colab": {
          "base_uri": "https://localhost:8080/"
        },
        "id": "5CWFONsAfOMz",
        "outputId": "7831dfbb-0a18-45a4-e0f5-a5a3921e88ea"
      },
      "execution_count": 119,
      "outputs": [
        {
          "output_type": "execute_result",
          "data": {
            "text/plain": [
              "(4340,)"
            ]
          },
          "metadata": {},
          "execution_count": 119
        }
      ]
    },
    {
      "cell_type": "markdown",
      "source": [
        "Joining data"
      ],
      "metadata": {
        "id": "HoF4_PGaf1WD"
      }
    },
    {
      "cell_type": "code",
      "source": [
        "data_cars = np.array([car_year, car_km, car_price])\n",
        "data_cars"
      ],
      "metadata": {
        "colab": {
          "base_uri": "https://localhost:8080/"
        },
        "id": "ukRvq2KyfPhm",
        "outputId": "546f7a01-112b-4ea8-8f38-eaea6b699ad5"
      },
      "execution_count": 127,
      "outputs": [
        {
          "output_type": "execute_result",
          "data": {
            "text/plain": [
              "array([[  2007.,   2007.,   2012., ...,   2009.,   2016.,   2016.],\n",
              "       [ 70000.,  50000., 100000., ...,  83000.,  90000.,  40000.],\n",
              "       [ 60000., 135000., 600000., ..., 110000., 865000., 225000.]])"
            ]
          },
          "metadata": {},
          "execution_count": 127
        }
      ]
    },
    {
      "cell_type": "markdown",
      "source": [
        "Another way of performing the same procedure"
      ],
      "metadata": {
        "id": "vBJ2hFy5f4rz"
      }
    },
    {
      "cell_type": "code",
      "source": [
        "dataset = np.row_stack((car_year, car_km, car_price))\n",
        "dataset"
      ],
      "metadata": {
        "colab": {
          "base_uri": "https://localhost:8080/"
        },
        "id": "yCADth3Bfx48",
        "outputId": "c59954c0-c1d7-4365-e5e2-c080ececb9a8"
      },
      "execution_count": 130,
      "outputs": [
        {
          "output_type": "execute_result",
          "data": {
            "text/plain": [
              "array([[  2007.,   2007.,   2012., ...,   2009.,   2016.,   2016.],\n",
              "       [ 70000.,  50000., 100000., ...,  83000.,  90000.,  40000.],\n",
              "       [ 60000., 135000., 600000., ..., 110000., 865000., 225000.]])"
            ]
          },
          "metadata": {},
          "execution_count": 130
        }
      ]
    },
    {
      "cell_type": "code",
      "source": [
        "dataset.shape"
      ],
      "metadata": {
        "colab": {
          "base_uri": "https://localhost:8080/"
        },
        "id": "RPtQCf4igBUf",
        "outputId": "a34c6120-0c8f-4fc4-c0a7-0130fcc4ae4f"
      },
      "execution_count": 131,
      "outputs": [
        {
          "output_type": "execute_result",
          "data": {
            "text/plain": [
              "(3, 4340)"
            ]
          },
          "metadata": {},
          "execution_count": 131
        }
      ]
    },
    {
      "cell_type": "markdown",
      "source": [
        "Evaluating mean values"
      ],
      "metadata": {
        "id": "PZAj39B0gLgr"
      }
    },
    {
      "cell_type": "code",
      "source": [
        "np.mean(dataset, axis = 1) # axis = 1: mean is performed on rows! axis = 0: mean is performed on columns!"
      ],
      "metadata": {
        "colab": {
          "base_uri": "https://localhost:8080/"
        },
        "id": "wVw-w4zZgJ3A",
        "outputId": "0c4ef538-6498-4cd9-9fee-913906d35896"
      },
      "execution_count": 133,
      "outputs": [
        {
          "output_type": "execute_result",
          "data": {
            "text/plain": [
              "array([  2013.09078341,  66215.77741935, 504127.31175115])"
            ]
          },
          "metadata": {},
          "execution_count": 133
        }
      ]
    },
    {
      "cell_type": "markdown",
      "source": [
        "Another way of performing a similar procedure"
      ],
      "metadata": {
        "id": "-a19kFXegmR7"
      }
    },
    {
      "cell_type": "code",
      "source": [
        "np.mean(dataset[1]) # mean km"
      ],
      "metadata": {
        "colab": {
          "base_uri": "https://localhost:8080/"
        },
        "id": "KA24we_qgV9J",
        "outputId": "2021a2ae-73a8-415c-9448-40b2b1733a5d"
      },
      "execution_count": 136,
      "outputs": [
        {
          "output_type": "execute_result",
          "data": {
            "text/plain": [
              "66215.77741935484"
            ]
          },
          "metadata": {},
          "execution_count": 136
        }
      ]
    },
    {
      "cell_type": "code",
      "source": [
        "np.mean(dataset[2]) # mean prices"
      ],
      "metadata": {
        "colab": {
          "base_uri": "https://localhost:8080/"
        },
        "id": "_tToZFEwgrK7",
        "outputId": "b24dac70-dad1-4b99-c450-b97ca3208c25"
      },
      "execution_count": 137,
      "outputs": [
        {
          "output_type": "execute_result",
          "data": {
            "text/plain": [
              "504127.3117511521"
            ]
          },
          "metadata": {},
          "execution_count": 137
        }
      ]
    },
    {
      "cell_type": "markdown",
      "source": [
        "Evaluating standard deviation"
      ],
      "metadata": {
        "id": "j0qgELKIgzae"
      }
    },
    {
      "cell_type": "code",
      "source": [
        "np.std(dataset[2])"
      ],
      "metadata": {
        "colab": {
          "base_uri": "https://localhost:8080/"
        },
        "id": "hkOQAgWZgwnE",
        "outputId": "638054ea-e327-42b3-fd36-bdbff88e1af7"
      },
      "execution_count": 138,
      "outputs": [
        {
          "output_type": "execute_result",
          "data": {
            "text/plain": [
              "578482.0792187806"
            ]
          },
          "metadata": {},
          "execution_count": 138
        }
      ]
    },
    {
      "cell_type": "markdown",
      "source": [
        "Evaluating sum"
      ],
      "metadata": {
        "id": "BqhsUGF6g4MD"
      }
    },
    {
      "cell_type": "code",
      "source": [
        "np.sum(dataset[1])"
      ],
      "metadata": {
        "colab": {
          "base_uri": "https://localhost:8080/"
        },
        "id": "1xszSyGcg2q_",
        "outputId": "5e1c905b-9bc7-4c8f-f760-3db4055c036a"
      },
      "execution_count": 139,
      "outputs": [
        {
          "output_type": "execute_result",
          "data": {
            "text/plain": [
              "287376474.0"
            ]
          },
          "metadata": {},
          "execution_count": 139
        }
      ]
    }
  ]
}