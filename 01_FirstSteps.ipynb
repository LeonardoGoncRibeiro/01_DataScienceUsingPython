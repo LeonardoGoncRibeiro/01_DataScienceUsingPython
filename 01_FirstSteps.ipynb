{
  "nbformat": 4,
  "nbformat_minor": 0,
  "metadata": {
    "colab": {
      "name": "01_FirstSteps.ipynb",
      "provenance": [],
      "collapsed_sections": [],
      "authorship_tag": "ABX9TyPKb76qZlVz62oiOWXuJRp6",
      "include_colab_link": true
    },
    "kernelspec": {
      "name": "python3",
      "display_name": "Python 3"
    },
    "language_info": {
      "name": "python"
    }
  },
  "cells": [
    {
      "cell_type": "markdown",
      "metadata": {
        "id": "view-in-github",
        "colab_type": "text"
      },
      "source": [
        "<a href=\"https://colab.research.google.com/github/LeonardoGoncRibeiro/01_DataScienceUsingPython/blob/main/01_FirstSteps.ipynb\" target=\"_parent\"><img src=\"https://colab.research.google.com/assets/colab-badge.svg\" alt=\"Open In Colab\"/></a>"
      ]
    },
    {
      "cell_type": "markdown",
      "source": [
        "## First steps for Python"
      ],
      "metadata": {
        "id": "m6SFZKJudmMM"
      }
    },
    {
      "cell_type": "markdown",
      "source": [
        "Python is a very popular programming language. In this file, an introduction to Python will be shown. Basic Python tools will be presented, such as variables and functions."
      ],
      "metadata": {
        "id": "9VJG8054dBlm"
      }
    },
    {
      "cell_type": "code",
      "execution_count": null,
      "metadata": {
        "id": "5a2W6oCbc9Bg"
      },
      "outputs": [],
      "source": [
        "# Variables a and b\n",
        "\n",
        "a = 10\n",
        "b = 12\n",
        "\n",
        "# Variable c = a + b\n",
        "\n",
        "c = a + b"
      ]
    },
    {
      "cell_type": "code",
      "source": [
        "# Strings\n",
        "\n",
        "name = 'Leonardo'"
      ],
      "metadata": {
        "id": "vGlXtMCLdrV3"
      },
      "execution_count": null,
      "outputs": []
    },
    {
      "cell_type": "markdown",
      "source": [
        "Functions can be used to handle variables"
      ],
      "metadata": {
        "id": "mQQTfX5eeO5k"
      }
    },
    {
      "cell_type": "code",
      "source": [
        "# Function: Print\n",
        "\n",
        "print(f'My name is {name} and my age is {c}')"
      ],
      "metadata": {
        "colab": {
          "base_uri": "https://localhost:8080/"
        },
        "id": "BKtavTVfeKcc",
        "outputId": "2e7fb8be-225b-41a0-fd14-178a0e8c4873"
      },
      "execution_count": null,
      "outputs": [
        {
          "output_type": "stream",
          "name": "stdout",
          "text": [
            "My name is Leonardo and my age is 22\n"
          ]
        }
      ]
    },
    {
      "cell_type": "markdown",
      "source": [
        "Creating new functions"
      ],
      "metadata": {
        "id": "K0YLr87DepeX"
      }
    },
    {
      "cell_type": "code",
      "source": [
        "def Hello( ):\n",
        "  name = input('What is your name? ')\n",
        "  print(f'Hi {name}!')"
      ],
      "metadata": {
        "id": "t_cc35G2ejAa"
      },
      "execution_count": null,
      "outputs": []
    },
    {
      "cell_type": "code",
      "source": [
        "# Using our function\n",
        "\n",
        "Hello( )"
      ],
      "metadata": {
        "colab": {
          "base_uri": "https://localhost:8080/"
        },
        "id": "gmswq7zIe4qB",
        "outputId": "b50b9ea4-541b-4833-d020-bf5c1da3d749"
      },
      "execution_count": null,
      "outputs": [
        {
          "output_type": "stream",
          "name": "stdout",
          "text": [
            "What is your name? Leonardo\n",
            "Hi Leonardo!\n"
          ]
        }
      ]
    },
    {
      "cell_type": "code",
      "source": [
        "def HelloFull( ):\n",
        "  fst_name = input('What is your first name? ')\n",
        "  scn_name = input('What is your surname? ')\n",
        "  name = fst_name + ' ' + scn_name\n",
        "  print(f'Hello {name}!')\n",
        "\n",
        "HelloFull( )\n",
        "\n"
      ],
      "metadata": {
        "colab": {
          "base_uri": "https://localhost:8080/"
        },
        "id": "hUM5kKwwe6Un",
        "outputId": "14aaa447-5576-4ebc-d055-84d1d1457fed"
      },
      "execution_count": null,
      "outputs": [
        {
          "output_type": "stream",
          "name": "stdout",
          "text": [
            "What is your first name? Leonardo\n",
            "What is your surname? Ribeiro\n",
            "Hello Leonardo Ribeiro!\n"
          ]
        }
      ]
    },
    {
      "cell_type": "markdown",
      "source": [
        "# Parameters and conditionals"
      ],
      "metadata": {
        "id": "yPbaYfGeg8qR"
      }
    },
    {
      "cell_type": "markdown",
      "source": [
        "Functions may use parameters from the main code."
      ],
      "metadata": {
        "id": "5s2TBsx5t0ic"
      }
    },
    {
      "cell_type": "code",
      "source": [
        "name = 'Leonardo'"
      ],
      "metadata": {
        "id": "ddfGDs8wuBtM"
      },
      "execution_count": null,
      "outputs": []
    },
    {
      "cell_type": "code",
      "source": [
        "def HelloParam(person_name):\n",
        "  print(f'Hello {person_name}')"
      ],
      "metadata": {
        "id": "hcNyjg1GuFjt"
      },
      "execution_count": null,
      "outputs": []
    },
    {
      "cell_type": "code",
      "source": [
        "HelloParam(name)"
      ],
      "metadata": {
        "colab": {
          "base_uri": "https://localhost:8080/"
        },
        "id": "xaVllflluMPT",
        "outputId": "c8e48f79-afa1-47f0-b6de-2506fd5a3770"
      },
      "execution_count": null,
      "outputs": [
        {
          "output_type": "stream",
          "name": "stdout",
          "text": [
            "Hello Leonardo\n"
          ]
        }
      ]
    },
    {
      "cell_type": "markdown",
      "source": [
        "Conditionals can be used to handle variables in a specific manner. Written code will be executed only if special conditions are true."
      ],
      "metadata": {
        "id": "qRPJagV0tkIn"
      }
    },
    {
      "cell_type": "code",
      "source": [
        "def CanDrive(name, age):\n",
        "  if age >= 18:\n",
        "    print(f'{name} is allowed to drive (age: {age})!')\n",
        "  else:\n",
        "    print(f'{name} is not allowed to drive (age: {age})!')\n"
      ],
      "metadata": {
        "id": "Yfj-0KffgaCY"
      },
      "execution_count": null,
      "outputs": []
    },
    {
      "cell_type": "code",
      "source": [
        "myname = 'Leonardo'\n",
        "myage  = 25\n",
        "\n",
        "CanDrive(myname, myage)"
      ],
      "metadata": {
        "colab": {
          "base_uri": "https://localhost:8080/"
        },
        "id": "fBqjKE5Uuqsb",
        "outputId": "ad4fd9e0-9289-4e4c-e715-1b9aa8bd0a80"
      },
      "execution_count": null,
      "outputs": [
        {
          "output_type": "stream",
          "name": "stdout",
          "text": [
            "Leonardo is allowed to drive (age: 25)!\n"
          ]
        }
      ]
    },
    {
      "cell_type": "code",
      "source": [
        "hisname = 'Hugo'\n",
        "hisage  = 15\n",
        "\n",
        "CanDrive(hisname, hisage)"
      ],
      "metadata": {
        "colab": {
          "base_uri": "https://localhost:8080/"
        },
        "id": "ElILeG5nuzUw",
        "outputId": "c6c2e154-b422-4f8b-c8ae-4f6377437769"
      },
      "execution_count": null,
      "outputs": [
        {
          "output_type": "stream",
          "name": "stdout",
          "text": [
            "Hugo is not allowed to drive (age: 15)!\n"
          ]
        }
      ]
    },
    {
      "cell_type": "markdown",
      "source": [
        "Converting types is useful to allow for numerical comparisons."
      ],
      "metadata": {
        "id": "vBZO53UrvkcH"
      }
    },
    {
      "cell_type": "code",
      "source": [
        "def CanDriveNoParam( ):\n",
        "  name = input('What is your name? ')\n",
        "  age  = input('What is your age? ')\n",
        "\n",
        "  age = int(age)                        # Converting age from string to int\n",
        "\n",
        "  CanDrive(name, age)                   # We can use a previously defined function inside our new function!\n"
      ],
      "metadata": {
        "id": "UPzQpvNDvOEe"
      },
      "execution_count": null,
      "outputs": []
    },
    {
      "cell_type": "code",
      "source": [
        "CanDriveNoParam( )"
      ],
      "metadata": {
        "colab": {
          "base_uri": "https://localhost:8080/"
        },
        "id": "0nGV4FsWwCW1",
        "outputId": "aba7f5c0-f20a-43b0-97a6-689efc39cd38"
      },
      "execution_count": null,
      "outputs": [
        {
          "output_type": "stream",
          "name": "stdout",
          "text": [
            "What is your name? Leonardo\n",
            "What is your age? 25\n",
            "Leonardo is allowed to drive (age: 25)!\n"
          ]
        }
      ]
    },
    {
      "cell_type": "markdown",
      "source": [
        "Data types can be assessed using function type( )"
      ],
      "metadata": {
        "id": "3cKyk49HxXnM"
      }
    },
    {
      "cell_type": "code",
      "source": [
        "def PrintType(data):\n",
        "  print(f'Type of data {data} is {type(data)}')\n",
        "\n",
        "name = 'Leonardo'\n",
        "age  = 25\n",
        "\n",
        "PrintType(name)\n",
        "PrintType(age)"
      ],
      "metadata": {
        "colab": {
          "base_uri": "https://localhost:8080/"
        },
        "id": "3lERhUakxdKN",
        "outputId": "854d29cb-d43f-4f58-e02d-d8852b32458e"
      },
      "execution_count": null,
      "outputs": [
        {
          "output_type": "stream",
          "name": "stdout",
          "text": [
            "Type of data Leonardo is <class 'str'>\n",
            "Type of data 25 is <class 'int'>\n"
          ]
        }
      ]
    },
    {
      "cell_type": "markdown",
      "source": [
        "Important! Python has different conditional operators:\n",
        "\n",
        "a == b (a **is equal to** b) \n",
        "\n",
        "a != b (a **is not equal to** b)\n",
        "\n",
        "a < b  (a **is lower than** b)\n",
        "\n",
        "a > b  (a **is higher than** b)\n",
        "\n",
        "a <= b (a **is lower or equal to** b)\n",
        "\n",
        "a >= b (a **is higher or equal to** b)"
      ],
      "metadata": {
        "id": "eyLPIIWUwfcO"
      }
    },
    {
      "cell_type": "markdown",
      "source": [
        "# Lists and loops"
      ],
      "metadata": {
        "id": "uKFjT4cuxEOm"
      }
    },
    {
      "cell_type": "markdown",
      "source": [
        "Lists can be used to group data. Each data has its index (starting from 0)."
      ],
      "metadata": {
        "id": "yBw6LYFtx4k_"
      }
    },
    {
      "cell_type": "code",
      "source": [
        "ages = [18, 22, 15, 50]   # List of ages. Indexes: 0, 1, 2, 3"
      ],
      "metadata": {
        "id": "ji9UvDM4wD04"
      },
      "execution_count": null,
      "outputs": []
    },
    {
      "cell_type": "markdown",
      "source": [
        "Indexing from existing list"
      ],
      "metadata": {
        "id": "ADhb7PrmyKfu"
      }
    },
    {
      "cell_type": "code",
      "source": [
        "ages[1]"
      ],
      "metadata": {
        "colab": {
          "base_uri": "https://localhost:8080/"
        },
        "id": "_YH8FzBJyB1V",
        "outputId": "21fa7b01-0860-49bd-fd65-90aa958f8d61"
      },
      "execution_count": null,
      "outputs": [
        {
          "output_type": "execute_result",
          "data": {
            "text/plain": [
              "22"
            ]
          },
          "metadata": {},
          "execution_count": 107
        }
      ]
    },
    {
      "cell_type": "code",
      "source": [
        "ages[3]"
      ],
      "metadata": {
        "colab": {
          "base_uri": "https://localhost:8080/"
        },
        "id": "-GJzfy-uyOX-",
        "outputId": "b7b15bcf-8992-46e2-a91a-ebb4f46b4260"
      },
      "execution_count": null,
      "outputs": [
        {
          "output_type": "execute_result",
          "data": {
            "text/plain": [
              "50"
            ]
          },
          "metadata": {},
          "execution_count": 108
        }
      ]
    },
    {
      "cell_type": "code",
      "source": [
        "ages[4] # there is no data on index 4!"
      ],
      "metadata": {
        "colab": {
          "base_uri": "https://localhost:8080/",
          "height": 165
        },
        "id": "8XnlsMtxyQrE",
        "outputId": "1944d3ce-0cdb-4b6f-96b6-bba0499f8f77"
      },
      "execution_count": null,
      "outputs": [
        {
          "output_type": "error",
          "ename": "IndexError",
          "evalue": "ignored",
          "traceback": [
            "\u001b[0;31m---------------------------------------------------------------------------\u001b[0m",
            "\u001b[0;31mIndexError\u001b[0m                                Traceback (most recent call last)",
            "\u001b[0;32m<ipython-input-109-43911ec3f5dc>\u001b[0m in \u001b[0;36m<module>\u001b[0;34m()\u001b[0m\n\u001b[0;32m----> 1\u001b[0;31m \u001b[0mages\u001b[0m\u001b[0;34m[\u001b[0m\u001b[0;36m4\u001b[0m\u001b[0;34m]\u001b[0m \u001b[0;31m# there is no data on index 4!\u001b[0m\u001b[0;34m\u001b[0m\u001b[0;34m\u001b[0m\u001b[0m\n\u001b[0m",
            "\u001b[0;31mIndexError\u001b[0m: list index out of range"
          ]
        }
      ]
    },
    {
      "cell_type": "code",
      "source": [
        "ages[1:3] # Print data from position 1 to 3 (including 1 and excluding 3)"
      ],
      "metadata": {
        "colab": {
          "base_uri": "https://localhost:8080/"
        },
        "id": "gAPyV3cLyUN3",
        "outputId": "9d87fa6d-787a-4cf6-89d5-28737c7ad28a"
      },
      "execution_count": null,
      "outputs": [
        {
          "output_type": "execute_result",
          "data": {
            "text/plain": [
              "[22, 15]"
            ]
          },
          "metadata": {},
          "execution_count": 110
        }
      ]
    },
    {
      "cell_type": "code",
      "source": [
        "ages[-2]"
      ],
      "metadata": {
        "colab": {
          "base_uri": "https://localhost:8080/"
        },
        "id": "I2_YTOZr08Z8",
        "outputId": "2ea8336e-4b47-4212-9faa-4237f27d0151"
      },
      "execution_count": null,
      "outputs": [
        {
          "output_type": "execute_result",
          "data": {
            "text/plain": [
              "15"
            ]
          },
          "metadata": {},
          "execution_count": 113
        }
      ]
    },
    {
      "cell_type": "code",
      "source": [
        "ages[1:-1]"
      ],
      "metadata": {
        "colab": {
          "base_uri": "https://localhost:8080/"
        },
        "id": "vpub-y57KCJB",
        "outputId": "898c6ac3-53cb-4d6b-fe1d-fdd220f70bd5"
      },
      "execution_count": null,
      "outputs": [
        {
          "output_type": "execute_result",
          "data": {
            "text/plain": [
              "[22, 15]"
            ]
          },
          "metadata": {},
          "execution_count": 114
        }
      ]
    },
    {
      "cell_type": "markdown",
      "source": [
        "Loops are a nice way to handle multiple values from the same list."
      ],
      "metadata": {
        "id": "8cOomlCWylRl"
      }
    },
    {
      "cell_type": "code",
      "source": [
        "ages = [18, 22, 15, 50]\n",
        "names = ['Hugo', 'Manoel', 'Ricardo', 'Beatriz']"
      ],
      "metadata": {
        "id": "cQnKnKduyXgn"
      },
      "execution_count": null,
      "outputs": []
    },
    {
      "cell_type": "code",
      "source": [
        "for age in ages:\n",
        "  print(f'Idade: {age}')"
      ],
      "metadata": {
        "colab": {
          "base_uri": "https://localhost:8080/"
        },
        "id": "-gxPgDsoyxkk",
        "outputId": "167907ed-a8a9-4230-92fa-556ffdb919a5"
      },
      "execution_count": null,
      "outputs": [
        {
          "output_type": "stream",
          "name": "stdout",
          "text": [
            "Idade: 18\n",
            "Idade: 22\n",
            "Idade: 15\n",
            "Idade: 50\n"
          ]
        }
      ]
    },
    {
      "cell_type": "markdown",
      "source": [
        "We can use previously defined functions to help us in this task. Note that, if necessary, the loop can also be inside the function!"
      ],
      "metadata": {
        "id": "G5u2ihAjzboc"
      }
    },
    {
      "cell_type": "code",
      "source": [
        "for i in range(len(ages)):\n",
        "  CanDrive(names[i], ages[i])"
      ],
      "metadata": {
        "colab": {
          "base_uri": "https://localhost:8080/"
        },
        "id": "wUuSVkYWzMJb",
        "outputId": "b9fadc34-7fa2-45b1-9beb-2f70038d80a7"
      },
      "execution_count": null,
      "outputs": [
        {
          "output_type": "stream",
          "name": "stdout",
          "text": [
            "Hugo is allowed to drive (age: 18)!\n",
            "Manoel is allowed to drive (age: 22)!\n",
            "Ricardo is not allowed to drive (age: 15)!\n",
            "Beatriz is allowed to drive (age: 50)!\n"
          ]
        }
      ]
    },
    {
      "cell_type": "markdown",
      "source": [
        "Boolean types are very useful when dealing with conditions! \n",
        "Boolean variables can be either true (1) or false (0)"
      ],
      "metadata": {
        "id": "sD8JacB-zmlh"
      }
    },
    {
      "cell_type": "code",
      "source": [
        "age = 15\n",
        "candrive = age > 18\n",
        "print(candrive)"
      ],
      "metadata": {
        "colab": {
          "base_uri": "https://localhost:8080/"
        },
        "id": "wBv3weWkzQqB",
        "outputId": "4d03222a-3da8-4c62-9d9f-5f72b5ff8593"
      },
      "execution_count": null,
      "outputs": [
        {
          "output_type": "stream",
          "name": "stdout",
          "text": [
            "False\n"
          ]
        }
      ]
    },
    {
      "cell_type": "code",
      "source": [
        "allow = []\n",
        "ages = [20, 14, 40]\n",
        "\n",
        "def CheckIfCanDrive(listage, listpermission):\n",
        "  for age in listage:\n",
        "    if age >= 18:\n",
        "      listpermission.append(True)\n",
        "    else:\n",
        "      listpermission.append(False)\n",
        "\n",
        "CheckIfCanDrive(ages, allow)\n",
        "\n",
        "for permission in allow:\n",
        "  if permission == True:\n",
        "    print('Can drive!')\n",
        "  else:\n",
        "    print('Can not drive!')"
      ],
      "metadata": {
        "colab": {
          "base_uri": "https://localhost:8080/"
        },
        "id": "hZPj3YHnz0xh",
        "outputId": "9775713f-1433-4488-8f21-cb60c449af16"
      },
      "execution_count": null,
      "outputs": [
        {
          "output_type": "stream",
          "name": "stdout",
          "text": [
            "Can drive!\n",
            "Can not drive!\n",
            "Can drive!\n"
          ]
        }
      ]
    },
    {
      "cell_type": "markdown",
      "source": [
        "We can also use data from different types on the same list!"
      ],
      "metadata": {
        "id": "iVCMm8Kb7w18"
      }
    },
    {
      "cell_type": "code",
      "source": [
        "list_a = ['Leonardo', 25, False, '12']\n",
        "\n",
        "for data in list_a:\n",
        "  print(f'Data {data} is a {type(data)}')"
      ],
      "metadata": {
        "colab": {
          "base_uri": "https://localhost:8080/"
        },
        "id": "14efqvCr71n4",
        "outputId": "319a6dfb-6375-4ae4-e794-1019e1b45c4c"
      },
      "execution_count": null,
      "outputs": [
        {
          "output_type": "stream",
          "name": "stdout",
          "text": [
            "Data Leonardo is a <class 'str'>\n",
            "Data 25 is a <class 'int'>\n",
            "Data False is a <class 'bool'>\n",
            "Data 12 is a <class 'str'>\n"
          ]
        }
      ]
    },
    {
      "cell_type": "markdown",
      "source": [
        "# Importing libraries"
      ],
      "metadata": {
        "id": "GshpRjk57s3V"
      }
    },
    {
      "cell_type": "markdown",
      "source": [
        "Existing libraries can be used to assist in different tasks! \n",
        "\n",
        "Here, we are importing a library to help in dealing with random variables.\n",
        "\n",
        "Obs: \"Random values\" are actually pseudo-random!"
      ],
      "metadata": {
        "id": "AipgSNEw8PzE"
      }
    },
    {
      "cell_type": "code",
      "source": [
        "from random import randrange        # We are importing randrange( ) from library random\n",
        "\n",
        "randrange(0, 11)                    # randrange(0, 11) gets a random value from 0 to 11 (including 0 and excluding 11)"
      ],
      "metadata": {
        "colab": {
          "base_uri": "https://localhost:8080/"
        },
        "id": "oifvfLP20Psy",
        "outputId": "cb72fa4c-b35c-4a8a-edee-7a237f495519"
      },
      "execution_count": null,
      "outputs": [
        {
          "output_type": "execute_result",
          "data": {
            "text/plain": [
              "3"
            ]
          },
          "metadata": {},
          "execution_count": 65
        }
      ]
    },
    {
      "cell_type": "markdown",
      "source": [
        "When dealing with random variables, running a code multiple times often leads to different outcomes"
      ],
      "metadata": {
        "id": "FgYs-aci9pgl"
      }
    },
    {
      "cell_type": "code",
      "source": [
        "def RandomGrades( ):\n",
        "  grades = []\n",
        "  num_students = 8\n",
        "\n",
        "  for num in range(num_students):\n",
        "    grades.append(randrange(0, 11))\n",
        "\n",
        "  print(grades)\n",
        "\n",
        "print('First run')\n",
        "RandomGrades( )        \n",
        "\n",
        "print('Second run')\n",
        "RandomGrades( )                     "
      ],
      "metadata": {
        "colab": {
          "base_uri": "https://localhost:8080/"
        },
        "id": "wOkC17J68oes",
        "outputId": "be60d139-8f1a-4e92-9031-08006feb2a43"
      },
      "execution_count": null,
      "outputs": [
        {
          "output_type": "stream",
          "name": "stdout",
          "text": [
            "First run\n",
            "[5, 8, 9, 4, 7, 4, 1, 10]\n",
            "Second run\n",
            "[9, 3, 6, 7, 0, 6, 10, 4]\n"
          ]
        }
      ]
    },
    {
      "cell_type": "markdown",
      "source": [
        "When dealing with random values, we can define a seed so that values are not changed for multiple runs. "
      ],
      "metadata": {
        "id": "S-saPM0g9GTE"
      }
    },
    {
      "cell_type": "code",
      "source": [
        "from random import seed\n",
        "\n",
        "seed(10)\n",
        "\n",
        "print('First run')\n",
        "RandomGrades( )   \n",
        "\n",
        "seed(10)     \n",
        "\n",
        "print('Second run')\n",
        "RandomGrades( )    "
      ],
      "metadata": {
        "colab": {
          "base_uri": "https://localhost:8080/"
        },
        "id": "TCsirjyG9CAu",
        "outputId": "864a955b-30f1-4dfd-95c1-a1ba0506c2e2"
      },
      "execution_count": null,
      "outputs": [
        {
          "output_type": "stream",
          "name": "stdout",
          "text": [
            "First run\n",
            "[9, 0, 6, 7, 9, 0, 3, 7]\n",
            "Second run\n",
            "[9, 0, 6, 7, 9, 0, 3, 7]\n"
          ]
        }
      ]
    },
    {
      "cell_type": "markdown",
      "source": [
        "# Plotting with Matplotlib"
      ],
      "metadata": {
        "id": "T5FRHzez-iIW"
      }
    },
    {
      "cell_type": "markdown",
      "source": [
        "Matplotlib is a strong library for data visualization."
      ],
      "metadata": {
        "id": "j27UsthlBtmk"
      }
    },
    {
      "cell_type": "code",
      "source": [
        "import matplotlib.pyplot as plt # use plt when using matplotlib\n",
        "\n",
        "# Defining function for generating random grades\n",
        "\n",
        "def RandomGrades(grades, num_students):\n",
        "  for num in range(num_students):\n",
        "    grades.append(randrange(0, 11))\n",
        "\n",
        "seed(10);\n",
        "math_grades  = []\n",
        "num_students = 8\n",
        "RandomGrades(math_grades, num_students)\n",
        "\n",
        "# Graph axis\n",
        "\n",
        "x = list(range(1,9))\n",
        "y = math_grades\n",
        "\n",
        "plt.plot(x, y, marker = 'o')   # Plotting data\n",
        "plt.title('Math grades')       # Title \n",
        "plt.xlabel('Student')          # xlabel\n",
        "plt.ylabel('Grades')           # ylabel\n",
        "plt.show( )                    # Printing graph"
      ],
      "metadata": {
        "colab": {
          "base_uri": "https://localhost:8080/",
          "height": 295
        },
        "id": "Pb4Jnb7E-BDc",
        "outputId": "950cee0e-62fd-43f8-fef5-e41de88dfb2d"
      },
      "execution_count": null,
      "outputs": [
        {
          "output_type": "display_data",
          "data": {
            "text/plain": [
              "<Figure size 432x288 with 1 Axes>"
            ],
            "image/png": "[encoded data removed]"
          },
          "metadata": {
            "needs_background": "light"
          }
        }
      ]
    },
    {
      "cell_type": "markdown",
      "source": [
        "Loops can be used to print multiple graphs"
      ],
      "metadata": {
        "id": "z5rJGzt1ILd3"
      }
    },
    {
      "cell_type": "code",
      "source": [
        "import matplotlib.pyplot as plt\n",
        "\n",
        "num_students = 8\n",
        "grades_math = ['Math', 8, 7, 6, 6, 7, 7, 8, 10]\n",
        "grades_port = ['Portuguese', 9, 9, 9, 8, 5, 6, 8, 5]\n",
        "grades_geog = ['Geography', 10, 10, 6, 7, 7, 7, 8, 7]\n",
        "\n",
        "grades_all = [grades_math, grades_port, grades_geog]\n",
        "print(grades_all)"
      ],
      "metadata": {
        "colab": {
          "base_uri": "https://localhost:8080/"
        },
        "id": "rUvuoSuIBzeu",
        "outputId": "2ab4e673-921e-49fd-8a12-86a440142f9e"
      },
      "execution_count": null,
      "outputs": [
        {
          "output_type": "stream",
          "name": "stdout",
          "text": [
            "[['Math', 8, 7, 6, 6, 7, 7, 8, 10], ['Portuguese', 9, 9, 9, 8, 5, 6, 8, 5], ['Geography', 10, 10, 6, 7, 7, 7, 8, 7]]\n"
          ]
        }
      ]
    },
    {
      "cell_type": "code",
      "source": [
        "x = list(range(1, num_students+1))\n",
        "\n",
        "for grades in grades_all:\n",
        "  plt.plot(x, grades[1:], marker = 's')\n",
        "  plt.title(grades[0])\n",
        "  plt.xlabel('Student')\n",
        "  plt.ylabel('Grades')\n",
        "  plt.ylim([0, 10])\n",
        "  plt.show( )"
      ],
      "metadata": {
        "colab": {
          "base_uri": "https://localhost:8080/",
          "height": 851
        },
        "id": "LJsUjEExIptV",
        "outputId": "f8e1c114-cbb1-4ef5-f351-49abbd3bd220"
      },
      "execution_count": null,
      "outputs": [
        {
          "output_type": "display_data",
          "data": {
            "text/plain": [
              "<Figure size 432x288 with 1 Axes>"
            ],
            "image/png": "[encoded data removed]"
          },
          "metadata": {
            "needs_background": "light"
          }
        },
        {
          "output_type": "display_data",
          "data": {
            "text/plain": [
              "<Figure size 432x288 with 1 Axes>"
            ],
            "image/png": "[encoded data removed]"
          },
          "metadata": {
            "needs_background": "light"
          }
        },
        {
          "output_type": "display_data",
          "data": {
            "text/plain": [
              "<Figure size 432x288 with 1 Axes>"
            ],
            "image/png": "[encoded data removed]"
          },
          "metadata": {
            "needs_background": "light"
          }
        }
      ]
    }
  ]
}