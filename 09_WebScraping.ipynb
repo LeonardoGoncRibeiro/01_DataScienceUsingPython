{
  "nbformat": 4,
  "nbformat_minor": 0,
  "metadata": {
    "colab": {
      "name": "09_WebScraping.ipynb",
      "provenance": [],
      "collapsed_sections": [],
      "toc_visible": true,
      "authorship_tag": "ABX9TyOxoYcDcEhQ4G4eLQBeqvtf",
      "include_colab_link": true
    },
    "kernelspec": {
      "name": "python3",
      "display_name": "Python 3"
    },
    "language_info": {
      "name": "python"
    }
  },
  "cells": [
    {
      "cell_type": "markdown",
      "metadata": {
        "id": "view-in-github",
        "colab_type": "text"
      },
      "source": [
        "<a href=\"https://colab.research.google.com/github/LeonardoGoncRibeiro/01_DataScienceUsingPython/blob/main/09_WebScraping.ipynb\" target=\"_parent\"><img src=\"https://colab.research.google.com/assets/colab-badge.svg\" alt=\"Open In Colab\"/></a>"
      ]
    },
    {
      "cell_type": "markdown",
      "source": [
        "# Web scraping using Python"
      ],
      "metadata": {
        "id": "zRBDd2Ie_9Sl"
      }
    },
    {
      "cell_type": "markdown",
      "source": [
        "In this file we will show how to automatize the extraction of information from the web. To that end, we will use Python libraries. This information is very important for data scientists, as they need information to build their models and gain knowledge. \n",
        "\n",
        "Thus, we will draw information from the site:\n",
        "\n",
        " https://alura-site-scraping.herokuapp.com/index.php\n",
        "\n",
        "which contains information via text and image. "
      ],
      "metadata": {
        "id": "JDMP0rKaAE9Q"
      }
    },
    {
      "cell_type": "markdown",
      "source": [
        "## Importing libraries and checking versions"
      ],
      "metadata": {
        "id": "ghY-jn8kBhso"
      }
    },
    {
      "cell_type": "markdown",
      "source": [
        "To assist us in performing our scraping, we will use three packages:"
      ],
      "metadata": {
        "id": "yLXHhc63BlNA"
      }
    },
    {
      "cell_type": "code",
      "source": [
        "import bs4\n",
        "import urllib.request as urllib_request\n",
        "import pandas as pd"
      ],
      "metadata": {
        "id": "HGD0hGVpBhLT"
      },
      "execution_count": 1,
      "outputs": []
    },
    {
      "cell_type": "markdown",
      "source": [
        "Let's check the version of each package:"
      ],
      "metadata": {
        "id": "NuAl408IByQA"
      }
    },
    {
      "cell_type": "code",
      "source": [
        "print(f\"BeautifulSoup -> {bs4.__version__}\")\n",
        "print(f\"urllib -> {urllib_request.__version__}\")\n",
        "print(f\"pandas -> {pd.__version__}\")"
      ],
      "metadata": {
        "colab": {
          "base_uri": "https://localhost:8080/"
        },
        "id": "SSYFPQ8MBxaY",
        "outputId": "4360b6f1-69f9-4ea1-d5be-e2fc7a1baa2c"
      },
      "execution_count": 2,
      "outputs": [
        {
          "output_type": "stream",
          "name": "stdout",
          "text": [
            "BeautifulSoup -> 4.6.3\n",
            "urllib -> 3.7\n",
            "pandas -> 1.3.5\n"
          ]
        }
      ]
    },
    {
      "cell_type": "code",
      "source": [
        "%reset -f"
      ],
      "metadata": {
        "id": "LrMUQo5YDj67"
      },
      "execution_count": 3,
      "outputs": []
    },
    {
      "cell_type": "markdown",
      "source": [
        "# Our first scraping"
      ],
      "metadata": {
        "id": "D1QSjosSA3bA"
      }
    },
    {
      "cell_type": "markdown",
      "source": [
        "So, we will make our scraping on a website for luxury vehicles.\n",
        "\n",
        "https://alura-site-scraping.herokuapp.com/index.php\n",
        "\n",
        "The website has information from 246 vehicles, but each page only contains 10 vehicles. During this course, we will perform scraping of both text and images, as one may desire different types of data for their model."
      ],
      "metadata": {
        "id": "ISMLNFiGCeba"
      }
    },
    {
      "cell_type": "markdown",
      "source": [
        "First, let's scrap a text from page:\n",
        "\n",
        "https://alura-site-scraping.herokuapp.com/hello-world.php\n",
        "\n",
        "which shows a basic text. Let's see how we can do this. Later, we will explain why we are using each method.\n",
        "\n",
        "First thing we need to know: it is important to **inspect** our website. This gives us information about how to website is formatted as a code. "
      ],
      "metadata": {
        "id": "Zs5vkx60C-Iq"
      }
    },
    {
      "cell_type": "markdown",
      "source": [
        "Let's import our packages:"
      ],
      "metadata": {
        "id": "aDsgqtg4Dmzd"
      }
    },
    {
      "cell_type": "code",
      "execution_count": 4,
      "metadata": {
        "id": "9PDzfNAI_8oK"
      },
      "outputs": [],
      "source": [
        "from urllib.request import urlopen\n",
        "from bs4 import BeautifulSoup"
      ]
    },
    {
      "cell_type": "markdown",
      "source": [
        "Now let's store the url from our site:"
      ],
      "metadata": {
        "id": "9WTHslMNEQDw"
      }
    },
    {
      "cell_type": "code",
      "source": [
        "url = \"https://alura-site-scraping.herokuapp.com/hello-world.php\""
      ],
      "metadata": {
        "id": "FK16PnTrETvE"
      },
      "execution_count": 17,
      "outputs": []
    },
    {
      "cell_type": "markdown",
      "source": [
        "And then let's open our url:"
      ],
      "metadata": {
        "id": "KwCh3DHEEXkc"
      }
    },
    {
      "cell_type": "code",
      "source": [
        "response = urlopen(url)"
      ],
      "metadata": {
        "id": "9ks60RKZEZpN"
      },
      "execution_count": 18,
      "outputs": []
    },
    {
      "cell_type": "markdown",
      "source": [
        "Now, we can read our response. However, it does not mean very much right now:"
      ],
      "metadata": {
        "id": "-dIzBv8fEjqw"
      }
    },
    {
      "cell_type": "code",
      "source": [
        "html = response.read( )\n",
        "html"
      ],
      "metadata": {
        "colab": {
          "base_uri": "https://localhost:8080/"
        },
        "id": "WlBP995oEezI",
        "outputId": "1853081c-c90f-4634-b4b2-48ee36cafb16"
      },
      "execution_count": 19,
      "outputs": [
        {
          "output_type": "execute_result",
          "data": {
            "text/plain": [
              "b'<!DOCTYPE html>\\r\\n<html lang=\"pt-br\">\\r\\n<head>\\r\\n    <meta charset=\"utf-8\">\\r\\n    <meta name=\"viewport\" content=\"width=device-width, initial-scale=1, shrink-to-fit=no\">\\r\\n\\r\\n    <title>Alura Motors</title>\\r\\n\\t<link rel=\"stylesheet\" href=\"https://maxcdn.bootstrapcdn.com/bootstrap/3.3.7/css/bootstrap.min.css\" integrity=\"sha384-BVYiiSIFeK1dGmJRAkycuHAHRg32OmUcww7on3RYdg4Va+PmSTsz/K68vbdEjh4u\" crossorigin=\"anonymous\">\\r\\n\\t<link rel=\"stylesheet\" href=\"css/styles.css\" media=\"all\">\\r\\n\\r\\n\\t<script src=\"https://code.jquery.com/jquery-1.12.4.js\"></script>\\r\\n\\t<script src=\"https://maxcdn.bootstrapcdn.com/bootstrap/3.3.7/js/bootstrap.min.js\" integrity=\"sha384-Tc5IQib027qvyjSMfHjOMaLkfuWVxZxUPnCJA7l2mCWNIpG9mGCD8wGNIcPD7Txa\" crossorigin=\"anonymous\"></script>\\r\\n\\t<script type=\"text/javascript\" src=\"js/index.js\"></script>\\r\\n\\r\\n</head>\\r\\n<body cz-shortcut-listen=\"true\">\\r\\n    <noscript>You need to enable JavaScript to run this app.</noscript>\\r\\n\\r\\n    <div id=\"root\">\\r\\n        <header>\\r\\n            <nav class=\"navbar navbar-inverse\" style=\"margin-bottom: 0;\">\\r\\n                <div class=\"container\" style=\"margin-bottom: -20px;\">\\r\\n                    <div class=\"navbar\">\\r\\n                        <a href=\"./index.php\" class=\"navbar-brand\" title=\"Alura Motors\">\\r\\n                            <img src=\"img/alura-logo.svg\" class=\"d-inline-block align-top\" alt=\"Alura\">Motors\\r\\n                        </a>\\r\\n                        <ul class=\"nav navbar-nav\" style=\"margin-top: 35px;\">\\r\\n                            <li><a href=\"./hello-world.php\">Hello World</a></li>\\r\\n                            <li><a href=\"./index.php\">An\\xc3\\xbancios</a></li>\\r\\n                        </ul>\\r\\n                    </div>\\r\\n                </div>\\r\\n            </nav>\\r\\n        </header>\\r\\n\\r\\n\\t\\t<div class=\"container\">\\r\\n\\t\\t\\t<h1 class=\"sub-header\">Curso de Web Scraping</h1>\\r\\n\\t\\t\\t<div class=\"row\">\\r\\n\\t\\t\\t\\t<div class=\"col-md-12\">\\r\\n\\t\\t\\t\\t\\t<div class=\"container\" style=\"width: 100%;\">\\r\\n                <h1 id=\"hello-world\">Hello World!!!</h1>\\r\\n                <p class=\"definition\"><b>Web Scraping</b> \\xc3\\xa9 o termo utilizado para definir a pr\\xc3\\xa1tica de coletar automaticamente informa\\xc3\\xa7\\xc3\\xb5es na Internet. Isto \\xc3\\xa9 feito, geralmente, por meio de programas que simulam a navega\\xc3\\xa7\\xc3\\xa3o humana na Web.</p>\\r\\n\\t\\t\\t\\t\\t</div>\\r\\n\\t\\t\\t\\t</div>\\r\\n\\t\\t\\t</div>\\r\\n\\t\\t</div>\\r\\n\\r\\n\\t\\t<footer id=\"footer\">\\r\\n\\t\\t\\t<nav class=\"navbar navbar-inverse\">\\r\\n\\t\\t\\t\\t<div class=\"container\" style=\"margin-bottom: 10px;\">\\r\\n\\t\\t\\t\\t\\t<div class=\"navbar\">\\r\\n\\t\\t\\t\\t\\t\\t<a href=\"./index.php\" class=\"navbar-brand\" title=\"Alura Motors\">\\r\\n\\t\\t\\t\\t\\t\\t\\t<img src=\"img/alura-logo.svg\" class=\"d-inline-block align-top\" alt=\"Alura\">Motors\\r\\n\\t\\t\\t\\t\\t\\t</a>\\r\\n\\t\\t\\t\\t\\t\\t<p style=\"color: #fff; text-align: center; margin-top: 40px;\">Aplica\\xc3\\xa7\\xc3\\xa3o para treinamento de web scraping</p>\\r\\n\\t\\t\\t\\t\\t</div>\\r\\n\\t\\t\\t\\t</div>\\r\\n\\t\\t\\t</nav>\\r\\n   </footer>\\r\\n\\r\\n\\t</div>\\r\\n\\r\\n</body>\\r\\n</html>\\r\\n'"
            ]
          },
          "metadata": {},
          "execution_count": 19
        }
      ]
    },
    {
      "cell_type": "markdown",
      "source": [
        "To make it \"readable\", we can use beautiful soup:"
      ],
      "metadata": {
        "id": "E6VkB39LEsM4"
      }
    },
    {
      "cell_type": "code",
      "source": [
        "soup = BeautifulSoup(html, 'html.parser')\n",
        "soup"
      ],
      "metadata": {
        "colab": {
          "base_uri": "https://localhost:8080/"
        },
        "id": "HcdCk0ycEbPz",
        "outputId": "e48425ae-daed-489f-85a7-4da0c174429b"
      },
      "execution_count": 20,
      "outputs": [
        {
          "output_type": "execute_result",
          "data": {
            "text/plain": [
              "<!DOCTYPE html>\n",
              "\n",
              "<html lang=\"pt-br\">\n",
              "<head>\n",
              "<meta charset=\"utf-8\"/>\n",
              "<meta content=\"width=device-width, initial-scale=1, shrink-to-fit=no\" name=\"viewport\"/>\n",
              "<title>Alura Motors</title>\n",
              "<link crossorigin=\"anonymous\" href=\"https://maxcdn.bootstrapcdn.com/bootstrap/3.3.7/css/bootstrap.min.css\" integrity=\"sha384-BVYiiSIFeK1dGmJRAkycuHAHRg32OmUcww7on3RYdg4Va+PmSTsz/K68vbdEjh4u\" rel=\"stylesheet\"/>\n",
              "<link href=\"css/styles.css\" media=\"all\" rel=\"stylesheet\"/>\n",
              "<script src=\"https://code.jquery.com/jquery-1.12.4.js\"></script>\n",
              "<script crossorigin=\"anonymous\" integrity=\"sha384-Tc5IQib027qvyjSMfHjOMaLkfuWVxZxUPnCJA7l2mCWNIpG9mGCD8wGNIcPD7Txa\" src=\"https://maxcdn.bootstrapcdn.com/bootstrap/3.3.7/js/bootstrap.min.js\"></script>\n",
              "<script src=\"js/index.js\" type=\"text/javascript\"></script>\n",
              "</head>\n",
              "<body cz-shortcut-listen=\"true\">\n",
              "<noscript>You need to enable JavaScript to run this app.</noscript>\n",
              "<div id=\"root\">\n",
              "<header>\n",
              "<nav class=\"navbar navbar-inverse\" style=\"margin-bottom: 0;\">\n",
              "<div class=\"container\" style=\"margin-bottom: -20px;\">\n",
              "<div class=\"navbar\">\n",
              "<a class=\"navbar-brand\" href=\"./index.php\" title=\"Alura Motors\">\n",
              "<img alt=\"Alura\" class=\"d-inline-block align-top\" src=\"img/alura-logo.svg\"/>Motors\n",
              "                        </a>\n",
              "<ul class=\"nav navbar-nav\" style=\"margin-top: 35px;\">\n",
              "<li><a href=\"./hello-world.php\">Hello World</a></li>\n",
              "<li><a href=\"./index.php\">Anúncios</a></li>\n",
              "</ul>\n",
              "</div>\n",
              "</div>\n",
              "</nav>\n",
              "</header>\n",
              "<div class=\"container\">\n",
              "<h1 class=\"sub-header\">Curso de Web Scraping</h1>\n",
              "<div class=\"row\">\n",
              "<div class=\"col-md-12\">\n",
              "<div class=\"container\" style=\"width: 100%;\">\n",
              "<h1 id=\"hello-world\">Hello World!!!</h1>\n",
              "<p class=\"definition\"><b>Web Scraping</b> é o termo utilizado para definir a prática de coletar automaticamente informações na Internet. Isto é feito, geralmente, por meio de programas que simulam a navegação humana na Web.</p>\n",
              "</div>\n",
              "</div>\n",
              "</div>\n",
              "</div>\n",
              "<footer id=\"footer\">\n",
              "<nav class=\"navbar navbar-inverse\">\n",
              "<div class=\"container\" style=\"margin-bottom: 10px;\">\n",
              "<div class=\"navbar\">\n",
              "<a class=\"navbar-brand\" href=\"./index.php\" title=\"Alura Motors\">\n",
              "<img alt=\"Alura\" class=\"d-inline-block align-top\" src=\"img/alura-logo.svg\"/>Motors\n",
              "\t\t\t\t\t\t</a>\n",
              "<p style=\"color: #fff; text-align: center; margin-top: 40px;\">Aplicação para treinamento de web scraping</p>\n",
              "</div>\n",
              "</div>\n",
              "</nav>\n",
              "</footer>\n",
              "</div>\n",
              "</body>\n",
              "</html>"
            ]
          },
          "metadata": {},
          "execution_count": 20
        }
      ]
    },
    {
      "cell_type": "markdown",
      "source": [
        "Now, our html is better organized. Also, we can find text from our html:"
      ],
      "metadata": {
        "id": "AUrgBgWhE3Hg"
      }
    },
    {
      "cell_type": "code",
      "source": [
        "soup.find('h1', id = \"hello-world\").get_text( )"
      ],
      "metadata": {
        "colab": {
          "base_uri": "https://localhost:8080/",
          "height": 35
        },
        "id": "Q6XTMqKeE2Kw",
        "outputId": "187432b3-1748-463d-8669-ab46ca5db33b"
      },
      "execution_count": 21,
      "outputs": [
        {
          "output_type": "execute_result",
          "data": {
            "text/plain": [
              "'Hello World!!!'"
            ],
            "application/vnd.google.colaboratory.intrinsic+json": {
              "type": "string"
            }
          },
          "metadata": {},
          "execution_count": 21
        }
      ]
    },
    {
      "cell_type": "code",
      "source": [
        "soup.find('p').get_text( )"
      ],
      "metadata": {
        "colab": {
          "base_uri": "https://localhost:8080/",
          "height": 53
        },
        "id": "RXd60wMcFdHt",
        "outputId": "1713bacf-7250-4438-ff76-e5e0aafaccea"
      },
      "execution_count": 22,
      "outputs": [
        {
          "output_type": "execute_result",
          "data": {
            "text/plain": [
              "'Web Scraping é o termo utilizado para definir a prática de coletar automaticamente informações na Internet. Isto é feito, geralmente, por meio de programas que simulam a navegação humana na Web.'"
            ],
            "application/vnd.google.colaboratory.intrinsic+json": {
              "type": "string"
            }
          },
          "metadata": {},
          "execution_count": 22
        }
      ]
    },
    {
      "cell_type": "code",
      "source": [
        "soup.find('h1', {'class' : 'sub-header'}).get_text( )"
      ],
      "metadata": {
        "colab": {
          "base_uri": "https://localhost:8080/",
          "height": 35
        },
        "id": "6l4lrXRCFhvj",
        "outputId": "d9216038-9455-4bc4-f271-1bb65da00fe4"
      },
      "execution_count": 23,
      "outputs": [
        {
          "output_type": "execute_result",
          "data": {
            "text/plain": [
              "'Curso de Web Scraping'"
            ],
            "application/vnd.google.colaboratory.intrinsic+json": {
              "type": "string"
            }
          },
          "metadata": {},
          "execution_count": 23
        }
      ]
    },
    {
      "cell_type": "markdown",
      "source": [
        "Now, let's start to understand what did we just do. "
      ],
      "metadata": {
        "id": "I2fFReXMF_ju"
      }
    },
    {
      "cell_type": "markdown",
      "source": [
        "# Obtaining and cleaning our HTML"
      ],
      "metadata": {
        "id": "hK-uyBXzGNHX"
      }
    },
    {
      "cell_type": "markdown",
      "source": [
        "Ok, so: how exactly do we obtain our data from web scraping?\n",
        "\n",
        "When a **client** wants to access a page, it makes a **request** to the **server**. Then, if everything is working, the server sends a **response**: which, on a webpage, is usually a **html** file.\n",
        "\n",
        "So, we basically have to receive this response using Python, and get data from it."
      ],
      "metadata": {
        "id": "khfcQoyiG6R-"
      }
    },
    {
      "cell_type": "markdown",
      "source": [
        "## Obtaining the HTML"
      ],
      "metadata": {
        "id": "-b9meeFuGYaL"
      }
    },
    {
      "cell_type": "markdown",
      "source": [
        "To obtain our html, we use the **urllib.request** package."
      ],
      "metadata": {
        "id": "gJWvcwO_H-hZ"
      }
    },
    {
      "cell_type": "code",
      "source": [
        "from urllib.request import urlopen\n",
        "\n",
        "url = 'https://alura-site-scraping.herokuapp.com/index.php'"
      ],
      "metadata": {
        "id": "WDa9e6FLF7eP"
      },
      "execution_count": 24,
      "outputs": []
    },
    {
      "cell_type": "markdown",
      "source": [
        "Then, we may open our url using:"
      ],
      "metadata": {
        "id": "L3nuyIdjIRBw"
      }
    },
    {
      "cell_type": "code",
      "source": [
        "response = urlopen(url)"
      ],
      "metadata": {
        "id": "617VslxuIQUc"
      },
      "execution_count": 25,
      "outputs": []
    },
    {
      "cell_type": "markdown",
      "source": [
        "Finally, to get our html file:"
      ],
      "metadata": {
        "id": "xc-63SOtIW4A"
      }
    },
    {
      "cell_type": "code",
      "source": [
        "html = response.read( )"
      ],
      "metadata": {
        "id": "8nmEQ6GaIU0o"
      },
      "execution_count": 26,
      "outputs": []
    },
    {
      "cell_type": "code",
      "source": [
        "html"
      ],
      "metadata": {
        "colab": {
          "base_uri": "https://localhost:8080/"
        },
        "id": "W7BqhqPdIaDu",
        "outputId": "794f92eb-64e9-42d4-d714-2aca0b9eb429"
      },
      "execution_count": 27,
      "outputs": [
        {
          "output_type": "execute_result",
          "data": {
            "text/plain": [
              "b'<!DOCTYPE html>\\r\\n<html lang=\"pt-br\">\\r\\n<head>\\r\\n    <meta charset=\"utf-8\">\\r\\n    <meta name=\"viewport\" content=\"width=device-width, initial-scale=1, shrink-to-fit=no\">\\r\\n\\r\\n    <title>Alura Motors</title>\\r\\n\\r\\n\\t<style>\\r\\n\\t\\t/*Regra para a animacao*/\\r\\n\\t\\t@keyframes spin {\\r\\n\\t\\t\\t0% { transform: rotate(0deg); }\\r\\n\\t\\t\\t100% { transform: rotate(360deg); }\\r\\n\\t\\t}\\r\\n\\t\\t/*Mudando o tamanho do icone de resposta*/\\r\\n\\t\\tdiv.glyphicon {\\r\\n\\t\\t\\tcolor:#6B8E23;\\r\\n\\t\\t\\tfont-size: 38px;\\r\\n\\t\\t}\\r\\n\\t\\t/*Classe que mostra a animacao \\'spin\\'*/\\r\\n\\t\\t.loader {\\r\\n\\t\\t\\tborder: 16px solid #f3f3f3;\\r\\n\\t\\t\\tborder-radius: 50%;\\r\\n\\t\\t\\tborder-top: 16px solid #3498db;\\r\\n\\t\\t\\twidth: 80px;\\r\\n\\t\\t\\theight: 80px;\\r\\n\\t\\t\\t-webkit-animation: spin 2s linear infinite;\\r\\n\\t\\t\\tanimation: spin 2s linear infinite;\\r\\n\\t\\t}\\r\\n\\t</style>\\r\\n\\t<link rel=\"stylesheet\" href=\"https://maxcdn.bootstrapcdn.com/bootstrap/3.3.7/css/bootstrap.min.css\" integrity=\"sha384-BVYiiSIFeK1dGmJRAkycuHAHRg32OmUcww7on3RYdg4Va+PmSTsz/K68vbdEjh4u\" crossorigin=\"anonymous\">\\r\\n\\t<link rel=\"stylesheet\" href=\"css/styles.css\" media=\"all\">\\r\\n\\r\\n\\t<script src=\"https://code.jquery.com/jquery-1.12.4.js\"></script>\\r\\n\\t<script src=\"https://maxcdn.bootstrapcdn.com/bootstrap/3.3.7/js/bootstrap.min.js\" integrity=\"sha384-Tc5IQib027qvyjSMfHjOMaLkfuWVxZxUPnCJA7l2mCWNIpG9mGCD8wGNIcPD7Txa\" crossorigin=\"anonymous\"></script>\\r\\n\\t<script type=\"text/javascript\" src=\"js/index.js\"></script>\\r\\n\\t<script>\\r\\n\\t\\trequisitar(\"https://alura-scraping.herokuapp.com/produtos?_page=\"+1+\"&_limit=10\")\\r\\n\\t</script>\\r\\n\\r\\n</head>\\r\\n<body cz-shortcut-listen=\"true\">\\r\\n    <noscript>You need to enable JavaScript to run this app.</noscript>\\r\\n\\r\\n\\t<div class=\"modal fade\" data-backdrop=\"static\" id=\"loadingModal\" tabindex=\"-1\" role=\"dialog\" aria-labelledby=\"loadingModal_label\">\\r\\n\\t\\t<div class=\"modal-dialog\" role=\"document\">\\r\\n\\t\\t\\t<div class=\"modal-content\">\\r\\n\\t\\t\\t\\t<div class=\"modal-header\">\\r\\n\\t\\t\\t\\t\\t<h5 class=\"modal-title\" id=\"loadingModal_label\">\\r\\n\\t\\t\\t\\t\\t\\t<span class=\"glyphicon glyphicon-refresh\"></span>Aguarde...\\r\\n\\t\\t\\t\\t\\t</h5>\\r\\n\\t\\t\\t\\t</div>\\r\\n\\t\\t\\t\\t<div class=\"modal-body\">\\r\\n\\t\\t\\t\\t\\t<div class=\\'alert\\' role=\\'alert\\'>\\r\\n\\t\\t\\t\\t\\t\\t<center>\\r\\n\\t\\t\\t\\t\\t\\t\\t<div class=\"loader\" id=\"loader\"></div><br>\\r\\n\\t\\t\\t\\t\\t\\t\\t<h4><b id=\"loadingModal_content\"></b></h4>\\r\\n\\t\\t\\t\\t\\t\\t</center>\\r\\n\\t\\t\\t\\t\\t</div>\\r\\n\\t\\t\\t\\t</div>\\r\\n\\t\\t\\t</div>\\r\\n\\t\\t</div>\\r\\n\\t</div>\\r\\n\\r\\n    <div id=\"root\">\\r\\n\\t\\t<header>\\r\\n\\t\\t\\t<nav class=\"navbar navbar-inverse\" style=\"margin-bottom: 0;\">\\r\\n\\t\\t\\t\\t<div class=\"container\" style=\"margin-bottom: -20px;\">\\r\\n\\t\\t\\t\\t\\t<div class=\"navbar\">\\r\\n\\t\\t\\t\\t\\t\\t<a href=\"./index.php\" class=\"navbar-brand\" title=\"Alura Motors\">\\r\\n\\t\\t\\t\\t\\t\\t\\t<img src=\"img/alura-logo.svg\" class=\"d-inline-block align-top\" alt=\"Alura\">Motors\\r\\n\\t\\t\\t\\t\\t\\t</a>\\r\\n\\t\\t\\t\\t\\t\\t<ul class=\"nav navbar-nav\" style=\"margin-top: 35px;\">\\r\\n\\t\\t\\t\\t\\t\\t\\t<li><a href=\"./hello-world.php\">Hello World</a></li>\\r\\n\\t\\t\\t\\t\\t\\t\\t<li><a href=\"./index.php\">An\\xc3\\xbancios</a></li>\\r\\n\\t\\t\\t\\t\\t\\t</ul>\\r\\n\\t\\t\\t\\t\\t</div>\\r\\n\\t\\t\\t\\t</div>\\r\\n\\t\\t\\t</nav>\\r\\n\\t\\t</header>\\r\\n\\r\\n\\t\\t<div class=\"container\">\\r\\n\\t\\t\\t<h1 class=\"sub-header\">Ve\\xc3\\xadculos de Luxo Novos e Usados - Todas as Marcas</h1>\\r\\n\\t\\t\\t<div class=\"row\">\\r\\n\\t\\t\\t\\t<div class=\"col-md-12\">\\r\\n\\t\\t\\t\\t\\t<div class=\"container\" style=\"width: 100%\">\\r\\n\\t\\t\\t\\t\\t\\t<div class=\"type-select\">246 ve\\xc3\\xadculos encontrados</div>\\r\\n\\t\\t\\t\\t\\t\\t\\t<div class=\"container-pagination\" style=\"float: right\">\\r\\n\\t\\t\\t\\t\\t\\t\\t\\t<span class=\"info-pages\">P\\xc3\\xa1gina 1 de 25</span>\\r\\n\\t\\t\\t\\t\\t\\t\\t</div>\\r\\n\\t\\t\\t\\t\\t\\t</div>\\r\\n\\t\\t\\t\\t\\t\\t<div id=\"container-cards\" style=\"height: 100%\">\\r\\n\\t\\t\\t\\t\\t\\t\\t\\r\\n                <div class=\"well card\">\\r\\n                    <div class=\"col-md-3 image-card\">\\r\\n                        <img width=\"220\" height=\"155\" alt=\"Foto\" src=\"https://caelum-online-public.s3.amazonaws.com/1381-scraping/01/img-cars/lamborghini-aventador/lamborghini-aventador-2932196__340.jpg\">\\r\\n                    </div>\\r\\n                    <div class=\"col-md-6 body-card\">\\r\\n                        <p class=\"txt-name inline\">LAMBORGHINI AVENTADOR</p>\\r\\n                            <p class=\"txt-category badge badge-secondary inline\">USADO</p>\\r\\n                            \\r\\n                        <p class=\"txt-motor\">Motor 1.8 16v</p>\\r\\n                        <p class=\"txt-description\">Ano 1993 - 55.286 km</p>\\r\\n                        <ul class=\"lst-items\">\\r\\n                            <li class=\"txt-items\">\\xe2\\x96\\xba 4 X 4</li>\\r\\n                            <li class=\"txt-items\">\\xe2\\x96\\xba C\\xc3\\xa2mera de estacionamento</li>\\r\\n                            <li class=\"txt-items\">\\xe2\\x96\\xba Controle de tra\\xc3\\xa7\\xc3\\xa3o</li>\\r\\n                            <li class=\"txt-items\">\\xe2\\x96\\xba Sensor de estacionamento</li>\\r\\n                            <li class=\"txt-items\">...</li>\\r\\n                        </ul>\\r\\n                        <p class=\"txt-location\">Belo Horizonte - MG</p>\\r\\n                    </div>\\r\\n                    <div class=\"col-md-3 value-card\">\\r\\n                        <div class=\"value\">\\r\\n                            <p class=\"txt-value\">R$ 338.000</p>\\r\\n                        </div>\\r\\n                    </div>\\r\\n                </div>\\r\\n                <div class=\"well card\">\\r\\n                    <div class=\"col-md-3 image-card\">\\r\\n                        <img width=\"220\" height=\"155\" alt=\"Foto\" src=\"https://caelum-online-public.s3.amazonaws.com/1381-scraping/01/img-cars/bmw-m2/bmw-m2-2970882__340.jpg\">\\r\\n                    </div>\\r\\n                    <div class=\"col-md-6 body-card\">\\r\\n                        <p class=\"txt-name inline\">BMW M2</p>\\r\\n                            <p class=\"txt-category badge badge-secondary inline\">USADO</p>\\r\\n                            \\r\\n                        <p class=\"txt-motor\">Motor 3.0 32v</p>\\r\\n                        <p class=\"txt-description\">Ano 2018 - 83.447 km</p>\\r\\n                        <ul class=\"lst-items\">\\r\\n                            <li class=\"txt-items\">\\xe2\\x96\\xba C\\xc3\\xa2mera de estacionamento</li>\\r\\n                            <li class=\"txt-items\">\\xe2\\x96\\xba Controle de estabilidade</li>\\r\\n                            <li class=\"txt-items\">\\xe2\\x96\\xba Travas el\\xc3\\xa9tricas</li>\\r\\n                            <li class=\"txt-items\">\\xe2\\x96\\xba Freios ABS</li>\\r\\n                            <li class=\"txt-items\">...</li>\\r\\n                        </ul>\\r\\n                        <p class=\"txt-location\">Belo Horizonte - MG</p>\\r\\n                    </div>\\r\\n                    <div class=\"col-md-3 value-card\">\\r\\n                        <div class=\"value\">\\r\\n                            <p class=\"txt-value\">R$ 346.000</p>\\r\\n                        </div>\\r\\n                    </div>\\r\\n                </div>\\r\\n                <div class=\"well card\">\\r\\n                    <div class=\"col-md-3 image-card\">\\r\\n                        <img width=\"220\" height=\"155\" alt=\"Foto\" src=\"https://caelum-online-public.s3.amazonaws.com/1381-scraping/01/img-cars/alfa/alfa-1823056__340.jpg\">\\r\\n                    </div>\\r\\n                    <div class=\"col-md-6 body-card\">\\r\\n                        <p class=\"txt-name inline\">ALFA</p>\\r\\n                            <p class=\"txt-category badge badge-secondary inline\">USADO</p>\\r\\n                            \\r\\n                        <p class=\"txt-motor\">Motor 1.8 16v</p>\\r\\n                        <p class=\"txt-description\">Ano 2004 - 19.722 km</p>\\r\\n                        <ul class=\"lst-items\">\\r\\n                            <li class=\"txt-items\">\\xe2\\x96\\xba Central multim\\xc3\\xaddia</li>\\r\\n                            <li class=\"txt-items\">\\xe2\\x96\\xba Bancos de couro</li>\\r\\n                            <li class=\"txt-items\">\\xe2\\x96\\xba Rodas de liga</li>\\r\\n                            <li class=\"txt-items\">\\xe2\\x96\\xba C\\xc3\\xa2mera de estacionamento</li>\\r\\n                            <li class=\"txt-items\">...</li>\\r\\n                        </ul>\\r\\n                        <p class=\"txt-location\">Rio de Janeiro - RJ</p>\\r\\n                    </div>\\r\\n                    <div class=\"col-md-3 value-card\">\\r\\n                        <div class=\"value\">\\r\\n                            <p class=\"txt-value\">R$ 480.000</p>\\r\\n                        </div>\\r\\n                    </div>\\r\\n                </div>\\r\\n                <div class=\"well card\">\\r\\n                    <div class=\"col-md-3 image-card\">\\r\\n                        <img width=\"220\" height=\"155\" alt=\"Foto\" src=\"https://caelum-online-public.s3.amazonaws.com/1381-scraping/01/img-cars/puech/puech-4055386__340.jpg\">\\r\\n                    </div>\\r\\n                    <div class=\"col-md-6 body-card\">\\r\\n                        <p class=\"txt-name inline\">PUECH</p>\\r\\n                            <p class=\"txt-category badge badge-secondary inline\">USADO</p>\\r\\n                            \\r\\n                        <p class=\"txt-motor\">Motor Diesel V8</p>\\r\\n                        <p class=\"txt-description\">Ano 1992 - 34.335 km</p>\\r\\n                        <ul class=\"lst-items\">\\r\\n                            <li class=\"txt-items\">\\xe2\\x96\\xba Bancos de couro</li>\\r\\n                            <li class=\"txt-items\">\\xe2\\x96\\xba Freios ABS</li>\\r\\n                            <li class=\"txt-items\">\\xe2\\x96\\xba Rodas de liga</li>\\r\\n                            <li class=\"txt-items\">\\xe2\\x96\\xba C\\xc3\\xa2mbio autom\\xc3\\xa1tico</li>\\r\\n                            <li class=\"txt-items\">...</li>\\r\\n                        </ul>\\r\\n                        <p class=\"txt-location\">S\\xc3\\xa3o Paulo - SP</p>\\r\\n                    </div>\\r\\n                    <div class=\"col-md-3 value-card\">\\r\\n                        <div class=\"value\">\\r\\n                            <p class=\"txt-value\">R$ 133.000</p>\\r\\n                        </div>\\r\\n                    </div>\\r\\n                </div>\\r\\n                <div class=\"well card\">\\r\\n                    <div class=\"col-md-3 image-card\">\\r\\n                        <img width=\"220\" height=\"155\" alt=\"Foto\" src=\"https://caelum-online-public.s3.amazonaws.com/1381-scraping/01/img-cars/lamborghini-murcielago/lamborghini-murcielago-2872974__340.jpg\">\\r\\n                    </div>\\r\\n                    <div class=\"col-md-6 body-card\">\\r\\n                        <p class=\"txt-name inline\">LAMBORGHINI MURCIELAGO</p>\\r\\n                            <p class=\"txt-category badge badge-secondary inline\">USADO</p>\\r\\n                            \\r\\n                        <p class=\"txt-motor\">Motor 1.0 8v</p>\\r\\n                        <p class=\"txt-description\">Ano 1991 - 464 km</p>\\r\\n                        <ul class=\"lst-items\">\\r\\n                            <li class=\"txt-items\">\\xe2\\x96\\xba Central multim\\xc3\\xaddia</li>\\r\\n                            <li class=\"txt-items\">\\xe2\\x96\\xba Teto panor\\xc3\\xa2mico</li>\\r\\n                            <li class=\"txt-items\">\\xe2\\x96\\xba Sensor crepuscular</li>\\r\\n                            <li class=\"txt-items\">\\xe2\\x96\\xba Piloto autom\\xc3\\xa1tico</li>\\r\\n                            <li class=\"txt-items\">...</li>\\r\\n                        </ul>\\r\\n                        <p class=\"txt-location\">Belo Horizonte - MG</p>\\r\\n                    </div>\\r\\n                    <div class=\"col-md-3 value-card\">\\r\\n                        <div class=\"value\">\\r\\n                            <p class=\"txt-value\">R$ 175.000</p>\\r\\n                        </div>\\r\\n                    </div>\\r\\n                </div>\\r\\n                <div class=\"well card\">\\r\\n                    <div class=\"col-md-3 image-card\">\\r\\n                        <img width=\"220\" height=\"155\" alt=\"Foto\" src=\"https://caelum-online-public.s3.amazonaws.com/1381-scraping/01/img-cars/aston-martin/aston-martin-2977916__340.jpg\">\\r\\n                    </div>\\r\\n                    <div class=\"col-md-6 body-card\">\\r\\n                        <p class=\"txt-name inline\">ASTON MARTIN</p>\\r\\n                            <p class=\"txt-category badge badge-secondary inline\">USADO</p>\\r\\n                            <p class=\"txt-opportunity badge badge-danger inline\">OPORTUNIDADE</p>\\r\\n                        <p class=\"txt-motor\">Motor Diesel V6</p>\\r\\n                        <p class=\"txt-description\">Ano 2004 - 50.189 km</p>\\r\\n                        <ul class=\"lst-items\">\\r\\n                            <li class=\"txt-items\">\\xe2\\x96\\xba Painel digital</li>\\r\\n                            <li class=\"txt-items\">\\xe2\\x96\\xba Controle de tra\\xc3\\xa7\\xc3\\xa3o</li>\\r\\n                            <li class=\"txt-items\">\\xe2\\x96\\xba Teto panor\\xc3\\xa2mico</li>\\r\\n                            <li class=\"txt-items\">\\xe2\\x96\\xba Central multim\\xc3\\xaddia</li>\\r\\n                            <li class=\"txt-items\">...</li>\\r\\n                        </ul>\\r\\n                        <p class=\"txt-location\">Belo Horizonte - MG</p>\\r\\n                    </div>\\r\\n                    <div class=\"col-md-3 value-card\">\\r\\n                        <div class=\"value\">\\r\\n                            <p class=\"txt-value\">R$ 239.000</p>\\r\\n                        </div>\\r\\n                    </div>\\r\\n                </div>\\r\\n                <div class=\"well card\">\\r\\n                    <div class=\"col-md-3 image-card\">\\r\\n                        <img width=\"220\" height=\"155\" alt=\"Foto\" src=\"https://caelum-online-public.s3.amazonaws.com/1381-scraping/01/img-cars/tvr/tvr-2943925__340.jpg\">\\r\\n                    </div>\\r\\n                    <div class=\"col-md-6 body-card\">\\r\\n                        <p class=\"txt-name inline\">TVR</p>\\r\\n                            <p class=\"txt-category badge badge-secondary inline\">USADO</p>\\r\\n                            \\r\\n                        <p class=\"txt-motor\">Motor 4.0 Turbo</p>\\r\\n                        <p class=\"txt-description\">Ano 2014 - 17.778 km</p>\\r\\n                        <ul class=\"lst-items\">\\r\\n                            <li class=\"txt-items\">\\xe2\\x96\\xba 4 X 4</li>\\r\\n                            <li class=\"txt-items\">\\xe2\\x96\\xba Teto panor\\xc3\\xa2mico</li>\\r\\n                            <li class=\"txt-items\">\\xe2\\x96\\xba Central multim\\xc3\\xaddia</li>\\r\\n                            <li class=\"txt-items\">\\xe2\\x96\\xba Controle de estabilidade</li>\\r\\n                            <li class=\"txt-items\">...</li>\\r\\n                        </ul>\\r\\n                        <p class=\"txt-location\">Belo Horizonte - MG</p>\\r\\n                    </div>\\r\\n                    <div class=\"col-md-3 value-card\">\\r\\n                        <div class=\"value\">\\r\\n                            <p class=\"txt-value\">R$ 115.000</p>\\r\\n                        </div>\\r\\n                    </div>\\r\\n                </div>\\r\\n                <div class=\"well card\">\\r\\n                    <div class=\"col-md-3 image-card\">\\r\\n                        <img width=\"220\" height=\"155\" alt=\"Foto\" src=\"https://caelum-online-public.s3.amazonaws.com/1381-scraping/01/img-cars/excalibur/excalibur-2916730__340.jpg\">\\r\\n                    </div>\\r\\n                    <div class=\"col-md-6 body-card\">\\r\\n                        <p class=\"txt-name inline\">EXCALIBUR</p>\\r\\n                            <p class=\"txt-category badge badge-secondary inline\">USADO</p>\\r\\n                            \\r\\n                        <p class=\"txt-motor\">Motor 3.0 32v</p>\\r\\n                        <p class=\"txt-description\">Ano 2009 - 81.251 km</p>\\r\\n                        <ul class=\"lst-items\">\\r\\n                            <li class=\"txt-items\">\\xe2\\x96\\xba Painel digital</li>\\r\\n                            <li class=\"txt-items\">\\xe2\\x96\\xba C\\xc3\\xa2mbio autom\\xc3\\xa1tico</li>\\r\\n                            <li class=\"txt-items\">\\xe2\\x96\\xba Sensor de chuva</li>\\r\\n                            <li class=\"txt-items\">\\xe2\\x96\\xba Travas el\\xc3\\xa9tricas</li>\\r\\n                            <li class=\"txt-items\">...</li>\\r\\n                        </ul>\\r\\n                        <p class=\"txt-location\">Rio de Janeiro - RJ</p>\\r\\n                    </div>\\r\\n                    <div class=\"col-md-3 value-card\">\\r\\n                        <div class=\"value\">\\r\\n                            <p class=\"txt-value\">R$ 114.000</p>\\r\\n                        </div>\\r\\n                    </div>\\r\\n                </div>\\r\\n                <div class=\"well card\">\\r\\n                    <div class=\"col-md-3 image-card\">\\r\\n                        <img width=\"220\" height=\"155\" alt=\"Foto\" src=\"https://caelum-online-public.s3.amazonaws.com/1381-scraping/01/img-cars/mclaren/mclaren-2855240__340.jpg\">\\r\\n                    </div>\\r\\n                    <div class=\"col-md-6 body-card\">\\r\\n                        <p class=\"txt-name inline\">MCLAREN</p>\\r\\n                            <p class=\"txt-category badge badge-secondary inline\">NOVO</p>\\r\\n                            \\r\\n                        <p class=\"txt-motor\">Motor Diesel</p>\\r\\n                        <p class=\"txt-description\">Ano 2019 - 0 km</p>\\r\\n                        <ul class=\"lst-items\">\\r\\n                            <li class=\"txt-items\">\\xe2\\x96\\xba Central multim\\xc3\\xaddia</li>\\r\\n                            <li class=\"txt-items\">\\xe2\\x96\\xba C\\xc3\\xa2mera de estacionamento</li>\\r\\n                            <li class=\"txt-items\">\\xe2\\x96\\xba C\\xc3\\xa2mbio autom\\xc3\\xa1tico</li>\\r\\n                            <li class=\"txt-items\">\\xe2\\x96\\xba Ar condicionado</li>\\r\\n                            <li class=\"txt-items\">...</li>\\r\\n                        </ul>\\r\\n                        <p class=\"txt-location\">S\\xc3\\xa3o Paulo - SP</p>\\r\\n                    </div>\\r\\n                    <div class=\"col-md-3 value-card\">\\r\\n                        <div class=\"value\">\\r\\n                            <p class=\"txt-value\">R$ 75.000</p>\\r\\n                        </div>\\r\\n                    </div>\\r\\n                </div>\\r\\n                <div class=\"well card\">\\r\\n                    <div class=\"col-md-3 image-card\">\\r\\n                        <img width=\"220\" height=\"155\" alt=\"Foto\" src=\"https://caelum-online-public.s3.amazonaws.com/1381-scraping/01/img-cars/toyota/toyota-3245397__340.jpg\">\\r\\n                    </div>\\r\\n                    <div class=\"col-md-6 body-card\">\\r\\n                        <p class=\"txt-name inline\">TOYOTA</p>\\r\\n                            <p class=\"txt-category badge badge-secondary inline\">USADO</p>\\r\\n                            <p class=\"txt-opportunity badge badge-danger inline\">OPORTUNIDADE</p>\\r\\n                        <p class=\"txt-motor\">Motor 4.0 Turbo</p>\\r\\n                        <p class=\"txt-description\">Ano 1999 - 12.536 km</p>\\r\\n                        <ul class=\"lst-items\">\\r\\n                            <li class=\"txt-items\">\\xe2\\x96\\xba Bancos de couro</li>\\r\\n                            <li class=\"txt-items\">\\xe2\\x96\\xba Freios ABS</li>\\r\\n                            <li class=\"txt-items\">\\xe2\\x96\\xba Piloto autom\\xc3\\xa1tico</li>\\r\\n                            <li class=\"txt-items\">\\xe2\\x96\\xba Controle de estabilidade</li>\\r\\n                            <li class=\"txt-items\">...</li>\\r\\n                        </ul>\\r\\n                        <p class=\"txt-location\">S\\xc3\\xa3o Paulo - SP</p>\\r\\n                    </div>\\r\\n                    <div class=\"col-md-3 value-card\">\\r\\n                        <div class=\"value\">\\r\\n                            <p class=\"txt-value\">R$ 117.000</p>\\r\\n                        </div>\\r\\n                    </div>\\r\\n                </div>\\t\\t\\t\\t\\t\\t</div>\\r\\n\\t\\t\\t\\t\\t\\t<div class=\"type-select\">246 ve\\xc3\\xadculos encontrados</div>\\r\\n\\t\\t\\t\\t\\t\\t\\t<div class=\"container-pagination\" style=\"float: right\">\\r\\n\\t\\t\\t\\t\\t\\t\\t\\t<span class=\"info-pages\">P\\xc3\\xa1gina 1 de 25</span>\\r\\n\\t\\t\\t\\t\\t\\t\\t</div>\\r\\n\\t\\t\\t\\t\\t\\t</div>\\r\\n\\t\\t\\t\\t\\t</div>\\r\\n\\t\\t\\t\\t</div>\\r\\n\\t\\t\\t</div>\\r\\n\\t\\t</div>\\r\\n\\r\\n\\t\\t<footer>\\r\\n\\t\\t\\t<nav class=\"navbar navbar-inverse\">\\r\\n\\t\\t\\t\\t<div class=\"container\" style=\"margin-bottom: 10px;\">\\r\\n\\t\\t\\t\\t\\t<div class=\"navbar\">\\r\\n\\t\\t\\t\\t\\t\\t<a href=\"./index.php\" class=\"navbar-brand\" title=\"Alura Motors\">\\r\\n\\t\\t\\t\\t\\t\\t\\t<img src=\"img/alura-logo.svg\" class=\"d-inline-block align-top\" alt=\"Alura\">Motors\\r\\n\\t\\t\\t\\t\\t\\t</a>\\r\\n\\t\\t\\t\\t\\t\\t<p style=\"color: #fff; text-align: center; margin-top: 40px;\">Aplica\\xc3\\xa7\\xc3\\xa3o para treinamento de web scraping</p>\\r\\n\\t\\t\\t\\t\\t</div>\\r\\n\\t\\t\\t\\t</div>\\r\\n\\t\\t\\t</nav>\\r\\n\\t\\t</footer>\\r\\n\\r\\n\\t</div>\\r\\n\\r\\n</body>\\r\\n</html>\\r\\n'"
            ]
          },
          "metadata": {},
          "execution_count": 27
        }
      ]
    },
    {
      "cell_type": "markdown",
      "source": [
        "Great! Our html variable is not very organized, but we were able to get the html. "
      ],
      "metadata": {
        "id": "0iUy22ARIeZo"
      }
    },
    {
      "cell_type": "markdown",
      "source": [
        "### Dealing with forbidden accesses"
      ],
      "metadata": {
        "id": "1QvHb_rTItlB"
      }
    },
    {
      "cell_type": "markdown",
      "source": [
        "In some webpages, one may find an error when trying to access it via Python script:"
      ],
      "metadata": {
        "id": "MTfCrU1FIw7o"
      }
    },
    {
      "cell_type": "code",
      "source": [
        "from urllib.request import urlopen\n",
        "\n",
        "url = 'https://www.alura.com.br'\n",
        "\n",
        "response = urlopen(url)\n",
        "html = response.read( )\n",
        "html"
      ],
      "metadata": {
        "colab": {
          "base_uri": "https://localhost:8080/",
          "height": 380
        },
        "id": "TkRb6SnWIdxH",
        "outputId": "7068aac4-bba6-44c9-ce5e-22cbe295088a"
      },
      "execution_count": 28,
      "outputs": [
        {
          "output_type": "error",
          "ename": "HTTPError",
          "evalue": "ignored",
          "traceback": [
            "\u001b[0;31m---------------------------------------------------------------------------\u001b[0m",
            "\u001b[0;31mHTTPError\u001b[0m                                 Traceback (most recent call last)",
            "\u001b[0;32m<ipython-input-28-eb956ec341c3>\u001b[0m in \u001b[0;36m<module>\u001b[0;34m()\u001b[0m\n\u001b[1;32m      3\u001b[0m \u001b[0murl\u001b[0m \u001b[0;34m=\u001b[0m \u001b[0;34m'https://www.alura.com.br'\u001b[0m\u001b[0;34m\u001b[0m\u001b[0;34m\u001b[0m\u001b[0m\n\u001b[1;32m      4\u001b[0m \u001b[0;34m\u001b[0m\u001b[0m\n\u001b[0;32m----> 5\u001b[0;31m \u001b[0mresponse\u001b[0m \u001b[0;34m=\u001b[0m \u001b[0murlopen\u001b[0m\u001b[0;34m(\u001b[0m\u001b[0murl\u001b[0m\u001b[0;34m)\u001b[0m\u001b[0;34m\u001b[0m\u001b[0;34m\u001b[0m\u001b[0m\n\u001b[0m\u001b[1;32m      6\u001b[0m \u001b[0mhtml\u001b[0m \u001b[0;34m=\u001b[0m \u001b[0mresponse\u001b[0m\u001b[0;34m.\u001b[0m\u001b[0mread\u001b[0m\u001b[0;34m(\u001b[0m \u001b[0;34m)\u001b[0m\u001b[0;34m\u001b[0m\u001b[0;34m\u001b[0m\u001b[0m\n\u001b[1;32m      7\u001b[0m \u001b[0mhtml\u001b[0m\u001b[0;34m\u001b[0m\u001b[0;34m\u001b[0m\u001b[0m\n",
            "\u001b[0;32m/usr/lib/python3.7/urllib/request.py\u001b[0m in \u001b[0;36murlopen\u001b[0;34m(url, data, timeout, cafile, capath, cadefault, context)\u001b[0m\n\u001b[1;32m    220\u001b[0m     \u001b[0;32melse\u001b[0m\u001b[0;34m:\u001b[0m\u001b[0;34m\u001b[0m\u001b[0;34m\u001b[0m\u001b[0m\n\u001b[1;32m    221\u001b[0m         \u001b[0mopener\u001b[0m \u001b[0;34m=\u001b[0m \u001b[0m_opener\u001b[0m\u001b[0;34m\u001b[0m\u001b[0;34m\u001b[0m\u001b[0m\n\u001b[0;32m--> 222\u001b[0;31m     \u001b[0;32mreturn\u001b[0m \u001b[0mopener\u001b[0m\u001b[0;34m.\u001b[0m\u001b[0mopen\u001b[0m\u001b[0;34m(\u001b[0m\u001b[0murl\u001b[0m\u001b[0;34m,\u001b[0m \u001b[0mdata\u001b[0m\u001b[0;34m,\u001b[0m \u001b[0mtimeout\u001b[0m\u001b[0;34m)\u001b[0m\u001b[0;34m\u001b[0m\u001b[0;34m\u001b[0m\u001b[0m\n\u001b[0m\u001b[1;32m    223\u001b[0m \u001b[0;34m\u001b[0m\u001b[0m\n\u001b[1;32m    224\u001b[0m \u001b[0;32mdef\u001b[0m \u001b[0minstall_opener\u001b[0m\u001b[0;34m(\u001b[0m\u001b[0mopener\u001b[0m\u001b[0;34m)\u001b[0m\u001b[0;34m:\u001b[0m\u001b[0;34m\u001b[0m\u001b[0;34m\u001b[0m\u001b[0m\n",
            "\u001b[0;32m/usr/lib/python3.7/urllib/request.py\u001b[0m in \u001b[0;36mopen\u001b[0;34m(self, fullurl, data, timeout)\u001b[0m\n\u001b[1;32m    529\u001b[0m         \u001b[0;32mfor\u001b[0m \u001b[0mprocessor\u001b[0m \u001b[0;32min\u001b[0m \u001b[0mself\u001b[0m\u001b[0;34m.\u001b[0m\u001b[0mprocess_response\u001b[0m\u001b[0;34m.\u001b[0m\u001b[0mget\u001b[0m\u001b[0;34m(\u001b[0m\u001b[0mprotocol\u001b[0m\u001b[0;34m,\u001b[0m \u001b[0;34m[\u001b[0m\u001b[0;34m]\u001b[0m\u001b[0;34m)\u001b[0m\u001b[0;34m:\u001b[0m\u001b[0;34m\u001b[0m\u001b[0;34m\u001b[0m\u001b[0m\n\u001b[1;32m    530\u001b[0m             \u001b[0mmeth\u001b[0m \u001b[0;34m=\u001b[0m \u001b[0mgetattr\u001b[0m\u001b[0;34m(\u001b[0m\u001b[0mprocessor\u001b[0m\u001b[0;34m,\u001b[0m \u001b[0mmeth_name\u001b[0m\u001b[0;34m)\u001b[0m\u001b[0;34m\u001b[0m\u001b[0;34m\u001b[0m\u001b[0m\n\u001b[0;32m--> 531\u001b[0;31m             \u001b[0mresponse\u001b[0m \u001b[0;34m=\u001b[0m \u001b[0mmeth\u001b[0m\u001b[0;34m(\u001b[0m\u001b[0mreq\u001b[0m\u001b[0;34m,\u001b[0m \u001b[0mresponse\u001b[0m\u001b[0;34m)\u001b[0m\u001b[0;34m\u001b[0m\u001b[0;34m\u001b[0m\u001b[0m\n\u001b[0m\u001b[1;32m    532\u001b[0m \u001b[0;34m\u001b[0m\u001b[0m\n\u001b[1;32m    533\u001b[0m         \u001b[0;32mreturn\u001b[0m \u001b[0mresponse\u001b[0m\u001b[0;34m\u001b[0m\u001b[0;34m\u001b[0m\u001b[0m\n",
            "\u001b[0;32m/usr/lib/python3.7/urllib/request.py\u001b[0m in \u001b[0;36mhttp_response\u001b[0;34m(self, request, response)\u001b[0m\n\u001b[1;32m    639\u001b[0m         \u001b[0;32mif\u001b[0m \u001b[0;32mnot\u001b[0m \u001b[0;34m(\u001b[0m\u001b[0;36m200\u001b[0m \u001b[0;34m<=\u001b[0m \u001b[0mcode\u001b[0m \u001b[0;34m<\u001b[0m \u001b[0;36m300\u001b[0m\u001b[0;34m)\u001b[0m\u001b[0;34m:\u001b[0m\u001b[0;34m\u001b[0m\u001b[0;34m\u001b[0m\u001b[0m\n\u001b[1;32m    640\u001b[0m             response = self.parent.error(\n\u001b[0;32m--> 641\u001b[0;31m                 'http', request, response, code, msg, hdrs)\n\u001b[0m\u001b[1;32m    642\u001b[0m \u001b[0;34m\u001b[0m\u001b[0m\n\u001b[1;32m    643\u001b[0m         \u001b[0;32mreturn\u001b[0m \u001b[0mresponse\u001b[0m\u001b[0;34m\u001b[0m\u001b[0;34m\u001b[0m\u001b[0m\n",
            "\u001b[0;32m/usr/lib/python3.7/urllib/request.py\u001b[0m in \u001b[0;36merror\u001b[0;34m(self, proto, *args)\u001b[0m\n\u001b[1;32m    567\u001b[0m         \u001b[0;32mif\u001b[0m \u001b[0mhttp_err\u001b[0m\u001b[0;34m:\u001b[0m\u001b[0;34m\u001b[0m\u001b[0;34m\u001b[0m\u001b[0m\n\u001b[1;32m    568\u001b[0m             \u001b[0margs\u001b[0m \u001b[0;34m=\u001b[0m \u001b[0;34m(\u001b[0m\u001b[0mdict\u001b[0m\u001b[0;34m,\u001b[0m \u001b[0;34m'default'\u001b[0m\u001b[0;34m,\u001b[0m \u001b[0;34m'http_error_default'\u001b[0m\u001b[0;34m)\u001b[0m \u001b[0;34m+\u001b[0m \u001b[0morig_args\u001b[0m\u001b[0;34m\u001b[0m\u001b[0;34m\u001b[0m\u001b[0m\n\u001b[0;32m--> 569\u001b[0;31m             \u001b[0;32mreturn\u001b[0m \u001b[0mself\u001b[0m\u001b[0;34m.\u001b[0m\u001b[0m_call_chain\u001b[0m\u001b[0;34m(\u001b[0m\u001b[0;34m*\u001b[0m\u001b[0margs\u001b[0m\u001b[0;34m)\u001b[0m\u001b[0;34m\u001b[0m\u001b[0;34m\u001b[0m\u001b[0m\n\u001b[0m\u001b[1;32m    570\u001b[0m \u001b[0;34m\u001b[0m\u001b[0m\n\u001b[1;32m    571\u001b[0m \u001b[0;31m# XXX probably also want an abstract factory that knows when it makes\u001b[0m\u001b[0;34m\u001b[0m\u001b[0;34m\u001b[0m\u001b[0;34m\u001b[0m\u001b[0m\n",
            "\u001b[0;32m/usr/lib/python3.7/urllib/request.py\u001b[0m in \u001b[0;36m_call_chain\u001b[0;34m(self, chain, kind, meth_name, *args)\u001b[0m\n\u001b[1;32m    501\u001b[0m         \u001b[0;32mfor\u001b[0m \u001b[0mhandler\u001b[0m \u001b[0;32min\u001b[0m \u001b[0mhandlers\u001b[0m\u001b[0;34m:\u001b[0m\u001b[0;34m\u001b[0m\u001b[0;34m\u001b[0m\u001b[0m\n\u001b[1;32m    502\u001b[0m             \u001b[0mfunc\u001b[0m \u001b[0;34m=\u001b[0m \u001b[0mgetattr\u001b[0m\u001b[0;34m(\u001b[0m\u001b[0mhandler\u001b[0m\u001b[0;34m,\u001b[0m \u001b[0mmeth_name\u001b[0m\u001b[0;34m)\u001b[0m\u001b[0;34m\u001b[0m\u001b[0;34m\u001b[0m\u001b[0m\n\u001b[0;32m--> 503\u001b[0;31m             \u001b[0mresult\u001b[0m \u001b[0;34m=\u001b[0m \u001b[0mfunc\u001b[0m\u001b[0;34m(\u001b[0m\u001b[0;34m*\u001b[0m\u001b[0margs\u001b[0m\u001b[0;34m)\u001b[0m\u001b[0;34m\u001b[0m\u001b[0;34m\u001b[0m\u001b[0m\n\u001b[0m\u001b[1;32m    504\u001b[0m             \u001b[0;32mif\u001b[0m \u001b[0mresult\u001b[0m \u001b[0;32mis\u001b[0m \u001b[0;32mnot\u001b[0m \u001b[0;32mNone\u001b[0m\u001b[0;34m:\u001b[0m\u001b[0;34m\u001b[0m\u001b[0;34m\u001b[0m\u001b[0m\n\u001b[1;32m    505\u001b[0m                 \u001b[0;32mreturn\u001b[0m \u001b[0mresult\u001b[0m\u001b[0;34m\u001b[0m\u001b[0;34m\u001b[0m\u001b[0m\n",
            "\u001b[0;32m/usr/lib/python3.7/urllib/request.py\u001b[0m in \u001b[0;36mhttp_error_default\u001b[0;34m(self, req, fp, code, msg, hdrs)\u001b[0m\n\u001b[1;32m    647\u001b[0m \u001b[0;32mclass\u001b[0m \u001b[0mHTTPDefaultErrorHandler\u001b[0m\u001b[0;34m(\u001b[0m\u001b[0mBaseHandler\u001b[0m\u001b[0;34m)\u001b[0m\u001b[0;34m:\u001b[0m\u001b[0;34m\u001b[0m\u001b[0;34m\u001b[0m\u001b[0m\n\u001b[1;32m    648\u001b[0m     \u001b[0;32mdef\u001b[0m \u001b[0mhttp_error_default\u001b[0m\u001b[0;34m(\u001b[0m\u001b[0mself\u001b[0m\u001b[0;34m,\u001b[0m \u001b[0mreq\u001b[0m\u001b[0;34m,\u001b[0m \u001b[0mfp\u001b[0m\u001b[0;34m,\u001b[0m \u001b[0mcode\u001b[0m\u001b[0;34m,\u001b[0m \u001b[0mmsg\u001b[0m\u001b[0;34m,\u001b[0m \u001b[0mhdrs\u001b[0m\u001b[0;34m)\u001b[0m\u001b[0;34m:\u001b[0m\u001b[0;34m\u001b[0m\u001b[0;34m\u001b[0m\u001b[0m\n\u001b[0;32m--> 649\u001b[0;31m         \u001b[0;32mraise\u001b[0m \u001b[0mHTTPError\u001b[0m\u001b[0;34m(\u001b[0m\u001b[0mreq\u001b[0m\u001b[0;34m.\u001b[0m\u001b[0mfull_url\u001b[0m\u001b[0;34m,\u001b[0m \u001b[0mcode\u001b[0m\u001b[0;34m,\u001b[0m \u001b[0mmsg\u001b[0m\u001b[0;34m,\u001b[0m \u001b[0mhdrs\u001b[0m\u001b[0;34m,\u001b[0m \u001b[0mfp\u001b[0m\u001b[0;34m)\u001b[0m\u001b[0;34m\u001b[0m\u001b[0;34m\u001b[0m\u001b[0m\n\u001b[0m\u001b[1;32m    650\u001b[0m \u001b[0;34m\u001b[0m\u001b[0m\n\u001b[1;32m    651\u001b[0m \u001b[0;32mclass\u001b[0m \u001b[0mHTTPRedirectHandler\u001b[0m\u001b[0;34m(\u001b[0m\u001b[0mBaseHandler\u001b[0m\u001b[0;34m)\u001b[0m\u001b[0;34m:\u001b[0m\u001b[0;34m\u001b[0m\u001b[0;34m\u001b[0m\u001b[0m\n",
            "\u001b[0;31mHTTPError\u001b[0m: HTTP Error 403: Forbidden"
          ]
        }
      ]
    },
    {
      "cell_type": "markdown",
      "source": [
        "To deal with this problem, we have to make a request. Basically, we have to say that we are accessing the page via a browser. Thus, we can make:"
      ],
      "metadata": {
        "id": "yU3sUn1wJIa4"
      }
    },
    {
      "cell_type": "code",
      "source": [
        "from urllib.request import Request, urlopen\n",
        "from urllib.error   import URLError, HTTPError\n",
        "\n",
        "url = 'https://www.alura.com.br'\n",
        "\n",
        "user = {'User-Agent' : 'Mozilla/5.0 (Windows NT 10.0; Win64; x64) AppleWebKit/537.36 (KHTML, like Gecko) Chrome/100.0.4896.127 Safari/537.36'}\n",
        "\n",
        "req = Request(url, headers = user)"
      ],
      "metadata": {
        "id": "DXs-O4QZJEE1"
      },
      "execution_count": null,
      "outputs": []
    },
    {
      "cell_type": "markdown",
      "source": [
        "We have made our request. Now, we can just access the webpage as we did before:"
      ],
      "metadata": {
        "id": "SRB-dfGkKR1p"
      }
    },
    {
      "cell_type": "code",
      "source": [
        "response = urlopen(req)\n",
        "html = response.read( )\n",
        "html"
      ],
      "metadata": {
        "id": "vGfnBCLvKJuZ"
      },
      "execution_count": null,
      "outputs": []
    },
    {
      "cell_type": "markdown",
      "source": [
        "Note that, now, we have opened our requested variable *req*, and not *url*. "
      ],
      "metadata": {
        "id": "LwBp2e5HKjBU"
      }
    },
    {
      "cell_type": "markdown",
      "source": [
        "For a clean code, we can print an error message. For instance:"
      ],
      "metadata": {
        "id": "O1lHg1yAK2h4"
      }
    },
    {
      "cell_type": "code",
      "source": [
        "from urllib.request import Request, urlopen\n",
        "from urllib.error   import URLError, HTTPError\n",
        "\n",
        "url = 'https://www.alura.com.br'\n",
        "user = {'User-Agent' : 'Mozilla/5.0 (Windows NT 10.0; Win64; x64) AppleWebKit/537.36 (KHTML, like Gecko) Chrome/100.0.4896.127 Safari/537.36'}\n",
        "\n",
        "try:\n",
        "  response = urlopen(url)\n",
        "  url = response.read( )\n",
        "  print(url)\n",
        "except HTTPError as e:      # If we get an error due to not being able to assess our url\n",
        "  print(e.status, e.reason)\n",
        "except URLError as e:       # If we get an error due to having a misspelled url\n",
        "  print(e.reason)"
      ],
      "metadata": {
        "colab": {
          "base_uri": "https://localhost:8080/"
        },
        "id": "JSeDJGmLKcmi",
        "outputId": "63e7c12e-e810-42af-b722-dfd51a0923f7"
      },
      "execution_count": 29,
      "outputs": [
        {
          "output_type": "stream",
          "name": "stdout",
          "text": [
            "403 Forbidden\n"
          ]
        }
      ]
    },
    {
      "cell_type": "markdown",
      "source": [
        "Now, if we make our request:"
      ],
      "metadata": {
        "id": "auKi5ingLS1A"
      }
    },
    {
      "cell_type": "code",
      "source": [
        "from urllib.request import Request, urlopen\n",
        "from urllib.error   import URLError, HTTPError\n",
        "\n",
        "url = 'https://www.alura.com.br'\n",
        "user = {'User-Agent' : 'Mozilla/5.0 (Windows NT 10.0; Win64; x64) AppleWebKit/537.36 (KHTML, like Gecko) Chrome/100.0.4896.127 Safari/537.36'}\n",
        "\n",
        "try:\n",
        "  req = Request(url, headers = user)\n",
        "  response = urlopen(req)\n",
        "  url = response.read( )\n",
        "  print(url)\n",
        "except HTTPError as e:      # If we get an error due to not being able to assess our url\n",
        "  print(e.status, e.reason)\n",
        "except URLError as e:       # If we get an error due to having a misspelled url\n",
        "  print(e.reason)"
      ],
      "metadata": {
        "colab": {
          "base_uri": "https://localhost:8080/"
        },
        "id": "ao33IBtELRmV",
        "outputId": "edbc6d54-f9df-42ee-9847-2d3e7588a58d"
      },
      "execution_count": 30,
      "outputs": [
        {
          "output_type": "stream",
          "name": "stdout",
          "text": [
            "b'\\n\\n<!DOCTYPE html><html\\nlang=\"pt-BR\"><head><meta\\ncharset=\"UTF-8\"><meta\\nname=\"viewport\" content=\"width=device-width,initial-scale=1,minimum-scale=1.0\"><title>Alura | Cursos online de Tecnologia</title><meta\\nname=\"description\" content=\"Aprenda Programa\\xc3\\xa7\\xc3\\xa3o, Front-end, Data Science, UX, DevOps, Marketing, Inova\\xc3\\xa7\\xc3\\xa3o e Gest\\xc3\\xa3o na maior plataforma de tecnologia do Brasil\"><link\\nrel=\"canonical\" href=\"https://www.alura.com.br\"><link\\nrel=\"icon\" href=\"/assets/favicon.1647533642.ico\" /><link\\nhref=\"https://fonts.googleapis.com/css?display=swap&family=Inter:wght@400;700;900\" rel=\"stylesheet\" crossorigin><link\\nrel=\"preconnect\" href=\"https://fonts.gstatic.com/\" crossorigin><link\\nrel=\"stylesheet\" href=\"/bundle,base/_reset,base/base,base/buttons,base/colors-apostilas,base/colors,base/titulos.1650916444.css\"><link\\nrel=\"stylesheet\" href=\"/bundle,home/homeNova/career-colors,home/homeNova/careers,home/homeNova/cases,home/homeNova/companies,home/homeNova/features,home/homeNova/home,home/homeNova/mobile,home/homeNova/testimonies.1649172966.css\"><link\\nrel=\"stylesheet\" href=\"/assets/css/block/elasticMedia.1647533642.css\"><link\\nrel=\"stylesheet\" href=\"/assets/css/block/depoimentos-comunidade.1647533642.css\"><link\\nrel=\"stylesheet\" href=\"/assets/css/artigos/glider.min.1647533642.css\"><meta\\nproperty=\"og:locale\" content=\"pt_BR\"><meta\\nproperty=\"og:description\" content=\"Aprenda Programa\\xc3\\xa7\\xc3\\xa3o, Front-end, Data Science, UX, DevOps, Marketing, Inova\\xc3\\xa7\\xc3\\xa3o e Gest\\xc3\\xa3o na maior plataforma de tecnologia do Brasil\"><meta\\nproperty=\"og:title\" content=\"Alura | Cursos online de Tecnologia\"><meta\\nproperty=\"og:site_name\" content=\"Alura\"><meta\\nproperty=\"og:url\" content=\"https://www.alura.com.br/\"><meta\\nproperty=\"og:image\" content=\"https://www.alura.com.br/assets/img/alura-share.1647533642.png\"><meta\\nproperty=\"og:image:alt\" content=\"Alura logo\"><meta\\nproperty=\"fb:app_id\" content=\"140078819399376\"><meta\\nproperty=\"og:type\" content=\"website\"><meta\\nname=\"twitter:card\" content=\"summary_large_image\"><meta\\nname=\"theme-color\" content=\"#2A7AE4\"> <script>;(function(w,d,s,l,i){w[l]=w[l]||[];w[l].push({\\'gtm.start\\':\\n                    new Date().getTime(),event:\\'gtm.js\\'});var f=d.getElementsByTagName(s)[0],\\n                j=d.createElement(s),dl=l!=\\'dataLayer\\'?\\'&l=\\'+l:\\'\\';j.async=true;j.src=\\n                \\'https://www.googletagmanager.com/gtm.js?id=\\'+i+dl;f.parentNode.insertBefore(j,f);\\n            })(window,document,\\'script\\',\\'dataLayer\\',\\'GTM-TN542JN\\');</script>  <script async src=\"https://www.googletagmanager.com/gtag/js?id=AW-980051072\"></script> <script>window.dataLayer = window.dataLayer || [];\\n            function gtag(){dataLayer.push(arguments);}\\n            gtag(\\'js\\', new Date());\\n            gtag(\\'config\\', \\'980051072\\');</script> </head><body\\nclass=\"dia-do-programador\"> <script src=\"/assets/js/avatarOnError.1647533644.js\"></script> <noscript><iframe\\nsrc=\"https://www.googletagmanager.com/ns.html?id=GTM-TN542JN\" height=\"0\" width=\"0\" style=\"display:none;visibility:hidden\"></iframe></noscript> <script>!function(f,b,e,v,n,t,s) {if(f.fbq)return;n=f.fbq=function(){n.callMethod? n.callMethod.apply(n,arguments):n.queue.push(arguments)}; if(!f._fbq)f._fbq=n;n.push=n;n.loaded=!0;n.version=\\'2.0\\'; n.queue=[];t=b.createElement(e);t.async=!0; t.src=v;s=b.getElementsByTagName(e)[0]; s.parentNode.insertBefore(t,s)}(window, document,\\'script\\', \\'https://connect.facebook.net/en_US/fbevents.js\\'); fbq(\\'init\\', \\'1067810189950610\\'); fbq(\\'track\\', \\'PageView\\');</script> <script src=\"/assets/js/courseIconFallback.1647533644.js\"></script>  <script type=\"application/ld+json\">{\\n      \"@context\": \"http://schema.org\",\\n      \"@type\": \"BreadcrumbList\",\\n\\n      \"itemListElement\": [{\\n        \"@type\": \"ListItem\",\\n        \"position\": 1,\\n        \"item\": {\\n          \"@id\": \"https://www.alura.com.br\",\\n          \"name\": \"Alura\"\\n        }\\n      }   \\n            ]\\n    }</script>  <script type=\"application/ld+json\">{\\n    \"@context\": \"https://schema.org\",\\n    \"@type\": \"WebSite\",\\n    \"url\": \"https://www.alura.com.br\",\\n    \"potentialAction\": {\\n      \"@type\": \"SearchAction\",\\n      \"target\": \"http://www.alura.com.br/busca?query={query}\",\\n      \"query-input\": \"required name=query\"\\n    }\\n}</script> <script>window.dataLayer.push({\\n                event: \\'view_item_list\\',\\n                value: 3540.00,\\n                items: [{\"id\":\"formacao-arquiteto-php\",\"google_business_vertical\":\"education\"},{\"id\":\"formacao-arquitetura-design-projetos-java\",\"google_business_vertical\":\"education\"},{\"id\":\"formacao-dotnet\",\"google_business_vertical\":\"education\"},{\"id\":\"formacao-avancando-php\",\"google_business_vertical\":\"education\"},{\"id\":\"formacao-boas-praticas-c-sharp\",\"google_business_vertical\":\"education\"},{\"id\":\"formacao-boas-praticas-php\",\"google_business_vertical\":\"education\"},{\"id\":\"formacao-c-sharp-orientacao-objetos\",\"google_business_vertical\":\"education\"},{\"id\":\"formacao-carreira-tester-qa\",\"google_business_vertical\":\"education\"},{\"id\":\"formacao-certificacao-java\",\"google_business_vertical\":\"education\"},{\"id\":\"formacao-clojure\",\"google_business_vertical\":\"education\"},{\"id\":\"formacao-django\",\"google_business_vertical\":\"education\"},{\"id\":\"formacao-django-rest\",\"google_business_vertical\":\"education\"},{\"id\":\"formacao-elixir\",\"google_business_vertical\":\"education\"},{\"id\":\"formacao-engenharia-software\",\"google_business_vertical\":\"education\"},{\"id\":\"formacao-go\",\"google_business_vertical\":\"education\"},{\"id\":\"formacao-programacao\",\"google_business_vertical\":\"education\"},{\"id\":\"formacao-internet-das-coisas-iot\",\"google_business_vertical\":\"education\"},{\"id\":\"formacao-java\",\"google_business_vertical\":\"education\"},{\"id\":\"formacao-js-backend\",\"google_business_vertical\":\"education\"},{\"id\":\"formacao-jogos-unity\",\"google_business_vertical\":\"education\"},{\"id\":\"formacao-kotlin\",\"google_business_vertical\":\"education\"},{\"id\":\"formacao-kotlin-spring-boot\",\"google_business_vertical\":\"education\"},{\"id\":\"formacao-linguagem-c-plus-plus\",\"google_business_vertical\":\"education\"},{\"id\":\"formacao-microcontroladores-eletronica-aplicada\",\"google_business_vertical\":\"education\"},{\"id\":\"formacao-node-js-express\",\"google_business_vertical\":\"education\"},{\"id\":\"formacao-desenvolvedor-php\",\"google_business_vertical\":\"education\"},{\"id\":\"formacao-Python-linguagem\",\"google_business_vertical\":\"education\"},{\"id\":\"formacao-raspberry-pi\",\"google_business_vertical\":\"education\"},{\"id\":\"formacao-spring-framework\",\"google_business_vertical\":\"education\"},{\"id\":\"formacao-testes-em-dotnet\",\"google_business_vertical\":\"education\"},{\"id\":\"formacao-vb-net\",\"google_business_vertical\":\"education\"},{\"id\":\"formacao-windows-forms-csharp\",\"google_business_vertical\":\"education\"},{\"id\":\"formacao-wordpress\",\"google_business_vertical\":\"education\"},{\"id\":\"formacao-acessibilidade-web\",\"google_business_vertical\":\"education\"},{\"id\":\"formacao-angular\",\"google_business_vertical\":\"education\"},{\"id\":\"formacao-front-end\",\"google_business_vertical\":\"education\"},{\"id\":\"formacao-html-e-css\",\"google_business_vertical\":\"education\"},{\"id\":\"formacao-next-js\",\"google_business_vertical\":\"education\"},{\"id\":\"formacao-react-ts\",\"google_business_vertical\":\"education\"},{\"id\":\"formacao-typescript\",\"google_business_vertical\":\"education\"},{\"id\":\"formacao-vuejs\",\"google_business_vertical\":\"education\"},{\"id\":\"formacao-vuejs3\",\"google_business_vertical\":\"education\"},{\"id\":\"formacao-business-intelligence-data-warehouse-pentaho\",\"google_business_vertical\":\"education\"},{\"id\":\"formacao-business-intelligence-data-warehouse\",\"google_business_vertical\":\"education\"},{\"id\":\"formacao-data-analysis-google-sheets\",\"google_business_vertical\":\"education\"},{\"id\":\"formacao-data-science\",\"google_business_vertical\":\"education\"},{\"id\":\"formacao-datomic\",\"google_business_vertical\":\"education\"},{\"id\":\"formacao-deep-learning-pytorch\",\"google_business_vertical\":\"education\"},{\"id\":\"formacao-estatistica-python\",\"google_business_vertical\":\"education\"},{\"id\":\"formacao-estatistica-r\",\"google_business_vertical\":\"education\"},{\"id\":\"formacao-excel-vba\",\"google_business_vertical\":\"education\"},{\"id\":\"formacao-google-bigquery-datastudio\",\"google_business_vertical\":\"education\"},{\"id\":\"formacao-iniciando-engenharia-dados\",\"google_business_vertical\":\"education\"},{\"id\":\"formacao-machine-learning\",\"google_business_vertical\":\"education\"},{\"id\":\"formacao-machine-learning-avancada\",\"google_business_vertical\":\"education\"},{\"id\":\"formacao-machine-learning-negocios-digitais\",\"google_business_vertical\":\"education\"},{\"id\":\"formacao-modelagem-dados\",\"google_business_vertical\":\"education\"},{\"id\":\"formacao-power-bi\",\"google_business_vertical\":\"education\"},{\"id\":\"formacao-python-data-science\",\"google_business_vertical\":\"education\"},{\"id\":\"formacao-qlik-sense\",\"google_business_vertical\":\"education\"},{\"id\":\"formacao-oracle-database-sql-plsql\",\"google_business_vertical\":\"education\"},{\"id\":\"formacao-microsoft-sql-server-2017\",\"google_business_vertical\":\"education\"},{\"id\":\"formacao-oracle-mysql\",\"google_business_vertical\":\"education\"},{\"id\":\"formacao-postgresql\",\"google_business_vertical\":\"education\"},{\"id\":\"formacao-tableau\",\"google_business_vertical\":\"education\"},{\"id\":\"formacao-tecnicas-processamento-linguagem-natural\",\"google_business_vertical\":\"education\"},{\"id\":\"formacao-redes\",\"google_business_vertical\":\"education\"},{\"id\":\"formacao-amazon-web-services\",\"google_business_vertical\":\"education\"},{\"id\":\"formacao-kafka\",\"google_business_vertical\":\"education\"},{\"id\":\"formacao-aws-certified-cloud-practitioner\",\"google_business_vertical\":\"education\"},{\"id\":\"formacao-aws-certified-solutions-architect-associate\",\"google_business_vertical\":\"education\"},{\"id\":\"formacao-certificacao-az-900-microsoft-azure-fundamentals\",\"google_business_vertical\":\"education\"},{\"id\":\"formacao-docker-dca\",\"google_business_vertical\":\"education\"},{\"id\":\"formacao-certificacao-lpi-linux-essentials\",\"google_business_vertical\":\"education\"},{\"id\":\"formacao-cloud-computing\",\"google_business_vertical\":\"education\"},{\"id\":\"formacao-devops\",\"google_business_vertical\":\"education\"},{\"id\":\"formacao-google-certified-associate-cloud-engineer\",\"google_business_vertical\":\"education\"},{\"id\":\"formacao-infraestrutura-codigo\",\"google_business_vertical\":\"education\"},{\"id\":\"formacao-kubernetes\",\"google_business_vertical\":\"education\"},{\"id\":\"formacao-owasp\",\"google_business_vertical\":\"education\"},{\"id\":\"formacao-primeiros-passos-devops\",\"google_business_vertical\":\"education\"},{\"id\":\"formacao-seguranca-de-aplicacoes\",\"google_business_vertical\":\"education\"},{\"id\":\"formacao-sre\",\"google_business_vertical\":\"education\"},{\"id\":\"formacao-adobe-mobile\",\"google_business_vertical\":\"education\"},{\"id\":\"formacao-ui-adobe-xd\",\"google_business_vertical\":\"education\"},{\"id\":\"formacao-blender\",\"google_business_vertical\":\"education\"},{\"id\":\"formacao-desenhohumano-photoshop\",\"google_business_vertical\":\"education\"},{\"id\":\"formacao-desenvolvimento-carreira-ux\",\"google_business_vertical\":\"education\"},{\"id\":\"formacao-design-de-jogos\",\"google_business_vertical\":\"education\"},{\"id\":\"formacao-design-grafico\",\"google_business_vertical\":\"education\"},{\"id\":\"formacao-design-system\",\"google_business_vertical\":\"education\"},{\"id\":\"formacao-editor-video\",\"google_business_vertical\":\"education\"},{\"id\":\"formacao-figma\",\"google_business_vertical\":\"education\"},{\"id\":\"formacao-fotografia\",\"google_business_vertical\":\"education\"},{\"id\":\"formacao-hq-narrativa-sequencial\",\"google_business_vertical\":\"education\"},{\"id\":\"formacao-identidadevisual\",\"google_business_vertical\":\"education\"},{\"id\":\"formacao-identidade-visual-softwares-free\",\"google_business_vertical\":\"education\"},{\"id\":\"formacao-ilustra-publicitaria\",\"google_business_vertical\":\"education\"},{\"id\":\"formacao-producao-indesign\",\"google_business_vertical\":\"education\"},{\"id\":\"formacao-motion-design\",\"google_business_vertical\":\"education\"},{\"id\":\"formacao-osteologia\",\"google_business_vertical\":\"education\"},{\"id\":\"formacao-ux-research-qualitativo\",\"google_business_vertical\":\"education\"},{\"id\":\"formacao-pinturadigital-photoshop\",\"google_business_vertical\":\"education\"},{\"id\":\"formacao-producao-com-photoshop\",\"google_business_vertical\":\"education\"},{\"id\":\"formacao-procucao-premiere\",\"google_business_vertical\":\"education\"},{\"id\":\"formacao-grafica-illustrator\",\"google_business_vertical\":\"education\"},{\"id\":\"formacao-produzindo-inkscape\",\"google_business_vertical\":\"education\"},{\"id\":\"formacao-produzindo-krita\",\"google_business_vertical\":\"education\"},{\"id\":\"formacao-props-para-games\",\"google_business_vertical\":\"education\"},{\"id\":\"formacao-ui-sketch\",\"google_business_vertical\":\"education\"},{\"id\":\"formacao-streaming\",\"google_business_vertical\":\"education\"},{\"id\":\"formacao-tratamento-de-imagem\",\"google_business_vertical\":\"education\"},{\"id\":\"formacao-unreal-engine\",\"google_business_vertical\":\"education\"},{\"id\":\"formacao-ux\",\"google_business_vertical\":\"education\"},{\"id\":\"formacao-ux-research\",\"google_business_vertical\":\"education\"},{\"id\":\"formacao-estatistica-para-ux-research\",\"google_business_vertical\":\"education\"},{\"id\":\"formacao-android\",\"google_business_vertical\":\"education\"},{\"id\":\"formacao-android-kotlin\",\"google_business_vertical\":\"education\"},{\"id\":\"formacao-arquiteto-android\",\"google_business_vertical\":\"education\"},{\"id\":\"formacao-firebase-android\",\"google_business_vertical\":\"education\"},{\"id\":\"formacao-flutter\",\"google_business_vertical\":\"education\"},{\"id\":\"formacao-ios\",\"google_business_vertical\":\"education\"},{\"id\":\"formacao-react-native\",\"google_business_vertical\":\"education\"},{\"id\":\"formacao-testes-automatizados-android\",\"google_business_vertical\":\"education\"},{\"id\":\"formacao-aprendizagem\",\"google_business_vertical\":\"education\"},{\"id\":\"formacao-business-agility\",\"google_business_vertical\":\"education\"},{\"id\":\"formacao-certificacao-cobit-5\",\"google_business_vertical\":\"education\"},{\"id\":\"formacao-certificacao-itil-foundation\",\"google_business_vertical\":\"education\"},{\"id\":\"formacao-certificacao-pmp-capm-pmi\",\"google_business_vertical\":\"education\"},{\"id\":\"formacao-comunicacao\",\"google_business_vertical\":\"education\"},{\"id\":\"formacao-comunicacao-lideres\",\"google_business_vertical\":\"education\"},{\"id\":\"formacao-criatividade\",\"google_business_vertical\":\"education\"},{\"id\":\"formacao-digital-e-agile-thinking\",\"google_business_vertical\":\"education\"},{\"id\":\"formacao-e-commerce\",\"google_business_vertical\":\"education\"},{\"id\":\"formacao-empreendedorismo-digital\",\"google_business_vertical\":\"education\"},{\"id\":\"formacao-ferramentas-indicadores-e-commerce\",\"google_business_vertical\":\"education\"},{\"id\":\"formacao-gerente-agil\",\"google_business_vertical\":\"education\"},{\"id\":\"formacao-certificacao-itil-4-foundation\",\"google_business_vertical\":\"education\"},{\"id\":\"formacao-gestao-qualidade\",\"google_business_vertical\":\"education\"},{\"id\":\"formacao-gestao-produtos\",\"google_business_vertical\":\"education\"},{\"id\":\"formacao-gestao-rh-tech\",\"google_business_vertical\":\"education\"},{\"id\":\"formacao-gestao-aplicacoes-sap\",\"google_business_vertical\":\"education\"},{\"id\":\"formacao-governanca-corporativa\",\"google_business_vertical\":\"education\"},{\"id\":\"formacao-habilidades-comportamento\",\"google_business_vertical\":\"education\"},{\"id\":\"formacao-inovacao-para-lideres\",\"google_business_vertical\":\"education\"},{\"id\":\"formacao-lean-governanca-agilidade-escalada\",\"google_business_vertical\":\"education\"},{\"id\":\"formacao-lider-de-si\",\"google_business_vertical\":\"education\"},{\"id\":\"formacao-marketing-digital\",\"google_business_vertical\":\"education\"},{\"id\":\"formacao-minha-carreira\",\"google_business_vertical\":\"education\"},{\"id\":\"formacao-minha-primeira-lideranca\",\"google_business_vertical\":\"education\"},{\"id\":\"formacao-modelagem-melhorias-processos-negocios\",\"google_business_vertical\":\"education\"},{\"id\":\"formacao-negociacao\",\"google_business_vertical\":\"education\"},{\"id\":\"formacao-pensamento-estrategico\",\"google_business_vertical\":\"education\"},{\"id\":\"formacao-personal-branding\",\"google_business_vertical\":\"education\"},{\"id\":\"formacao-praticas-gestao-waterfall-hibridas\",\"google_business_vertical\":\"education\"},{\"id\":\"formacao-certificacao-pmi-acp\",\"google_business_vertical\":\"education\"},{\"id\":\"formacao-produtividade\",\"google_business_vertical\":\"education\"},{\"id\":\"formacao-rh-4-0-digital-agile-transforming-business-partner\",\"google_business_vertical\":\"education\"},{\"id\":\"formacao-seo\",\"google_business_vertical\":\"education\"},{\"id\":\"formacao-social-media\",\"google_business_vertical\":\"education\"},{\"id\":\"formacao-times-alta-performance\",\"google_business_vertical\":\"education\"},{\"id\":\"formacao-trafego-pago\",\"google_business_vertical\":\"education\"},{\"id\":\"formacao-vendas-de-alta-performance\",\"google_business_vertical\":\"education\"}]});</script> <div\\nclass=\"home\"><div\\nclass=\"home__header\"><link\\nrel=\"stylesheet\" href=\"/assets/css/block/header.1647533642.css\"><link\\nrel=\"stylesheet\" href=\"/assets/css/block/dia-do-programador.1647533642.css\"><link\\nrel=\"stylesheet\" href=\"/assets/css/block/countdown.1647533642.css\"><link\\nrel=\"stylesheet\" href=\"/assets/css/block/headerHome.1647533642.css\"><style>@media (min-width: 1100px) {\\n\\t\\t\\t\\t.header-navegacao-cursos-lista {\\n\\t\\t\\t\\t\\tdisplay: none;\\n\\t\\t\\t\\t}\\n\\t\\t\\t\\t.header__nav {\\n\\t\\t\\t\\t\\tborder: none;\\n\\t\\t\\t\\t\\tmargin-top:10px;\\n\\t\\t\\t\\t}\\n\\t\\t\\t\\t.header {\\n\\t\\t\\t\\t\\tpadding-bottom: 0;\\n\\t\\t\\t\\t}\\n\\t\\t\\t}</style><header\\nclass=\"header--home\"><div\\nclass=\"container\"><nav\\nclass=\"header__nav--home\">\\n<a\\nhref=\"/\" class=\"header__nav__link--home header__nav__link--logo\">\\n<img\\nclass=\"header__nav__link__logo\" alt=\"Alura\"\\nsrc=\"/assets/img/home/alura-logo.1647533643.svg\">\\n</a><div\\nclass=\"header__nav__wrapper header__nav__wrapper--ctas\"><div\\nclass=\"header-utilitario-busca header-utilitario-busca--home\" aria-label=\"Busca\">\\n<svg\\nclass=\"header-utilitario-busca-icone--home\" xmlns:xlink=\"http://www.w3.org/1999/xlink\">\\n<use\\nxlink:href=\"/svg,1647533643/header#icon-header-busca-home\"/>\\n</svg></div>\\n<a\\nhref=\"https://cursos.alura.com.br/loginForm?urlAfterLogin=https://cursos.alura.com.br/dashboard\" class=\"header__nav__link header__nav__link--entrar\">Entrar</a>\\n<a\\nhref=\"/planos-cursos-online\" class=\"header__nav__link header__nav__link--cta\">Matricule-se</a></div><div\\nclass=\"header-barraBusca__wrapper\"><div\\nclass=\"header-barraBusca header-barraBusca--home\"><form\\naction=\"/busca\" class=\"header-barraBusca-form\">\\n<label\\nfor=\"header-barraBusca-form-campoBusca\">Qual curso procura?</label>\\n<input\\ntype=\"search\" id=\"header-barraBusca-form-campoBusca\" name=\"query\"\\nclass=\"header-barraBusca-form-serch-input header-barra-busca--home\" placeholder=\"O que voc\\xc3\\xaa quer aprender?\">\\n<button\\nclass=\"header-barraBusca-form-submit\" type=\"submit\"></button></form></div></div><div\\nclass=\"nav__courses__wrapper header__nav__wrapper header__nav__wrapper--menu\">\\n<a\\nhref=\"/formacoes\" class=\"nav__courses__link--home header__menu-options--home\">\\n<span>\\nNossas\\n</span>\\n<span>\\nForma\\xc3\\xa7\\xc3\\xb5es\\n</span>\\n</a>\\n<a\\nhref=\"/empresas\" class=\"nav__courses__link--home header__menu-options--home\">\\n<span>\\nPara\\n</span>\\n<span>\\nEmpresas\\n</span>\\n</a>\\n<a\\nhref=\"/dev-em-t\" class=\"nav__courses__link--home header__menu-options--home\">\\n<span>\\nDev\\n</span>\\n<span>\\nem  &lt;T&gt;\\n</span>\\n</a></div><ul\\nclass=\"header-navegacao-cursos-lista container header__menu-allcourses--home\"><li\\nclass=\"header-cursos-lista-categoria \">\\n<a\\nhref=\"/cursos-online-programacao\" class=\"unlinkify\">\\n<svg\\nclass=\"header-cursos-lista-categoria--icon\" style=\"fill: #ffffff\" xmlns:xlink=\"http://www.w3.org/1999/xlink\">\\n<use\\nxlink:href=\"/svg,1647533643/categorias#icon-categorias-programacao\"/>\\n</svg><div\\nclass=\"header-lista-categoria-nome--home\">\\n<span>Programa\\xc3\\xa7\\xc3\\xa3o</span></div>\\n</a></li><li\\nclass=\"header-cursos-lista-categoria \">\\n<a\\nhref=\"/cursos-online-front-end\" class=\"unlinkify\">\\n<svg\\nclass=\"header-cursos-lista-categoria--icon\" style=\"fill: #ffffff\" xmlns:xlink=\"http://www.w3.org/1999/xlink\">\\n<use\\nxlink:href=\"/svg,1647533643/categorias#icon-categorias-front-end\"/>\\n</svg><div\\nclass=\"header-lista-categoria-nome--home\">\\n<span>Front-end</span></div>\\n</a></li><li\\nclass=\"header-cursos-lista-categoria \">\\n<a\\nhref=\"/cursos-online-data-science\" class=\"unlinkify\">\\n<svg\\nclass=\"header-cursos-lista-categoria--icon\" style=\"fill: #ffffff\" xmlns:xlink=\"http://www.w3.org/1999/xlink\">\\n<use\\nxlink:href=\"/svg,1647533643/categorias#icon-categorias-data-science\"/>\\n</svg><div\\nclass=\"header-lista-categoria-nome--home\">\\n<span>Data Science</span></div>\\n</a></li><li\\nclass=\"header-cursos-lista-categoria \">\\n<a\\nhref=\"/cursos-online-devops\" class=\"unlinkify\">\\n<svg\\nclass=\"header-cursos-lista-categoria--icon\" style=\"fill: #ffffff\" xmlns:xlink=\"http://www.w3.org/1999/xlink\">\\n<use\\nxlink:href=\"/svg,1647533643/categorias#icon-categorias-devops\"/>\\n</svg><div\\nclass=\"header-lista-categoria-nome--home\">\\n<span>DevOps</span></div>\\n</a></li><li\\nclass=\"header-cursos-lista-categoria \">\\n<a\\nhref=\"/cursos-online-design-ux\" class=\"unlinkify\">\\n<svg\\nclass=\"header-cursos-lista-categoria--icon\" style=\"fill: #ffffff\" xmlns:xlink=\"http://www.w3.org/1999/xlink\">\\n<use\\nxlink:href=\"/svg,1647533643/categorias#icon-categorias-design-ux\"/>\\n</svg><div\\nclass=\"header-lista-categoria-nome--home\">\\n<span>UX & Design</span></div>\\n</a></li><li\\nclass=\"header-cursos-lista-categoria \">\\n<a\\nhref=\"/cursos-online-mobile\" class=\"unlinkify\">\\n<svg\\nclass=\"header-cursos-lista-categoria--icon\" style=\"fill: #ffffff\" xmlns:xlink=\"http://www.w3.org/1999/xlink\">\\n<use\\nxlink:href=\"/svg,1647533643/categorias#icon-categorias-mobile\"/>\\n</svg><div\\nclass=\"header-lista-categoria-nome--home\">\\n<span>Mobile</span></div>\\n</a></li><li\\nclass=\"header-cursos-lista-categoria \">\\n<a\\nhref=\"/cursos-online-inovacao-gestao\" class=\"unlinkify\">\\n<svg\\nclass=\"header-cursos-lista-categoria--icon\" style=\"fill: #ffffff\" xmlns:xlink=\"http://www.w3.org/1999/xlink\">\\n<use\\nxlink:href=\"/svg,1647533643/categorias#icon-categorias-inovacao-gestao\"/>\\n</svg><div\\nclass=\"header-lista-categoria-nome--home\">\\n<span>Inova\\xc3\\xa7\\xc3\\xa3o & Gest\\xc3\\xa3o</span></div>\\n</a></li></ul></nav></div></header><div\\nclass=\"container\"><div\\nclass=\"home--background\"><div\\nclass=\"home__titles\"><h1 class=\"home__titles__main-title\">Mergulhe em Tecnologia!</h1><p\\nclass=\"home__titles__sub-title\">Voc\\xc3\\xaa vai estudar, praticar, discutir e se aprofundar em uma plataforma que respira tecnologia.</p></div></div><link\\nrel=\"stylesheet\" href=\"/assets/css/block/categories.1647533642.css\"><link\\nrel=\"stylesheet\" href=\"/assets/css/block/navCategoriasHome.1647533642.css\"><link\\nrel=\"stylesheet\" href=\"/assets/css/block/navCategoriasHome.1647533642.css\"> <script>window.dataLayer.push({\\n                event: \\'view_item_list\\',\\n                value: 3540.00,\\n                items: [{\"id\":\"cursos-online-programacao\",\"google_business_vertical\":\"education\"},{\"id\":\"cursos-online-front-end\",\"google_business_vertical\":\"education\"},{\"id\":\"cursos-online-data-science\",\"google_business_vertical\":\"education\"},{\"id\":\"cursos-online-devops\",\"google_business_vertical\":\"education\"},{\"id\":\"cursos-online-design-ux\",\"google_business_vertical\":\"education\"},{\"id\":\"cursos-online-mobile\",\"google_business_vertical\":\"education\"},{\"id\":\"cursos-online-inovacao-gestao\",\"google_business_vertical\":\"education\"}]});</script> <nav\\nclass=\"categories--home\"><div\\nclass=\"categories__elements--home\"><div\\nclass=\"categories__wrapper__links--home --programacao\" style=\"--color-var: #00c86f\">\\n<a\\nclass=\"categories__link--home\" href=\"/escola-programacao\"><div\\nclass=\"categories__link-wrapper--home\"><div\\nclass=\"categories__svg-wrapper--home\" style=\"background:#00c86f52;\">\\n<svg\\nclass=\"pagina-categoria__svg--home categories__svg--home\" style=\"fill:#00c86f\" xmlns:xlink=\"http://www.w3.org/1999/xlink\">\\n<use\\nxlink:href=\"/svg,1647533643/categorias#icon-categorias-programacao\"/>\\n</svg></div><div\\nclass=\"categories__texts\" style=\"color:#00c86f;\">\\n<span\\nclass=\"categories__link__text\">Escola</span><h4 class=\"categories__link__category-name\">Programa\\xc3\\xa7\\xc3\\xa3o</h4></div></div>\\n</a><nav\\nclass=\"categories__calls--home\">\\n<a\\nhref=\"/cursos-online-programacao/logica\"\\nclass=\"categories__calls__description--home\">L\\xc3\\xb3gica</a><span\\nclass=\"categories__calls__description-separator\">, </span>\\n<a\\nhref=\"/cursos-online-programacao/python\"\\nclass=\"categories__calls__description--home\">Python</a><span\\nclass=\"categories__calls__description-separator\">, </span>\\n<a\\nhref=\"/cursos-online-programacao/php\"\\nclass=\"categories__calls__description--home\">PHP</a><span\\nclass=\"categories__calls__description-separator\">, </span>\\n<a\\nhref=\"/cursos-online-programacao/java\"\\nclass=\"categories__calls__description--home\">Java</a><span\\nclass=\"categories__calls__description-separator\">, </span>\\n<a\\nhref=\"/cursos-online-programacao/dotnet\"\\nclass=\"categories__calls__description--home\">.NET</a><span\\nclass=\"categories__calls__description-separator\">, </span>\\n<a\\nhref=\"/cursos-online-programacao/node-js\"\\nclass=\"categories__calls__description--home\">Node JS</a><span\\nclass=\"categories__calls__description-separator\">, </span>\\n<a\\nhref=\"/cursos-online-programacao/linguagem-c\"\\nclass=\"categories__calls__description--home\">C</a><span\\nclass=\"categories__calls__description-separator\">, </span>\\n<a\\nhref=\"/cursos-online-programacao/computacao\"\\nclass=\"categories__calls__description--home\">Computa\\xc3\\xa7\\xc3\\xa3o</a><span\\nclass=\"categories__calls__description-separator\">, </span>\\n<a\\nhref=\"/cursos-online-programacao/jogos\"\\nclass=\"categories__calls__description--home\">Jogos</a><span\\nclass=\"categories__calls__description-separator\">, </span>\\n<a\\nhref=\"/cursos-online-programacao/internet-das-coisas\"\\nclass=\"categories__calls__description--home\">IoT</a><span\\nclass=\"categories__calls__description-separator\"></span>\\n<a\\nhref=\"/cursos-online-programacao\"\\nclass=\"categories__calls__link-see-more--home\">e mais...</a></nav></div><div\\nclass=\"categories__wrapper__links--home --front-end\" style=\"--color-var: #6bd1ff\">\\n<a\\nclass=\"categories__link--home\" href=\"/escola-front-end\"><div\\nclass=\"categories__link-wrapper--home\"><div\\nclass=\"categories__svg-wrapper--home\" style=\"background:#6bd1ff52;\">\\n<svg\\nclass=\"pagina-categoria__svg--home categories__svg--home\" style=\"fill:#6bd1ff\" xmlns:xlink=\"http://www.w3.org/1999/xlink\">\\n<use\\nxlink:href=\"/svg,1647533643/categorias#icon-categorias-front-end\"/>\\n</svg></div><div\\nclass=\"categories__texts\" style=\"color:#6bd1ff;\">\\n<span\\nclass=\"categories__link__text\">Escola</span><h4 class=\"categories__link__category-name\">Front-end</h4></div></div>\\n</a><nav\\nclass=\"categories__calls--home\">\\n<a\\nhref=\"/cursos-online-front-end/front-end\"\\nclass=\"categories__calls__description--home\">HTML, CSS</a><span\\nclass=\"categories__calls__description-separator\">, </span>\\n<a\\nhref=\"/cursos-online-front-end/reactjs\"\\nclass=\"categories__calls__description--home\">React</a><span\\nclass=\"categories__calls__description-separator\">, </span>\\n<a\\nhref=\"/cursos-online-front-end/angular\"\\nclass=\"categories__calls__description--home\">Angular</a><span\\nclass=\"categories__calls__description-separator\">, </span>\\n<a\\nhref=\"/cursos-online-front-end/javascript\"\\nclass=\"categories__calls__description--home\">JavaScript</a><span\\nclass=\"categories__calls__description-separator\">, </span>\\n<a\\nhref=\"/cursos-online-front-end/jquery\"\\nclass=\"categories__calls__description--home\">jQuery</a><span\\nclass=\"categories__calls__description-separator\"></span>\\n<a\\nhref=\"/cursos-online-front-end\"\\nclass=\"categories__calls__link-see-more--home\">e mais...</a></nav></div><div\\nclass=\"categories__wrapper__links--home --data-science\" style=\"--color-var: #9cd33b\">\\n<a\\nclass=\"categories__link--home\" href=\"/escola-data-science\"><div\\nclass=\"categories__link-wrapper--home\"><div\\nclass=\"categories__svg-wrapper--home\" style=\"background:#9cd33b52;\">\\n<svg\\nclass=\"pagina-categoria__svg--home categories__svg--home\" style=\"fill:#9cd33b\" xmlns:xlink=\"http://www.w3.org/1999/xlink\">\\n<use\\nxlink:href=\"/svg,1647533643/categorias#icon-categorias-data-science\"/>\\n</svg></div><div\\nclass=\"categories__texts\" style=\"color:#9cd33b;\">\\n<span\\nclass=\"categories__link__text\">Escola</span><h4 class=\"categories__link__category-name\">Data Science</h4></div></div>\\n</a><nav\\nclass=\"categories__calls--home\">\\n<a\\nhref=\"/cursos-online-data-science/data-science\"\\nclass=\"categories__calls__description--home\">Ci\\xc3\\xaancia de dados</a><span\\nclass=\"categories__calls__description-separator\">, </span>\\n<a\\nhref=\"/cursos-online-data-science/business-intelligence\"\\nclass=\"categories__calls__description--home\">BI</a><span\\nclass=\"categories__calls__description-separator\">, </span>\\n<a\\nhref=\"/cursos-online-data-science/sql\"\\nclass=\"categories__calls__description--home\">SQL e Banco de Dados</a><span\\nclass=\"categories__calls__description-separator\">, </span>\\n<a\\nhref=\"/cursos-online-data-science/excel\"\\nclass=\"categories__calls__description--home\">Excel</a><span\\nclass=\"categories__calls__description-separator\">, </span>\\n<a\\nhref=\"/cursos-online-data-science/machine-learning\"\\nclass=\"categories__calls__description--home\">Machine Learning</a><span\\nclass=\"categories__calls__description-separator\">, </span>\\n<a\\nhref=\"/cursos-online-data-science/nosql\"\\nclass=\"categories__calls__description--home\">NoSQL</a><span\\nclass=\"categories__calls__description-separator\">, </span>\\n<a\\nhref=\"/cursos-online-data-science/estatistica\"\\nclass=\"categories__calls__description--home\">Estat\\xc3\\xadstica</a><span\\nclass=\"categories__calls__description-separator\"></span>\\n<a\\nhref=\"/cursos-online-data-science\"\\nclass=\"categories__calls__link-see-more--home\">e mais...</a></nav></div><div\\nclass=\"categories__wrapper__links--home --devops\" style=\"--color-var: #f16165\">\\n<a\\nclass=\"categories__link--home\" href=\"/escola-devops\"><div\\nclass=\"categories__link-wrapper--home\"><div\\nclass=\"categories__svg-wrapper--home\" style=\"background:#f1616552;\">\\n<svg\\nclass=\"pagina-categoria__svg--home categories__svg--home\" style=\"fill:#f16165\" xmlns:xlink=\"http://www.w3.org/1999/xlink\">\\n<use\\nxlink:href=\"/svg,1647533643/categorias#icon-categorias-devops\"/>\\n</svg></div><div\\nclass=\"categories__texts\" style=\"color:#f16165;\">\\n<span\\nclass=\"categories__link__text\">Escola</span><h4 class=\"categories__link__category-name\">DevOps</h4></div></div>\\n</a><nav\\nclass=\"categories__calls--home\">\\n<a\\nhref=\"/cursos-online-devops/aws\"\\nclass=\"categories__calls__description--home\">AWS</a><span\\nclass=\"categories__calls__description-separator\">, </span>\\n<a\\nhref=\"/cursos-online-devops/azure\"\\nclass=\"categories__calls__description--home\">Azure</a><span\\nclass=\"categories__calls__description-separator\">, </span>\\n<a\\nhref=\"/cursos-online-devops/containers\"\\nclass=\"categories__calls__description--home\">Docker</a><span\\nclass=\"categories__calls__description-separator\">, </span>\\n<a\\nhref=\"/cursos-online-devops/seguranca\"\\nclass=\"categories__calls__description--home\">Seguran\\xc3\\xa7a</a><span\\nclass=\"categories__calls__description-separator\">, </span>\\n<a\\nhref=\"/cursos-online-devops/infraestrutura-como-codigo\"\\nclass=\"categories__calls__description--home\">IaC</a><span\\nclass=\"categories__calls__description-separator\">, </span>\\n<a\\nhref=\"/cursos-online-devops/linux-comandos-e-processos\"\\nclass=\"categories__calls__description--home\">Linux</a><span\\nclass=\"categories__calls__description-separator\"></span>\\n<a\\nhref=\"/cursos-online-devops\"\\nclass=\"categories__calls__link-see-more--home\">e mais...</a></nav></div><div\\nclass=\"categories__wrapper__links--home --design-ux\" style=\"--color-var: #dc6ebe\">\\n<a\\nclass=\"categories__link--home\" href=\"/escola-design-ux\"><div\\nclass=\"categories__link-wrapper--home\"><div\\nclass=\"categories__svg-wrapper--home\" style=\"background:#dc6ebe52;\">\\n<svg\\nclass=\"pagina-categoria__svg--home categories__svg--home\" style=\"fill:#dc6ebe\" xmlns:xlink=\"http://www.w3.org/1999/xlink\">\\n<use\\nxlink:href=\"/svg,1647533643/categorias#icon-categorias-design-ux\"/>\\n</svg></div><div\\nclass=\"categories__texts\" style=\"color:#dc6ebe;\">\\n<span\\nclass=\"categories__link__text\">Escola</span><h4 class=\"categories__link__category-name\">UX & Design</h4></div></div>\\n</a><nav\\nclass=\"categories__calls--home\">\\n<a\\nhref=\"/cursos-online-design-ux/wwww\"\\nclass=\"categories__calls__description--home\">Photoshop e Illustrator</a><span\\nclass=\"categories__calls__description-separator\">, </span>\\n<a\\nhref=\"/cursos-online-design-ux/ux\"\\nclass=\"categories__calls__description--home\">Usabilidade e UX</a><span\\nclass=\"categories__calls__description-separator\">, </span>\\n<a\\nhref=\"/cursos-online-design-ux/video\"\\nclass=\"categories__calls__description--home\">V\\xc3\\xaddeo e Motion</a><span\\nclass=\"categories__calls__description-separator\">, </span>\\n<a\\nhref=\"/cursos-online-design-ux/3d\"\\nclass=\"categories__calls__description--home\">3D</a><span\\nclass=\"categories__calls__description-separator\"></span>\\n<a\\nhref=\"/cursos-online-design-ux\"\\nclass=\"categories__calls__link-see-more--home\">e mais...</a></nav></div><div\\nclass=\"categories__wrapper__links--home --mobile\" style=\"--color-var: #ffba05\">\\n<a\\nclass=\"categories__link--home\" href=\"/escola-mobile\"><div\\nclass=\"categories__link-wrapper--home\"><div\\nclass=\"categories__svg-wrapper--home\" style=\"background:#ffba0552;\">\\n<svg\\nclass=\"pagina-categoria__svg--home categories__svg--home\" style=\"fill:#ffba05\" xmlns:xlink=\"http://www.w3.org/1999/xlink\">\\n<use\\nxlink:href=\"/svg,1647533643/categorias#icon-categorias-mobile\"/>\\n</svg></div><div\\nclass=\"categories__texts\" style=\"color:#ffba05;\">\\n<span\\nclass=\"categories__link__text\">Escola</span><h4 class=\"categories__link__category-name\">Mobile</h4></div></div>\\n</a><nav\\nclass=\"categories__calls--home\">\\n<a\\nhref=\"/cursos-online-mobile/react-native\"\\nclass=\"categories__calls__description--home\">React Native</a><span\\nclass=\"categories__calls__description-separator\">, </span>\\n<a\\nhref=\"/cursos-online-mobile/flutter\"\\nclass=\"categories__calls__description--home\">Flutter</a><span\\nclass=\"categories__calls__description-separator\">, </span>\\n<a\\nhref=\"/cursos-online-mobile/ios\"\\nclass=\"categories__calls__description--home\">iOS e Swift</a><span\\nclass=\"categories__calls__description-separator\">, </span>\\n<a\\nhref=\"/cursos-online-mobile/android\"\\nclass=\"categories__calls__description--home\">Android, Kotlin</a><span\\nclass=\"categories__calls__description-separator\">, </span>\\n<a\\nhref=\"/cursos-online-mobile/jogos\"\\nclass=\"categories__calls__description--home\">Jogos</a><span\\nclass=\"categories__calls__description-separator\"></span>\\n<a\\nhref=\"/cursos-online-mobile\"\\nclass=\"categories__calls__link-see-more--home\">e mais...</a></nav></div><div\\nclass=\"categories__wrapper__links--home --inovacao-gestao\" style=\"--color-var: #ff8c2a\">\\n<a\\nclass=\"categories__link--home\" href=\"/escola-inovacao-gestao\"><div\\nclass=\"categories__link-wrapper--home\"><div\\nclass=\"categories__svg-wrapper--home\" style=\"background:#ff8c2a52;\">\\n<svg\\nclass=\"pagina-categoria__svg--home categories__svg--home\" style=\"fill:#ff8c2a\" xmlns:xlink=\"http://www.w3.org/1999/xlink\">\\n<use\\nxlink:href=\"/svg,1647533643/categorias#icon-categorias-inovacao-gestao\"/>\\n</svg></div><div\\nclass=\"categories__texts\" style=\"color:#ff8c2a;\">\\n<span\\nclass=\"categories__link__text\">Escola</span><h4 class=\"categories__link__category-name\">Inova\\xc3\\xa7\\xc3\\xa3o & Gest\\xc3\\xa3o</h4></div></div>\\n</a><nav\\nclass=\"categories__calls--home\">\\n<a\\nhref=\"/cursos-online-inovacao-gestao/agilidade\"\\nclass=\"categories__calls__description--home\">M\\xc3\\xa9todos \\xc3\\x81geis</a><span\\nclass=\"categories__calls__description-separator\">, </span>\\n<a\\nhref=\"/cursos-online-inovacao-gestao/softskills-carreira\"\\nclass=\"categories__calls__description--home\">Softskills</a><span\\nclass=\"categories__calls__description-separator\">, </span>\\n<a\\nhref=\"/cursos-online-inovacao-gestao/gestao-corporativa\"\\nclass=\"categories__calls__description--home\">Lideran\\xc3\\xa7a e Gest\\xc3\\xa3o</a><span\\nclass=\"categories__calls__description-separator\">, </span>\\n<a\\nhref=\"/cursos-online-inovacao-gestao/startup-empreendedorismo\"\\nclass=\"categories__calls__description--home\">Startups</a><span\\nclass=\"categories__calls__description-separator\">, </span>\\n<a\\nhref=\"/cursos-online-inovacao-gestao/vendas\"\\nclass=\"categories__calls__description--home\">Vendas</a><span\\nclass=\"categories__calls__description-separator\"></span>\\n<a\\nhref=\"/cursos-online-inovacao-gestao\"\\nclass=\"categories__calls__link-see-more--home\">e mais...</a></nav></div></div></nav></div></div></div><main\\nclass=\"home__main-content\"><section\\nclass=\"features container\"><aside\\nclass=\"features__video\"><div\\nclass=\"features__video-wrapper\"><div\\nclass=\"home-diferenciais-video\"><div\\nclass=\"home-diferenciais-video-wrapper\">\\n<iframe\\nwidth=\"100%\" height=\"315\" src=\"https://www.youtube.com/embed/2t8ycK8D4Rk\" title=\"YouTube video player\" frameborder=\"0\" allow=\"accelerometer; autoplay; clipboard-write; encrypted-media; gyroscope; picture-in-picture\" allowfullscreen></iframe></div></div></div>\\n<a\\nclass=\"features__video__link features--desktop\" href=\"/como-funciona\">Veja como funciona</a></aside><aside\\nclass=\"features__info\"><h2 class=\"features__info__title\">A maior plataforma brasileira de cursos de tecnologia.</h2>\\n<span\\nclass=\"features__info__subtitle\">Mergulhe com profundidade e navegue em outras \\xc3\\xa1reas de Tecnologia. Profissional em &lt;T&gt;. </span>\\n<a\\nclass=\"features__video__link features--mobile\" href=\"/como-funciona\">Veja como funciona</a></aside></section><section\\nclass=\"alura-benefits\"><div\\nclass=\"container\"><ul\\nclass=\"alura-benefits-list\"><li>\\n<img\\nsrc=\"/assets/img/home/icon-home-farol.1647533643.svg\" alt=\"\"><h2>Navegue sua carreira</h2><p>S\\xc3\\xa3o <strong>1343 cursos</strong> e novos lan\\xc3\\xa7amentos toda semana, al\\xc3\\xa9m de atualiza\\xc3\\xa7\\xc3\\xb5es e melhorias constantes.</p></li><li>\\n<img\\nsrc=\"/assets/img/home/icon-home-snorkel.1647533643.svg\" alt=\"\"><h2>Aprofunde-se de vez</h2><p>Garantimos conhecimento com profundidade e diversidade, para se tornar um profissional em T!</p></li><li>\\n<img\\nsrc=\"/assets/img/home/icon-home-onda.1647533643.svg\" alt=\"\"><h2>Conte\\xc3\\xbado imersivo</h2><p>Fa\\xc3\\xa7a parte de uma comunidade de apaixonados por tudo que \\xc3\\xa9 digital. Mergulhe na comunidade Alura.</p></li></ul></div></section><section\\nclass=\"degrees-list\"><div\\nclass=\"container --titles\"><h3>Nossas Forma\\xc3\\xa7\\xc3\\xb5es, Seu Guia</h3><h2>Sequ\\xc3\\xaancias de cursos organizados em Forma\\xc3\\xa7\\xc3\\xb5es</h2><p>Forma\\xc3\\xa7\\xc3\\xb5es com conte\\xc3\\xbado do mercado de trabalho: sequ\\xc3\\xaancias de cursos e conte\\xc3\\xbado para voc\\xc3\\xaa se capacitar em tecnologia e neg\\xc3\\xb3cios digitais.</p></div><div\\nclass=\"container --items\"><ul\\nclass=\"careers__list\"><style type=\"text/css\">.career-programacao-title:after {\\n                                background-color:#00c86f;\\n                            }</style><li\\nclass=\"careers__list__item --programacao \" style=\"color:#00c86f;\"><div\\nclass=\"careers__list__item__title-wrapper\"><div\\nclass=\"categories__svg-wrapper\" style=\"background-color:#00c86f52;\">\\n<svg\\nclass=\"pagina-categoria__svg svgFill-programacao categories__svg\" style=\"fill: #00c86f;\" xmlns:xlink=\"http://www.w3.org/1999/xlink\">\\n<use\\nxlink:href=\"/svg,1647533643/categorias#icon-categorias-programacao\"/>\\n</svg></div><h3 class=\"careers__list__item__title\">Programa\\xc3\\xa7\\xc3\\xa3o</h3></div><ul\\nclass=\"careers__list__item__list careers__list__item__list--formacoes\"><li\\nclass=\"careers__list__item__list__item\">\\n<a\\nclass=\"careers__list__item__list__item__link\" href=\"/formacao-arquiteto-php\">\\nArquiteto PHP                                        </a></li><li\\nclass=\"careers__list__item__list__item\">\\n<a\\nclass=\"careers__list__item__list__item__link\" href=\"/formacao-arquitetura-design-projetos-java\">\\nArquitetura e Design de Projetos Java                                        </a></li><li\\nclass=\"careers__list__item__list__item\">\\n<a\\nclass=\"careers__list__item__list__item__link\" href=\"/formacao-dotnet\">\\nASP.NET Core REST APIs                                        </a></li><li\\nclass=\"careers__list__item__list__item\">\\n<a\\nclass=\"careers__list__item__list__item__link\" href=\"/formacao-avancando-php\">\\nAvan\\xc3\\xa7ando em PHP                                        </a></li><li\\nclass=\"careers__list__item__list__item\">\\n<a\\nclass=\"careers__list__item__list__item__link\" href=\"/formacao-boas-praticas-c-sharp\">\\nBoas pr\\xc3\\xa1ticas em C#                                        </a></li><li\\nclass=\"careers__list__item__list__item\">\\n<a\\nclass=\"careers__list__item__list__item__link\" href=\"/formacao-boas-praticas-php\">\\nBoas pr\\xc3\\xa1ticas em PHP                                        </a></li><li\\nclass=\"careers__list__item__list__item\">\\n<a\\nclass=\"careers__list__item__list__item__link\" href=\"/formacao-c-sharp-orientacao-objetos\">\\nC# e orienta\\xc3\\xa7\\xc3\\xa3o a objetos                                        </a></li><li\\nclass=\"careers__list__item__list__item\">\\n<a\\nclass=\"careers__list__item__list__item__link\" href=\"/formacao-carreira-tester-qa\">\\nCarreira QA: processos e automa\\xc3\\xa7\\xc3\\xa3o de testes                                        </a></li><li\\nclass=\"careers__list__item__see-more\">\\n<a\\nhref=\"/escola-programacao\" class=\"careers__list__item__see-more__link\">ver escola</a></li></ul></li><style type=\"text/css\">.career-front-end-title:after {\\n                                background-color:#6bd1ff;\\n                            }</style><li\\nclass=\"careers__list__item --front-end \" style=\"color:#6bd1ff;\"><div\\nclass=\"careers__list__item__title-wrapper\"><div\\nclass=\"categories__svg-wrapper\" style=\"background-color:#6bd1ff52;\">\\n<svg\\nclass=\"pagina-categoria__svg svgFill-front-end categories__svg\" style=\"fill: #6bd1ff;\" xmlns:xlink=\"http://www.w3.org/1999/xlink\">\\n<use\\nxlink:href=\"/svg,1647533643/categorias#icon-categorias-front-end\"/>\\n</svg></div><h3 class=\"careers__list__item__title\">Front-end</h3></div><ul\\nclass=\"careers__list__item__list careers__list__item__list--formacoes\"><li\\nclass=\"careers__list__item__list__item\">\\n<a\\nclass=\"careers__list__item__list__item__link\" href=\"/formacao-acessibilidade-web\">\\nAcessibilidade Web                                        </a></li><li\\nclass=\"careers__list__item__list__item\">\\n<a\\nclass=\"careers__list__item__list__item__link\" href=\"/formacao-angular\">\\nAngular                                        </a></li><li\\nclass=\"careers__list__item__list__item\">\\n<a\\nclass=\"careers__list__item__list__item__link\" href=\"/formacao-front-end\">\\nFront-end                                        </a></li><li\\nclass=\"careers__list__item__list__item\">\\n<a\\nclass=\"careers__list__item__list__item__link\" href=\"/formacao-html-e-css\">\\nHTML e CSS                                        </a></li><li\\nclass=\"careers__list__item__list__item\">\\n<a\\nclass=\"careers__list__item__list__item__link\" href=\"/formacao-next-js\">\\nNext JS                                        </a></li><li\\nclass=\"careers__list__item__list__item\">\\n<a\\nclass=\"careers__list__item__list__item__link\" href=\"/formacao-react-ts\">\\nReact com TypeScript                                        </a></li><li\\nclass=\"careers__list__item__list__item\">\\n<a\\nclass=\"careers__list__item__list__item__link\" href=\"/formacao-typescript\">\\nTypeScript                                        </a></li><li\\nclass=\"careers__list__item__list__item\">\\n<a\\nclass=\"careers__list__item__list__item__link\" href=\"/formacao-vuejs\">\\nVue.js 2                                        </a></li><li\\nclass=\"careers__list__item__see-more\">\\n<a\\nhref=\"/escola-front-end\" class=\"careers__list__item__see-more__link\">ver escola</a></li></ul></li><style type=\"text/css\">.career-data-science-title:after {\\n                                background-color:#9cd33b;\\n                            }</style><li\\nclass=\"careers__list__item --data-science \" style=\"color:#9cd33b;\"><div\\nclass=\"careers__list__item__title-wrapper\"><div\\nclass=\"categories__svg-wrapper\" style=\"background-color:#9cd33b52;\">\\n<svg\\nclass=\"pagina-categoria__svg svgFill-data-science categories__svg\" style=\"fill: #9cd33b;\" xmlns:xlink=\"http://www.w3.org/1999/xlink\">\\n<use\\nxlink:href=\"/svg,1647533643/categorias#icon-categorias-data-science\"/>\\n</svg></div><h3 class=\"careers__list__item__title\">Data Science</h3></div><ul\\nclass=\"careers__list__item__list careers__list__item__list--formacoes\"><li\\nclass=\"careers__list__item__list__item\">\\n<a\\nclass=\"careers__list__item__list__item__link\" href=\"/formacao-business-intelligence-data-warehouse-pentaho\">\\nBI e Data Warehouse com Pentaho                                        </a></li><li\\nclass=\"careers__list__item__list__item\">\\n<a\\nclass=\"careers__list__item__list__item__link\" href=\"/formacao-business-intelligence-data-warehouse\">\\nBI e Data Warehouse com SQL Server e Power BI                                        </a></li><li\\nclass=\"careers__list__item__list__item\">\\n<a\\nclass=\"careers__list__item__list__item__link\" href=\"/formacao-data-analysis-google-sheets\">\\nData Analysis com Google Sheets                                        </a></li><li\\nclass=\"careers__list__item__list__item\">\\n<a\\nclass=\"careers__list__item__list__item__link\" href=\"/formacao-data-science\">\\nData Science                                        </a></li><li\\nclass=\"careers__list__item__list__item\">\\n<a\\nclass=\"careers__list__item__list__item__link\" href=\"/formacao-datomic\">\\nDatomic                                        </a></li><li\\nclass=\"careers__list__item__list__item\">\\n<a\\nclass=\"careers__list__item__list__item__link\" href=\"/formacao-deep-learning-pytorch\">\\nDeep Learning com Pytorch                                        </a></li><li\\nclass=\"careers__list__item__list__item\">\\n<a\\nclass=\"careers__list__item__list__item__link\" href=\"/formacao-estatistica-python\">\\nEstat\\xc3\\xadstica com Python                                        </a></li><li\\nclass=\"careers__list__item__list__item\">\\n<a\\nclass=\"careers__list__item__list__item__link\" href=\"/formacao-estatistica-r\">\\nEstat\\xc3\\xadstica com R                                        </a></li><li\\nclass=\"careers__list__item__see-more\">\\n<a\\nhref=\"/escola-data-science\" class=\"careers__list__item__see-more__link\">ver escola</a></li></ul></li><style type=\"text/css\">.career-devops-title:after {\\n                                background-color:#f16165;\\n                            }</style><li\\nclass=\"careers__list__item --devops \" style=\"color:#f16165;\"><div\\nclass=\"careers__list__item__title-wrapper\"><div\\nclass=\"categories__svg-wrapper\" style=\"background-color:#f1616552;\">\\n<svg\\nclass=\"pagina-categoria__svg svgFill-devops categories__svg\" style=\"fill: #f16165;\" xmlns:xlink=\"http://www.w3.org/1999/xlink\">\\n<use\\nxlink:href=\"/svg,1647533643/categorias#icon-categorias-devops\"/>\\n</svg></div><h3 class=\"careers__list__item__title\">DevOps</h3></div><ul\\nclass=\"careers__list__item__list careers__list__item__list--formacoes\"><li\\nclass=\"careers__list__item__list__item\">\\n<a\\nclass=\"careers__list__item__list__item__link\" href=\"/formacao-redes\">\\nAdministrador de Redes                                        </a></li><li\\nclass=\"careers__list__item__list__item\">\\n<a\\nclass=\"careers__list__item__list__item__link\" href=\"/formacao-amazon-web-services\">\\nAmazon Web Services                                        </a></li><li\\nclass=\"careers__list__item__list__item\">\\n<a\\nclass=\"careers__list__item__list__item__link\" href=\"/formacao-kafka\">\\nApache Kafka                                        </a></li><li\\nclass=\"careers__list__item__list__item\">\\n<a\\nclass=\"careers__list__item__list__item__link\" href=\"/formacao-aws-certified-cloud-practitioner\">\\nAWS Certified Cloud Practitioner                                        </a></li><li\\nclass=\"careers__list__item__list__item\">\\n<a\\nclass=\"careers__list__item__list__item__link\" href=\"/formacao-aws-certified-solutions-architect-associate\">\\nAWS Certified Solutions Architect - Associate                                        </a></li><li\\nclass=\"careers__list__item__list__item\">\\n<a\\nclass=\"careers__list__item__list__item__link\" href=\"/formacao-certificacao-az-900-microsoft-azure-fundamentals\">\\nCertifica\\xc3\\xa7\\xc3\\xa3o AZ-900: Microsoft Azure Fundamentals                                        </a></li><li\\nclass=\"careers__list__item__list__item\">\\n<a\\nclass=\"careers__list__item__list__item__link\" href=\"/formacao-docker-dca\">\\nCertifica\\xc3\\xa7\\xc3\\xa3o Docker DCA                                        </a></li><li\\nclass=\"careers__list__item__list__item\">\\n<a\\nclass=\"careers__list__item__list__item__link\" href=\"/formacao-certificacao-lpi-linux-essentials\">\\nCertifica\\xc3\\xa7\\xc3\\xa3o LPI Linux Essentials                                        </a></li><li\\nclass=\"careers__list__item__see-more\">\\n<a\\nhref=\"/escola-devops\" class=\"careers__list__item__see-more__link\">ver escola</a></li></ul></li><style type=\"text/css\">.career-design-ux-title:after {\\n                                background-color:#dc6ebe;\\n                            }</style><li\\nclass=\"careers__list__item --design-ux \" style=\"color:#dc6ebe;\"><div\\nclass=\"careers__list__item__title-wrapper\"><div\\nclass=\"categories__svg-wrapper\" style=\"background-color:#dc6ebe52;\">\\n<svg\\nclass=\"pagina-categoria__svg svgFill-design-ux categories__svg\" style=\"fill: #dc6ebe;\" xmlns:xlink=\"http://www.w3.org/1999/xlink\">\\n<use\\nxlink:href=\"/svg,1647533643/categorias#icon-categorias-design-ux\"/>\\n</svg></div><h3 class=\"careers__list__item__title\">UX & Design</h3></div><ul\\nclass=\"careers__list__item__list careers__list__item__list--formacoes\"><li\\nclass=\"careers__list__item__list__item\">\\n<a\\nclass=\"careers__list__item__list__item__link\" href=\"/formacao-adobe-mobile\">\\nAdobe Mobile                                        </a></li><li\\nclass=\"careers__list__item__list__item\">\\n<a\\nclass=\"careers__list__item__list__item__link\" href=\"/formacao-ui-adobe-xd\">\\nAdobe XD                                        </a></li><li\\nclass=\"careers__list__item__list__item\">\\n<a\\nclass=\"careers__list__item__list__item__link\" href=\"/formacao-blender\">\\nBlender                                        </a></li><li\\nclass=\"careers__list__item__list__item\">\\n<a\\nclass=\"careers__list__item__list__item__link\" href=\"/formacao-desenhohumano-photoshop\">\\nDesenho b\\xc3\\xa1sico                                        </a></li><li\\nclass=\"careers__list__item__list__item\">\\n<a\\nclass=\"careers__list__item__list__item__link\" href=\"/formacao-desenvolvimento-carreira-ux\">\\nDesenvolvimento de Carreira em UX                                        </a></li><li\\nclass=\"careers__list__item__list__item\">\\n<a\\nclass=\"careers__list__item__list__item__link\" href=\"/formacao-design-de-jogos\">\\nDesign de Jogos                                        </a></li><li\\nclass=\"careers__list__item__list__item\">\\n<a\\nclass=\"careers__list__item__list__item__link\" href=\"/formacao-design-grafico\">\\nDesign Gr\\xc3\\xa1fico                                        </a></li><li\\nclass=\"careers__list__item__list__item\">\\n<a\\nclass=\"careers__list__item__list__item__link\" href=\"/formacao-design-system\">\\nDesign System                                        </a></li><li\\nclass=\"careers__list__item__see-more\">\\n<a\\nhref=\"/escola-design-ux\" class=\"careers__list__item__see-more__link\">ver escola</a></li></ul></li><style type=\"text/css\">.career-mobile-title:after {\\n                                background-color:#ffba05;\\n                            }</style><li\\nclass=\"careers__list__item --mobile \" style=\"color:#ffba05;\"><div\\nclass=\"careers__list__item__title-wrapper\"><div\\nclass=\"categories__svg-wrapper\" style=\"background-color:#ffba0552;\">\\n<svg\\nclass=\"pagina-categoria__svg svgFill-mobile categories__svg\" style=\"fill: #ffba05;\" xmlns:xlink=\"http://www.w3.org/1999/xlink\">\\n<use\\nxlink:href=\"/svg,1647533643/categorias#icon-categorias-mobile\"/>\\n</svg></div><h3 class=\"careers__list__item__title\">Mobile</h3></div><ul\\nclass=\"careers__list__item__list careers__list__item__list--formacoes\"><li\\nclass=\"careers__list__item__list__item\">\\n<a\\nclass=\"careers__list__item__list__item__link\" href=\"/formacao-android\">\\nAndroid                                        </a></li><li\\nclass=\"careers__list__item__list__item\">\\n<a\\nclass=\"careers__list__item__list__item__link\" href=\"/formacao-android-kotlin\">\\nAndroid com Kotlin                                        </a></li><li\\nclass=\"careers__list__item__list__item\">\\n<a\\nclass=\"careers__list__item__list__item__link\" href=\"/formacao-arquiteto-android\">\\nArquitetura Android                                        </a></li><li\\nclass=\"careers__list__item__list__item\">\\n<a\\nclass=\"careers__list__item__list__item__link\" href=\"/formacao-firebase-android\">\\nFirebase com Android                                        </a></li><li\\nclass=\"careers__list__item__list__item\">\\n<a\\nclass=\"careers__list__item__list__item__link\" href=\"/formacao-flutter\">\\nFlutter                                        </a></li><li\\nclass=\"careers__list__item__list__item\">\\n<a\\nclass=\"careers__list__item__list__item__link\" href=\"/formacao-ios\">\\niOS                                        </a></li><li\\nclass=\"careers__list__item__list__item\">\\n<a\\nclass=\"careers__list__item__list__item__link\" href=\"/formacao-react-native\">\\nReact Native                                        </a></li><li\\nclass=\"careers__list__item__list__item\">\\n<a\\nclass=\"careers__list__item__list__item__link\" href=\"/formacao-testes-automatizados-android\">\\nTestes automatizados no Android                                        </a></li><li\\nclass=\"careers__list__item__see-more\">\\n<a\\nhref=\"/escola-mobile\" class=\"careers__list__item__see-more__link\">ver escola</a></li></ul></li><style type=\"text/css\">.career-inovacao-gestao-title:after {\\n                                background-color:#ff8c2a;\\n                            }</style><li\\nclass=\"careers__list__item --inovacao-gestao \" style=\"color:#ff8c2a;\"><div\\nclass=\"careers__list__item__title-wrapper\"><div\\nclass=\"categories__svg-wrapper\" style=\"background-color:#ff8c2a52;\">\\n<svg\\nclass=\"pagina-categoria__svg svgFill-inovacao-gestao categories__svg\" style=\"fill: #ff8c2a;\" xmlns:xlink=\"http://www.w3.org/1999/xlink\">\\n<use\\nxlink:href=\"/svg,1647533643/categorias#icon-categorias-inovacao-gestao\"/>\\n</svg></div><h3 class=\"careers__list__item__title\">Inova\\xc3\\xa7\\xc3\\xa3o & Gest\\xc3\\xa3o</h3></div><ul\\nclass=\"careers__list__item__list careers__list__item__list--formacoes\"><li\\nclass=\"careers__list__item__list__item\">\\n<a\\nclass=\"careers__list__item__list__item__link\" href=\"/formacao-aprendizagem\">\\nAprendizagem                                        </a></li><li\\nclass=\"careers__list__item__list__item\">\\n<a\\nclass=\"careers__list__item__list__item__link\" href=\"/formacao-business-agility\">\\nBusiness Agility                                        </a></li><li\\nclass=\"careers__list__item__list__item\">\\n<a\\nclass=\"careers__list__item__list__item__link\" href=\"/formacao-certificacao-cobit-5\">\\nCertifica\\xc3\\xa7\\xc3\\xa3o Cobit 5                                        </a></li><li\\nclass=\"careers__list__item__list__item\">\\n<a\\nclass=\"careers__list__item__list__item__link\" href=\"/formacao-certificacao-itil-foundation\">\\nCertifica\\xc3\\xa7\\xc3\\xa3o da biblioteca de infraestrutura de tecnologia da informa\\xc3\\xa7\\xc3\\xa3o - Fundamentos v3                                        </a></li><li\\nclass=\"careers__list__item__list__item\">\\n<a\\nclass=\"careers__list__item__list__item__link\" href=\"/formacao-certificacao-pmp-capm-pmi\">\\nCertifica\\xc3\\xa7\\xc3\\xa3o PMP e CAPM do PMI                                        </a></li><li\\nclass=\"careers__list__item__list__item\">\\n<a\\nclass=\"careers__list__item__list__item__link\" href=\"/formacao-comunicacao\">\\nComunica\\xc3\\xa7\\xc3\\xa3o                                        </a></li><li\\nclass=\"careers__list__item__list__item\">\\n<a\\nclass=\"careers__list__item__list__item__link\" href=\"/formacao-comunicacao-lideres\">\\nComunica\\xc3\\xa7\\xc3\\xa3o para l\\xc3\\xadderes                                        </a></li><li\\nclass=\"careers__list__item__list__item\">\\n<a\\nclass=\"careers__list__item__list__item__link\" href=\"/formacao-criatividade\">\\nCriatividade                                        </a></li><li\\nclass=\"careers__list__item__see-more\">\\n<a\\nhref=\"/escola-inovacao-gestao\" class=\"careers__list__item__see-more__link\">ver escola</a></li></ul></li></ul></div></section><link\\nrel=\"stylesheet\" href=\"/assets/css/block/destaqueAlunos.1647533642.css\"><section\\nclass=\"depoimentos-alunos\"><div\\nclass=\"container\"><div\\nclass=\"depoimentos-area\"><div\\nclass=\"titles\"><h3>Nossos mergulhadores</h3><h2>A maior plataforma brasileira de cursos de tecnologia.</h2><p>S\\xc3\\xa3o 1343 cursos, 100% em portugu\\xc3\\xaas. E novos lan\\xc3\\xa7amentos todas as semanas.</p></div><div\\nclass=\"depoimentos-wrapper b2c\"><ul><li>\\n<img\\nsrc=\"/assets/img/aluno-destaque/genilton-souza.1647533642.jpg\"/><p\\nclass=\"depoimento__text\">Se voc\\xc3\\xaa n\\xc3\\xa3o sabe a ordem do que deve aprender e praticar para dominar uma tecnologia, <strong>a forma como os cursos est\\xc3\\xa3o organizados e estruturados na Alura ajuda muito</strong>. Aprendi C# aqui e pago minhas contas com isso hoje em dia.</p><p\\nclass=\"depoimento__author\">Genilton Souza</p></li><li>\\n<img\\nsrc=\"/assets/img/aluno-destaque/leandro-silva.1647533642.jpg\" /><p\\nclass=\"depoimento__text\">Passei dois anos e meio desempregado e foi onde conheci os cursos da Alura. <strong>Consegui fazer uma mudan\\xc3\\xa7a de carreira em uma \\xc3\\xa1rea muito disputada e estou muito feliz</strong>: passei em um processo seletivo como Agente de Inova\\xc3\\xa7\\xc3\\xa3o, e muito do que aprendi tanto para a prova quanto para a etapa presencial foi gra\\xc3\\xa7as a Alura.</p><p\\nclass=\"depoimento__author\">Leandro da Silva</p></li><li>\\n<img\\nsrc=\"/assets/img/aluno-destaque/nadia-oliveira.1647533642.jpg\" /><p\\nclass=\"depoimento__text\">A plataforma \\xc3\\xa9 incr\\xc3\\xadvel. Al\\xc3\\xa9m das metodologias do curso serem de alcance para quem est\\xc3\\xa1 come\\xc3\\xa7ando ou quem j\\xc3\\xa1 est\\xc3\\xa1 avan\\xc3\\xa7ado em alguma tecnologia, no f\\xc3\\xb3rum de d\\xc3\\xbavidas sempre algum instrutor ou aluno te responde em um curto espa\\xc3\\xa7o de tempo. <strong>Na Alura, seu conhecimento \\xc3\\xa9 prioridade</strong>.</p><p\\nclass=\"depoimento__author\">N\\xc3\\xa1dia Oliveira</p></li></ul></div></div></div></section><section\\nclass=\"depoimentos-videos\"><div\\nclass=\"container\"><div\\nclass=\"testimony-container-header\"><h3 class=\"testimony-container-firstTitle\">A Alura vale a pena?</h3><h2 class=\"testimony-container-title\"> Conhe\\xc3\\xa7a os depoimentos e historias de quem estuda com a gente</h2></div><div\\nclass=\"testimony-container-card\"><article\\nclass=\"testimony-student-card --videos\"><div\\nclass=\"testimony-container-box\" style=\"border-top-color:#051933;\"><div\\nclass=\"testimony-container-flex\">\\n<img\\nclass=\"testimony-icon\" src=\"/assets/img/depoimentos/alunos/fiama-de-capua.1647533643.jpeg\" alt=\"Foto de Fiama de C\\xc3\\xa1pua\"><p\\nclass=\"testimony-social-media\" style=\"border-color:#051933; background-color:#051933;\">YouTube</p></div><div\\nclass=\"testimony-container-text-student\"><h3 class=\"testimony-name-student\">Fiama de C\\xc3\\xa1pua</h3><div\\nclass=\"testimony-video-preview\" data-src=\"-80eLO36is0\" style=\"background-image: url(\\'https://i3.ytimg.com/vi/-80eLO36is0/hqdefault.jpg\\')\"></div><p\\nclass=\"testimony-student-details\">Eu consegui mudar de emprego e a quest\\xc3\\xa3o de (aumento da) confian\\xc3\\xa7a ...</p>\\n<a\\nhref=\"https://www.youtube.com/watch?v=-80eLO36is0\" target=\"_blank\" rel=\\xe2\\x80\\x9dnoopener\\xe2\\x80\\x9d class=\"testimony-link-social-media\">Ver depoimento completo no YouTube</a></div></div></article><article\\nclass=\"testimony-student-card --videos\"><div\\nclass=\"testimony-container-box\" style=\"border-top-color:#051933;\"><div\\nclass=\"testimony-container-flex\">\\n<img\\nclass=\"testimony-icon\" src=\"/assets/img/depoimentos/alunos/jennifer-bittencourt.1647533643.jpeg\" alt=\"Foto de Jennifer Bittencourt\"><p\\nclass=\"testimony-social-media\" style=\"border-color:#051933; background-color:#051933;\">YouTube</p></div><div\\nclass=\"testimony-container-text-student\"><h3 class=\"testimony-name-student\">Jennifer Bittencourt</h3><div\\nclass=\"testimony-video-preview\" data-src=\"JPfyh5XOaec\" style=\"background-image: url(\\'https://i3.ytimg.com/vi/JPfyh5XOaec/hqdefault.jpg\\')\"></div><p\\nclass=\"testimony-student-details\">A Quarentena Dev foi o que \\xe2\\x80\\x9cstartou\\xe2\\x80\\x9d a minha carreira como desenvolvedora...</p>\\n<a\\nhref=\"https://www.youtube.com/watch?v=JPfyh5XOaec\" target=\"_blank\" rel=\\xe2\\x80\\x9dnoopener\\xe2\\x80\\x9d class=\"testimony-link-social-media\">Ver depoimento completo no YouTube</a></div></div></article><article\\nclass=\"testimony-student-card --videos\"><div\\nclass=\"testimony-container-box\" style=\"border-top-color:#051933;\"><div\\nclass=\"testimony-container-flex\">\\n<img\\nclass=\"testimony-icon\" src=\"/assets/img/depoimentos/alunos/joao-vitor-perez.1647533643.jpeg\" alt=\"Foto de Jo\\xc3\\xa3o Vitor Perez\"><p\\nclass=\"testimony-social-media\" style=\"border-color:#051933; background-color:#051933;\">YouTube</p></div><div\\nclass=\"testimony-container-text-student\"><h3 class=\"testimony-name-student\">Jo\\xc3\\xa3o Vitor Perez</h3><div\\nclass=\"testimony-video-preview\" data-src=\"BXhtLcHVejI\" style=\"background-image: url(\\'https://i3.ytimg.com/vi/BXhtLcHVejI/hqdefault.jpg\\')\"></div><p\\nclass=\"testimony-student-details\">Fui convidado por um grupo de pesquisa internacional para trabalhar como Cientista de Dados Jr...</p>\\n<a\\nhref=\"https://www.youtube.com/watch?v=BXhtLcHVejI\" target=\"_blank\" rel=\\xe2\\x80\\x9dnoopener\\xe2\\x80\\x9d class=\"testimony-link-social-media\">Ver depoimento completo no YouTube</a></div></div></article></div><div\\nclass=\"testimony-container-card\"><article\\nclass=\"testimony-student-card\"><div\\nclass=\"testimony-container-box\" style=\"border-top-color:#0966c1;\"><div\\nclass=\"testimony-container-flex\">\\n<img\\nclass=\"testimony-icon\" src=\"/assets/img/depoimentos/alunos/laiza-pimentel.1647533643.jpeg\" alt=\"Foto de La\\xc3\\xadza Pimentel\"><p\\nclass=\"testimony-social-media\" style=\"border-color:#0966c1; background-color:#0966c1;\">LinkedIn</p></div><div\\nclass=\"testimony-container-text-student\"><h3 class=\"testimony-name-student\">La\\xc3\\xadza Pimentel</h3><p\\nclass=\"testimony-student-details\">Estou amando a plataforma da Alura, consigo me empenhar e praticar os exerc\\xc3\\xadcios, professor totalmente did\\xc3\\xa1tico e bem explicativo para n\\xc3\\xa3o deixar nenhuma d\\xc3\\xbavida...</p>\\n<a\\nhref=\"https://www.linkedin.com/feed/update/urn:li:activity:6801182949632020480/?actorCompanyId=3824181\" target=\"_blank\" rel=\\xe2\\x80\\x9dnoopener\\xe2\\x80\\x9d class=\"testimony-link-social-media\">Ver depoimento completo no LinkedIn</a></div></div></article><article\\nclass=\"testimony-student-card\"><div\\nclass=\"testimony-container-box\" style=\"border-top-color:#1da1f2;\"><div\\nclass=\"testimony-container-flex\">\\n<img\\nclass=\"testimony-icon\" src=\"/assets/img/depoimentos/alunos/caroline-araujo.1647533643.jpeg\" alt=\"Foto de Caroline Araujo\"><p\\nclass=\"testimony-social-media\" style=\"border-color:#1da1f2; background-color:#1da1f2;\">Twitter</p></div><div\\nclass=\"testimony-container-text-student\"><h3 class=\"testimony-name-student\">Caroline Araujo</h3><p\\nclass=\"testimony-student-details\">Todas as aulas s\\xc3\\xa3o din\\xc3\\xa2micas, os tempos de cada aula s\\xc3\\xa3o de uma dura\\xc3\\xa7\\xc3\\xa3o ideal para vc n\\xc3\\xa3o dispersar...</p>\\n<a\\nhref=\"https://twitter.com/bidungona/status/1305787155713843201\" target=\"_blank\" rel=\\xe2\\x80\\x9dnoopener\\xe2\\x80\\x9d class=\"testimony-link-social-media\">Ver depoimento completo no Twitter</a></div></div></article><article\\nclass=\"testimony-student-card\"><div\\nclass=\"testimony-container-box\" style=\"border-top-color:#0966c1;\"><div\\nclass=\"testimony-container-flex\">\\n<img\\nclass=\"testimony-icon\" src=\"/assets/img/depoimentos/alunos/felipe-lemes-min.1647533643.jpeg\" alt=\"Foto de Felipe Lemes\"><p\\nclass=\"testimony-social-media\" style=\"border-color:#0966c1; background-color:#0966c1;\">LinkedIn</p></div><div\\nclass=\"testimony-container-text-student\"><h3 class=\"testimony-name-student\">Felipe Lemes</h3><p\\nclass=\"testimony-student-details\">Eu automatizei grande parte do meu trabalho como engenheiro ambiental com Python...</p>\\n<a\\nhref=\"https://www.linkedin.com/pulse/como-utilizei-programa%25C3%25A7%25C3%25A3o-para-otimizar-meu-trabalho-engenheiro/\" target=\"_blank\" rel=\\xe2\\x80\\x9dnoopener\\xe2\\x80\\x9d class=\"testimony-link-social-media\">Ver depoimento completo no LinkedIn</a></div></div></article></div></div><div\\nclass=\"planos-depoimentos__lerMais\">\\n<a\\nhref=\"/depoimentos\">Conhe\\xc3\\xa7a mais dezenas de hist\\xc3\\xb3rias de alunos e alunas da Alura!</a></div></section><section\\nclass=\"depoimentos-empresas\"><div\\nclass=\"container\">\\n<img\\nsrc=\"/assets/img/home/alura-para-empresas.1647533643.svg\" class=\"aluracorp-logo\"><div\\nclass=\"depoimentos-empresas__wrapper\"><div\\nclass=\"depoimentos-empressas__header\"><h3>Alura na medida</h3><h2>Para a sua Empresa</h2><p>Capacite suas equipes com forma\\xc3\\xa7\\xc3\\xb5es continuadas, lan\\xc3\\xa7amentos semanais, dashboards e\\nrelat\\xc3\\xb3rios de engajamento al\\xc3\\xa9m de guias de estudos customizados de acordo com sua necessidade.</p><p>Conhe\\xc3\\xa7a nossa proposta para sua empresa:</p>\\n<a\\nhref=\"/empresas\" class=\"depoimentos__buttons --desktop\">Conhe\\xc3\\xa7a os recursos</a></div><div\\nclass=\"depoimentos-wrapper b2b\"><ul><li>\\n<img\\nsrc=\"/assets/img/home/homeNova/testimonies/getninjas.1647533643.png\"/><p\\nclass=\"depoimento__text\">O time conseguiu aprender muito e um dos diferenciais para n\\xc3\\xb3s foi a l\\xc3\\xadngua, com conte\\xc3\\xbado de qualidade em portugu\\xc3\\xaas. Na Alura, a equipe conseguiu estudar pela plataforma online e aplicar tudo de maneira estruturada.</p><p\\nclass=\"depoimento__author\">Lucas Souza <span\\nclass=\"depoimento__company\">- GetNinjas</span></p></li><li>\\n<img\\nsrc=\"/assets/img/home/homeNova/testimonies/grendene.1647533643.png\"/><p\\nclass=\"depoimento__text\">Temos um padr\\xc3\\xa3o m\\xc3\\xadnimo de conhecimento para atuar na empresa. Este padr\\xc3\\xa3o \\xc3\\xa9 garantido aos nossos profissionais pelos cursos de nivelamento que disponibilizamos com a Alura.</p><p\\nclass=\"depoimento__author\">Vladimir Giovani Ferreira <span\\nclass=\"depoimento__company\">- Grendene</span></p></li><li>\\n<img\\nsrc=\"/assets/img/home/homeNova/testimonies/sompo-seguros.1647533643.png\"/><p\\nclass=\"depoimento__text\">A experi\\xc3\\xaancia com a Alura \\xc3\\xa9 muito boa: a equipe consegue estar sempre atualizada sobre as novas tecnologias, agregar conhecimentos e se aperfei\\xc3\\xa7oar. O acompanhamento mensal da equipe ajudou bastante, tanto como os relat\\xc3\\xb3rios gerenciais da plataforma.</p><p\\nclass=\"depoimento__author\">Marcelo Poubel Tatagiba <span\\nclass=\"depoimento__company\">- SOMPO Seguros</span></p></li>\\n<a\\nhref=\"/empresas\" class=\"depoimentos__buttons --mobile\">Conhe\\xc3\\xa7a os recursos</a></ul></div></div></div></section><section\\nclass=\"companies__using-alura\"><div\\nclass=\"container\"><h2 class=\"companies__using-alura__title\">Empresas que j\\xc3\\xa1 contam com a gente</h2><ul\\nclass=\"companies__using-alura__list\"><li\\nclass=\"companies__using-alura__list__item\">\\n<img\\nclass=\"companies__using-alura__list__item__image\"\\nsrc=\"/assets/img/home/homeNova/logo-empresas/logo-sulamerica.1649172966.svg\" alt=\"Amil\"></li><li\\nclass=\"companies__using-alura__list__item\">\\n<img\\nclass=\"companies__using-alura__list__item__image\"\\nsrc=\"/assets/img/home/homeNova/logo-empresas/logo-empresa-samsung.1649172966.svg\" alt=\"Samsung\"></li><li\\nclass=\"companies__using-alura__list__item\">\\n<img\\nclass=\"companies__using-alura__list__item__image\"\\nsrc=\"/assets/img/home/homeNova/logo-empresas/logo-empresa-santander.1649172966.svg\" alt=\"Santander\"></li><li\\nclass=\"companies__using-alura__list__item\">\\n<img\\nclass=\"companies__using-alura__list__item__image\"\\nsrc=\"/assets/img/home/homeNova/logo-empresas/logo-mercadolivre.1649172966.svg\" alt=\"Cielo\"></li><li\\nclass=\"companies__using-alura__list__item\">\\n<img\\nclass=\"companies__using-alura__list__item__image\"\\nsrc=\"/assets/img/home/homeNova/logo-empresas/logo-empresa-algar.1649172966.svg\" alt=\"Algar\"></li><li\\nclass=\"companies__using-alura__list__item\">\\n<img\\nclass=\"companies__using-alura__list__item__image\"\\nsrc=\"/assets/img/home/homeNova/logo-empresas/logo-empresa-caixa.1649172966.svg\" alt=\"Caixa\"></li><li\\nclass=\"companies__using-alura__list__item\">\\n<img\\nclass=\"companies__using-alura__list__item__image\"\\nsrc=\"/assets/img/home/homeNova/logo-empresas/logo-empresa-globo.1649172966.svg\" alt=\"Globo.com\"></li><li\\nclass=\"companies__using-alura__list__item\">\\n<img\\nclass=\"companies__using-alura__list__item__image\"\\nsrc=\"/assets/img/home/homeNova/logo-empresas/logo-nubank.1647533643.png\" alt=\"Nuank\"></li><li\\nclass=\"companies__using-alura__list__item\">\\n<img\\nclass=\"companies__using-alura__list__item__image\"\\nsrc=\"/assets/img/home/homeNova/logo-empresas/logo-totvs.1647533643.png\" alt=\"Totvs\"></li><li\\nclass=\"companies__using-alura__list__item\">\\n<img\\nclass=\"companies__using-alura__list__item__image\"\\nsrc=\"/assets/img/home/homeNova/logo-empresas/logo-tw.1647533643.png\" alt=\"ThoughtWorks\"></li><li\\nclass=\"companies__using-alura__list__item --small-logo\">\\n<img\\nclass=\"companies__using-alura__list__item__image\"\\nsrc=\"/assets/img/home/homeNova/logo-empresas/logo-itau.1647533643.png\" alt=\"Itau\"></li><li\\nclass=\"companies__using-alura__list__item\">\\n<img\\nclass=\"companies__using-alura__list__item__image\"\\nsrc=\"/assets/img/home/homeNova/logo-empresas/logo-porto.1647533643.png\" alt=\"Porto Seguro\"></li><li\\nclass=\"companies__using-alura__list__item --small-logo\">\\n<img\\nclass=\"companies__using-alura__list__item__image\"\\nsrc=\"/assets/img/home/homeNova/logo-empresas/logo-brq.1647533643.png\" alt=\"BRQ Digital Solutions\"></li><li\\nclass=\"companies__using-alura__list__item\">\\n<img\\nclass=\"companies__using-alura__list__item__image\"\\nsrc=\"/assets/img/home/homeNova/logo-empresas/logo-stone.1647533643.png\" alt=\"Stone\"></li><li\\nclass=\"companies__using-alura__list__item\">\\n<img\\nclass=\"companies__using-alura__list__item__image\"\\nsrc=\"/assets/img/home/homeNova/logo-empresas/logo-picpay.1649172966.svg\" alt=\"PicPay\"></li><li\\nclass=\"companies__using-alura__list__item\">\\n<img\\nclass=\"companies__using-alura__list__item__image\"\\nsrc=\"/assets/img/home/homeNova/logo-empresas/logo-bradesco.1649172966.svg\" alt=\"Bradesco\"></li></ul>\\n<a\\nhref=\"/empresas\" class=\"companies__using-alura__cta\">Confira o que oferecemos para empresas</a></div></section><div\\nclass=\"alura-cases\"><div\\nclass=\"container alura-cases-container\"><div\\nclass=\"alura-cases-content\">\\n<img\\nsrc=\"/assets/img/home/homeNova/cases/logo-cases.1647533643.svg\" alt=\"Alura Cases\" class=\"alura-cases-logo\"><h2 class=\"alura-cases-title\">Estudos avan\\xc3\\xa7ados de tecnologia</h2><p\\nclass=\"alura-cases-text\">Conversas aprofundadas com l\\xc3\\xadderes  em tecnologia para voc\\xc3\\xaa aprender com situa\\xc3\\xa7\\xc3\\xb5es reais.</p>\\n<a\\nhref=\"/cases\" class=\"alura-cases-button cases-button-desktop\">\\n<span>CONHE\\xc3\\x87A O ALURA CASES</span>\\n</a></div><div\\nclass=\"alura-cases-list-scrollArea\"><div\\nclass=\"alura-cases-slideLeft glider-prev\" aria-label=\"Previous\">\\n<img\\nsrc=\"/assets/img/home/homeNova/cases/arrow-left.1647533643.svg\" alt=\"Arrow left\"></div><ul\\nclass=\"alura-cases-list-cards\"><li\\nclass=\"alura-cases-item\"><article\\nclass=\"alura-cases-card\" style=\"background-image: url(\\'/assets/img/home/homeNova/cases/roberta_arcoverde.1647533643.jpg\\');\"><h3 class=\"alura-cases-card-name\">Roberta Arcoverde</h3><h3 class=\"alura-cases-card-role\">Tech Lead na Stack Overflow</h3><div\\nclass=\"alura-cases-card-logo\">\\n<img\\nsrc=\"/assets/img/home/homeNova/cases/logo-stack.1647533643.svg\" alt=\"Logotipo stackoverflow\"></div>\\n<a\\nclass=\"alura-cases-card-link\" href=\"https://www.alura.com.br/cases/stack-overflow-e-a-aplicacao-web-monolitica-de-alta-performance-z1069\"></a></article></li><li\\nclass=\"alura-cases-item\"><article\\nclass=\"alura-cases-card\" style=\"background-image: url(\\'/assets/img/home/homeNova/cases/isabela_goncalves.1647533643.jpg\\');\"><h3 class=\"alura-cases-card-name\">Isabel Gon\\xc3\\xa7alves</h3><h3 class=\"alura-cases-card-role\">Software Engineer no Nubank</h3><div\\nclass=\"alura-cases-card-logo\">\\n<img\\nsrc=\"/assets/img/home/homeNova/cases/logo-nubank.1647533643.svg\" alt=\"Logotipo NuBank\"></div>\\n<a\\nclass=\"alura-cases-card-link\" href=\"https://www.alura.com.br/cases/nubank-e-a-plataformizacao-do-fluxo-de-emissao-de-cartoes-z1074\"></a></article></li><li\\nclass=\"alura-cases-item\"><article\\nclass=\"alura-cases-card\" style=\"background-image: url(\\'/assets/img/home/homeNova/cases/renan_martins.1647533643.jpg\\');\"><h3 class=\"alura-cases-card-name\">Renan Martins</h3><h3 class=\"alura-cases-card-role\">Engineering Manager no Luizalabs</h3><div\\nclass=\"alura-cases-card-logo\">\\n<img\\nsrc=\"/assets/img/home/homeNova/cases/logo-luiza.1647533643.svg\" alt=\"Logotipo luizalabs\"></div>\\n<a\\nclass=\"alura-cases-card-link\" href=\"https://www.alura.com.br/cases/luizalabs-e-a-evolucao-da-arquitetura-legado-monolitica-para-microsservicos-e-apis-z1059\"></a></article></li><li\\nclass=\"alura-cases-item\"><article\\nclass=\"alura-cases-card\" style=\"background-image: url(\\'/assets/img/home/homeNova/cases/marco_aurelio.1647533643.jpg\\');\"><h3 class=\"alura-cases-card-name\">MARCO AUR\\xc3\\x89LIO</h3><h3 class=\"alura-cases-card-role\">Development Specialist na Hotmart</h3><div\\nclass=\"alura-cases-card-logo\">\\n<img\\nsrc=\"/assets/img/home/homeNova/cases/logo-hotmart.1647533643.svg\" alt=\"Logotipo hotmart\"></div>\\n<a\\nclass=\"alura-cases-card-link\" href=\"https://www.alura.com.br/cases/hotmart-e-a-evolucao-da-arquitetura-java-z1068\"></a></article></li><li\\nclass=\"alura-cases-item\"><article\\nclass=\"alura-cases-card\" style=\"background-image: url(\\'/assets/img/home/homeNova/cases/ana_genari.1647533643.jpg\\');\"><h3 class=\"alura-cases-card-name\">ANA GENARI</h3><h3 class=\"alura-cases-card-role\">Tech Manager no Ita\\xc3\\xba</h3><div\\nclass=\"alura-cases-card-logo\">\\n<img\\nsrc=\"/assets/img/home/homeNova/cases/logo-itau.1647533643.svg\" alt=\"Logotipo Ita\\xc3\\xba\"></div>\\n<a\\nclass=\"alura-cases-card-link\" href=\"https://www.alura.com.br/cases/itau-e-o-desafio-das-metricas-em-um-ambiente-cloud-z1285\"></a></article></li><li\\nclass=\"alura-cases-item\"><article\\nclass=\"alura-cases-card\" style=\"background-image: url(\\'/assets/img/home/homeNova/cases/eduardo_amaral.1647533643.jpg\\');\"><h3 class=\"alura-cases-card-name\">EDUARDO AMARAL</h3><h3 class=\"alura-cases-card-role\">AdTech Senior Manager na Globo</h3><div\\nclass=\"alura-cases-card-logo\">\\n<img\\nsrc=\"/assets/img/home/homeNova/cases/logo-globo.1647533643.svg\" alt=\"Logotipo Globo\"></div>\\n<a\\nclass=\"alura-cases-card-link\" href=\"https://www.alura.com.br/cases/globo-e-a-evolucao-dos-dados-de-negocios-z1287\"></a></article></li></ul></div>\\n<a\\nhref=\"/cases\" class=\"alura-cases-button cases-button-mobile\">\\n<span>CONHE\\xc3\\x87A O ALURA CASES</span>\\n</a></div><div\\nclass=\"alura-cases-slideRight glider-next\" aria-label=\"Pr\\xc3\\xb3ximo\">\\n<img\\nsrc=\"/assets/img/home/homeNova/cases/arrow-right.1647533643.svg\" alt=\"Arrow right\"></div></div><section\\nclass=\"mobile\"><div\\nclass=\"container\"><div\\nclass=\"mobile__wrapper-info\"><div\\nclass=\"mobile__info mobile__info--forum\">\\n<img\\nsrc=\"/assets/img/home/icon-home-reload.1647533643.svg\" alt=\"\"/>\\n<strong>1343 cursos</strong><p>com lan\\xc3\\xa7amentos toda semana e atualiza\\xc3\\xa7\\xc3\\xb5es constantes</p></div><div\\nclass=\"mobile__info mobile__info--app\">\\n<img\\nsrc=\"/assets/img/home/icon-home-apps.1647533643.svg\" alt=\"\"/>\\n<strong>Aplicativos</strong><p>para Android e iOS, para voc\\xc3\\xaa baixar e estudar offline.</p></div></div><nav\\nclass=\"mobile__apps-download\">\\n<a\\nhref=\"https://play.google.com/store/apps/details?id=br.com.alura.mobi&hl=pt_BR\"\\nclass=\"mobile__apps-download__item mobile__apps-download__item--google-play\">Google\\nPlay</a>\\n<a\\nhref=\"https://itunes.apple.com/br/app/alura-cursos-online/id1225776635\"\\nclass=\"mobile__apps-download__item mobile__apps-download__item--app-store\">App\\nStore</a></nav></div></section><link\\nrel=\"stylesheet\" href=\"/assets/css/block/planosPagamentoOld.1647533642.css\"><section\\nclass=\"planos-pagamento\" id=\"planos-cursos-online\"><h2 class=\"planos-pagamento__titulo\">\\nSabe quando voc\\xc3\\xaa pode come\\xc3\\xa7ar? <span\\nclass=\"planos-pagamento__titulo--bold\">Agora!</span></h2><div\\nclass=\"container\"><div\\nclass=\"planos-pagamento__planos \"><div\\nclass=\"animation-trigger --animate\"></div><div\\nclass=\"planos-pagamento__plano planos-pagamento__plano--plus \"\\ndata-payment-plan  data-payment-plan-price=\"1.020\"><div\\nclass=\"planos-pagamento__header\"><h4 class=\"planos-pagamento__nome\">Plus</h4></div><ul\\nclass=\"planos-pagamento__vantagens\"><li\\nclass=\"planos-pagamento__vantagem\"><div\\nclass=\"planos-pagamento__wrapper planos-pagamento__wrapper--com-descricao\">\\n<span\\nclass=\"planos-pagamento__label\">Acesso a TODOS os cursos da plataforma</span><div\\nclass=\"planos-pagamento__legenda-tooltip\"><p\\nclass=\"planos-pagamento__legenda-descricao\">Mais de 1200 cursos completamente atualizados, com novos lan\\xc3\\xa7amentos todas as semanas, em\\nPrograma\\xc3\\xa7\\xc3\\xa3o, Front-end, UX & Design, Data Science, Mobile, DevOps e Inova\\xc3\\xa7\\xc3\\xa3o & Gest\\xc3\\xa3o.</p></div></div><div\\nclass=\"planos-pagamento__checkmark planos-pagamento__checkmark--ativo\">\\n<svg><use\\nxlink:href=\"/svg,1647533644/planosPagamento#icon-planosPagamento-checked\" /></svg></div></li><li\\nclass=\"planos-pagamento__vantagem\"><div\\nclass=\"planos-pagamento__wrapper planos-pagamento__wrapper--com-descricao\">\\n<span\\nclass=\"planos-pagamento__label\">Alura Challenges</span><div\\nclass=\"planos-pagamento__legenda-tooltip\"><p\\nclass=\"planos-pagamento__legenda-descricao\">Desafios tem\\xc3\\xa1ticos para voc\\xc3\\xaa turbinar seu portf\\xc3\\xb3lio. Voc\\xc3\\xaa aprende na pr\\xc3\\xa1tica, com exerc\\xc3\\xadcios e projetos que simulam o dia a dia profissional.</p></div></div><div\\nclass=\"planos-pagamento__checkmark planos-pagamento__checkmark--ativo\">\\n<svg><use\\nxlink:href=\"/svg,1647533644/planosPagamento#icon-planosPagamento-checked\" /></svg></div></li><li\\nclass=\"planos-pagamento__vantagem\"><div\\nclass=\"planos-pagamento__wrapper planos-pagamento__wrapper--com-descricao\">\\n<span\\nclass=\"planos-pagamento__label\">Alura Cases</span><div\\nclass=\"planos-pagamento__legenda-tooltip\"><p\\nclass=\"planos-pagamento__legenda-descricao\">Webs\\xc3\\xa9ries exclusivas com discuss\\xc3\\xb5es avan\\xc3\\xa7adas sobre arquitetura de sistemas com  profissionais de grandes corpora\\xc3\\xa7\\xc3\\xb5es e startups.</p></div></div><div\\nclass=\"planos-pagamento__checkmark planos-pagamento__checkmark--ativo\">\\n<svg><use\\nxlink:href=\"/svg,1647533644/planosPagamento#icon-planosPagamento-checked\" /></svg></div></li><li\\nclass=\"planos-pagamento__vantagem\"><div\\nclass=\"planos-pagamento__wrapper planos-pagamento__wrapper--com-descricao\">\\n<span\\nclass=\"planos-pagamento__label\">Certificado</span><div\\nclass=\"planos-pagamento__legenda-tooltip\"><p\\nclass=\"planos-pagamento__legenda-descricao\">Emitimos certificados para atestar que voc\\xc3\\xaa finalizou nossos cursos e forma\\xc3\\xa7\\xc3\\xb5es.</p></div></div><div\\nclass=\"planos-pagamento__checkmark planos-pagamento__checkmark--ativo\">\\n<svg><use\\nxlink:href=\"/svg,1647533644/planosPagamento#icon-planosPagamento-checked\" /></svg></div></li><li\\nclass=\"planos-pagamento__vantagem\"><div\\nclass=\"planos-pagamento__wrapper planos-pagamento__wrapper--com-descricao\">\\n<span\\nclass=\"planos-pagamento__label\">Alura L\\xc3\\xadngua (incluindo curso Ingl\\xc3\\xaas para Devs)</span><div\\nclass=\"planos-pagamento__legenda-tooltip\"><p\\nclass=\"planos-pagamento__legenda-descricao\">Estude a l\\xc3\\xadngua inglesa com um curso 100% focado em tecnologia e expanda seus horizontes profissionais.</p></div></div><div\\nclass=\"planos-pagamento__checkmark \">\\n<svg><use\\nxlink:href=\"/svg,1647533644/planosPagamento#icon-planosPagamento-checked\" /></svg></div></li></ul><div\\nclass=\"planos-pagamento__precos \">\\n<span\\nclass=\"planos-pagamento__numero-parcelas\">\\n12X\\n</span><div\\nclass=\"planos-pagamento__preco-parcela\\n\">\\n<span\\nclass=\"planos-pagamento__valor-parcela\">R$85</span></div><div\\nclass=\"planos-pagamento__preco-vista\">\\n<span\\nclass=\"planos-pagamento__label-vista\">\\xc3\\xa0 vista</span>\\n<span\\nclass=\"planos-pagamento__valor-vista\">R$1.020</span></div></div><a\\nclass=\"planos-pagamento__cta\" href=\"/compra/plus/\">\\nMatricule-se\\n</a></div><div\\nclass=\"planos-pagamento__plano planos-pagamento__plano--pro planos-pagamento__plano--best\"\\ndata-payment-plan  data-payment-plan-price=\"1.440\"><div\\nclass=\"planos-pagamento__header\"><h4 class=\"planos-pagamento__nome\">Pro</h4></div><ul\\nclass=\"planos-pagamento__vantagens\"><li\\nclass=\"planos-pagamento__vantagem\"><div\\nclass=\"planos-pagamento__wrapper planos-pagamento__wrapper--com-descricao\">\\n<span\\nclass=\"planos-pagamento__label\">Acesso a TODOS os cursos da plataforma</span><div\\nclass=\"planos-pagamento__legenda-tooltip\"><p\\nclass=\"planos-pagamento__legenda-descricao\">Mais de 1200 cursos completamente atualizados, com novos lan\\xc3\\xa7amentos todas as semanas, em\\nPrograma\\xc3\\xa7\\xc3\\xa3o, Front-end, UX & Design, Data Science, Mobile, DevOps e Inova\\xc3\\xa7\\xc3\\xa3o & Gest\\xc3\\xa3o.</p></div></div><div\\nclass=\"planos-pagamento__checkmark planos-pagamento__checkmark--ativo\">\\n<svg><use\\nxlink:href=\"/svg,1647533644/planosPagamento#icon-planosPagamento-checked\" /></svg></div></li><li\\nclass=\"planos-pagamento__vantagem\"><div\\nclass=\"planos-pagamento__wrapper planos-pagamento__wrapper--com-descricao\">\\n<span\\nclass=\"planos-pagamento__label\">Alura Challenges</span><div\\nclass=\"planos-pagamento__legenda-tooltip\"><p\\nclass=\"planos-pagamento__legenda-descricao\">Desafios tem\\xc3\\xa1ticos para voc\\xc3\\xaa turbinar seu portf\\xc3\\xb3lio. Voc\\xc3\\xaa aprende na pr\\xc3\\xa1tica, com exerc\\xc3\\xadcios e projetos que simulam o dia a dia profissional.</p></div></div><div\\nclass=\"planos-pagamento__checkmark planos-pagamento__checkmark--ativo\">\\n<svg><use\\nxlink:href=\"/svg,1647533644/planosPagamento#icon-planosPagamento-checked\" /></svg></div></li><li\\nclass=\"planos-pagamento__vantagem\"><div\\nclass=\"planos-pagamento__wrapper planos-pagamento__wrapper--com-descricao\">\\n<span\\nclass=\"planos-pagamento__label\">Alura Cases</span><div\\nclass=\"planos-pagamento__legenda-tooltip\"><p\\nclass=\"planos-pagamento__legenda-descricao\">Webs\\xc3\\xa9ries exclusivas com discuss\\xc3\\xb5es avan\\xc3\\xa7adas sobre arquitetura de sistemas com  profissionais de grandes corpora\\xc3\\xa7\\xc3\\xb5es e startups.</p></div></div><div\\nclass=\"planos-pagamento__checkmark planos-pagamento__checkmark--ativo\">\\n<svg><use\\nxlink:href=\"/svg,1647533644/planosPagamento#icon-planosPagamento-checked\" /></svg></div></li><li\\nclass=\"planos-pagamento__vantagem\"><div\\nclass=\"planos-pagamento__wrapper planos-pagamento__wrapper--com-descricao\">\\n<span\\nclass=\"planos-pagamento__label\">Certificado</span><div\\nclass=\"planos-pagamento__legenda-tooltip\"><p\\nclass=\"planos-pagamento__legenda-descricao\">Emitimos certificados para atestar que voc\\xc3\\xaa finalizou nossos cursos e forma\\xc3\\xa7\\xc3\\xb5es.</p></div></div><div\\nclass=\"planos-pagamento__checkmark planos-pagamento__checkmark--ativo\">\\n<svg><use\\nxlink:href=\"/svg,1647533644/planosPagamento#icon-planosPagamento-checked\" /></svg></div></li><li\\nclass=\"planos-pagamento__vantagem\"><div\\nclass=\"planos-pagamento__wrapper planos-pagamento__wrapper--com-descricao\">\\n<span\\nclass=\"planos-pagamento__label\">Alura L\\xc3\\xadngua (incluindo curso Ingl\\xc3\\xaas para Devs)</span><div\\nclass=\"planos-pagamento__legenda-tooltip\"><p\\nclass=\"planos-pagamento__legenda-descricao\">Estude a l\\xc3\\xadngua inglesa com um curso 100% focado em tecnologia e expanda seus horizontes profissionais.</p></div></div><div\\nclass=\"planos-pagamento__checkmark planos-pagamento__checkmark--ativo\">\\n<svg><use\\nxlink:href=\"/svg,1647533644/planosPagamento#icon-planosPagamento-checked\" /></svg></div></li></ul><div\\nclass=\"planos-pagamento__precos \">\\n<span\\nclass=\"planos-pagamento__numero-parcelas\">\\n12X\\n</span><div\\nclass=\"planos-pagamento__preco-parcela\\n\">\\n<span\\nclass=\"planos-pagamento__valor-parcela\">R$120</span></div><div\\nclass=\"planos-pagamento__preco-vista\">\\n<span\\nclass=\"planos-pagamento__label-vista\">\\xc3\\xa0 vista</span>\\n<span\\nclass=\"planos-pagamento__valor-vista\">R$1.440</span></div></div><a\\nclass=\"planos-pagamento__cta\" href=\"/compra/pro/\">\\nMatricule-se\\n</a></div></div></div><a\\nclass=\"planos-pagamento__b2b\" href=\"/empresas\">\\n<span>Conhe\\xc3\\xa7a os <strong>Planos para Empresas</strong></span>\\n</a><div\\nclass=\"planosPagamento-vantagens\"><div\\nclass=\"container\"><div\\nclass=\"planosPagamento-vantagens-vantagem acesso\">\\n<img\\nsrc=\"/assets/img/home/icon-plan-calendar.1647533643.svg\"><p>Acesso completo <br\\n/> durante 1 ano</p></div><div\\nclass=\"planosPagamento-vantagens-vantagem horas\">\\n<img\\nsrc=\"/assets/img/home/icon-plan-moon.1647533643.svg\"><p>Estude 24h/dia <br\\n/> onde e quando quiser</p></div><div\\nclass=\"planosPagamento-vantagens-vantagem novos\">\\n<img\\nsrc=\"/assets/img/home/icon-plan-reload.1647533643.svg\"><p>Novos cursos <br\\n/> todas as semanas</p></div></div></div></section> <script src=\"/assets/js/planosPagamentoOld.1647533644.js\"></script> </main><div\\nid=\"videoModalWindow\"><div\\nclass=\"closeModal\"></div>\\n<iframe\\nid=\"videoIframe\" width=\"100%\" height=\"400\" src=\"\" title=\"YouTube video player\" frameborder=\"0\" allow=\"accelerometer; autoplay; clipboard-write; encrypted-media; gyroscope; picture-in-picture\" allow=\"autoplay; encrypted-media\" allowfullscreen></iframe></div><link\\nrel=\"stylesheet\" href=\"/assets/css/block/footer.1647533642.css\"><footer\\nclass=\"footer\"><div\\nclass=\"container\"><div\\nclass=\"footer-navegue\"><h2 class=\"footer-navegacao-titulo\">Navega\\xc3\\xa7\\xc3\\xa3o</h2><ul\\nclass=\"footer-navegue-lista\"><li\\nclass=\"footer-navegue-lista-link\"><a\\nhref=\"/planos-cursos-online\" gtm-data=\\'footer_primeira_secao_053\\'>Planos</a></li><li\\nclass=\"footer-navegue-lista-link\"><a\\nhref=\"/cursos-online-tecnologia\" gtm-data=\\'footer_primeira_secao_054\\'>Todos os cursos</a></li><li\\nclass=\"footer-navegue-lista-link\"><a\\nhref=\"/cases\">Alura Cases</a></li><li\\nclass=\"footer-navegue-lista-link\"><a\\nhref=\"/guias\">Guia de carreira</a></li><li\\nclass=\"footer-navegue-lista-link\"><a\\nhref=\"/instrutores\" gtm-data=\\'footer_primeira_secao_056\\'>Instrutores</a></li><li\\nclass=\"footer-navegue-lista-link\"><a\\nhref=\"https://grupoalura.gupy.io\">Trabalhe conosco</a></li><li\\nclass=\"footer-navegue-lista-link\"><a\\nhref=\"/quero-ser-instrutor\" gtm-data=\\'footer_primeira_secao_057\\'>Como virar instrutor</a></li><li\\nclass=\"footer-navegue-lista-link\"><a\\nhref=\"/artigos\" gtm-data=\\'footer_primeira_secao_058\\'>Artigos</a></li><li\\nclass=\"footer-navegue-lista-link\"><a\\nhref=\"/escolas\">Para Escolas</a></li><li\\nclass=\"footer-navegue-lista-link\"><a\\nhref=\"/podcasts\">Podcasts</a></li><li\\nclass=\"footer-navegue-lista-link\"><a\\nhref=\"/politica-de-privacidade\" gtm-data=\\'footer_primeira_secao_061\\'>Pol\\xc3\\xadtica de Privacidade</a></li><li\\nclass=\"footer-navegue-lista-link\"><a\\nhref=\"/termos-de-uso\" gtm-data=\\'footer_primeira_secao_062\\'>Termos de Uso</a></li><li\\nclass=\"footer-navegue-lista-link\"><a\\nhref=\"/sobre\" gtm-data=\\'footer_primeira_secao_063\\'>Sobre n\\xc3\\xb3s</a></li><li\\nclass=\"footer-navegue-lista-link\"><a\\nhref=\"/como-funciona\" gtm-data=\\'footer_primeira_secao_064\\'>Como Funciona</a></li><li\\nclass=\"footer-navegue-lista-link\"><a\\nhref=\"/dev-em-t\" gtm-data=\\'footer_primeira_secao_065\\'>Dev em &lt;T&gt;</a></li><li\\nclass=\"footer-navegue-lista-link\"><a\\nhref=\"https://suporte.alura.com.br/\" gtm-data=\\'footer_primeira_secao_066\\'>Perguntas frequentes</a></li><li\\nclass=\"footer-navegue-lista-link\"><a\\nhref=\"https://status.alura.com.br/\">Status</a></li><li\\nclass=\"footer-navegue-lista-link\"><a\\nhref=\"/mapa-do-site\">Mapa do Site</a></li></ul><h2 class=\"footer-navegacao-titulo\">Fale com a gente</h2><ul\\nclass=\"footer-navegue-lista\"><li\\nclass=\"footer-navegue-lista-link whatsapp-icon\"><a\\nhref=\"https://api.whatsapp.com/send?phone=5511984510286\">Whatsapp</a></li><li\\nclass=\"footer-navegue-lista-link\"><a\\nhref=\"https://www.alura.com.br/contato\">Email e telefone</a></li></ul><h2 class=\"footer-navegacao-titulo\">Blog</h2><ul\\nclass=\"footer-navegue-lista\"><li\\nclass=\"footer-navegue-lista-link\">\\n<a\\nhref=\"/artigos/programacao\">\\nPrograma\\xc3\\xa7\\xc3\\xa3o\\t\\t\\t\\t\\t\\t\\t</a></li><li\\nclass=\"footer-navegue-lista-link\">\\n<a\\nhref=\"/artigos/front-end\">\\nFront-end\\t\\t\\t\\t\\t\\t\\t</a></li><li\\nclass=\"footer-navegue-lista-link\">\\n<a\\nhref=\"/artigos/data-science\">\\nData Science\\t\\t\\t\\t\\t\\t\\t</a></li><li\\nclass=\"footer-navegue-lista-link\">\\n<a\\nhref=\"/artigos/devops\">\\nDevOps\\t\\t\\t\\t\\t\\t\\t</a></li><li\\nclass=\"footer-navegue-lista-link\">\\n<a\\nhref=\"/artigos/design-ux\">\\nUX & Design\\t\\t\\t\\t\\t\\t\\t</a></li><li\\nclass=\"footer-navegue-lista-link\">\\n<a\\nhref=\"/artigos/mobile\">\\nMobile\\t\\t\\t\\t\\t\\t\\t</a></li><li\\nclass=\"footer-navegue-lista-link\">\\n<a\\nhref=\"/artigos/inovacao-gestao\">\\nInova\\xc3\\xa7\\xc3\\xa3o & Gest\\xc3\\xa3o\\t\\t\\t\\t\\t\\t\\t</a></li></ul></div><div\\nclass=\"footer-card-hotLinks social-mobile\"><p\\nclass=\"footer-navegue-lista-link --description\">\\n<span\\nclass=\"footer-empresa-item\">AOVS Sistemas de Inform\\xc3\\xa1tica S.A</span>\\n<span\\nclass=\"footer-empresa-item\">CNPJ 05.555.382/0001-33</span></p><h2 class=\"footer-card-hotLinks-titulo\">Nossas redes e apps</h2><div\\nclass=\"footer-card-hotLinks-info footer-card-redes\">\\n<a\\nhref=\"https://www.youtube.com/alura\" gtm-data=\\'footer_primeira_secao_065\\' class=\"footer-card-hotLinks-link\" target=\"_blank\" rel=\"noopener\" title=\"YouTube da Alura\">\\n<svg\\nclass=\"footer-card-hotLinks-icon footer-card-hotLinks-youtube\"><use\\nxlink:href=\"/svg,1647533643/footer#icon-footer-youtube\"/></svg>\\n<span>YouTube</span>\\n</a>\\n<a\\nhref=\"https://www.facebook.com/AluraCursosOnline/\" gtm-data=\\'footer_primeira_secao_066\\' class=\"footer-card-hotLinks-link\" target=\"_blank\" rel=\"noopener\" title=\"Facebook da Alura\">\\n<svg\\nclass=\"footer-card-hotLinks-icon footer-card-hotLinks-facebook\"><use\\nxlink:href=\"/svg,1647533643/footer#icon-footer-facebook\"/></svg>\\n<span>Facebook</span>\\n</a>\\n<a\\nhref=\"https://twitter.com/aluraonline\" gtm-data=\\'footer_primeira_secao_067\\' class=\"footer-card-hotLinks-link\" target=\"_blank\" rel=\"noopener\" title=\"Twitter da Alura\">\\n<svg\\nclass=\"footer-card-hotLinks-icon footer-card-hotLinks-twitter\"><use\\nxlink:href=\"/svg,1647533643/footer#icon-footer-twitter\"/></svg>\\n<span>Twitter</span>\\n</a>\\n<a\\nhref=\"https://instagram.com/aluraonline\" class=\"footer-card-hotLinks-link\" gtm-data=\\'footer_primeira_secao_073\\' target=\"_blank\" rel=\"noopener\" title=\"Instagram da Alura\">\\n<svg\\nclass=\"footer-card-hotLinks-icon footer-card-hotLinks-instagram\"><use\\nxlink:href=\"/svg,1647533643/footer#icon-footer-instagram\"/></svg>\\n<span>Instagram</span>\\n</a></div><div\\nclass=\"footer-card-hotLinks-info footer-card-mobile\">\\n<a\\nhref=\"https://play.google.com/store/apps/details?id=br.com.alura.mobi&hl=pt_BR\" gtm-data=\\'footer_primeira_secao_069\\' class=\"footer-card-hotLinks-link\" target=\"_blank\" rel=\"noopener\" title=\"Baixar na Google Play Store\">\\n<svg\\nclass=\"footer-card-hotLinks-icon footer-card-hotLinks-mobile\"><use\\nxlink:href=\"/svg,1647533643/footer#icon-footer-googleplay\"/></svg>\\n<span>Google Play Store</span>\\n</a>\\n<a\\nhref=\"https://itunes.apple.com/br/app/alura-cursos-online/id1225776635\" gtm-data=\\'footer_primeira_secao_070\\' class=\"footer-card-hotLinks-link\" target=\"_blank\" rel=\"noopener\" title=\"Baixar na AppStore\">\\n<svg\\nclass=\"footer-card-hotLinks-icon footer-card-hotLinks-mobile\"><use\\nxlink:href=\"/svg,1647533643/footer#icon-footer-appstore\"/></svg>\\n<span>AppStore</span>\\n</a></div></div><div\\nclass=\"footer-column footer-column-cards\"><link\\nrel=\"stylesheet\" href=\"/assets/css/block/activeCampaignNewsletterForm.1647533642.css\"><div\\nclass=\"newsletter\"><h2 class=\"newsletter-titulo\">Novidades e Lan\\xc3\\xa7amentos</h2><form\\nid=\"newsletter-form__activecampaign\" class=\"newsletter-form\" action=\"/api/activecampaign\" method=\"POST\"><input\\ntype=\"hidden\" name=\"list\" value=\"14\">\\n<input\\ntype=\"hidden\" name=\"retorno\" value=\"/newsletter-cadastrado\"><label\\nfor=\"email-newsletter\">Email</label>\\n<input\\ntype=\"email\" name=\"email\" class=\"newsletter-input\" placeholder=\"Seu e-mail\" id=\"email-newsletter\"><button\\ntype=\"submit\" class=\"newsletter-button buttonForm\">Receber</button>\\n<span\\nclass=\"newsletter-message-error newsletter-message-error--disabled\">N\\xc3\\xa3o foi poss\\xc3\\xadvel assinar a newsletter</span></form></div> <script>(function() {\\n            function criaCampo(nome, valor, form) {\\n                if (valor === null) return;\\n\\n                var input = document.createElement(\\'input\\');\\n                input.type = \\'hidden\\';\\n                input.name = nome;\\n                input.value = valor;\\n\\n                form.appendChild(input);\\n            }\\n\\n            function param(name) {\\n                var url = location.href;\\n                name = name.replace(/[\\\\[]/,\"\\\\\\\\\\\\[\").replace(/[\\\\]]/,\"\\\\\\\\\\\\]\");\\n                var regexS = \"[\\\\\\\\?&]\"+name+\"=([^&#]*)\";\\n                var regex = new RegExp( regexS );\\n                var results = regex.exec( url );\\n                return results == null ? null : results[1];\\n            }\\n\\n            function showNewsletterError() {\\n                document.querySelector(\\'.newsletter-message-error\\').classList.remove(\\'newsletter-message-error--disabled\\');\\n            }\\n\\n            function valida() {\\n                var isValid = true;\\n                var inputList = document.querySelector(\\'#newsletter-form__activecampaign\\')[\\'list\\'];\\n                var inputEmail = document.querySelector(\\'#newsletter-form__activecampaign\\')[\\'email\\'];\\n\\n                isValid = validaEmail(inputEmail.value) && validaList(inputList.value);\\n\\n                if(!isValid) {\\n                    showNewsletterError();\\n                }\\n\\n                return isValid;\\n            }\\n\\n            function validaList(list) {\\n                return list != \\'-1\\';\\n            }\\n\\n            function validaEmail(email) {\\n                var re = /^(([^<>()\\\\[\\\\]\\\\\\\\.,;:\\\\s@\"]+(\\\\.[^<>()\\\\[\\\\]\\\\\\\\.,;:\\\\s@\"]+)*)|(\".+\"))@((\\\\[[0-9]{1,3}\\\\.[0-9]{1,3}\\\\.[0-9]{1,3}\\\\.[0-9]{1,3}])|(([a-zA-Z\\\\-0-9]+\\\\.)+[a-zA-Z]{2,}))$/;\\n                return re.test(email);\\n            }\\n\\n            var form = document.querySelector(\\'#newsletter-form__activecampaign\\');\\n            if(!form) return;\\n\\n            criaCampo(\\'utm_source\\', param(\\'utm_source\\'), form);\\n            criaCampo(\\'utm_campaign\\', param(\\'utm_campaign\\'), form);\\n            criaCampo(\\'utm_medium\\', param(\\'utm_medium\\'), form);\\n            criaCampo(\\'utm_term\\', param(\\'utm_term\\'), form);\\n            criaCampo(\\'utm_content\\', param(\\'utm_content\\'), form);\\n            criaCampo(\\'full_url\\', location.href, form);\\n            criaCampo(\\'user_agent\\', navigator.userAgent, form);\\n            criaCampo(\\'referral\\', document.referrer, form);\\n\\n            form.onsubmit = valida;\\n\\n        })();</script> <div\\nclass=\"footer-navegue empresa-governo\"><h2 class=\"footer-navegacao-titulo\">Alura na sua empresa</h2><ul\\nclass=\"footer-navegue-lista\"><li\\nclass=\"footer-navegue-lista-link --description\">Desenvolva seu time com apoio da nossa solu\\xc3\\xa7\\xc3\\xa3o</li><li\\nclass=\"footer-navegue-lista-link\"><a\\nhref=\"/empresas/cases\">Cases</a></li><li\\nclass=\"footer-navegue-lista-link\"><a\\nhref=\"/empresas/comunidade\">Comunidade</a></li><li\\nclass=\"footer-navegue-lista-link\"><a\\nhref=\"/empresas/guias-de-carreira\">Guia de Carreira</a></li><li\\nclass=\"footer-navegue-lista-link\"><a\\nhref=\"/empresas/na-midia\">Na M\\xc3\\xaddia</a></li><li\\nclass=\"footer-navegue-lista-link --description\"><a\\nhref=\"https://www.alura.com.br/empresas\">Conhe\\xc3\\xa7a mais</a></li></ul><h2 class=\"footer-navegacao-titulo\">Comunidade</h2><ul\\nclass=\"footer-navegue-lista\"><li\\nclass=\"footer-navegue-lista-link\"><a\\nhref=\"https://www.scuba.dev.br/\" gtm-data=\"footer_primeira_secao_067\">Scuba Dev</a></li><li\\nclass=\"footer-navegue-lista-link\"><a\\nhref=\"/imersao\" gtm-data=\"footer_primeira_secao_068\">Imers\\xc3\\xb5es</a></li><li\\nclass=\"footer-navegue-lista-link\"><a\\nhref=\"/depoimentos\" gtm-data=\"footer_primeira_secao_069\">Depoimentos</a></li><li\\nclass=\"footer-navegue-lista-link\"><a\\nhref=\"/instrutores\" gtm-data=\"footer_primeira_secao_061\">Nossos Instrutores</a></li></ul><h2 class=\"footer-navegacao-titulo\">Parceiros</h2><ul\\nclass=\"footer-navegue-lista\"><li\\nclass=\"footer-navegue-lista-link --description\">\\n<img\\nsrc=\"/assets/img/footer/scale-up-endeavor.1647533643.png\" alt=\"Programa de acelera\\xc3\\xa7\\xc3\\xa3o Scale-Up Endeavor\" class=\"footer-navegue-lista__image\" loading=\"lazy\"></li><li\\nclass=\"footer-navegue-lista-link --description --partners\">\\nN\\xc3\\xb3s, da Alura, somos uma das Scale-Ups selecionadas pela Endeavor, programa de acelera\\xc3\\xa7\\xc3\\xa3o das empresas que mais crescem no pa\\xc3\\xads.</li><li\\nclass=\"footer-navegue-lista-link --description\">\\n<img\\nsrc=\"/assets/img/footer/google-alumni-2021.1647533643.png\" alt=\"Growth Academy 2021 do Google For Startups\" class=\"footer-navegue-lista__image\" loading=\"lazy\"></li><li\\nclass=\"footer-navegue-lista-link --description --partners\">\\nFomos uma das 7 startups selecionadas pelo Google For Startups a participar do programa Growth Academy em 2021.</li></ul></div></div><div\\nclass=\"footer-info\"><div\\nclass=\"footer-logos\">\\n<a\\nclass=\"footer-logos-home\" gtm-data=\\'footer_primeira_secao_050\\' href=\"/\">\\n<img\\nsrc=\"/assets/img/home/alura-logo.1647533643.svg\" alt=\"Alura\" class=\"footer-logo\" loading=\"lazy\">\\n</a></div><div\\nclass=\"footer-card-hotLinks social-desktop\"><p\\nclass=\"footer-navegue-lista-link --description\">\\n<span\\nclass=\"footer-empresa-item\">AOVS Sistemas de Inform\\xc3\\xa1tica S.A</span>\\n<span\\nclass=\"footer-empresa-item\">CNPJ 05.555.382/0001-33</span></p><h2 class=\"footer-card-hotLinks-titulo\">Nossas redes e apps</h2><div\\nclass=\"footer-card-hotLinks-info footer-card-redes\">\\n<a\\nhref=\"https://www.youtube.com/alura\" gtm-data=\\'footer_primeira_secao_065\\' class=\"footer-card-hotLinks-link\" target=\"_blank\" rel=\"noopener\" title=\"YouTube da Alura\">\\n<svg\\nclass=\"footer-card-hotLinks-icon footer-card-hotLinks-youtube\"><use\\nxlink:href=\"/svg,1647533643/footer#icon-footer-youtube\"/></svg>\\n<span>YouTube</span>\\n</a>\\n<a\\nhref=\"https://www.facebook.com/AluraCursosOnline/\" gtm-data=\\'footer_primeira_secao_066\\' class=\"footer-card-hotLinks-link\" target=\"_blank\" rel=\"noopener\" title=\"Facebook da Alura\">\\n<svg\\nclass=\"footer-card-hotLinks-icon footer-card-hotLinks-facebook\"><use\\nxlink:href=\"/svg,1647533643/footer#icon-footer-facebook\"/></svg>\\n<span>Facebook</span>\\n</a>\\n<a\\nhref=\"https://twitter.com/aluraonline\" gtm-data=\\'footer_primeira_secao_067\\' class=\"footer-card-hotLinks-link\" target=\"_blank\" rel=\"noopener\" title=\"Twitter da Alura\">\\n<svg\\nclass=\"footer-card-hotLinks-icon footer-card-hotLinks-twitter\"><use\\nxlink:href=\"/svg,1647533643/footer#icon-footer-twitter\"/></svg>\\n<span>Twitter</span>\\n</a>\\n<a\\nhref=\"https://instagram.com/aluraonline\" class=\"footer-card-hotLinks-link\" gtm-data=\\'footer_primeira_secao_073\\' target=\"_blank\" rel=\"noopener\" title=\"Instagram da Alura\">\\n<svg\\nclass=\"footer-card-hotLinks-icon footer-card-hotLinks-instagram\"><use\\nxlink:href=\"/svg,1647533643/footer#icon-footer-instagram\"/></svg>\\n<span>Instagram</span>\\n</a></div><div\\nclass=\"footer-card-hotLinks-info footer-card-mobile\">\\n<a\\nhref=\"https://play.google.com/store/apps/details?id=br.com.alura.mobi&hl=pt_BR\" gtm-data=\\'footer_primeira_secao_069\\' class=\"footer-card-hotLinks-link\" target=\"_blank\" rel=\"noopener\" title=\"Baixar na Google Play Store\">\\n<svg\\nclass=\"footer-card-hotLinks-icon footer-card-hotLinks-mobile\"><use\\nxlink:href=\"/svg,1647533643/footer#icon-footer-googleplay\"/></svg>\\n<span>Google Play Store</span>\\n</a>\\n<a\\nhref=\"https://itunes.apple.com/br/app/alura-cursos-online/id1225776635\" gtm-data=\\'footer_primeira_secao_070\\' class=\"footer-card-hotLinks-link\" target=\"_blank\" rel=\"noopener\" title=\"Baixar na AppStore\">\\n<svg\\nclass=\"footer-card-hotLinks-icon footer-card-hotLinks-mobile\"><use\\nxlink:href=\"/svg,1647533643/footer#icon-footer-appstore\"/></svg>\\n<span>AppStore</span>\\n</a></div></div></div></div></footer><section\\nclass=\"footer_categorias-formacoes\"><div\\nclass=\"container\"><div\\nclass=\"footer_categorias_wrapper\"><h2 class=\"footer_categorias_title\">Cursos</h2><div\\nclass=\"footer_categorias_categorias footer-navegue-lista-link\"><div\\nclass=\"footer_categorias_categoria\">\\n<a\\nhref=\"/cursos-online-programacao\">Cursos de Programa\\xc3\\xa7\\xc3\\xa3o</a><div\\nclass=\"footer_categorias_subcategorias\">\\n<a\\nhref=\"/cursos-online-programacao/logica\">\\nL\\xc3\\xb3gica\\t\\t\\t\\t\\t\\t\\t\\t\\t\\t</a>\\n|\\t\\t\\t\\t\\t\\t\\t\\t\\t\\t\\t\\t\\t\\t\\t\\t\\t\\t\\t<a\\nhref=\"/cursos-online-programacao/python\">\\nPython\\t\\t\\t\\t\\t\\t\\t\\t\\t\\t</a>\\n|\\t\\t\\t\\t\\t\\t\\t\\t\\t\\t\\t\\t\\t\\t\\t\\t\\t\\t\\t<a\\nhref=\"/cursos-online-programacao/php\">\\nPHP\\t\\t\\t\\t\\t\\t\\t\\t\\t\\t</a>\\n|\\t\\t\\t\\t\\t\\t\\t\\t\\t\\t\\t\\t\\t\\t\\t\\t\\t\\t\\t<a\\nhref=\"/cursos-online-programacao/java\">\\nJava\\t\\t\\t\\t\\t\\t\\t\\t\\t\\t</a>\\n|\\t\\t\\t\\t\\t\\t\\t\\t\\t\\t\\t\\t\\t\\t\\t\\t\\t\\t\\t<a\\nhref=\"/cursos-online-programacao/dotnet\">\\n.NET\\t\\t\\t\\t\\t\\t\\t\\t\\t\\t</a>\\n|\\t\\t\\t\\t\\t\\t\\t\\t\\t\\t\\t\\t\\t\\t\\t\\t\\t\\t\\t<a\\nhref=\"/cursos-online-programacao/node-js\">\\nNode JS\\t\\t\\t\\t\\t\\t\\t\\t\\t\\t</a>\\n|\\t\\t\\t\\t\\t\\t\\t\\t\\t\\t\\t\\t\\t\\t\\t\\t\\t\\t\\t<a\\nhref=\"/cursos-online-programacao/linguagem-c\">\\nC\\t\\t\\t\\t\\t\\t\\t\\t\\t\\t</a>\\n|\\t\\t\\t\\t\\t\\t\\t\\t\\t\\t\\t\\t\\t\\t\\t\\t\\t\\t\\t<a\\nhref=\"/cursos-online-programacao/computacao\">\\nComputa\\xc3\\xa7\\xc3\\xa3o\\t\\t\\t\\t\\t\\t\\t\\t\\t\\t</a>\\n|\\t\\t\\t\\t\\t\\t\\t\\t\\t\\t\\t\\t\\t\\t\\t\\t\\t\\t\\t<a\\nhref=\"/cursos-online-programacao/jogos\">\\nJogos\\t\\t\\t\\t\\t\\t\\t\\t\\t\\t</a>\\n|\\t\\t\\t\\t\\t\\t\\t\\t\\t\\t\\t\\t\\t\\t\\t\\t\\t\\t\\t<a\\nhref=\"/cursos-online-programacao/internet-das-coisas\">\\nIoT\\t\\t\\t\\t\\t\\t\\t\\t\\t\\t</a></div></div><div\\nclass=\"footer_categorias_categoria\">\\n<a\\nhref=\"/cursos-online-front-end\">Cursos de Front-end</a><div\\nclass=\"footer_categorias_subcategorias\">\\n<a\\nhref=\"/cursos-online-front-end/front-end\">\\nHTML, CSS\\t\\t\\t\\t\\t\\t\\t\\t\\t\\t</a>\\n|\\t\\t\\t\\t\\t\\t\\t\\t\\t\\t\\t\\t\\t\\t\\t\\t\\t\\t\\t<a\\nhref=\"/cursos-online-front-end/reactjs\">\\nReact\\t\\t\\t\\t\\t\\t\\t\\t\\t\\t</a>\\n|\\t\\t\\t\\t\\t\\t\\t\\t\\t\\t\\t\\t\\t\\t\\t\\t\\t\\t\\t<a\\nhref=\"/cursos-online-front-end/angular\">\\nAngular\\t\\t\\t\\t\\t\\t\\t\\t\\t\\t</a>\\n|\\t\\t\\t\\t\\t\\t\\t\\t\\t\\t\\t\\t\\t\\t\\t\\t\\t\\t\\t<a\\nhref=\"/cursos-online-front-end/javascript\">\\nJavaScript\\t\\t\\t\\t\\t\\t\\t\\t\\t\\t</a>\\n|\\t\\t\\t\\t\\t\\t\\t\\t\\t\\t\\t\\t\\t\\t\\t\\t\\t\\t\\t<a\\nhref=\"/cursos-online-front-end/jquery\">\\njQuery\\t\\t\\t\\t\\t\\t\\t\\t\\t\\t</a></div></div><div\\nclass=\"footer_categorias_categoria\">\\n<a\\nhref=\"/cursos-online-data-science\">Cursos de Data Science</a><div\\nclass=\"footer_categorias_subcategorias\">\\n<a\\nhref=\"/cursos-online-data-science/data-science\">\\nCi\\xc3\\xaancia de dados\\t\\t\\t\\t\\t\\t\\t\\t\\t\\t</a>\\n|\\t\\t\\t\\t\\t\\t\\t\\t\\t\\t\\t\\t\\t\\t\\t\\t\\t\\t\\t<a\\nhref=\"/cursos-online-data-science/business-intelligence\">\\nBI\\t\\t\\t\\t\\t\\t\\t\\t\\t\\t</a>\\n|\\t\\t\\t\\t\\t\\t\\t\\t\\t\\t\\t\\t\\t\\t\\t\\t\\t\\t\\t<a\\nhref=\"/cursos-online-data-science/sql\">\\nSQL e Banco de Dados\\t\\t\\t\\t\\t\\t\\t\\t\\t\\t</a>\\n|\\t\\t\\t\\t\\t\\t\\t\\t\\t\\t\\t\\t\\t\\t\\t\\t\\t\\t\\t<a\\nhref=\"/cursos-online-data-science/excel\">\\nExcel\\t\\t\\t\\t\\t\\t\\t\\t\\t\\t</a>\\n|\\t\\t\\t\\t\\t\\t\\t\\t\\t\\t\\t\\t\\t\\t\\t\\t\\t\\t\\t<a\\nhref=\"/cursos-online-data-science/machine-learning\">\\nMachine Learning\\t\\t\\t\\t\\t\\t\\t\\t\\t\\t</a>\\n|\\t\\t\\t\\t\\t\\t\\t\\t\\t\\t\\t\\t\\t\\t\\t\\t\\t\\t\\t<a\\nhref=\"/cursos-online-data-science/nosql\">\\nNoSQL\\t\\t\\t\\t\\t\\t\\t\\t\\t\\t</a>\\n|\\t\\t\\t\\t\\t\\t\\t\\t\\t\\t\\t\\t\\t\\t\\t\\t\\t\\t\\t<a\\nhref=\"/cursos-online-data-science/estatistica\">\\nEstat\\xc3\\xadstica\\t\\t\\t\\t\\t\\t\\t\\t\\t\\t</a></div></div><div\\nclass=\"footer_categorias_categoria\">\\n<a\\nhref=\"/cursos-online-devops\">Cursos de DevOps</a><div\\nclass=\"footer_categorias_subcategorias\">\\n<a\\nhref=\"/cursos-online-devops/aws\">\\nAWS\\t\\t\\t\\t\\t\\t\\t\\t\\t\\t</a>\\n|\\t\\t\\t\\t\\t\\t\\t\\t\\t\\t\\t\\t\\t\\t\\t\\t\\t\\t\\t<a\\nhref=\"/cursos-online-devops/azure\">\\nAzure\\t\\t\\t\\t\\t\\t\\t\\t\\t\\t</a>\\n|\\t\\t\\t\\t\\t\\t\\t\\t\\t\\t\\t\\t\\t\\t\\t\\t\\t\\t\\t<a\\nhref=\"/cursos-online-devops/containers\">\\nDocker\\t\\t\\t\\t\\t\\t\\t\\t\\t\\t</a>\\n|\\t\\t\\t\\t\\t\\t\\t\\t\\t\\t\\t\\t\\t\\t\\t\\t\\t\\t\\t<a\\nhref=\"/cursos-online-devops/seguranca\">\\nSeguran\\xc3\\xa7a\\t\\t\\t\\t\\t\\t\\t\\t\\t\\t</a>\\n|\\t\\t\\t\\t\\t\\t\\t\\t\\t\\t\\t\\t\\t\\t\\t\\t\\t\\t\\t<a\\nhref=\"/cursos-online-devops/infraestrutura-como-codigo\">\\nIaC\\t\\t\\t\\t\\t\\t\\t\\t\\t\\t</a>\\n|\\t\\t\\t\\t\\t\\t\\t\\t\\t\\t\\t\\t\\t\\t\\t\\t\\t\\t\\t<a\\nhref=\"/cursos-online-devops/linux-comandos-e-processos\">\\nLinux\\t\\t\\t\\t\\t\\t\\t\\t\\t\\t</a></div></div><div\\nclass=\"footer_categorias_categoria\">\\n<a\\nhref=\"/cursos-online-design-ux\">Cursos de UX & Design</a><div\\nclass=\"footer_categorias_subcategorias\">\\n<a\\nhref=\"/cursos-online-design-ux/wwww\">\\nPhotoshop e Illustrator\\t\\t\\t\\t\\t\\t\\t\\t\\t\\t</a>\\n|\\t\\t\\t\\t\\t\\t\\t\\t\\t\\t\\t\\t\\t\\t\\t\\t\\t\\t\\t<a\\nhref=\"/cursos-online-design-ux/ux\">\\nUsabilidade e UX\\t\\t\\t\\t\\t\\t\\t\\t\\t\\t</a>\\n|\\t\\t\\t\\t\\t\\t\\t\\t\\t\\t\\t\\t\\t\\t\\t\\t\\t\\t\\t<a\\nhref=\"/cursos-online-design-ux/video\">\\nV\\xc3\\xaddeo e Motion\\t\\t\\t\\t\\t\\t\\t\\t\\t\\t</a>\\n|\\t\\t\\t\\t\\t\\t\\t\\t\\t\\t\\t\\t\\t\\t\\t\\t\\t\\t\\t<a\\nhref=\"/cursos-online-design-ux/3d\">\\n3D\\t\\t\\t\\t\\t\\t\\t\\t\\t\\t</a></div></div><div\\nclass=\"footer_categorias_categoria\">\\n<a\\nhref=\"/cursos-online-mobile\">Cursos de Mobile</a><div\\nclass=\"footer_categorias_subcategorias\">\\n<a\\nhref=\"/cursos-online-mobile/react-native\">\\nReact Native\\t\\t\\t\\t\\t\\t\\t\\t\\t\\t</a>\\n|\\t\\t\\t\\t\\t\\t\\t\\t\\t\\t\\t\\t\\t\\t\\t\\t\\t\\t\\t<a\\nhref=\"/cursos-online-mobile/flutter\">\\nFlutter\\t\\t\\t\\t\\t\\t\\t\\t\\t\\t</a>\\n|\\t\\t\\t\\t\\t\\t\\t\\t\\t\\t\\t\\t\\t\\t\\t\\t\\t\\t\\t<a\\nhref=\"/cursos-online-mobile/ios\">\\niOS e Swift\\t\\t\\t\\t\\t\\t\\t\\t\\t\\t</a>\\n|\\t\\t\\t\\t\\t\\t\\t\\t\\t\\t\\t\\t\\t\\t\\t\\t\\t\\t\\t<a\\nhref=\"/cursos-online-mobile/android\">\\nAndroid, Kotlin\\t\\t\\t\\t\\t\\t\\t\\t\\t\\t</a>\\n|\\t\\t\\t\\t\\t\\t\\t\\t\\t\\t\\t\\t\\t\\t\\t\\t\\t\\t\\t<a\\nhref=\"/cursos-online-mobile/jogos\">\\nJogos\\t\\t\\t\\t\\t\\t\\t\\t\\t\\t</a></div></div><div\\nclass=\"footer_categorias_categoria\">\\n<a\\nhref=\"/cursos-online-inovacao-gestao\">Cursos de Inova\\xc3\\xa7\\xc3\\xa3o & Gest\\xc3\\xa3o</a><div\\nclass=\"footer_categorias_subcategorias\">\\n<a\\nhref=\"/cursos-online-inovacao-gestao/agilidade\">\\nM\\xc3\\xa9todos \\xc3\\x81geis\\t\\t\\t\\t\\t\\t\\t\\t\\t\\t</a>\\n|\\t\\t\\t\\t\\t\\t\\t\\t\\t\\t\\t\\t\\t\\t\\t\\t\\t\\t\\t<a\\nhref=\"/cursos-online-inovacao-gestao/softskills-carreira\">\\nSoftskills\\t\\t\\t\\t\\t\\t\\t\\t\\t\\t</a>\\n|\\t\\t\\t\\t\\t\\t\\t\\t\\t\\t\\t\\t\\t\\t\\t\\t\\t\\t\\t<a\\nhref=\"/cursos-online-inovacao-gestao/gestao-corporativa\">\\nLideran\\xc3\\xa7a e Gest\\xc3\\xa3o\\t\\t\\t\\t\\t\\t\\t\\t\\t\\t</a>\\n|\\t\\t\\t\\t\\t\\t\\t\\t\\t\\t\\t\\t\\t\\t\\t\\t\\t\\t\\t<a\\nhref=\"/cursos-online-inovacao-gestao/startup-empreendedorismo\">\\nStartups\\t\\t\\t\\t\\t\\t\\t\\t\\t\\t</a>\\n|\\t\\t\\t\\t\\t\\t\\t\\t\\t\\t\\t\\t\\t\\t\\t\\t\\t\\t\\t<a\\nhref=\"/cursos-online-inovacao-gestao/vendas\">\\nVendas\\t\\t\\t\\t\\t\\t\\t\\t\\t\\t</a></div></div></div></div></div></section><style>@media not all and (min-width: 1000px){\\n\\t\\t.grupoCaelum{\\n\\t\\t\\tdisplay: none;\\n\\t\\t}\\n\\t}\\n\\n\\t.grupoCaelum{\\n\\t\\tbackground: #fff;\\n\\t\\theight: 400px;\\n\\t\\tborder-top: 1px solid #EBEBEE;\\n\\t}\\n\\n\\t.grupoCaelum .container{\\n\\t\\tdisplay: flex;\\n\\t\\tjustify-content: space-between;\\n\\t\\talign-items: flex-start;\\n\\t\\tpadding-top: 0;\\n\\t\\tpadding-bottom: 0;\\n\\t\\theight: 100%;\\n\\t}\\n\\n\\t\\t.grupoCaelum-list{\\n\\t\\t\\tdisplay: flex;\\n\\t\\t\\tlist-style: none;\\n\\t\\t\\twidth: 60%;\\n\\t\\t\\tjustify-content: space-between;\\n\\t\\t\\talign-items: flex-start;\\n\\t\\t\\tmargin-top: 20px;\\n\\t\\t}\\n\\n\\t\\t.grupoCaelum-title{\\n\\t\\t\\twidth: 20%;\\n\\t\\t}\\n\\n\\t\\t.grupoCaelum-column {\\n\\t\\t\\tdisplay: inline-block;\\n\\t\\t\\tpadding-left: 19px;\\n\\t\\t\\twidth: 240px;\\n\\t\\t\\theight: 350px;\\n\\t\\t\\tmin-width: 160px;\\n\\t\\t}\\n\\t\\t\\t.grupoCaelum-column-title {\\n\\t\\t\\t\\tfont-size: 10px;\\n\\t\\t\\t\\tcolor: #d7e0e5;\\n\\t\\t\\t\\ttext-transform: uppercase;\\n\\t\\t\\t\\tfont-weight: 600;\\n\\t\\t\\t\\tmargin-bottom: 19px;\\n\\t\\t\\t}\\n\\n\\t\\t\\t.grupoCaelum-column-list {\\n\\t\\t\\t\\tlist-style: none;\\n\\t\\t\\t}\\n\\n\\t\\t\\t.column-item-title {\\n\\t\\t\\t\\tfont-size: 11px;\\n\\t\\t\\t\\ttext-align: center;\\n\\t\\t\\t\\tvertical-align: middle;\\n\\t\\t\\t\\tdisplay: inline-block;\\n\\t\\t\\t\\tmargin-left: 6.5px;\\n\\t\\t\\t}\\n\\n\\t\\t.grupoCaelum-column:not(:first-child) {\\n\\t\\t\\tborder-left: solid 1px #e3e9ed;\\n\\t\\t}\\n\\n\\t\\t.grupoCaelum-title {\\n\\t\\t\\tdisplay: inline-block;\\n\\t\\t\\ttext-decoration: none;\\n\\t\\t\\tcolor: #657176;\\n\\t\\t\\tletter-spacing: normal;\\n\\t\\t\\tfont-size: 18px;\\n\\t\\t\\tmargin-top: 54px;\\n\\t\\t}\\n\\n\\t.column-item-logo {\\n\\t\\twidth: 30px;\\n\\t\\theight: 30px;\\n\\t\\tvertical-align: middle;\\n\\t\\tdisplay: inline-block;\\n\\t}\\n\\n\\t.column-item {\\n\\t\\tmargin-bottom: 17px;\\n\\t}\\n\\n\\t.column-item a{\\n\\t\\ttext-decoration: none;\\n\\t\\tcolor: #657176;\\n\\t}</style><footer\\nclass=\"caelum-footer\"><div\\nclass=\"grupoCaelum\"><div\\nclass=\"container\"><p\\nclass=\"grupoCaelum-title\">Grupo Alura</p><ul\\nclass=\"grupoCaelum-list\"><li\\nclass=\"grupoCaelum-column\"><p\\nclass=\"grupoCaelum-column-title\">Educa\\xc3\\xa7\\xc3\\xa3o</p><ul\\nclass=\"grupoCaelum-column-list\"><li\\nclass=\"column-item\">\\n<a\\ntarget=\"_blank\" href=\"https://www.caelum.com.br\">\\n<svg\\nclass=\"column-item-logo\">\\n<use\\nxlink:href=\"/svg,1647533642/caelumFooter#icon-caelumFooter-novo-logo-caelum\">\\n<span\\nclass=\"column-item-title\">Caelum</span>\\n</svg>\\n</a></li><li\\nclass=\"column-item\">\\n<a\\ntarget=\"_blank\" href=\"https://www.casadocodigo.com.br\">\\n<svg\\nclass=\"column-item-logo\"><use\\nxlink:href=\"/svg,1647533642/caelumFooter#icon-caelumFooter-cdc\"><span\\nclass=\"column-item-title\">Casa do C\\xc3\\xb3digo</span></svg>\\n</a></li></ul></li><li\\nclass=\"grupoCaelum-column\"><p\\nclass=\"grupoCaelum-column-title\">Educa\\xc3\\xa7\\xc3\\xa3o Online</p><ul\\nclass=\"grupoCaelum-column-list\"><li\\nclass=\"column-item\">\\n<a\\ntarget=\"_blank\" href=\"https://www.alura.com.br\">\\n<svg\\nclass=\"column-item-logo\"><use\\nxlink:href=\"/svg,1647533642/caelumFooter#icon-caelumFooter-alura\"><span\\nclass=\"column-item-title\">Alura</span></svg>\\n</a></li><li\\nclass=\"column-item\">\\n<a\\ntarget=\"_blank\" href=\"https://www.alura.com.br/empresas\">\\n<svg\\nclass=\"column-item-logo\" style=\"fill: white;\"><use\\nxlink:href=\"/svg,1647533642/caelumFooter#icon-caelumFooter-alura\"><span\\nclass=\"column-item-title\">Alura Para Empresas</span></svg>\\n</a></li><li\\nclass=\"column-item\">\\n<a\\ntarget=\"_blank\" href=\"https://www.aluracursos.com\">\\n<svg\\nclass=\"column-item-logo\"><use\\nxlink:href=\"/svg,1647533642/caelumFooter#icon-caelumFooter-alura\"><span\\nclass=\"column-item-title\">Alura LATAM</span></svg>\\n</a></li><li\\nclass=\"column-item\">\\n<a\\ntarget=\"_blank\" href=\"https://www.alurastart.com.br\">\\n<svg\\nclass=\"column-item-logo\"><use\\nxlink:href=\"/svg,1647533642/caelumFooter#icon-caelumFooter-alurastart\"><span\\nclass=\"column-item-title\">Alura Start</span></svg>\\n</a></li><li\\nclass=\"column-item\">\\n<a\\ntarget=\"_blank\" href=\"https://www.musicdot.com.br\">\\n<svg\\nclass=\"column-item-logo\"><use\\nxlink:href=\"/svg,1647533642/caelumFooter#icon-caelumFooter-musicdot\"><span\\nclass=\"column-item-title\">MusicDot</span></svg>\\n</a></li><li\\nclass=\"column-item\">\\n<a\\ntarget=\"_blank\" href=\"https://www.aluralingua.com.br\">\\n<svg\\nclass=\"column-item-logo\"><use\\nxlink:href=\"/svg,1647533642/caelumFooter#icon-caelumFooter-aluralingua\"><span\\nclass=\"column-item-title\">Alura L\\xc3\\xadngua</span></svg>\\n</a></li><li\\nclass=\"column-item\">\\n<a\\ntarget=\"_blank\" style=\"fill: #657176\" href=\"https://www.cursospm3.com.br/\">\\n<svg\\nclass=\"column-item-logo\"><use\\nxlink:href=\"/svg,1647533642/caelumFooter#icon-caelumFooter-pm3\"><span\\nclass=\"column-item-title\">PM3 - Cursos de Produto</span></svg>\\n</a></li></ul></li><li\\nclass=\"grupoCaelum-column\"><p\\nclass=\"grupoCaelum-column-title\">Comunidade</p><ul\\nclass=\"grupoCaelum-column-list\"><li\\nclass=\"column-item\">\\n<a\\ntarget=\"_blank\" href=\"https://hipsters.tech\">\\n<svg\\nclass=\"column-item-logo\"><use\\nxlink:href=\"/svg,1647533642/caelumFooter#icon-caelumFooter-hipsterstech\"><span\\nclass=\"column-item-title\">Hipsters ponto Tech</span></svg>\\n</a></li><li\\nclass=\"column-item\">\\n<a\\ntarget=\"_blank\" href=\"https://scuba.dev.br\">\\n<svg\\nclass=\"column-item-logo\" style=\"fill: #657176\"><use\\nxlink:href=\"/svg,1647533642/caelumFooter#icon-caelumFooter-scubadev\"><span\\nclass=\"column-item-title\">Scuba Dev</span></svg>\\n</a></li><li\\nclass=\"column-item\">\\n<a\\ntarget=\"_blank\" href=\"https://layerspontotech.com.br\">\\n<svg\\nclass=\"column-item-logo\"><use\\nxlink:href=\"/svg,1647533642/caelumFooter#icon-caelumFooter-layerstech\"><span\\nclass=\"column-item-title\">Layers ponto Tech</span></svg>\\n</a></li><li\\nclass=\"column-item\">\\n<a\\ntarget=\"_blank\" href=\"https://likeaboss.com.br\">\\n<svg\\nclass=\"column-item-logo\" style=\"fill: #657176\"><use\\nxlink:href=\"/svg,1647533642/caelumFooter#icon-caelumFooter-likeaboss\"><span\\nclass=\"column-item-title\">Like a Boss</span></svg>\\n</a></li><li\\nclass=\"column-item\">\\n<a\\ntarget=\"_blank\" href=\"https://www.carreirasemfronteiras.com.br\">\\n<svg\\nclass=\"column-item-logo\" style=\"fill: #657176\"><use\\nxlink:href=\"/svg,1647533642/caelumFooter#icon-caelumFooter-carreira-sem-fronteiras\"><span\\nclass=\"column-item-title\">Carreira sem Fronteiras</span></svg>\\n</a></li><li\\nclass=\"column-item\">\\n<a\\ntarget=\"_blank\" href=\"https://hipsters.jobs\">\\n<svg\\nclass=\"column-item-logo\"><use\\nxlink:href=\"/svg,1647533642/caelumFooter#icon-caelumFooter-hipstersjobs\"><span\\nclass=\"column-item-title\">Hipsters ponto Jobs</span></svg>\\n</a></li><li\\nclass=\"column-item\">\\n<a\\ntarget=\"_blank\" href=\"https://www.guj.com.br\">\\n<svg\\nclass=\"column-item-logo\"><use\\nxlink:href=\"/svg,1647533642/caelumFooter#icon-caelumFooter-guj\"><span\\nclass=\"column-item-title\">GUJ</span></svg>\\n</a></li></ul></li></ul></div></div></footer> <script>(function(){\\n    var match = location.pathname.match(/\\\\/(bf-|black-?friday\\\\/)([^\\\\/]+)/);\\n    if (match != null) {\\n        var links = document.querySelectorAll(\\'a[href]\\');\\n        for (var i = 0; i < links.length; i++) {\\n            var href = links[i].getAttribute(\\'href\\');\\n            if (href[0] === \\'/\\') {\\n                links[i].setAttribute(\\'href\\', \\'/bf-\\' + match[2] + href);\\n            }\\n        }\\n    }\\n})();</script> <script src=\"https://ajax.googleapis.com/ajax/libs/jquery/3.6.0/jquery.min.js\"></script> <script src=\"/assets/js/lib/svg4everybody.min.1647533644.js\" async></script> <script src=\"/assets/js/header/menu.1647533644.js\" async></script> <script src=\"/assets/js/header/busca.1647533644.js\" async></script> <script src=\"/assets/js/header/cursos.1647533644.js\" async></script> <script src=\"/assets/js/detect.1647533644.js\" async></script> <script src=\"/assets/js/video.1647533644.js\" async></script> <script src=\"/assets/js/Countdown.1647533644.js\" async></script> <script>var userId = (document.cookie.match(\\'alura.userId=([^;]+)\\')||[null,null])[1];\\n  window.ga=window.ga||function(){(ga.q=ga.q||[]).push(arguments)};ga.l=+new Date;\\n\\n  \\tga(\\'create\\', \\'UA-42101548-1\\', \\'alura.com.br\\', \\'tracker0\\', {\\'siteSpeedSampleRate\\': 50});\\n\\n\\tif (userId) ga(\\'tracker0.set\\', \\'userId\\', userId);\\n\\n\\tga(\\'tracker0.require\\', \\'displayfeatures\\');\\n\\tga(\\'tracker0.send\\', \\'pageview\\');\\n  \\tga(\\'create\\', \\'UA-42101548-9\\', \\'alura.com.br\\', \\'tracker1\\', {\\'siteSpeedSampleRate\\': 50});\\n\\n\\tif (userId) ga(\\'tracker1.set\\', \\'userId\\', userId);\\n\\n\\tga(\\'tracker1.require\\', \\'displayfeatures\\');\\n\\tga(\\'tracker1.send\\', \\'pageview\\');</script> <script async src=\\'//www.google-analytics.com/analytics.js\\'></script> <script src=\"/assets/js/footer/footer.1647533644.js\" async></script> <script src=\"//cdnjs.cloudflare.com/ajax/libs/highlight.js/10.4.0/highlight.min.js\"></script> <script>hljs.initHighlightingOnLoad();</script> <script src=\"https://static.criteo.net/js/ld/ld.js\" async></script> <script>function criteoPush(event, data){\\n\\t\\tvar isAluno = document.cookie.match(\\'alura.userId=([^;]+)\\') != null;\\n\\t\\tif(isAluno) return;\\n\\n\\t\\twindow.criteo_q = window.criteo_q || [];\\n\\t\\t\\n\\t\\tif (event == \\'viewHome\\')\\n\\t\\t\\tvar dt = { event: event}\\n\\t\\telse\\n\\t\\t\\tvar dt = { event: event, item: data};\\n\\n\\t\\twindow.criteo_q.push(\\n\\t\\t\\t{ event: \"setAccount\", account: 28037 },\\n\\t\\t\\t{ event: \"setEmail\", email: \"\" },\\n\\t\\t\\t{ event: \"setSiteType\", type: (/iPad/.test(navigator.userAgent) ? \"t\" : (/Mobile|iP(hone|od)|Android|BlackBerry|IEMobile/.test(navigator.userAgent) ? \"m\" : \"d\")) },\\n\\t\\t\\tdt\\n\\t\\t);\\t\\n\\t};\\n\\n\\t\\t\\tcriteoPush(\"viewHome\", \"\");\\n\\t\\t\\n\\t\\tvar criteoIdEl = document.querySelector(\\'[data-criteo-id]\\');\\n\\tif (criteoIdEl) {\\n        var products = JSON.parse(criteoIdEl.dataset.criteoId);\\n        var planos = document.querySelectorAll(\\'[data-payment-plan]\\');\\n\\n        planos.forEach(function (plano) {\\n            plano.addEventListener(\\'click\\', function (event) {\\n\\t\\t\\t\\tvar price = plano.dataset.paymentPlanPrice;\\n                var totalProducts = products.length;\\n\\t\\t\\t\\tvar productIds = \\'\\';\\n\\n                for(var i = 0; i < totalProducts; i++){\\n                    products[i][\\'price\\'] = price;\\n                    products[i][\\'quantity\\'] = 1;\\n\\t\\t\\t\\t\\tproductIds += \\',\\' + products[i][\\'id\\'];\\n                }\\n\\n\\t\\t\\t\\tproductIds = productIds.substr(1);\\n\\n\\t\\t\\t\\t// monta cookie pro Cart indicando quais cursos foram clicados\\n        \\t\\tdocument.cookie = \"criteo.productIds=\" + productIds + \"; path=/; domain=.alura.com.br\";\\n\\n\\t\\t\\t\\t// manda pro criteo\\n                criteoPush(\"viewBasket\", products);\\n            });\\n        });\\n\\n\\n\\t}</script> <script>(function(h,o,t,j,a,r){\\n        h.hj=h.hj||function(){(h.hj.q=h.hj.q||[]).push(arguments)};\\n        h._hjSettings={hjid:1029027,hjsv:6};\\n        a=o.getElementsByTagName(\\'head\\')[0];\\n        r=o.createElement(\\'script\\');r.async=1;\\n        r.src=t+h._hjSettings.hjid+j+h._hjSettings.hjsv;\\n        a.appendChild(r);\\n    })(window,document,\\'https://static.hotjar.com/c/hotjar-\\',\\'.js?sv=\\');</script> <script type=\"text/javascript\">_linkedin_partner_id = \"465017\";\\n\\t\\t\\twindow._linkedin_data_partner_ids = window._linkedin_data_partner_ids || [];\\n\\t\\t\\twindow._linkedin_data_partner_ids.push(_linkedin_partner_id);</script> <script type=\"text/javascript\">(function(){var s = document.getElementsByTagName(\"script\")[0];\\n\\t\\t\\tvar b = document.createElement(\"script\");\\n\\t\\t\\tb.type = \"text/javascript\";b.async = true;\\n\\t\\t\\tb.src = \"https://snap.licdn.com/li.lms-analytics/insight.min.js\";\\n\\t\\t\\ts.parentNode.insertBefore(b, s);})();</script> <noscript>\\n<img\\nheight=\"1\" width=\"1\" style=\"display:none;\" alt=\"\"\\nsrc=\"https://dc.ads.linkedin.com/collect/?pid=465017&fmt=gif\" />\\n</noscript> <script src=\"/assets/js/home/animations.js\" async></script> <script src=\"/assets/js/comunidade/depoimentos.1647533644.js\" async></script> <script src=\"/assets/js/artigos/glider.min.1647533644.js\" async></script> <script src=\"/assets/js/home/slideCases.1647533644.js\" async></script> </body></html>'\n"
          ]
        }
      ]
    },
    {
      "cell_type": "markdown",
      "source": [
        "Great! Everything worked out fine."
      ],
      "metadata": {
        "id": "kpr1-WUXLbvR"
      }
    },
    {
      "cell_type": "code",
      "source": [
        "%reset -f"
      ],
      "metadata": {
        "id": "l7_pVvSHND_I"
      },
      "execution_count": 31,
      "outputs": []
    },
    {
      "cell_type": "markdown",
      "source": [
        "## Treating our string"
      ],
      "metadata": {
        "id": "Z9lCh1PGMz_J"
      }
    },
    {
      "cell_type": "markdown",
      "source": [
        "Ok, so we were able to read our html using:"
      ],
      "metadata": {
        "id": "LCe_50kLM5Ph"
      }
    },
    {
      "cell_type": "code",
      "source": [
        "from urllib.request import urlopen\n",
        "\n",
        "url = 'https://alura-site-scraping.herokuapp.com/index.php'\n",
        "\n",
        "response = urlopen(url)\n",
        "html = response.read( )\n",
        "html"
      ],
      "metadata": {
        "colab": {
          "base_uri": "https://localhost:8080/"
        },
        "id": "N-8Dso8bLXiN",
        "outputId": "6e50e600-6f21-41e0-8a67-17de1e6cadfe"
      },
      "execution_count": 32,
      "outputs": [
        {
          "output_type": "execute_result",
          "data": {
            "text/plain": [
              "b'<!DOCTYPE html>\\r\\n<html lang=\"pt-br\">\\r\\n<head>\\r\\n    <meta charset=\"utf-8\">\\r\\n    <meta name=\"viewport\" content=\"width=device-width, initial-scale=1, shrink-to-fit=no\">\\r\\n\\r\\n    <title>Alura Motors</title>\\r\\n\\r\\n\\t<style>\\r\\n\\t\\t/*Regra para a animacao*/\\r\\n\\t\\t@keyframes spin {\\r\\n\\t\\t\\t0% { transform: rotate(0deg); }\\r\\n\\t\\t\\t100% { transform: rotate(360deg); }\\r\\n\\t\\t}\\r\\n\\t\\t/*Mudando o tamanho do icone de resposta*/\\r\\n\\t\\tdiv.glyphicon {\\r\\n\\t\\t\\tcolor:#6B8E23;\\r\\n\\t\\t\\tfont-size: 38px;\\r\\n\\t\\t}\\r\\n\\t\\t/*Classe que mostra a animacao \\'spin\\'*/\\r\\n\\t\\t.loader {\\r\\n\\t\\t\\tborder: 16px solid #f3f3f3;\\r\\n\\t\\t\\tborder-radius: 50%;\\r\\n\\t\\t\\tborder-top: 16px solid #3498db;\\r\\n\\t\\t\\twidth: 80px;\\r\\n\\t\\t\\theight: 80px;\\r\\n\\t\\t\\t-webkit-animation: spin 2s linear infinite;\\r\\n\\t\\t\\tanimation: spin 2s linear infinite;\\r\\n\\t\\t}\\r\\n\\t</style>\\r\\n\\t<link rel=\"stylesheet\" href=\"https://maxcdn.bootstrapcdn.com/bootstrap/3.3.7/css/bootstrap.min.css\" integrity=\"sha384-BVYiiSIFeK1dGmJRAkycuHAHRg32OmUcww7on3RYdg4Va+PmSTsz/K68vbdEjh4u\" crossorigin=\"anonymous\">\\r\\n\\t<link rel=\"stylesheet\" href=\"css/styles.css\" media=\"all\">\\r\\n\\r\\n\\t<script src=\"https://code.jquery.com/jquery-1.12.4.js\"></script>\\r\\n\\t<script src=\"https://maxcdn.bootstrapcdn.com/bootstrap/3.3.7/js/bootstrap.min.js\" integrity=\"sha384-Tc5IQib027qvyjSMfHjOMaLkfuWVxZxUPnCJA7l2mCWNIpG9mGCD8wGNIcPD7Txa\" crossorigin=\"anonymous\"></script>\\r\\n\\t<script type=\"text/javascript\" src=\"js/index.js\"></script>\\r\\n\\t<script>\\r\\n\\t\\trequisitar(\"https://alura-scraping.herokuapp.com/produtos?_page=\"+1+\"&_limit=10\")\\r\\n\\t</script>\\r\\n\\r\\n</head>\\r\\n<body cz-shortcut-listen=\"true\">\\r\\n    <noscript>You need to enable JavaScript to run this app.</noscript>\\r\\n\\r\\n\\t<div class=\"modal fade\" data-backdrop=\"static\" id=\"loadingModal\" tabindex=\"-1\" role=\"dialog\" aria-labelledby=\"loadingModal_label\">\\r\\n\\t\\t<div class=\"modal-dialog\" role=\"document\">\\r\\n\\t\\t\\t<div class=\"modal-content\">\\r\\n\\t\\t\\t\\t<div class=\"modal-header\">\\r\\n\\t\\t\\t\\t\\t<h5 class=\"modal-title\" id=\"loadingModal_label\">\\r\\n\\t\\t\\t\\t\\t\\t<span class=\"glyphicon glyphicon-refresh\"></span>Aguarde...\\r\\n\\t\\t\\t\\t\\t</h5>\\r\\n\\t\\t\\t\\t</div>\\r\\n\\t\\t\\t\\t<div class=\"modal-body\">\\r\\n\\t\\t\\t\\t\\t<div class=\\'alert\\' role=\\'alert\\'>\\r\\n\\t\\t\\t\\t\\t\\t<center>\\r\\n\\t\\t\\t\\t\\t\\t\\t<div class=\"loader\" id=\"loader\"></div><br>\\r\\n\\t\\t\\t\\t\\t\\t\\t<h4><b id=\"loadingModal_content\"></b></h4>\\r\\n\\t\\t\\t\\t\\t\\t</center>\\r\\n\\t\\t\\t\\t\\t</div>\\r\\n\\t\\t\\t\\t</div>\\r\\n\\t\\t\\t</div>\\r\\n\\t\\t</div>\\r\\n\\t</div>\\r\\n\\r\\n    <div id=\"root\">\\r\\n\\t\\t<header>\\r\\n\\t\\t\\t<nav class=\"navbar navbar-inverse\" style=\"margin-bottom: 0;\">\\r\\n\\t\\t\\t\\t<div class=\"container\" style=\"margin-bottom: -20px;\">\\r\\n\\t\\t\\t\\t\\t<div class=\"navbar\">\\r\\n\\t\\t\\t\\t\\t\\t<a href=\"./index.php\" class=\"navbar-brand\" title=\"Alura Motors\">\\r\\n\\t\\t\\t\\t\\t\\t\\t<img src=\"img/alura-logo.svg\" class=\"d-inline-block align-top\" alt=\"Alura\">Motors\\r\\n\\t\\t\\t\\t\\t\\t</a>\\r\\n\\t\\t\\t\\t\\t\\t<ul class=\"nav navbar-nav\" style=\"margin-top: 35px;\">\\r\\n\\t\\t\\t\\t\\t\\t\\t<li><a href=\"./hello-world.php\">Hello World</a></li>\\r\\n\\t\\t\\t\\t\\t\\t\\t<li><a href=\"./index.php\">An\\xc3\\xbancios</a></li>\\r\\n\\t\\t\\t\\t\\t\\t</ul>\\r\\n\\t\\t\\t\\t\\t</div>\\r\\n\\t\\t\\t\\t</div>\\r\\n\\t\\t\\t</nav>\\r\\n\\t\\t</header>\\r\\n\\r\\n\\t\\t<div class=\"container\">\\r\\n\\t\\t\\t<h1 class=\"sub-header\">Ve\\xc3\\xadculos de Luxo Novos e Usados - Todas as Marcas</h1>\\r\\n\\t\\t\\t<div class=\"row\">\\r\\n\\t\\t\\t\\t<div class=\"col-md-12\">\\r\\n\\t\\t\\t\\t\\t<div class=\"container\" style=\"width: 100%\">\\r\\n\\t\\t\\t\\t\\t\\t<div class=\"type-select\">246 ve\\xc3\\xadculos encontrados</div>\\r\\n\\t\\t\\t\\t\\t\\t\\t<div class=\"container-pagination\" style=\"float: right\">\\r\\n\\t\\t\\t\\t\\t\\t\\t\\t<span class=\"info-pages\">P\\xc3\\xa1gina 1 de 25</span>\\r\\n\\t\\t\\t\\t\\t\\t\\t</div>\\r\\n\\t\\t\\t\\t\\t\\t</div>\\r\\n\\t\\t\\t\\t\\t\\t<div id=\"container-cards\" style=\"height: 100%\">\\r\\n\\t\\t\\t\\t\\t\\t\\t\\r\\n                <div class=\"well card\">\\r\\n                    <div class=\"col-md-3 image-card\">\\r\\n                        <img width=\"220\" height=\"155\" alt=\"Foto\" src=\"https://caelum-online-public.s3.amazonaws.com/1381-scraping/01/img-cars/lamborghini-aventador/lamborghini-aventador-2932196__340.jpg\">\\r\\n                    </div>\\r\\n                    <div class=\"col-md-6 body-card\">\\r\\n                        <p class=\"txt-name inline\">LAMBORGHINI AVENTADOR</p>\\r\\n                            <p class=\"txt-category badge badge-secondary inline\">USADO</p>\\r\\n                            \\r\\n                        <p class=\"txt-motor\">Motor 1.8 16v</p>\\r\\n                        <p class=\"txt-description\">Ano 1993 - 55.286 km</p>\\r\\n                        <ul class=\"lst-items\">\\r\\n                            <li class=\"txt-items\">\\xe2\\x96\\xba 4 X 4</li>\\r\\n                            <li class=\"txt-items\">\\xe2\\x96\\xba C\\xc3\\xa2mera de estacionamento</li>\\r\\n                            <li class=\"txt-items\">\\xe2\\x96\\xba Controle de tra\\xc3\\xa7\\xc3\\xa3o</li>\\r\\n                            <li class=\"txt-items\">\\xe2\\x96\\xba Sensor de estacionamento</li>\\r\\n                            <li class=\"txt-items\">...</li>\\r\\n                        </ul>\\r\\n                        <p class=\"txt-location\">Belo Horizonte - MG</p>\\r\\n                    </div>\\r\\n                    <div class=\"col-md-3 value-card\">\\r\\n                        <div class=\"value\">\\r\\n                            <p class=\"txt-value\">R$ 338.000</p>\\r\\n                        </div>\\r\\n                    </div>\\r\\n                </div>\\r\\n                <div class=\"well card\">\\r\\n                    <div class=\"col-md-3 image-card\">\\r\\n                        <img width=\"220\" height=\"155\" alt=\"Foto\" src=\"https://caelum-online-public.s3.amazonaws.com/1381-scraping/01/img-cars/bmw-m2/bmw-m2-2970882__340.jpg\">\\r\\n                    </div>\\r\\n                    <div class=\"col-md-6 body-card\">\\r\\n                        <p class=\"txt-name inline\">BMW M2</p>\\r\\n                            <p class=\"txt-category badge badge-secondary inline\">USADO</p>\\r\\n                            \\r\\n                        <p class=\"txt-motor\">Motor 3.0 32v</p>\\r\\n                        <p class=\"txt-description\">Ano 2018 - 83.447 km</p>\\r\\n                        <ul class=\"lst-items\">\\r\\n                            <li class=\"txt-items\">\\xe2\\x96\\xba C\\xc3\\xa2mera de estacionamento</li>\\r\\n                            <li class=\"txt-items\">\\xe2\\x96\\xba Controle de estabilidade</li>\\r\\n                            <li class=\"txt-items\">\\xe2\\x96\\xba Travas el\\xc3\\xa9tricas</li>\\r\\n                            <li class=\"txt-items\">\\xe2\\x96\\xba Freios ABS</li>\\r\\n                            <li class=\"txt-items\">...</li>\\r\\n                        </ul>\\r\\n                        <p class=\"txt-location\">Belo Horizonte - MG</p>\\r\\n                    </div>\\r\\n                    <div class=\"col-md-3 value-card\">\\r\\n                        <div class=\"value\">\\r\\n                            <p class=\"txt-value\">R$ 346.000</p>\\r\\n                        </div>\\r\\n                    </div>\\r\\n                </div>\\r\\n                <div class=\"well card\">\\r\\n                    <div class=\"col-md-3 image-card\">\\r\\n                        <img width=\"220\" height=\"155\" alt=\"Foto\" src=\"https://caelum-online-public.s3.amazonaws.com/1381-scraping/01/img-cars/alfa/alfa-1823056__340.jpg\">\\r\\n                    </div>\\r\\n                    <div class=\"col-md-6 body-card\">\\r\\n                        <p class=\"txt-name inline\">ALFA</p>\\r\\n                            <p class=\"txt-category badge badge-secondary inline\">USADO</p>\\r\\n                            \\r\\n                        <p class=\"txt-motor\">Motor 1.8 16v</p>\\r\\n                        <p class=\"txt-description\">Ano 2004 - 19.722 km</p>\\r\\n                        <ul class=\"lst-items\">\\r\\n                            <li class=\"txt-items\">\\xe2\\x96\\xba Central multim\\xc3\\xaddia</li>\\r\\n                            <li class=\"txt-items\">\\xe2\\x96\\xba Bancos de couro</li>\\r\\n                            <li class=\"txt-items\">\\xe2\\x96\\xba Rodas de liga</li>\\r\\n                            <li class=\"txt-items\">\\xe2\\x96\\xba C\\xc3\\xa2mera de estacionamento</li>\\r\\n                            <li class=\"txt-items\">...</li>\\r\\n                        </ul>\\r\\n                        <p class=\"txt-location\">Rio de Janeiro - RJ</p>\\r\\n                    </div>\\r\\n                    <div class=\"col-md-3 value-card\">\\r\\n                        <div class=\"value\">\\r\\n                            <p class=\"txt-value\">R$ 480.000</p>\\r\\n                        </div>\\r\\n                    </div>\\r\\n                </div>\\r\\n                <div class=\"well card\">\\r\\n                    <div class=\"col-md-3 image-card\">\\r\\n                        <img width=\"220\" height=\"155\" alt=\"Foto\" src=\"https://caelum-online-public.s3.amazonaws.com/1381-scraping/01/img-cars/puech/puech-4055386__340.jpg\">\\r\\n                    </div>\\r\\n                    <div class=\"col-md-6 body-card\">\\r\\n                        <p class=\"txt-name inline\">PUECH</p>\\r\\n                            <p class=\"txt-category badge badge-secondary inline\">USADO</p>\\r\\n                            \\r\\n                        <p class=\"txt-motor\">Motor Diesel V8</p>\\r\\n                        <p class=\"txt-description\">Ano 1992 - 34.335 km</p>\\r\\n                        <ul class=\"lst-items\">\\r\\n                            <li class=\"txt-items\">\\xe2\\x96\\xba Bancos de couro</li>\\r\\n                            <li class=\"txt-items\">\\xe2\\x96\\xba Freios ABS</li>\\r\\n                            <li class=\"txt-items\">\\xe2\\x96\\xba Rodas de liga</li>\\r\\n                            <li class=\"txt-items\">\\xe2\\x96\\xba C\\xc3\\xa2mbio autom\\xc3\\xa1tico</li>\\r\\n                            <li class=\"txt-items\">...</li>\\r\\n                        </ul>\\r\\n                        <p class=\"txt-location\">S\\xc3\\xa3o Paulo - SP</p>\\r\\n                    </div>\\r\\n                    <div class=\"col-md-3 value-card\">\\r\\n                        <div class=\"value\">\\r\\n                            <p class=\"txt-value\">R$ 133.000</p>\\r\\n                        </div>\\r\\n                    </div>\\r\\n                </div>\\r\\n                <div class=\"well card\">\\r\\n                    <div class=\"col-md-3 image-card\">\\r\\n                        <img width=\"220\" height=\"155\" alt=\"Foto\" src=\"https://caelum-online-public.s3.amazonaws.com/1381-scraping/01/img-cars/lamborghini-murcielago/lamborghini-murcielago-2872974__340.jpg\">\\r\\n                    </div>\\r\\n                    <div class=\"col-md-6 body-card\">\\r\\n                        <p class=\"txt-name inline\">LAMBORGHINI MURCIELAGO</p>\\r\\n                            <p class=\"txt-category badge badge-secondary inline\">USADO</p>\\r\\n                            \\r\\n                        <p class=\"txt-motor\">Motor 1.0 8v</p>\\r\\n                        <p class=\"txt-description\">Ano 1991 - 464 km</p>\\r\\n                        <ul class=\"lst-items\">\\r\\n                            <li class=\"txt-items\">\\xe2\\x96\\xba Central multim\\xc3\\xaddia</li>\\r\\n                            <li class=\"txt-items\">\\xe2\\x96\\xba Teto panor\\xc3\\xa2mico</li>\\r\\n                            <li class=\"txt-items\">\\xe2\\x96\\xba Sensor crepuscular</li>\\r\\n                            <li class=\"txt-items\">\\xe2\\x96\\xba Piloto autom\\xc3\\xa1tico</li>\\r\\n                            <li class=\"txt-items\">...</li>\\r\\n                        </ul>\\r\\n                        <p class=\"txt-location\">Belo Horizonte - MG</p>\\r\\n                    </div>\\r\\n                    <div class=\"col-md-3 value-card\">\\r\\n                        <div class=\"value\">\\r\\n                            <p class=\"txt-value\">R$ 175.000</p>\\r\\n                        </div>\\r\\n                    </div>\\r\\n                </div>\\r\\n                <div class=\"well card\">\\r\\n                    <div class=\"col-md-3 image-card\">\\r\\n                        <img width=\"220\" height=\"155\" alt=\"Foto\" src=\"https://caelum-online-public.s3.amazonaws.com/1381-scraping/01/img-cars/aston-martin/aston-martin-2977916__340.jpg\">\\r\\n                    </div>\\r\\n                    <div class=\"col-md-6 body-card\">\\r\\n                        <p class=\"txt-name inline\">ASTON MARTIN</p>\\r\\n                            <p class=\"txt-category badge badge-secondary inline\">USADO</p>\\r\\n                            <p class=\"txt-opportunity badge badge-danger inline\">OPORTUNIDADE</p>\\r\\n                        <p class=\"txt-motor\">Motor Diesel V6</p>\\r\\n                        <p class=\"txt-description\">Ano 2004 - 50.189 km</p>\\r\\n                        <ul class=\"lst-items\">\\r\\n                            <li class=\"txt-items\">\\xe2\\x96\\xba Painel digital</li>\\r\\n                            <li class=\"txt-items\">\\xe2\\x96\\xba Controle de tra\\xc3\\xa7\\xc3\\xa3o</li>\\r\\n                            <li class=\"txt-items\">\\xe2\\x96\\xba Teto panor\\xc3\\xa2mico</li>\\r\\n                            <li class=\"txt-items\">\\xe2\\x96\\xba Central multim\\xc3\\xaddia</li>\\r\\n                            <li class=\"txt-items\">...</li>\\r\\n                        </ul>\\r\\n                        <p class=\"txt-location\">Belo Horizonte - MG</p>\\r\\n                    </div>\\r\\n                    <div class=\"col-md-3 value-card\">\\r\\n                        <div class=\"value\">\\r\\n                            <p class=\"txt-value\">R$ 239.000</p>\\r\\n                        </div>\\r\\n                    </div>\\r\\n                </div>\\r\\n                <div class=\"well card\">\\r\\n                    <div class=\"col-md-3 image-card\">\\r\\n                        <img width=\"220\" height=\"155\" alt=\"Foto\" src=\"https://caelum-online-public.s3.amazonaws.com/1381-scraping/01/img-cars/tvr/tvr-2943925__340.jpg\">\\r\\n                    </div>\\r\\n                    <div class=\"col-md-6 body-card\">\\r\\n                        <p class=\"txt-name inline\">TVR</p>\\r\\n                            <p class=\"txt-category badge badge-secondary inline\">USADO</p>\\r\\n                            \\r\\n                        <p class=\"txt-motor\">Motor 4.0 Turbo</p>\\r\\n                        <p class=\"txt-description\">Ano 2014 - 17.778 km</p>\\r\\n                        <ul class=\"lst-items\">\\r\\n                            <li class=\"txt-items\">\\xe2\\x96\\xba 4 X 4</li>\\r\\n                            <li class=\"txt-items\">\\xe2\\x96\\xba Teto panor\\xc3\\xa2mico</li>\\r\\n                            <li class=\"txt-items\">\\xe2\\x96\\xba Central multim\\xc3\\xaddia</li>\\r\\n                            <li class=\"txt-items\">\\xe2\\x96\\xba Controle de estabilidade</li>\\r\\n                            <li class=\"txt-items\">...</li>\\r\\n                        </ul>\\r\\n                        <p class=\"txt-location\">Belo Horizonte - MG</p>\\r\\n                    </div>\\r\\n                    <div class=\"col-md-3 value-card\">\\r\\n                        <div class=\"value\">\\r\\n                            <p class=\"txt-value\">R$ 115.000</p>\\r\\n                        </div>\\r\\n                    </div>\\r\\n                </div>\\r\\n                <div class=\"well card\">\\r\\n                    <div class=\"col-md-3 image-card\">\\r\\n                        <img width=\"220\" height=\"155\" alt=\"Foto\" src=\"https://caelum-online-public.s3.amazonaws.com/1381-scraping/01/img-cars/excalibur/excalibur-2916730__340.jpg\">\\r\\n                    </div>\\r\\n                    <div class=\"col-md-6 body-card\">\\r\\n                        <p class=\"txt-name inline\">EXCALIBUR</p>\\r\\n                            <p class=\"txt-category badge badge-secondary inline\">USADO</p>\\r\\n                            \\r\\n                        <p class=\"txt-motor\">Motor 3.0 32v</p>\\r\\n                        <p class=\"txt-description\">Ano 2009 - 81.251 km</p>\\r\\n                        <ul class=\"lst-items\">\\r\\n                            <li class=\"txt-items\">\\xe2\\x96\\xba Painel digital</li>\\r\\n                            <li class=\"txt-items\">\\xe2\\x96\\xba C\\xc3\\xa2mbio autom\\xc3\\xa1tico</li>\\r\\n                            <li class=\"txt-items\">\\xe2\\x96\\xba Sensor de chuva</li>\\r\\n                            <li class=\"txt-items\">\\xe2\\x96\\xba Travas el\\xc3\\xa9tricas</li>\\r\\n                            <li class=\"txt-items\">...</li>\\r\\n                        </ul>\\r\\n                        <p class=\"txt-location\">Rio de Janeiro - RJ</p>\\r\\n                    </div>\\r\\n                    <div class=\"col-md-3 value-card\">\\r\\n                        <div class=\"value\">\\r\\n                            <p class=\"txt-value\">R$ 114.000</p>\\r\\n                        </div>\\r\\n                    </div>\\r\\n                </div>\\r\\n                <div class=\"well card\">\\r\\n                    <div class=\"col-md-3 image-card\">\\r\\n                        <img width=\"220\" height=\"155\" alt=\"Foto\" src=\"https://caelum-online-public.s3.amazonaws.com/1381-scraping/01/img-cars/mclaren/mclaren-2855240__340.jpg\">\\r\\n                    </div>\\r\\n                    <div class=\"col-md-6 body-card\">\\r\\n                        <p class=\"txt-name inline\">MCLAREN</p>\\r\\n                            <p class=\"txt-category badge badge-secondary inline\">NOVO</p>\\r\\n                            \\r\\n                        <p class=\"txt-motor\">Motor Diesel</p>\\r\\n                        <p class=\"txt-description\">Ano 2019 - 0 km</p>\\r\\n                        <ul class=\"lst-items\">\\r\\n                            <li class=\"txt-items\">\\xe2\\x96\\xba Central multim\\xc3\\xaddia</li>\\r\\n                            <li class=\"txt-items\">\\xe2\\x96\\xba C\\xc3\\xa2mera de estacionamento</li>\\r\\n                            <li class=\"txt-items\">\\xe2\\x96\\xba C\\xc3\\xa2mbio autom\\xc3\\xa1tico</li>\\r\\n                            <li class=\"txt-items\">\\xe2\\x96\\xba Ar condicionado</li>\\r\\n                            <li class=\"txt-items\">...</li>\\r\\n                        </ul>\\r\\n                        <p class=\"txt-location\">S\\xc3\\xa3o Paulo - SP</p>\\r\\n                    </div>\\r\\n                    <div class=\"col-md-3 value-card\">\\r\\n                        <div class=\"value\">\\r\\n                            <p class=\"txt-value\">R$ 75.000</p>\\r\\n                        </div>\\r\\n                    </div>\\r\\n                </div>\\r\\n                <div class=\"well card\">\\r\\n                    <div class=\"col-md-3 image-card\">\\r\\n                        <img width=\"220\" height=\"155\" alt=\"Foto\" src=\"https://caelum-online-public.s3.amazonaws.com/1381-scraping/01/img-cars/toyota/toyota-3245397__340.jpg\">\\r\\n                    </div>\\r\\n                    <div class=\"col-md-6 body-card\">\\r\\n                        <p class=\"txt-name inline\">TOYOTA</p>\\r\\n                            <p class=\"txt-category badge badge-secondary inline\">USADO</p>\\r\\n                            <p class=\"txt-opportunity badge badge-danger inline\">OPORTUNIDADE</p>\\r\\n                        <p class=\"txt-motor\">Motor 4.0 Turbo</p>\\r\\n                        <p class=\"txt-description\">Ano 1999 - 12.536 km</p>\\r\\n                        <ul class=\"lst-items\">\\r\\n                            <li class=\"txt-items\">\\xe2\\x96\\xba Bancos de couro</li>\\r\\n                            <li class=\"txt-items\">\\xe2\\x96\\xba Freios ABS</li>\\r\\n                            <li class=\"txt-items\">\\xe2\\x96\\xba Piloto autom\\xc3\\xa1tico</li>\\r\\n                            <li class=\"txt-items\">\\xe2\\x96\\xba Controle de estabilidade</li>\\r\\n                            <li class=\"txt-items\">...</li>\\r\\n                        </ul>\\r\\n                        <p class=\"txt-location\">S\\xc3\\xa3o Paulo - SP</p>\\r\\n                    </div>\\r\\n                    <div class=\"col-md-3 value-card\">\\r\\n                        <div class=\"value\">\\r\\n                            <p class=\"txt-value\">R$ 117.000</p>\\r\\n                        </div>\\r\\n                    </div>\\r\\n                </div>\\t\\t\\t\\t\\t\\t</div>\\r\\n\\t\\t\\t\\t\\t\\t<div class=\"type-select\">246 ve\\xc3\\xadculos encontrados</div>\\r\\n\\t\\t\\t\\t\\t\\t\\t<div class=\"container-pagination\" style=\"float: right\">\\r\\n\\t\\t\\t\\t\\t\\t\\t\\t<span class=\"info-pages\">P\\xc3\\xa1gina 1 de 25</span>\\r\\n\\t\\t\\t\\t\\t\\t\\t</div>\\r\\n\\t\\t\\t\\t\\t\\t</div>\\r\\n\\t\\t\\t\\t\\t</div>\\r\\n\\t\\t\\t\\t</div>\\r\\n\\t\\t\\t</div>\\r\\n\\t\\t</div>\\r\\n\\r\\n\\t\\t<footer>\\r\\n\\t\\t\\t<nav class=\"navbar navbar-inverse\">\\r\\n\\t\\t\\t\\t<div class=\"container\" style=\"margin-bottom: 10px;\">\\r\\n\\t\\t\\t\\t\\t<div class=\"navbar\">\\r\\n\\t\\t\\t\\t\\t\\t<a href=\"./index.php\" class=\"navbar-brand\" title=\"Alura Motors\">\\r\\n\\t\\t\\t\\t\\t\\t\\t<img src=\"img/alura-logo.svg\" class=\"d-inline-block align-top\" alt=\"Alura\">Motors\\r\\n\\t\\t\\t\\t\\t\\t</a>\\r\\n\\t\\t\\t\\t\\t\\t<p style=\"color: #fff; text-align: center; margin-top: 40px;\">Aplica\\xc3\\xa7\\xc3\\xa3o para treinamento de web scraping</p>\\r\\n\\t\\t\\t\\t\\t</div>\\r\\n\\t\\t\\t\\t</div>\\r\\n\\t\\t\\t</nav>\\r\\n\\t\\t</footer>\\r\\n\\r\\n\\t</div>\\r\\n\\r\\n</body>\\r\\n</html>\\r\\n'"
            ]
          },
          "metadata": {},
          "execution_count": 32
        }
      ]
    },
    {
      "cell_type": "markdown",
      "source": [
        "However, it is hard to understand what does this variable means. Let's look more into it. What is its typing?"
      ],
      "metadata": {
        "id": "2ZUbV9S7NO3Z"
      }
    },
    {
      "cell_type": "code",
      "source": [
        "type(html)"
      ],
      "metadata": {
        "colab": {
          "base_uri": "https://localhost:8080/"
        },
        "id": "cInvYLmzNMeo",
        "outputId": "6bc48acb-af59-40ff-b813-1777af945170"
      },
      "execution_count": 33,
      "outputs": [
        {
          "output_type": "execute_result",
          "data": {
            "text/plain": [
              "bytes"
            ]
          },
          "metadata": {},
          "execution_count": 33
        }
      ]
    },
    {
      "cell_type": "markdown",
      "source": [
        "So, our *html* variable is of type *bytes*. Let's try to transform our html into a string, to make it simpler to understand. This can be performed using a decode:"
      ],
      "metadata": {
        "id": "1WkZ8XhJOBcQ"
      }
    },
    {
      "cell_type": "code",
      "source": [
        "html = html.decode('utf-8')\n",
        "html"
      ],
      "metadata": {
        "colab": {
          "base_uri": "https://localhost:8080/",
          "height": 158
        },
        "id": "OOQrJDpwNbXD",
        "outputId": "3036424d-c628-4cca-998a-952d18b5724a"
      },
      "execution_count": 34,
      "outputs": [
        {
          "output_type": "execute_result",
          "data": {
            "text/plain": [
              "'<!DOCTYPE html>\\r\\n<html lang=\"pt-br\">\\r\\n<head>\\r\\n    <meta charset=\"utf-8\">\\r\\n    <meta name=\"viewport\" content=\"width=device-width, initial-scale=1, shrink-to-fit=no\">\\r\\n\\r\\n    <title>Alura Motors</title>\\r\\n\\r\\n\\t<style>\\r\\n\\t\\t/*Regra para a animacao*/\\r\\n\\t\\t@keyframes spin {\\r\\n\\t\\t\\t0% { transform: rotate(0deg); }\\r\\n\\t\\t\\t100% { transform: rotate(360deg); }\\r\\n\\t\\t}\\r\\n\\t\\t/*Mudando o tamanho do icone de resposta*/\\r\\n\\t\\tdiv.glyphicon {\\r\\n\\t\\t\\tcolor:#6B8E23;\\r\\n\\t\\t\\tfont-size: 38px;\\r\\n\\t\\t}\\r\\n\\t\\t/*Classe que mostra a animacao \\'spin\\'*/\\r\\n\\t\\t.loader {\\r\\n\\t\\t\\tborder: 16px solid #f3f3f3;\\r\\n\\t\\t\\tborder-radius: 50%;\\r\\n\\t\\t\\tborder-top: 16px solid #3498db;\\r\\n\\t\\t\\twidth: 80px;\\r\\n\\t\\t\\theight: 80px;\\r\\n\\t\\t\\t-webkit-animation: spin 2s linear infinite;\\r\\n\\t\\t\\tanimation: spin 2s linear infinite;\\r\\n\\t\\t}\\r\\n\\t</style>\\r\\n\\t<link rel=\"stylesheet\" href=\"https://maxcdn.bootstrapcdn.com/bootstrap/3.3.7/css/bootstrap.min.css\" integrity=\"sha384-BVYiiSIFeK1dGmJRAkycuHAHRg32OmUcww7on3RYdg4Va+PmSTsz/K68vbdEjh4u\" crossorigin=\"anonymous\">\\r\\n\\t<link rel=\"stylesheet\" href=\"css/styles.css\" media=\"all\">\\r\\n\\r\\n\\t<script src=\"https://code.jquery.com/jquery-1.12.4.js\"></script>\\r\\n\\t<script src=\"https://maxcdn.bootstrapcdn.com/bootstrap/3.3.7/js/bootstrap.min.js\" integrity=\"sha384-Tc5IQib027qvyjSMfHjOMaLkfuWVxZxUPnCJA7l2mCWNIpG9mGCD8wGNIcPD7Txa\" crossorigin=\"anonymous\"></script>\\r\\n\\t<script type=\"text/javascript\" src=\"js/index.js\"></script>\\r\\n\\t<script>\\r\\n\\t\\trequisitar(\"https://alura-scraping.herokuapp.com/produtos?_page=\"+1+\"&_limit=10\")\\r\\n\\t</script>\\r\\n\\r\\n</head>\\r\\n<body cz-shortcut-listen=\"true\">\\r\\n    <noscript>You need to enable JavaScript to run this app.</noscript>\\r\\n\\r\\n\\t<div class=\"modal fade\" data-backdrop=\"static\" id=\"loadingModal\" tabindex=\"-1\" role=\"dialog\" aria-labelledby=\"loadingModal_label\">\\r\\n\\t\\t<div class=\"modal-dialog\" role=\"document\">\\r\\n\\t\\t\\t<div class=\"modal-content\">\\r\\n\\t\\t\\t\\t<div class=\"modal-header\">\\r\\n\\t\\t\\t\\t\\t<h5 class=\"modal-title\" id=\"loadingModal_label\">\\r\\n\\t\\t\\t\\t\\t\\t<span class=\"glyphicon glyphicon-refresh\"></span>Aguarde...\\r\\n\\t\\t\\t\\t\\t</h5>\\r\\n\\t\\t\\t\\t</div>\\r\\n\\t\\t\\t\\t<div class=\"modal-body\">\\r\\n\\t\\t\\t\\t\\t<div class=\\'alert\\' role=\\'alert\\'>\\r\\n\\t\\t\\t\\t\\t\\t<center>\\r\\n\\t\\t\\t\\t\\t\\t\\t<div class=\"loader\" id=\"loader\"></div><br>\\r\\n\\t\\t\\t\\t\\t\\t\\t<h4><b id=\"loadingModal_content\"></b></h4>\\r\\n\\t\\t\\t\\t\\t\\t</center>\\r\\n\\t\\t\\t\\t\\t</div>\\r\\n\\t\\t\\t\\t</div>\\r\\n\\t\\t\\t</div>\\r\\n\\t\\t</div>\\r\\n\\t</div>\\r\\n\\r\\n    <div id=\"root\">\\r\\n\\t\\t<header>\\r\\n\\t\\t\\t<nav class=\"navbar navbar-inverse\" style=\"margin-bottom: 0;\">\\r\\n\\t\\t\\t\\t<div class=\"container\" style=\"margin-bottom: -20px;\">\\r\\n\\t\\t\\t\\t\\t<div class=\"navbar\">\\r\\n\\t\\t\\t\\t\\t\\t<a href=\"./index.php\" class=\"navbar-brand\" title=\"Alura Motors\">\\r\\n\\t\\t\\t\\t\\t\\t\\t<img src=\"img/alura-logo.svg\" class=\"d-inline-block align-top\" alt=\"Alura\">Motors\\r\\n\\t\\t\\t\\t\\t\\t</a>\\r\\n\\t\\t\\t\\t\\t\\t<ul class=\"nav navbar-nav\" style=\"margin-top: 35px;\">\\r\\n\\t\\t\\t\\t\\t\\t\\t<li><a href=\"./hello-world.php\">Hello World</a></li>\\r\\n\\t\\t\\t\\t\\t\\t\\t<li><a href=\"./index.php\">Anúncios</a></li>\\r\\n\\t\\t\\t\\t\\t\\t</ul>\\r\\n\\t\\t\\t\\t\\t</div>\\r\\n\\t\\t\\t\\t</div>\\r\\n\\t\\t\\t</nav>\\r\\n\\t\\t</header>\\r\\n\\r\\n\\t\\t<div class=\"container\">\\r\\n\\t\\t\\t<h1 class=\"sub-header\">Veículos de Luxo Novos e Usados - Todas as Marcas</h1>\\r\\n\\t\\t\\t<div class=\"row\">\\r\\n\\t\\t\\t\\t<div class=\"col-md-12\">\\r\\n\\t\\t\\t\\t\\t<div class=\"container\" style=\"width: 100%\">\\r\\n\\t\\t\\t\\t\\t\\t<div class=\"type-select\">246 veículos encontrados</div>\\r\\n\\t\\t\\t\\t\\t\\t\\t<div class=\"container-pagination\" style=\"float: right\">\\r\\n\\t\\t\\t\\t\\t\\t\\t\\t<span class=\"info-pages\">Página 1 de 25</span>\\r\\n\\t\\t\\t\\t\\t\\t\\t</div>\\r\\n\\t\\t\\t\\t\\t\\t</div>\\r\\n\\t\\t\\t\\t\\t\\t<div id=\"container-cards\" style=\"height: 100%\">\\r\\n\\t\\t\\t\\t\\t\\t\\t\\r\\n                <div class=\"well card\">\\r\\n                    <div class=\"col-md-3 image-card\">\\r\\n                        <img width=\"220\" height=\"155\" alt=\"Foto\" src=\"https://caelum-online-public.s3.amazonaws.com/1381-scraping/01/img-cars/lamborghini-aventador/lamborghini-aventador-2932196__340.jpg\">\\r\\n                    </div>\\r\\n                    <div class=\"col-md-6 body-card\">\\r\\n                        <p class=\"txt-name inline\">LAMBORGHINI AVENTADOR</p>\\r\\n                            <p class=\"txt-category badge badge-secondary inline\">USADO</p>\\r\\n                            \\r\\n                        <p class=\"txt-motor\">Motor 1.8 16v</p>\\r\\n                        <p class=\"txt-description\">Ano 1993 - 55.286 km</p>\\r\\n                        <ul class=\"lst-items\">\\r\\n                            <li class=\"txt-items\">► 4 X 4</li>\\r\\n                            <li class=\"txt-items\">► Câmera de estacionamento</li>\\r\\n                            <li class=\"txt-items\">► Controle de tração</li>\\r\\n                            <li class=\"txt-items\">► Sensor de estacionamento</li>\\r\\n                            <li class=\"txt-items\">...</li>\\r\\n                        </ul>\\r\\n                        <p class=\"txt-location\">Belo Horizonte - MG</p>\\r\\n                    </div>\\r\\n                    <div class=\"col-md-3 value-card\">\\r\\n                        <div class=\"value\">\\r\\n                            <p class=\"txt-value\">R$ 338.000</p>\\r\\n                        </div>\\r\\n                    </div>\\r\\n                </div>\\r\\n                <div class=\"well card\">\\r\\n                    <div class=\"col-md-3 image-card\">\\r\\n                        <img width=\"220\" height=\"155\" alt=\"Foto\" src=\"https://caelum-online-public.s3.amazonaws.com/1381-scraping/01/img-cars/bmw-m2/bmw-m2-2970882__340.jpg\">\\r\\n                    </div>\\r\\n                    <div class=\"col-md-6 body-card\">\\r\\n                        <p class=\"txt-name inline\">BMW M2</p>\\r\\n                            <p class=\"txt-category badge badge-secondary inline\">USADO</p>\\r\\n                            \\r\\n                        <p class=\"txt-motor\">Motor 3.0 32v</p>\\r\\n                        <p class=\"txt-description\">Ano 2018 - 83.447 km</p>\\r\\n                        <ul class=\"lst-items\">\\r\\n                            <li class=\"txt-items\">► Câmera de estacionamento</li>\\r\\n                            <li class=\"txt-items\">► Controle de estabilidade</li>\\r\\n                            <li class=\"txt-items\">► Travas elétricas</li>\\r\\n                            <li class=\"txt-items\">► Freios ABS</li>\\r\\n                            <li class=\"txt-items\">...</li>\\r\\n                        </ul>\\r\\n                        <p class=\"txt-location\">Belo Horizonte - MG</p>\\r\\n                    </div>\\r\\n                    <div class=\"col-md-3 value-card\">\\r\\n                        <div class=\"value\">\\r\\n                            <p class=\"txt-value\">R$ 346.000</p>\\r\\n                        </div>\\r\\n                    </div>\\r\\n                </div>\\r\\n                <div class=\"well card\">\\r\\n                    <div class=\"col-md-3 image-card\">\\r\\n                        <img width=\"220\" height=\"155\" alt=\"Foto\" src=\"https://caelum-online-public.s3.amazonaws.com/1381-scraping/01/img-cars/alfa/alfa-1823056__340.jpg\">\\r\\n                    </div>\\r\\n                    <div class=\"col-md-6 body-card\">\\r\\n                        <p class=\"txt-name inline\">ALFA</p>\\r\\n                            <p class=\"txt-category badge badge-secondary inline\">USADO</p>\\r\\n                            \\r\\n                        <p class=\"txt-motor\">Motor 1.8 16v</p>\\r\\n                        <p class=\"txt-description\">Ano 2004 - 19.722 km</p>\\r\\n                        <ul class=\"lst-items\">\\r\\n                            <li class=\"txt-items\">► Central multimídia</li>\\r\\n                            <li class=\"txt-items\">► Bancos de couro</li>\\r\\n                            <li class=\"txt-items\">► Rodas de liga</li>\\r\\n                            <li class=\"txt-items\">► Câmera de estacionamento</li>\\r\\n                            <li class=\"txt-items\">...</li>\\r\\n                        </ul>\\r\\n                        <p class=\"txt-location\">Rio de Janeiro - RJ</p>\\r\\n                    </div>\\r\\n                    <div class=\"col-md-3 value-card\">\\r\\n                        <div class=\"value\">\\r\\n                            <p class=\"txt-value\">R$ 480.000</p>\\r\\n                        </div>\\r\\n                    </div>\\r\\n                </div>\\r\\n                <div class=\"well card\">\\r\\n                    <div class=\"col-md-3 image-card\">\\r\\n                        <img width=\"220\" height=\"155\" alt=\"Foto\" src=\"https://caelum-online-public.s3.amazonaws.com/1381-scraping/01/img-cars/puech/puech-4055386__340.jpg\">\\r\\n                    </div>\\r\\n                    <div class=\"col-md-6 body-card\">\\r\\n                        <p class=\"txt-name inline\">PUECH</p>\\r\\n                            <p class=\"txt-category badge badge-secondary inline\">USADO</p>\\r\\n                            \\r\\n                        <p class=\"txt-motor\">Motor Diesel V8</p>\\r\\n                        <p class=\"txt-description\">Ano 1992 - 34.335 km</p>\\r\\n                        <ul class=\"lst-items\">\\r\\n                            <li class=\"txt-items\">► Bancos de couro</li>\\r\\n                            <li class=\"txt-items\">► Freios ABS</li>\\r\\n                            <li class=\"txt-items\">► Rodas de liga</li>\\r\\n                            <li class=\"txt-items\">► Câmbio automático</li>\\r\\n                            <li class=\"txt-items\">...</li>\\r\\n                        </ul>\\r\\n                        <p class=\"txt-location\">São Paulo - SP</p>\\r\\n                    </div>\\r\\n                    <div class=\"col-md-3 value-card\">\\r\\n                        <div class=\"value\">\\r\\n                            <p class=\"txt-value\">R$ 133.000</p>\\r\\n                        </div>\\r\\n                    </div>\\r\\n                </div>\\r\\n                <div class=\"well card\">\\r\\n                    <div class=\"col-md-3 image-card\">\\r\\n                        <img width=\"220\" height=\"155\" alt=\"Foto\" src=\"https://caelum-online-public.s3.amazonaws.com/1381-scraping/01/img-cars/lamborghini-murcielago/lamborghini-murcielago-2872974__340.jpg\">\\r\\n                    </div>\\r\\n                    <div class=\"col-md-6 body-card\">\\r\\n                        <p class=\"txt-name inline\">LAMBORGHINI MURCIELAGO</p>\\r\\n                            <p class=\"txt-category badge badge-secondary inline\">USADO</p>\\r\\n                            \\r\\n                        <p class=\"txt-motor\">Motor 1.0 8v</p>\\r\\n                        <p class=\"txt-description\">Ano 1991 - 464 km</p>\\r\\n                        <ul class=\"lst-items\">\\r\\n                            <li class=\"txt-items\">► Central multimídia</li>\\r\\n                            <li class=\"txt-items\">► Teto panorâmico</li>\\r\\n                            <li class=\"txt-items\">► Sensor crepuscular</li>\\r\\n                            <li class=\"txt-items\">► Piloto automático</li>\\r\\n                            <li class=\"txt-items\">...</li>\\r\\n                        </ul>\\r\\n                        <p class=\"txt-location\">Belo Horizonte - MG</p>\\r\\n                    </div>\\r\\n                    <div class=\"col-md-3 value-card\">\\r\\n                        <div class=\"value\">\\r\\n                            <p class=\"txt-value\">R$ 175.000</p>\\r\\n                        </div>\\r\\n                    </div>\\r\\n                </div>\\r\\n                <div class=\"well card\">\\r\\n                    <div class=\"col-md-3 image-card\">\\r\\n                        <img width=\"220\" height=\"155\" alt=\"Foto\" src=\"https://caelum-online-public.s3.amazonaws.com/1381-scraping/01/img-cars/aston-martin/aston-martin-2977916__340.jpg\">\\r\\n                    </div>\\r\\n                    <div class=\"col-md-6 body-card\">\\r\\n                        <p class=\"txt-name inline\">ASTON MARTIN</p>\\r\\n                            <p class=\"txt-category badge badge-secondary inline\">USADO</p>\\r\\n                            <p class=\"txt-opportunity badge badge-danger inline\">OPORTUNIDADE</p>\\r\\n                        <p class=\"txt-motor\">Motor Diesel V6</p>\\r\\n                        <p class=\"txt-description\">Ano 2004 - 50.189 km</p>\\r\\n                        <ul class=\"lst-items\">\\r\\n                            <li class=\"txt-items\">► Painel digital</li>\\r\\n                            <li class=\"txt-items\">► Controle de tração</li>\\r\\n                            <li class=\"txt-items\">► Teto panorâmico</li>\\r\\n                            <li class=\"txt-items\">► Central multimídia</li>\\r\\n                            <li class=\"txt-items\">...</li>\\r\\n                        </ul>\\r\\n                        <p class=\"txt-location\">Belo Horizonte - MG</p>\\r\\n                    </div>\\r\\n                    <div class=\"col-md-3 value-card\">\\r\\n                        <div class=\"value\">\\r\\n                            <p class=\"txt-value\">R$ 239.000</p>\\r\\n                        </div>\\r\\n                    </div>\\r\\n                </div>\\r\\n                <div class=\"well card\">\\r\\n                    <div class=\"col-md-3 image-card\">\\r\\n                        <img width=\"220\" height=\"155\" alt=\"Foto\" src=\"https://caelum-online-public.s3.amazonaws.com/1381-scraping/01/img-cars/tvr/tvr-2943925__340.jpg\">\\r\\n                    </div>\\r\\n                    <div class=\"col-md-6 body-card\">\\r\\n                        <p class=\"txt-name inline\">TVR</p>\\r\\n                            <p class=\"txt-category badge badge-secondary inline\">USADO</p>\\r\\n                            \\r\\n                        <p class=\"txt-motor\">Motor 4.0 Turbo</p>\\r\\n                        <p class=\"txt-description\">Ano 2014 - 17.778 km</p>\\r\\n                        <ul class=\"lst-items\">\\r\\n                            <li class=\"txt-items\">► 4 X 4</li>\\r\\n                            <li class=\"txt-items\">► Teto panorâmico</li>\\r\\n                            <li class=\"txt-items\">► Central multimídia</li>\\r\\n                            <li class=\"txt-items\">► Controle de estabilidade</li>\\r\\n                            <li class=\"txt-items\">...</li>\\r\\n                        </ul>\\r\\n                        <p class=\"txt-location\">Belo Horizonte - MG</p>\\r\\n                    </div>\\r\\n                    <div class=\"col-md-3 value-card\">\\r\\n                        <div class=\"value\">\\r\\n                            <p class=\"txt-value\">R$ 115.000</p>\\r\\n                        </div>\\r\\n                    </div>\\r\\n                </div>\\r\\n                <div class=\"well card\">\\r\\n                    <div class=\"col-md-3 image-card\">\\r\\n                        <img width=\"220\" height=\"155\" alt=\"Foto\" src=\"https://caelum-online-public.s3.amazonaws.com/1381-scraping/01/img-cars/excalibur/excalibur-2916730__340.jpg\">\\r\\n                    </div>\\r\\n                    <div class=\"col-md-6 body-card\">\\r\\n                        <p class=\"txt-name inline\">EXCALIBUR</p>\\r\\n                            <p class=\"txt-category badge badge-secondary inline\">USADO</p>\\r\\n                            \\r\\n                        <p class=\"txt-motor\">Motor 3.0 32v</p>\\r\\n                        <p class=\"txt-description\">Ano 2009 - 81.251 km</p>\\r\\n                        <ul class=\"lst-items\">\\r\\n                            <li class=\"txt-items\">► Painel digital</li>\\r\\n                            <li class=\"txt-items\">► Câmbio automático</li>\\r\\n                            <li class=\"txt-items\">► Sensor de chuva</li>\\r\\n                            <li class=\"txt-items\">► Travas elétricas</li>\\r\\n                            <li class=\"txt-items\">...</li>\\r\\n                        </ul>\\r\\n                        <p class=\"txt-location\">Rio de Janeiro - RJ</p>\\r\\n                    </div>\\r\\n                    <div class=\"col-md-3 value-card\">\\r\\n                        <div class=\"value\">\\r\\n                            <p class=\"txt-value\">R$ 114.000</p>\\r\\n                        </div>\\r\\n                    </div>\\r\\n                </div>\\r\\n                <div class=\"well card\">\\r\\n                    <div class=\"col-md-3 image-card\">\\r\\n                        <img width=\"220\" height=\"155\" alt=\"Foto\" src=\"https://caelum-online-public.s3.amazonaws.com/1381-scraping/01/img-cars/mclaren/mclaren-2855240__340.jpg\">\\r\\n                    </div>\\r\\n                    <div class=\"col-md-6 body-card\">\\r\\n                        <p class=\"txt-name inline\">MCLAREN</p>\\r\\n                            <p class=\"txt-category badge badge-secondary inline\">NOVO</p>\\r\\n                            \\r\\n                        <p class=\"txt-motor\">Motor Diesel</p>\\r\\n                        <p class=\"txt-description\">Ano 2019 - 0 km</p>\\r\\n                        <ul class=\"lst-items\">\\r\\n                            <li class=\"txt-items\">► Central multimídia</li>\\r\\n                            <li class=\"txt-items\">► Câmera de estacionamento</li>\\r\\n                            <li class=\"txt-items\">► Câmbio automático</li>\\r\\n                            <li class=\"txt-items\">► Ar condicionado</li>\\r\\n                            <li class=\"txt-items\">...</li>\\r\\n                        </ul>\\r\\n                        <p class=\"txt-location\">São Paulo - SP</p>\\r\\n                    </div>\\r\\n                    <div class=\"col-md-3 value-card\">\\r\\n                        <div class=\"value\">\\r\\n                            <p class=\"txt-value\">R$ 75.000</p>\\r\\n                        </div>\\r\\n                    </div>\\r\\n                </div>\\r\\n                <div class=\"well card\">\\r\\n                    <div class=\"col-md-3 image-card\">\\r\\n                        <img width=\"220\" height=\"155\" alt=\"Foto\" src=\"https://caelum-online-public.s3.amazonaws.com/1381-scraping/01/img-cars/toyota/toyota-3245397__340.jpg\">\\r\\n                    </div>\\r\\n                    <div class=\"col-md-6 body-card\">\\r\\n                        <p class=\"txt-name inline\">TOYOTA</p>\\r\\n                            <p class=\"txt-category badge badge-secondary inline\">USADO</p>\\r\\n                            <p class=\"txt-opportunity badge badge-danger inline\">OPORTUNIDADE</p>\\r\\n                        <p class=\"txt-motor\">Motor 4.0 Turbo</p>\\r\\n                        <p class=\"txt-description\">Ano 1999 - 12.536 km</p>\\r\\n                        <ul class=\"lst-items\">\\r\\n                            <li class=\"txt-items\">► Bancos de couro</li>\\r\\n                            <li class=\"txt-items\">► Freios ABS</li>\\r\\n                            <li class=\"txt-items\">► Piloto automático</li>\\r\\n                            <li class=\"txt-items\">► Controle de estabilidade</li>\\r\\n                            <li class=\"txt-items\">...</li>\\r\\n                        </ul>\\r\\n                        <p class=\"txt-location\">São Paulo - SP</p>\\r\\n                    </div>\\r\\n                    <div class=\"col-md-3 value-card\">\\r\\n                        <div class=\"value\">\\r\\n                            <p class=\"txt-value\">R$ 117.000</p>\\r\\n                        </div>\\r\\n                    </div>\\r\\n                </div>\\t\\t\\t\\t\\t\\t</div>\\r\\n\\t\\t\\t\\t\\t\\t<div class=\"type-select\">246 veículos encontrados</div>\\r\\n\\t\\t\\t\\t\\t\\t\\t<div class=\"container-pagination\" style=\"float: right\">\\r\\n\\t\\t\\t\\t\\t\\t\\t\\t<span class=\"info-pages\">Página 1 de 25</span>\\r\\n\\t\\t\\t\\t\\t\\t\\t</div>\\r\\n\\t\\t\\t\\t\\t\\t</div>\\r\\n\\t\\t\\t\\t\\t</div>\\r\\n\\t\\t\\t\\t</div>\\r\\n\\t\\t\\t</div>\\r\\n\\t\\t</div>\\r\\n\\r\\n\\t\\t<footer>\\r\\n\\t\\t\\t<nav class=\"navbar navbar-inverse\">\\r\\n\\t\\t\\t\\t<div class=\"container\" style=\"margin-bottom: 10px;\">\\r\\n\\t\\t\\t\\t\\t<div class=\"navbar\">\\r\\n\\t\\t\\t\\t\\t\\t<a href=\"./index.php\" class=\"navbar-brand\" title=\"Alura Motors\">\\r\\n\\t\\t\\t\\t\\t\\t\\t<img src=\"img/alura-logo.svg\" class=\"d-inline-block align-top\" alt=\"Alura\">Motors\\r\\n\\t\\t\\t\\t\\t\\t</a>\\r\\n\\t\\t\\t\\t\\t\\t<p style=\"color: #fff; text-align: center; margin-top: 40px;\">Aplicação para treinamento de web scraping</p>\\r\\n\\t\\t\\t\\t\\t</div>\\r\\n\\t\\t\\t\\t</div>\\r\\n\\t\\t\\t</nav>\\r\\n\\t\\t</footer>\\r\\n\\r\\n\\t</div>\\r\\n\\r\\n</body>\\r\\n</html>\\r\\n'"
            ],
            "application/vnd.google.colaboratory.intrinsic+json": {
              "type": "string"
            }
          },
          "metadata": {},
          "execution_count": 34
        }
      ]
    },
    {
      "cell_type": "markdown",
      "source": [
        "Now, if we check our typing:"
      ],
      "metadata": {
        "id": "7Wdk2J4iOdxR"
      }
    },
    {
      "cell_type": "code",
      "source": [
        "type(html)"
      ],
      "metadata": {
        "colab": {
          "base_uri": "https://localhost:8080/"
        },
        "id": "YvrwUzMIOT8D",
        "outputId": "96c8e462-950c-49cf-a3a4-20fac539c2eb"
      },
      "execution_count": 35,
      "outputs": [
        {
          "output_type": "execute_result",
          "data": {
            "text/plain": [
              "str"
            ]
          },
          "metadata": {},
          "execution_count": 35
        }
      ]
    },
    {
      "cell_type": "markdown",
      "source": [
        "The *decode( )* method is also important to make our variable **readable**. For instance, before, we have a piece of text as:\n",
        "\n",
        "*C\\xc3\\xa2mera de estacionamento*\n",
        "\n",
        "Now, after decoding, we have it correctly showing us:\n",
        "\n",
        "*Câmera de estacionamento*\n",
        "\n"
      ],
      "metadata": {
        "id": "IfE305BLOk7k"
      }
    },
    {
      "cell_type": "markdown",
      "source": [
        "To improve the readability of our string, we can also do:"
      ],
      "metadata": {
        "id": "HAM7tNRCPWra"
      }
    },
    {
      "cell_type": "code",
      "source": [
        "\" \".join(html.split( ))"
      ],
      "metadata": {
        "colab": {
          "base_uri": "https://localhost:8080/",
          "height": 140
        },
        "id": "EhSg2Dl4OkWb",
        "outputId": "99359e82-2de3-481e-fbf1-21ffc13456ad"
      },
      "execution_count": 36,
      "outputs": [
        {
          "output_type": "execute_result",
          "data": {
            "text/plain": [
              "'<!DOCTYPE html> <html lang=\"pt-br\"> <head> <meta charset=\"utf-8\"> <meta name=\"viewport\" content=\"width=device-width, initial-scale=1, shrink-to-fit=no\"> <title>Alura Motors</title> <style> /*Regra para a animacao*/ @keyframes spin { 0% { transform: rotate(0deg); } 100% { transform: rotate(360deg); } } /*Mudando o tamanho do icone de resposta*/ div.glyphicon { color:#6B8E23; font-size: 38px; } /*Classe que mostra a animacao \\'spin\\'*/ .loader { border: 16px solid #f3f3f3; border-radius: 50%; border-top: 16px solid #3498db; width: 80px; height: 80px; -webkit-animation: spin 2s linear infinite; animation: spin 2s linear infinite; } </style> <link rel=\"stylesheet\" href=\"https://maxcdn.bootstrapcdn.com/bootstrap/3.3.7/css/bootstrap.min.css\" integrity=\"sha384-BVYiiSIFeK1dGmJRAkycuHAHRg32OmUcww7on3RYdg4Va+PmSTsz/K68vbdEjh4u\" crossorigin=\"anonymous\"> <link rel=\"stylesheet\" href=\"css/styles.css\" media=\"all\"> <script src=\"https://code.jquery.com/jquery-1.12.4.js\"></script> <script src=\"https://maxcdn.bootstrapcdn.com/bootstrap/3.3.7/js/bootstrap.min.js\" integrity=\"sha384-Tc5IQib027qvyjSMfHjOMaLkfuWVxZxUPnCJA7l2mCWNIpG9mGCD8wGNIcPD7Txa\" crossorigin=\"anonymous\"></script> <script type=\"text/javascript\" src=\"js/index.js\"></script> <script> requisitar(\"https://alura-scraping.herokuapp.com/produtos?_page=\"+1+\"&_limit=10\") </script> </head> <body cz-shortcut-listen=\"true\"> <noscript>You need to enable JavaScript to run this app.</noscript> <div class=\"modal fade\" data-backdrop=\"static\" id=\"loadingModal\" tabindex=\"-1\" role=\"dialog\" aria-labelledby=\"loadingModal_label\"> <div class=\"modal-dialog\" role=\"document\"> <div class=\"modal-content\"> <div class=\"modal-header\"> <h5 class=\"modal-title\" id=\"loadingModal_label\"> <span class=\"glyphicon glyphicon-refresh\"></span>Aguarde... </h5> </div> <div class=\"modal-body\"> <div class=\\'alert\\' role=\\'alert\\'> <center> <div class=\"loader\" id=\"loader\"></div><br> <h4><b id=\"loadingModal_content\"></b></h4> </center> </div> </div> </div> </div> </div> <div id=\"root\"> <header> <nav class=\"navbar navbar-inverse\" style=\"margin-bottom: 0;\"> <div class=\"container\" style=\"margin-bottom: -20px;\"> <div class=\"navbar\"> <a href=\"./index.php\" class=\"navbar-brand\" title=\"Alura Motors\"> <img src=\"img/alura-logo.svg\" class=\"d-inline-block align-top\" alt=\"Alura\">Motors </a> <ul class=\"nav navbar-nav\" style=\"margin-top: 35px;\"> <li><a href=\"./hello-world.php\">Hello World</a></li> <li><a href=\"./index.php\">Anúncios</a></li> </ul> </div> </div> </nav> </header> <div class=\"container\"> <h1 class=\"sub-header\">Veículos de Luxo Novos e Usados - Todas as Marcas</h1> <div class=\"row\"> <div class=\"col-md-12\"> <div class=\"container\" style=\"width: 100%\"> <div class=\"type-select\">246 veículos encontrados</div> <div class=\"container-pagination\" style=\"float: right\"> <span class=\"info-pages\">Página 1 de 25</span> </div> </div> <div id=\"container-cards\" style=\"height: 100%\"> <div class=\"well card\"> <div class=\"col-md-3 image-card\"> <img width=\"220\" height=\"155\" alt=\"Foto\" src=\"https://caelum-online-public.s3.amazonaws.com/1381-scraping/01/img-cars/lamborghini-aventador/lamborghini-aventador-2932196__340.jpg\"> </div> <div class=\"col-md-6 body-card\"> <p class=\"txt-name inline\">LAMBORGHINI AVENTADOR</p> <p class=\"txt-category badge badge-secondary inline\">USADO</p> <p class=\"txt-motor\">Motor 1.8 16v</p> <p class=\"txt-description\">Ano 1993 - 55.286 km</p> <ul class=\"lst-items\"> <li class=\"txt-items\">► 4 X 4</li> <li class=\"txt-items\">► Câmera de estacionamento</li> <li class=\"txt-items\">► Controle de tração</li> <li class=\"txt-items\">► Sensor de estacionamento</li> <li class=\"txt-items\">...</li> </ul> <p class=\"txt-location\">Belo Horizonte - MG</p> </div> <div class=\"col-md-3 value-card\"> <div class=\"value\"> <p class=\"txt-value\">R$ 338.000</p> </div> </div> </div> <div class=\"well card\"> <div class=\"col-md-3 image-card\"> <img width=\"220\" height=\"155\" alt=\"Foto\" src=\"https://caelum-online-public.s3.amazonaws.com/1381-scraping/01/img-cars/bmw-m2/bmw-m2-2970882__340.jpg\"> </div> <div class=\"col-md-6 body-card\"> <p class=\"txt-name inline\">BMW M2</p> <p class=\"txt-category badge badge-secondary inline\">USADO</p> <p class=\"txt-motor\">Motor 3.0 32v</p> <p class=\"txt-description\">Ano 2018 - 83.447 km</p> <ul class=\"lst-items\"> <li class=\"txt-items\">► Câmera de estacionamento</li> <li class=\"txt-items\">► Controle de estabilidade</li> <li class=\"txt-items\">► Travas elétricas</li> <li class=\"txt-items\">► Freios ABS</li> <li class=\"txt-items\">...</li> </ul> <p class=\"txt-location\">Belo Horizonte - MG</p> </div> <div class=\"col-md-3 value-card\"> <div class=\"value\"> <p class=\"txt-value\">R$ 346.000</p> </div> </div> </div> <div class=\"well card\"> <div class=\"col-md-3 image-card\"> <img width=\"220\" height=\"155\" alt=\"Foto\" src=\"https://caelum-online-public.s3.amazonaws.com/1381-scraping/01/img-cars/alfa/alfa-1823056__340.jpg\"> </div> <div class=\"col-md-6 body-card\"> <p class=\"txt-name inline\">ALFA</p> <p class=\"txt-category badge badge-secondary inline\">USADO</p> <p class=\"txt-motor\">Motor 1.8 16v</p> <p class=\"txt-description\">Ano 2004 - 19.722 km</p> <ul class=\"lst-items\"> <li class=\"txt-items\">► Central multimídia</li> <li class=\"txt-items\">► Bancos de couro</li> <li class=\"txt-items\">► Rodas de liga</li> <li class=\"txt-items\">► Câmera de estacionamento</li> <li class=\"txt-items\">...</li> </ul> <p class=\"txt-location\">Rio de Janeiro - RJ</p> </div> <div class=\"col-md-3 value-card\"> <div class=\"value\"> <p class=\"txt-value\">R$ 480.000</p> </div> </div> </div> <div class=\"well card\"> <div class=\"col-md-3 image-card\"> <img width=\"220\" height=\"155\" alt=\"Foto\" src=\"https://caelum-online-public.s3.amazonaws.com/1381-scraping/01/img-cars/puech/puech-4055386__340.jpg\"> </div> <div class=\"col-md-6 body-card\"> <p class=\"txt-name inline\">PUECH</p> <p class=\"txt-category badge badge-secondary inline\">USADO</p> <p class=\"txt-motor\">Motor Diesel V8</p> <p class=\"txt-description\">Ano 1992 - 34.335 km</p> <ul class=\"lst-items\"> <li class=\"txt-items\">► Bancos de couro</li> <li class=\"txt-items\">► Freios ABS</li> <li class=\"txt-items\">► Rodas de liga</li> <li class=\"txt-items\">► Câmbio automático</li> <li class=\"txt-items\">...</li> </ul> <p class=\"txt-location\">São Paulo - SP</p> </div> <div class=\"col-md-3 value-card\"> <div class=\"value\"> <p class=\"txt-value\">R$ 133.000</p> </div> </div> </div> <div class=\"well card\"> <div class=\"col-md-3 image-card\"> <img width=\"220\" height=\"155\" alt=\"Foto\" src=\"https://caelum-online-public.s3.amazonaws.com/1381-scraping/01/img-cars/lamborghini-murcielago/lamborghini-murcielago-2872974__340.jpg\"> </div> <div class=\"col-md-6 body-card\"> <p class=\"txt-name inline\">LAMBORGHINI MURCIELAGO</p> <p class=\"txt-category badge badge-secondary inline\">USADO</p> <p class=\"txt-motor\">Motor 1.0 8v</p> <p class=\"txt-description\">Ano 1991 - 464 km</p> <ul class=\"lst-items\"> <li class=\"txt-items\">► Central multimídia</li> <li class=\"txt-items\">► Teto panorâmico</li> <li class=\"txt-items\">► Sensor crepuscular</li> <li class=\"txt-items\">► Piloto automático</li> <li class=\"txt-items\">...</li> </ul> <p class=\"txt-location\">Belo Horizonte - MG</p> </div> <div class=\"col-md-3 value-card\"> <div class=\"value\"> <p class=\"txt-value\">R$ 175.000</p> </div> </div> </div> <div class=\"well card\"> <div class=\"col-md-3 image-card\"> <img width=\"220\" height=\"155\" alt=\"Foto\" src=\"https://caelum-online-public.s3.amazonaws.com/1381-scraping/01/img-cars/aston-martin/aston-martin-2977916__340.jpg\"> </div> <div class=\"col-md-6 body-card\"> <p class=\"txt-name inline\">ASTON MARTIN</p> <p class=\"txt-category badge badge-secondary inline\">USADO</p> <p class=\"txt-opportunity badge badge-danger inline\">OPORTUNIDADE</p> <p class=\"txt-motor\">Motor Diesel V6</p> <p class=\"txt-description\">Ano 2004 - 50.189 km</p> <ul class=\"lst-items\"> <li class=\"txt-items\">► Painel digital</li> <li class=\"txt-items\">► Controle de tração</li> <li class=\"txt-items\">► Teto panorâmico</li> <li class=\"txt-items\">► Central multimídia</li> <li class=\"txt-items\">...</li> </ul> <p class=\"txt-location\">Belo Horizonte - MG</p> </div> <div class=\"col-md-3 value-card\"> <div class=\"value\"> <p class=\"txt-value\">R$ 239.000</p> </div> </div> </div> <div class=\"well card\"> <div class=\"col-md-3 image-card\"> <img width=\"220\" height=\"155\" alt=\"Foto\" src=\"https://caelum-online-public.s3.amazonaws.com/1381-scraping/01/img-cars/tvr/tvr-2943925__340.jpg\"> </div> <div class=\"col-md-6 body-card\"> <p class=\"txt-name inline\">TVR</p> <p class=\"txt-category badge badge-secondary inline\">USADO</p> <p class=\"txt-motor\">Motor 4.0 Turbo</p> <p class=\"txt-description\">Ano 2014 - 17.778 km</p> <ul class=\"lst-items\"> <li class=\"txt-items\">► 4 X 4</li> <li class=\"txt-items\">► Teto panorâmico</li> <li class=\"txt-items\">► Central multimídia</li> <li class=\"txt-items\">► Controle de estabilidade</li> <li class=\"txt-items\">...</li> </ul> <p class=\"txt-location\">Belo Horizonte - MG</p> </div> <div class=\"col-md-3 value-card\"> <div class=\"value\"> <p class=\"txt-value\">R$ 115.000</p> </div> </div> </div> <div class=\"well card\"> <div class=\"col-md-3 image-card\"> <img width=\"220\" height=\"155\" alt=\"Foto\" src=\"https://caelum-online-public.s3.amazonaws.com/1381-scraping/01/img-cars/excalibur/excalibur-2916730__340.jpg\"> </div> <div class=\"col-md-6 body-card\"> <p class=\"txt-name inline\">EXCALIBUR</p> <p class=\"txt-category badge badge-secondary inline\">USADO</p> <p class=\"txt-motor\">Motor 3.0 32v</p> <p class=\"txt-description\">Ano 2009 - 81.251 km</p> <ul class=\"lst-items\"> <li class=\"txt-items\">► Painel digital</li> <li class=\"txt-items\">► Câmbio automático</li> <li class=\"txt-items\">► Sensor de chuva</li> <li class=\"txt-items\">► Travas elétricas</li> <li class=\"txt-items\">...</li> </ul> <p class=\"txt-location\">Rio de Janeiro - RJ</p> </div> <div class=\"col-md-3 value-card\"> <div class=\"value\"> <p class=\"txt-value\">R$ 114.000</p> </div> </div> </div> <div class=\"well card\"> <div class=\"col-md-3 image-card\"> <img width=\"220\" height=\"155\" alt=\"Foto\" src=\"https://caelum-online-public.s3.amazonaws.com/1381-scraping/01/img-cars/mclaren/mclaren-2855240__340.jpg\"> </div> <div class=\"col-md-6 body-card\"> <p class=\"txt-name inline\">MCLAREN</p> <p class=\"txt-category badge badge-secondary inline\">NOVO</p> <p class=\"txt-motor\">Motor Diesel</p> <p class=\"txt-description\">Ano 2019 - 0 km</p> <ul class=\"lst-items\"> <li class=\"txt-items\">► Central multimídia</li> <li class=\"txt-items\">► Câmera de estacionamento</li> <li class=\"txt-items\">► Câmbio automático</li> <li class=\"txt-items\">► Ar condicionado</li> <li class=\"txt-items\">...</li> </ul> <p class=\"txt-location\">São Paulo - SP</p> </div> <div class=\"col-md-3 value-card\"> <div class=\"value\"> <p class=\"txt-value\">R$ 75.000</p> </div> </div> </div> <div class=\"well card\"> <div class=\"col-md-3 image-card\"> <img width=\"220\" height=\"155\" alt=\"Foto\" src=\"https://caelum-online-public.s3.amazonaws.com/1381-scraping/01/img-cars/toyota/toyota-3245397__340.jpg\"> </div> <div class=\"col-md-6 body-card\"> <p class=\"txt-name inline\">TOYOTA</p> <p class=\"txt-category badge badge-secondary inline\">USADO</p> <p class=\"txt-opportunity badge badge-danger inline\">OPORTUNIDADE</p> <p class=\"txt-motor\">Motor 4.0 Turbo</p> <p class=\"txt-description\">Ano 1999 - 12.536 km</p> <ul class=\"lst-items\"> <li class=\"txt-items\">► Bancos de couro</li> <li class=\"txt-items\">► Freios ABS</li> <li class=\"txt-items\">► Piloto automático</li> <li class=\"txt-items\">► Controle de estabilidade</li> <li class=\"txt-items\">...</li> </ul> <p class=\"txt-location\">São Paulo - SP</p> </div> <div class=\"col-md-3 value-card\"> <div class=\"value\"> <p class=\"txt-value\">R$ 117.000</p> </div> </div> </div> </div> <div class=\"type-select\">246 veículos encontrados</div> <div class=\"container-pagination\" style=\"float: right\"> <span class=\"info-pages\">Página 1 de 25</span> </div> </div> </div> </div> </div> </div> <footer> <nav class=\"navbar navbar-inverse\"> <div class=\"container\" style=\"margin-bottom: 10px;\"> <div class=\"navbar\"> <a href=\"./index.php\" class=\"navbar-brand\" title=\"Alura Motors\"> <img src=\"img/alura-logo.svg\" class=\"d-inline-block align-top\" alt=\"Alura\">Motors </a> <p style=\"color: #fff; text-align: center; margin-top: 40px;\">Aplicação para treinamento de web scraping</p> </div> </div> </nav> </footer> </div> </body> </html>'"
            ],
            "application/vnd.google.colaboratory.intrinsic+json": {
              "type": "string"
            }
          },
          "metadata": {},
          "execution_count": 36
        }
      ]
    },
    {
      "cell_type": "markdown",
      "source": [
        "Also, it is common to erase the space between *> <*. This can be done with:"
      ],
      "metadata": {
        "id": "DR-XlLFSPls7"
      }
    },
    {
      "cell_type": "code",
      "source": [
        "\" \".join(html.split( )).replace('> <', '><')"
      ],
      "metadata": {
        "colab": {
          "base_uri": "https://localhost:8080/",
          "height": 140
        },
        "id": "FuxwcsoaPcsx",
        "outputId": "6ba16311-4658-43c7-af8c-6981cee1abdb"
      },
      "execution_count": 37,
      "outputs": [
        {
          "output_type": "execute_result",
          "data": {
            "text/plain": [
              "'<!DOCTYPE html><html lang=\"pt-br\"><head><meta charset=\"utf-8\"><meta name=\"viewport\" content=\"width=device-width, initial-scale=1, shrink-to-fit=no\"><title>Alura Motors</title><style> /*Regra para a animacao*/ @keyframes spin { 0% { transform: rotate(0deg); } 100% { transform: rotate(360deg); } } /*Mudando o tamanho do icone de resposta*/ div.glyphicon { color:#6B8E23; font-size: 38px; } /*Classe que mostra a animacao \\'spin\\'*/ .loader { border: 16px solid #f3f3f3; border-radius: 50%; border-top: 16px solid #3498db; width: 80px; height: 80px; -webkit-animation: spin 2s linear infinite; animation: spin 2s linear infinite; } </style><link rel=\"stylesheet\" href=\"https://maxcdn.bootstrapcdn.com/bootstrap/3.3.7/css/bootstrap.min.css\" integrity=\"sha384-BVYiiSIFeK1dGmJRAkycuHAHRg32OmUcww7on3RYdg4Va+PmSTsz/K68vbdEjh4u\" crossorigin=\"anonymous\"><link rel=\"stylesheet\" href=\"css/styles.css\" media=\"all\"><script src=\"https://code.jquery.com/jquery-1.12.4.js\"></script><script src=\"https://maxcdn.bootstrapcdn.com/bootstrap/3.3.7/js/bootstrap.min.js\" integrity=\"sha384-Tc5IQib027qvyjSMfHjOMaLkfuWVxZxUPnCJA7l2mCWNIpG9mGCD8wGNIcPD7Txa\" crossorigin=\"anonymous\"></script><script type=\"text/javascript\" src=\"js/index.js\"></script><script> requisitar(\"https://alura-scraping.herokuapp.com/produtos?_page=\"+1+\"&_limit=10\") </script></head><body cz-shortcut-listen=\"true\"><noscript>You need to enable JavaScript to run this app.</noscript><div class=\"modal fade\" data-backdrop=\"static\" id=\"loadingModal\" tabindex=\"-1\" role=\"dialog\" aria-labelledby=\"loadingModal_label\"><div class=\"modal-dialog\" role=\"document\"><div class=\"modal-content\"><div class=\"modal-header\"><h5 class=\"modal-title\" id=\"loadingModal_label\"><span class=\"glyphicon glyphicon-refresh\"></span>Aguarde... </h5></div><div class=\"modal-body\"><div class=\\'alert\\' role=\\'alert\\'><center><div class=\"loader\" id=\"loader\"></div><br><h4><b id=\"loadingModal_content\"></b></h4></center></div></div></div></div></div><div id=\"root\"><header><nav class=\"navbar navbar-inverse\" style=\"margin-bottom: 0;\"><div class=\"container\" style=\"margin-bottom: -20px;\"><div class=\"navbar\"><a href=\"./index.php\" class=\"navbar-brand\" title=\"Alura Motors\"><img src=\"img/alura-logo.svg\" class=\"d-inline-block align-top\" alt=\"Alura\">Motors </a><ul class=\"nav navbar-nav\" style=\"margin-top: 35px;\"><li><a href=\"./hello-world.php\">Hello World</a></li><li><a href=\"./index.php\">Anúncios</a></li></ul></div></div></nav></header><div class=\"container\"><h1 class=\"sub-header\">Veículos de Luxo Novos e Usados - Todas as Marcas</h1><div class=\"row\"><div class=\"col-md-12\"><div class=\"container\" style=\"width: 100%\"><div class=\"type-select\">246 veículos encontrados</div><div class=\"container-pagination\" style=\"float: right\"><span class=\"info-pages\">Página 1 de 25</span></div></div><div id=\"container-cards\" style=\"height: 100%\"><div class=\"well card\"><div class=\"col-md-3 image-card\"><img width=\"220\" height=\"155\" alt=\"Foto\" src=\"https://caelum-online-public.s3.amazonaws.com/1381-scraping/01/img-cars/lamborghini-aventador/lamborghini-aventador-2932196__340.jpg\"></div><div class=\"col-md-6 body-card\"><p class=\"txt-name inline\">LAMBORGHINI AVENTADOR</p><p class=\"txt-category badge badge-secondary inline\">USADO</p><p class=\"txt-motor\">Motor 1.8 16v</p><p class=\"txt-description\">Ano 1993 - 55.286 km</p><ul class=\"lst-items\"><li class=\"txt-items\">► 4 X 4</li><li class=\"txt-items\">► Câmera de estacionamento</li><li class=\"txt-items\">► Controle de tração</li><li class=\"txt-items\">► Sensor de estacionamento</li><li class=\"txt-items\">...</li></ul><p class=\"txt-location\">Belo Horizonte - MG</p></div><div class=\"col-md-3 value-card\"><div class=\"value\"><p class=\"txt-value\">R$ 338.000</p></div></div></div><div class=\"well card\"><div class=\"col-md-3 image-card\"><img width=\"220\" height=\"155\" alt=\"Foto\" src=\"https://caelum-online-public.s3.amazonaws.com/1381-scraping/01/img-cars/bmw-m2/bmw-m2-2970882__340.jpg\"></div><div class=\"col-md-6 body-card\"><p class=\"txt-name inline\">BMW M2</p><p class=\"txt-category badge badge-secondary inline\">USADO</p><p class=\"txt-motor\">Motor 3.0 32v</p><p class=\"txt-description\">Ano 2018 - 83.447 km</p><ul class=\"lst-items\"><li class=\"txt-items\">► Câmera de estacionamento</li><li class=\"txt-items\">► Controle de estabilidade</li><li class=\"txt-items\">► Travas elétricas</li><li class=\"txt-items\">► Freios ABS</li><li class=\"txt-items\">...</li></ul><p class=\"txt-location\">Belo Horizonte - MG</p></div><div class=\"col-md-3 value-card\"><div class=\"value\"><p class=\"txt-value\">R$ 346.000</p></div></div></div><div class=\"well card\"><div class=\"col-md-3 image-card\"><img width=\"220\" height=\"155\" alt=\"Foto\" src=\"https://caelum-online-public.s3.amazonaws.com/1381-scraping/01/img-cars/alfa/alfa-1823056__340.jpg\"></div><div class=\"col-md-6 body-card\"><p class=\"txt-name inline\">ALFA</p><p class=\"txt-category badge badge-secondary inline\">USADO</p><p class=\"txt-motor\">Motor 1.8 16v</p><p class=\"txt-description\">Ano 2004 - 19.722 km</p><ul class=\"lst-items\"><li class=\"txt-items\">► Central multimídia</li><li class=\"txt-items\">► Bancos de couro</li><li class=\"txt-items\">► Rodas de liga</li><li class=\"txt-items\">► Câmera de estacionamento</li><li class=\"txt-items\">...</li></ul><p class=\"txt-location\">Rio de Janeiro - RJ</p></div><div class=\"col-md-3 value-card\"><div class=\"value\"><p class=\"txt-value\">R$ 480.000</p></div></div></div><div class=\"well card\"><div class=\"col-md-3 image-card\"><img width=\"220\" height=\"155\" alt=\"Foto\" src=\"https://caelum-online-public.s3.amazonaws.com/1381-scraping/01/img-cars/puech/puech-4055386__340.jpg\"></div><div class=\"col-md-6 body-card\"><p class=\"txt-name inline\">PUECH</p><p class=\"txt-category badge badge-secondary inline\">USADO</p><p class=\"txt-motor\">Motor Diesel V8</p><p class=\"txt-description\">Ano 1992 - 34.335 km</p><ul class=\"lst-items\"><li class=\"txt-items\">► Bancos de couro</li><li class=\"txt-items\">► Freios ABS</li><li class=\"txt-items\">► Rodas de liga</li><li class=\"txt-items\">► Câmbio automático</li><li class=\"txt-items\">...</li></ul><p class=\"txt-location\">São Paulo - SP</p></div><div class=\"col-md-3 value-card\"><div class=\"value\"><p class=\"txt-value\">R$ 133.000</p></div></div></div><div class=\"well card\"><div class=\"col-md-3 image-card\"><img width=\"220\" height=\"155\" alt=\"Foto\" src=\"https://caelum-online-public.s3.amazonaws.com/1381-scraping/01/img-cars/lamborghini-murcielago/lamborghini-murcielago-2872974__340.jpg\"></div><div class=\"col-md-6 body-card\"><p class=\"txt-name inline\">LAMBORGHINI MURCIELAGO</p><p class=\"txt-category badge badge-secondary inline\">USADO</p><p class=\"txt-motor\">Motor 1.0 8v</p><p class=\"txt-description\">Ano 1991 - 464 km</p><ul class=\"lst-items\"><li class=\"txt-items\">► Central multimídia</li><li class=\"txt-items\">► Teto panorâmico</li><li class=\"txt-items\">► Sensor crepuscular</li><li class=\"txt-items\">► Piloto automático</li><li class=\"txt-items\">...</li></ul><p class=\"txt-location\">Belo Horizonte - MG</p></div><div class=\"col-md-3 value-card\"><div class=\"value\"><p class=\"txt-value\">R$ 175.000</p></div></div></div><div class=\"well card\"><div class=\"col-md-3 image-card\"><img width=\"220\" height=\"155\" alt=\"Foto\" src=\"https://caelum-online-public.s3.amazonaws.com/1381-scraping/01/img-cars/aston-martin/aston-martin-2977916__340.jpg\"></div><div class=\"col-md-6 body-card\"><p class=\"txt-name inline\">ASTON MARTIN</p><p class=\"txt-category badge badge-secondary inline\">USADO</p><p class=\"txt-opportunity badge badge-danger inline\">OPORTUNIDADE</p><p class=\"txt-motor\">Motor Diesel V6</p><p class=\"txt-description\">Ano 2004 - 50.189 km</p><ul class=\"lst-items\"><li class=\"txt-items\">► Painel digital</li><li class=\"txt-items\">► Controle de tração</li><li class=\"txt-items\">► Teto panorâmico</li><li class=\"txt-items\">► Central multimídia</li><li class=\"txt-items\">...</li></ul><p class=\"txt-location\">Belo Horizonte - MG</p></div><div class=\"col-md-3 value-card\"><div class=\"value\"><p class=\"txt-value\">R$ 239.000</p></div></div></div><div class=\"well card\"><div class=\"col-md-3 image-card\"><img width=\"220\" height=\"155\" alt=\"Foto\" src=\"https://caelum-online-public.s3.amazonaws.com/1381-scraping/01/img-cars/tvr/tvr-2943925__340.jpg\"></div><div class=\"col-md-6 body-card\"><p class=\"txt-name inline\">TVR</p><p class=\"txt-category badge badge-secondary inline\">USADO</p><p class=\"txt-motor\">Motor 4.0 Turbo</p><p class=\"txt-description\">Ano 2014 - 17.778 km</p><ul class=\"lst-items\"><li class=\"txt-items\">► 4 X 4</li><li class=\"txt-items\">► Teto panorâmico</li><li class=\"txt-items\">► Central multimídia</li><li class=\"txt-items\">► Controle de estabilidade</li><li class=\"txt-items\">...</li></ul><p class=\"txt-location\">Belo Horizonte - MG</p></div><div class=\"col-md-3 value-card\"><div class=\"value\"><p class=\"txt-value\">R$ 115.000</p></div></div></div><div class=\"well card\"><div class=\"col-md-3 image-card\"><img width=\"220\" height=\"155\" alt=\"Foto\" src=\"https://caelum-online-public.s3.amazonaws.com/1381-scraping/01/img-cars/excalibur/excalibur-2916730__340.jpg\"></div><div class=\"col-md-6 body-card\"><p class=\"txt-name inline\">EXCALIBUR</p><p class=\"txt-category badge badge-secondary inline\">USADO</p><p class=\"txt-motor\">Motor 3.0 32v</p><p class=\"txt-description\">Ano 2009 - 81.251 km</p><ul class=\"lst-items\"><li class=\"txt-items\">► Painel digital</li><li class=\"txt-items\">► Câmbio automático</li><li class=\"txt-items\">► Sensor de chuva</li><li class=\"txt-items\">► Travas elétricas</li><li class=\"txt-items\">...</li></ul><p class=\"txt-location\">Rio de Janeiro - RJ</p></div><div class=\"col-md-3 value-card\"><div class=\"value\"><p class=\"txt-value\">R$ 114.000</p></div></div></div><div class=\"well card\"><div class=\"col-md-3 image-card\"><img width=\"220\" height=\"155\" alt=\"Foto\" src=\"https://caelum-online-public.s3.amazonaws.com/1381-scraping/01/img-cars/mclaren/mclaren-2855240__340.jpg\"></div><div class=\"col-md-6 body-card\"><p class=\"txt-name inline\">MCLAREN</p><p class=\"txt-category badge badge-secondary inline\">NOVO</p><p class=\"txt-motor\">Motor Diesel</p><p class=\"txt-description\">Ano 2019 - 0 km</p><ul class=\"lst-items\"><li class=\"txt-items\">► Central multimídia</li><li class=\"txt-items\">► Câmera de estacionamento</li><li class=\"txt-items\">► Câmbio automático</li><li class=\"txt-items\">► Ar condicionado</li><li class=\"txt-items\">...</li></ul><p class=\"txt-location\">São Paulo - SP</p></div><div class=\"col-md-3 value-card\"><div class=\"value\"><p class=\"txt-value\">R$ 75.000</p></div></div></div><div class=\"well card\"><div class=\"col-md-3 image-card\"><img width=\"220\" height=\"155\" alt=\"Foto\" src=\"https://caelum-online-public.s3.amazonaws.com/1381-scraping/01/img-cars/toyota/toyota-3245397__340.jpg\"></div><div class=\"col-md-6 body-card\"><p class=\"txt-name inline\">TOYOTA</p><p class=\"txt-category badge badge-secondary inline\">USADO</p><p class=\"txt-opportunity badge badge-danger inline\">OPORTUNIDADE</p><p class=\"txt-motor\">Motor 4.0 Turbo</p><p class=\"txt-description\">Ano 1999 - 12.536 km</p><ul class=\"lst-items\"><li class=\"txt-items\">► Bancos de couro</li><li class=\"txt-items\">► Freios ABS</li><li class=\"txt-items\">► Piloto automático</li><li class=\"txt-items\">► Controle de estabilidade</li><li class=\"txt-items\">...</li></ul><p class=\"txt-location\">São Paulo - SP</p></div><div class=\"col-md-3 value-card\"><div class=\"value\"><p class=\"txt-value\">R$ 117.000</p></div></div></div></div><div class=\"type-select\">246 veículos encontrados</div><div class=\"container-pagination\" style=\"float: right\"><span class=\"info-pages\">Página 1 de 25</span></div></div></div></div></div></div><footer><nav class=\"navbar navbar-inverse\"><div class=\"container\" style=\"margin-bottom: 10px;\"><div class=\"navbar\"><a href=\"./index.php\" class=\"navbar-brand\" title=\"Alura Motors\"><img src=\"img/alura-logo.svg\" class=\"d-inline-block align-top\" alt=\"Alura\">Motors </a><p style=\"color: #fff; text-align: center; margin-top: 40px;\">Aplicação para treinamento de web scraping</p></div></div></nav></footer></div></body></html>'"
            ],
            "application/vnd.google.colaboratory.intrinsic+json": {
              "type": "string"
            }
          },
          "metadata": {},
          "execution_count": 37
        }
      ]
    },
    {
      "cell_type": "markdown",
      "source": [
        "Great!"
      ],
      "metadata": {
        "id": "KlclKvdRQX-D"
      }
    },
    {
      "cell_type": "code",
      "source": [
        "%reset -f"
      ],
      "metadata": {
        "id": "ORlZNkJ1QYpl"
      },
      "execution_count": 38,
      "outputs": []
    },
    {
      "cell_type": "markdown",
      "source": [
        "Finally, to simplify things out for our future scrapings, we can simply define a function to treat our html. Thus, we may define:"
      ],
      "metadata": {
        "id": "-J7PuAXSPxpU"
      }
    },
    {
      "cell_type": "code",
      "source": [
        "def treat_html(input):\n",
        "  input = input.decode('utf-8')\n",
        "  return \" \".join(input.split( )).replace('> <', '><')"
      ],
      "metadata": {
        "id": "Ksf1T0LBPw86"
      },
      "execution_count": 39,
      "outputs": []
    },
    {
      "cell_type": "markdown",
      "source": [
        "Now, we can simply do:"
      ],
      "metadata": {
        "id": "bVbTmhb3QcMq"
      }
    },
    {
      "cell_type": "code",
      "source": [
        "from urllib.request import urlopen\n",
        "\n",
        "url = 'https://alura-site-scraping.herokuapp.com/index.php'\n",
        "\n",
        "response = urlopen(url)\n",
        "html = response.read( )\n",
        "\n",
        "html = treat_html(html)"
      ],
      "metadata": {
        "id": "9oYYvEB9Qdr-"
      },
      "execution_count": 40,
      "outputs": []
    },
    {
      "cell_type": "markdown",
      "source": [
        "And we get, as output:"
      ],
      "metadata": {
        "id": "8Ib3yaGQQjMp"
      }
    },
    {
      "cell_type": "code",
      "source": [
        "html"
      ],
      "metadata": {
        "colab": {
          "base_uri": "https://localhost:8080/",
          "height": 140
        },
        "id": "u6V1j2WvQguQ",
        "outputId": "015cad7b-7598-4072-d715-ffb53ef99eed"
      },
      "execution_count": 41,
      "outputs": [
        {
          "output_type": "execute_result",
          "data": {
            "text/plain": [
              "'<!DOCTYPE html><html lang=\"pt-br\"><head><meta charset=\"utf-8\"><meta name=\"viewport\" content=\"width=device-width, initial-scale=1, shrink-to-fit=no\"><title>Alura Motors</title><style> /*Regra para a animacao*/ @keyframes spin { 0% { transform: rotate(0deg); } 100% { transform: rotate(360deg); } } /*Mudando o tamanho do icone de resposta*/ div.glyphicon { color:#6B8E23; font-size: 38px; } /*Classe que mostra a animacao \\'spin\\'*/ .loader { border: 16px solid #f3f3f3; border-radius: 50%; border-top: 16px solid #3498db; width: 80px; height: 80px; -webkit-animation: spin 2s linear infinite; animation: spin 2s linear infinite; } </style><link rel=\"stylesheet\" href=\"https://maxcdn.bootstrapcdn.com/bootstrap/3.3.7/css/bootstrap.min.css\" integrity=\"sha384-BVYiiSIFeK1dGmJRAkycuHAHRg32OmUcww7on3RYdg4Va+PmSTsz/K68vbdEjh4u\" crossorigin=\"anonymous\"><link rel=\"stylesheet\" href=\"css/styles.css\" media=\"all\"><script src=\"https://code.jquery.com/jquery-1.12.4.js\"></script><script src=\"https://maxcdn.bootstrapcdn.com/bootstrap/3.3.7/js/bootstrap.min.js\" integrity=\"sha384-Tc5IQib027qvyjSMfHjOMaLkfuWVxZxUPnCJA7l2mCWNIpG9mGCD8wGNIcPD7Txa\" crossorigin=\"anonymous\"></script><script type=\"text/javascript\" src=\"js/index.js\"></script><script> requisitar(\"https://alura-scraping.herokuapp.com/produtos?_page=\"+1+\"&_limit=10\") </script></head><body cz-shortcut-listen=\"true\"><noscript>You need to enable JavaScript to run this app.</noscript><div class=\"modal fade\" data-backdrop=\"static\" id=\"loadingModal\" tabindex=\"-1\" role=\"dialog\" aria-labelledby=\"loadingModal_label\"><div class=\"modal-dialog\" role=\"document\"><div class=\"modal-content\"><div class=\"modal-header\"><h5 class=\"modal-title\" id=\"loadingModal_label\"><span class=\"glyphicon glyphicon-refresh\"></span>Aguarde... </h5></div><div class=\"modal-body\"><div class=\\'alert\\' role=\\'alert\\'><center><div class=\"loader\" id=\"loader\"></div><br><h4><b id=\"loadingModal_content\"></b></h4></center></div></div></div></div></div><div id=\"root\"><header><nav class=\"navbar navbar-inverse\" style=\"margin-bottom: 0;\"><div class=\"container\" style=\"margin-bottom: -20px;\"><div class=\"navbar\"><a href=\"./index.php\" class=\"navbar-brand\" title=\"Alura Motors\"><img src=\"img/alura-logo.svg\" class=\"d-inline-block align-top\" alt=\"Alura\">Motors </a><ul class=\"nav navbar-nav\" style=\"margin-top: 35px;\"><li><a href=\"./hello-world.php\">Hello World</a></li><li><a href=\"./index.php\">Anúncios</a></li></ul></div></div></nav></header><div class=\"container\"><h1 class=\"sub-header\">Veículos de Luxo Novos e Usados - Todas as Marcas</h1><div class=\"row\"><div class=\"col-md-12\"><div class=\"container\" style=\"width: 100%\"><div class=\"type-select\">246 veículos encontrados</div><div class=\"container-pagination\" style=\"float: right\"><span class=\"info-pages\">Página 1 de 25</span></div></div><div id=\"container-cards\" style=\"height: 100%\"><div class=\"well card\"><div class=\"col-md-3 image-card\"><img width=\"220\" height=\"155\" alt=\"Foto\" src=\"https://caelum-online-public.s3.amazonaws.com/1381-scraping/01/img-cars/lamborghini-aventador/lamborghini-aventador-2932196__340.jpg\"></div><div class=\"col-md-6 body-card\"><p class=\"txt-name inline\">LAMBORGHINI AVENTADOR</p><p class=\"txt-category badge badge-secondary inline\">USADO</p><p class=\"txt-motor\">Motor 1.8 16v</p><p class=\"txt-description\">Ano 1993 - 55.286 km</p><ul class=\"lst-items\"><li class=\"txt-items\">► 4 X 4</li><li class=\"txt-items\">► Câmera de estacionamento</li><li class=\"txt-items\">► Controle de tração</li><li class=\"txt-items\">► Sensor de estacionamento</li><li class=\"txt-items\">...</li></ul><p class=\"txt-location\">Belo Horizonte - MG</p></div><div class=\"col-md-3 value-card\"><div class=\"value\"><p class=\"txt-value\">R$ 338.000</p></div></div></div><div class=\"well card\"><div class=\"col-md-3 image-card\"><img width=\"220\" height=\"155\" alt=\"Foto\" src=\"https://caelum-online-public.s3.amazonaws.com/1381-scraping/01/img-cars/bmw-m2/bmw-m2-2970882__340.jpg\"></div><div class=\"col-md-6 body-card\"><p class=\"txt-name inline\">BMW M2</p><p class=\"txt-category badge badge-secondary inline\">USADO</p><p class=\"txt-motor\">Motor 3.0 32v</p><p class=\"txt-description\">Ano 2018 - 83.447 km</p><ul class=\"lst-items\"><li class=\"txt-items\">► Câmera de estacionamento</li><li class=\"txt-items\">► Controle de estabilidade</li><li class=\"txt-items\">► Travas elétricas</li><li class=\"txt-items\">► Freios ABS</li><li class=\"txt-items\">...</li></ul><p class=\"txt-location\">Belo Horizonte - MG</p></div><div class=\"col-md-3 value-card\"><div class=\"value\"><p class=\"txt-value\">R$ 346.000</p></div></div></div><div class=\"well card\"><div class=\"col-md-3 image-card\"><img width=\"220\" height=\"155\" alt=\"Foto\" src=\"https://caelum-online-public.s3.amazonaws.com/1381-scraping/01/img-cars/alfa/alfa-1823056__340.jpg\"></div><div class=\"col-md-6 body-card\"><p class=\"txt-name inline\">ALFA</p><p class=\"txt-category badge badge-secondary inline\">USADO</p><p class=\"txt-motor\">Motor 1.8 16v</p><p class=\"txt-description\">Ano 2004 - 19.722 km</p><ul class=\"lst-items\"><li class=\"txt-items\">► Central multimídia</li><li class=\"txt-items\">► Bancos de couro</li><li class=\"txt-items\">► Rodas de liga</li><li class=\"txt-items\">► Câmera de estacionamento</li><li class=\"txt-items\">...</li></ul><p class=\"txt-location\">Rio de Janeiro - RJ</p></div><div class=\"col-md-3 value-card\"><div class=\"value\"><p class=\"txt-value\">R$ 480.000</p></div></div></div><div class=\"well card\"><div class=\"col-md-3 image-card\"><img width=\"220\" height=\"155\" alt=\"Foto\" src=\"https://caelum-online-public.s3.amazonaws.com/1381-scraping/01/img-cars/puech/puech-4055386__340.jpg\"></div><div class=\"col-md-6 body-card\"><p class=\"txt-name inline\">PUECH</p><p class=\"txt-category badge badge-secondary inline\">USADO</p><p class=\"txt-motor\">Motor Diesel V8</p><p class=\"txt-description\">Ano 1992 - 34.335 km</p><ul class=\"lst-items\"><li class=\"txt-items\">► Bancos de couro</li><li class=\"txt-items\">► Freios ABS</li><li class=\"txt-items\">► Rodas de liga</li><li class=\"txt-items\">► Câmbio automático</li><li class=\"txt-items\">...</li></ul><p class=\"txt-location\">São Paulo - SP</p></div><div class=\"col-md-3 value-card\"><div class=\"value\"><p class=\"txt-value\">R$ 133.000</p></div></div></div><div class=\"well card\"><div class=\"col-md-3 image-card\"><img width=\"220\" height=\"155\" alt=\"Foto\" src=\"https://caelum-online-public.s3.amazonaws.com/1381-scraping/01/img-cars/lamborghini-murcielago/lamborghini-murcielago-2872974__340.jpg\"></div><div class=\"col-md-6 body-card\"><p class=\"txt-name inline\">LAMBORGHINI MURCIELAGO</p><p class=\"txt-category badge badge-secondary inline\">USADO</p><p class=\"txt-motor\">Motor 1.0 8v</p><p class=\"txt-description\">Ano 1991 - 464 km</p><ul class=\"lst-items\"><li class=\"txt-items\">► Central multimídia</li><li class=\"txt-items\">► Teto panorâmico</li><li class=\"txt-items\">► Sensor crepuscular</li><li class=\"txt-items\">► Piloto automático</li><li class=\"txt-items\">...</li></ul><p class=\"txt-location\">Belo Horizonte - MG</p></div><div class=\"col-md-3 value-card\"><div class=\"value\"><p class=\"txt-value\">R$ 175.000</p></div></div></div><div class=\"well card\"><div class=\"col-md-3 image-card\"><img width=\"220\" height=\"155\" alt=\"Foto\" src=\"https://caelum-online-public.s3.amazonaws.com/1381-scraping/01/img-cars/aston-martin/aston-martin-2977916__340.jpg\"></div><div class=\"col-md-6 body-card\"><p class=\"txt-name inline\">ASTON MARTIN</p><p class=\"txt-category badge badge-secondary inline\">USADO</p><p class=\"txt-opportunity badge badge-danger inline\">OPORTUNIDADE</p><p class=\"txt-motor\">Motor Diesel V6</p><p class=\"txt-description\">Ano 2004 - 50.189 km</p><ul class=\"lst-items\"><li class=\"txt-items\">► Painel digital</li><li class=\"txt-items\">► Controle de tração</li><li class=\"txt-items\">► Teto panorâmico</li><li class=\"txt-items\">► Central multimídia</li><li class=\"txt-items\">...</li></ul><p class=\"txt-location\">Belo Horizonte - MG</p></div><div class=\"col-md-3 value-card\"><div class=\"value\"><p class=\"txt-value\">R$ 239.000</p></div></div></div><div class=\"well card\"><div class=\"col-md-3 image-card\"><img width=\"220\" height=\"155\" alt=\"Foto\" src=\"https://caelum-online-public.s3.amazonaws.com/1381-scraping/01/img-cars/tvr/tvr-2943925__340.jpg\"></div><div class=\"col-md-6 body-card\"><p class=\"txt-name inline\">TVR</p><p class=\"txt-category badge badge-secondary inline\">USADO</p><p class=\"txt-motor\">Motor 4.0 Turbo</p><p class=\"txt-description\">Ano 2014 - 17.778 km</p><ul class=\"lst-items\"><li class=\"txt-items\">► 4 X 4</li><li class=\"txt-items\">► Teto panorâmico</li><li class=\"txt-items\">► Central multimídia</li><li class=\"txt-items\">► Controle de estabilidade</li><li class=\"txt-items\">...</li></ul><p class=\"txt-location\">Belo Horizonte - MG</p></div><div class=\"col-md-3 value-card\"><div class=\"value\"><p class=\"txt-value\">R$ 115.000</p></div></div></div><div class=\"well card\"><div class=\"col-md-3 image-card\"><img width=\"220\" height=\"155\" alt=\"Foto\" src=\"https://caelum-online-public.s3.amazonaws.com/1381-scraping/01/img-cars/excalibur/excalibur-2916730__340.jpg\"></div><div class=\"col-md-6 body-card\"><p class=\"txt-name inline\">EXCALIBUR</p><p class=\"txt-category badge badge-secondary inline\">USADO</p><p class=\"txt-motor\">Motor 3.0 32v</p><p class=\"txt-description\">Ano 2009 - 81.251 km</p><ul class=\"lst-items\"><li class=\"txt-items\">► Painel digital</li><li class=\"txt-items\">► Câmbio automático</li><li class=\"txt-items\">► Sensor de chuva</li><li class=\"txt-items\">► Travas elétricas</li><li class=\"txt-items\">...</li></ul><p class=\"txt-location\">Rio de Janeiro - RJ</p></div><div class=\"col-md-3 value-card\"><div class=\"value\"><p class=\"txt-value\">R$ 114.000</p></div></div></div><div class=\"well card\"><div class=\"col-md-3 image-card\"><img width=\"220\" height=\"155\" alt=\"Foto\" src=\"https://caelum-online-public.s3.amazonaws.com/1381-scraping/01/img-cars/mclaren/mclaren-2855240__340.jpg\"></div><div class=\"col-md-6 body-card\"><p class=\"txt-name inline\">MCLAREN</p><p class=\"txt-category badge badge-secondary inline\">NOVO</p><p class=\"txt-motor\">Motor Diesel</p><p class=\"txt-description\">Ano 2019 - 0 km</p><ul class=\"lst-items\"><li class=\"txt-items\">► Central multimídia</li><li class=\"txt-items\">► Câmera de estacionamento</li><li class=\"txt-items\">► Câmbio automático</li><li class=\"txt-items\">► Ar condicionado</li><li class=\"txt-items\">...</li></ul><p class=\"txt-location\">São Paulo - SP</p></div><div class=\"col-md-3 value-card\"><div class=\"value\"><p class=\"txt-value\">R$ 75.000</p></div></div></div><div class=\"well card\"><div class=\"col-md-3 image-card\"><img width=\"220\" height=\"155\" alt=\"Foto\" src=\"https://caelum-online-public.s3.amazonaws.com/1381-scraping/01/img-cars/toyota/toyota-3245397__340.jpg\"></div><div class=\"col-md-6 body-card\"><p class=\"txt-name inline\">TOYOTA</p><p class=\"txt-category badge badge-secondary inline\">USADO</p><p class=\"txt-opportunity badge badge-danger inline\">OPORTUNIDADE</p><p class=\"txt-motor\">Motor 4.0 Turbo</p><p class=\"txt-description\">Ano 1999 - 12.536 km</p><ul class=\"lst-items\"><li class=\"txt-items\">► Bancos de couro</li><li class=\"txt-items\">► Freios ABS</li><li class=\"txt-items\">► Piloto automático</li><li class=\"txt-items\">► Controle de estabilidade</li><li class=\"txt-items\">...</li></ul><p class=\"txt-location\">São Paulo - SP</p></div><div class=\"col-md-3 value-card\"><div class=\"value\"><p class=\"txt-value\">R$ 117.000</p></div></div></div></div><div class=\"type-select\">246 veículos encontrados</div><div class=\"container-pagination\" style=\"float: right\"><span class=\"info-pages\">Página 1 de 25</span></div></div></div></div></div></div><footer><nav class=\"navbar navbar-inverse\"><div class=\"container\" style=\"margin-bottom: 10px;\"><div class=\"navbar\"><a href=\"./index.php\" class=\"navbar-brand\" title=\"Alura Motors\"><img src=\"img/alura-logo.svg\" class=\"d-inline-block align-top\" alt=\"Alura\">Motors </a><p style=\"color: #fff; text-align: center; margin-top: 40px;\">Aplicação para treinamento de web scraping</p></div></div></nav></footer></div></body></html>'"
            ],
            "application/vnd.google.colaboratory.intrinsic+json": {
              "type": "string"
            }
          },
          "metadata": {},
          "execution_count": 41
        }
      ]
    },
    {
      "cell_type": "markdown",
      "source": [
        "Nice! Now we can continue our scraping."
      ],
      "metadata": {
        "id": "7lezdZs_Ql5s"
      }
    },
    {
      "cell_type": "markdown",
      "source": [
        "# Introduction to BeautifulSoup"
      ],
      "metadata": {
        "id": "zwmjO7qqQ7P3"
      }
    },
    {
      "cell_type": "markdown",
      "source": [
        "BeautifulSoup is the main library we will use to do Web Scrapping. First, let's understand a bit more about html.\n",
        "\n",
        "Html is a markup language, which is made of different tags. These tags determine the \"goal\" for each part of our document. These tags introduce the contents of our page. Some examples of tags are:\n",
        "\n",
        "*   \\<html\\>  - Start of the document\n",
        "*   \\<head\\>  - Header\n",
        "*   \\<title\\> - Title\n",
        "*   \\<body\\>  - Body of the document\n",
        "*   \\<h1\\>    - Section\n",
        "*   \\<h2\\>    - Subsection\n",
        "*   \\<p\\>     - Paragraph\n",
        "*   \\<a\\>     - Hyperlink\n",
        "*   \\<img\\>   - Figure\n",
        "*   \\<table\\> - Table\n",
        "\n",
        "Note that tags are indicated with a \\<\\>"
      ],
      "metadata": {
        "id": "ayiNfDIWtf5q"
      }
    },
    {
      "cell_type": "markdown",
      "source": [
        "These tags also can have an *id* or a *class*. We may need to use these to access our data."
      ],
      "metadata": {
        "id": "hpGZbIydwIAg"
      }
    },
    {
      "cell_type": "markdown",
      "source": [
        "## Creating a BeautifulSoup object"
      ],
      "metadata": {
        "id": "xYxf-WLox6IQ"
      }
    },
    {
      "cell_type": "markdown",
      "source": [
        "BeautifulSoup is a tool used to **interpret** our html. The documentation for BeautifulSoup can be found in: https://www.crummy.com/software/BeautifulSoup/bs4/doc/"
      ],
      "metadata": {
        "id": "e6PXobkUyZE_"
      }
    },
    {
      "cell_type": "code",
      "source": [
        "from bs4 import BeautifulSoup\n",
        "\n",
        "soup = BeautifulSoup(html, 'html.parser')"
      ],
      "metadata": {
        "id": "wCWSROh7QkvD"
      },
      "execution_count": 45,
      "outputs": []
    },
    {
      "cell_type": "markdown",
      "source": [
        "Now, we have a soup object. Let's check its typing:"
      ],
      "metadata": {
        "id": "tKnld1u-06-v"
      }
    },
    {
      "cell_type": "code",
      "source": [
        "type(soup)"
      ],
      "metadata": {
        "colab": {
          "base_uri": "https://localhost:8080/"
        },
        "id": "o9cjgXXR0-NP",
        "outputId": "bccc6b4e-d1bc-474e-a40e-c5555ec068ed"
      },
      "execution_count": 47,
      "outputs": [
        {
          "output_type": "execute_result",
          "data": {
            "text/plain": [
              "bs4.BeautifulSoup"
            ]
          },
          "metadata": {},
          "execution_count": 47
        }
      ]
    },
    {
      "cell_type": "markdown",
      "source": [
        "We can take a look at out object using:"
      ],
      "metadata": {
        "id": "JcxWfOb40xQP"
      }
    },
    {
      "cell_type": "code",
      "source": [
        "print(soup.prettify( ))"
      ],
      "metadata": {
        "colab": {
          "base_uri": "https://localhost:8080/"
        },
        "id": "YEt5ZcQDytF2",
        "outputId": "de6fd0d9-7a39-415e-e1c3-79085a95d89d"
      },
      "execution_count": 48,
      "outputs": [
        {
          "output_type": "stream",
          "name": "stdout",
          "text": [
            "<!DOCTYPE html>\n",
            "<html lang=\"pt-br\">\n",
            " <head>\n",
            "  <meta charset=\"utf-8\"/>\n",
            "  <meta content=\"width=device-width, initial-scale=1, shrink-to-fit=no\" name=\"viewport\"/>\n",
            "  <title>\n",
            "   Alura Motors\n",
            "  </title>\n",
            "  <style>\n",
            "   /*Regra para a animacao*/ @keyframes spin { 0% { transform: rotate(0deg); } 100% { transform: rotate(360deg); } } /*Mudando o tamanho do icone de resposta*/ div.glyphicon { color:#6B8E23; font-size: 38px; } /*Classe que mostra a animacao 'spin'*/ .loader { border: 16px solid #f3f3f3; border-radius: 50%; border-top: 16px solid #3498db; width: 80px; height: 80px; -webkit-animation: spin 2s linear infinite; animation: spin 2s linear infinite; }\n",
            "  </style>\n",
            "  <link crossorigin=\"anonymous\" href=\"https://maxcdn.bootstrapcdn.com/bootstrap/3.3.7/css/bootstrap.min.css\" integrity=\"sha384-BVYiiSIFeK1dGmJRAkycuHAHRg32OmUcww7on3RYdg4Va+PmSTsz/K68vbdEjh4u\" rel=\"stylesheet\"/>\n",
            "  <link href=\"css/styles.css\" media=\"all\" rel=\"stylesheet\"/>\n",
            "  <script src=\"https://code.jquery.com/jquery-1.12.4.js\">\n",
            "  </script>\n",
            "  <script crossorigin=\"anonymous\" integrity=\"sha384-Tc5IQib027qvyjSMfHjOMaLkfuWVxZxUPnCJA7l2mCWNIpG9mGCD8wGNIcPD7Txa\" src=\"https://maxcdn.bootstrapcdn.com/bootstrap/3.3.7/js/bootstrap.min.js\">\n",
            "  </script>\n",
            "  <script src=\"js/index.js\" type=\"text/javascript\">\n",
            "  </script>\n",
            "  <script>\n",
            "   requisitar(\"https://alura-scraping.herokuapp.com/produtos?_page=\"+1+\"&_limit=10\")\n",
            "  </script>\n",
            " </head>\n",
            " <body cz-shortcut-listen=\"true\">\n",
            "  <noscript>\n",
            "   You need to enable JavaScript to run this app.\n",
            "  </noscript>\n",
            "  <div aria-labelledby=\"loadingModal_label\" class=\"modal fade\" data-backdrop=\"static\" id=\"loadingModal\" role=\"dialog\" tabindex=\"-1\">\n",
            "   <div class=\"modal-dialog\" role=\"document\">\n",
            "    <div class=\"modal-content\">\n",
            "     <div class=\"modal-header\">\n",
            "      <h5 class=\"modal-title\" id=\"loadingModal_label\">\n",
            "       <span class=\"glyphicon glyphicon-refresh\">\n",
            "       </span>\n",
            "       Aguarde...\n",
            "      </h5>\n",
            "     </div>\n",
            "     <div class=\"modal-body\">\n",
            "      <div class=\"alert\" role=\"alert\">\n",
            "       <center>\n",
            "        <div class=\"loader\" id=\"loader\">\n",
            "        </div>\n",
            "        <br/>\n",
            "        <h4>\n",
            "         <b id=\"loadingModal_content\">\n",
            "         </b>\n",
            "        </h4>\n",
            "       </center>\n",
            "      </div>\n",
            "     </div>\n",
            "    </div>\n",
            "   </div>\n",
            "  </div>\n",
            "  <div id=\"root\">\n",
            "   <header>\n",
            "    <nav class=\"navbar navbar-inverse\" style=\"margin-bottom: 0;\">\n",
            "     <div class=\"container\" style=\"margin-bottom: -20px;\">\n",
            "      <div class=\"navbar\">\n",
            "       <a class=\"navbar-brand\" href=\"./index.php\" title=\"Alura Motors\">\n",
            "        <img alt=\"Alura\" class=\"d-inline-block align-top\" src=\"img/alura-logo.svg\"/>\n",
            "        Motors\n",
            "       </a>\n",
            "       <ul class=\"nav navbar-nav\" style=\"margin-top: 35px;\">\n",
            "        <li>\n",
            "         <a href=\"./hello-world.php\">\n",
            "          Hello World\n",
            "         </a>\n",
            "        </li>\n",
            "        <li>\n",
            "         <a href=\"./index.php\">\n",
            "          Anúncios\n",
            "         </a>\n",
            "        </li>\n",
            "       </ul>\n",
            "      </div>\n",
            "     </div>\n",
            "    </nav>\n",
            "   </header>\n",
            "   <div class=\"container\">\n",
            "    <h1 class=\"sub-header\">\n",
            "     Veículos de Luxo Novos e Usados - Todas as Marcas\n",
            "    </h1>\n",
            "    <div class=\"row\">\n",
            "     <div class=\"col-md-12\">\n",
            "      <div class=\"container\" style=\"width: 100%\">\n",
            "       <div class=\"type-select\">\n",
            "        246 veículos encontrados\n",
            "       </div>\n",
            "       <div class=\"container-pagination\" style=\"float: right\">\n",
            "        <span class=\"info-pages\">\n",
            "         Página 1 de 25\n",
            "        </span>\n",
            "       </div>\n",
            "      </div>\n",
            "      <div id=\"container-cards\" style=\"height: 100%\">\n",
            "       <div class=\"well card\">\n",
            "        <div class=\"col-md-3 image-card\">\n",
            "         <img alt=\"Foto\" height=\"155\" src=\"https://caelum-online-public.s3.amazonaws.com/1381-scraping/01/img-cars/lamborghini-aventador/lamborghini-aventador-2932196__340.jpg\" width=\"220\"/>\n",
            "        </div>\n",
            "        <div class=\"col-md-6 body-card\">\n",
            "         <p class=\"txt-name inline\">\n",
            "          LAMBORGHINI AVENTADOR\n",
            "         </p>\n",
            "         <p class=\"txt-category badge badge-secondary inline\">\n",
            "          USADO\n",
            "         </p>\n",
            "         <p class=\"txt-motor\">\n",
            "          Motor 1.8 16v\n",
            "         </p>\n",
            "         <p class=\"txt-description\">\n",
            "          Ano 1993 - 55.286 km\n",
            "         </p>\n",
            "         <ul class=\"lst-items\">\n",
            "          <li class=\"txt-items\">\n",
            "           ► 4 X 4\n",
            "          </li>\n",
            "          <li class=\"txt-items\">\n",
            "           ► Câmera de estacionamento\n",
            "          </li>\n",
            "          <li class=\"txt-items\">\n",
            "           ► Controle de tração\n",
            "          </li>\n",
            "          <li class=\"txt-items\">\n",
            "           ► Sensor de estacionamento\n",
            "          </li>\n",
            "          <li class=\"txt-items\">\n",
            "           ...\n",
            "          </li>\n",
            "         </ul>\n",
            "         <p class=\"txt-location\">\n",
            "          Belo Horizonte - MG\n",
            "         </p>\n",
            "        </div>\n",
            "        <div class=\"col-md-3 value-card\">\n",
            "         <div class=\"value\">\n",
            "          <p class=\"txt-value\">\n",
            "           R$ 338.000\n",
            "          </p>\n",
            "         </div>\n",
            "        </div>\n",
            "       </div>\n",
            "       <div class=\"well card\">\n",
            "        <div class=\"col-md-3 image-card\">\n",
            "         <img alt=\"Foto\" height=\"155\" src=\"https://caelum-online-public.s3.amazonaws.com/1381-scraping/01/img-cars/bmw-m2/bmw-m2-2970882__340.jpg\" width=\"220\"/>\n",
            "        </div>\n",
            "        <div class=\"col-md-6 body-card\">\n",
            "         <p class=\"txt-name inline\">\n",
            "          BMW M2\n",
            "         </p>\n",
            "         <p class=\"txt-category badge badge-secondary inline\">\n",
            "          USADO\n",
            "         </p>\n",
            "         <p class=\"txt-motor\">\n",
            "          Motor 3.0 32v\n",
            "         </p>\n",
            "         <p class=\"txt-description\">\n",
            "          Ano 2018 - 83.447 km\n",
            "         </p>\n",
            "         <ul class=\"lst-items\">\n",
            "          <li class=\"txt-items\">\n",
            "           ► Câmera de estacionamento\n",
            "          </li>\n",
            "          <li class=\"txt-items\">\n",
            "           ► Controle de estabilidade\n",
            "          </li>\n",
            "          <li class=\"txt-items\">\n",
            "           ► Travas elétricas\n",
            "          </li>\n",
            "          <li class=\"txt-items\">\n",
            "           ► Freios ABS\n",
            "          </li>\n",
            "          <li class=\"txt-items\">\n",
            "           ...\n",
            "          </li>\n",
            "         </ul>\n",
            "         <p class=\"txt-location\">\n",
            "          Belo Horizonte - MG\n",
            "         </p>\n",
            "        </div>\n",
            "        <div class=\"col-md-3 value-card\">\n",
            "         <div class=\"value\">\n",
            "          <p class=\"txt-value\">\n",
            "           R$ 346.000\n",
            "          </p>\n",
            "         </div>\n",
            "        </div>\n",
            "       </div>\n",
            "       <div class=\"well card\">\n",
            "        <div class=\"col-md-3 image-card\">\n",
            "         <img alt=\"Foto\" height=\"155\" src=\"https://caelum-online-public.s3.amazonaws.com/1381-scraping/01/img-cars/alfa/alfa-1823056__340.jpg\" width=\"220\"/>\n",
            "        </div>\n",
            "        <div class=\"col-md-6 body-card\">\n",
            "         <p class=\"txt-name inline\">\n",
            "          ALFA\n",
            "         </p>\n",
            "         <p class=\"txt-category badge badge-secondary inline\">\n",
            "          USADO\n",
            "         </p>\n",
            "         <p class=\"txt-motor\">\n",
            "          Motor 1.8 16v\n",
            "         </p>\n",
            "         <p class=\"txt-description\">\n",
            "          Ano 2004 - 19.722 km\n",
            "         </p>\n",
            "         <ul class=\"lst-items\">\n",
            "          <li class=\"txt-items\">\n",
            "           ► Central multimídia\n",
            "          </li>\n",
            "          <li class=\"txt-items\">\n",
            "           ► Bancos de couro\n",
            "          </li>\n",
            "          <li class=\"txt-items\">\n",
            "           ► Rodas de liga\n",
            "          </li>\n",
            "          <li class=\"txt-items\">\n",
            "           ► Câmera de estacionamento\n",
            "          </li>\n",
            "          <li class=\"txt-items\">\n",
            "           ...\n",
            "          </li>\n",
            "         </ul>\n",
            "         <p class=\"txt-location\">\n",
            "          Rio de Janeiro - RJ\n",
            "         </p>\n",
            "        </div>\n",
            "        <div class=\"col-md-3 value-card\">\n",
            "         <div class=\"value\">\n",
            "          <p class=\"txt-value\">\n",
            "           R$ 480.000\n",
            "          </p>\n",
            "         </div>\n",
            "        </div>\n",
            "       </div>\n",
            "       <div class=\"well card\">\n",
            "        <div class=\"col-md-3 image-card\">\n",
            "         <img alt=\"Foto\" height=\"155\" src=\"https://caelum-online-public.s3.amazonaws.com/1381-scraping/01/img-cars/puech/puech-4055386__340.jpg\" width=\"220\"/>\n",
            "        </div>\n",
            "        <div class=\"col-md-6 body-card\">\n",
            "         <p class=\"txt-name inline\">\n",
            "          PUECH\n",
            "         </p>\n",
            "         <p class=\"txt-category badge badge-secondary inline\">\n",
            "          USADO\n",
            "         </p>\n",
            "         <p class=\"txt-motor\">\n",
            "          Motor Diesel V8\n",
            "         </p>\n",
            "         <p class=\"txt-description\">\n",
            "          Ano 1992 - 34.335 km\n",
            "         </p>\n",
            "         <ul class=\"lst-items\">\n",
            "          <li class=\"txt-items\">\n",
            "           ► Bancos de couro\n",
            "          </li>\n",
            "          <li class=\"txt-items\">\n",
            "           ► Freios ABS\n",
            "          </li>\n",
            "          <li class=\"txt-items\">\n",
            "           ► Rodas de liga\n",
            "          </li>\n",
            "          <li class=\"txt-items\">\n",
            "           ► Câmbio automático\n",
            "          </li>\n",
            "          <li class=\"txt-items\">\n",
            "           ...\n",
            "          </li>\n",
            "         </ul>\n",
            "         <p class=\"txt-location\">\n",
            "          São Paulo - SP\n",
            "         </p>\n",
            "        </div>\n",
            "        <div class=\"col-md-3 value-card\">\n",
            "         <div class=\"value\">\n",
            "          <p class=\"txt-value\">\n",
            "           R$ 133.000\n",
            "          </p>\n",
            "         </div>\n",
            "        </div>\n",
            "       </div>\n",
            "       <div class=\"well card\">\n",
            "        <div class=\"col-md-3 image-card\">\n",
            "         <img alt=\"Foto\" height=\"155\" src=\"https://caelum-online-public.s3.amazonaws.com/1381-scraping/01/img-cars/lamborghini-murcielago/lamborghini-murcielago-2872974__340.jpg\" width=\"220\"/>\n",
            "        </div>\n",
            "        <div class=\"col-md-6 body-card\">\n",
            "         <p class=\"txt-name inline\">\n",
            "          LAMBORGHINI MURCIELAGO\n",
            "         </p>\n",
            "         <p class=\"txt-category badge badge-secondary inline\">\n",
            "          USADO\n",
            "         </p>\n",
            "         <p class=\"txt-motor\">\n",
            "          Motor 1.0 8v\n",
            "         </p>\n",
            "         <p class=\"txt-description\">\n",
            "          Ano 1991 - 464 km\n",
            "         </p>\n",
            "         <ul class=\"lst-items\">\n",
            "          <li class=\"txt-items\">\n",
            "           ► Central multimídia\n",
            "          </li>\n",
            "          <li class=\"txt-items\">\n",
            "           ► Teto panorâmico\n",
            "          </li>\n",
            "          <li class=\"txt-items\">\n",
            "           ► Sensor crepuscular\n",
            "          </li>\n",
            "          <li class=\"txt-items\">\n",
            "           ► Piloto automático\n",
            "          </li>\n",
            "          <li class=\"txt-items\">\n",
            "           ...\n",
            "          </li>\n",
            "         </ul>\n",
            "         <p class=\"txt-location\">\n",
            "          Belo Horizonte - MG\n",
            "         </p>\n",
            "        </div>\n",
            "        <div class=\"col-md-3 value-card\">\n",
            "         <div class=\"value\">\n",
            "          <p class=\"txt-value\">\n",
            "           R$ 175.000\n",
            "          </p>\n",
            "         </div>\n",
            "        </div>\n",
            "       </div>\n",
            "       <div class=\"well card\">\n",
            "        <div class=\"col-md-3 image-card\">\n",
            "         <img alt=\"Foto\" height=\"155\" src=\"https://caelum-online-public.s3.amazonaws.com/1381-scraping/01/img-cars/aston-martin/aston-martin-2977916__340.jpg\" width=\"220\"/>\n",
            "        </div>\n",
            "        <div class=\"col-md-6 body-card\">\n",
            "         <p class=\"txt-name inline\">\n",
            "          ASTON MARTIN\n",
            "         </p>\n",
            "         <p class=\"txt-category badge badge-secondary inline\">\n",
            "          USADO\n",
            "         </p>\n",
            "         <p class=\"txt-opportunity badge badge-danger inline\">\n",
            "          OPORTUNIDADE\n",
            "         </p>\n",
            "         <p class=\"txt-motor\">\n",
            "          Motor Diesel V6\n",
            "         </p>\n",
            "         <p class=\"txt-description\">\n",
            "          Ano 2004 - 50.189 km\n",
            "         </p>\n",
            "         <ul class=\"lst-items\">\n",
            "          <li class=\"txt-items\">\n",
            "           ► Painel digital\n",
            "          </li>\n",
            "          <li class=\"txt-items\">\n",
            "           ► Controle de tração\n",
            "          </li>\n",
            "          <li class=\"txt-items\">\n",
            "           ► Teto panorâmico\n",
            "          </li>\n",
            "          <li class=\"txt-items\">\n",
            "           ► Central multimídia\n",
            "          </li>\n",
            "          <li class=\"txt-items\">\n",
            "           ...\n",
            "          </li>\n",
            "         </ul>\n",
            "         <p class=\"txt-location\">\n",
            "          Belo Horizonte - MG\n",
            "         </p>\n",
            "        </div>\n",
            "        <div class=\"col-md-3 value-card\">\n",
            "         <div class=\"value\">\n",
            "          <p class=\"txt-value\">\n",
            "           R$ 239.000\n",
            "          </p>\n",
            "         </div>\n",
            "        </div>\n",
            "       </div>\n",
            "       <div class=\"well card\">\n",
            "        <div class=\"col-md-3 image-card\">\n",
            "         <img alt=\"Foto\" height=\"155\" src=\"https://caelum-online-public.s3.amazonaws.com/1381-scraping/01/img-cars/tvr/tvr-2943925__340.jpg\" width=\"220\"/>\n",
            "        </div>\n",
            "        <div class=\"col-md-6 body-card\">\n",
            "         <p class=\"txt-name inline\">\n",
            "          TVR\n",
            "         </p>\n",
            "         <p class=\"txt-category badge badge-secondary inline\">\n",
            "          USADO\n",
            "         </p>\n",
            "         <p class=\"txt-motor\">\n",
            "          Motor 4.0 Turbo\n",
            "         </p>\n",
            "         <p class=\"txt-description\">\n",
            "          Ano 2014 - 17.778 km\n",
            "         </p>\n",
            "         <ul class=\"lst-items\">\n",
            "          <li class=\"txt-items\">\n",
            "           ► 4 X 4\n",
            "          </li>\n",
            "          <li class=\"txt-items\">\n",
            "           ► Teto panorâmico\n",
            "          </li>\n",
            "          <li class=\"txt-items\">\n",
            "           ► Central multimídia\n",
            "          </li>\n",
            "          <li class=\"txt-items\">\n",
            "           ► Controle de estabilidade\n",
            "          </li>\n",
            "          <li class=\"txt-items\">\n",
            "           ...\n",
            "          </li>\n",
            "         </ul>\n",
            "         <p class=\"txt-location\">\n",
            "          Belo Horizonte - MG\n",
            "         </p>\n",
            "        </div>\n",
            "        <div class=\"col-md-3 value-card\">\n",
            "         <div class=\"value\">\n",
            "          <p class=\"txt-value\">\n",
            "           R$ 115.000\n",
            "          </p>\n",
            "         </div>\n",
            "        </div>\n",
            "       </div>\n",
            "       <div class=\"well card\">\n",
            "        <div class=\"col-md-3 image-card\">\n",
            "         <img alt=\"Foto\" height=\"155\" src=\"https://caelum-online-public.s3.amazonaws.com/1381-scraping/01/img-cars/excalibur/excalibur-2916730__340.jpg\" width=\"220\"/>\n",
            "        </div>\n",
            "        <div class=\"col-md-6 body-card\">\n",
            "         <p class=\"txt-name inline\">\n",
            "          EXCALIBUR\n",
            "         </p>\n",
            "         <p class=\"txt-category badge badge-secondary inline\">\n",
            "          USADO\n",
            "         </p>\n",
            "         <p class=\"txt-motor\">\n",
            "          Motor 3.0 32v\n",
            "         </p>\n",
            "         <p class=\"txt-description\">\n",
            "          Ano 2009 - 81.251 km\n",
            "         </p>\n",
            "         <ul class=\"lst-items\">\n",
            "          <li class=\"txt-items\">\n",
            "           ► Painel digital\n",
            "          </li>\n",
            "          <li class=\"txt-items\">\n",
            "           ► Câmbio automático\n",
            "          </li>\n",
            "          <li class=\"txt-items\">\n",
            "           ► Sensor de chuva\n",
            "          </li>\n",
            "          <li class=\"txt-items\">\n",
            "           ► Travas elétricas\n",
            "          </li>\n",
            "          <li class=\"txt-items\">\n",
            "           ...\n",
            "          </li>\n",
            "         </ul>\n",
            "         <p class=\"txt-location\">\n",
            "          Rio de Janeiro - RJ\n",
            "         </p>\n",
            "        </div>\n",
            "        <div class=\"col-md-3 value-card\">\n",
            "         <div class=\"value\">\n",
            "          <p class=\"txt-value\">\n",
            "           R$ 114.000\n",
            "          </p>\n",
            "         </div>\n",
            "        </div>\n",
            "       </div>\n",
            "       <div class=\"well card\">\n",
            "        <div class=\"col-md-3 image-card\">\n",
            "         <img alt=\"Foto\" height=\"155\" src=\"https://caelum-online-public.s3.amazonaws.com/1381-scraping/01/img-cars/mclaren/mclaren-2855240__340.jpg\" width=\"220\"/>\n",
            "        </div>\n",
            "        <div class=\"col-md-6 body-card\">\n",
            "         <p class=\"txt-name inline\">\n",
            "          MCLAREN\n",
            "         </p>\n",
            "         <p class=\"txt-category badge badge-secondary inline\">\n",
            "          NOVO\n",
            "         </p>\n",
            "         <p class=\"txt-motor\">\n",
            "          Motor Diesel\n",
            "         </p>\n",
            "         <p class=\"txt-description\">\n",
            "          Ano 2019 - 0 km\n",
            "         </p>\n",
            "         <ul class=\"lst-items\">\n",
            "          <li class=\"txt-items\">\n",
            "           ► Central multimídia\n",
            "          </li>\n",
            "          <li class=\"txt-items\">\n",
            "           ► Câmera de estacionamento\n",
            "          </li>\n",
            "          <li class=\"txt-items\">\n",
            "           ► Câmbio automático\n",
            "          </li>\n",
            "          <li class=\"txt-items\">\n",
            "           ► Ar condicionado\n",
            "          </li>\n",
            "          <li class=\"txt-items\">\n",
            "           ...\n",
            "          </li>\n",
            "         </ul>\n",
            "         <p class=\"txt-location\">\n",
            "          São Paulo - SP\n",
            "         </p>\n",
            "        </div>\n",
            "        <div class=\"col-md-3 value-card\">\n",
            "         <div class=\"value\">\n",
            "          <p class=\"txt-value\">\n",
            "           R$ 75.000\n",
            "          </p>\n",
            "         </div>\n",
            "        </div>\n",
            "       </div>\n",
            "       <div class=\"well card\">\n",
            "        <div class=\"col-md-3 image-card\">\n",
            "         <img alt=\"Foto\" height=\"155\" src=\"https://caelum-online-public.s3.amazonaws.com/1381-scraping/01/img-cars/toyota/toyota-3245397__340.jpg\" width=\"220\"/>\n",
            "        </div>\n",
            "        <div class=\"col-md-6 body-card\">\n",
            "         <p class=\"txt-name inline\">\n",
            "          TOYOTA\n",
            "         </p>\n",
            "         <p class=\"txt-category badge badge-secondary inline\">\n",
            "          USADO\n",
            "         </p>\n",
            "         <p class=\"txt-opportunity badge badge-danger inline\">\n",
            "          OPORTUNIDADE\n",
            "         </p>\n",
            "         <p class=\"txt-motor\">\n",
            "          Motor 4.0 Turbo\n",
            "         </p>\n",
            "         <p class=\"txt-description\">\n",
            "          Ano 1999 - 12.536 km\n",
            "         </p>\n",
            "         <ul class=\"lst-items\">\n",
            "          <li class=\"txt-items\">\n",
            "           ► Bancos de couro\n",
            "          </li>\n",
            "          <li class=\"txt-items\">\n",
            "           ► Freios ABS\n",
            "          </li>\n",
            "          <li class=\"txt-items\">\n",
            "           ► Piloto automático\n",
            "          </li>\n",
            "          <li class=\"txt-items\">\n",
            "           ► Controle de estabilidade\n",
            "          </li>\n",
            "          <li class=\"txt-items\">\n",
            "           ...\n",
            "          </li>\n",
            "         </ul>\n",
            "         <p class=\"txt-location\">\n",
            "          São Paulo - SP\n",
            "         </p>\n",
            "        </div>\n",
            "        <div class=\"col-md-3 value-card\">\n",
            "         <div class=\"value\">\n",
            "          <p class=\"txt-value\">\n",
            "           R$ 117.000\n",
            "          </p>\n",
            "         </div>\n",
            "        </div>\n",
            "       </div>\n",
            "      </div>\n",
            "      <div class=\"type-select\">\n",
            "       246 veículos encontrados\n",
            "      </div>\n",
            "      <div class=\"container-pagination\" style=\"float: right\">\n",
            "       <span class=\"info-pages\">\n",
            "        Página 1 de 25\n",
            "       </span>\n",
            "      </div>\n",
            "     </div>\n",
            "    </div>\n",
            "   </div>\n",
            "  </div>\n",
            " </body>\n",
            "</html>\n",
            "<footer>\n",
            " <nav class=\"navbar navbar-inverse\">\n",
            "  <div class=\"container\" style=\"margin-bottom: 10px;\">\n",
            "   <div class=\"navbar\">\n",
            "    <a class=\"navbar-brand\" href=\"./index.php\" title=\"Alura Motors\">\n",
            "     <img alt=\"Alura\" class=\"d-inline-block align-top\" src=\"img/alura-logo.svg\"/>\n",
            "     Motors\n",
            "    </a>\n",
            "    <p style=\"color: #fff; text-align: center; margin-top: 40px;\">\n",
            "     Aplicação para treinamento de web scraping\n",
            "    </p>\n",
            "   </div>\n",
            "  </div>\n",
            " </nav>\n",
            "</footer>\n"
          ]
        }
      ]
    },
    {
      "cell_type": "markdown",
      "source": [
        "## Accessing tags"
      ],
      "metadata": {
        "id": "q-ZAxp7-1F3x"
      }
    },
    {
      "cell_type": "markdown",
      "source": [
        "Ok, we have created a soup object with our html. Now, we have to access our tags from our BeautifulSoup object.\n",
        "\n",
        "For instance, let's get the title of our page. Basically, we have to run from all tags until we get to the title. If we inspect our page:\n",
        "\n",
        "https://alura-site-scraping.herokuapp.com/index.php\n",
        "\n",
        "we can see that we have three tags until getting to the title: \n",
        "\n",
        "html -> head -> title\n",
        "\n",
        "So, let's get the title using:"
      ],
      "metadata": {
        "id": "KVIfWRz81Rjz"
      }
    },
    {
      "cell_type": "code",
      "source": [
        "soup.html.head.title"
      ],
      "metadata": {
        "colab": {
          "base_uri": "https://localhost:8080/"
        },
        "id": "J1Of_VZJ03Vh",
        "outputId": "d0a14969-86e7-4984-f0a4-a47c592b8e06"
      },
      "execution_count": 49,
      "outputs": [
        {
          "output_type": "execute_result",
          "data": {
            "text/plain": [
              "<title>Alura Motors</title>"
            ]
          },
          "metadata": {},
          "execution_count": 49
        }
      ]
    },
    {
      "cell_type": "markdown",
      "source": [
        "Great! Instead, since we have only one title, we can simply do:"
      ],
      "metadata": {
        "id": "5kOU5Kkv1-I4"
      }
    },
    {
      "cell_type": "code",
      "source": [
        "soup.title"
      ],
      "metadata": {
        "colab": {
          "base_uri": "https://localhost:8080/"
        },
        "id": "z2zHXtT619QF",
        "outputId": "6d2b907e-e2f3-4508-a6dc-5e268814733f"
      },
      "execution_count": 50,
      "outputs": [
        {
          "output_type": "execute_result",
          "data": {
            "text/plain": [
              "<title>Alura Motors</title>"
            ]
          },
          "metadata": {},
          "execution_count": 50
        }
      ]
    },
    {
      "cell_type": "markdown",
      "source": [
        "Note that, when we do this, we get the text and its tag. To get only the text, we can do:"
      ],
      "metadata": {
        "id": "hdJCKfAP3Qx3"
      }
    },
    {
      "cell_type": "markdown",
      "source": [
        "So, to access text from our tags, we simply have to navigate from them. Note that, if we have two of the same tag and we don't pass the correct path to it, the first entry will be returned."
      ],
      "metadata": {
        "id": "-rWjY36K2G7g"
      }
    },
    {
      "cell_type": "markdown",
      "source": [
        "Now, sometimes, our tags have a lot of information:"
      ],
      "metadata": {
        "id": "C5EMLCyo2ovj"
      }
    },
    {
      "cell_type": "code",
      "source": [
        "soup.h5"
      ],
      "metadata": {
        "colab": {
          "base_uri": "https://localhost:8080/"
        },
        "id": "IBBmUYdc2F5M",
        "outputId": "cc351f8b-81cb-459d-803d-ce0e5b8d1d8d"
      },
      "execution_count": 51,
      "outputs": [
        {
          "output_type": "execute_result",
          "data": {
            "text/plain": [
              "<h5 class=\"modal-title\" id=\"loadingModal_label\"><span class=\"glyphicon glyphicon-refresh\"></span>Aguarde... </h5>"
            ]
          },
          "metadata": {},
          "execution_count": 51
        }
      ]
    },
    {
      "cell_type": "markdown",
      "source": [
        "How can we get only the information we need?"
      ],
      "metadata": {
        "id": "sLwZLXa72wWh"
      }
    },
    {
      "cell_type": "markdown",
      "source": [
        "## Accessing information from our tags\n",
        "\n",
        "In the previous example, we got information from tag \\<h5\\>. However, how can we get only the string \"Aguarde...\", in the end of our string?\n",
        "\n",
        "To get only the text from the tag, we can simply do:"
      ],
      "metadata": {
        "id": "q1IDTipJ3IIb"
      }
    },
    {
      "cell_type": "code",
      "source": [
        "soup.h5.get_text( )"
      ],
      "metadata": {
        "colab": {
          "base_uri": "https://localhost:8080/",
          "height": 35
        },
        "id": "M2bJL3aX2u2K",
        "outputId": "fa17545c-5d1a-425a-a0a0-7ff11d61a0e7"
      },
      "execution_count": 53,
      "outputs": [
        {
          "output_type": "execute_result",
          "data": {
            "text/plain": [
              "'Aguarde... '"
            ],
            "application/vnd.google.colaboratory.intrinsic+json": {
              "type": "string"
            }
          },
          "metadata": {},
          "execution_count": 53
        }
      ]
    },
    {
      "cell_type": "markdown",
      "source": [
        "This can also be done in the other examples to remove the tags from our output:"
      ],
      "metadata": {
        "id": "hraLJT5530uH"
      }
    },
    {
      "cell_type": "code",
      "source": [
        "soup.title.get_text( )"
      ],
      "metadata": {
        "colab": {
          "base_uri": "https://localhost:8080/",
          "height": 35
        },
        "id": "vDeTiovL30GT",
        "outputId": "68a73313-abea-4480-8c46-4b69a94e16b9"
      },
      "execution_count": 54,
      "outputs": [
        {
          "output_type": "execute_result",
          "data": {
            "text/plain": [
              "'Alura Motors'"
            ],
            "application/vnd.google.colaboratory.intrinsic+json": {
              "type": "string"
            }
          },
          "metadata": {},
          "execution_count": 54
        }
      ]
    },
    {
      "cell_type": "markdown",
      "source": [
        "## Getting attributes from our tags\n",
        "\n",
        "Often, we want information that is hidden behind some attributes from our tags. For instance:"
      ],
      "metadata": {
        "id": "5-iVKeiA5TUF"
      }
    },
    {
      "cell_type": "code",
      "source": [
        "soup.img"
      ],
      "metadata": {
        "colab": {
          "base_uri": "https://localhost:8080/"
        },
        "id": "Ki5wvhTB472w",
        "outputId": "51c41310-f516-4c91-9a0d-6f5e495decca"
      },
      "execution_count": 62,
      "outputs": [
        {
          "output_type": "execute_result",
          "data": {
            "text/plain": [
              "<img alt=\"Alura\" class=\"d-inline-block align-top\" src=\"img/alura-logo.svg\"/>"
            ]
          },
          "metadata": {},
          "execution_count": 62
        }
      ]
    },
    {
      "cell_type": "markdown",
      "source": [
        "So, we have an image with some attributes, such as *class* and *src*. We can see these attributes using:"
      ],
      "metadata": {
        "id": "lwcW63gH57qn"
      }
    },
    {
      "cell_type": "code",
      "source": [
        "soup.img.attrs"
      ],
      "metadata": {
        "colab": {
          "base_uri": "https://localhost:8080/"
        },
        "id": "zLUoOjQE56kR",
        "outputId": "0f78bf26-7c16-4d97-e2de-00697a832251"
      },
      "execution_count": 63,
      "outputs": [
        {
          "output_type": "execute_result",
          "data": {
            "text/plain": [
              "{'alt': 'Alura',\n",
              " 'class': ['d-inline-block', 'align-top'],\n",
              " 'src': 'img/alura-logo.svg'}"
            ]
          },
          "metadata": {},
          "execution_count": 63
        }
      ]
    },
    {
      "cell_type": "markdown",
      "source": [
        "Note that this is a dictionary. Thus, we can also use:"
      ],
      "metadata": {
        "id": "7XMm1-ja6Wch"
      }
    },
    {
      "cell_type": "code",
      "source": [
        "soup.img.attrs.keys( )"
      ],
      "metadata": {
        "colab": {
          "base_uri": "https://localhost:8080/"
        },
        "id": "18NnNGX36L2l",
        "outputId": "78d7bc28-de1c-48a4-84d5-58e102dd6187"
      },
      "execution_count": 64,
      "outputs": [
        {
          "output_type": "execute_result",
          "data": {
            "text/plain": [
              "dict_keys(['src', 'class', 'alt'])"
            ]
          },
          "metadata": {},
          "execution_count": 64
        }
      ]
    },
    {
      "cell_type": "code",
      "source": [
        "soup.img.attrs.values( )"
      ],
      "metadata": {
        "colab": {
          "base_uri": "https://localhost:8080/"
        },
        "id": "x_DO9zdW6b9G",
        "outputId": "7c1a3487-7d4c-4721-ce26-3d89e6f1d7b6"
      },
      "execution_count": 65,
      "outputs": [
        {
          "output_type": "execute_result",
          "data": {
            "text/plain": [
              "dict_values(['img/alura-logo.svg', ['d-inline-block', 'align-top'], 'Alura'])"
            ]
          },
          "metadata": {},
          "execution_count": 65
        }
      ]
    },
    {
      "cell_type": "markdown",
      "source": [
        "Also, we can get our attributes from:"
      ],
      "metadata": {
        "id": "3UmVG49S6mWg"
      }
    },
    {
      "cell_type": "code",
      "source": [
        "soup.img['class']"
      ],
      "metadata": {
        "colab": {
          "base_uri": "https://localhost:8080/",
          "height": 35
        },
        "id": "TDgeRIP66dtF",
        "outputId": "d4f8ad0c-dc34-4c9a-a11e-764c0a2f8099"
      },
      "execution_count": 68,
      "outputs": [
        {
          "output_type": "execute_result",
          "data": {
            "text/plain": [
              "'img/alura-logo.svg'"
            ],
            "application/vnd.google.colaboratory.intrinsic+json": {
              "type": "string"
            }
          },
          "metadata": {},
          "execution_count": 68
        }
      ]
    },
    {
      "cell_type": "markdown",
      "source": [
        "or we can use the *get( )* function:"
      ],
      "metadata": {
        "id": "pEJI3IqN6sMn"
      }
    },
    {
      "cell_type": "code",
      "source": [
        "soup.img.get('src')"
      ],
      "metadata": {
        "colab": {
          "base_uri": "https://localhost:8080/",
          "height": 35
        },
        "id": "5OLkc0JG6g5T",
        "outputId": "e48ee2ce-93c2-4011-d486-e84a133f4ed5"
      },
      "execution_count": 67,
      "outputs": [
        {
          "output_type": "execute_result",
          "data": {
            "text/plain": [
              "'img/alura-logo.svg'"
            ],
            "application/vnd.google.colaboratory.intrinsic+json": {
              "type": "string"
            }
          },
          "metadata": {},
          "execution_count": 67
        }
      ]
    },
    {
      "cell_type": "markdown",
      "source": [
        "# Searching our HTML using BeautifulSoup"
      ],
      "metadata": {
        "id": "Xij6KSZj63ZW"
      }
    },
    {
      "cell_type": "markdown",
      "source": [
        "Let's see more elegant methods to search using BeautifulSoup. These can be done use *find( )* and *findAll( )* methods."
      ],
      "metadata": {
        "id": "qnEK1fd369kI"
      }
    },
    {
      "cell_type": "markdown",
      "source": [
        "First, *find( )* works very similar to simply passing the tag to our object:"
      ],
      "metadata": {
        "id": "O5KzPY_J7Id-"
      }
    },
    {
      "cell_type": "code",
      "source": [
        "soup.find('img')"
      ],
      "metadata": {
        "colab": {
          "base_uri": "https://localhost:8080/"
        },
        "id": "XKdUDr2P6koW",
        "outputId": "34731ba7-8fe0-4037-a334-d45c5441b04f"
      },
      "execution_count": 69,
      "outputs": [
        {
          "output_type": "execute_result",
          "data": {
            "text/plain": [
              "<img alt=\"Alura\" class=\"d-inline-block align-top\" src=\"img/alura-logo.svg\"/>"
            ]
          },
          "metadata": {},
          "execution_count": 69
        }
      ]
    },
    {
      "cell_type": "code",
      "source": [
        "soup.img"
      ],
      "metadata": {
        "colab": {
          "base_uri": "https://localhost:8080/"
        },
        "id": "BJDkKsW07Vyd",
        "outputId": "3fe57770-754f-49de-9447-a1095f3abed2"
      },
      "execution_count": 70,
      "outputs": [
        {
          "output_type": "execute_result",
          "data": {
            "text/plain": [
              "<img alt=\"Alura\" class=\"d-inline-block align-top\" src=\"img/alura-logo.svg\"/>"
            ]
          },
          "metadata": {},
          "execution_count": 70
        }
      ]
    },
    {
      "cell_type": "markdown",
      "source": [
        "However, *findAll( )* function is very useful: it creates a list with all information found using the tag:"
      ],
      "metadata": {
        "id": "iyfeiuhJ7Xuu"
      }
    },
    {
      "cell_type": "code",
      "source": [
        "soup.findAll('img')"
      ],
      "metadata": {
        "colab": {
          "base_uri": "https://localhost:8080/"
        },
        "id": "mbR_F3217WgF",
        "outputId": "2fc02059-cc79-4117-d7e3-928e062efdcc"
      },
      "execution_count": 71,
      "outputs": [
        {
          "output_type": "execute_result",
          "data": {
            "text/plain": [
              "[<img alt=\"Alura\" class=\"d-inline-block align-top\" src=\"img/alura-logo.svg\"/>,\n",
              " <img alt=\"Foto\" height=\"155\" src=\"https://caelum-online-public.s3.amazonaws.com/1381-scraping/01/img-cars/lamborghini-aventador/lamborghini-aventador-2932196__340.jpg\" width=\"220\"/>,\n",
              " <img alt=\"Foto\" height=\"155\" src=\"https://caelum-online-public.s3.amazonaws.com/1381-scraping/01/img-cars/bmw-m2/bmw-m2-2970882__340.jpg\" width=\"220\"/>,\n",
              " <img alt=\"Foto\" height=\"155\" src=\"https://caelum-online-public.s3.amazonaws.com/1381-scraping/01/img-cars/alfa/alfa-1823056__340.jpg\" width=\"220\"/>,\n",
              " <img alt=\"Foto\" height=\"155\" src=\"https://caelum-online-public.s3.amazonaws.com/1381-scraping/01/img-cars/puech/puech-4055386__340.jpg\" width=\"220\"/>,\n",
              " <img alt=\"Foto\" height=\"155\" src=\"https://caelum-online-public.s3.amazonaws.com/1381-scraping/01/img-cars/lamborghini-murcielago/lamborghini-murcielago-2872974__340.jpg\" width=\"220\"/>,\n",
              " <img alt=\"Foto\" height=\"155\" src=\"https://caelum-online-public.s3.amazonaws.com/1381-scraping/01/img-cars/aston-martin/aston-martin-2977916__340.jpg\" width=\"220\"/>,\n",
              " <img alt=\"Foto\" height=\"155\" src=\"https://caelum-online-public.s3.amazonaws.com/1381-scraping/01/img-cars/tvr/tvr-2943925__340.jpg\" width=\"220\"/>,\n",
              " <img alt=\"Foto\" height=\"155\" src=\"https://caelum-online-public.s3.amazonaws.com/1381-scraping/01/img-cars/excalibur/excalibur-2916730__340.jpg\" width=\"220\"/>,\n",
              " <img alt=\"Foto\" height=\"155\" src=\"https://caelum-online-public.s3.amazonaws.com/1381-scraping/01/img-cars/mclaren/mclaren-2855240__340.jpg\" width=\"220\"/>,\n",
              " <img alt=\"Foto\" height=\"155\" src=\"https://caelum-online-public.s3.amazonaws.com/1381-scraping/01/img-cars/toyota/toyota-3245397__340.jpg\" width=\"220\"/>,\n",
              " <img alt=\"Alura\" class=\"d-inline-block align-top\" src=\"img/alura-logo.svg\"/>]"
            ]
          },
          "metadata": {},
          "execution_count": 71
        }
      ]
    },
    {
      "cell_type": "markdown",
      "source": [
        "We can also pass the number of values searched:"
      ],
      "metadata": {
        "id": "8r8vTAwU7j5R"
      }
    },
    {
      "cell_type": "code",
      "source": [
        "soup.findAll('img', limit = 2)"
      ],
      "metadata": {
        "colab": {
          "base_uri": "https://localhost:8080/"
        },
        "id": "-9IbjPSo7hb3",
        "outputId": "6bc47de6-1179-46fd-a54d-8d40f8a370a6"
      },
      "execution_count": 75,
      "outputs": [
        {
          "output_type": "execute_result",
          "data": {
            "text/plain": [
              "[<img alt=\"Alura\" class=\"d-inline-block align-top\" src=\"img/alura-logo.svg\"/>,\n",
              " <img alt=\"Foto\" height=\"155\" src=\"https://caelum-online-public.s3.amazonaws.com/1381-scraping/01/img-cars/lamborghini-aventador/lamborghini-aventador-2932196__340.jpg\" width=\"220\"/>]"
            ]
          },
          "metadata": {},
          "execution_count": 75
        }
      ]
    },
    {
      "cell_type": "markdown",
      "source": [
        "A shortcut for the method *findAll( )* is to simply do:"
      ],
      "metadata": {
        "id": "MPoCfOmT7u-m"
      }
    },
    {
      "cell_type": "code",
      "source": [
        "soup('img')"
      ],
      "metadata": {
        "colab": {
          "base_uri": "https://localhost:8080/"
        },
        "id": "w6AByGe27plo",
        "outputId": "12118c46-bf69-4a6f-d038-7dc4ff46f884"
      },
      "execution_count": 76,
      "outputs": [
        {
          "output_type": "execute_result",
          "data": {
            "text/plain": [
              "[<img alt=\"Alura\" class=\"d-inline-block align-top\" src=\"img/alura-logo.svg\"/>,\n",
              " <img alt=\"Foto\" height=\"155\" src=\"https://caelum-online-public.s3.amazonaws.com/1381-scraping/01/img-cars/lamborghini-aventador/lamborghini-aventador-2932196__340.jpg\" width=\"220\"/>,\n",
              " <img alt=\"Foto\" height=\"155\" src=\"https://caelum-online-public.s3.amazonaws.com/1381-scraping/01/img-cars/bmw-m2/bmw-m2-2970882__340.jpg\" width=\"220\"/>,\n",
              " <img alt=\"Foto\" height=\"155\" src=\"https://caelum-online-public.s3.amazonaws.com/1381-scraping/01/img-cars/alfa/alfa-1823056__340.jpg\" width=\"220\"/>,\n",
              " <img alt=\"Foto\" height=\"155\" src=\"https://caelum-online-public.s3.amazonaws.com/1381-scraping/01/img-cars/puech/puech-4055386__340.jpg\" width=\"220\"/>,\n",
              " <img alt=\"Foto\" height=\"155\" src=\"https://caelum-online-public.s3.amazonaws.com/1381-scraping/01/img-cars/lamborghini-murcielago/lamborghini-murcielago-2872974__340.jpg\" width=\"220\"/>,\n",
              " <img alt=\"Foto\" height=\"155\" src=\"https://caelum-online-public.s3.amazonaws.com/1381-scraping/01/img-cars/aston-martin/aston-martin-2977916__340.jpg\" width=\"220\"/>,\n",
              " <img alt=\"Foto\" height=\"155\" src=\"https://caelum-online-public.s3.amazonaws.com/1381-scraping/01/img-cars/tvr/tvr-2943925__340.jpg\" width=\"220\"/>,\n",
              " <img alt=\"Foto\" height=\"155\" src=\"https://caelum-online-public.s3.amazonaws.com/1381-scraping/01/img-cars/excalibur/excalibur-2916730__340.jpg\" width=\"220\"/>,\n",
              " <img alt=\"Foto\" height=\"155\" src=\"https://caelum-online-public.s3.amazonaws.com/1381-scraping/01/img-cars/mclaren/mclaren-2855240__340.jpg\" width=\"220\"/>,\n",
              " <img alt=\"Foto\" height=\"155\" src=\"https://caelum-online-public.s3.amazonaws.com/1381-scraping/01/img-cars/toyota/toyota-3245397__340.jpg\" width=\"220\"/>,\n",
              " <img alt=\"Alura\" class=\"d-inline-block align-top\" src=\"img/alura-logo.svg\"/>]"
            ]
          },
          "metadata": {},
          "execution_count": 76
        }
      ]
    },
    {
      "cell_type": "markdown",
      "source": [
        "## Using a list of tags"
      ],
      "metadata": {
        "id": "uMMvgVbU73bM"
      }
    },
    {
      "cell_type": "markdown",
      "source": [
        "If we want to search multiple tags, we can simply pass a list of tags to our method:"
      ],
      "metadata": {
        "id": "PfVgQfTr76W4"
      }
    },
    {
      "cell_type": "code",
      "source": [
        "soup(['h1', 'h2', 'h3', 'h4', 'h5'])"
      ],
      "metadata": {
        "colab": {
          "base_uri": "https://localhost:8080/"
        },
        "id": "NSAMqekK71lN",
        "outputId": "fa32e58a-bd9d-4a36-9e2b-e47b9e8991e6"
      },
      "execution_count": 77,
      "outputs": [
        {
          "output_type": "execute_result",
          "data": {
            "text/plain": [
              "[<h5 class=\"modal-title\" id=\"loadingModal_label\"><span class=\"glyphicon glyphicon-refresh\"></span>Aguarde... </h5>,\n",
              " <h4><b id=\"loadingModal_content\"></b></h4>,\n",
              " <h1 class=\"sub-header\">Veículos de Luxo Novos e Usados - Todas as Marcas</h1>]"
            ]
          },
          "metadata": {},
          "execution_count": 77
        }
      ]
    },
    {
      "cell_type": "markdown",
      "source": [
        "## Using attributes"
      ],
      "metadata": {
        "id": "NbeG2Ydr8FEH"
      }
    },
    {
      "cell_type": "markdown",
      "source": [
        "Also, we can use attributes to search using *findAll( )*"
      ],
      "metadata": {
        "id": "kj0FSjjI8Hgp"
      }
    },
    {
      "cell_type": "code",
      "source": [
        "soup.findAll('p', {'class' : \"txt-value\"})"
      ],
      "metadata": {
        "colab": {
          "base_uri": "https://localhost:8080/"
        },
        "id": "Fx6nC6hF8Bur",
        "outputId": "6534114f-bf4a-4d8c-b1f9-90d1ea5f04b3"
      },
      "execution_count": 78,
      "outputs": [
        {
          "output_type": "execute_result",
          "data": {
            "text/plain": [
              "[<p class=\"txt-value\">R$ 338.000</p>,\n",
              " <p class=\"txt-value\">R$ 346.000</p>,\n",
              " <p class=\"txt-value\">R$ 480.000</p>,\n",
              " <p class=\"txt-value\">R$ 133.000</p>,\n",
              " <p class=\"txt-value\">R$ 175.000</p>,\n",
              " <p class=\"txt-value\">R$ 239.000</p>,\n",
              " <p class=\"txt-value\">R$ 115.000</p>,\n",
              " <p class=\"txt-value\">R$ 114.000</p>,\n",
              " <p class=\"txt-value\">R$ 75.000</p>,\n",
              " <p class=\"txt-value\">R$ 117.000</p>]"
            ]
          },
          "metadata": {},
          "execution_count": 78
        }
      ]
    },
    {
      "cell_type": "markdown",
      "source": [
        "Thus, we found all cases where we had tag *p* with *class = 'txt-value'*"
      ],
      "metadata": {
        "id": "w3gc-Hx98Uki"
      }
    },
    {
      "cell_type": "markdown",
      "source": [
        "## Using text"
      ],
      "metadata": {
        "id": "3Jm-UhD38opp"
      }
    },
    {
      "cell_type": "markdown",
      "source": [
        "Also, we can find information using their text:"
      ],
      "metadata": {
        "id": "j8TCNrHq8p9Z"
      }
    },
    {
      "cell_type": "code",
      "source": [
        "soup.findAll('p', text = \"USADO\")"
      ],
      "metadata": {
        "colab": {
          "base_uri": "https://localhost:8080/"
        },
        "id": "mf0JTggI8TWT",
        "outputId": "4c6bd746-a75c-494d-f47d-cd874820c3b8"
      },
      "execution_count": 79,
      "outputs": [
        {
          "output_type": "execute_result",
          "data": {
            "text/plain": [
              "[<p class=\"txt-category badge badge-secondary inline\">USADO</p>,\n",
              " <p class=\"txt-category badge badge-secondary inline\">USADO</p>,\n",
              " <p class=\"txt-category badge badge-secondary inline\">USADO</p>,\n",
              " <p class=\"txt-category badge badge-secondary inline\">USADO</p>,\n",
              " <p class=\"txt-category badge badge-secondary inline\">USADO</p>,\n",
              " <p class=\"txt-category badge badge-secondary inline\">USADO</p>,\n",
              " <p class=\"txt-category badge badge-secondary inline\">USADO</p>,\n",
              " <p class=\"txt-category badge badge-secondary inline\">USADO</p>,\n",
              " <p class=\"txt-category badge badge-secondary inline\">USADO</p>]"
            ]
          },
          "metadata": {},
          "execution_count": 79
        }
      ]
    },
    {
      "cell_type": "markdown",
      "source": [
        "## Extra 01: Getting images from our html"
      ],
      "metadata": {
        "id": "1f76YkAX9L4E"
      }
    },
    {
      "cell_type": "markdown",
      "source": [
        "Usually, to get the figures from our document, we use the tag \\<img\\>. In our case, we want to get the pictures from cars in document:\n",
        "\n",
        "https://alura-site-scraping.herokuapp.com/index.php\n",
        "\n",
        "If we inspect each figure, we will see that, in all of them, we have an attribute:\n",
        "\n",
        "*alt = \"Foto\"*\n",
        "\n",
        "So, let's try to search all of our figures:"
      ],
      "metadata": {
        "id": "ALI8NjMm9QwC"
      }
    },
    {
      "cell_type": "code",
      "source": [
        "soup.findAll('img', {\"alt\": \"Foto\"})"
      ],
      "metadata": {
        "colab": {
          "base_uri": "https://localhost:8080/"
        },
        "id": "gZJ16S_s81sy",
        "outputId": "d3d8c911-b53d-43c7-d8ca-3a31990c784a"
      },
      "execution_count": 80,
      "outputs": [
        {
          "output_type": "execute_result",
          "data": {
            "text/plain": [
              "[<img alt=\"Foto\" height=\"155\" src=\"https://caelum-online-public.s3.amazonaws.com/1381-scraping/01/img-cars/lamborghini-aventador/lamborghini-aventador-2932196__340.jpg\" width=\"220\"/>,\n",
              " <img alt=\"Foto\" height=\"155\" src=\"https://caelum-online-public.s3.amazonaws.com/1381-scraping/01/img-cars/bmw-m2/bmw-m2-2970882__340.jpg\" width=\"220\"/>,\n",
              " <img alt=\"Foto\" height=\"155\" src=\"https://caelum-online-public.s3.amazonaws.com/1381-scraping/01/img-cars/alfa/alfa-1823056__340.jpg\" width=\"220\"/>,\n",
              " <img alt=\"Foto\" height=\"155\" src=\"https://caelum-online-public.s3.amazonaws.com/1381-scraping/01/img-cars/puech/puech-4055386__340.jpg\" width=\"220\"/>,\n",
              " <img alt=\"Foto\" height=\"155\" src=\"https://caelum-online-public.s3.amazonaws.com/1381-scraping/01/img-cars/lamborghini-murcielago/lamborghini-murcielago-2872974__340.jpg\" width=\"220\"/>,\n",
              " <img alt=\"Foto\" height=\"155\" src=\"https://caelum-online-public.s3.amazonaws.com/1381-scraping/01/img-cars/aston-martin/aston-martin-2977916__340.jpg\" width=\"220\"/>,\n",
              " <img alt=\"Foto\" height=\"155\" src=\"https://caelum-online-public.s3.amazonaws.com/1381-scraping/01/img-cars/tvr/tvr-2943925__340.jpg\" width=\"220\"/>,\n",
              " <img alt=\"Foto\" height=\"155\" src=\"https://caelum-online-public.s3.amazonaws.com/1381-scraping/01/img-cars/excalibur/excalibur-2916730__340.jpg\" width=\"220\"/>,\n",
              " <img alt=\"Foto\" height=\"155\" src=\"https://caelum-online-public.s3.amazonaws.com/1381-scraping/01/img-cars/mclaren/mclaren-2855240__340.jpg\" width=\"220\"/>,\n",
              " <img alt=\"Foto\" height=\"155\" src=\"https://caelum-online-public.s3.amazonaws.com/1381-scraping/01/img-cars/toyota/toyota-3245397__340.jpg\" width=\"220\"/>]"
            ]
          },
          "metadata": {},
          "execution_count": 80
        }
      ]
    },
    {
      "cell_type": "markdown",
      "source": [
        "If we only want the figures, we can also do:"
      ],
      "metadata": {
        "id": "PaOVJzgs9zj-"
      }
    },
    {
      "cell_type": "code",
      "source": [
        "for item in soup.findAll('img', {\"alt\": \"Foto\"}):\n",
        "  print(item.get('src'))"
      ],
      "metadata": {
        "colab": {
          "base_uri": "https://localhost:8080/"
        },
        "id": "SUytnz649xbh",
        "outputId": "03506d9c-bbe5-4a09-b456-5b74c3949682"
      },
      "execution_count": 82,
      "outputs": [
        {
          "output_type": "stream",
          "name": "stdout",
          "text": [
            "https://caelum-online-public.s3.amazonaws.com/1381-scraping/01/img-cars/lamborghini-aventador/lamborghini-aventador-2932196__340.jpg\n",
            "https://caelum-online-public.s3.amazonaws.com/1381-scraping/01/img-cars/bmw-m2/bmw-m2-2970882__340.jpg\n",
            "https://caelum-online-public.s3.amazonaws.com/1381-scraping/01/img-cars/alfa/alfa-1823056__340.jpg\n",
            "https://caelum-online-public.s3.amazonaws.com/1381-scraping/01/img-cars/puech/puech-4055386__340.jpg\n",
            "https://caelum-online-public.s3.amazonaws.com/1381-scraping/01/img-cars/lamborghini-murcielago/lamborghini-murcielago-2872974__340.jpg\n",
            "https://caelum-online-public.s3.amazonaws.com/1381-scraping/01/img-cars/aston-martin/aston-martin-2977916__340.jpg\n",
            "https://caelum-online-public.s3.amazonaws.com/1381-scraping/01/img-cars/tvr/tvr-2943925__340.jpg\n",
            "https://caelum-online-public.s3.amazonaws.com/1381-scraping/01/img-cars/excalibur/excalibur-2916730__340.jpg\n",
            "https://caelum-online-public.s3.amazonaws.com/1381-scraping/01/img-cars/mclaren/mclaren-2855240__340.jpg\n",
            "https://caelum-online-public.s3.amazonaws.com/1381-scraping/01/img-cars/toyota/toyota-3245397__340.jpg\n"
          ]
        }
      ]
    },
    {
      "cell_type": "markdown",
      "source": [
        "Great! We were able to scrap our figures using Python.\n",
        "\n",
        "So, basically, to perform an efficient Web Scrapping, we simply have to **understand** our html document, look for the tags and classes we need, and then access those using BeautifulSoup."
      ],
      "metadata": {
        "id": "CLfZ-3or-Kqf"
      }
    },
    {
      "cell_type": "markdown",
      "source": [
        "## Extra 02: More search methods"
      ],
      "metadata": {
        "id": "4Wu9Vt63-y7J"
      }
    },
    {
      "cell_type": "markdown",
      "source": [
        "For an efficient search, we can also use the concepts of Parents and Siblings (previous or next sibling). They are entirely related to the html hierarchy. "
      ],
      "metadata": {
        "id": "aLFPNRqd-9dv"
      }
    },
    {
      "cell_type": "markdown",
      "source": [
        "    <html>\n",
        "        <body>\n",
        "            <div id=\"container-a\">\n",
        "                <h1>Título A</h1>\n",
        "                <h2 class=\"ref-a\">Sub título A</h2>\n",
        "                <p>Texto de conteúdo A</p>\n",
        "            </div>\n",
        "            <div id=\"container-b\">\n",
        "                <h1>Título B</h1>\n",
        "                <h2 class=\"ref-b\">Sub título B</h2>\n",
        "                <p>Texto de conteúdo B</p>\n",
        "            </div>\n",
        "        </body>\n",
        "    </html>"
      ],
      "metadata": {
        "id": "KWSbg4Qe_SPa"
      }
    },
    {
      "cell_type": "markdown",
      "source": [
        "For instance, here, looking at tag h2:\n",
        "\n",
        "*   h1 is its previous sibling.\n",
        "*   p is its next sibling.\n",
        "*   html, body, and div are its parents.\n",
        "\n"
      ],
      "metadata": {
        "id": "VtBun0g2_acv"
      }
    },
    {
      "cell_type": "code",
      "source": [
        "from bs4 import BeautifulSoup\n",
        "\n",
        "html = \"\"\"\n",
        "    <html>\n",
        "        <body>\n",
        "            <div id=\"container-a\">\n",
        "                <h1>Título A</h1>\n",
        "                <h2 class=\"ref-a\">Sub título A</h2>\n",
        "                <p>Texto de conteúdo A</p>\n",
        "            </div>\n",
        "            <div id=\"container-b\">\n",
        "                <h1>Título B</h1>\n",
        "                <h2 class=\"ref-b\">Sub título B</h2>\n",
        "                <p>Texto de conteúdo B</p>\n",
        "            </div>\n",
        "        </body>\n",
        "    </html>\n",
        "\"\"\"\n",
        "soup = BeautifulSoup(html, 'html.parser')"
      ],
      "metadata": {
        "id": "esWYhvXC-DXJ"
      },
      "execution_count": 84,
      "outputs": []
    },
    {
      "cell_type": "code",
      "source": [
        "soup.find('h2')"
      ],
      "metadata": {
        "colab": {
          "base_uri": "https://localhost:8080/"
        },
        "id": "HXIWN5Ei_PjC",
        "outputId": "aead74a3-db5c-4812-cc53-22679f86a943"
      },
      "execution_count": 85,
      "outputs": [
        {
          "output_type": "execute_result",
          "data": {
            "text/plain": [
              "<h2 class=\"ref-a\">Sub título A</h2>"
            ]
          },
          "metadata": {},
          "execution_count": 85
        }
      ]
    },
    {
      "cell_type": "markdown",
      "source": [
        "Ok, we have already learned how to find h2. However, we can also add a command to find its parents:"
      ],
      "metadata": {
        "id": "5oj9QOXa_v3w"
      }
    },
    {
      "cell_type": "code",
      "source": [
        "soup.find('h2').find_parents( )"
      ],
      "metadata": {
        "colab": {
          "base_uri": "https://localhost:8080/"
        },
        "id": "PshCkJC9_ux4",
        "outputId": "8c4abcc5-367d-4be9-8f88-9665f87b0847"
      },
      "execution_count": 91,
      "outputs": [
        {
          "output_type": "execute_result",
          "data": {
            "text/plain": [
              "[<div id=\"container-a\">\n",
              " <h1>Título A</h1>\n",
              " <h2 class=\"ref-a\">Sub título A</h2>\n",
              " <p>Texto de conteúdo A</p>\n",
              " </div>, <body>\n",
              " <div id=\"container-a\">\n",
              " <h1>Título A</h1>\n",
              " <h2 class=\"ref-a\">Sub título A</h2>\n",
              " <p>Texto de conteúdo A</p>\n",
              " </div>\n",
              " <div id=\"container-b\">\n",
              " <h1>Título B</h1>\n",
              " <h2 class=\"ref-b\">Sub título B</h2>\n",
              " <p>Texto de conteúdo B</p>\n",
              " </div>\n",
              " </body>, <html>\n",
              " <body>\n",
              " <div id=\"container-a\">\n",
              " <h1>Título A</h1>\n",
              " <h2 class=\"ref-a\">Sub título A</h2>\n",
              " <p>Texto de conteúdo A</p>\n",
              " </div>\n",
              " <div id=\"container-b\">\n",
              " <h1>Título B</h1>\n",
              " <h2 class=\"ref-b\">Sub título B</h2>\n",
              " <p>Texto de conteúdo B</p>\n",
              " </div>\n",
              " </body>\n",
              " </html>, \n",
              " <html>\n",
              " <body>\n",
              " <div id=\"container-a\">\n",
              " <h1>Título A</h1>\n",
              " <h2 class=\"ref-a\">Sub título A</h2>\n",
              " <p>Texto de conteúdo A</p>\n",
              " </div>\n",
              " <div id=\"container-b\">\n",
              " <h1>Título B</h1>\n",
              " <h2 class=\"ref-b\">Sub título B</h2>\n",
              " <p>Texto de conteúdo B</p>\n",
              " </div>\n",
              " </body>\n",
              " </html>]"
            ]
          },
          "metadata": {},
          "execution_count": 91
        }
      ]
    },
    {
      "cell_type": "markdown",
      "source": [
        "It returned us a list with all of its parents."
      ],
      "metadata": {
        "id": "inrdH9agADTh"
      }
    },
    {
      "cell_type": "markdown",
      "source": [
        "Now, for the siblings:"
      ],
      "metadata": {
        "id": "qn3CyRSdASNX"
      }
    },
    {
      "cell_type": "code",
      "source": [
        "soup.find('h2').findNext( )"
      ],
      "metadata": {
        "colab": {
          "base_uri": "https://localhost:8080/"
        },
        "id": "K8KxaqFr_5db",
        "outputId": "73f19482-6bb3-42e4-8ffe-0eb2e7a9472d"
      },
      "execution_count": 92,
      "outputs": [
        {
          "output_type": "execute_result",
          "data": {
            "text/plain": [
              "<p>Texto de conteúdo A</p>"
            ]
          },
          "metadata": {},
          "execution_count": 92
        }
      ]
    },
    {
      "cell_type": "code",
      "source": [
        "soup.find('h2').findPrevious( )"
      ],
      "metadata": {
        "colab": {
          "base_uri": "https://localhost:8080/"
        },
        "id": "VznppjSiAXIG",
        "outputId": "43313c92-f348-4b9a-95b4-c506a38a1fcd"
      },
      "execution_count": 93,
      "outputs": [
        {
          "output_type": "execute_result",
          "data": {
            "text/plain": [
              "<h1>Título A</h1>"
            ]
          },
          "metadata": {},
          "execution_count": 93
        }
      ]
    },
    {
      "cell_type": "markdown",
      "source": [
        "# Capturing data from an ad"
      ],
      "metadata": {
        "id": "-pgYRxKVA-Zv"
      }
    },
    {
      "cell_type": "markdown",
      "source": [
        "Ok, we have already learned how to navigate in a soup object. Now, let's try to capture data from an ad, to use in our future analyses."
      ],
      "metadata": {
        "id": "oZr7Oa1nBDvp"
      }
    },
    {
      "cell_type": "code",
      "source": [
        "from urllib.request import urlopen\n",
        "\n",
        "url = 'https://alura-site-scraping.herokuapp.com/index.php'\n",
        "\n",
        "response = urlopen(url)\n",
        "html = response.read( )\n",
        "\n",
        "html = treat_html(html)\n",
        "\n",
        "soup = BeautifulSoup(html, 'html.parser')"
      ],
      "metadata": {
        "id": "Rko19L_MBC99"
      },
      "execution_count": 95,
      "outputs": []
    },
    {
      "cell_type": "markdown",
      "source": [
        "So, in our webpage:\n",
        "\n",
        "https://alura-site-scraping.herokuapp.com/index.php\n",
        "\n",
        "we have a lot of ads from different luxury cars. Also, there is a lot of information of each car, such as: name, year, engine, km, price...\n",
        "\n",
        "If we inspect our page, we can see that all of this information is under a tag named *div*, using the class *container-cards*. Information of each car is stored under under tag *div*, using the class *well-card*. Thus, we can get the information for the first card using:"
      ],
      "metadata": {
        "id": "zcS4Bg-cBw6z"
      }
    },
    {
      "cell_type": "code",
      "source": [
        "ad = soup.find('div', {'class': 'well card'})\n",
        "print(ad.prettify( ))"
      ],
      "metadata": {
        "colab": {
          "base_uri": "https://localhost:8080/"
        },
        "id": "MOT7mc6XCaDL",
        "outputId": "433cc5d9-749c-47bf-87fe-598e7b384cc1"
      },
      "execution_count": 103,
      "outputs": [
        {
          "output_type": "stream",
          "name": "stdout",
          "text": [
            "<div class=\"well card\">\n",
            " <div class=\"col-md-3 image-card\">\n",
            "  <img alt=\"Foto\" height=\"155\" src=\"https://caelum-online-public.s3.amazonaws.com/1381-scraping/01/img-cars/lamborghini-aventador/lamborghini-aventador-2932196__340.jpg\" width=\"220\"/>\n",
            " </div>\n",
            " <div class=\"col-md-6 body-card\">\n",
            "  <p class=\"txt-name inline\">\n",
            "   LAMBORGHINI AVENTADOR\n",
            "  </p>\n",
            "  <p class=\"txt-category badge badge-secondary inline\">\n",
            "   USADO\n",
            "  </p>\n",
            "  <p class=\"txt-motor\">\n",
            "   Motor 1.8 16v\n",
            "  </p>\n",
            "  <p class=\"txt-description\">\n",
            "   Ano 1993 - 55.286 km\n",
            "  </p>\n",
            "  <ul class=\"lst-items\">\n",
            "   <li class=\"txt-items\">\n",
            "    ► 4 X 4\n",
            "   </li>\n",
            "   <li class=\"txt-items\">\n",
            "    ► Câmera de estacionamento\n",
            "   </li>\n",
            "   <li class=\"txt-items\">\n",
            "    ► Controle de tração\n",
            "   </li>\n",
            "   <li class=\"txt-items\">\n",
            "    ► Sensor de estacionamento\n",
            "   </li>\n",
            "   <li class=\"txt-items\">\n",
            "    ...\n",
            "   </li>\n",
            "  </ul>\n",
            "  <p class=\"txt-location\">\n",
            "   Belo Horizonte - MG\n",
            "  </p>\n",
            " </div>\n",
            " <div class=\"col-md-3 value-card\">\n",
            "  <div class=\"value\">\n",
            "   <p class=\"txt-value\">\n",
            "    R$ 338.000\n",
            "   </p>\n",
            "  </div>\n",
            " </div>\n",
            "</div>\n",
            "\n"
          ]
        }
      ]
    },
    {
      "cell_type": "markdown",
      "source": [
        "Note that our ad has information about the name of the car, the items that it has, its value, its year, its km, its location, and others. Let's get the value of our car:"
      ],
      "metadata": {
        "id": "XqwhYI2KEFJU"
      }
    },
    {
      "cell_type": "code",
      "source": [
        "ad.find('p', {'class':'txt-value'})"
      ],
      "metadata": {
        "colab": {
          "base_uri": "https://localhost:8080/"
        },
        "id": "QtEdrpUQDizy",
        "outputId": "8414f586-4319-453b-8a9c-94ce05113925"
      },
      "execution_count": 105,
      "outputs": [
        {
          "output_type": "execute_result",
          "data": {
            "text/plain": [
              "<p class=\"txt-value\">R$ 338.000</p>"
            ]
          },
          "metadata": {},
          "execution_count": 105
        }
      ]
    },
    {
      "cell_type": "markdown",
      "source": [
        "Great! Now, to eliminate the tags:"
      ],
      "metadata": {
        "id": "hGMHvROHEjIR"
      }
    },
    {
      "cell_type": "code",
      "source": [
        "ad.find('p', {'class':'txt-value'}).get_text( )"
      ],
      "metadata": {
        "colab": {
          "base_uri": "https://localhost:8080/",
          "height": 35
        },
        "id": "laQXMMztEZ-T",
        "outputId": "62718908-3363-414d-c7f6-474ef8cc73cb"
      },
      "execution_count": 107,
      "outputs": [
        {
          "output_type": "execute_result",
          "data": {
            "text/plain": [
              "'R$ 338.000'"
            ],
            "application/vnd.google.colaboratory.intrinsic+json": {
              "type": "string"
            }
          },
          "metadata": {},
          "execution_count": 107
        }
      ]
    },
    {
      "cell_type": "markdown",
      "source": [
        "Other example: to get the items from our car, we can use:"
      ],
      "metadata": {
        "id": "ScMb0wGNErUK"
      }
    },
    {
      "cell_type": "code",
      "source": [
        "ad.find('li', {'class':'txt-items'}).get_text( )"
      ],
      "metadata": {
        "colab": {
          "base_uri": "https://localhost:8080/",
          "height": 35
        },
        "id": "UwRNw81UEnsd",
        "outputId": "8d2bdc10-d3a5-4a96-c4d1-f65c795394bc"
      },
      "execution_count": 108,
      "outputs": [
        {
          "output_type": "execute_result",
          "data": {
            "text/plain": [
              "'► 4 X 4'"
            ],
            "application/vnd.google.colaboratory.intrinsic+json": {
              "type": "string"
            }
          },
          "metadata": {},
          "execution_count": 108
        }
      ]
    },
    {
      "cell_type": "markdown",
      "source": [
        "However, note that our car has multiple items. To get all of them at once, we may use:"
      ],
      "metadata": {
        "id": "CVAXcx5fFM3f"
      }
    },
    {
      "cell_type": "code",
      "source": [
        "ad.findAll('li', {'class':'txt-items'})"
      ],
      "metadata": {
        "colab": {
          "base_uri": "https://localhost:8080/"
        },
        "id": "QSeT2IIdFMFs",
        "outputId": "f9791526-a1b2-484b-9b09-3e95164db113"
      },
      "execution_count": 110,
      "outputs": [
        {
          "output_type": "execute_result",
          "data": {
            "text/plain": [
              "[<li class=\"txt-items\">► 4 X 4</li>,\n",
              " <li class=\"txt-items\">► Câmera de estacionamento</li>,\n",
              " <li class=\"txt-items\">► Controle de tração</li>,\n",
              " <li class=\"txt-items\">► Sensor de estacionamento</li>,\n",
              " <li class=\"txt-items\">...</li>]"
            ]
          },
          "metadata": {},
          "execution_count": 110
        }
      ]
    },
    {
      "cell_type": "markdown",
      "source": [
        "and, to only get the text:"
      ],
      "metadata": {
        "id": "BpzD6K_NFYQ6"
      }
    },
    {
      "cell_type": "code",
      "source": [
        "for item in ad.findAll('li', {'class':'txt-items'}):\n",
        "  print(item.get_text( ))"
      ],
      "metadata": {
        "colab": {
          "base_uri": "https://localhost:8080/"
        },
        "id": "qb52AOyPFU-F",
        "outputId": "3ed82a00-f71a-43be-9293-608d0f0c3606"
      },
      "execution_count": 111,
      "outputs": [
        {
          "output_type": "stream",
          "name": "stdout",
          "text": [
            "► 4 X 4\n",
            "► Câmera de estacionamento\n",
            "► Controle de tração\n",
            "► Sensor de estacionamento\n",
            "...\n"
          ]
        }
      ]
    },
    {
      "cell_type": "markdown",
      "source": [
        "## Getting a lot of information at once"
      ],
      "metadata": {
        "id": "wk34MP-1Fpmj"
      }
    },
    {
      "cell_type": "markdown",
      "source": [
        "Also, we may note that those information usually comes from the same tag. For instance, if we search for tag \\<p\\> under tag \\<div\\>, class \"body-card\":"
      ],
      "metadata": {
        "id": "1u4N-qkcFvDe"
      }
    },
    {
      "cell_type": "code",
      "source": [
        "infos = ad.find('div', {'class': 'body-card'}).findAll('p')\n",
        "infos"
      ],
      "metadata": {
        "colab": {
          "base_uri": "https://localhost:8080/"
        },
        "id": "zudgd2e6Fe1J",
        "outputId": "a131e552-aa87-4da4-9948-576220c76ed9"
      },
      "execution_count": 113,
      "outputs": [
        {
          "output_type": "execute_result",
          "data": {
            "text/plain": [
              "[<p class=\"txt-name inline\">LAMBORGHINI AVENTADOR</p>,\n",
              " <p class=\"txt-category badge badge-secondary inline\">USADO</p>,\n",
              " <p class=\"txt-motor\">Motor 1.8 16v</p>,\n",
              " <p class=\"txt-description\">Ano 1993 - 55.286 km</p>,\n",
              " <p class=\"txt-location\">Belo Horizonte - MG</p>]"
            ]
          },
          "metadata": {},
          "execution_count": 113
        }
      ]
    },
    {
      "cell_type": "markdown",
      "source": [
        "We got a lot of information at once."
      ],
      "metadata": {
        "id": "AFfVVPVlGCkI"
      }
    },
    {
      "cell_type": "markdown",
      "source": [
        "Another method to get multiple values at once is to store cards in auxiliary variables. Usually, we use a dictionary. Let's understand step by step how to do this."
      ],
      "metadata": {
        "id": "vIf1v6bIGMHX"
      }
    },
    {
      "cell_type": "markdown",
      "source": [
        "First, we can see each of the items from our list using:"
      ],
      "metadata": {
        "id": "ix5t5h_nG5Bg"
      }
    },
    {
      "cell_type": "code",
      "source": [
        "for info in infos:\n",
        "  print(info)"
      ],
      "metadata": {
        "colab": {
          "base_uri": "https://localhost:8080/"
        },
        "id": "RtTpTKr0GByv",
        "outputId": "4e0573d1-dd65-414f-e040-e5f617fe8138"
      },
      "execution_count": 114,
      "outputs": [
        {
          "output_type": "stream",
          "name": "stdout",
          "text": [
            "<p class=\"txt-name inline\">LAMBORGHINI AVENTADOR</p>\n",
            "<p class=\"txt-category badge badge-secondary inline\">USADO</p>\n",
            "<p class=\"txt-motor\">Motor 1.8 16v</p>\n",
            "<p class=\"txt-description\">Ano 1993 - 55.286 km</p>\n",
            "<p class=\"txt-location\">Belo Horizonte - MG</p>\n"
          ]
        }
      ]
    },
    {
      "cell_type": "markdown",
      "source": [
        "However, there is a lot of information there we don't want. Let's try to get only the class and the text of each item:"
      ],
      "metadata": {
        "id": "zZcXUu3PHAw_"
      }
    },
    {
      "cell_type": "code",
      "source": [
        "for info in infos:\n",
        "  print(info.get('class'), ' - ', info.get_text( ))"
      ],
      "metadata": {
        "colab": {
          "base_uri": "https://localhost:8080/"
        },
        "id": "PDGGB7YZG_3X",
        "outputId": "790654a1-72bd-4fd1-9a3f-ef04b5ff3e57"
      },
      "execution_count": 115,
      "outputs": [
        {
          "output_type": "stream",
          "name": "stdout",
          "text": [
            "['txt-name', 'inline']  -  LAMBORGHINI AVENTADOR\n",
            "['txt-category', 'badge', 'badge-secondary', 'inline']  -  USADO\n",
            "['txt-motor']  -  Motor 1.8 16v\n",
            "['txt-description']  -  Ano 1993 - 55.286 km\n",
            "['txt-location']  -  Belo Horizonte - MG\n"
          ]
        }
      ]
    },
    {
      "cell_type": "markdown",
      "source": [
        "That looks a bit better. However, our class is a list, where only the first value is important. Thus, we can do:"
      ],
      "metadata": {
        "id": "rGkviUrbHQ1C"
      }
    },
    {
      "cell_type": "code",
      "source": [
        "for info in infos:\n",
        "  print(info.get('class')[0], ' - ', info.get_text( ))"
      ],
      "metadata": {
        "colab": {
          "base_uri": "https://localhost:8080/"
        },
        "id": "2a8kynEbHOFW",
        "outputId": "4db6b921-0059-415b-ad40-2bdbc376adde"
      },
      "execution_count": 117,
      "outputs": [
        {
          "output_type": "stream",
          "name": "stdout",
          "text": [
            "txt-name  -  LAMBORGHINI AVENTADOR\n",
            "txt-category  -  USADO\n",
            "txt-motor  -  Motor 1.8 16v\n",
            "txt-description  -  Ano 1993 - 55.286 km\n",
            "txt-location  -  Belo Horizonte - MG\n"
          ]
        }
      ]
    },
    {
      "cell_type": "markdown",
      "source": [
        "Now that looks a lot better. To make things more clear, we can also ignore the 'txt-' part from our class using:"
      ],
      "metadata": {
        "id": "act80WcwHaCw"
      }
    },
    {
      "cell_type": "code",
      "source": [
        "for info in infos:\n",
        "  print(info.get('class')[0].split(\"-\")[-1], ' - ', info.get_text( ))"
      ],
      "metadata": {
        "colab": {
          "base_uri": "https://localhost:8080/"
        },
        "id": "aMbNPXMYHXl7",
        "outputId": "7d68af9b-3615-426f-9ddc-16fd6c131cab"
      },
      "execution_count": 118,
      "outputs": [
        {
          "output_type": "stream",
          "name": "stdout",
          "text": [
            "name  -  LAMBORGHINI AVENTADOR\n",
            "category  -  USADO\n",
            "motor  -  Motor 1.8 16v\n",
            "description  -  Ano 1993 - 55.286 km\n",
            "location  -  Belo Horizonte - MG\n"
          ]
        }
      ]
    },
    {
      "cell_type": "markdown",
      "source": [
        "Good! Now, let's create a dictionary using these ideas:"
      ],
      "metadata": {
        "id": "CZ6PBOXkHodo"
      }
    },
    {
      "cell_type": "code",
      "source": [
        "card = {}\n",
        "\n",
        "for info in infos:\n",
        "  card[info.get('class')[0].split(\"-\")[-1]] = info.get_text( )"
      ],
      "metadata": {
        "id": "EusWiRCuHnci"
      },
      "execution_count": 120,
      "outputs": []
    },
    {
      "cell_type": "code",
      "source": [
        "card"
      ],
      "metadata": {
        "colab": {
          "base_uri": "https://localhost:8080/"
        },
        "id": "F3Wlh9oxHv4P",
        "outputId": "e1b79ccb-e5f8-4735-d34c-e99871d5ffc6"
      },
      "execution_count": 121,
      "outputs": [
        {
          "output_type": "execute_result",
          "data": {
            "text/plain": [
              "{'category': 'USADO',\n",
              " 'description': 'Ano 1993 - 55.286 km',\n",
              " 'location': 'Belo Horizonte - MG',\n",
              " 'motor': 'Motor 1.8 16v',\n",
              " 'name': 'LAMBORGHINI AVENTADOR'}"
            ]
          },
          "metadata": {},
          "execution_count": 121
        }
      ]
    },
    {
      "cell_type": "markdown",
      "source": [
        "Great! Everything worked out. However, there is still some other information we can get."
      ],
      "metadata": {
        "id": "DO2OsRa3H0b3"
      }
    },
    {
      "cell_type": "markdown",
      "source": [
        "As we showed before, we can do so using:"
      ],
      "metadata": {
        "id": "mTyaQ9NKIjNy"
      }
    },
    {
      "cell_type": "code",
      "source": [
        "for item in ad.findAll('li', {'class':'txt-items'}):\n",
        "  print(item)"
      ],
      "metadata": {
        "colab": {
          "base_uri": "https://localhost:8080/"
        },
        "id": "AHZ_FfLeHzYQ",
        "outputId": "e95203aa-2674-439b-80c7-0d29ee1eb8c3"
      },
      "execution_count": 123,
      "outputs": [
        {
          "output_type": "stream",
          "name": "stdout",
          "text": [
            "<li class=\"txt-items\">► 4 X 4</li>\n",
            "<li class=\"txt-items\">► Câmera de estacionamento</li>\n",
            "<li class=\"txt-items\">► Controle de tração</li>\n",
            "<li class=\"txt-items\">► Sensor de estacionamento</li>\n",
            "<li class=\"txt-items\">...</li>\n"
          ]
        }
      ]
    },
    {
      "cell_type": "markdown",
      "source": [
        "Ok. Now, we have to clean this output, and remove what we don't want. First, to eliminate the last item of the list:"
      ],
      "metadata": {
        "id": "lfMDh1grI4Aj"
      }
    },
    {
      "cell_type": "code",
      "source": [
        "items = ad.findAll('li', {'class':'txt-items'})"
      ],
      "metadata": {
        "id": "SkfrQ9CQIsgc"
      },
      "execution_count": 131,
      "outputs": []
    },
    {
      "cell_type": "code",
      "source": [
        "items.pop( )"
      ],
      "metadata": {
        "colab": {
          "base_uri": "https://localhost:8080/"
        },
        "id": "76sbPM_KJSWx",
        "outputId": "a58db5b9-c170-4a77-fbb3-28271aba8f06"
      },
      "execution_count": 133,
      "outputs": [
        {
          "output_type": "execute_result",
          "data": {
            "text/plain": [
              "<li class=\"txt-items\">...</li>"
            ]
          },
          "metadata": {},
          "execution_count": 133
        }
      ]
    },
    {
      "cell_type": "code",
      "source": [
        "items"
      ],
      "metadata": {
        "colab": {
          "base_uri": "https://localhost:8080/"
        },
        "id": "4wSekBdwJES0",
        "outputId": "95a90974-e6be-4b5c-ad1c-193a944fdc90"
      },
      "execution_count": 134,
      "outputs": [
        {
          "output_type": "execute_result",
          "data": {
            "text/plain": [
              "[<li class=\"txt-items\">► 4 X 4</li>,\n",
              " <li class=\"txt-items\">► Câmera de estacionamento</li>,\n",
              " <li class=\"txt-items\">► Controle de tração</li>,\n",
              " <li class=\"txt-items\">► Sensor de estacionamento</li>]"
            ]
          },
          "metadata": {},
          "execution_count": 134
        }
      ]
    },
    {
      "cell_type": "markdown",
      "source": [
        "Now, let's store the text on a list:"
      ],
      "metadata": {
        "id": "R-r99CAjJZQ-"
      }
    },
    {
      "cell_type": "code",
      "source": [
        "list_items = []\n",
        "for item in items:\n",
        "  list_items.append(item.get_text( ))\n",
        "\n",
        "list_items"
      ],
      "metadata": {
        "colab": {
          "base_uri": "https://localhost:8080/"
        },
        "id": "5Vv8bj1rJNZh",
        "outputId": "80f96745-24b3-4eed-e3f3-c1497d70395b"
      },
      "execution_count": 137,
      "outputs": [
        {
          "output_type": "execute_result",
          "data": {
            "text/plain": [
              "['► 4 X 4',\n",
              " '► Câmera de estacionamento',\n",
              " '► Controle de tração',\n",
              " '► Sensor de estacionamento']"
            ]
          },
          "metadata": {},
          "execution_count": 137
        }
      ]
    },
    {
      "cell_type": "markdown",
      "source": [
        "However, let's make our text more clean:"
      ],
      "metadata": {
        "id": "5nCktBpUJmYP"
      }
    },
    {
      "cell_type": "code",
      "source": [
        "list_items = []\n",
        "for item in items:\n",
        "  list_items.append(item.get_text( ).replace('► ', ''))\n",
        "\n",
        "list_items"
      ],
      "metadata": {
        "colab": {
          "base_uri": "https://localhost:8080/"
        },
        "id": "Gn49rKnsJjw_",
        "outputId": "bb71947b-4df6-414b-dd9e-297d4d37e05a"
      },
      "execution_count": 138,
      "outputs": [
        {
          "output_type": "execute_result",
          "data": {
            "text/plain": [
              "['4 X 4',\n",
              " 'Câmera de estacionamento',\n",
              " 'Controle de tração',\n",
              " 'Sensor de estacionamento']"
            ]
          },
          "metadata": {},
          "execution_count": 138
        }
      ]
    },
    {
      "cell_type": "markdown",
      "source": [
        "Great! Now, let's add a new key on our dictionary:"
      ],
      "metadata": {
        "id": "ZSrz4zQXJugO"
      }
    },
    {
      "cell_type": "code",
      "source": [
        "card['items'] = list_items"
      ],
      "metadata": {
        "id": "6bkXyW6QJtya"
      },
      "execution_count": 139,
      "outputs": []
    },
    {
      "cell_type": "code",
      "source": [
        "card"
      ],
      "metadata": {
        "colab": {
          "base_uri": "https://localhost:8080/"
        },
        "id": "3ZHnDXwyKCar",
        "outputId": "f8e7e0c6-75de-4f7d-a45e-28163a8c3f1e"
      },
      "execution_count": 140,
      "outputs": [
        {
          "output_type": "execute_result",
          "data": {
            "text/plain": [
              "{'category': 'USADO',\n",
              " 'description': 'Ano 1993 - 55.286 km',\n",
              " 'items': ['4 X 4',\n",
              "  'Câmera de estacionamento',\n",
              "  'Controle de tração',\n",
              "  'Sensor de estacionamento'],\n",
              " 'location': 'Belo Horizonte - MG',\n",
              " 'motor': 'Motor 1.8 16v',\n",
              " 'name': 'LAMBORGHINI AVENTADOR'}"
            ]
          },
          "metadata": {},
          "execution_count": 140
        }
      ]
    },
    {
      "cell_type": "markdown",
      "source": [
        "Now, let's get the final information: the value of our car."
      ],
      "metadata": {
        "id": "JIys1vK0KRPl"
      }
    },
    {
      "cell_type": "code",
      "source": [
        "ad.find('p', {'class':'txt-value'})"
      ],
      "metadata": {
        "colab": {
          "base_uri": "https://localhost:8080/"
        },
        "id": "mYGab3unKDU3",
        "outputId": "2f686be3-329d-48be-b4ee-5f38486e719e"
      },
      "execution_count": 141,
      "outputs": [
        {
          "output_type": "execute_result",
          "data": {
            "text/plain": [
              "<p class=\"txt-value\">R$ 338.000</p>"
            ]
          },
          "metadata": {},
          "execution_count": 141
        }
      ]
    },
    {
      "cell_type": "markdown",
      "source": [
        "Ok, so let's just treat our string:"
      ],
      "metadata": {
        "id": "dejNKsrlKf7H"
      }
    },
    {
      "cell_type": "code",
      "source": [
        "print(ad.find('p', {'class':'txt-value'}).get('class')[0].split('-')[-1], ' - ', ad.find('p', {'class':'txt-value'}).get_text( ))"
      ],
      "metadata": {
        "colab": {
          "base_uri": "https://localhost:8080/"
        },
        "id": "XRe0RH4yKdgj",
        "outputId": "805e484e-f1a9-4a31-82d2-5f67f615012f"
      },
      "execution_count": 144,
      "outputs": [
        {
          "output_type": "stream",
          "name": "stdout",
          "text": [
            "value  -  R$ 338.000\n"
          ]
        }
      ]
    },
    {
      "cell_type": "markdown",
      "source": [
        "Nice! Now let's add to our dictionary:"
      ],
      "metadata": {
        "id": "DuPqyL8yK5i3"
      }
    },
    {
      "cell_type": "code",
      "source": [
        "card[ad.find('p', {'class':'txt-value'}).get('class')[0].split('-')[-1]] = ad.find('p', {'class':'txt-value'}).get_text( )"
      ],
      "metadata": {
        "id": "wnlkApjXKvfR"
      },
      "execution_count": 145,
      "outputs": []
    },
    {
      "cell_type": "code",
      "source": [
        "card"
      ],
      "metadata": {
        "colab": {
          "base_uri": "https://localhost:8080/"
        },
        "id": "5wl7TeLMK_yJ",
        "outputId": "6ff48977-8c06-426a-9c23-32a07d91cc11"
      },
      "execution_count": 146,
      "outputs": [
        {
          "output_type": "execute_result",
          "data": {
            "text/plain": [
              "{'category': 'USADO',\n",
              " 'description': 'Ano 1993 - 55.286 km',\n",
              " 'items': ['4 X 4',\n",
              "  'Câmera de estacionamento',\n",
              "  'Controle de tração',\n",
              "  'Sensor de estacionamento'],\n",
              " 'location': 'Belo Horizonte - MG',\n",
              " 'motor': 'Motor 1.8 16v',\n",
              " 'name': 'LAMBORGHINI AVENTADOR',\n",
              " 'value': 'R$ 338.000'}"
            ]
          },
          "metadata": {},
          "execution_count": 146
        }
      ]
    },
    {
      "cell_type": "markdown",
      "source": [
        "## Creating a DataFrame from our dictionary"
      ],
      "metadata": {
        "id": "PpQhCAP2LF21"
      }
    },
    {
      "cell_type": "markdown",
      "source": [
        "After getting our information, it is common to send it to a Pandas DataFrame, so that analyses can be performed more easily. So, we can do:"
      ],
      "metadata": {
        "id": "RudPYXEHLKSQ"
      }
    },
    {
      "cell_type": "code",
      "source": [
        "import pandas as pd\n",
        "\n",
        "data = pd.DataFrame(card)"
      ],
      "metadata": {
        "id": "BN1c-2p5LCGd"
      },
      "execution_count": 147,
      "outputs": []
    },
    {
      "cell_type": "code",
      "source": [
        "data"
      ],
      "metadata": {
        "colab": {
          "base_uri": "https://localhost:8080/",
          "height": 174
        },
        "id": "IeAevZjdLV0O",
        "outputId": "34eff3ff-5c6c-4829-8489-dcac5b94dccd"
      },
      "execution_count": 148,
      "outputs": [
        {
          "output_type": "execute_result",
          "data": {
            "text/plain": [
              "                    name category          motor           description  \\\n",
              "0  LAMBORGHINI AVENTADOR    USADO  Motor 1.8 16v  Ano 1993 - 55.286 km   \n",
              "1  LAMBORGHINI AVENTADOR    USADO  Motor 1.8 16v  Ano 1993 - 55.286 km   \n",
              "2  LAMBORGHINI AVENTADOR    USADO  Motor 1.8 16v  Ano 1993 - 55.286 km   \n",
              "3  LAMBORGHINI AVENTADOR    USADO  Motor 1.8 16v  Ano 1993 - 55.286 km   \n",
              "\n",
              "              location                     items       value  \n",
              "0  Belo Horizonte - MG                     4 X 4  R$ 338.000  \n",
              "1  Belo Horizonte - MG  Câmera de estacionamento  R$ 338.000  \n",
              "2  Belo Horizonte - MG        Controle de tração  R$ 338.000  \n",
              "3  Belo Horizonte - MG  Sensor de estacionamento  R$ 338.000  "
            ],
            "text/html": [
              "\n",
              "  <div id=\"df-59c1aede-9d78-442a-82a8-3a89712ce9ff\">\n",
              "    <div class=\"colab-df-container\">\n",
              "      <div>\n",
              "<style scoped>\n",
              "    .dataframe tbody tr th:only-of-type {\n",
              "        vertical-align: middle;\n",
              "    }\n",
              "\n",
              "    .dataframe tbody tr th {\n",
              "        vertical-align: top;\n",
              "    }\n",
              "\n",
              "    .dataframe thead th {\n",
              "        text-align: right;\n",
              "    }\n",
              "</style>\n",
              "<table border=\"1\" class=\"dataframe\">\n",
              "  <thead>\n",
              "    <tr style=\"text-align: right;\">\n",
              "      <th></th>\n",
              "      <th>name</th>\n",
              "      <th>category</th>\n",
              "      <th>motor</th>\n",
              "      <th>description</th>\n",
              "      <th>location</th>\n",
              "      <th>items</th>\n",
              "      <th>value</th>\n",
              "    </tr>\n",
              "  </thead>\n",
              "  <tbody>\n",
              "    <tr>\n",
              "      <th>0</th>\n",
              "      <td>LAMBORGHINI AVENTADOR</td>\n",
              "      <td>USADO</td>\n",
              "      <td>Motor 1.8 16v</td>\n",
              "      <td>Ano 1993 - 55.286 km</td>\n",
              "      <td>Belo Horizonte - MG</td>\n",
              "      <td>4 X 4</td>\n",
              "      <td>R$ 338.000</td>\n",
              "    </tr>\n",
              "    <tr>\n",
              "      <th>1</th>\n",
              "      <td>LAMBORGHINI AVENTADOR</td>\n",
              "      <td>USADO</td>\n",
              "      <td>Motor 1.8 16v</td>\n",
              "      <td>Ano 1993 - 55.286 km</td>\n",
              "      <td>Belo Horizonte - MG</td>\n",
              "      <td>Câmera de estacionamento</td>\n",
              "      <td>R$ 338.000</td>\n",
              "    </tr>\n",
              "    <tr>\n",
              "      <th>2</th>\n",
              "      <td>LAMBORGHINI AVENTADOR</td>\n",
              "      <td>USADO</td>\n",
              "      <td>Motor 1.8 16v</td>\n",
              "      <td>Ano 1993 - 55.286 km</td>\n",
              "      <td>Belo Horizonte - MG</td>\n",
              "      <td>Controle de tração</td>\n",
              "      <td>R$ 338.000</td>\n",
              "    </tr>\n",
              "    <tr>\n",
              "      <th>3</th>\n",
              "      <td>LAMBORGHINI AVENTADOR</td>\n",
              "      <td>USADO</td>\n",
              "      <td>Motor 1.8 16v</td>\n",
              "      <td>Ano 1993 - 55.286 km</td>\n",
              "      <td>Belo Horizonte - MG</td>\n",
              "      <td>Sensor de estacionamento</td>\n",
              "      <td>R$ 338.000</td>\n",
              "    </tr>\n",
              "  </tbody>\n",
              "</table>\n",
              "</div>\n",
              "      <button class=\"colab-df-convert\" onclick=\"convertToInteractive('df-59c1aede-9d78-442a-82a8-3a89712ce9ff')\"\n",
              "              title=\"Convert this dataframe to an interactive table.\"\n",
              "              style=\"display:none;\">\n",
              "        \n",
              "  <svg xmlns=\"http://www.w3.org/2000/svg\" height=\"24px\"viewBox=\"0 0 24 24\"\n",
              "       width=\"24px\">\n",
              "    <path d=\"M0 0h24v24H0V0z\" fill=\"none\"/>\n",
              "    <path d=\"M18.56 5.44l.94 2.06.94-2.06 2.06-.94-2.06-.94-.94-2.06-.94 2.06-2.06.94zm-11 1L8.5 8.5l.94-2.06 2.06-.94-2.06-.94L8.5 2.5l-.94 2.06-2.06.94zm10 10l.94 2.06.94-2.06 2.06-.94-2.06-.94-.94-2.06-.94 2.06-2.06.94z\"/><path d=\"M17.41 7.96l-1.37-1.37c-.4-.4-.92-.59-1.43-.59-.52 0-1.04.2-1.43.59L10.3 9.45l-7.72 7.72c-.78.78-.78 2.05 0 2.83L4 21.41c.39.39.9.59 1.41.59.51 0 1.02-.2 1.41-.59l7.78-7.78 2.81-2.81c.8-.78.8-2.07 0-2.86zM5.41 20L4 18.59l7.72-7.72 1.47 1.35L5.41 20z\"/>\n",
              "  </svg>\n",
              "      </button>\n",
              "      \n",
              "  <style>\n",
              "    .colab-df-container {\n",
              "      display:flex;\n",
              "      flex-wrap:wrap;\n",
              "      gap: 12px;\n",
              "    }\n",
              "\n",
              "    .colab-df-convert {\n",
              "      background-color: #E8F0FE;\n",
              "      border: none;\n",
              "      border-radius: 50%;\n",
              "      cursor: pointer;\n",
              "      display: none;\n",
              "      fill: #1967D2;\n",
              "      height: 32px;\n",
              "      padding: 0 0 0 0;\n",
              "      width: 32px;\n",
              "    }\n",
              "\n",
              "    .colab-df-convert:hover {\n",
              "      background-color: #E2EBFA;\n",
              "      box-shadow: 0px 1px 2px rgba(60, 64, 67, 0.3), 0px 1px 3px 1px rgba(60, 64, 67, 0.15);\n",
              "      fill: #174EA6;\n",
              "    }\n",
              "\n",
              "    [theme=dark] .colab-df-convert {\n",
              "      background-color: #3B4455;\n",
              "      fill: #D2E3FC;\n",
              "    }\n",
              "\n",
              "    [theme=dark] .colab-df-convert:hover {\n",
              "      background-color: #434B5C;\n",
              "      box-shadow: 0px 1px 3px 1px rgba(0, 0, 0, 0.15);\n",
              "      filter: drop-shadow(0px 1px 2px rgba(0, 0, 0, 0.3));\n",
              "      fill: #FFFFFF;\n",
              "    }\n",
              "  </style>\n",
              "\n",
              "      <script>\n",
              "        const buttonEl =\n",
              "          document.querySelector('#df-59c1aede-9d78-442a-82a8-3a89712ce9ff button.colab-df-convert');\n",
              "        buttonEl.style.display =\n",
              "          google.colab.kernel.accessAllowed ? 'block' : 'none';\n",
              "\n",
              "        async function convertToInteractive(key) {\n",
              "          const element = document.querySelector('#df-59c1aede-9d78-442a-82a8-3a89712ce9ff');\n",
              "          const dataTable =\n",
              "            await google.colab.kernel.invokeFunction('convertToInteractive',\n",
              "                                                     [key], {});\n",
              "          if (!dataTable) return;\n",
              "\n",
              "          const docLinkHtml = 'Like what you see? Visit the ' +\n",
              "            '<a target=\"_blank\" href=https://colab.research.google.com/notebooks/data_table.ipynb>data table notebook</a>'\n",
              "            + ' to learn more about interactive tables.';\n",
              "          element.innerHTML = '';\n",
              "          dataTable['output_type'] = 'display_data';\n",
              "          await google.colab.output.renderOutput(dataTable, element);\n",
              "          const docLink = document.createElement('div');\n",
              "          docLink.innerHTML = docLinkHtml;\n",
              "          element.appendChild(docLink);\n",
              "        }\n",
              "      </script>\n",
              "    </div>\n",
              "  </div>\n",
              "  "
            ]
          },
          "metadata": {},
          "execution_count": 148
        }
      ]
    },
    {
      "cell_type": "markdown",
      "source": [
        "However, note that our dataframe is not right: it considered that each acessory was related to a different entry. To fix this, we can create our DataFrame using:"
      ],
      "metadata": {
        "id": "Juyx35geLYMJ"
      }
    },
    {
      "cell_type": "code",
      "source": [
        "data = pd.DataFrame.from_dict(card, orient = 'index').T"
      ],
      "metadata": {
        "id": "cfipGUtSLXaI"
      },
      "execution_count": 152,
      "outputs": []
    },
    {
      "cell_type": "code",
      "source": [
        "data"
      ],
      "metadata": {
        "colab": {
          "base_uri": "https://localhost:8080/",
          "height": 125
        },
        "id": "SAENLqjLLomS",
        "outputId": "0218829a-8d82-4831-f72d-a04519b256b5"
      },
      "execution_count": 153,
      "outputs": [
        {
          "output_type": "execute_result",
          "data": {
            "text/plain": [
              "                    name category          motor           description  \\\n",
              "0  LAMBORGHINI AVENTADOR    USADO  Motor 1.8 16v  Ano 1993 - 55.286 km   \n",
              "\n",
              "              location                                              items  \\\n",
              "0  Belo Horizonte - MG  [4 X 4, Câmera de estacionamento, Controle de ...   \n",
              "\n",
              "        value  \n",
              "0  R$ 338.000  "
            ],
            "text/html": [
              "\n",
              "  <div id=\"df-bf88059d-fbeb-44bf-b6b6-5c940681536e\">\n",
              "    <div class=\"colab-df-container\">\n",
              "      <div>\n",
              "<style scoped>\n",
              "    .dataframe tbody tr th:only-of-type {\n",
              "        vertical-align: middle;\n",
              "    }\n",
              "\n",
              "    .dataframe tbody tr th {\n",
              "        vertical-align: top;\n",
              "    }\n",
              "\n",
              "    .dataframe thead th {\n",
              "        text-align: right;\n",
              "    }\n",
              "</style>\n",
              "<table border=\"1\" class=\"dataframe\">\n",
              "  <thead>\n",
              "    <tr style=\"text-align: right;\">\n",
              "      <th></th>\n",
              "      <th>name</th>\n",
              "      <th>category</th>\n",
              "      <th>motor</th>\n",
              "      <th>description</th>\n",
              "      <th>location</th>\n",
              "      <th>items</th>\n",
              "      <th>value</th>\n",
              "    </tr>\n",
              "  </thead>\n",
              "  <tbody>\n",
              "    <tr>\n",
              "      <th>0</th>\n",
              "      <td>LAMBORGHINI AVENTADOR</td>\n",
              "      <td>USADO</td>\n",
              "      <td>Motor 1.8 16v</td>\n",
              "      <td>Ano 1993 - 55.286 km</td>\n",
              "      <td>Belo Horizonte - MG</td>\n",
              "      <td>[4 X 4, Câmera de estacionamento, Controle de ...</td>\n",
              "      <td>R$ 338.000</td>\n",
              "    </tr>\n",
              "  </tbody>\n",
              "</table>\n",
              "</div>\n",
              "      <button class=\"colab-df-convert\" onclick=\"convertToInteractive('df-bf88059d-fbeb-44bf-b6b6-5c940681536e')\"\n",
              "              title=\"Convert this dataframe to an interactive table.\"\n",
              "              style=\"display:none;\">\n",
              "        \n",
              "  <svg xmlns=\"http://www.w3.org/2000/svg\" height=\"24px\"viewBox=\"0 0 24 24\"\n",
              "       width=\"24px\">\n",
              "    <path d=\"M0 0h24v24H0V0z\" fill=\"none\"/>\n",
              "    <path d=\"M18.56 5.44l.94 2.06.94-2.06 2.06-.94-2.06-.94-.94-2.06-.94 2.06-2.06.94zm-11 1L8.5 8.5l.94-2.06 2.06-.94-2.06-.94L8.5 2.5l-.94 2.06-2.06.94zm10 10l.94 2.06.94-2.06 2.06-.94-2.06-.94-.94-2.06-.94 2.06-2.06.94z\"/><path d=\"M17.41 7.96l-1.37-1.37c-.4-.4-.92-.59-1.43-.59-.52 0-1.04.2-1.43.59L10.3 9.45l-7.72 7.72c-.78.78-.78 2.05 0 2.83L4 21.41c.39.39.9.59 1.41.59.51 0 1.02-.2 1.41-.59l7.78-7.78 2.81-2.81c.8-.78.8-2.07 0-2.86zM5.41 20L4 18.59l7.72-7.72 1.47 1.35L5.41 20z\"/>\n",
              "  </svg>\n",
              "      </button>\n",
              "      \n",
              "  <style>\n",
              "    .colab-df-container {\n",
              "      display:flex;\n",
              "      flex-wrap:wrap;\n",
              "      gap: 12px;\n",
              "    }\n",
              "\n",
              "    .colab-df-convert {\n",
              "      background-color: #E8F0FE;\n",
              "      border: none;\n",
              "      border-radius: 50%;\n",
              "      cursor: pointer;\n",
              "      display: none;\n",
              "      fill: #1967D2;\n",
              "      height: 32px;\n",
              "      padding: 0 0 0 0;\n",
              "      width: 32px;\n",
              "    }\n",
              "\n",
              "    .colab-df-convert:hover {\n",
              "      background-color: #E2EBFA;\n",
              "      box-shadow: 0px 1px 2px rgba(60, 64, 67, 0.3), 0px 1px 3px 1px rgba(60, 64, 67, 0.15);\n",
              "      fill: #174EA6;\n",
              "    }\n",
              "\n",
              "    [theme=dark] .colab-df-convert {\n",
              "      background-color: #3B4455;\n",
              "      fill: #D2E3FC;\n",
              "    }\n",
              "\n",
              "    [theme=dark] .colab-df-convert:hover {\n",
              "      background-color: #434B5C;\n",
              "      box-shadow: 0px 1px 3px 1px rgba(0, 0, 0, 0.15);\n",
              "      filter: drop-shadow(0px 1px 2px rgba(0, 0, 0, 0.3));\n",
              "      fill: #FFFFFF;\n",
              "    }\n",
              "  </style>\n",
              "\n",
              "      <script>\n",
              "        const buttonEl =\n",
              "          document.querySelector('#df-bf88059d-fbeb-44bf-b6b6-5c940681536e button.colab-df-convert');\n",
              "        buttonEl.style.display =\n",
              "          google.colab.kernel.accessAllowed ? 'block' : 'none';\n",
              "\n",
              "        async function convertToInteractive(key) {\n",
              "          const element = document.querySelector('#df-bf88059d-fbeb-44bf-b6b6-5c940681536e');\n",
              "          const dataTable =\n",
              "            await google.colab.kernel.invokeFunction('convertToInteractive',\n",
              "                                                     [key], {});\n",
              "          if (!dataTable) return;\n",
              "\n",
              "          const docLinkHtml = 'Like what you see? Visit the ' +\n",
              "            '<a target=\"_blank\" href=https://colab.research.google.com/notebooks/data_table.ipynb>data table notebook</a>'\n",
              "            + ' to learn more about interactive tables.';\n",
              "          element.innerHTML = '';\n",
              "          dataTable['output_type'] = 'display_data';\n",
              "          await google.colab.output.renderOutput(dataTable, element);\n",
              "          const docLink = document.createElement('div');\n",
              "          docLink.innerHTML = docLinkHtml;\n",
              "          element.appendChild(docLink);\n",
              "        }\n",
              "      </script>\n",
              "    </div>\n",
              "  </div>\n",
              "  "
            ]
          },
          "metadata": {},
          "execution_count": 153
        }
      ]
    },
    {
      "cell_type": "markdown",
      "source": [
        "Nice! Now, everything worked out. From a pandas DataFrame, it is also easy to export our data from a csv:"
      ],
      "metadata": {
        "id": "ew0sLoSLLxp2"
      }
    },
    {
      "cell_type": "code",
      "source": [
        "data.to_csv('test.csv', sep = ';', index = False, encoding = 'utf-8')"
      ],
      "metadata": {
        "id": "b7VRT36BLsvL"
      },
      "execution_count": 154,
      "outputs": []
    },
    {
      "cell_type": "markdown",
      "source": [
        "## Geting the picture from our ad"
      ],
      "metadata": {
        "id": "US1GbXGtM0Lq"
      }
    },
    {
      "cell_type": "markdown",
      "source": [
        "Ok, so we have captured almost all information from our card. However, we still miss one: the image. Getting the image may be interest if you want to train a Convolutional Neural Network for object recognition, for example."
      ],
      "metadata": {
        "id": "NLuLeqM9NsJ0"
      }
    },
    {
      "cell_type": "markdown",
      "source": [
        "If we inspect the image from our card, we can see that the image is under the tag:"
      ],
      "metadata": {
        "id": "u53E-QqzN_8p"
      }
    },
    {
      "cell_type": "code",
      "source": [
        "ad.find('div', {'class' : 'image-card'})"
      ],
      "metadata": {
        "colab": {
          "base_uri": "https://localhost:8080/"
        },
        "id": "105gnqoKMBmn",
        "outputId": "b8d88ec0-4b2d-4409-f6ac-251926ff293d"
      },
      "execution_count": 155,
      "outputs": [
        {
          "output_type": "execute_result",
          "data": {
            "text/plain": [
              "<div class=\"col-md-3 image-card\"><img alt=\"Foto\" height=\"155\" src=\"https://caelum-online-public.s3.amazonaws.com/1381-scraping/01/img-cars/lamborghini-aventador/lamborghini-aventador-2932196__340.jpg\" width=\"220\"/></div>"
            ]
          },
          "metadata": {},
          "execution_count": 155
        }
      ]
    },
    {
      "cell_type": "markdown",
      "source": [
        "Actually, we want to get attribute *src* from tag \\<img\\>. Thus, we can do:"
      ],
      "metadata": {
        "id": "z4LLYyfWOS8t"
      }
    },
    {
      "cell_type": "code",
      "source": [
        "ad.find('div', {'class' : 'image-card'}).img.get('src')"
      ],
      "metadata": {
        "colab": {
          "base_uri": "https://localhost:8080/",
          "height": 35
        },
        "id": "ZnwsIyGCOLpR",
        "outputId": "28f4aacc-587c-4b49-cc7e-f1d0ab1febae"
      },
      "execution_count": 156,
      "outputs": [
        {
          "output_type": "execute_result",
          "data": {
            "text/plain": [
              "'https://caelum-online-public.s3.amazonaws.com/1381-scraping/01/img-cars/lamborghini-aventador/lamborghini-aventador-2932196__340.jpg'"
            ],
            "application/vnd.google.colaboratory.intrinsic+json": {
              "type": "string"
            }
          },
          "metadata": {},
          "execution_count": 156
        }
      ]
    },
    {
      "cell_type": "markdown",
      "source": [
        "To visualize our figure here, in our notebook, we can do:"
      ],
      "metadata": {
        "id": "qrcbe01SPCf_"
      }
    },
    {
      "cell_type": "code",
      "source": [
        "from IPython.core.display import display, HTML\n",
        "\n",
        "display(HTML(str(ad.find('div', {'class' : 'image-card'}).img)))"
      ],
      "metadata": {
        "colab": {
          "base_uri": "https://localhost:8080/",
          "height": 177
        },
        "id": "GQ8K8WQmObP3",
        "outputId": "12d4087e-f7dd-4ce9-9b13-7a445ebc85c3"
      },
      "execution_count": 158,
      "outputs": [
        {
          "output_type": "display_data",
          "data": {
            "text/plain": [
              "<IPython.core.display.HTML object>"
            ],
            "text/html": [
              "<img alt=\"Foto\" height=\"155\" src=\"https://caelum-online-public.s3.amazonaws.com/1381-scraping/01/img-cars/lamborghini-aventador/lamborghini-aventador-2932196__340.jpg\" width=\"220\"/>"
            ]
          },
          "metadata": {}
        }
      ]
    },
    {
      "cell_type": "markdown",
      "source": [
        "To download our figure, we can do:"
      ],
      "metadata": {
        "id": "b1cgFjjTPfxh"
      }
    },
    {
      "cell_type": "code",
      "source": [
        "from urllib.request import urlretrieve\n",
        "\n",
        "image = ad.find('div', {'class' : 'image-card'}).img\n",
        "\n",
        "urlretrieve(image.get('src'), image.get('src').split('/')[-1])"
      ],
      "metadata": {
        "colab": {
          "base_uri": "https://localhost:8080/"
        },
        "id": "z4pXES0ePPyD",
        "outputId": "1e6479a5-366a-4cb9-e1b3-53afc21adabb"
      },
      "execution_count": 166,
      "outputs": [
        {
          "output_type": "execute_result",
          "data": {
            "text/plain": [
              "('lamborghini-aventador-2932196__340.jpg',\n",
              " <http.client.HTTPMessage at 0x7fadbfcf2250>)"
            ]
          },
          "metadata": {},
          "execution_count": 166
        }
      ]
    },
    {
      "cell_type": "markdown",
      "source": [
        "# Repeating the steps for our other cards\n",
        "\n",
        "Ok, we got information from the first card. However, we need to do the same thing for all 10 cards from the same page. First, let's understand what we want to get. If we inspect the page:\n",
        "\n",
        "https://alura-site-scraping.herokuapp.com/index.php\n",
        "\n",
        "we are able to see that our first card was under the tag *div*, under class *well card*. Now, this card itself is under the tag *div*, id *container-cards*. Thus, we can do:\n",
        "\n"
      ],
      "metadata": {
        "id": "PRX9aAxLQbsE"
      }
    },
    {
      "cell_type": "code",
      "source": [
        "container = soup.find('div', {'id':'container-cards'})"
      ],
      "metadata": {
        "id": "HHWnb8YsP1wO"
      },
      "execution_count": 169,
      "outputs": []
    },
    {
      "cell_type": "code",
      "source": [
        "container"
      ],
      "metadata": {
        "colab": {
          "base_uri": "https://localhost:8080/"
        },
        "id": "Ww60Pd7PRIuM",
        "outputId": "5aa90e33-6058-45ae-bad4-0a5c575de43e"
      },
      "execution_count": 170,
      "outputs": [
        {
          "output_type": "execute_result",
          "data": {
            "text/plain": [
              "<div id=\"container-cards\" style=\"height: 100%\"><div class=\"well card\"><div class=\"col-md-3 image-card\"><img alt=\"Foto\" height=\"155\" src=\"https://caelum-online-public.s3.amazonaws.com/1381-scraping/01/img-cars/lamborghini-aventador/lamborghini-aventador-2932196__340.jpg\" width=\"220\"/></div><div class=\"col-md-6 body-card\"><p class=\"txt-name inline\">LAMBORGHINI AVENTADOR</p><p class=\"txt-category badge badge-secondary inline\">USADO</p><p class=\"txt-motor\">Motor 1.8 16v</p><p class=\"txt-description\">Ano 1993 - 55.286 km</p><ul class=\"lst-items\"><li class=\"txt-items\">► 4 X 4</li><li class=\"txt-items\">► Câmera de estacionamento</li><li class=\"txt-items\">► Controle de tração</li><li class=\"txt-items\">► Sensor de estacionamento</li><li class=\"txt-items\">...</li></ul><p class=\"txt-location\">Belo Horizonte - MG</p></div><div class=\"col-md-3 value-card\"><div class=\"value\"><p class=\"txt-value\">R$ 338.000</p></div></div></div><div class=\"well card\"><div class=\"col-md-3 image-card\"><img alt=\"Foto\" height=\"155\" src=\"https://caelum-online-public.s3.amazonaws.com/1381-scraping/01/img-cars/bmw-m2/bmw-m2-2970882__340.jpg\" width=\"220\"/></div><div class=\"col-md-6 body-card\"><p class=\"txt-name inline\">BMW M2</p><p class=\"txt-category badge badge-secondary inline\">USADO</p><p class=\"txt-motor\">Motor 3.0 32v</p><p class=\"txt-description\">Ano 2018 - 83.447 km</p><ul class=\"lst-items\"><li class=\"txt-items\">► Câmera de estacionamento</li><li class=\"txt-items\">► Controle de estabilidade</li><li class=\"txt-items\">► Travas elétricas</li><li class=\"txt-items\">► Freios ABS</li><li class=\"txt-items\">...</li></ul><p class=\"txt-location\">Belo Horizonte - MG</p></div><div class=\"col-md-3 value-card\"><div class=\"value\"><p class=\"txt-value\">R$ 346.000</p></div></div></div><div class=\"well card\"><div class=\"col-md-3 image-card\"><img alt=\"Foto\" height=\"155\" src=\"https://caelum-online-public.s3.amazonaws.com/1381-scraping/01/img-cars/alfa/alfa-1823056__340.jpg\" width=\"220\"/></div><div class=\"col-md-6 body-card\"><p class=\"txt-name inline\">ALFA</p><p class=\"txt-category badge badge-secondary inline\">USADO</p><p class=\"txt-motor\">Motor 1.8 16v</p><p class=\"txt-description\">Ano 2004 - 19.722 km</p><ul class=\"lst-items\"><li class=\"txt-items\">► Central multimídia</li><li class=\"txt-items\">► Bancos de couro</li><li class=\"txt-items\">► Rodas de liga</li><li class=\"txt-items\">► Câmera de estacionamento</li><li class=\"txt-items\">...</li></ul><p class=\"txt-location\">Rio de Janeiro - RJ</p></div><div class=\"col-md-3 value-card\"><div class=\"value\"><p class=\"txt-value\">R$ 480.000</p></div></div></div><div class=\"well card\"><div class=\"col-md-3 image-card\"><img alt=\"Foto\" height=\"155\" src=\"https://caelum-online-public.s3.amazonaws.com/1381-scraping/01/img-cars/puech/puech-4055386__340.jpg\" width=\"220\"/></div><div class=\"col-md-6 body-card\"><p class=\"txt-name inline\">PUECH</p><p class=\"txt-category badge badge-secondary inline\">USADO</p><p class=\"txt-motor\">Motor Diesel V8</p><p class=\"txt-description\">Ano 1992 - 34.335 km</p><ul class=\"lst-items\"><li class=\"txt-items\">► Bancos de couro</li><li class=\"txt-items\">► Freios ABS</li><li class=\"txt-items\">► Rodas de liga</li><li class=\"txt-items\">► Câmbio automático</li><li class=\"txt-items\">...</li></ul><p class=\"txt-location\">São Paulo - SP</p></div><div class=\"col-md-3 value-card\"><div class=\"value\"><p class=\"txt-value\">R$ 133.000</p></div></div></div><div class=\"well card\"><div class=\"col-md-3 image-card\"><img alt=\"Foto\" height=\"155\" src=\"https://caelum-online-public.s3.amazonaws.com/1381-scraping/01/img-cars/lamborghini-murcielago/lamborghini-murcielago-2872974__340.jpg\" width=\"220\"/></div><div class=\"col-md-6 body-card\"><p class=\"txt-name inline\">LAMBORGHINI MURCIELAGO</p><p class=\"txt-category badge badge-secondary inline\">USADO</p><p class=\"txt-motor\">Motor 1.0 8v</p><p class=\"txt-description\">Ano 1991 - 464 km</p><ul class=\"lst-items\"><li class=\"txt-items\">► Central multimídia</li><li class=\"txt-items\">► Teto panorâmico</li><li class=\"txt-items\">► Sensor crepuscular</li><li class=\"txt-items\">► Piloto automático</li><li class=\"txt-items\">...</li></ul><p class=\"txt-location\">Belo Horizonte - MG</p></div><div class=\"col-md-3 value-card\"><div class=\"value\"><p class=\"txt-value\">R$ 175.000</p></div></div></div><div class=\"well card\"><div class=\"col-md-3 image-card\"><img alt=\"Foto\" height=\"155\" src=\"https://caelum-online-public.s3.amazonaws.com/1381-scraping/01/img-cars/aston-martin/aston-martin-2977916__340.jpg\" width=\"220\"/></div><div class=\"col-md-6 body-card\"><p class=\"txt-name inline\">ASTON MARTIN</p><p class=\"txt-category badge badge-secondary inline\">USADO</p><p class=\"txt-opportunity badge badge-danger inline\">OPORTUNIDADE</p><p class=\"txt-motor\">Motor Diesel V6</p><p class=\"txt-description\">Ano 2004 - 50.189 km</p><ul class=\"lst-items\"><li class=\"txt-items\">► Painel digital</li><li class=\"txt-items\">► Controle de tração</li><li class=\"txt-items\">► Teto panorâmico</li><li class=\"txt-items\">► Central multimídia</li><li class=\"txt-items\">...</li></ul><p class=\"txt-location\">Belo Horizonte - MG</p></div><div class=\"col-md-3 value-card\"><div class=\"value\"><p class=\"txt-value\">R$ 239.000</p></div></div></div><div class=\"well card\"><div class=\"col-md-3 image-card\"><img alt=\"Foto\" height=\"155\" src=\"https://caelum-online-public.s3.amazonaws.com/1381-scraping/01/img-cars/tvr/tvr-2943925__340.jpg\" width=\"220\"/></div><div class=\"col-md-6 body-card\"><p class=\"txt-name inline\">TVR</p><p class=\"txt-category badge badge-secondary inline\">USADO</p><p class=\"txt-motor\">Motor 4.0 Turbo</p><p class=\"txt-description\">Ano 2014 - 17.778 km</p><ul class=\"lst-items\"><li class=\"txt-items\">► 4 X 4</li><li class=\"txt-items\">► Teto panorâmico</li><li class=\"txt-items\">► Central multimídia</li><li class=\"txt-items\">► Controle de estabilidade</li><li class=\"txt-items\">...</li></ul><p class=\"txt-location\">Belo Horizonte - MG</p></div><div class=\"col-md-3 value-card\"><div class=\"value\"><p class=\"txt-value\">R$ 115.000</p></div></div></div><div class=\"well card\"><div class=\"col-md-3 image-card\"><img alt=\"Foto\" height=\"155\" src=\"https://caelum-online-public.s3.amazonaws.com/1381-scraping/01/img-cars/excalibur/excalibur-2916730__340.jpg\" width=\"220\"/></div><div class=\"col-md-6 body-card\"><p class=\"txt-name inline\">EXCALIBUR</p><p class=\"txt-category badge badge-secondary inline\">USADO</p><p class=\"txt-motor\">Motor 3.0 32v</p><p class=\"txt-description\">Ano 2009 - 81.251 km</p><ul class=\"lst-items\"><li class=\"txt-items\">► Painel digital</li><li class=\"txt-items\">► Câmbio automático</li><li class=\"txt-items\">► Sensor de chuva</li><li class=\"txt-items\">► Travas elétricas</li><li class=\"txt-items\">...</li></ul><p class=\"txt-location\">Rio de Janeiro - RJ</p></div><div class=\"col-md-3 value-card\"><div class=\"value\"><p class=\"txt-value\">R$ 114.000</p></div></div></div><div class=\"well card\"><div class=\"col-md-3 image-card\"><img alt=\"Foto\" height=\"155\" src=\"https://caelum-online-public.s3.amazonaws.com/1381-scraping/01/img-cars/mclaren/mclaren-2855240__340.jpg\" width=\"220\"/></div><div class=\"col-md-6 body-card\"><p class=\"txt-name inline\">MCLAREN</p><p class=\"txt-category badge badge-secondary inline\">NOVO</p><p class=\"txt-motor\">Motor Diesel</p><p class=\"txt-description\">Ano 2019 - 0 km</p><ul class=\"lst-items\"><li class=\"txt-items\">► Central multimídia</li><li class=\"txt-items\">► Câmera de estacionamento</li><li class=\"txt-items\">► Câmbio automático</li><li class=\"txt-items\">► Ar condicionado</li><li class=\"txt-items\">...</li></ul><p class=\"txt-location\">São Paulo - SP</p></div><div class=\"col-md-3 value-card\"><div class=\"value\"><p class=\"txt-value\">R$ 75.000</p></div></div></div><div class=\"well card\"><div class=\"col-md-3 image-card\"><img alt=\"Foto\" height=\"155\" src=\"https://caelum-online-public.s3.amazonaws.com/1381-scraping/01/img-cars/toyota/toyota-3245397__340.jpg\" width=\"220\"/></div><div class=\"col-md-6 body-card\"><p class=\"txt-name inline\">TOYOTA</p><p class=\"txt-category badge badge-secondary inline\">USADO</p><p class=\"txt-opportunity badge badge-danger inline\">OPORTUNIDADE</p><p class=\"txt-motor\">Motor 4.0 Turbo</p><p class=\"txt-description\">Ano 1999 - 12.536 km</p><ul class=\"lst-items\"><li class=\"txt-items\">► Bancos de couro</li><li class=\"txt-items\">► Freios ABS</li><li class=\"txt-items\">► Piloto automático</li><li class=\"txt-items\">► Controle de estabilidade</li><li class=\"txt-items\">...</li></ul><p class=\"txt-location\">São Paulo - SP</p></div><div class=\"col-md-3 value-card\"><div class=\"value\"><p class=\"txt-value\">R$ 117.000</p></div></div></div></div>"
            ]
          },
          "metadata": {},
          "execution_count": 170
        }
      ]
    },
    {
      "cell_type": "markdown",
      "source": [
        "Now, we can see that all cards are listed under the tag *div*, class *well card*. Thus, to get all cards, we can do:"
      ],
      "metadata": {
        "id": "4lpNetVSRLD3"
      }
    },
    {
      "cell_type": "code",
      "source": [
        "ads = container.findAll('div', {'class':'well card'})"
      ],
      "metadata": {
        "id": "XtWBcwouRJTg"
      },
      "execution_count": 178,
      "outputs": []
    },
    {
      "cell_type": "code",
      "source": [
        "ads"
      ],
      "metadata": {
        "colab": {
          "base_uri": "https://localhost:8080/"
        },
        "id": "5x6aNqXgRgbd",
        "outputId": "ffa3eb4a-9b87-42de-f684-ef18769f77b3"
      },
      "execution_count": 179,
      "outputs": [
        {
          "output_type": "execute_result",
          "data": {
            "text/plain": [
              "[<div class=\"well card\"><div class=\"col-md-3 image-card\"><img alt=\"Foto\" height=\"155\" src=\"https://caelum-online-public.s3.amazonaws.com/1381-scraping/01/img-cars/lamborghini-aventador/lamborghini-aventador-2932196__340.jpg\" width=\"220\"/></div><div class=\"col-md-6 body-card\"><p class=\"txt-name inline\">LAMBORGHINI AVENTADOR</p><p class=\"txt-category badge badge-secondary inline\">USADO</p><p class=\"txt-motor\">Motor 1.8 16v</p><p class=\"txt-description\">Ano 1993 - 55.286 km</p><ul class=\"lst-items\"><li class=\"txt-items\">► 4 X 4</li><li class=\"txt-items\">► Câmera de estacionamento</li><li class=\"txt-items\">► Controle de tração</li><li class=\"txt-items\">► Sensor de estacionamento</li><li class=\"txt-items\">...</li></ul><p class=\"txt-location\">Belo Horizonte - MG</p></div><div class=\"col-md-3 value-card\"><div class=\"value\"><p class=\"txt-value\">R$ 338.000</p></div></div></div>,\n",
              " <div class=\"well card\"><div class=\"col-md-3 image-card\"><img alt=\"Foto\" height=\"155\" src=\"https://caelum-online-public.s3.amazonaws.com/1381-scraping/01/img-cars/bmw-m2/bmw-m2-2970882__340.jpg\" width=\"220\"/></div><div class=\"col-md-6 body-card\"><p class=\"txt-name inline\">BMW M2</p><p class=\"txt-category badge badge-secondary inline\">USADO</p><p class=\"txt-motor\">Motor 3.0 32v</p><p class=\"txt-description\">Ano 2018 - 83.447 km</p><ul class=\"lst-items\"><li class=\"txt-items\">► Câmera de estacionamento</li><li class=\"txt-items\">► Controle de estabilidade</li><li class=\"txt-items\">► Travas elétricas</li><li class=\"txt-items\">► Freios ABS</li><li class=\"txt-items\">...</li></ul><p class=\"txt-location\">Belo Horizonte - MG</p></div><div class=\"col-md-3 value-card\"><div class=\"value\"><p class=\"txt-value\">R$ 346.000</p></div></div></div>,\n",
              " <div class=\"well card\"><div class=\"col-md-3 image-card\"><img alt=\"Foto\" height=\"155\" src=\"https://caelum-online-public.s3.amazonaws.com/1381-scraping/01/img-cars/alfa/alfa-1823056__340.jpg\" width=\"220\"/></div><div class=\"col-md-6 body-card\"><p class=\"txt-name inline\">ALFA</p><p class=\"txt-category badge badge-secondary inline\">USADO</p><p class=\"txt-motor\">Motor 1.8 16v</p><p class=\"txt-description\">Ano 2004 - 19.722 km</p><ul class=\"lst-items\"><li class=\"txt-items\">► Central multimídia</li><li class=\"txt-items\">► Bancos de couro</li><li class=\"txt-items\">► Rodas de liga</li><li class=\"txt-items\">► Câmera de estacionamento</li><li class=\"txt-items\">...</li></ul><p class=\"txt-location\">Rio de Janeiro - RJ</p></div><div class=\"col-md-3 value-card\"><div class=\"value\"><p class=\"txt-value\">R$ 480.000</p></div></div></div>,\n",
              " <div class=\"well card\"><div class=\"col-md-3 image-card\"><img alt=\"Foto\" height=\"155\" src=\"https://caelum-online-public.s3.amazonaws.com/1381-scraping/01/img-cars/puech/puech-4055386__340.jpg\" width=\"220\"/></div><div class=\"col-md-6 body-card\"><p class=\"txt-name inline\">PUECH</p><p class=\"txt-category badge badge-secondary inline\">USADO</p><p class=\"txt-motor\">Motor Diesel V8</p><p class=\"txt-description\">Ano 1992 - 34.335 km</p><ul class=\"lst-items\"><li class=\"txt-items\">► Bancos de couro</li><li class=\"txt-items\">► Freios ABS</li><li class=\"txt-items\">► Rodas de liga</li><li class=\"txt-items\">► Câmbio automático</li><li class=\"txt-items\">...</li></ul><p class=\"txt-location\">São Paulo - SP</p></div><div class=\"col-md-3 value-card\"><div class=\"value\"><p class=\"txt-value\">R$ 133.000</p></div></div></div>,\n",
              " <div class=\"well card\"><div class=\"col-md-3 image-card\"><img alt=\"Foto\" height=\"155\" src=\"https://caelum-online-public.s3.amazonaws.com/1381-scraping/01/img-cars/lamborghini-murcielago/lamborghini-murcielago-2872974__340.jpg\" width=\"220\"/></div><div class=\"col-md-6 body-card\"><p class=\"txt-name inline\">LAMBORGHINI MURCIELAGO</p><p class=\"txt-category badge badge-secondary inline\">USADO</p><p class=\"txt-motor\">Motor 1.0 8v</p><p class=\"txt-description\">Ano 1991 - 464 km</p><ul class=\"lst-items\"><li class=\"txt-items\">► Central multimídia</li><li class=\"txt-items\">► Teto panorâmico</li><li class=\"txt-items\">► Sensor crepuscular</li><li class=\"txt-items\">► Piloto automático</li><li class=\"txt-items\">...</li></ul><p class=\"txt-location\">Belo Horizonte - MG</p></div><div class=\"col-md-3 value-card\"><div class=\"value\"><p class=\"txt-value\">R$ 175.000</p></div></div></div>,\n",
              " <div class=\"well card\"><div class=\"col-md-3 image-card\"><img alt=\"Foto\" height=\"155\" src=\"https://caelum-online-public.s3.amazonaws.com/1381-scraping/01/img-cars/aston-martin/aston-martin-2977916__340.jpg\" width=\"220\"/></div><div class=\"col-md-6 body-card\"><p class=\"txt-name inline\">ASTON MARTIN</p><p class=\"txt-category badge badge-secondary inline\">USADO</p><p class=\"txt-opportunity badge badge-danger inline\">OPORTUNIDADE</p><p class=\"txt-motor\">Motor Diesel V6</p><p class=\"txt-description\">Ano 2004 - 50.189 km</p><ul class=\"lst-items\"><li class=\"txt-items\">► Painel digital</li><li class=\"txt-items\">► Controle de tração</li><li class=\"txt-items\">► Teto panorâmico</li><li class=\"txt-items\">► Central multimídia</li><li class=\"txt-items\">...</li></ul><p class=\"txt-location\">Belo Horizonte - MG</p></div><div class=\"col-md-3 value-card\"><div class=\"value\"><p class=\"txt-value\">R$ 239.000</p></div></div></div>,\n",
              " <div class=\"well card\"><div class=\"col-md-3 image-card\"><img alt=\"Foto\" height=\"155\" src=\"https://caelum-online-public.s3.amazonaws.com/1381-scraping/01/img-cars/tvr/tvr-2943925__340.jpg\" width=\"220\"/></div><div class=\"col-md-6 body-card\"><p class=\"txt-name inline\">TVR</p><p class=\"txt-category badge badge-secondary inline\">USADO</p><p class=\"txt-motor\">Motor 4.0 Turbo</p><p class=\"txt-description\">Ano 2014 - 17.778 km</p><ul class=\"lst-items\"><li class=\"txt-items\">► 4 X 4</li><li class=\"txt-items\">► Teto panorâmico</li><li class=\"txt-items\">► Central multimídia</li><li class=\"txt-items\">► Controle de estabilidade</li><li class=\"txt-items\">...</li></ul><p class=\"txt-location\">Belo Horizonte - MG</p></div><div class=\"col-md-3 value-card\"><div class=\"value\"><p class=\"txt-value\">R$ 115.000</p></div></div></div>,\n",
              " <div class=\"well card\"><div class=\"col-md-3 image-card\"><img alt=\"Foto\" height=\"155\" src=\"https://caelum-online-public.s3.amazonaws.com/1381-scraping/01/img-cars/excalibur/excalibur-2916730__340.jpg\" width=\"220\"/></div><div class=\"col-md-6 body-card\"><p class=\"txt-name inline\">EXCALIBUR</p><p class=\"txt-category badge badge-secondary inline\">USADO</p><p class=\"txt-motor\">Motor 3.0 32v</p><p class=\"txt-description\">Ano 2009 - 81.251 km</p><ul class=\"lst-items\"><li class=\"txt-items\">► Painel digital</li><li class=\"txt-items\">► Câmbio automático</li><li class=\"txt-items\">► Sensor de chuva</li><li class=\"txt-items\">► Travas elétricas</li><li class=\"txt-items\">...</li></ul><p class=\"txt-location\">Rio de Janeiro - RJ</p></div><div class=\"col-md-3 value-card\"><div class=\"value\"><p class=\"txt-value\">R$ 114.000</p></div></div></div>,\n",
              " <div class=\"well card\"><div class=\"col-md-3 image-card\"><img alt=\"Foto\" height=\"155\" src=\"https://caelum-online-public.s3.amazonaws.com/1381-scraping/01/img-cars/mclaren/mclaren-2855240__340.jpg\" width=\"220\"/></div><div class=\"col-md-6 body-card\"><p class=\"txt-name inline\">MCLAREN</p><p class=\"txt-category badge badge-secondary inline\">NOVO</p><p class=\"txt-motor\">Motor Diesel</p><p class=\"txt-description\">Ano 2019 - 0 km</p><ul class=\"lst-items\"><li class=\"txt-items\">► Central multimídia</li><li class=\"txt-items\">► Câmera de estacionamento</li><li class=\"txt-items\">► Câmbio automático</li><li class=\"txt-items\">► Ar condicionado</li><li class=\"txt-items\">...</li></ul><p class=\"txt-location\">São Paulo - SP</p></div><div class=\"col-md-3 value-card\"><div class=\"value\"><p class=\"txt-value\">R$ 75.000</p></div></div></div>,\n",
              " <div class=\"well card\"><div class=\"col-md-3 image-card\"><img alt=\"Foto\" height=\"155\" src=\"https://caelum-online-public.s3.amazonaws.com/1381-scraping/01/img-cars/toyota/toyota-3245397__340.jpg\" width=\"220\"/></div><div class=\"col-md-6 body-card\"><p class=\"txt-name inline\">TOYOTA</p><p class=\"txt-category badge badge-secondary inline\">USADO</p><p class=\"txt-opportunity badge badge-danger inline\">OPORTUNIDADE</p><p class=\"txt-motor\">Motor 4.0 Turbo</p><p class=\"txt-description\">Ano 1999 - 12.536 km</p><ul class=\"lst-items\"><li class=\"txt-items\">► Bancos de couro</li><li class=\"txt-items\">► Freios ABS</li><li class=\"txt-items\">► Piloto automático</li><li class=\"txt-items\">► Controle de estabilidade</li><li class=\"txt-items\">...</li></ul><p class=\"txt-location\">São Paulo - SP</p></div><div class=\"col-md-3 value-card\"><div class=\"value\"><p class=\"txt-value\">R$ 117.000</p></div></div></div>]"
            ]
          },
          "metadata": {},
          "execution_count": 179
        }
      ]
    },
    {
      "cell_type": "markdown",
      "source": [
        "Great! To see the first card, which we used up until now, we can do:"
      ],
      "metadata": {
        "id": "mWXUJ-mNRpzf"
      }
    },
    {
      "cell_type": "code",
      "source": [
        "print(ads[0].prettify( ))"
      ],
      "metadata": {
        "colab": {
          "base_uri": "https://localhost:8080/"
        },
        "id": "QftTHrvtRoEp",
        "outputId": "31dfd4e9-23cc-4258-f110-9f8fad91e403"
      },
      "execution_count": 180,
      "outputs": [
        {
          "output_type": "stream",
          "name": "stdout",
          "text": [
            "<div class=\"well card\">\n",
            " <div class=\"col-md-3 image-card\">\n",
            "  <img alt=\"Foto\" height=\"155\" src=\"https://caelum-online-public.s3.amazonaws.com/1381-scraping/01/img-cars/lamborghini-aventador/lamborghini-aventador-2932196__340.jpg\" width=\"220\"/>\n",
            " </div>\n",
            " <div class=\"col-md-6 body-card\">\n",
            "  <p class=\"txt-name inline\">\n",
            "   LAMBORGHINI AVENTADOR\n",
            "  </p>\n",
            "  <p class=\"txt-category badge badge-secondary inline\">\n",
            "   USADO\n",
            "  </p>\n",
            "  <p class=\"txt-motor\">\n",
            "   Motor 1.8 16v\n",
            "  </p>\n",
            "  <p class=\"txt-description\">\n",
            "   Ano 1993 - 55.286 km\n",
            "  </p>\n",
            "  <ul class=\"lst-items\">\n",
            "   <li class=\"txt-items\">\n",
            "    ► 4 X 4\n",
            "   </li>\n",
            "   <li class=\"txt-items\">\n",
            "    ► Câmera de estacionamento\n",
            "   </li>\n",
            "   <li class=\"txt-items\">\n",
            "    ► Controle de tração\n",
            "   </li>\n",
            "   <li class=\"txt-items\">\n",
            "    ► Sensor de estacionamento\n",
            "   </li>\n",
            "   <li class=\"txt-items\">\n",
            "    ...\n",
            "   </li>\n",
            "  </ul>\n",
            "  <p class=\"txt-location\">\n",
            "   Belo Horizonte - MG\n",
            "  </p>\n",
            " </div>\n",
            " <div class=\"col-md-3 value-card\">\n",
            "  <div class=\"value\">\n",
            "   <p class=\"txt-value\">\n",
            "    R$ 338.000\n",
            "   </p>\n",
            "  </div>\n",
            " </div>\n",
            "</div>\n",
            "\n"
          ]
        }
      ]
    },
    {
      "cell_type": "markdown",
      "source": [
        "Ok. So, we have all 10 cards for the first page. Now, we have to do the same procedure we did for the first card, but now for all 10 cards. To do so, let's create a function to extract data from a single card:"
      ],
      "metadata": {
        "id": "DP50dNvgSCgv"
      }
    },
    {
      "cell_type": "code",
      "source": [
        "def ExtractData(ad):\n",
        "  card = {}\n",
        "\n",
        "  # Basic information\n",
        "\n",
        "  infos = ad.find('div', {'class': 'body-card'}).findAll('p')\n",
        "  for info in infos:\n",
        "    card[info.get('class')[0].split(\"-\")[-1]] = info.get_text( )\n",
        "\n",
        "  # Items\n",
        "\n",
        "  items = ad.findAll('li', {'class':'txt-items'})\n",
        "  list_items = []\n",
        "  for item in items:\n",
        "    list_items.append(item.get_text( ).replace('► ', ''))\n",
        "\n",
        "  card['accessories'] = list_items\n",
        "\n",
        "  # Value\n",
        "\n",
        "  card[ad.find('p', {'class':'txt-value'}).get('class')[0].split('-')[-1]] = ad.find('p', {'class':'txt-value'}).get_text( )\n",
        "\n",
        "  # Figure\n",
        "\n",
        "  image = ad.find('div', {'class' : 'image-card'}).img\n",
        "\n",
        "  urlretrieve(image.get('src'), image.get('src').split('/')[-1])\n",
        "\n",
        "  return card"
      ],
      "metadata": {
        "id": "b_3a2WXvRuCO"
      },
      "execution_count": 196,
      "outputs": []
    },
    {
      "cell_type": "code",
      "source": [
        "cards = []\n",
        "for i in range(len(ads)):\n",
        "  card = ExtractData(ads[i])\n",
        "  cards.append(ExtractData(ads[i]))"
      ],
      "metadata": {
        "id": "PkNjEimvTIm6"
      },
      "execution_count": 197,
      "outputs": []
    },
    {
      "cell_type": "code",
      "source": [
        "cards"
      ],
      "metadata": {
        "colab": {
          "base_uri": "https://localhost:8080/"
        },
        "id": "-G2ZJHGUTWTw",
        "outputId": "e5ff1120-2c93-4ab7-e028-62e99ec75d4a"
      },
      "execution_count": 198,
      "outputs": [
        {
          "output_type": "execute_result",
          "data": {
            "text/plain": [
              "[{'accessories': ['4 X 4',\n",
              "   'Câmera de estacionamento',\n",
              "   'Controle de tração',\n",
              "   'Sensor de estacionamento',\n",
              "   '...'],\n",
              "  'category': 'USADO',\n",
              "  'description': 'Ano 1993 - 55.286 km',\n",
              "  'location': 'Belo Horizonte - MG',\n",
              "  'motor': 'Motor 1.8 16v',\n",
              "  'name': 'LAMBORGHINI AVENTADOR',\n",
              "  'value': 'R$ 338.000'},\n",
              " {'accessories': ['Câmera de estacionamento',\n",
              "   'Controle de estabilidade',\n",
              "   'Travas elétricas',\n",
              "   'Freios ABS',\n",
              "   '...'],\n",
              "  'category': 'USADO',\n",
              "  'description': 'Ano 2018 - 83.447 km',\n",
              "  'location': 'Belo Horizonte - MG',\n",
              "  'motor': 'Motor 3.0 32v',\n",
              "  'name': 'BMW M2',\n",
              "  'value': 'R$ 346.000'},\n",
              " {'accessories': ['Central multimídia',\n",
              "   'Bancos de couro',\n",
              "   'Rodas de liga',\n",
              "   'Câmera de estacionamento',\n",
              "   '...'],\n",
              "  'category': 'USADO',\n",
              "  'description': 'Ano 2004 - 19.722 km',\n",
              "  'location': 'Rio de Janeiro - RJ',\n",
              "  'motor': 'Motor 1.8 16v',\n",
              "  'name': 'ALFA',\n",
              "  'value': 'R$ 480.000'},\n",
              " {'accessories': ['Bancos de couro',\n",
              "   'Freios ABS',\n",
              "   'Rodas de liga',\n",
              "   'Câmbio automático',\n",
              "   '...'],\n",
              "  'category': 'USADO',\n",
              "  'description': 'Ano 1992 - 34.335 km',\n",
              "  'location': 'São Paulo - SP',\n",
              "  'motor': 'Motor Diesel V8',\n",
              "  'name': 'PUECH',\n",
              "  'value': 'R$ 133.000'},\n",
              " {'accessories': ['Central multimídia',\n",
              "   'Teto panorâmico',\n",
              "   'Sensor crepuscular',\n",
              "   'Piloto automático',\n",
              "   '...'],\n",
              "  'category': 'USADO',\n",
              "  'description': 'Ano 1991 - 464 km',\n",
              "  'location': 'Belo Horizonte - MG',\n",
              "  'motor': 'Motor 1.0 8v',\n",
              "  'name': 'LAMBORGHINI MURCIELAGO',\n",
              "  'value': 'R$ 175.000'},\n",
              " {'accessories': ['Painel digital',\n",
              "   'Controle de tração',\n",
              "   'Teto panorâmico',\n",
              "   'Central multimídia',\n",
              "   '...'],\n",
              "  'category': 'USADO',\n",
              "  'description': 'Ano 2004 - 50.189 km',\n",
              "  'location': 'Belo Horizonte - MG',\n",
              "  'motor': 'Motor Diesel V6',\n",
              "  'name': 'ASTON MARTIN',\n",
              "  'opportunity': 'OPORTUNIDADE',\n",
              "  'value': 'R$ 239.000'},\n",
              " {'accessories': ['4 X 4',\n",
              "   'Teto panorâmico',\n",
              "   'Central multimídia',\n",
              "   'Controle de estabilidade',\n",
              "   '...'],\n",
              "  'category': 'USADO',\n",
              "  'description': 'Ano 2014 - 17.778 km',\n",
              "  'location': 'Belo Horizonte - MG',\n",
              "  'motor': 'Motor 4.0 Turbo',\n",
              "  'name': 'TVR',\n",
              "  'value': 'R$ 115.000'},\n",
              " {'accessories': ['Painel digital',\n",
              "   'Câmbio automático',\n",
              "   'Sensor de chuva',\n",
              "   'Travas elétricas',\n",
              "   '...'],\n",
              "  'category': 'USADO',\n",
              "  'description': 'Ano 2009 - 81.251 km',\n",
              "  'location': 'Rio de Janeiro - RJ',\n",
              "  'motor': 'Motor 3.0 32v',\n",
              "  'name': 'EXCALIBUR',\n",
              "  'value': 'R$ 114.000'},\n",
              " {'accessories': ['Central multimídia',\n",
              "   'Câmera de estacionamento',\n",
              "   'Câmbio automático',\n",
              "   'Ar condicionado',\n",
              "   '...'],\n",
              "  'category': 'NOVO',\n",
              "  'description': 'Ano 2019 - 0 km',\n",
              "  'location': 'São Paulo - SP',\n",
              "  'motor': 'Motor Diesel',\n",
              "  'name': 'MCLAREN',\n",
              "  'value': 'R$ 75.000'},\n",
              " {'accessories': ['Bancos de couro',\n",
              "   'Freios ABS',\n",
              "   'Piloto automático',\n",
              "   'Controle de estabilidade',\n",
              "   '...'],\n",
              "  'category': 'USADO',\n",
              "  'description': 'Ano 1999 - 12.536 km',\n",
              "  'location': 'São Paulo - SP',\n",
              "  'motor': 'Motor 4.0 Turbo',\n",
              "  'name': 'TOYOTA',\n",
              "  'opportunity': 'OPORTUNIDADE',\n",
              "  'value': 'R$ 117.000'}]"
            ]
          },
          "metadata": {},
          "execution_count": 198
        }
      ]
    },
    {
      "cell_type": "markdown",
      "source": [
        "Now, let's create a DataFrame using this information:"
      ],
      "metadata": {
        "id": "yW1x9QZ0Ttll"
      }
    },
    {
      "cell_type": "code",
      "source": [
        "cards_df = pd.DataFrame(cards)"
      ],
      "metadata": {
        "id": "4IXB8Jd4TcHa"
      },
      "execution_count": 199,
      "outputs": []
    },
    {
      "cell_type": "code",
      "source": [
        "cards_df"
      ],
      "metadata": {
        "colab": {
          "base_uri": "https://localhost:8080/",
          "height": 580
        },
        "id": "b3NalyjlT2xZ",
        "outputId": "e8b405f7-ea4d-4d26-b45c-a57f745a806d"
      },
      "execution_count": 200,
      "outputs": [
        {
          "output_type": "execute_result",
          "data": {
            "text/plain": [
              "                     name category            motor           description  \\\n",
              "0   LAMBORGHINI AVENTADOR    USADO    Motor 1.8 16v  Ano 1993 - 55.286 km   \n",
              "1                  BMW M2    USADO    Motor 3.0 32v  Ano 2018 - 83.447 km   \n",
              "2                    ALFA    USADO    Motor 1.8 16v  Ano 2004 - 19.722 km   \n",
              "3                   PUECH    USADO  Motor Diesel V8  Ano 1992 - 34.335 km   \n",
              "4  LAMBORGHINI MURCIELAGO    USADO     Motor 1.0 8v     Ano 1991 - 464 km   \n",
              "5            ASTON MARTIN    USADO  Motor Diesel V6  Ano 2004 - 50.189 km   \n",
              "6                     TVR    USADO  Motor 4.0 Turbo  Ano 2014 - 17.778 km   \n",
              "7               EXCALIBUR    USADO    Motor 3.0 32v  Ano 2009 - 81.251 km   \n",
              "8                 MCLAREN     NOVO     Motor Diesel       Ano 2019 - 0 km   \n",
              "9                  TOYOTA    USADO  Motor 4.0 Turbo  Ano 1999 - 12.536 km   \n",
              "\n",
              "              location                                        accessories  \\\n",
              "0  Belo Horizonte - MG  [4 X 4, Câmera de estacionamento, Controle de ...   \n",
              "1  Belo Horizonte - MG  [Câmera de estacionamento, Controle de estabil...   \n",
              "2  Rio de Janeiro - RJ  [Central multimídia, Bancos de couro, Rodas de...   \n",
              "3       São Paulo - SP  [Bancos de couro, Freios ABS, Rodas de liga, C...   \n",
              "4  Belo Horizonte - MG  [Central multimídia, Teto panorâmico, Sensor c...   \n",
              "5  Belo Horizonte - MG  [Painel digital, Controle de tração, Teto pano...   \n",
              "6  Belo Horizonte - MG  [4 X 4, Teto panorâmico, Central multimídia, C...   \n",
              "7  Rio de Janeiro - RJ  [Painel digital, Câmbio automático, Sensor de ...   \n",
              "8       São Paulo - SP  [Central multimídia, Câmera de estacionamento,...   \n",
              "9       São Paulo - SP  [Bancos de couro, Freios ABS, Piloto automátic...   \n",
              "\n",
              "        value   opportunity  \n",
              "0  R$ 338.000           NaN  \n",
              "1  R$ 346.000           NaN  \n",
              "2  R$ 480.000           NaN  \n",
              "3  R$ 133.000           NaN  \n",
              "4  R$ 175.000           NaN  \n",
              "5  R$ 239.000  OPORTUNIDADE  \n",
              "6  R$ 115.000           NaN  \n",
              "7  R$ 114.000           NaN  \n",
              "8   R$ 75.000           NaN  \n",
              "9  R$ 117.000  OPORTUNIDADE  "
            ],
            "text/html": [
              "\n",
              "  <div id=\"df-6d4b43c6-858a-45e8-8ae7-4895db658989\">\n",
              "    <div class=\"colab-df-container\">\n",
              "      <div>\n",
              "<style scoped>\n",
              "    .dataframe tbody tr th:only-of-type {\n",
              "        vertical-align: middle;\n",
              "    }\n",
              "\n",
              "    .dataframe tbody tr th {\n",
              "        vertical-align: top;\n",
              "    }\n",
              "\n",
              "    .dataframe thead th {\n",
              "        text-align: right;\n",
              "    }\n",
              "</style>\n",
              "<table border=\"1\" class=\"dataframe\">\n",
              "  <thead>\n",
              "    <tr style=\"text-align: right;\">\n",
              "      <th></th>\n",
              "      <th>name</th>\n",
              "      <th>category</th>\n",
              "      <th>motor</th>\n",
              "      <th>description</th>\n",
              "      <th>location</th>\n",
              "      <th>accessories</th>\n",
              "      <th>value</th>\n",
              "      <th>opportunity</th>\n",
              "    </tr>\n",
              "  </thead>\n",
              "  <tbody>\n",
              "    <tr>\n",
              "      <th>0</th>\n",
              "      <td>LAMBORGHINI AVENTADOR</td>\n",
              "      <td>USADO</td>\n",
              "      <td>Motor 1.8 16v</td>\n",
              "      <td>Ano 1993 - 55.286 km</td>\n",
              "      <td>Belo Horizonte - MG</td>\n",
              "      <td>[4 X 4, Câmera de estacionamento, Controle de ...</td>\n",
              "      <td>R$ 338.000</td>\n",
              "      <td>NaN</td>\n",
              "    </tr>\n",
              "    <tr>\n",
              "      <th>1</th>\n",
              "      <td>BMW M2</td>\n",
              "      <td>USADO</td>\n",
              "      <td>Motor 3.0 32v</td>\n",
              "      <td>Ano 2018 - 83.447 km</td>\n",
              "      <td>Belo Horizonte - MG</td>\n",
              "      <td>[Câmera de estacionamento, Controle de estabil...</td>\n",
              "      <td>R$ 346.000</td>\n",
              "      <td>NaN</td>\n",
              "    </tr>\n",
              "    <tr>\n",
              "      <th>2</th>\n",
              "      <td>ALFA</td>\n",
              "      <td>USADO</td>\n",
              "      <td>Motor 1.8 16v</td>\n",
              "      <td>Ano 2004 - 19.722 km</td>\n",
              "      <td>Rio de Janeiro - RJ</td>\n",
              "      <td>[Central multimídia, Bancos de couro, Rodas de...</td>\n",
              "      <td>R$ 480.000</td>\n",
              "      <td>NaN</td>\n",
              "    </tr>\n",
              "    <tr>\n",
              "      <th>3</th>\n",
              "      <td>PUECH</td>\n",
              "      <td>USADO</td>\n",
              "      <td>Motor Diesel V8</td>\n",
              "      <td>Ano 1992 - 34.335 km</td>\n",
              "      <td>São Paulo - SP</td>\n",
              "      <td>[Bancos de couro, Freios ABS, Rodas de liga, C...</td>\n",
              "      <td>R$ 133.000</td>\n",
              "      <td>NaN</td>\n",
              "    </tr>\n",
              "    <tr>\n",
              "      <th>4</th>\n",
              "      <td>LAMBORGHINI MURCIELAGO</td>\n",
              "      <td>USADO</td>\n",
              "      <td>Motor 1.0 8v</td>\n",
              "      <td>Ano 1991 - 464 km</td>\n",
              "      <td>Belo Horizonte - MG</td>\n",
              "      <td>[Central multimídia, Teto panorâmico, Sensor c...</td>\n",
              "      <td>R$ 175.000</td>\n",
              "      <td>NaN</td>\n",
              "    </tr>\n",
              "    <tr>\n",
              "      <th>5</th>\n",
              "      <td>ASTON MARTIN</td>\n",
              "      <td>USADO</td>\n",
              "      <td>Motor Diesel V6</td>\n",
              "      <td>Ano 2004 - 50.189 km</td>\n",
              "      <td>Belo Horizonte - MG</td>\n",
              "      <td>[Painel digital, Controle de tração, Teto pano...</td>\n",
              "      <td>R$ 239.000</td>\n",
              "      <td>OPORTUNIDADE</td>\n",
              "    </tr>\n",
              "    <tr>\n",
              "      <th>6</th>\n",
              "      <td>TVR</td>\n",
              "      <td>USADO</td>\n",
              "      <td>Motor 4.0 Turbo</td>\n",
              "      <td>Ano 2014 - 17.778 km</td>\n",
              "      <td>Belo Horizonte - MG</td>\n",
              "      <td>[4 X 4, Teto panorâmico, Central multimídia, C...</td>\n",
              "      <td>R$ 115.000</td>\n",
              "      <td>NaN</td>\n",
              "    </tr>\n",
              "    <tr>\n",
              "      <th>7</th>\n",
              "      <td>EXCALIBUR</td>\n",
              "      <td>USADO</td>\n",
              "      <td>Motor 3.0 32v</td>\n",
              "      <td>Ano 2009 - 81.251 km</td>\n",
              "      <td>Rio de Janeiro - RJ</td>\n",
              "      <td>[Painel digital, Câmbio automático, Sensor de ...</td>\n",
              "      <td>R$ 114.000</td>\n",
              "      <td>NaN</td>\n",
              "    </tr>\n",
              "    <tr>\n",
              "      <th>8</th>\n",
              "      <td>MCLAREN</td>\n",
              "      <td>NOVO</td>\n",
              "      <td>Motor Diesel</td>\n",
              "      <td>Ano 2019 - 0 km</td>\n",
              "      <td>São Paulo - SP</td>\n",
              "      <td>[Central multimídia, Câmera de estacionamento,...</td>\n",
              "      <td>R$ 75.000</td>\n",
              "      <td>NaN</td>\n",
              "    </tr>\n",
              "    <tr>\n",
              "      <th>9</th>\n",
              "      <td>TOYOTA</td>\n",
              "      <td>USADO</td>\n",
              "      <td>Motor 4.0 Turbo</td>\n",
              "      <td>Ano 1999 - 12.536 km</td>\n",
              "      <td>São Paulo - SP</td>\n",
              "      <td>[Bancos de couro, Freios ABS, Piloto automátic...</td>\n",
              "      <td>R$ 117.000</td>\n",
              "      <td>OPORTUNIDADE</td>\n",
              "    </tr>\n",
              "  </tbody>\n",
              "</table>\n",
              "</div>\n",
              "      <button class=\"colab-df-convert\" onclick=\"convertToInteractive('df-6d4b43c6-858a-45e8-8ae7-4895db658989')\"\n",
              "              title=\"Convert this dataframe to an interactive table.\"\n",
              "              style=\"display:none;\">\n",
              "        \n",
              "  <svg xmlns=\"http://www.w3.org/2000/svg\" height=\"24px\"viewBox=\"0 0 24 24\"\n",
              "       width=\"24px\">\n",
              "    <path d=\"M0 0h24v24H0V0z\" fill=\"none\"/>\n",
              "    <path d=\"M18.56 5.44l.94 2.06.94-2.06 2.06-.94-2.06-.94-.94-2.06-.94 2.06-2.06.94zm-11 1L8.5 8.5l.94-2.06 2.06-.94-2.06-.94L8.5 2.5l-.94 2.06-2.06.94zm10 10l.94 2.06.94-2.06 2.06-.94-2.06-.94-.94-2.06-.94 2.06-2.06.94z\"/><path d=\"M17.41 7.96l-1.37-1.37c-.4-.4-.92-.59-1.43-.59-.52 0-1.04.2-1.43.59L10.3 9.45l-7.72 7.72c-.78.78-.78 2.05 0 2.83L4 21.41c.39.39.9.59 1.41.59.51 0 1.02-.2 1.41-.59l7.78-7.78 2.81-2.81c.8-.78.8-2.07 0-2.86zM5.41 20L4 18.59l7.72-7.72 1.47 1.35L5.41 20z\"/>\n",
              "  </svg>\n",
              "      </button>\n",
              "      \n",
              "  <style>\n",
              "    .colab-df-container {\n",
              "      display:flex;\n",
              "      flex-wrap:wrap;\n",
              "      gap: 12px;\n",
              "    }\n",
              "\n",
              "    .colab-df-convert {\n",
              "      background-color: #E8F0FE;\n",
              "      border: none;\n",
              "      border-radius: 50%;\n",
              "      cursor: pointer;\n",
              "      display: none;\n",
              "      fill: #1967D2;\n",
              "      height: 32px;\n",
              "      padding: 0 0 0 0;\n",
              "      width: 32px;\n",
              "    }\n",
              "\n",
              "    .colab-df-convert:hover {\n",
              "      background-color: #E2EBFA;\n",
              "      box-shadow: 0px 1px 2px rgba(60, 64, 67, 0.3), 0px 1px 3px 1px rgba(60, 64, 67, 0.15);\n",
              "      fill: #174EA6;\n",
              "    }\n",
              "\n",
              "    [theme=dark] .colab-df-convert {\n",
              "      background-color: #3B4455;\n",
              "      fill: #D2E3FC;\n",
              "    }\n",
              "\n",
              "    [theme=dark] .colab-df-convert:hover {\n",
              "      background-color: #434B5C;\n",
              "      box-shadow: 0px 1px 3px 1px rgba(0, 0, 0, 0.15);\n",
              "      filter: drop-shadow(0px 1px 2px rgba(0, 0, 0, 0.3));\n",
              "      fill: #FFFFFF;\n",
              "    }\n",
              "  </style>\n",
              "\n",
              "      <script>\n",
              "        const buttonEl =\n",
              "          document.querySelector('#df-6d4b43c6-858a-45e8-8ae7-4895db658989 button.colab-df-convert');\n",
              "        buttonEl.style.display =\n",
              "          google.colab.kernel.accessAllowed ? 'block' : 'none';\n",
              "\n",
              "        async function convertToInteractive(key) {\n",
              "          const element = document.querySelector('#df-6d4b43c6-858a-45e8-8ae7-4895db658989');\n",
              "          const dataTable =\n",
              "            await google.colab.kernel.invokeFunction('convertToInteractive',\n",
              "                                                     [key], {});\n",
              "          if (!dataTable) return;\n",
              "\n",
              "          const docLinkHtml = 'Like what you see? Visit the ' +\n",
              "            '<a target=\"_blank\" href=https://colab.research.google.com/notebooks/data_table.ipynb>data table notebook</a>'\n",
              "            + ' to learn more about interactive tables.';\n",
              "          element.innerHTML = '';\n",
              "          dataTable['output_type'] = 'display_data';\n",
              "          await google.colab.output.renderOutput(dataTable, element);\n",
              "          const docLink = document.createElement('div');\n",
              "          docLink.innerHTML = docLinkHtml;\n",
              "          element.appendChild(docLink);\n",
              "        }\n",
              "      </script>\n",
              "    </div>\n",
              "  </div>\n",
              "  "
            ]
          },
          "metadata": {},
          "execution_count": 200
        }
      ]
    },
    {
      "cell_type": "markdown",
      "source": [
        "Nice! We were able to get the information from our 10 cars into a single DataFrame! Note that we have also downloaded the image of each card."
      ],
      "metadata": {
        "id": "Tt8i6twKUH9K"
      }
    },
    {
      "cell_type": "markdown",
      "source": [
        "# Getting all information from the website"
      ],
      "metadata": {
        "id": "up7MSvYNVIBa"
      }
    },
    {
      "cell_type": "markdown",
      "source": [
        "Ok, so we were able to get information from the 10 cars of our page. However, our website has information about 246 cars! How can we get information for all of them?"
      ],
      "metadata": {
        "id": "Q1tJCyWxVLIu"
      }
    },
    {
      "cell_type": "markdown",
      "source": [
        "Our 246 cars are listed in 25 pages on our website. If we pass to page 2, we get a different url:\n",
        "\n",
        "https://alura-site-scraping.herokuapp.com/index.php?page=2\n",
        "\n",
        "Note that, in the end of the url, there is the number of the page we are in."
      ],
      "metadata": {
        "id": "s8vldcnvVdYY"
      }
    },
    {
      "cell_type": "markdown",
      "source": [
        "Thus, to run through all pages, we can simply change the parameter in the end of the url."
      ],
      "metadata": {
        "id": "oeoo_t2EX5Xi"
      }
    },
    {
      "cell_type": "markdown",
      "source": [
        "First: How can we, automatically, get the number of pages in our website?\n",
        "\n",
        "Well, can do a scrap."
      ],
      "metadata": {
        "id": "YsQNrRGVYCs3"
      }
    },
    {
      "cell_type": "markdown",
      "source": [
        "If we inspect our page one more time, we can see that information regarding the page is stored under the tag *\\<span\\>*, class *info-pages*. Thus, we can do:"
      ],
      "metadata": {
        "id": "QMRbBAMSYJ1p"
      }
    },
    {
      "cell_type": "code",
      "source": [
        "soup.find('span', {'class': 'info-pages'})"
      ],
      "metadata": {
        "colab": {
          "base_uri": "https://localhost:8080/"
        },
        "id": "s1tTtCUyUACY",
        "outputId": "f5b076e5-9a2b-409e-e890-48c886ee6c43"
      },
      "execution_count": 201,
      "outputs": [
        {
          "output_type": "execute_result",
          "data": {
            "text/plain": [
              "<span class=\"info-pages\">Página 1 de 25</span>"
            ]
          },
          "metadata": {},
          "execution_count": 201
        }
      ]
    },
    {
      "cell_type": "markdown",
      "source": [
        "Now, cleaning our scrap:"
      ],
      "metadata": {
        "id": "qWNfSDAhYj0X"
      }
    },
    {
      "cell_type": "code",
      "source": [
        "int(soup.find('span', {'class': 'info-pages'}).get_text( ).split(' ')[-1])"
      ],
      "metadata": {
        "colab": {
          "base_uri": "https://localhost:8080/"
        },
        "id": "oWeTYnpjYiqp",
        "outputId": "0d38e3ee-4ce2-419c-8e29-91e08837f615"
      },
      "execution_count": 203,
      "outputs": [
        {
          "output_type": "execute_result",
          "data": {
            "text/plain": [
              "25"
            ]
          },
          "metadata": {},
          "execution_count": 203
        }
      ]
    },
    {
      "cell_type": "markdown",
      "source": [
        "Nice!"
      ],
      "metadata": {
        "id": "heFMz3-8YwcC"
      }
    },
    {
      "cell_type": "markdown",
      "source": [
        "Before going further into the code, let's re-implement our function to extract data, now removing the part where we download the pictures (as this may take too much time right now):"
      ],
      "metadata": {
        "id": "FSgL963PabPm"
      }
    },
    {
      "cell_type": "code",
      "source": [
        "def ExtractData(ad):\n",
        "  card = {}\n",
        "\n",
        "  # Basic information\n",
        "\n",
        "  infos = ad.find('div', {'class': 'body-card'}).findAll('p')\n",
        "  for info in infos:\n",
        "    card[info.get('class')[0].split(\"-\")[-1]] = info.get_text( )\n",
        "\n",
        "  # Items\n",
        "\n",
        "  items = ad.findAll('li', {'class':'txt-items'})\n",
        "  list_items = []\n",
        "  for item in items:\n",
        "    list_items.append(item.get_text( ).replace('► ', ''))\n",
        "\n",
        "  card['accessories'] = list_items\n",
        "\n",
        "  # Value\n",
        "\n",
        "  card[ad.find('p', {'class':'txt-value'}).get('class')[0].split('-')[-1]] = ad.find('p', {'class':'txt-value'}).get_text( )\n",
        "\n",
        "  return card"
      ],
      "metadata": {
        "id": "c_ch312Gao5z"
      },
      "execution_count": 206,
      "outputs": []
    },
    {
      "cell_type": "markdown",
      "source": [
        "Now, let's create a method to perform scrapping over all of our pages!"
      ],
      "metadata": {
        "id": "I9PZPprMY6ca"
      }
    },
    {
      "cell_type": "code",
      "source": [
        "num_pages = int(soup.find('span', {'class': 'info-pages'}).get_text( ).split(' ')[-1])  # Get the number of pages\n",
        "\n",
        "cards = []\n",
        "\n",
        "for page in range(num_pages):                                                           # Run through all pages\n",
        "  url = \"https://alura-site-scraping.herokuapp.com/index.php?page=\" + str(page + 1)     # Create the url\n",
        "\n",
        "  response = urlopen(url)\n",
        "  html = response.read( )\n",
        "  soup = BeautifulSoup(html, 'html.parser')\n",
        "\n",
        "  # Getting information from the cards in our page\n",
        "\n",
        "  container = soup.find('div', {'id':'container-cards'})\n",
        "  ads = container.findAll('div', {'class':'well card'})\n",
        "\n",
        "  # Extracting data from each ad\n",
        "\n",
        "  for i in range(len(ads)):\n",
        "    card = ExtractData(ads[i])\n",
        "    cards.append(ExtractData(ads[i]))"
      ],
      "metadata": {
        "id": "QTl3BPqKYsuR"
      },
      "execution_count": 207,
      "outputs": []
    },
    {
      "cell_type": "markdown",
      "source": [
        "Now, creating a dataframe from our dictionary:"
      ],
      "metadata": {
        "id": "K2SRxR6-avAX"
      }
    },
    {
      "cell_type": "code",
      "source": [
        "cards_df = pd.DataFrame(cards)"
      ],
      "metadata": {
        "id": "AR600Jdeas2g"
      },
      "execution_count": 208,
      "outputs": []
    },
    {
      "cell_type": "code",
      "source": [
        "cards_df.head( )"
      ],
      "metadata": {
        "colab": {
          "base_uri": "https://localhost:8080/",
          "height": 337
        },
        "id": "iB8llQQfa0vu",
        "outputId": "3ae8df42-4e06-40d9-e558-a2e14bcc8e72"
      },
      "execution_count": 209,
      "outputs": [
        {
          "output_type": "execute_result",
          "data": {
            "text/plain": [
              "                     name category            motor           description  \\\n",
              "0   LAMBORGHINI AVENTADOR    USADO    Motor 1.8 16v  Ano 1993 - 55.286 km   \n",
              "1                  BMW M2    USADO    Motor 3.0 32v  Ano 2018 - 83.447 km   \n",
              "2                    ALFA    USADO    Motor 1.8 16v  Ano 2004 - 19.722 km   \n",
              "3                   PUECH    USADO  Motor Diesel V8  Ano 1992 - 34.335 km   \n",
              "4  LAMBORGHINI MURCIELAGO    USADO     Motor 1.0 8v     Ano 1991 - 464 km   \n",
              "\n",
              "              location                                        accessories  \\\n",
              "0  Belo Horizonte - MG  [4 X 4, Câmera de estacionamento, Controle de ...   \n",
              "1  Belo Horizonte - MG  [Câmera de estacionamento, Controle de estabil...   \n",
              "2  Rio de Janeiro - RJ  [Central multimídia, Bancos de couro, Rodas de...   \n",
              "3       São Paulo - SP  [Bancos de couro, Freios ABS, Rodas de liga, C...   \n",
              "4  Belo Horizonte - MG  [Central multimídia, Teto panorâmico, Sensor c...   \n",
              "\n",
              "        value opportunity  \n",
              "0  R$ 338.000         NaN  \n",
              "1  R$ 346.000         NaN  \n",
              "2  R$ 480.000         NaN  \n",
              "3  R$ 133.000         NaN  \n",
              "4  R$ 175.000         NaN  "
            ],
            "text/html": [
              "\n",
              "  <div id=\"df-ca49af8b-61fd-409e-a697-1a6159a7b9e4\">\n",
              "    <div class=\"colab-df-container\">\n",
              "      <div>\n",
              "<style scoped>\n",
              "    .dataframe tbody tr th:only-of-type {\n",
              "        vertical-align: middle;\n",
              "    }\n",
              "\n",
              "    .dataframe tbody tr th {\n",
              "        vertical-align: top;\n",
              "    }\n",
              "\n",
              "    .dataframe thead th {\n",
              "        text-align: right;\n",
              "    }\n",
              "</style>\n",
              "<table border=\"1\" class=\"dataframe\">\n",
              "  <thead>\n",
              "    <tr style=\"text-align: right;\">\n",
              "      <th></th>\n",
              "      <th>name</th>\n",
              "      <th>category</th>\n",
              "      <th>motor</th>\n",
              "      <th>description</th>\n",
              "      <th>location</th>\n",
              "      <th>accessories</th>\n",
              "      <th>value</th>\n",
              "      <th>opportunity</th>\n",
              "    </tr>\n",
              "  </thead>\n",
              "  <tbody>\n",
              "    <tr>\n",
              "      <th>0</th>\n",
              "      <td>LAMBORGHINI AVENTADOR</td>\n",
              "      <td>USADO</td>\n",
              "      <td>Motor 1.8 16v</td>\n",
              "      <td>Ano 1993 - 55.286 km</td>\n",
              "      <td>Belo Horizonte - MG</td>\n",
              "      <td>[4 X 4, Câmera de estacionamento, Controle de ...</td>\n",
              "      <td>R$ 338.000</td>\n",
              "      <td>NaN</td>\n",
              "    </tr>\n",
              "    <tr>\n",
              "      <th>1</th>\n",
              "      <td>BMW M2</td>\n",
              "      <td>USADO</td>\n",
              "      <td>Motor 3.0 32v</td>\n",
              "      <td>Ano 2018 - 83.447 km</td>\n",
              "      <td>Belo Horizonte - MG</td>\n",
              "      <td>[Câmera de estacionamento, Controle de estabil...</td>\n",
              "      <td>R$ 346.000</td>\n",
              "      <td>NaN</td>\n",
              "    </tr>\n",
              "    <tr>\n",
              "      <th>2</th>\n",
              "      <td>ALFA</td>\n",
              "      <td>USADO</td>\n",
              "      <td>Motor 1.8 16v</td>\n",
              "      <td>Ano 2004 - 19.722 km</td>\n",
              "      <td>Rio de Janeiro - RJ</td>\n",
              "      <td>[Central multimídia, Bancos de couro, Rodas de...</td>\n",
              "      <td>R$ 480.000</td>\n",
              "      <td>NaN</td>\n",
              "    </tr>\n",
              "    <tr>\n",
              "      <th>3</th>\n",
              "      <td>PUECH</td>\n",
              "      <td>USADO</td>\n",
              "      <td>Motor Diesel V8</td>\n",
              "      <td>Ano 1992 - 34.335 km</td>\n",
              "      <td>São Paulo - SP</td>\n",
              "      <td>[Bancos de couro, Freios ABS, Rodas de liga, C...</td>\n",
              "      <td>R$ 133.000</td>\n",
              "      <td>NaN</td>\n",
              "    </tr>\n",
              "    <tr>\n",
              "      <th>4</th>\n",
              "      <td>LAMBORGHINI MURCIELAGO</td>\n",
              "      <td>USADO</td>\n",
              "      <td>Motor 1.0 8v</td>\n",
              "      <td>Ano 1991 - 464 km</td>\n",
              "      <td>Belo Horizonte - MG</td>\n",
              "      <td>[Central multimídia, Teto panorâmico, Sensor c...</td>\n",
              "      <td>R$ 175.000</td>\n",
              "      <td>NaN</td>\n",
              "    </tr>\n",
              "  </tbody>\n",
              "</table>\n",
              "</div>\n",
              "      <button class=\"colab-df-convert\" onclick=\"convertToInteractive('df-ca49af8b-61fd-409e-a697-1a6159a7b9e4')\"\n",
              "              title=\"Convert this dataframe to an interactive table.\"\n",
              "              style=\"display:none;\">\n",
              "        \n",
              "  <svg xmlns=\"http://www.w3.org/2000/svg\" height=\"24px\"viewBox=\"0 0 24 24\"\n",
              "       width=\"24px\">\n",
              "    <path d=\"M0 0h24v24H0V0z\" fill=\"none\"/>\n",
              "    <path d=\"M18.56 5.44l.94 2.06.94-2.06 2.06-.94-2.06-.94-.94-2.06-.94 2.06-2.06.94zm-11 1L8.5 8.5l.94-2.06 2.06-.94-2.06-.94L8.5 2.5l-.94 2.06-2.06.94zm10 10l.94 2.06.94-2.06 2.06-.94-2.06-.94-.94-2.06-.94 2.06-2.06.94z\"/><path d=\"M17.41 7.96l-1.37-1.37c-.4-.4-.92-.59-1.43-.59-.52 0-1.04.2-1.43.59L10.3 9.45l-7.72 7.72c-.78.78-.78 2.05 0 2.83L4 21.41c.39.39.9.59 1.41.59.51 0 1.02-.2 1.41-.59l7.78-7.78 2.81-2.81c.8-.78.8-2.07 0-2.86zM5.41 20L4 18.59l7.72-7.72 1.47 1.35L5.41 20z\"/>\n",
              "  </svg>\n",
              "      </button>\n",
              "      \n",
              "  <style>\n",
              "    .colab-df-container {\n",
              "      display:flex;\n",
              "      flex-wrap:wrap;\n",
              "      gap: 12px;\n",
              "    }\n",
              "\n",
              "    .colab-df-convert {\n",
              "      background-color: #E8F0FE;\n",
              "      border: none;\n",
              "      border-radius: 50%;\n",
              "      cursor: pointer;\n",
              "      display: none;\n",
              "      fill: #1967D2;\n",
              "      height: 32px;\n",
              "      padding: 0 0 0 0;\n",
              "      width: 32px;\n",
              "    }\n",
              "\n",
              "    .colab-df-convert:hover {\n",
              "      background-color: #E2EBFA;\n",
              "      box-shadow: 0px 1px 2px rgba(60, 64, 67, 0.3), 0px 1px 3px 1px rgba(60, 64, 67, 0.15);\n",
              "      fill: #174EA6;\n",
              "    }\n",
              "\n",
              "    [theme=dark] .colab-df-convert {\n",
              "      background-color: #3B4455;\n",
              "      fill: #D2E3FC;\n",
              "    }\n",
              "\n",
              "    [theme=dark] .colab-df-convert:hover {\n",
              "      background-color: #434B5C;\n",
              "      box-shadow: 0px 1px 3px 1px rgba(0, 0, 0, 0.15);\n",
              "      filter: drop-shadow(0px 1px 2px rgba(0, 0, 0, 0.3));\n",
              "      fill: #FFFFFF;\n",
              "    }\n",
              "  </style>\n",
              "\n",
              "      <script>\n",
              "        const buttonEl =\n",
              "          document.querySelector('#df-ca49af8b-61fd-409e-a697-1a6159a7b9e4 button.colab-df-convert');\n",
              "        buttonEl.style.display =\n",
              "          google.colab.kernel.accessAllowed ? 'block' : 'none';\n",
              "\n",
              "        async function convertToInteractive(key) {\n",
              "          const element = document.querySelector('#df-ca49af8b-61fd-409e-a697-1a6159a7b9e4');\n",
              "          const dataTable =\n",
              "            await google.colab.kernel.invokeFunction('convertToInteractive',\n",
              "                                                     [key], {});\n",
              "          if (!dataTable) return;\n",
              "\n",
              "          const docLinkHtml = 'Like what you see? Visit the ' +\n",
              "            '<a target=\"_blank\" href=https://colab.research.google.com/notebooks/data_table.ipynb>data table notebook</a>'\n",
              "            + ' to learn more about interactive tables.';\n",
              "          element.innerHTML = '';\n",
              "          dataTable['output_type'] = 'display_data';\n",
              "          await google.colab.output.renderOutput(dataTable, element);\n",
              "          const docLink = document.createElement('div');\n",
              "          docLink.innerHTML = docLinkHtml;\n",
              "          element.appendChild(docLink);\n",
              "        }\n",
              "      </script>\n",
              "    </div>\n",
              "  </div>\n",
              "  "
            ]
          },
          "metadata": {},
          "execution_count": 209
        }
      ]
    },
    {
      "cell_type": "code",
      "source": [
        "cards_df.info( )"
      ],
      "metadata": {
        "colab": {
          "base_uri": "https://localhost:8080/"
        },
        "id": "M5ff8oOga2T-",
        "outputId": "3452d2e3-6a5d-4d59-b944-b2665f6a291c"
      },
      "execution_count": 210,
      "outputs": [
        {
          "output_type": "stream",
          "name": "stdout",
          "text": [
            "<class 'pandas.core.frame.DataFrame'>\n",
            "RangeIndex: 246 entries, 0 to 245\n",
            "Data columns (total 8 columns):\n",
            " #   Column       Non-Null Count  Dtype \n",
            "---  ------       --------------  ----- \n",
            " 0   name         246 non-null    object\n",
            " 1   category     246 non-null    object\n",
            " 2   motor        246 non-null    object\n",
            " 3   description  246 non-null    object\n",
            " 4   location     246 non-null    object\n",
            " 5   accessories  246 non-null    object\n",
            " 6   value        246 non-null    object\n",
            " 7   opportunity  39 non-null     object\n",
            "dtypes: object(8)\n",
            "memory usage: 15.5+ KB\n"
          ]
        }
      ]
    },
    {
      "cell_type": "markdown",
      "source": [
        "Great! Now, we have information from all 246 cars!"
      ],
      "metadata": {
        "id": "2hd4uHeZa4_J"
      }
    }
  ]
}