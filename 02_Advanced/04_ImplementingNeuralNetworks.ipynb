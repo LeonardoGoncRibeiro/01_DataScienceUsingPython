{
  "nbformat": 4,
  "nbformat_minor": 0,
  "metadata": {
    "colab": {
      "name": "04_ImplementingNeuralNetworks.ipynb",
      "provenance": [],
      "collapsed_sections": [
        "dzz0283jxu00",
        "YtahSz3WIZrI"
      ],
      "authorship_tag": "ABX9TyMLUzvJrHoYtR++f1re9pwv",
      "include_colab_link": true
    },
    "kernelspec": {
      "name": "python3",
      "display_name": "Python 3"
    },
    "language_info": {
      "name": "python"
    }
  },
  "cells": [
    {
      "cell_type": "markdown",
      "metadata": {
        "id": "view-in-github",
        "colab_type": "text"
      },
      "source": [
        "<a href=\"https://colab.research.google.com/github/LeonardoGoncRibeiro/01_DataScienceUsingPython/blob/main/02_Advanced/04_ImplementingNeuralNetworks.ipynb\" target=\"_parent\"><img src=\"https://colab.research.google.com/assets/colab-badge.svg\" alt=\"Open In Colab\"/></a>"
      ]
    },
    {
      "cell_type": "markdown",
      "source": [
        "# Regression: Implementing a Neural Network using Numpy\n",
        "\n",
        "In this course, we will learn how a Neural Network works. For this end, we will implement a very simple Neural Network using Numpy. First, we will understand our data, and understand which are our explicative and target features. Then, we will learn how each part of the Neural Network functions, and how to fit our Neural Network by optimizing the model parameters.\n",
        "\n",
        "For this end, we will use the following packages:"
      ],
      "metadata": {
        "id": "ol_nF6bbvvXL"
      }
    },
    {
      "cell_type": "code",
      "execution_count": 323,
      "metadata": {
        "id": "WvqcS-L0vmhW"
      },
      "outputs": [],
      "source": [
        "import pandas as pd\n",
        "import numpy as np\n",
        "\n",
        "import matplotlib.pyplot as plt\n",
        "import seaborn as sns\n",
        "\n",
        "from sklearn.model_selection import train_test_split"
      ]
    },
    {
      "cell_type": "markdown",
      "source": [
        "Also, we will use the following dataset:"
      ],
      "metadata": {
        "id": "V_4XXDhbv9tD"
      }
    },
    {
      "cell_type": "code",
      "source": [
        "df = pd.read_csv('Bicicletas.csv')\n",
        "\n",
        "df.head( )"
      ],
      "metadata": {
        "colab": {
          "base_uri": "https://localhost:8080/",
          "height": 206
        },
        "id": "vmSjCjZSv_We",
        "outputId": "e1a3a08f-1fe4-4f41-8f40-47c2dc781692"
      },
      "execution_count": 324,
      "outputs": [
        {
          "output_type": "execute_result",
          "data": {
            "text/plain": [
              "   clima  temperatura  bicicletas_alugadas\n",
              "0      2     0.363625                  985\n",
              "1      2     0.353739                  801\n",
              "2      1     0.189405                 1349\n",
              "3      1     0.212122                 1562\n",
              "4      1     0.229270                 1600"
            ],
            "text/html": [
              "\n",
              "  <div id=\"df-ec9014d4-9725-44fe-94f5-8239c11000b9\">\n",
              "    <div class=\"colab-df-container\">\n",
              "      <div>\n",
              "<style scoped>\n",
              "    .dataframe tbody tr th:only-of-type {\n",
              "        vertical-align: middle;\n",
              "    }\n",
              "\n",
              "    .dataframe tbody tr th {\n",
              "        vertical-align: top;\n",
              "    }\n",
              "\n",
              "    .dataframe thead th {\n",
              "        text-align: right;\n",
              "    }\n",
              "</style>\n",
              "<table border=\"1\" class=\"dataframe\">\n",
              "  <thead>\n",
              "    <tr style=\"text-align: right;\">\n",
              "      <th></th>\n",
              "      <th>clima</th>\n",
              "      <th>temperatura</th>\n",
              "      <th>bicicletas_alugadas</th>\n",
              "    </tr>\n",
              "  </thead>\n",
              "  <tbody>\n",
              "    <tr>\n",
              "      <th>0</th>\n",
              "      <td>2</td>\n",
              "      <td>0.363625</td>\n",
              "      <td>985</td>\n",
              "    </tr>\n",
              "    <tr>\n",
              "      <th>1</th>\n",
              "      <td>2</td>\n",
              "      <td>0.353739</td>\n",
              "      <td>801</td>\n",
              "    </tr>\n",
              "    <tr>\n",
              "      <th>2</th>\n",
              "      <td>1</td>\n",
              "      <td>0.189405</td>\n",
              "      <td>1349</td>\n",
              "    </tr>\n",
              "    <tr>\n",
              "      <th>3</th>\n",
              "      <td>1</td>\n",
              "      <td>0.212122</td>\n",
              "      <td>1562</td>\n",
              "    </tr>\n",
              "    <tr>\n",
              "      <th>4</th>\n",
              "      <td>1</td>\n",
              "      <td>0.229270</td>\n",
              "      <td>1600</td>\n",
              "    </tr>\n",
              "  </tbody>\n",
              "</table>\n",
              "</div>\n",
              "      <button class=\"colab-df-convert\" onclick=\"convertToInteractive('df-ec9014d4-9725-44fe-94f5-8239c11000b9')\"\n",
              "              title=\"Convert this dataframe to an interactive table.\"\n",
              "              style=\"display:none;\">\n",
              "        \n",
              "  <svg xmlns=\"http://www.w3.org/2000/svg\" height=\"24px\"viewBox=\"0 0 24 24\"\n",
              "       width=\"24px\">\n",
              "    <path d=\"M0 0h24v24H0V0z\" fill=\"none\"/>\n",
              "    <path d=\"M18.56 5.44l.94 2.06.94-2.06 2.06-.94-2.06-.94-.94-2.06-.94 2.06-2.06.94zm-11 1L8.5 8.5l.94-2.06 2.06-.94-2.06-.94L8.5 2.5l-.94 2.06-2.06.94zm10 10l.94 2.06.94-2.06 2.06-.94-2.06-.94-.94-2.06-.94 2.06-2.06.94z\"/><path d=\"M17.41 7.96l-1.37-1.37c-.4-.4-.92-.59-1.43-.59-.52 0-1.04.2-1.43.59L10.3 9.45l-7.72 7.72c-.78.78-.78 2.05 0 2.83L4 21.41c.39.39.9.59 1.41.59.51 0 1.02-.2 1.41-.59l7.78-7.78 2.81-2.81c.8-.78.8-2.07 0-2.86zM5.41 20L4 18.59l7.72-7.72 1.47 1.35L5.41 20z\"/>\n",
              "  </svg>\n",
              "      </button>\n",
              "      \n",
              "  <style>\n",
              "    .colab-df-container {\n",
              "      display:flex;\n",
              "      flex-wrap:wrap;\n",
              "      gap: 12px;\n",
              "    }\n",
              "\n",
              "    .colab-df-convert {\n",
              "      background-color: #E8F0FE;\n",
              "      border: none;\n",
              "      border-radius: 50%;\n",
              "      cursor: pointer;\n",
              "      display: none;\n",
              "      fill: #1967D2;\n",
              "      height: 32px;\n",
              "      padding: 0 0 0 0;\n",
              "      width: 32px;\n",
              "    }\n",
              "\n",
              "    .colab-df-convert:hover {\n",
              "      background-color: #E2EBFA;\n",
              "      box-shadow: 0px 1px 2px rgba(60, 64, 67, 0.3), 0px 1px 3px 1px rgba(60, 64, 67, 0.15);\n",
              "      fill: #174EA6;\n",
              "    }\n",
              "\n",
              "    [theme=dark] .colab-df-convert {\n",
              "      background-color: #3B4455;\n",
              "      fill: #D2E3FC;\n",
              "    }\n",
              "\n",
              "    [theme=dark] .colab-df-convert:hover {\n",
              "      background-color: #434B5C;\n",
              "      box-shadow: 0px 1px 3px 1px rgba(0, 0, 0, 0.15);\n",
              "      filter: drop-shadow(0px 1px 2px rgba(0, 0, 0, 0.3));\n",
              "      fill: #FFFFFF;\n",
              "    }\n",
              "  </style>\n",
              "\n",
              "      <script>\n",
              "        const buttonEl =\n",
              "          document.querySelector('#df-ec9014d4-9725-44fe-94f5-8239c11000b9 button.colab-df-convert');\n",
              "        buttonEl.style.display =\n",
              "          google.colab.kernel.accessAllowed ? 'block' : 'none';\n",
              "\n",
              "        async function convertToInteractive(key) {\n",
              "          const element = document.querySelector('#df-ec9014d4-9725-44fe-94f5-8239c11000b9');\n",
              "          const dataTable =\n",
              "            await google.colab.kernel.invokeFunction('convertToInteractive',\n",
              "                                                     [key], {});\n",
              "          if (!dataTable) return;\n",
              "\n",
              "          const docLinkHtml = 'Like what you see? Visit the ' +\n",
              "            '<a target=\"_blank\" href=https://colab.research.google.com/notebooks/data_table.ipynb>data table notebook</a>'\n",
              "            + ' to learn more about interactive tables.';\n",
              "          element.innerHTML = '';\n",
              "          dataTable['output_type'] = 'display_data';\n",
              "          await google.colab.output.renderOutput(dataTable, element);\n",
              "          const docLink = document.createElement('div');\n",
              "          docLink.innerHTML = docLinkHtml;\n",
              "          element.appendChild(docLink);\n",
              "        }\n",
              "      </script>\n",
              "    </div>\n",
              "  </div>\n",
              "  "
            ]
          },
          "metadata": {},
          "execution_count": 324
        }
      ]
    },
    {
      "cell_type": "markdown",
      "source": [
        "So, we have information about the climate, the temperature, and the number of bikes rented. Also, we have 731 entries in our dataset:"
      ],
      "metadata": {
        "id": "NhP-b6Jrx5k_"
      }
    },
    {
      "cell_type": "code",
      "source": [
        "df.shape"
      ],
      "metadata": {
        "colab": {
          "base_uri": "https://localhost:8080/"
        },
        "id": "ZGCOaT1XzsrR",
        "outputId": "2f9d52ee-9bc5-48bb-e4d6-ee63b7657412"
      },
      "execution_count": 325,
      "outputs": [
        {
          "output_type": "execute_result",
          "data": {
            "text/plain": [
              "(731, 3)"
            ]
          },
          "metadata": {},
          "execution_count": 325
        }
      ]
    },
    {
      "cell_type": "markdown",
      "source": [
        "## Understanding our dataset\n",
        "\n",
        "First, let's understand our dataset a little more. We are interested with the number of bikes being rented. Thus, let's see how does it change with the change in temperature:"
      ],
      "metadata": {
        "id": "dzz0283jxu00"
      }
    },
    {
      "cell_type": "code",
      "source": [
        "plt.rcParams.update({'figure.figsize': (14, 6)})\n",
        "plt.rcParams.update({'font.size': 14})"
      ],
      "metadata": {
        "id": "lgsKhrFlyLjq"
      },
      "execution_count": 326,
      "outputs": []
    },
    {
      "cell_type": "code",
      "source": [
        "plt.scatter(df['temperatura'], df['bicicletas_alugadas'])\n",
        "plt.ylabel('bikes rented')\n",
        "plt.xlabel('temperature')"
      ],
      "metadata": {
        "colab": {
          "base_uri": "https://localhost:8080/",
          "height": 0
        },
        "id": "WxrDG06SyLJg",
        "outputId": "b277b757-0460-440d-d73f-203d49ede6c6"
      },
      "execution_count": 327,
      "outputs": [
        {
          "output_type": "execute_result",
          "data": {
            "text/plain": [
              "Text(0.5, 0, 'temperature')"
            ]
          },
          "metadata": {},
          "execution_count": 327
        },
        {
          "output_type": "display_data",
          "data": {
            "text/plain": [
              "<Figure size 1008x432 with 1 Axes>"
            ],
            "image/png": "[encoded data removed]"
          },
          "metadata": {
            "needs_background": "light"
          }
        }
      ]
    },
    {
      "cell_type": "markdown",
      "source": [
        "It seems that the number of bikes being rented increases as the temperature increases.\n",
        "\n",
        "Now, let's see how the climate variable affects the number of bikes rented:"
      ],
      "metadata": {
        "id": "IW5qrgNSyWxR"
      }
    },
    {
      "cell_type": "code",
      "source": [
        "plt.scatter(df['clima'], df['bicicletas_alugadas'])\n",
        "plt.ylabel('bikes rented')\n",
        "plt.xlabel('climate')"
      ],
      "metadata": {
        "colab": {
          "base_uri": "https://localhost:8080/",
          "height": 0
        },
        "id": "AdEOtAxkyT-i",
        "outputId": "bc8d0d5b-f50c-43d4-c2ca-4a482cbb1bef"
      },
      "execution_count": 328,
      "outputs": [
        {
          "output_type": "execute_result",
          "data": {
            "text/plain": [
              "Text(0.5, 0, 'climate')"
            ]
          },
          "metadata": {},
          "execution_count": 328
        },
        {
          "output_type": "display_data",
          "data": {
            "text/plain": [
              "<Figure size 1008x432 with 1 Axes>"
            ],
            "image/png": "[encoded data removed]"
          },
          "metadata": {
            "needs_background": "light"
          }
        }
      ]
    },
    {
      "cell_type": "markdown",
      "source": [
        "Climate is actually a categorical variable. It seems that climate 3 is related to a fewer number of rents, and climates 1 and 2 have more rents. \n",
        "\n",
        "Now, let's try to plot the number of bikes rented by the temperature, but let's use a different color based on climate:"
      ],
      "metadata": {
        "id": "0r222XG305MZ"
      }
    },
    {
      "cell_type": "code",
      "source": [
        "sns.scatterplot(x = 'temperatura', y = 'bicicletas_alugadas', hue = 'clima', data = df, palette=\"deep\")\n",
        "plt.ylabel('bikes rented')\n",
        "plt.xlabel('temperature')"
      ],
      "metadata": {
        "colab": {
          "base_uri": "https://localhost:8080/",
          "height": 0
        },
        "id": "AXqreuUb1AZq",
        "outputId": "2fda27a2-c0c3-44e8-dd87-47a389da459d"
      },
      "execution_count": 329,
      "outputs": [
        {
          "output_type": "execute_result",
          "data": {
            "text/plain": [
              "Text(0.5, 0, 'temperature')"
            ]
          },
          "metadata": {},
          "execution_count": 329
        },
        {
          "output_type": "display_data",
          "data": {
            "text/plain": [
              "<Figure size 1008x432 with 1 Axes>"
            ],
            "image/png": "[encoded data removed]"
          },
          "metadata": {
            "needs_background": "light"
          }
        }
      ]
    },
    {
      "cell_type": "markdown",
      "source": [
        "\n",
        "Before going further into model fitting, let's separate our explicative and target features, and normalize our data. This will help us to make our predictions in the future, as it makes model fitting and optimization easier."
      ],
      "metadata": {
        "id": "ANGIOASQyjr4"
      }
    },
    {
      "cell_type": "code",
      "source": [
        "X = df.drop('bicicletas_alugadas', axis = 1).values\n",
        "y = df.bicicletas_alugadas.values"
      ],
      "metadata": {
        "id": "X0X2X41GygYE"
      },
      "execution_count": 330,
      "outputs": []
    },
    {
      "cell_type": "markdown",
      "source": [
        "Here, to scale the values of our features, we will simply divided by the maximum value. Thus, the maximum value of our feature will be 1."
      ],
      "metadata": {
        "id": "JBAU9WjnzKVx"
      }
    },
    {
      "cell_type": "code",
      "source": [
        "Xmax = np.amax(X, axis = 0)\n",
        "ymax = np.amax(y, axis = 0)\n",
        "\n",
        "X = X/Xmax\n",
        "y = y/ymax"
      ],
      "metadata": {
        "id": "1xE-nkEZzJ2Z"
      },
      "execution_count": 331,
      "outputs": []
    },
    {
      "cell_type": "markdown",
      "source": [
        "Let's check our features:"
      ],
      "metadata": {
        "id": "7yi-rVAYzYgp"
      }
    },
    {
      "cell_type": "code",
      "source": [
        "X"
      ],
      "metadata": {
        "colab": {
          "base_uri": "https://localhost:8080/"
        },
        "id": "Uq25z8_ezVoV",
        "outputId": "95919985-73f8-491b-b27a-9f09558c6a35"
      },
      "execution_count": 332,
      "outputs": [
        {
          "output_type": "execute_result",
          "data": {
            "text/plain": [
              "array([[0.66666667, 0.43242565],\n",
              "       [0.66666667, 0.42066914],\n",
              "       [0.33333333, 0.22524188],\n",
              "       ...,\n",
              "       [0.66666667, 0.28826395],\n",
              "       [0.33333333, 0.27553942],\n",
              "       [0.66666667, 0.26577246]])"
            ]
          },
          "metadata": {},
          "execution_count": 332
        }
      ]
    },
    {
      "cell_type": "code",
      "source": [
        "y[0:10]"
      ],
      "metadata": {
        "colab": {
          "base_uri": "https://localhost:8080/"
        },
        "id": "MNzdNdTKzaym",
        "outputId": "8352a98f-12b6-44e9-9dd8-f94661d9c8e6"
      },
      "execution_count": 333,
      "outputs": [
        {
          "output_type": "execute_result",
          "data": {
            "text/plain": [
              "array([0.11303649, 0.09192105, 0.15480835, 0.17925178, 0.18361258,\n",
              "       0.18430112, 0.17328437, 0.11005279, 0.09433096, 0.15159513])"
            ]
          },
          "metadata": {},
          "execution_count": 333
        }
      ]
    },
    {
      "cell_type": "markdown",
      "source": [
        "Nice! It seems to have worked out."
      ],
      "metadata": {
        "id": "Gd4KWnZHzeXB"
      }
    },
    {
      "cell_type": "markdown",
      "source": [
        "# Creating the Network structure\n",
        "\n",
        "Here, we have a regression problem, where we want to predict the number of rented bikes based on the climate and temperature change. \n",
        "\n",
        "Thus, we will build a Neural Network to predict those values. The Neural Network will have two inputs (our two explicative features. Then, we will give different weights to each feature. We then evaluate the sum of these using:\n",
        "\n",
        "\\begin{equation}\n",
        "s = \\sum_{i = 1}^n x_j \\, w_{ij} + b_j\n",
        "\\end{equation}\n",
        "\n",
        "where $w_i$ is the weight for the $i$-th feature. Also, $b_j$ is the bias for the $j$-th node.\n",
        "\n",
        "Then, we run $s$ through an activation function ($\\text{act}(s)$). These activation functions help us to introduce non-linearity to the problem. An interesting activation function are the sigmoid and relu functions:"
      ],
      "metadata": {
        "id": "YtahSz3WIZrI"
      }
    },
    {
      "cell_type": "code",
      "source": [
        "def act_sigmoid(s):\n",
        "  return 1/(1 + np.exp(-s))\n",
        "\n",
        "def act_relu(s):\n",
        "  return np.maximum(0, s)"
      ],
      "metadata": {
        "id": "jiw1g2vyzbUz"
      },
      "execution_count": 334,
      "outputs": []
    },
    {
      "cell_type": "markdown",
      "source": [
        "Nice! \n",
        "\n",
        "Note that the Neural Networks may have multiple neurons, each located in different layers. If we have a connection between two layers, one with two neurons (input layer) and other with 3 layers, we will have 6 weights, one for each connection. To store those weights, we often use a matrix $3 \\times 2$, where $3$ is the size of the second layer, and $2$ is the size of the first layer.\n",
        "\n",
        "Let's define a list with the architecture of our network:"
      ],
      "metadata": {
        "id": "EG4EcCQLKW9S"
      }
    },
    {
      "cell_type": "code",
      "source": [
        "architecture = [\n",
        "    {'dim_input' : 2, 'dim_out' : 3, 'activation' : 'relu'},\n",
        "    {'dim_input' : 3, 'dim_out' : 1, 'activation' : 'sigmoid'}\n",
        "]"
      ],
      "metadata": {
        "id": "D6pOBYGWKNvB"
      },
      "execution_count": 335,
      "outputs": []
    },
    {
      "cell_type": "markdown",
      "source": [
        "Thus, our Neural Network has an input layer with 2 nodes, a hidden layer with 3 nodes, and an output layer with 1 node. \n",
        "\n",
        "Let's define a function to get the initial weights:"
      ],
      "metadata": {
        "id": "h8DwDhbVOZqt"
      }
    },
    {
      "cell_type": "code",
      "source": [
        "def CalcInitialParams(architecture, seed = 99):\n",
        "  np.random.seed(seed)\n",
        "\n",
        "  number_of_layers = len(architecture)         # Gets the number of layers (excludes the output layer)\n",
        "\n",
        "  param_values = {}                            # Initializes the dict with the parameters\n",
        "\n",
        "  for index, layer in enumerate(architecture):\n",
        "    index_layer = index + 1\n",
        "\n",
        "    layer_size_input = layer['dim_input']\n",
        "    layer_size_out   = layer['dim_out']\n",
        "\n",
        "    param_values['W' + str(index_layer)] = np.random.randn(layer_size_out, layer_size_input) # This evaluates the initial weigths (random)\n",
        "    param_values['B' + str(index_layer)] = np.random.randn(layer_size_out)                   # This evaluates the initial bias (random)\n",
        "\n",
        "  return param_values"
      ],
      "metadata": {
        "id": "vbMHa8NmL4v6"
      },
      "execution_count": 336,
      "outputs": []
    },
    {
      "cell_type": "markdown",
      "source": [
        "Ok. Now, we have the activation functions and the weights and biases for each layer/neuron. Thus, we can make an initial prediction for our Neural Network:"
      ],
      "metadata": {
        "id": "U-ygEXkDP5tA"
      }
    },
    {
      "cell_type": "code",
      "source": [
        "def PropagateLayer(x_old, weights, bias, activation = 'relu'):\n",
        "  B = np.transpose(np.tile(bias, (x_old.shape[1], 1)))\n",
        "  s = np.dot(weights, x_old) + B               # S = W.X + B\n",
        "\n",
        "  x_new = ActivateSum(s, activation)          # X_new = act(S)\n",
        "\n",
        "  return x_new, s\n",
        "\n",
        "def ActivateSum(s, activation):\n",
        "  if activation == 'relu':\n",
        "    func_act = act_relu                        # If the activation is Relu, call act_relu( )\n",
        "  elif activation == 'sigmoid':\n",
        "    func_act = act_sigmoid                     # If the activation is Sigmoid, call act_sigmoid( )\n",
        "  else:\n",
        "    raise Exception('Activation function requested not yet implemented or defined in activate_sum( ).')\n",
        "\n",
        "  return func_act(s)"
      ],
      "metadata": {
        "id": "-7FjUHfVPv-b"
      },
      "execution_count": 337,
      "outputs": []
    },
    {
      "cell_type": "markdown",
      "source": [
        "Note that the weight vector is a $3 \\times 2$ matrix, the bias is a $3 \\times 1$ matrix, and the input is a $2 \\times 1$ matrix. Thus, we were able to write everything is a matrix multiplication!\n",
        "\n",
        "Now, let's create a function to make propagation in our entire network:"
      ],
      "metadata": {
        "id": "ytbzoJLzQT0H"
      }
    },
    {
      "cell_type": "code",
      "source": [
        "def PropagateNetwork(X, param_values, architecture):\n",
        "  memory = {}                                                     # Initializes the memory (stores old and new values for X)\n",
        "  X_new  = X                                                      # Initializes X for the next layer\n",
        "\n",
        "  for index, layer in enumerate(architecture):\n",
        "    X_old = X_new                                                 # Initializes X for the current layer\n",
        "    index_layer = index + 1\n",
        "\n",
        "    func_act = layer['activation']\n",
        "    w_curr   = param_values['W' + str(index_layer)]\n",
        "    b_curr   = param_values['B' + str(index_layer)]\n",
        "\n",
        "    X_new, s = PropagateLayer(X_old, w_curr, b_curr, func_act)   # Perform layer propagation\n",
        "\n",
        "    memory[\"A\" + str(index)] = X_old\n",
        "    memory[\"Z\" + str(index_layer)] = X_new\n",
        "\n",
        "  return X_new, memory"
      ],
      "metadata": {
        "id": "Wf8HSZE0QfqH"
      },
      "execution_count": 338,
      "outputs": []
    },
    {
      "cell_type": "markdown",
      "source": [
        "Finally, let's call our functions:"
      ],
      "metadata": {
        "id": "70bPr1EeWnQQ"
      }
    },
    {
      "cell_type": "code",
      "source": [
        "param_values = CalcInitialParams(architecture, seed = 99)\n",
        "\n",
        "y_pred, memory = PropagateNetwork(np.transpose(X), param_values, architecture)"
      ],
      "metadata": {
        "id": "2cX5X3H-Tz4a"
      },
      "execution_count": 339,
      "outputs": []
    },
    {
      "cell_type": "markdown",
      "source": [
        "Note that $X$ should be a $2 \\times n$ matrix, where $n$ is the number of entries. However, now, it is a $n \\times 2$ matrix. That's why we start by transposing this value.\n",
        "\n",
        "Now, to get the prediction for our first value:"
      ],
      "metadata": {
        "id": "KNjEfn2zXULa"
      }
    },
    {
      "cell_type": "code",
      "source": [
        "y_pred[0][0]*ymax"
      ],
      "metadata": {
        "colab": {
          "base_uri": "https://localhost:8080/"
        },
        "id": "5YdCnCfHbifK",
        "outputId": "93a52166-a4e2-4281-ebca-8ba34a109faf"
      },
      "execution_count": 340,
      "outputs": [
        {
          "output_type": "execute_result",
          "data": {
            "text/plain": [
              "170.88821309876226"
            ]
          },
          "metadata": {},
          "execution_count": 340
        }
      ]
    },
    {
      "cell_type": "markdown",
      "source": [
        "Let's compare it to our true first value:"
      ],
      "metadata": {
        "id": "69nkHwTPcNlK"
      }
    },
    {
      "cell_type": "code",
      "source": [
        "y[0]*ymax"
      ],
      "metadata": {
        "colab": {
          "base_uri": "https://localhost:8080/"
        },
        "id": "PbO-7dUKcJ3B",
        "outputId": "e8ad20f2-dae0-4d2a-f6ad-f8bfea4d1c05"
      },
      "execution_count": 341,
      "outputs": [
        {
          "output_type": "execute_result",
          "data": {
            "text/plain": [
              "985.0000000000001"
            ]
          },
          "metadata": {},
          "execution_count": 341
        }
      ]
    },
    {
      "cell_type": "markdown",
      "source": [
        "So, we have missed by a lot. Note that, here, we are using random weights and biases. In fact, we need to optimize our weight and bias values in order to get good predictions."
      ],
      "metadata": {
        "id": "gp2N2VxpcTgT"
      }
    },
    {
      "cell_type": "markdown",
      "source": [
        "# Optimizing our parameters and fitting our network\n",
        "\n",
        "To get optimal values for our parameters, we have to first understand what causes our parameters to be optimal. First, we need to define a loss function. This function states how bad our predictions are: the lower it is, the better.\n",
        "\n",
        "A very common loss function is the binary cross entropy, given by:\n",
        "\n",
        "\\begin{equation}\n",
        "F(\\hat{y}, y) = -(y \\log \\hat{y} + (1 - y) \\, \\log(1 - \\hat{y}))\n",
        "\\end{equation}\n",
        "\n",
        "We can implement this function with:\n"
      ],
      "metadata": {
        "id": "GbphX0lTcee0"
      }
    },
    {
      "cell_type": "code",
      "source": [
        "def EvalLossFunction(y_pred, y):\n",
        "  n = y_pred.shape[1]      # Get the number of features\n",
        "\n",
        "  loss = (-1/n) * (np.dot(y, np.log(y_pred).T) + np.dot(1 - y, np.log(1 - y_pred).T))   # Evaluating the binary cross entropy\n",
        "\n",
        "  return np.squeeze(loss)  # Return the loss. Squeeze ensures that we return a scalar"
      ],
      "metadata": {
        "id": "_o4-gZcbcRIP"
      },
      "execution_count": 342,
      "outputs": []
    },
    {
      "cell_type": "markdown",
      "source": [
        "Note that, here, we are dividing everything by the number of entries just to guarantee that our final loss function (given by the sum of the losses for all entries) is normalized.\n",
        "\n",
        "Now, based on this loss function, we may update our parameters. We can do that using a backpropagation technique.\n",
        "\n",
        "## Backpropagation\n",
        "\n",
        "Backpropagation is used to update the parameters of our network. For that end, we need to evaluate the gradient for the loss function, to understand where should we go to reduce our loss. Our new parameter will be evaluated using:\n",
        "\n",
        "\\begin{equation}\n",
        "  P_1 = P_0 - \\alpha \\, \\nabla_P\n",
        "\\end{equation}\n",
        "\n",
        "Thus, we can implement the updating of our parameters using:"
      ],
      "metadata": {
        "id": "XALVxrLHfx16"
      }
    },
    {
      "cell_type": "code",
      "source": [
        "def UpdateParams(param_values, gradients, architecture, learning_rate):\n",
        "  for index, layer in enumerate(architecture, 1):\n",
        "    param_values[\"W\" + str(index)] -= learning_rate*gradients[\"dW\" + str(index)]\n",
        "    param_values[\"B\" + str(index)] -= learning_rate*gradients[\"dB\" + str(index)]\n",
        "\n",
        "  return param_values"
      ],
      "metadata": {
        "id": "0Xa-bYNafxOQ"
      },
      "execution_count": 343,
      "outputs": []
    },
    {
      "cell_type": "markdown",
      "source": [
        "Nice! But how can we evaluate the gradient for our loss function?\n",
        "\n",
        "The gradients are the derivative of the cost function by the estimated parameters. The procedure of evaluating the gradientes and updating the parameters is denominated Backpropagation. Thus, let's define a function to perform backpropagation:\n"
      ],
      "metadata": {
        "id": "CeDRAtRAidZB"
      }
    },
    {
      "cell_type": "code",
      "source": [
        "def Backpropagation(y_pred, y, memory, param_values, architecture):\n",
        "  gradients = {}                                  # Initialize the gradients dict\n",
        "\n",
        "  y = y.reshape(y_pred.shape)                     # Guarantees that both shapes are the same\n",
        "  dActivated_old = -(np.divide(y, y_pred) - np.divide(1 - y, 1 - y_pred))\n",
        "\n",
        "  for index_layer_old, layer in reversed(list(enumerate(architecture))):\n",
        "    index_layer_new = index_layer_old + 1\n",
        "    activation_func = layer['activation']\n",
        "\n",
        "    dActivated_curr = dActivated_old\n",
        "\n",
        "    activated_old = memory[\"A\" + str(index_layer_old)]\n",
        "    activated_new = memory[\"Z\" + str(index_layer_new)]\n",
        "\n",
        "    weights = param_values[\"W\" + str(index_layer_new)]\n",
        "    bias    = param_values[\"B\" + str(index_layer_new)]\n",
        "\n",
        "    dActivated_old, dweights_old, dbias_old = Backpropagation_Layer(dActivated_curr, weights, bias, activated_new, activated_old, activation_func)\n",
        "\n",
        "    gradients['dW' + str(index_layer_new)] = dweights_old\n",
        "    gradients['dB' + str(index_layer_new)] = dbias_old\n",
        "\n",
        "  return gradients"
      ],
      "metadata": {
        "id": "99PIU6dSf3dF"
      },
      "execution_count": 344,
      "outputs": []
    },
    {
      "cell_type": "markdown",
      "source": [
        "Nice! Now, we have to define a function that will perform the backpropagation for each layer. Basically, we need to use the derivatives of the loss function, which can be obtained using the chain rule. To get those, the reader is referred to:\n",
        "\n",
        "https://en.wikipedia.org/wiki/Backpropagation\n",
        "\n",
        "First, let's implement some functions that will allow us to use our activation functions when backpropagating (derivatives of the activation functions):"
      ],
      "metadata": {
        "id": "vgq2NXUX58rF"
      }
    },
    {
      "cell_type": "code",
      "source": [
        "def act_sigmoid_back(dActivated, out):\n",
        "  sig = act_sigmoid(out)\n",
        "  return dActivated * sig * (1 - sig)\n",
        "\n",
        "def act_relu_back(dActivated, out):\n",
        "  dOut = np.array(dActivated, copy = True)\n",
        "  dOut[dOut <= 0] = 0\n",
        "  return dOut"
      ],
      "metadata": {
        "id": "OKP97GK56oy6"
      },
      "execution_count": 345,
      "outputs": []
    },
    {
      "cell_type": "markdown",
      "source": [
        "Now, we can implement the backpropagation for one layer:"
      ],
      "metadata": {
        "id": "mAp6U9ZX7MSc"
      }
    },
    {
      "cell_type": "code",
      "source": [
        "def Backpropagation_Layer(dActivated_curr, weights, bias, activated_new, activated_old, activation_func = \"relu\"):\n",
        "  n = activated_old.shape[1]\n",
        "\n",
        "  if activation_func == \"relu\":\n",
        "    func_act_back = act_relu_back\n",
        "  elif activation_func == \"sigmoid\":\n",
        "    func_act_back = act_sigmoid_back\n",
        "  else:\n",
        "    raise Exception(\"Backpropagated activation function not implemented yet.\")\n",
        "    \n",
        "  dOut_curr = func_act_back(dActivated_curr, activated_new)\n",
        "\n",
        "  dW_curr   = np.dot(dOut_curr, activated_old.T) / n\n",
        "\n",
        "  dB_curr   = np.sum(dOut_curr, axis = 1, keepdims = True).T[0] / n\n",
        "\n",
        "  dActivated_old = np.dot(weights.T, dOut_curr)\n",
        "  \n",
        "  return dActivated_old, dW_curr, dB_curr"
      ],
      "metadata": {
        "id": "OaveVof155_0"
      },
      "execution_count": 346,
      "outputs": []
    },
    {
      "cell_type": "markdown",
      "source": [
        "Our Neural Network, we have the following steps:\n",
        "\n",
        "1. Define the initial parameters (randomly).\n",
        "2. Propagate and get initial prediction. Evaluate loss function.\n",
        "3. Backpropagation (adjust parameters).\n",
        "4. Propagate and get the new prediction. Evaluate loss function.\n",
        "5. If no stopping criteria has been met, return to step 3.\n",
        "6. After the model has been fitted, get the final prediction.\n",
        "\n",
        "So, we need to define a function to perform the training of our model, storing this entire process of adjusting the model parameters:\n"
      ],
      "metadata": {
        "id": "utJRRngDUVWi"
      }
    },
    {
      "cell_type": "code",
      "source": [
        "def NeuralNetwork_Fit(X_train, X_test, y_train, y_test, architecture, epochs, learning_rate, verbose = 1, interval_epochs_print = 5000, seed = 99):\n",
        "  param_values = CalcInitialParams(architecture, seed)\n",
        "\n",
        "  history_cost_train = []\n",
        "  history_cost_test  = []\n",
        "\n",
        "  for e in range(1, epochs + 1):\n",
        "    y_train_pred, memory_train = PropagateNetwork(X_train, param_values, architecture)\n",
        "    y_test_pred, memory_test   = PropagateNetwork(X_test, param_values, architecture)\n",
        "\n",
        "    cost_train = EvalLossFunction(y_train_pred, y_train)\n",
        "    cost_test  = EvalLossFunction(y_test_pred, y_test)\n",
        "\n",
        "    history_cost_train.append(float(cost_train))\n",
        "    history_cost_test.append(float(cost_test))\n",
        "\n",
        "    gradients = Backpropagation(y_train_pred, y_train, memory_train, param_values, architecture)\n",
        "\n",
        "    param_values = UpdateParams(param_values, gradients, architecture, learning_rate)\n",
        "\n",
        "    if verbose:\n",
        "      if ((e % (interval_epochs_print) == 0) or (e == 1)):\n",
        "        print(\"Iteration: {:n} - Loss: {:.5f} - Loss test: {:.5f}\".format(e, cost_train, cost_test))\n",
        "  \n",
        "  history = {'cost_train' : history_cost_train, 'cost_test' : history_cost_test}\n",
        "\n",
        "  return param_values, history"
      ],
      "metadata": {
        "id": "Obcx3q9T4uWL"
      },
      "execution_count": 347,
      "outputs": []
    },
    {
      "cell_type": "markdown",
      "source": [
        "Note that, here, we are using a train and test sets. Thus, we can separe our explicative and target features using:"
      ],
      "metadata": {
        "id": "GbuVty8gXvwR"
      }
    },
    {
      "cell_type": "code",
      "source": [
        "SEED = 42\n",
        "X_train, X_test, y_train, y_test = train_test_split(X, y, test_size = 0.3, random_state = SEED)"
      ],
      "metadata": {
        "id": "sqYcbeV64X4A"
      },
      "execution_count": 348,
      "outputs": []
    },
    {
      "cell_type": "markdown",
      "source": [
        "Now, let's perform the fitting of our model:"
      ],
      "metadata": {
        "id": "2n5pqQ4SYVsS"
      }
    },
    {
      "cell_type": "code",
      "source": [
        "X_train_aux = np.transpose(X_train)\n",
        "y_train_aux = np.transpose(y_train)\n",
        "X_test_aux  = np.transpose(X_test)\n",
        "y_test_aux  = np.transpose(y_test)\n",
        "\n",
        "architecture = [\n",
        "    {'dim_input' : 2, 'dim_out' : 3, 'activation' : 'relu'},\n",
        "    {'dim_input' : 3, 'dim_out' : 1, 'activation' : 'sigmoid'}\n",
        "]\n",
        "\n",
        "epochs = 10000\n",
        "\n",
        "learning_rate = 0.01\n",
        "\n",
        "param_values, history = NeuralNetwork_Fit(X_train_aux, X_test_aux, y_train_aux, y_test_aux, architecture, epochs, learning_rate)"
      ],
      "metadata": {
        "colab": {
          "base_uri": "https://localhost:8080/"
        },
        "id": "yBCmVQdfYHOe",
        "outputId": "e3cdc411-5fa5-4b8d-9431-98a851acfcaa"
      },
      "execution_count": 349,
      "outputs": [
        {
          "output_type": "stream",
          "name": "stdout",
          "text": [
            "Iteration: 1 - Loss: 2.60062 - Loss test: 2.45229\n",
            "Iteration: 5000 - Loss: 0.69210 - Loss test: 0.69383\n",
            "Iteration: 10000 - Loss: 0.69209 - Loss test: 0.69393\n"
          ]
        }
      ]
    },
    {
      "cell_type": "markdown",
      "source": [
        "Nice! Note that, at each iteration, our loss for the training set reduces. We can plot this variation:"
      ],
      "metadata": {
        "id": "hctVGosNzqzp"
      }
    },
    {
      "cell_type": "code",
      "source": [
        "sns.lineplot(x = range(1, 10001), y = history['cost_train'], label = 'train')\n",
        "sns.lineplot(x = range(1, 10001), y = history['cost_test'], label = 'test')"
      ],
      "metadata": {
        "colab": {
          "base_uri": "https://localhost:8080/",
          "height": 395
        },
        "id": "u1zTr0RCZaeF",
        "outputId": "a81a1277-e5a6-4cdd-b513-e1ee54012973"
      },
      "execution_count": 350,
      "outputs": [
        {
          "output_type": "execute_result",
          "data": {
            "text/plain": [
              "<matplotlib.axes._subplots.AxesSubplot at 0x7f53225aa550>"
            ]
          },
          "metadata": {},
          "execution_count": 350
        },
        {
          "output_type": "display_data",
          "data": {
            "text/plain": [
              "<Figure size 1008x432 with 1 Axes>"
            ],
            "image/png": "[encoded data removed]"
          },
          "metadata": {
            "needs_background": "light"
          }
        }
      ]
    },
    {
      "cell_type": "markdown",
      "source": [
        "Nice! Note that the cost for the training and test sets and very similar. "
      ],
      "metadata": {
        "id": "2BqxCa5j10bT"
      }
    }
  ]
}