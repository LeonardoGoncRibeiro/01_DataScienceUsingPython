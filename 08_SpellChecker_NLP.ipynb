{
  "nbformat": 4,
  "nbformat_minor": 0,
  "metadata": {
    "colab": {
      "name": "08_SpellChecker_NLP.ipynb",
      "provenance": [],
      "collapsed_sections": [],
      "authorship_tag": "ABX9TyPFJNEXWjxMMQTLi6WCOqos",
      "include_colab_link": true
    },
    "kernelspec": {
      "name": "python3",
      "display_name": "Python 3"
    },
    "language_info": {
      "name": "python"
    }
  },
  "cells": [
    {
      "cell_type": "markdown",
      "metadata": {
        "id": "view-in-github",
        "colab_type": "text"
      },
      "source": [
        "<a href=\"https://colab.research.google.com/github/LeonardoGoncRibeiro/01_DataScienceUsingPython/blob/main/08_SpellChecker_NLP.ipynb\" target=\"_parent\"><img src=\"https://colab.research.google.com/assets/colab-badge.svg\" alt=\"Open In Colab\"/></a>"
      ]
    },
    {
      "cell_type": "markdown",
      "source": [
        "# Natural Language Processing: Implementing a portuguese spell checker"
      ],
      "metadata": {
        "id": "2YyGqqzu-ApB"
      }
    },
    {
      "cell_type": "markdown",
      "source": [
        "**These are class notes from the course in NLP from Alura: \"Corretor Ortográfico em Python: aplicando técnicas de NLP\". Here, we will show how to build a portuguese spell checker using NLP concepts.**"
      ],
      "metadata": {
        "id": "kXoIrrih_T_4"
      }
    },
    {
      "cell_type": "markdown",
      "source": [
        "Machines do not \"talk\" the same language as humans. When using machines to solve a given problem related to language, one needs to use an intermediate to process natural language. This intermediate is denominated as **Natural Language Prossessing (NLP)**. Using NLP, for instance, one may implement a personal assistant (such as Amazon's Alexa) or a sentiment analysis. NLP allows us to perform man-machine communication!\n",
        "\n",
        "In this file, we will use techniques from Natural Language Processing (NLP) to build a portuguese spell checker. \n",
        "\n",
        "Our algorithm will receive an incorrectly typed word and will then generate (or propose) the right word. This spell checker will be built based on a database of possible words. This is known as the **training set**. "
      ],
      "metadata": {
        "id": "pLb3EQqa-FJf"
      }
    },
    {
      "cell_type": "markdown",
      "source": [
        "## Understanding our problem"
      ],
      "metadata": {
        "id": "fQeJ-kM5Bsq-"
      }
    },
    {
      "cell_type": "markdown",
      "source": [
        "**Problem:** People often type text incorrectly. How can we make a good educated guess on what people really meant to type (in portuguese)?\n",
        "\n",
        "For instance, when someone writes\n",
        "\n",
        "*lgica*\n",
        "\n",
        "We should be able to guess that people actually wanted to say:\n",
        "\n",
        "*lógica*\n",
        "\n",
        "\n"
      ],
      "metadata": {
        "id": "5h1_ejMXBv8f"
      }
    },
    {
      "cell_type": "markdown",
      "source": [
        "# Importing our database\n",
        "\n",
        "The first thing we have to do is to import a database, which will serve as our training set. It is through this database that our machine will be able to \"learn\" our language and, then, make good suggestions on what people actually meant to say.\n",
        "\n",
        "On NLP, the database is also known as \"corpus\". Here, as our \"corpus\", we will use a .txt file with different articles (documents) from alura.com.br\n",
        "\n",
        "Let's import this data. To that end, we will open \"artigos.txt\" and store the text characters in a variable."
      ],
      "metadata": {
        "id": "1Hjjs50wCyvw"
      }
    },
    {
      "cell_type": "code",
      "source": [
        "with open(\"artigos.txt\", \"r\") as f:\n",
        "  articles = f.read( )"
      ],
      "metadata": {
        "id": "0db3VRLbCyLH"
      },
      "execution_count": 3,
      "outputs": []
    },
    {
      "cell_type": "markdown",
      "source": [
        "Let's look at the first 500 characters:"
      ],
      "metadata": {
        "id": "LrPg-UsOEfyn"
      }
    },
    {
      "cell_type": "code",
      "source": [
        "print(articles[:500])"
      ],
      "metadata": {
        "colab": {
          "base_uri": "https://localhost:8080/"
        },
        "id": "Jw2qmlvTBsB_",
        "outputId": "82da7e1c-1d99-449c-90a5-820aff1b209a"
      },
      "execution_count": 4,
      "outputs": [
        {
          "output_type": "stream",
          "name": "stdout",
          "text": [
            "\n",
            "\n",
            "\n",
            "imagem \n",
            "\n",
            "Temos a seguinte classe que representa um usuário no nosso sistema:\n",
            "\n",
            "java\n",
            "\n",
            "Para salvar um novo usuário, várias validações são feitas, como por exemplo: Ver se o nome só contém letras, [**o CPF só números**] e ver se o usuário possui no mínimo 18 anos. Veja o método que faz essa validação:\n",
            "\n",
            "java \n",
            "\n",
            "Suponha agora que eu tenha outra classe, a classe `Produto`, que contém um atributo nome e eu quero fazer a mesma validação que fiz para o nome do usuário: Ver se só contém letras. E aí? Vou\n"
          ]
        }
      ]
    },
    {
      "cell_type": "markdown",
      "source": [
        "Is this corpus interesting for our spell checker? Does it has a high number of words? A high number of distinct words?"
      ],
      "metadata": {
        "id": "vHd7S6WhE1wG"
      }
    },
    {
      "cell_type": "markdown",
      "source": [
        "## Checking the number of words in our corpus"
      ],
      "metadata": {
        "id": "d0Rrt9OpFaZX"
      }
    },
    {
      "cell_type": "markdown",
      "source": [
        "To check the number of words, we first have to group each word. After all, if we just use\n",
        "\n",
        "\n",
        "\n",
        "```\n",
        "# len(articles)\n",
        "```\n",
        "\n",
        "we are not assessing the number of words, but rather the number of characters.\n"
      ],
      "metadata": {
        "id": "YRqGJenGFeSW"
      }
    },
    {
      "cell_type": "code",
      "execution_count": 5,
      "metadata": {
        "colab": {
          "base_uri": "https://localhost:8080/"
        },
        "id": "B-lMsTnL92SW",
        "outputId": "6be5686a-e132-4596-e7d4-1e4a2edd5b61"
      },
      "outputs": [
        {
          "output_type": "execute_result",
          "data": {
            "text/plain": [
              "2605046"
            ]
          },
          "metadata": {},
          "execution_count": 5
        }
      ],
      "source": [
        "len(articles)"
      ]
    },
    {
      "cell_type": "code",
      "source": [
        "len(\"Hi\")"
      ],
      "metadata": {
        "colab": {
          "base_uri": "https://localhost:8080/"
        },
        "id": "M3Bqjgv9F7Fy",
        "outputId": "964e4a0a-42f7-49f0-b3b2-75f68790a615"
      },
      "execution_count": 6,
      "outputs": [
        {
          "output_type": "execute_result",
          "data": {
            "text/plain": [
              "2"
            ]
          },
          "metadata": {},
          "execution_count": 6
        }
      ]
    },
    {
      "cell_type": "markdown",
      "source": [
        "The group that forms each word is denominated as a token. To create a token, we can use:"
      ],
      "metadata": {
        "id": "Lr8XJyZGGMcu"
      }
    },
    {
      "cell_type": "code",
      "source": [
        "text_example = \"Hi, are you okay?\"\n",
        "\n",
        "tokens_example = text_example.split( )\n",
        "tokens_example"
      ],
      "metadata": {
        "colab": {
          "base_uri": "https://localhost:8080/"
        },
        "id": "i3LHzyRTF8TC",
        "outputId": "fe9e2f0a-55f7-48ca-94f8-a4c7c6ec5f23"
      },
      "execution_count": 7,
      "outputs": [
        {
          "output_type": "execute_result",
          "data": {
            "text/plain": [
              "['Hi,', 'are', 'you', 'okay?']"
            ]
          },
          "metadata": {},
          "execution_count": 7
        }
      ]
    },
    {
      "cell_type": "markdown",
      "source": [
        "Then, we can use *len( )* to count the number of words:"
      ],
      "metadata": {
        "id": "vp2YyH0aGa1I"
      }
    },
    {
      "cell_type": "code",
      "source": [
        "len(tokens_example)"
      ],
      "metadata": {
        "colab": {
          "base_uri": "https://localhost:8080/"
        },
        "id": "GUodWxsGGYfr",
        "outputId": "b09920c8-ae3d-4032-d3b4-570358958014"
      },
      "execution_count": 8,
      "outputs": [
        {
          "output_type": "execute_result",
          "data": {
            "text/plain": [
              "4"
            ]
          },
          "metadata": {},
          "execution_count": 8
        }
      ]
    },
    {
      "cell_type": "markdown",
      "source": [
        "Note that, in our tokens, there are commas and punctuation marks. We can improve our tokenization by removing those. We do this using the nltk package."
      ],
      "metadata": {
        "id": "cgVoQJ0QGl8m"
      }
    },
    {
      "cell_type": "markdown",
      "source": [
        "First, let's import and download some minor nltk add-ons"
      ],
      "metadata": {
        "id": "yW-d7eZDMxT8"
      }
    },
    {
      "cell_type": "code",
      "source": [
        "import nltk\n",
        "nltk.download('punkt')"
      ],
      "metadata": {
        "colab": {
          "base_uri": "https://localhost:8080/"
        },
        "id": "u0cR9bfUM1yO",
        "outputId": "7e8a8dc5-854a-49ff-8dae-077a2b286bda"
      },
      "execution_count": 9,
      "outputs": [
        {
          "output_type": "stream",
          "name": "stdout",
          "text": [
            "[nltk_data] Downloading package punkt to /root/nltk_data...\n",
            "[nltk_data]   Package punkt is already up-to-date!\n"
          ]
        },
        {
          "output_type": "execute_result",
          "data": {
            "text/plain": [
              "True"
            ]
          },
          "metadata": {},
          "execution_count": 9
        }
      ]
    },
    {
      "cell_type": "markdown",
      "source": [
        "Now, let's perform our tokenization."
      ],
      "metadata": {
        "id": "1KrTQObpM-Qv"
      }
    },
    {
      "cell_type": "code",
      "source": [
        "tokens_example = nltk.tokenize.word_tokenize(text_example)"
      ],
      "metadata": {
        "id": "mkuLsat0MX95"
      },
      "execution_count": 10,
      "outputs": []
    },
    {
      "cell_type": "code",
      "source": [
        "tokens_example"
      ],
      "metadata": {
        "colab": {
          "base_uri": "https://localhost:8080/"
        },
        "id": "RGgwFJ8eNBJ-",
        "outputId": "a9766b94-1c45-4e46-fae0-7e54a21517e5"
      },
      "execution_count": 11,
      "outputs": [
        {
          "output_type": "execute_result",
          "data": {
            "text/plain": [
              "['Hi', ',', 'are', 'you', 'okay', '?']"
            ]
          },
          "metadata": {},
          "execution_count": 11
        }
      ]
    },
    {
      "cell_type": "markdown",
      "source": [
        "Now we have our words correctly separated! However, note that it captured commas and punctuation marks as a separated token. However, we only need the words! \n",
        "\n",
        "To separate punctuation from actual words, we can create an auxiliary function:"
      ],
      "metadata": {
        "id": "fgTIMeFuNDlt"
      }
    },
    {
      "cell_type": "code",
      "source": [
        "def GetWords(token_list):\n",
        "  words_list = []\n",
        "  for token in token_list:\n",
        "    if token.isalpha( ):\n",
        "      words_list.append(token)\n",
        "  return words_list"
      ],
      "metadata": {
        "id": "rNSxVi1ANd3X"
      },
      "execution_count": 12,
      "outputs": []
    },
    {
      "cell_type": "markdown",
      "source": [
        "Note that, here, we are using the *isalpha( )* function to help in defining if a token is alphabetical. Now, applying to our example token:"
      ],
      "metadata": {
        "id": "g2Xn1AyUNjrp"
      }
    },
    {
      "cell_type": "code",
      "source": [
        "GetWords(tokens_example)"
      ],
      "metadata": {
        "colab": {
          "base_uri": "https://localhost:8080/"
        },
        "id": "ljNdS_ZSN4n2",
        "outputId": "db56eef4-89a1-486e-dc66-8ac9cb8d4d0c"
      },
      "execution_count": 13,
      "outputs": [
        {
          "output_type": "execute_result",
          "data": {
            "text/plain": [
              "['Hi', 'are', 'you', 'okay']"
            ]
          },
          "metadata": {},
          "execution_count": 13
        }
      ]
    },
    {
      "cell_type": "markdown",
      "source": [
        "Great! Now everything worked out fine."
      ],
      "metadata": {
        "id": "GJExd2haN8J2"
      }
    },
    {
      "cell_type": "markdown",
      "source": [
        "Let's apply the same idea to our corpus:"
      ],
      "metadata": {
        "id": "ReUEbcBAGhaV"
      }
    },
    {
      "cell_type": "code",
      "source": [
        "tokens_raw = nltk.tokenize.word_tokenize(articles)\n",
        "print(tokens_raw[:50])"
      ],
      "metadata": {
        "colab": {
          "base_uri": "https://localhost:8080/"
        },
        "id": "lx1_JuTMGf-1",
        "outputId": "86abb578-21d8-4e11-98ac-02c0eb5d457a"
      },
      "execution_count": 14,
      "outputs": [
        {
          "output_type": "stream",
          "name": "stdout",
          "text": [
            "['imagem', 'Temos', 'a', 'seguinte', 'classe', 'que', 'representa', 'um', 'usuário', 'no', 'nosso', 'sistema', ':', 'java', 'Para', 'salvar', 'um', 'novo', 'usuário', ',', 'várias', 'validações', 'são', 'feitas', ',', 'como', 'por', 'exemplo', ':', 'Ver', 'se', 'o', 'nome', 'só', 'contém', 'letras', ',', '[', '**o', 'CPF', 'só', 'números**', ']', 'e', 'ver', 'se', 'o', 'usuário', 'possui', 'no']\n"
          ]
        }
      ]
    },
    {
      "cell_type": "markdown",
      "source": [
        "Note that, in our list of tokens, there are commas and punctuation marks. Now using our user-defined function:"
      ],
      "metadata": {
        "id": "3qjQXFpnOVPW"
      }
    },
    {
      "cell_type": "code",
      "source": [
        "tokens = GetWords(tokens_raw)\n",
        "print(tokens[:50])"
      ],
      "metadata": {
        "colab": {
          "base_uri": "https://localhost:8080/"
        },
        "id": "MeAKRLesOLso",
        "outputId": "e106beb7-cfd8-4a7f-abf6-4a95c1508fdb"
      },
      "execution_count": 15,
      "outputs": [
        {
          "output_type": "stream",
          "name": "stdout",
          "text": [
            "['imagem', 'Temos', 'a', 'seguinte', 'classe', 'que', 'representa', 'um', 'usuário', 'no', 'nosso', 'sistema', 'java', 'Para', 'salvar', 'um', 'novo', 'usuário', 'várias', 'validações', 'são', 'feitas', 'como', 'por', 'exemplo', 'Ver', 'se', 'o', 'nome', 'só', 'contém', 'letras', 'CPF', 'só', 'e', 'ver', 'se', 'o', 'usuário', 'possui', 'no', 'mínimo', 'anos', 'Veja', 'o', 'método', 'que', 'faz', 'essa', 'validação']\n"
          ]
        }
      ]
    },
    {
      "cell_type": "markdown",
      "source": [
        "Now, everything looks great. Let's get the number of words (or tokens) in our corpus:"
      ],
      "metadata": {
        "id": "3acEZQf7OjKa"
      }
    },
    {
      "cell_type": "code",
      "source": [
        "num_words = len(tokens)"
      ],
      "metadata": {
        "id": "u0vx8m5_OiKY"
      },
      "execution_count": 16,
      "outputs": []
    },
    {
      "cell_type": "markdown",
      "source": [
        "Thus, our corpus has 393,914 words! "
      ],
      "metadata": {
        "id": "fXuhx5QaO1B1"
      }
    },
    {
      "cell_type": "markdown",
      "source": [
        "## Checking the number of unique words in our corpus"
      ],
      "metadata": {
        "id": "sonhU4ntPMdS"
      }
    },
    {
      "cell_type": "markdown",
      "source": [
        "Even though we have 393,914 words, we should always keep in mind that we have a lot of repeated entries. Also, note that, if we have these two words:\n",
        "\n",
        "*   Bread\n",
        "*   bread\n",
        "\n",
        "They are actually the same word, although with different capitalization. First, it is import to \"normalize\" all of our words. For that end, we can define another auxiliary function\n",
        "\n"
      ],
      "metadata": {
        "id": "XvaTLtI_PYCG"
      }
    },
    {
      "cell_type": "code",
      "source": [
        "def NormalizeTokens(word_list):\n",
        "  word_list_lower = []\n",
        "  for word in word_list:\n",
        "    word_list_lower.append(word.lower( ))\n",
        "\n",
        "  return word_list_lower"
      ],
      "metadata": {
        "id": "M_jE4rkPO0IZ"
      },
      "execution_count": 17,
      "outputs": []
    },
    {
      "cell_type": "markdown",
      "source": [
        "Then, applying to our list of tokens:"
      ],
      "metadata": {
        "id": "PCkbekTKQ16X"
      }
    },
    {
      "cell_type": "code",
      "source": [
        "print(tokens[:10])"
      ],
      "metadata": {
        "colab": {
          "base_uri": "https://localhost:8080/"
        },
        "id": "HJrMNiSRRFOt",
        "outputId": "61883e66-94ed-42d2-eb2a-71dfca3cc2db"
      },
      "execution_count": 18,
      "outputs": [
        {
          "output_type": "stream",
          "name": "stdout",
          "text": [
            "['imagem', 'Temos', 'a', 'seguinte', 'classe', 'que', 'representa', 'um', 'usuário', 'no']\n"
          ]
        }
      ]
    },
    {
      "cell_type": "code",
      "source": [
        "tokens_norm = NormalizeTokens(tokens)"
      ],
      "metadata": {
        "id": "BGHnU6UoQxF5"
      },
      "execution_count": 19,
      "outputs": []
    },
    {
      "cell_type": "code",
      "source": [
        "print(tokens_norm[:10])"
      ],
      "metadata": {
        "colab": {
          "base_uri": "https://localhost:8080/"
        },
        "id": "7KvPxMtLRCsO",
        "outputId": "f7cac90a-50cc-433a-c0f1-278838bace42"
      },
      "execution_count": 20,
      "outputs": [
        {
          "output_type": "stream",
          "name": "stdout",
          "text": [
            "['imagem', 'temos', 'a', 'seguinte', 'classe', 'que', 'representa', 'um', 'usuário', 'no']\n"
          ]
        }
      ]
    },
    {
      "cell_type": "markdown",
      "source": [
        "Now, all of our tokens are in lowercase. Now, let's keep only our unique words. Thus, we have to remove our repeated words."
      ],
      "metadata": {
        "id": "ihrc750BRBOu"
      }
    },
    {
      "cell_type": "markdown",
      "source": [
        "Python has a very interesting idea, known as *sets*. Using *set( )* on a list, it passes the unique values from that list. "
      ],
      "metadata": {
        "id": "7_aYBoytT_U0"
      }
    },
    {
      "cell_type": "code",
      "source": [
        "print(set(tokens_norm))"
      ],
      "metadata": {
        "colab": {
          "base_uri": "https://localhost:8080/"
        },
        "id": "dJm6rgzISeyQ",
        "outputId": "48c1ba2b-470a-45cc-b9aa-4c0a5b13302b"
      },
      "execution_count": 21,
      "outputs": [
        {
          "output_type": "stream",
          "name": "stdout",
          "text": [
            "{'exclusivo', 'mudarmos', 'avisos', 'olhado', 'compreensivo', 'pixar', 'pereira', 'redimensionamento', 'cuidado', 'picos', 'realizem', 'berkeley', 'update', 'composta', 'livrar', 'extende', 'manteremos', 'fascinante', 'interesso', 'monospace', 'critical', 'opcional', 'simularemos', 'escaneáveis', 'tentamos', 'acertado', 'maiuscula', 'undefined', 'conectar', 'pagariam', 'absorvido', 'hashcode', 'width', 'fita', 'uma', 'importantíssimo', 'recarregadas', 'percam', 'pais', 'mobilegeddon', 'workana', 'conhecida', 'consigamos', 'construir', 'encontrassem', 'saga', 'aproximamos', 'canudo', 'jsdom', 'pegar', 'sofisticadas', 'interligação', 'fôlego', 'atual', 'solte', 'pois', 'encryption', 'compradas', 'unidos', 'memorizado', 'conveniência', 'funcionamento', 'veicular', 'restaurantes', 'tentará', 'aproximadamente', 'resultaram', 'exigindo', 'tr', 'snapchat', 'disparar', 'criatividade', 'períodos', 'piada', 'complementam', 'corpo', 'resumidos', 'quit', 'truncar', 'maximize', 'produzido', 'reações', 'nem', 'horrivel', 'fahrenheit', 'efetuadas', 'cade', 'recomendam', 'estante', 'observações', 'tipógrafos', 'introdutório', 'recomendado', 'caption', 'images', 'perseguidor', 'wifi', 'continuamos', 'novidade', 'splash', 'singular', 'baseará', 'empolgação', 'duplicações', 'vetores', 'dividirem', 'começamos', 'atari', 'administravam', 'enumere', 'treino', 'cgsociety', 'devida', 'imediatamente', 'despontar', 'procedure', 'faturar', 'setenta', 'isoladamente', 'valorizando', 'scheduling', 'situações', 'shimomura', 'hierarquias', 'rádio', 'convidando', 'nativamente', 'escolherá', 'reter', 'bi', 'instalaremos', 'usual', 'mantermos', 'musk', 'temidos', 'chatbots', 'nó', 'toolbar', 'reconhecido', 'organizadores', 'referentes', 'mostra', 'paraquedas', 'lições', 'replicamos', 'mistura', 'inflação', 'repertório', 'lembrei', 'interpessoais', 'assisto', 'estágio', 'febre', 'confunda', 'iniciarem', 'redesign', 'ocupado', 'tradicionais', 'queriar', 'indicação', 'agile', 'probleminhas', 'usavam', 'competitiva', 'explode', 'secretaria', 'elementoalvo', 'organiza', 'gae', 'garantia', 'saíam', 'entenderá', 'ouro', 'produções', 'fácil', 'empréstimo', 'referem', 'byte', 'difícil', 'redirecionamento', 'ceos', 'cpa', 'liderar', 'evidência', 'salvou', 'home', 'abrem', 'crença', 'interceptam', 'larry', 'conditions', 'imaginação', 'toolchain', 'walmart', 'nacionais', 'groovy', 'oregon', 'utilizo', 'filósofo', 'expõe', 'dicas', 'convivendo', 'concentrar', 'monitorando', 'orientamos', 'motivo', 'cut', 'salvas', 'tenho', 'daquela', 'milagres', 'minificada', 'complicadas', 'and', 'sugira', 'satisfatórias', 'incremento', 'os', 'prêmio', 'hífen', 'preferencial', 'debatendo', 'enter', 'tinham', 'int', 'cidadãos', 'seca', 'ajudarão', 'ligados', 'estarmos', 'validou', 'assimétricas', 'monetização', 'china', 'mesclagem', 'igualzinho', 'admirar', 'querendo', 'py', 'energia', 'cloud', 'incomparáveis', 'notice', 'upwork', 'donos', 'incorreta', 'rush', 'distribuir', 'reputação', 'configs', 'deslocamento', 'demitido', 'canetinhas', 'popularmos', 'associado', 'queryselector', 'decepcione', 'escritório', 'aconteçam', 'entrada', 'agregando', 'script', 'publicamos', 'férias', 'provou', 'popularização', 'renomeada', 'produtivamente', 'minimiza', 'escute', 'peruca', 'costuma', 'collective', 'vinte', 'véspera', 'turma', 'iônic', 'sql', 'liberta', 'estômago', 'edição', 'frases', 'desplugar', 'redimensionada', 'livre', 'agradará', 'intensamente', 'proporcionando', 'enterro', 'mapearmos', 'servirá', 'equivalente', 'darem', 'lentificando', 'imprevisto', 'arquiteturas', 'seguinte', 'vehicle', 'extrapolar', 'masquerade', 'wanderson', 'trabalhar', 'arranjar', 'prevenções', 'setados', 'usuário', 'deve', 'escritas', 'direcionará', 'pouco', 'diminuí', 'definem', 'implementação', 'atrativos', 'imparcial', 'thrones', 'abusiva', 'baseia', 'evitadas', 'font', 'habilitar', 'conterem', 'temporária', 'comprado', 'ajudou', 'quinhentos', 'salt', 'visamos', 'exames', 'dst', 'farejando', 'fortes', 'domina', 'pausa', 'submetida', 'permitirá', 'embarcar', 'fadada', 'evoluíram', 'explorando', 'ausentar', 'ganhou', 'jogadores', 'coisas', 'ficadica', 'esquema', 'excelência', 'capas', 'errarem', 'conhecidas', 'conseguindo', 'youtube', 'obedeça', 'apresentaremos', 'caminho', 'boooom', 'aluguei', 'ao', 'sente', 'emocionais', 'palavras', 'realizada', 'provas', 'interage', 'logística', 'ram', 'permitem', 'dificuldade', 'incorporar', 'finale', 'envolverá', 'convenções', 'rabiscoframe', 'agraciada', 'ofertam', 'paragraph', 'sinto', 'continuou', 'intuitivos', 'style', 'programadores', 'verdadeira', 'feitas', 'convertendo', 'lastpass', 'nan', 'prato', 'mongol', 'quisermos', 'pastéis', 'automatizada', 'pintor', 'visava', 'especialmente', 'agúdo', 'branca', 'publicado', 'empregabilidade', 'detecção', 'passavam', 'der', 'câmeras', 'inseriu', 'repensada', 'branch', 'dentra', 'relativos', 'pros', 'trazido', 'despesas', 'espanhola', 'envolvidas', 'utilize', 'behar', 'mozilla', 'borges', 'sentiu', 'remeter', 'vagrant', 'promissora', 'term', 'sugeres', 'digite', 'modular', 'delimitado', 'apresentadas', 'oitocentos', 'clássicos', 'crossdomain', 'compartilhável', 'esses', 'estarei', 'embate', 'inspirador', 'vetorizados', 'continuavam', 'conhecimentos', 'internado', 'aprendidas', 'diminuição', 'cupom', 'retorno', 'reinam', 'leram', 'bauru', 'zerar', 'pressman', 'justificada', 'escrevi', 'livros', 'lindo', 'formata', 'deduziu', 'cartaz', 'renomear', 'formalidade', 'potenciais', 'electric', 'backlinks', 'posicionado', 'lingua', 'variavam', 'relate', 'emojis', 'sobrescreverá', 'modifique', 'information', 'continuo', 'consultarmos', 'expertises', 'localizado', 'ousados', 'felipe', 'concorrente', 'jsfiddle', 'somados', 'torre', 'inseto', 'curva', 'desativar', 'tragédia', 'bilhão', 'apegavam', 'árabes', 'prevista', 'formando', 'tribunais', 'inglês', 'rails', 'geraremos', 'requisitar', 'parênteses', 'evitar', 'tiradas', 'vinculação', 'carla', 'editáveis', 'despertar', 'guiem', 'concretos', 'brancos', 'atualizem', 'decisivos', 'aplicada', 'projetistas', 'acusa', 'especificações', 'oculta', 'equipes', 'credenciais', 'circunstâncias', 'permaneceu', 'device', 'achando', 'faltar', 'multiplicadoras', 'bird', 'enfática', 'expandir', 'estados', 'desenvolveu', 'criamos', 'experimentando', 'repente', 'manifesto', 'classes', 'descurtido', 'pude', 'localizados', 'transações', 'empregados', 'direcionada', 'nome', 'postar', 'recebeu', 'truncamos', 'subjetiva', 'associamos', 'clique', 'extension', 'parsefloat', 'departamento', 'guardou', 'fichas', 'puplar', 'transferirmos', 'pequeno', 'flyers', 'humanizados', 'questionado', 'externa', 'zac', 'assimilando', 'provar', 'gostaria', 'infantis', 'adotarmos', 'inclinação', 'oras', 'aplicáveis', 'impaciente', 'palestrante', 'opino', 'explorado', 'langley', 'estudantes', 'hibridas', 'árduo', 'puder', 'atingindo', 'artistas', 'armazenamos', 'uhu', 'agendados', 'paralelos', 'mínima', 'perdas', 'curvaturas', 'jornalista', 'replicação', 'bcrypt', 'catraca', 'hubs', 'legislação', 'larguras', 'programada', 'transparent', 'usássemos', 'kotlin', 'também', 'haveria', 'adeus', 'infográficos', 'removido', 'armazenados', 'comentários', 'folheto', 'rotuladas', 'cdo', 'administradores', 'edson', 'desavenças', 'videos', 'mostrado', 'excelente', 'javafx', 'fim', 'profundo', 'encontrei', 'variado', 'compilássemos', 'armazenem', 'alterados', 'reconhecer', 'clicou', 'conseguirmos', 'contrastadas', 'retrovisores', 'excitante', 'interessava', 'alureiros', 'rd', 'somando', 'exorbitantes', 'pontualidade', 'esta', 'excessivos', 'colunas', 'ciência', 'diamante', 'deixará', 'maquina', 'psr', 'categorizar', 'repetimos', 'projeta', 'achatar', 'configurações', 'letra', 'thiago', 'prejudicada', 'pegarmos', 'encontros', 'modo', 'querida', 'instalando', 'subtrair', 'solarcity', 'reverter', 'orientador', 'elegantes', 'comemorações', 'naturezas', 'reiniciamos', 'polêmicas', 'ponderar', 'impuras', 'documenta', 'ganhando', 'temos', 'assista', 'predefinição', 'conhecidos', 'desembolsar', 'roupa', 'eletrônicos', 'onfocus', 'financeira', 'luísa', 'domain', 'ajuste', 'recheado', 'nº', 'desacoplada', 'shared', 'montar', 'pipe', 'brigar', 'rodar', 'conjuntamente', 'containers', 'processada', 'encontrem', 'cafeterias', 'desistirá', 'colaborativa', 'microtexto', 'comportará', 'extremo', 'desafiada', 'encantado', 'extrema', 'escutamos', 'indicarão', 'aceite', 'previsível', 'imagens', 'mencionou', 'paulo', 'larissa', 'atrapalharmos', 'puramente', 'transição', 'neuroimagem', 'ímpar', 'point', 'obtêm', 'braço', 'zoeira', 'copie', 'perceberam', 'chimpanzé', 'definirem', 'netscape', 'ostracismo', 'replicável', 'ninguém', 'esfriar', 'ativar', 'dispõem', 'conheci', 'particularmente', 'unsigned', 'organizou', 'estereótipo', 'simplíssimos', 'self', 'vistas', 'varrerá', 'setup', 'fluminense', 'transcrições', 'navio', 'atendente', 'matada', 'element', 'relaxe', 'ascensão', 'vacas', 'clicando', 'tradução', 'compreendido', 'descobrem', 'repetia', 'deslocar', 'interfaces', 'absorção', 'ooooutra', 'prospecções', 'pôde', 'designar', 'simulados', 'impor', 'pirata', 'decida', 'facilitou', 'memset', 'emoção', 'textoajustado', 'projetada', 'atributos', 'florear', 'destes', 'modelaram', 'estimulantes', 'typeerror', 'contentei', 'andei', 'aproximação', 'fiquei', 'largamente', 'cônicos', 'cobram', 'acumulam', 'commitment', 'fluência', 'transformado', 'relacionais', 'traçar', 'juntou', 'check', 'representada', 'redirecionado', 'vencedor', 'freemium', 'reimplementação', 'temer', 'noturno', 'novato', 'debugar', 'para', 'diminuirmos', 'variables', 'cuidadoso', 'cuidam', 'misticismo', 'is', 'destacados', 'coincide', 'favorável', 'injusta', 'filipe', 'intersecção', 'dynamic', 'mostrou', 'traria', 'setas', 'bluetooth', 'saldo', 'sustentável', 'considerarmos', 'heróis', 'honestamente', 'híbrido', 'didática', 'deverão', 'acompanhe', 'calada', 'backtick', 'duplicada', 'americana', 'grep', 'telefônicas', 'aquele', 'entregaríamos', 'casca', 'saturados', 'viabilizar', 'organizacional', 'coesa', 'deploy', 'calcula', 'it', 'felicidade', 'exception', 'compro', 'promoção', 'tivermos', 'educativo', 'pesquise', 'irritante', 'verba', 'propositura', 'centradas', 'captado', 'era', 'ficado', 'websérie', 'digitalizado', 'aumentaram', 'journal', 'adianto', 'grids', 'magníficos', 'ordenação', 'explicar', 'permanecemos', 'envergonhar', 'delarações', 'multiplique', 'alteram', 'aprendendo', 'girarmos', 'posições', 'coletadas', 'intuito', 'automoção', 'eletricidade', 'apesar', 'comercialmente', 'descendo', 'sodre', 'aprende', 'recomendo', 'vire', 'decepcionar', 'reparar', 'grade', 'setbuf', 'gestores', 'explicitamente', 'dobrem', 'soares', 'veria', 'esgotam', 'onipresente', 'priority', 'acelerador', 'paint', 'ensaios', 'ressabiada', 'anonimamente', 'alçando', 'estatísticas', 'disponibilizar', 'hiperlink', 'desrespeitem', 'encoraja', 'atrair', 'mine', 'independentes', 'muda', 'engajados', 'imc', 'esquecemos', 'envolvidos', 'cumpre', 'items', 'desenvolvo', 'redundante', 'tentei', 'cruzando', 'desorientado', 'rodapé', 'zoado', 'ingresso', 'receberemos', 'fomos', 'goyzqkb', 'refletiram', 'democrático', 'surgido', 'válido', 'notificar', 'elaborando', 'adaptações', 'foxnews', 'ínício', 'tuany', 'ocupava', 'respondeu', 'nextline', 'olhamos', 'filtra', 'apego', 'equilibrada', 'riquíssimas', 'assinar', 'mascarado', 'projetados', 'cinematográfica', 'sensação', 'podcasts', 'adorei', 'jean', 'pareciam', 'otimiza', 'estruturado', 'caem', 'reescalar', 'verificam', 'digitarmos', 'defende', 'flat', 'manipulando', 'sofisticação', 'uniformidade', 'maiúsculo', 'apagou', 'impacto', 'acabaria', 'capta', 'nativo', 'quantitativa', 'melhorias', 'rgba', 'getmodelo', 'semelhanças', 'estudio', 'incluem', 'chegarem', 'traduzir', 'formei', 'sinal', 'patreon', 'causará', 'aprovadas', 'cocoa', 'queda', 'economizando', 'selecionada', 'logotipos', 'universidades', 'exponha', 'decepcionando', 'shape', 'recurso', 'registrado', 'csharp', 'divertindo', 'extremamente', 'ive', 'caros', 'vegas', 'sustenta', 'inúmeras', 'depositar', 'praticada', 'sincroniza', 'martins', 'fabricados', 'setar', 'massa', 'causar', 'favorita', 'figurinhas', 'minúsculos', 'duocteto', 'longo', 'nearjob', 'estranhamento', 'xix', 'nano', 'citaremos', 'samba', 'indiretas', 'diárias', 'última', 'previsto', 'relato', 'divisor', 'sass', 'desvendamos', 'conservar', 'lidam', 'resto', 'preenchidas', 'mapear', 'içada', 'trabalhavam', 'tablegenerator', 'incrementamos', 'parcimonia', 'cronológica', 'conectados', 'efetivamente', 'óticas', 'quantidade', 'artboards', 'acreditariam', 'constante', 'necessitam', 'simpatia', 'devolvemos', 'distribuídas', 'individualmente', 'bora', 'es', 'regulares', 'vetorizadas', 'descrito', 'trade', 'indústrias', 'elogio', 'encontrados', 'esdras', 'visualizaram', 'alcoólicas', 'tributário', 'modalidade', 'mediante', 'hack', 'cpu', 'paste', 'book', 'core', 'microtextos', 'preferido', 'falho', 'sombra', 'mensurar', 'ouvirem', 'confirmação', 'recomendadas', 'getters', 'produção', 'próximo', 'flexíveis', 'acompanhar', 'roda', 'devices', 'concurseiros', 'braco', 'sofrerem', 'desconfiar', 'distribuem', 'fãs', 'wayne', 'deriva', 'carregamento', 'step', 'estilizado', 'interpretar', 'mexi', 'seguindo', 'repleta', 'perguntas', 'conquista', 'truncando', 'supermercado', 'escreverá', 'idade', 'fera', 'andam', 'meus', 'desktops', 'robusta', 'copy', 'tentaremos', 'privado', 'elses', 'are', 'bloquear', 'notificado', 'invariância', 'provê', 'dionatan', 'acentuado', 'requests', 'fotocópias', 'aem', 'instalado', 'lento', 'incau', 'offline', 'progresso', 'compartilhamentos', 'retrospectivas', 'ocultado', 'falência', 'desejemos', 'proposto', 'curadoria', 'englobasse', 'acontecerá', 'calculos', 'referirão', 'requições', 'reconhecemos', 'testaar', 'posto', 'cadastrar', 'couro', 'fabricantes', 'converterem', 'transcraniana', 'adequem', 'explicado', 'blogagem', 'retornamos', 'compram', 'implicar', 'designers', 'desempenhar', 'importe', 'apresentará', 'orçamentos', 'alertando', 'agregou', 'indicam', 'juntanto', 'rodarmos', 'procurados', 'usarmos', 'transmitir', 'telejornais', 'mensagens', 'wc', 'trás', 'suponhamos', 'configurarmos', 'recentes', 'mascaras', 'bancos', 'aliada', 'filmes', 'catálogo', 'posicionamentos', 'adaptadas', 'gravuras', 'assemelha', 'cansaço', 'monitorados', 'mixagem', 'seremos', 'poderiam', 'imprimíssemos', 'usos', 'blockquote', 'reaproveitamos', 'tiro', 'desabilitar', 'atraindo', 'divergências', 'universitária', 'defeitos', 'argumento', 'analista', 'colaborador', 'pertence', 'snap', 'aperfeiçoamento', 'fred', 'goroutines', 'comprovada', 'mútuo', 'recyclerview', 'buscou', 'mandamento', 'compensada', 'tentando', 'virtualbox', 'tato', 'espalhava', 'deveria', 'fortaleça', 'obsoletos', 'r', 'universo', 'dizemos', 'àquela', 'preocupando', 'reservar', 'escondemos', 'começou', 'appear', 'prejuízos', 'propondo', 'radicais', 'diminuir', 'subscrição', 'rebuscada', 'identifica', 'retention', 'spielberg', 'comentado', 'avisem', 'aborda', 'acontecia', 'compila', 'sobreviverá', 'denomina', 'inconsistência', 'galerias', 'deslizam', 'ação', 'congelando', 'fada', 'comerciante', 'colegas', 'primefaces', 'é', 'seguirmos', 'historicamente', 'peço', 'moura', 'transparente', 'interagirmos', 'compania', 'junior', 'ambientado', 'vermelhos', 'buraco', 'gravadas', 'suíte', 'jpasswordfield', 'eduardo', 'focarmos', 'arredondado', 'devidas', 'vínculos', 'primitivos', 'inicia', 'saem', 'declarássemos', 'comprime', 'representados', 'faltam', 'desuso', 'cirurgia', 'escolhermos', 'regularidade', 'basic', 'diferenciais', 'reconstruiu', 'incompatibilidade', 'comodidades', 'alcançam', 'sucesso', 'unidades', 'localizam', 'facilitam', 'breaker', 'hexadecimais', 'ordenada', 'estarem', 'retorne', 'jogável', 'daquele', 'guiam', 'considera', 'expirem', 'ataque', 'trabalhei', 'fones', 'graphics', 'trazida', 'ls', 'sublinhar', 'falaremos', 'monge', 'customizado', 'declarativamente', 'comigo', 'intersetoriais', 'content', 'argumentação', 'destinação', 'worldometers', 'designernatan', 'salarial', 'expostas', 'aluna', 'math', 'crescido', 'aperfeiçoam', 'divide', 'renovaram', 'scikit', 'únicas', 'leitor', 'urls', 'harmônicos', 'transita', 'unilateral', 'escolho', 'banner', 'alocou', 'configuradas', 'pé', 'transformamos', 'return', 'dividido', 'distribuirmos', 'conquistam', 'polynote', 'gritar', 'repetindo', 'repensa', 'budgets', 'continua', 'enquanto', 'acre', 'frequentar', 'estilos', 'relógios', 'score', 'haver', 'memcache', 'levamos', 'intermediário', 'podia', 'nda', 'repelentes', 'concretizar', 'texturas', 'enquetes', 'mixers', 'agradecem', 'gostar', 'estabelecidas', 'impulsionar', 'intencionalmente', 'franquia', 'doutorado', 'épocas', 'assustador', 'publish', 'uri', 'arquitetos', 'fork', 'yellow', 'alcançar', 'álcool', 'recorrentes', 'autorização', 'combinado', 'expondo', 'cadeias', 'englobar', 'extensos', 'inciar', 'preciosos', 'amplie', 'lideram', 'complementação', 'hein', 'falas', 'tinta', 'abranger', 'importadas', 'uniu', 'fretes', 'referências', 'violino', 'lide', 'máscaras', 'robozinhos', 'focaria', 'tínhamos', 'harmônica', 'atraiam', 'discman', 'capturar', 'filme', 'scrolling', 'positioning', 'concorrido', 'observado', 'microblogs', 'conquistarem', 'pokemon', 'contornos', 'prestarem', 'rodará', 'movimentação', 'limites', 'dicionário', 'digitamos', 'episódio', 'necessário', 'dólar', 'dezenas', 'exercício', 'fecharemos', 'los', 'diverte', 'adicionasse', 'chapada', 'constraint', 'idéia', 'rastrear', 'pablo', 'esteja', 'doações', 'n', 'sources', 'deixar', 'tática', 'basicamente', 'compiladas', 'falarmos', 'zeros', 'realize', 'decidirmos', 'motivado', 'antecipar', 'httpd', 'aumentou', 'cresça', 'obtiveram', 'entram', 'passei', 'aprendam', 'descaradamente', 'havido', 'saiba', 'cenario', 'desafiadora', 'jpegs', 'executaria', 'studio', 'educam', 'prefixo', 'note', 'load', 'fiscalização', 'branquinho', 'medos', 'facilmente', 'papéis', 'deparado', 'futuros', 'concebidos', 'simplificar', 'ensinar', 'dirigindo', 'registro', 'mágicas', 'letrinhas', 'aplicável', 'reversível', 'carolina', 'rica', 'especialista', 'happy', 'estrangeiras', 'executavam', 'inscrever', 'vetorizamos', 'usadas', 'destruídos', 'bloqueiam', 'inacessível', 'aberta', 'detalhadas', 'falarem', 'macro', 'sprout', 'melhoras', 'sobremesa', 'confundidas', 'singularidades', 'plus', 'março', 'pt', 'automatizar', 'haverão', 'andamos', 'haviam', 'log', 'quisessemos', 'idéias', 'customizar', 'burza', 'desnecessariamente', 'rodava', 'gwbasic', 'conflitar', 'temática', 'cometam', 'começaremos', 'body', 'intern', 'desconhecido', 'programado', 'investiu', 'frontend', 'programou', 'builds', 'justificar', 'etc', 'separados', 'opera', 'oficial', 'filhas', 'inserindo', 'facilitava', 'tua', 'rostos', 'várias', 'oferta', 'exportações', 'ocorra', 'ausentes', 'esboços', 'form', 'pivô', 'coisa', 'armazenam', 'rua', 'tudo', 'estabelecendo', 'hashes', 'guideline', 'ajudam', 'plugáveis', 'desordenada', 'comem', 'empurrados', 'title', 'necessita', 'paga', 'hide', 'ocorria', 'primeira', 'discussão', 'endereco', 'cc', 'experientes', 'desenvolvedoras', 'reino', 'terei', 'repositorio', 'confortável', 'name', 'tragam', 'redatores', 'perfeitas', 'idealizar', 'funciona', 'frequentes', 'cadastramos', 'navegável', 'premiere', 'equivocado', 'precisos', 'plotamos', 'fracamente', 'sentado', 'talvez', 'observando', 'revisão', 'corrigidas', 'podcast', 'espalhamento', 'explicou', 'divulgado', 'desapercebidas', 'diretora', 'possua', 'i', 'requisições', 'seletores', 'culpa', 'inspira', 'romântico', 'influentes', 'preenchendo', 'fecharam', 'ocorre', 'head', 'nacional', 'assim', 'descontraída', 'priorização', 'flex', 'interação', 'evitaria', 'economizaria', 'quantitativo', 'menores', 'localize', 'fábrica', 'hondafit', 'bloco', 'pesquisar', 'informa', 'multidão', 'gravarmos', 'prospects', 'acumulador', 'audiovisuais', 'itens', 'atirando', 'ovo', 'dipold', 'mensagem', 'usb', 'exportada', 'adequam', 'concluída', 'exibidas', 'bonito', 'dará', 'fornecer', 'câmera', 'estratégicos', 'hosts', 'paoli', 'chamaria', 'rate', 'permeiam', 'adicionais', 'lembrou', 'test', 'tripulada', 'eai', 'licenciando', 'atingiu', 'estimulada', 'planeta', 'jeps', 'fotográficas', 'eficientes', 'voluntário', 'dimensão', 'compreensíveis', 'entidade', 'conectava', 'portflólio', 'entender', 'ensinaram', 'mil', 'produz', 'ui', 'consolidadas', 'forneceu', 'divino', 'habilitada', 'atribuindo', 'subdiretórios', 'layer', 'pulo', 'desfoque', 'aumentará', 'instrumentos', 'animated', 'jim', 'victoria', 'manchetes', 'analisarmos', 'alheias', 'solicite', 'indicando', 'equipamento', 'piloto', 'desenvolvemos', 'cintura', 'adquirentes', 'distribuido', 'with', 'provedores', 'previstos', 'replicada', 'empreendedor', 'bots', 'linhagem', 'aquém', 'modificado', 'alinhado', 'desenvolvida', 'flexibilidade', 'felício', 'verde', 'mitológicos', 'baseamos', 'certo', 'llc', 'matrícula', 'conceituar', 'batida', 'bonita', 'municipal', 'pedra', 'presa', 'conosco', 'precisássemos', 'rodeia', 'desaparece', 'atualizados', 'bloquinho', 'atlântico', 'engajem', 'hci', 'compre', 'colocaria', 'atrapalha', 'memória', 'misturam', 'ands', 'olhada', 'motores', 'almoçei', 'partem', 'normalidade', 'desafios', 'groupon', 'aplicaram', 'milissegundos', 'escaláveis', 'contas', 'perdidas', 'físicos', 'impactam', 'navegar', 'economiza', 'acadêmico', 'agulha', 'sofre', 'apertei', 'sensoriais', 'estudar', 'múltiplos', 'assistiu', 'implantadas', 'aprova', 'unicamente', 'dove', 'percorrendo', 'simplificação', 'octetos', 'coloco', 'faço', 'marcantes', 'pontualmente', 'impressionou', 'estáticas', 'percebendo', 'perdem', 'queremos', 'serifas', 'pep', 'acertos', 'populando', 'fugindo', 'clustering', 'telenovelas', 'xmlns', 'solta', 'parameters', 'atras', 'simultâneo', 'cartela', 'ruas', 'cortados', 'allowing', 'pilha', 'deixarão', 'imagly', 'cordeiro', 'actions', 'acomulada', 'frontal', 'fluída', 'delimita', 'incessante', 'pen', 'estruturadas', 'localização', 'opcionalmente', 'zelar', 'escopobloco', 'empregadas', 'interessantíssimas', 'source', 'iterável', 'travar', 'ganhar', 'noites', 'sistematicamente', 'paginas', 'facilitamos', 'escrito', 'frames', 'demandado', 'aparência', 'recebem', 'gramaticais', 'destacadas', 'interoperability', 'conhecermos', 'gateway', 'lares', 'passar', 'dimensões', 'defeito', 'desagradável', 'formos', 'periódica', 'baratos', 'econômicos', 'específicas', 'types', 'constitua', 'inimigas', 'creditada', 'restringiam', 'flutua', 'horizontais', 'inseridas', 'adicionaremos', 'bonus', 'influenciar', 'dump', 'queridinho', 'escrever', 'ipad', 'modelador', 'infinidade', 'proporcional', 'resumem', 'gulp', 'preserva', 'desde', 'transcrever', 'obedecer', 'copiar', 'rapidinho', 'elegante', 'certification', 'subpacote', 'foca', 'estremecida', 'tocar', 'fracas', 'estamos', 'medo', 'cobranças', 'descartadas', 'encaixada', 'estatístico', 'tomados', 'navegáveis', 'quaisquer', 'analítica', 'urgentes', 'bett', 'carroceria', 'descrições', 'resolvemos', 'produtoras', 'holandês', 'sair', 'crítico', 'duradoura', 'ambições', 'services', 'deslizante', 'macos', 'expandimos', 'slug', 'porcentagem', 'impensável', 'intranet', 'iniciativa', 'xmlhttprequest', 'smacss', 'pra', 'conversassem', 'sermos', 'exterior', 'vanguardista', 'funil', 'facilitem', 'acho', 'atualiza', 'j', 'exigência', 'lead', 'aparenta', 'intuitivo', 'poderá', 'reunidos', 'declaramos', 'remunerado', 'apresentadores', 'gostos', 'parametroqueseraatribuido', 'distinção', 'graduou', 'duas', 'fio', 'debug', 'errei', 'sistemática', 'oferecendo', 'cursaram', 'descobriu', 'rem', 'arquitetural', 'mbps', 'ditas', 'mudamos', 'teleportando', 'leigo', 'spreadsheets', 'desempenho', 'tecnológico', 'suportada', 'milimétrico', 'caretas', 'ada', 'prejudicaríamos', 'concluem', 'forneça', 'fundida', 'restringe', 'minimun', 'from', 'visita', 'entendam', 'reformulados', 'service', 'amqp', 'noticias', 'julgamentos', 'fundando', 'repleto', 'portland', 'descobrimos', 'importância', 'divididas', 'aceitando', 'idealização', 'esse', 'estranho', 'rotação', 'desejada', 'lidas', 'implantar', 'move', 'listaremos', 'vamo', 'iphones', 'retomando', 'proposta', 'stroustrup', 'penalizado', 'aconselhável', 'reparou', 'parentes', 'essência', 'pode', 'piscar', 'financeiro', 'ponteiro', 'intuitivas', 'entregas', 'estáticos', 'transport', 'respire', 'desgostou', 'política', 'ouvindo', 'retransmitidos', 'tarefas', 'w', 'neutras', 'interaja', 'avaliem', 'engenheiro', 'mobilidade', 'aguarda', 'alocadas', 'utilizado', 'testers', 'viver', 'paris', 'presta', 'hidden', 'thalles', 'internacionalização', 'pycharm', 'publicam', 'desespere', 'inibidor', 'periodicamente', 'significará', 'preste', 'designadas', 'mccarthy', 'banners', 'compatíveis', 'auxilia', 'subtítulos', 'campeonatosde', 'divertida', 'pesquisa', 'bate', 'portas', 'linkando', 'eficiencia', 'vscode', 'repita', 'gerenciados', 'pixeladas', 'somos', 'angular', 'jpg', 'convém', 'tecnológicos', 'pirotécnicos', 'relacional', 'pesar', 'aqueles', 'fluida', 'loginapi', 'maneja', 'pressionamos', 'persistidas', 'expressão', 'cheias', 'proativo', 'administra', 'turno', 'dispostos', 'painéis', 'saberão', 'impacte', 'permitiu', 'singularidade', 'chequei', 'silaba', 'advento', 'propensão', 'guardasse', 'identificadas', 'comprei', 'colaborar', 'competir', 'pena', 'carteira', 'parou', 'cheio', 'rsrs', 'debaixo', 'back', 'atualizamos', 'oakley', 'varredura', 'seleciona', 'passasse', 'explicitar', 'trapista', 'tende', 'publico', 'trânsito', 'finalidades', 'prender', 'preenchermos', 'extended', 'setores', 'tradicional', 'hyperlinks', 'david', 'divs', 'cabendo', 'postergar', 'bussiness', 'recarregar', 'gbps', 'mantém', 'paleta', 'substituirá', 'diversificar', 'pega', 'empreendedora', 'criadores', 'lidando', 'inexplorada', 'imprevistos', 'deliciados', 'seletivos', 'zendesk', 'acadêmicas', 'compartilha', 'retribuir', 'escrevo', 'atualizada', 'realiza', 'formação', 'help', 'organizava', 'cobiçadas', 'red', 'dinamicas', 'label', 'autoplay', 'aperfeiçoar', 'incontável', 'cozido', 'suíça', 'venn', 'exceção', 'multimídia', 'ganhará', 'bernardo', 'mesclar', 'suportem', 'largura', 'avaliações', 'banking', 'hexadecimal', 'tornarão', 'europeia', 'prá', 'posicionada', 'protagonista', 'sobrepor', 'senior', 'shadowing', 'teimoso', 'ilustra', 'combatidas', 'envolver', 'informativa', 'each', 'sqlserver', 'feather', 'logaritmos', 'line', 'continuam', 'reaproveitado', 'cursor', 'divisões', 'copiada', 'parceiro', 'manunteção', 'implementadas', 'pessoais', 'piorou', 'falta', 'atuado', 'obrigar', 'receita', 'whitepapers', 'avedissian', 'oficinas', 'nielsen', 'facebook', 'suscetível', 'fatores', 'fragmentação', 'suportes', 'cargo', 'operacional', 'venha', 'doces', 'rápido', 'contamos', 'naqueles', 'span', 'entrevistamos', 'novembro', 'pocket', 'figurino', 'entregável', 'afeta', 'parar', 'terminamos', 'desperdiçado', 'vice', 'agrupar', 'câncer', 'modelos', 'divergentes', 'regularizar', 'inserir', 'luzes', 'chocados', 'fixação', 'domínios', 'condenação', 'organizasse', 'privadas', 'maiores', 'artificial', 'imposto', 'transferem', 'tornam', 'postados', 'conto', 'desistiam', 'supervisionando', 'língua', 'equipe', 'cpfatualizado', 'ficasse', 'sólidos', 'aba', 'calcule', 'transcrição', 'império', 'recibos', 'trocamos', 'acarreta', 'dsa', 'quesitos', 'acolhimento', 'logo', 'suprida', 'literário', 'thomas', 'summer', 'impedância', 'clássicas', 'crop', 'individuais', 'subjetivo', 'acabada', 'internauta', 'temperadas', 'naquela', 'pressionar', 'reaproveitar', 'validadas', 'satisfeito', 'incorretos', 'recarregue', 'componha', 'criaremos', 'uns', 'recomendar', 'agende', 'escolares', 'raise', 'tabus', 'rotatividade', 'durma', 'tranquilamente', 'cadastrado', 'column', 'vulneráveis', 'tanto', 'assumindo', 'latex', 'fisicamente', 'constroem', 'fictício', 'valha', 'automatizadas', 'paradigmas', 'desgastante', 'preparatórios', 'zuckerberg', 'logotipo', 'quebras', 'aplique', 'apagar', 'locate', 'dispensem', 'cachola', 'seletor', 'lembrar', 'inovar', 'joi', 'pilhas', 'costumávamos', 'cinema', 'atribuições', 'icônico', 'arvore', 'desvendar', 'enviasse', 'sun', 'checam', 'tambem', 'afinidades', 'métrico', 'smartphones', 'compactações', 'quickstart', 'campanhas', 'milhão', 'demoraria', 'gosta', 'rapaz', 'conciliar', 'reescrito', 'pegamos', 'hipóteses', 'malsucedidas', 'saber', 'soam', 'porquê', 'coroflot', 'praticado', 'júnior', 'omitindo', 'participação', 'hobby', 'entendia', 'preenchimentos', 'preocupado', 'aperte', 'apresentaram', 'complemente', 'mudaria', 'remova', 'escanteio', 'recolhidos', 'hacking', 'where', 'destinatários', 'criado', 'flutter', 'contrariando', 'newsletter', 'esclarecer', 'proibitivo', 'trazemos', 'public', 'incomodará', 'formou', 'despercebido', 'aproximou', 'swiftmailer', 'dado', 'pedida', 'oportunidades', 'olfato', 'interop', 'multidisciplinar', 'asseguramos', 'conhecia', 'heurística', 'percorra', 'deparou', 'pior', 'ted', 'mommentjs', 'anuncia', 'brackets', 'lembrará', 'technology', 'agrupados', 'louça', 'maneiro', 'cache', 'estabelecida', 'deterioração', 'neva', 'gotham', 'conveção', 'experimento', 'table', 'personalizado', 'conter', 'squirrel', 'descobrirmos', 'corporações', 'determinadas', 'usando', 'acesso', 'dresscode', 'linda', 'sócios', 'voo', 'logístico', 'rastreamento', 'psicologia', 'aprendi', 'descobri', 'subtrativas', 'estreitas', 'desproporcionais', 'gravamos', 'meteor', 'branco', 'passaremos', 'classificados', 'divulgação', 'instanciado', 'gastamos', 'notando', 'propuser', 'rectangle', 'sprint', 'totais', 'formattedmessage', 'pacman', 'levarem', 'saíram', 'potencializar', 'triádica', 'irrelevante', 'dou', 'consumers', 'jargão', 'reflexo', 'destas', 'blank', 'apaixona', 'strong', 'desenvolvedora', 'resultou', 'adwords', 'dissesse', 'pequena', 'memórias', 'quem', 'bastam', 'insistente', 'compreenderão', 'abandonar', 'postgresql', 'agrupamentos', 'vinham', 'selecionou', 'entendo', 'ctrl', 'interagimos', 'eval', 'sequences', 'collaj', 'phishing', 'empacotar', 'split', 'acessarmos', 'asterisco', 'justifique', 'deficiência', 'naturalidade', 'bombásticas', 'exposição', 'mayra', 'ifood', 'locales', 'vitrine', 'bombando', 'detalhados', 'informou', 'envolverem', 'construtor', 'amparado', 'coordenadas', 'visuais', 'suspeitávamos', 'parasse', 'arcar', 'bloqueie', 'funcionem', 'cow', 'footer', 'kubernetes', 'plot', 'baixadas', 'focus', 'executo', 'inerente', 'autenticar', 'pôster', 'edition', 'recepcionista', 'adultos', 'mero', 'serpa', 'triadica', 'corporativos', 'construção', 'gabar', 'iremos', 'perplexo', 'acaba', 'sou', 'vendedor', 'barata', 'salto', 'compõem', 'finanças', 'prestado', 'veiculado', 'ler', 'quadrado', 'asserção', 'especificar', 'adicional', 'brian', 'tá', 'internacionais', 'caixinha', 'atribuição', 'engajado', 'sdk', 'primeiras', 'defasado', 'premiada', 'renascença', 'graphicsfuel', 'propósitos', 'acrescenta', 'exemplificamos', 'cep', 'autenticados', 'contei', 'começávamos', 'assumimos', 'escondido', 'griffiths', 'avança', 'norteiam', 'wizard', 'acendeu', 'reinstalando', 'universitário', 'rotacionando', 'restava', 'central', 'neurocientista', 'impenetrável', 'fenômenos', 'fundação', 'sublicense', 'recolher', 'gerenciador', 'riscando', 'começará', 'moedas', 'carrossel', 'anchor', 'cliques', 'thuany', 'telefone', 'lance', 'steven', 'preferences', 'pesa', 'originalmente', 'escutou', 'estranhos', 'cotidianos', 'view', 'feed', 'dívida', 'aprendizado', 'duradouros', 'agenda', 'fotógrafos', 'atriz', 'queridos', 'reforçando', 'rankbrain', 'funcionais', 'reais', 'categorizada', 'graz', 'prevenção', 'esquivando', 'aplicados', 'avaliando', 'sniffer', 'confiante', 'comentados', 'acessórios', 'distrair', 'maurício', 'contendo', 'pudessem', 'descobertas', 'término', 'notebooks', 'rabiscar', 'incorpore', 'portal', 'decodificar', 'insatisfatórias', 'publicou', 'bull', 'adaptam', 'tornará', 'updates', 'amparada', 'veja', 'resume', 'acompanhado', 'oportuno', 'porte', 'sprite', 'scrolllagem', 'attr', 'atividade', 'chuvoso', 'typos', 'demorar', 'matemática', 'produziu', 'queixas', 'conjuntos', 'chamaremos', 'telefonia', 'referimos', 'consideração', 'ficavam', 'hospedado', 'briga', 'sinônimos', 'slide', 'prefiro', 'contrastes', 'facilitar', 'mineira', 'ultrapassa', 'durou', 'retiradas', 'abreviações', 'área', 'xavier', 'circleimageview', 'bumps', 'kondo', 'cobertura', 'sociais', 'vontade', 'jurídicos', 'responda', 'aliviar', 'aprendizados', 'executivo', 'polegadas', 'coordenando', 'api', 'emissoras', 'flutuam', 'logado', 'consomem', 'perguntando', 'entusiasta', 'predefinições', 'suposições', 'estética', 'toma', 'gritou', 'refletida', 'descobrindo', 'constitucional', 'bug', 'retomar', 'entendendo', 'psicólogo', 'robots', 'são', 'possamos', 'digitação', 'inference', 'recortado', 'classificado', 'aparecerá', 'complementando', 'bairros', 'informaremos', 'iniciou', 'ventures', 'divulgar', 'cenários', 'polimodal', 'encorajar', 'marcando', 'analisadas', 'informando', 'esquerdo', 'linguiça', 'sóbrio', 'herança', 'redução', 'unida', 'station', 'omnichannel', 'conforto', 'colocadas', 'deveremos', 'clouds', 'deixo', 'preconceitos', 'corrompessem', 'vizinhas', 'licenças', 'harmoniosamente', 'destinada', 'descobrir', 'refletem', 'compensador', 'inaugurar', 'somaria', 'transparência', 'imprime', 'prioriza', 'serviço', 'aposte', 'apertar', 'fazer', 'consequências', 'funcionário', 'melhoradas', 'lisp', 'convite', 'datas', 'erro', 'galáxia', 'mídia', 'between', 'influenciadores', 'diretas', 'restantes', 'compunha', 'otimizamos', 'genérico', 'portfolio', 'requisitos', 'wp', 'demora', 'completem', 'logcat', 'filha', 'estes', 'prejudiquem', 'totalizando', 'poderoso', 'custaria', 'ômega', 'clipping', 'property', 'associativos', 'aventura', 'flask', 'redesenhadas', 'vendidas', 'contrasta', 'relatório', 'embaixo', 'compara', 'lesados', 'validação', 'funcionado', 'ergonomia', 'inovador', 'saias', 'segredo', 'assustado', 'questiona', 'fixar', 'descartou', 'haveriam', 'assistimos', 'dores', 'entristecer', 'racional', 'elaborado', 'acrescentando', 'lazer', 'célula', 'imenso', 'procurado', 'tabela', 'histogramas', 'colchetes', 'quer', 'consumidores', 'casar', 'sofrendo', 'aleatórios', 'tava', 'pleno', 'oratória', 'pantone', 'condicionado', 'lock', 'acrescentou', 'ilustrator', 'solicitação', 'dissemos', 'formulário', 'ids', 'passou', 'daqui', 'obrigatoriedade', 'onipresentes', 'devolverá', 'wilffly', 'milímetro', 'avós', 'negativos', 'somadas', 'vestimentas', 'supera', 'clone', 'intimidador', 'alberto', 'distribui', 'marcadas', 'programas', 'acabamento', 'privilegiada', 'poderem', 'direcionamos', 'acabei', 'pronomes', 'selecionadas', 'abordar', 'elaboradas', 'liberais', 'problemáticos', 'rodado', 'municiar', 'logicamente', 'laterais', 'diálogo', 'atrasar', 'adentrar', 'fundamentou', 'adequadamente', 'ouviu', 'simpson', 'estávamos', 'adoro', 'globalmente', 'feiras', 'intuitivamente', 'cadastrarmos', 'estipule', 'varia', 'sonho', 'significativamente', 'informe', 'desacoplado', 'interpoladas', 'trainee', 'preferência', 'aluroom', 'dourado', 'detalhamos', 'sugerido', 'esteve', 'animado', 'postagem', 'aplicou', 'tradeoffs', 'compactadores', 'água', 'média', 'rsa', 'ahh', 'hacker', 'morte', 'vaixa', 'garantias', 'internas', 'conversor', 'exclua', 'quantas', 'trabalharei', 'aviões', 'questionável', 'definissemos', 'backend', 'isentos', 'transforma', 'definiu', 'concordar', 'denominadas', 'carácter', 'atraída', 'souto', 'engano', 'abordagens', 'seculo', 'chegaria', 'requisitada', 'instrução', 'senti', 'tofixed', 'kiss', 'transformava', 'fluxo', 'reflita', 'resolvidos', 'séria', 'padrão', 'position', 'prolonga', 'neles', 'any', 'alterei', 'específico', 'conhecedor', 'chegou', 'dessas', 'adere', 'destinados', 'prioridade', 'varrer', 'seguido', 'research', 'rasgam', 'diretores', 'próprio', 'chassi', 'aplicam', 'treinando', 'agrade', 'cruciais', 'ressalta', 'suficiente', 'naquele', 'postado', 'lado', 'storybook', 'mentira', 'cresço', 'comprando', 'compilador', 'implementado', 'nele', 'principio', 'microservices', 'conseguia', 'notado', 'rescuetime', 'alcançaram', 'portaria', 'sequence', 'introduzida', 'anotar', 'jetbrains', 'underlines', 'alexandre', 'obrigatório', 'change', 'servir', 'influenciando', 'design', 'operadores', 'direcionadas', 'atitudes', 'introvertidas', 'nasceu', 'união', 'focado', 'interessarem', 'presidentes', 'àquele', 'colocará', 'especializada', 'driven', 'notification', 'agregados', 'protegem', 'acirram', 'versão', 'lemos', 'caneta', 'concepção', 'abriga', 'mba', 'popula', 'habilidade', 'aconteceram', 'parágrafos', 'levar', 'conectadas', 'product', 'toques', 'acrescentamos', 'sonhou', 'corrida', 'entende', 'chamadas', 'traçando', 'ranking', 'morrem', 'acessibilidade', 'incorporou', 'theory', 'meta', 'beneficiou', 'frase', 'passos', 'pair', 'visitantes', 'achate', 'lambda', 'recarregando', 'revisões', 'async', 'vence', 'herdar', 'passivo', 'sem', 'voltadas', 'acorda', 'adotar', 'configurados', 'junto', 'continue', 'diferencie', 'falada', 'estóico', 'acentos', 'jogadora', 'português', 'especialistas', 'ocorrências', 'reconhecidos', 'permanece', 'qq', 'reclamações', 'capacitam', 'compartilhar', 'barulhos', 'abstratas', 'associarr', 'gerindo', 'algumas', 'grandes', 'dificultam', 'apresentador', 'insignificante', 'adsense', 'compreendermos', 'tornasse', 'maria', 'technologies', 'greensock', 'pensando', 'aventuras', 'k', 'support', 'memorizar', 'aprovação', 'espécies', 'maya', 'ameaças', 'usufruir', 'migrei', 'application', 'shell', 'tcp', 'apresentada', 'retornasse', 'trancado', 'fáceis', 'baratas', 'fiel', 'esplendor', 'impulso', 'investigação', 'elaborasse', 'pipocar', 'relembramos', 'precisamente', 'lançamos', 'ambiguidade', 'virtualizar', 'atende', 'pegaria', 'competente', 'explorados', 'representado', 'homologado', 'mediatr', 'papo', 'descrevem', 'ambas', 'virtualização', 'keepass', 'estrangeiros', 'ionic', 'conseguido', 'subordinação', 'sorteamos', 'comprometeu', 'lollapalooza', 'chaveiro', 'ativação', 'preciso', 'chat', 'subtópicos', 'fornecia', 'runtime', 'cta', 'explícito', 'controlada', 'tom', 'tamanho', 'ano', 'agendamento', 'visualmente', 'performático', 'presentes', 'surgirá', 'largando', 'latim', 'pincéis', 'autêntica', 'autentição', 'doidice', 'desencorajando', 'tabs', 'internautas', 'systems', 'pcs', 'sincronizado', 'iterar', 'procrastinação', 'converse', 'exibidos', 'alegre', 'ocorrer', 'fortuna', 'pontos', 'unstyled', 'bato', 'trabalharem', 'ignorado', 'prédios', 'arcoverde', 'link', 'freqüente', 'perguntar', 'educação', 'separo', 'sejam', 'técnico', 'saibamos', 'olx', 'barreira', 'remota', 'tive', 'citado', 'prazeroso', 'palco', 'voltarmos', 'quebra', 'estaremos', 'construídos', 'lan', 'dormir', 'fernandes', 'stuani', 'materializada', 'conheça', 'calculado', 'decresce', 'abas', 'rótulos', 'gírias', 'cobrança', 'esquematizando', 'aprimorados', 'restritos', 'servindo', 'ataques', 'descarregar', 'tenhamos', 'canse', 'fotorrealismo', 'compensar', 'panda', 'focando', 'espantado', 'blending', 'escrevem', 'dividia', 'reformada', 'prestam', 'respeitadas', 'aninhamento', 'profundidade', 'precisamo', 'acender', 'webpack', 'abstrai', 'true', 'benefícios', 'abrace', 'representamos', 'buffers', 'cadastrou', 'registrando', 'desenvolvia', 'encontremos', 'ante', 'queriamos', 'mudasse', 'multinomialnb', 'lesões', 'access', 'acontecido', 'cancelavam', 'resolveram', 'nestes', 'paula', 'facilitará', 'alimente', 'capaz', 'refenciar', 'robustos', 'semanalmente', 'campanha', 'indico', 'microinterações', 'oliveira', 'carga', 'so', 'aproveitamos', 'lindos', 'interoperabilidade', 'intercâmbio', 'morar', 'esquecendo', 'valioso', 'devemos', 'concebido', 'lineares', 'ordenado', 'herde', 'transformam', 'sinceramente', 'recomendações', 'ponderada', 'esportivos', 'dá', 'estudado', 'compensação', 'desenvolveram', 'pressionadas', 'desculpas', 'inversão', 'horizonte', 'editor', 'tweet', 'contrataram', 'abraçaram', 'precisar', 'clonar', 'direção', 'difundidas', 'embasamento', 'comprador', 'elevada', 'ótimo', 'valiosas', 'preencha', 'análises', 'levantarmos', 'instância', 'diagnosticarem', 'totalizadores', 'prodesp', 'vinculado', 'coloridas', 'corporativa', 'jpa', 'y', 'ducs', 'deviantart', 'match', 'pandas', 'encaminhemos', 'jeferson', 'ator', 'mudar', 'cotidianamente', 'endereçamento', 'contagem', 'fatura', 'posso', 'espécie', 'sigilosos', 'raw', 'mundo', 'aparecesse', 'possibilitam', 'agregar', 'única', 'mitos', 'rígidos', 'redação', 'enquadramento', 'valoriza', 'configurar', 'células', 'restritivo', 'aprofundada', 'econômico', 'custava', 'proporções', 'selecionamos', 'comportamentos', 'dry', 'olimpíadas', 'alterarmos', 'maluca', 'sobrinha', 'efusivos', 'convidar', 'encontra', 'limitações', 'atuar', 'gaste', 'files', 'photoshop', 'expansão', 'terem', 'superficial', 'vibrantes', 'artboard', 'contextualização', 'marco', 'convencendo', 'intensificar', 'modernizar', 'daquelas', 'query', 'tentava', 'canais', 'fotografia', 'intervenção', 'tirasse', 'topou', 'ocasional', 'intlprovider', 'drive', 'empolgantes', 'adequaria', 'escondeu', 'diagramação', 'voltando', 'domingo', 'listagem', 'inspirada', 'dele', 'sobrescrever', 'nascimento', 'array', 'montado', 'mereço', 'mágico', 'rivendel', 'avaliou', 'sobrescritos', 'aproveitamento', 'escultura', 'enxuto', 'aplicações', 'surpreendente', 'avisar', 'cachorros', 'curiosidades', 'explicamos', 'agrupam', 'number', 'horacio', 'python', 'abrindo', 'simbólica', 'trocando', 'mexer', 'gastos', 'precisarmos', 'aplicação', 'orestes', 'formatamos', 'tire', 'empecilhos', 'comprados', 'modificarmos', 'imersivos', 'integrada', 'associativo', 'divertido', 'arredondar', 'suas', 'sérios', 'impactante', 'mood', 'pwa', 'bobeou', 'pedras', 'sentança', 'documentários', 'razoavelmente', 'compreensão', 'daremos', 'formar', 'caracteristica', 'fugiu', 'multiplataforma', 'calibragem', 'autodidata', 'feriado', 'turnos', 'glória', 'divulgou', 'recorre', 'administrativa', 'tempero', 'carrega', 'recrutamos', 'trilhou', 'assinam', 'gratificante', 'mantidos', 'zappos', 'compostas', 'estruturas', 'comprará', 'simplifica', 'tomei', 'cotação', 'multimídias', 'interferir', 'goudy', 'charge', 'maluco', 'response', 'difusão', 'roubados', 'experimentar', 'fellipe', 'xkcd', 'sociologia', 'modos', 'dificil', 'conceito', 'fogem', 'definiram', 'aspas', 'circulação', 'entenderia', 'effects', 'andré', 'alteramos', 'sólido', 'avaliação', 'mandaria', 'políticas', 'certificações', 'protagonistas', 'interagiam', 'links', 'validados', 'named', 'volta', 'críticas', 'sacadas', 'norma', 'buzinar', 'algorithm', 'pedido', 'gutter', 'inesperada', 'boom', 'partes', 'introdutórios', 'arredondada', 'destacado', 'acima', 'burlar', 'montadas', 'pageviews', 'html', 'passarmos', 'perigoso', 'apollo', 'cortes', 'inteiro', 'launcher', 'permitido', 'transformados', 'filosóficas', 'ubuntu', 'walkman', 'receber', 'widgets', 'animar', 'aprofunde', 'regrinha', 'junte', 'elevarão', 'convide', 'pensava', 'sao', 'história', 'câmara', 'declararmos', 'irmão', 'modernidade', 'impressas', 'gestos', 'classifica', 'escolheru', 'opensource', 'guardamos', 'comenta', 'pecando', 'shinobi', 'cristiano', 'iniciada', 'opta', 'lançadas', 'biografia', 'glimmer', 'permanecem', 'octeto', 'soquetes', 'curso', 'dedicados', 'cientificamente', 'estruturação', 'termômetro', 'desativado', 'american', 'aonde', 'newcastle', 'adotam', 'alinhada', 'locomoção', 'comportamente', 'garantirmos', 'saltando', 'familiaridade', 'atribuam', 'obtém', 'count', 'proveito', 'subtítulo', 'reduzindo', 'voltavam', 'diretoria', 'captada', 'testei', 'promovem', 'recapitulada', 'gostariam', 'desespero', 'moldada', 'cpc', 'hospeda', 'mantemos', 'produzirem', 'espalhadas', 'dividimosessa', 'utilizaremos', 'aprofundará', 'opportunities', 'comerciantes', 'interferência', 'térreo', 'citou', 'beneficiando', 'paralela', 'anda', 'deixaria', 'corretos', 'através', 'referindo', 'inconsistentes', 'certificarmos', 'de', 'orientam', 'daily', 'layout', 'desaparecem', 'passaram', 'informalidade', 'surpreendentes', 'xd', 'ligação', 'futurísticas', 'itil', 'churn', 'organizar', 'buscados', 'citação', 'knoll', 'respondia', 'negligenciado', 'requerem', 'convenção', 'alterou', 'fluídos', 'vê', 'participou', 'falado', 'almoços', 'settamos', 'sets', 'certa', 'mantinham', 'proatividade', 'requestbody', 'have', 'world', 'blur', 'ampliadas', 'trocado', 'chefes', 'long', 'ápice', 'adicionei', 'garanto', 'invertendo', 'móvel', 'server', 'organizadas', 'considerar', 'getmapping', 'linkagem', 'sobrecarregaria', 'realizamos', 'testes', 'evitando', 'comando', 'customização', 'viewcontroller', 'fenômeno', 'praticas', 'enfatizado', 'contratavam', 'descadastrar', 'recolocação', 'layers', 'depende', 'êxito', 'confiar', 'pilares', 'típicos', 'degrau', 'predição', 'monochromatic', 'desenhe', 'censurar', 'sobrescrito', 'mudado', 'temidas', 'definir', 'conteúdos', 'propor', 'trilhas', 'objetivo', 'formada', 'demonstrarão', 'industrial', 'cobrado', 'concluí', 'jacqueline', 'camisa', 'semianonimato', 'vendedores', 'rgb', 'saído', 'eleja', 'maior', 'comemorado', 'dao', 'jornalismo', 'aparece', 'autossuficiente', 'trilham', 'brincou', 'instrumentação', 'aplicado', 'consolidado', 'reescrever', 'mencionei', 'influencia', 'pinte', 'tenta', 'diferenciadas', 'abstrações', 'bater', 'femininas', 'brastemp', 'transporta', 'adquirem', 'tantas', 'hostname', 'monitoramento', 'subscriptions', 'abiguidades', 'fila', 'inteligência', 'pareamento', 'controversa', 'analogias', 'giovana', 'regule', 'situação', 'annotation', 'determinado', 'gradientes', 'repensando', 'cultuando', 'potencializando', 'perceberemos', 'inusitadas', 'mente', 'somarmos', 'mantêm', 'associei', 'futebol', 'rentabilizar', 'revelando', 'completar', 'iniciação', 'convir', 'estipulado', 'assignment', 'conhece', 'trouxermos', 'formas', 'javascript', 'conferida', 'errada', 'abertamente', 'pastas', 'praia', 'implementei', 'heroína', 'session', 'humanizada', 'eventualmente', 'vuca', 'subiria', 'arrays', 'teclado', 'pureza', 'famosa', 'cuida', 'reservados', 'kkk', 'chamará', 'adyen', 'calhar', 'encarando', 'crase', 'inclusive', 'fundadores', 'recorrer', 'redimensionará', 'relativo', 'automação', 'declarativa', 'acham', 'rota', 'bugs', 'usuários', 'isolando', 'temperatura', 'contextual', 'integrantes', 'horrível', 'precisariamos', 'transitar', 'levado', 'taxonomia', 'moderador', 'usou', 'shamir', 'errava', 'tido', 'trocam', 'cinco', 'sinta', 'estudando', 'batchelder', 'capacitarem', 'validarmos', 'sysout', 'apoiada', 'desencontro', 'gerem', 'tiffs', 'touchscreen', 'motocicleta', 'terminaria', 'ressaltar', 'igtv', 'rodrigo', 'grandinho', 'correria', 'competição', 'debian', 'cognitiva', 'caracter', 'channels', 'interromperem', 'fugir', 'alimento', 'man', 'trunfos', 'autointitulam', 'marina', 'pages', 'recém', 'cerca', 'aplicávamos', 'modificações', 'antigamente', 'morava', 'exportação', 'virtude', 'carência', 'peculiares', 'repassar', 'aproveitado', 'descumprimento', 'bits', 'rafael', 'percebo', 'precisará', 'contratar', 'reservada', 'exibir', 'havia', 'separou', 'indisponíveis', 'rotate', 'icônica', 'resuma', 'direto', 'prejudicial', 'gastam', 'aprimorar', 'domine', 'vs', 'prodabel', 'protegemos', 'afetam', 'cientistas', 'viram', 'classificar', 'duplique', 'históricos', 'incluímos', 'pedindo', 'parecia', 'magazine', 'afazeres', 'deixando', 'conduzir', 'ror', 'conversarmos', 'desafiador', 'atendidos', 'oferecerá', 'merece', 'desloca', 'bônus', 'vmin', 'luta', 'aproveita', 'vou', 'genealógica', 'us', 'extras', 'trabalha', 'colar', 'provando', 'buda', 'geradores', 'entenda', 'chamava', 'vitor', 'gravam', 'descrevi', 'resgatando', 'alias', 'instrutores', 'emaranhado', 'sozinho', 'precise', 'ganharem', 'pretendem', 'compilou', 'carta', 'torrents', 'aquisição', 'processador', 'corresponder', 'nltk', 'percentual', 'soluciona', 'extensível', 'viral', 'lógico', 'flexbox', 'estático', 'felizes', 'siga', 'colando', 'sabermos', 'saudáveis', 'abandonou', 'tutorial', 'dever', 'tipo', 'representará', 'round', 'brasileiros', 'dispositivos', 'possuo', 'produto', 'evitamos', 'achará', 'posse', 'referiremos', 'circular', 'direciona', 'georgia', 'comunidade', 'cleveroad', 'marcos', 'óbvias', 'mês', 'inédito', 'bitrate', 'respondemos', 'captar', 'setamos', 'backticks', 'votando', 'custosas', 'postgre', 'referenciar', 'sousa', 'cifras', 'lossy', 'motivador', 'ocupar', 'parando', 'xt', 'longos', 'venda', 'medindo', 'giphy', 'raciocínio', 'optou', 'carinhoso', 'cabeças', 'jogo', 'total', 'produzidos', 'alinha', 'sobre', 'estudou', 'centenas', 'scheme', 'gestões', 'recordo', 'curricular', 'concentrador', 'presença', 'geométricos', 'priorizar', 'iniciando', 'bases', 'elevando', 'maiúsculos', 'injection', 'elabora', 'senão', 'players', 'identificadores', 'confusa', 'transmitem', 'imersa', 'infinitas', 'escassos', 'soasse', 'fabrica', 'código', 'imersões', 'desnecessárias', 'campinas', 'responsivos', 'andrew', 'ainda', 'besteira', 'grande', 'operation', 'governamental', 'assinando', 'repetiu', 'notebook', 'z', 'haha', 'desgrenhados', 'eureca', 'cobol', 'meados', 'lutando', 'rotulação', 'dedica', 'inferido', 'decodificação', 'optem', 'privativa', 'center', 'encarecerá', 'protocolo', 'perseverança', 'diziam', 'reconhecida', 'entendem', 'definitiva', 'esperado', 'constitui', 'renovada', 'recrutador', 'consumido', 'espaçados', 'copiou', 'bancárias', 'cintos', 'peça', 'movimentar', 'incêndio', 'espaçarmos', 'difundidos', 'creative', 'musicais', 'polly', 'centralizados', 'ousado', 'leonard', 'escritórios', 'esquecer', 'feita', 'cumpridos', 'pythônico', 'deu', 'virais', 'grand', 'detalhada', 'deparamos', 'feche', 'músicas', 'enormes', 'complicar', 'arredondaremos', 'pratique', 'imprimir', 'despesa', 'atualizado', 'push', 'pedi', 'incubidos', 'citada', 'estiver', 'roupão', 'café', 'ocorram', 'contatar', 'buscando', 'pagando', 'direcionou', 'favoráveis', 'forma', 'cujo', 'carlos', 'estuda', 'pegador', 'bastar', 'reprodução', 'relacionada', 'cadastrados', 'malfeita', 'adicionam', 'quantitativos', 'delivery', 'geladeira', 'operadora', 'emoções', 'hábitos', 'suportava', 'certificados', 'implica', 'crie', 'jtextformattedfield', 'vendemos', 'imaginar', 'consegue', 'amigo', 'fornecem', 'débitos', 'fotografando', 'descobriram', 'puts', 'iniciante', 'carroça', 'buscasse', 'tal', 'maquete', 'continuaram', 'cortando', 'proporcionou', 'contínua', 'rentável', 'sujeitos', 'brainstorm', 'pedro', 'debates', 'economizou', 'apropriadamente', 'metrô', 'cooperação', 'matriculados', 'von', 'ultimate', 'controlável', 'terra', 'traçamos', 'exigido', 'pontapé', 'walkthrough', 'gráfica', 'amostragem', 'valeria', 'sofrer', 'impliquem', 'padronizado', 'próxima', 'intimidade', 'particionar', 'resumir', 'galeria', 'early', 'sucessor', 'preparatória', 'referenciada', 'vasto', 'ensolarado', 'continuará', 'testarmos', 'nosso', 'programação', 'academia', 'vigente', 'codec', 'somem', 'testaram', 'delimitamos', 'topologia', 'grosso', 'valer', 'xkymov', 'sutis', 'cobrada', 'estudos', 'instance', 'inspecionarmos', 'perguntaram', 'auxílio', 'fortaleceram', 'umaa', 'greenary', 'conseguissem', 'whom', 'linus', 'nativas', 'disciplina', 'pokemons', 'atrapalhado', 'permanente', 'curtas', 'adivinhar', 'metodista', 'ilustrador', 'cinemas', 'webmaster', 'chocolates', 'verificarei', 'inspiracionais', 'vislumbra', 'renomado', 'definindo', 'escolhemos', 'website', 'vh', 'svelte', 'baseando', 'inativo', 'utilizem', 'atendentes', 'clickheat', 'contraprodutivas', 'concatenar', 'discuta', 'supervisor', 'raio', 'brincar', 'dança', 'determinar', 'sensei', 'implicaria', 'completadas', 'licenciadas', 'direcionáveis', 'brett', 'ferramentas', 'particularidades', 'stickers', 'retirarmos', 'análise', 'houdini', 'beneficia', 'importantíssima', 'acompanhará', 'spacex', 'treinamento', 'empate', 'pedidps', 'jonathan', 'hemocentros', 'baseados', 'destacam', 'secretos', 'substituição', 'símbolo', 'pendrives', 'lower', 'interessam', 'inundado', 'empacotando', 'prontamente', 'companhias', 'confundido', 'van', 'simplificado', 'eficazes', 'informam', 'intervir', 'abandonados', 'mania', 'intent', 'especificam', 'prestem', 'envolvendo', 'disponibilizei', 'membros', 'eleita', 'galera', 'executivos', 'versionado', 'descontextualizados', 'perceber', 'catarina', 'redirecionar', 'hints', 'permanentemente', 'instituído', 'vendor', 'nata', 'parceiros', 'escola', 'seja', 'singulares', 'visual', 'disputava', 'arial', 'forçará', 'pessimista', 'vamos', 'alert', 'totalizar', 'proibido', 'unem', 'futuras', 'positiva', 'interagindo', 'vieira', 'progredir', 'diários', 'agradecer', 'ativados', 'outro', 'desses', 'função', 'infraestrutural', 'continuassem', 'probabilidade', 'invasor', 'storyboard', 'progressão', 'prototipagem', 'serviriam', 'econômicas', 'estabeleça', 'perceba', 'fujam', 'recorrendo', 'virtuoso', 'listaria', 'aprovado', 'recebo', 'conste', 'andares', 'medieval', 'utilizarem', 'cuja', 'promoveu', 'frontinpoa', 'invadida', 'extremos', 'ouça', 'embora', 'encaixava', 'forças', 'delimitadas', 'auxiliar', 'bootcamps', 'concurso', 'metálicos', 'aumentarem', 'compartilhou', 'matenha', 'adquirirá', 'genuinamente', 'locadora', 'impulsiva', 'áustria', 'protocólos', 'incidentes', 'switch', 'comentadas', 'pincel', 'usamos', 'fuso', 'universos', 'missões', 'decidimos', 'adeque', 'variam', 'subcamadas', 'vilaça', 'aprimoraram', 'nítido', 'aumentada', 'pq', 'turbilhão', 'estimará', 'convertido', 'regulada', 'obtidos', 'pugliesi', 'place', 'rebaixamento', 'qualificar', 'dilema', 'chamada', 'rossum', 'arriscam', 'segurança', 'mantis', 'zip', 'colaboro', 'dadas', 'enviar', 'pad', 'gerais', 'verticalmente', 'zumbis', 'justamente', 'seres', 'grito', 'customizada', 'conceitual', 'ipods', 'determinando', 'movile', 'adequados', 'às', 'pratos', 'orelha', 'c', 'inesgotável', 'carvalho', 'veracidade', 'getyears', 'preenchemos', 'megas', 'consumidos', 'comunicações', 'module', 'pesos', 'desejou', 'dedique', 'nossas', 'conceber', 'caetano', 'atingir', 'devolvido', 'semana', 'destinatário', 'fluiu', 'graça', 'acomodação', 'interrupções', 'descompactar', 'completamos', 'compreendem', 'falsos', 'pngs', 'pagas', 'caro', 'comparada', 'direitos', 'difuso', 'estaríamos', 'gentilmente', 'existiu', 'revela', 'vale', 'modelo', 'buscava', 'aprofundei', 'asp', 'melhorados', 'sorteios', 'coeso', 'track', 'diminuímos', 'procurando', 'criativamente', 'estagnado', 'led', 'ocorreu', 'conversam', 'inesgotáveis', 'gabs', 'bélgica', 'leica', 'leva', 'direcionando', 'inspiradores', 'espinha', 'votar', 'construída', 'megabits', 'vários', 'simple', 'culturalmente', 'transformação', 'stories', 'mantenho', 'ampliamos', 'tecla', 'pixeis', 'mensageiros', 'descem', 'herdado', 'imaginemos', 'ranqueada', 'transformar', 'cujos', 'jurídic', 'oferecidas', 'sépia', 'tornava', 'concordância', 'ocasionando', 'prezamos', 'cima', 'escolha', 'hardware', 'emocionamos', 'conferências', 'obtido', 'demorando', 'chamamos', 'cantos', 'adotamos', 'humano', 'laranja', 'maravilha', 'experimentou', 'pensávamos', 'jogada', 'estilizando', 'invisíveis', 'devolva', 'amado', 'eficientemente', 'criptografado', 'testadas', 'nutrir', 'isolada', 'calma', 'lembrados', 'mobile', 'visitas', 'achamos', 'objectives', 'perucas', 'estruturando', 'convencional', 'esperados', 'atuam', 'related', 'remédio', 'folhetos', 'siglas', 'perfeitamente', 'toda', 'pobre', 'estéticos', 'storage', 'seguia', 'mãozona', 'questionário', 'atribuir', 'fases', 'implemente', 'comprem', 'rastreia', 'tranquilidade', 'beneficiado', 'entendidas', 'nico', 'cairão', 'começo', 'verdadeiro', 'enrolação', 'desfazer', 'ia', 'álbum', 'sinuca', 'previammente', 'vendidos', 'sigilosas', 'tons', 'dezembro', 'surpreender', 'experimentarem', 'tomcat', 'dona', 'magno', 'traduzidos', 'deleta', 'abertos', 'gabriel', 'mensalidade', 'otimizados', 'verificarmos', 'robôs', 'pedir', 'entreter', 'imports', 'variedade', 'kanban', 'virá', 'desejava', 'promocionais', 'título', 'comprometido', 'externo', 'experiente', 'separação', 'instrutor', 'relevante', 'recomendados', 'animais', 'identificações', 'tasks', 'cordova', 'luxo', 'alpha', 'pesquisada', 'virou', 'terminadas', 'aumentos', 'arriscado', 'enxutos', 'descritos', 'freelance', 'disparado', 'espaço', 'ampliação', 'focasse', 'faria', 'filtrar', 'tópicos', 'destravar', 'perfeito', 'usuario', 'herdamos', 'utc', 'dão', 'prevalência', 'publicadas', 'sonda', 'intermediária', 'requisitarem', 'transtorno', 'libras', 'acarretar', 'evoluções', 'read', 'elogiou', 'condigam', 'neutros', 'recrutam', 'deparando', 'usarei', 'cobit', 'conheciam', 'pretendido', 'pouquíssimas', 'acione', 'adquiridas', 'clientes', 'burocracia', 'clicktale', 'discurso', 'dain', 'campo', 'distorções', 'exagero', 'nulos', 'adotem', 'bandeiras', 'encapsulam', 'limparem', 'jamais', 'predizer', 'destaques', 'desabilita', 'sabemos', 'descritas', 'controlado', 'audio', 'cobrar', 'habituado', 'assíduo', 'primeiramente', 'organizam', 'abordado', 'extensão', 'mapeada', 'problemática', 'silenciosos', 'janeiro', 'demoradas', 'comparar', 'diminuindo', 'aquilo', 'esteticamente', 'setado', 'armazenadas', 'fazermos', 'atrasaram', 'sugeria', 'aparentemente', 'localizava', 'escutam', 'concluir', 'imaginado', 'descrevendo', 'cheios', 'empregado', 'reste', 'criador', 'substantivos', 'repassado', 'raramente', 'envio', 'improvement', 'anotação', 'admitiu', 'pittner', 'mesmice', 'primitivo', 'desenha', 'comportamento', 'desenhado', 'ambientar', 'times', 'pilates', 'alimentarão', 'atrelamos', 'clipes', 'aquatic', 'introduzido', 'vasculhadas', 'consigam', 'regex', 'ocorreram', 'singapura', 'círculo', 'separei', 'pesquisarmos', 'composer', 'techtudo', 'obrigados', 'segurar', 'escolas', 'enxergar', 'imprima', 'tensão', 'rapidamente', 'comprometa', 'fizessem', 'address', 'chefe', 'planejada', 'similaridade', 'animação', 'display', 'votados', 'nivela', 'esbarre', 'múltipla', 'arrumado', 'disciplinas', 'gerou', 'monitores', 'twitter', 'estrutura', 'tome', 'parceria', 'atraso', 'hoisting', 'setters', 'irresistíveis', 'orgânica', 'produzem', 'sobrescrevem', 'lanches', 'toyota', 'interceptando', 'rótulo', 'comemorar', 'lealdade', 'encerrados', 'reorganizadas', 'desiste', 'capacitando', 'muiot', 'sacrifícios', 'harvard', 'atendam', 'dosar', 'bolas', 'maciça', 'submetido', 'independência', 'lix', 'civil', 'aliar', 'profissionalismo', 'apresentação', 'atualidade', 'atentas', 'vivíamos', 'agregado', 'evitáveis', 'monoespaçadas', 'rápida', 'utiliza', 'brusca', 'automatizados', 'personalizados', 'complicadinha', 'locução', 'pdo', 'networking', 'acréscimo', 'diminuimos', 'algoritmos', 'superadas', 'duração', 'imediatas', 'metade', 'atingível', 'parque', 'gravação', 'extrai', 'personalizando', 'encontrarão', 'pesadas', 'sofrerão', 'navegação', 'pseudoelementos', 'correspondem', 'notável', 'possibilitada', 'complicados', 'facilidade', 'separado', 'extensões', 'específicado', 'fridayfonts', 'sacada', 'desfecho', 'rollback', 'acampamento', 'acionado', 'phpspec', 'escopo', 'luminária', 'rt', 'disponibilização', 'tipográfico', 'dai', 'garanta', 'paradas', 'skype', 'desafíos', 'kennedy', 'aquisitivo', 'divididos', 'fôssemos', 'suspeitos', 'reatribuir', 'breves', 'empurrar', 'refazer', 'compatível', 'emitem', 'empolgando', 'negociação', 'precedência', 'considerada', 'binário', 'deuteranopia', 'dispersão', 'identidade', 'filtros', 'alterem', 'helvetica', 'custoso', 'frustrar', 'economizar', 'mercadoria', 'campeã', 'seguidos', 'apegando', 'imaginário', 'lea', 'aos', 'existiam', 'planejamentos', 'sazonais', 'levantamentos', 'produtora', 'refinamento', 'hereby', 'ditando', 'package', 'compiladores', 'ícones', 'exatas', 'tex', 'usuarios', 'largo', 'exemplificar', 'acabar', 'programinha', 'phar', 'princípio', 'encaixando', 'enfrentados', 'idioma', 'eventual', 'pe', 'nela', 'autoelogios', 'apareceu', 'conheceu', 'a', 'philps', 'seção', 'reciclagem', 'cadernos', 'primary', 'relacionados', 'demoram', 'física', 'cinto', 'executor', 'expulso', 'rico', 'especifique', 'impulsiona', 'retornava', 'especializado', 'www', 'códigos', 'evoluem', 'michigan', 'identificar', 'infraestrutura', 'diretrizes', 'pretendemos', 'room', 'caminha', 'postarei', 'possibilitou', 'incluírmos', 'listeners', 'lindão', 'adquirirem', 'vêm', 'thoughtworks', 'formatar', 'relativas', 'conversion', 'assíncronas', 'apareçam', 'permanência', 'abordou', 'lojas', 'rotineiras', 'configuration', 'expulsando', 'divertidíssimo', 'replaceall', 'startup', 'largado', 'repetidas', 'usava', 'dez', 'latência', 'descompressão', 'máscara', 'regionais', 'submetemos', 'paradiso', 'podíamos', 'estrada', 'create', 'tomada', 'apresentem', 'convenientes', 'maravilhas', 'entrar', 'contrastantes', 'perfomance', 'mapeamento', 'cômodo', 'instantâneos', 'pegando', 'campus', 'operator', 'get', 'spool', 'complex', 'nick', 'arraste', 'participar', 'malha', 'imbatíveis', 'relacionamos', 'eletrodomésticos', 'utilizou', 'unha', 'webserie', 'frias', 'lenda', 'microsoft', 'acirrada', 'alcançados', 'symfony', 'referir', 'faltou', 'microlearning', 'separarmos', 'promove', 'termos', 'cpf', 'artigo', 'hash', 'resolveu', 'capturada', 'juno', 'assimetria', 'casos', 'perderia', 'margin', 'autoral', 'cabeça', 'chamando', 'virão', 'conceituando', 'devops', 'clonagem', 'misture', 'dell', 'jornalistas', 'continuaríamos', 'arsenal', 'apaga', 'assistidas', 'closure', 'sobra', 'lembrava', 'enumeramos', 'alinhando', 'signos', 'ribeiro', 'implicações', 'hijack', 'contêm', 'insistir', 'prejuízo', 'teletransportando', 'intervalo', 'cultural', 'variando', 'chaves', 'guardado', 'computing', 'gzip', 'sete', 'aviso', 'concluida', 'aprofundados', 'dizia', 'ranquear', 'krominski', 'ativamente', 'polygonal', 'observei', 'compreensões', 'contribuam', 'atrapalham', 'analisar', 'foi', 'achavam', 'priorizando', 'combinem', 'anota', 'posicionar', 'míriade', 'mostramos', 'ótica', 'ferrari', 'massivamente', 'domésticos', 'mágica', 'guj', 'shutterstock', 'coordenada', 'massificação', 'falso', 'netflix', 'finish', 'ritual', 'guerra', 'crime', 'estendem', 'servidos', 'pesaria', 'uncertain', 'recorte', 'regulado', 'certificada', 'cartunista', 'solidária', 'marketeiros', 'bastante', 'empolgados', 'cmyk', 'hastes', 'bindvalue', 'discrepantes', 'websphere', 'criativa', 'espontânea', 'administração', 'telemarketing', 'token', 'recortar', 'before', 'usada', 'estadunidenses', 'alocação', 'funcionarem', 'h', 'rolaram', 'nn', 'transferir', 'dizem', 'decisões', 'vá', 'am', 'jack', 'citei', 'hotmail', 'iguais', 'passageiros', 'eficiência', 'mac', 'clicamos', 'reproduzir', 'deal', 'transactions', 'whereby', 'ausência', 'novatos', 'cromáticas', 'decorativas', 'artes', 'progressivos', 'partimos', 'princípios', 'profissional', 'papel', 'menor', 'prestar', 'ensinando', 'ax', 'óbvio', 'semânticos', 'iluminar', 'negligencie', 'setattribute', 'responderia', 'registramos', 'comecinho', 'realeza', 'recrutar', 'emblemática', 'trigger', 'puro', 'pisa', 'adotavam', 'impedimento', 'listview', 'simétricas', 'chance', 'dízima', 'comprovado', 'primordiais', 'imp', 'detalha', 'localizar', 'invasores', 'resuminho', 'confúcio', 'diga', 'project', 'finalizou', 'maker', 'ffffff', 'classificações', 'atrapalhe', 'houses', 'baixar', 'estruturada', 'impactos', 'esperadas', 'engenheira', 'corridos', 'convidada', 'embasada', 'celular', 'mencionem', 'semanal', 'desenhadas', 'conhecido', 'catmull', 'capacitação', 'distribuindo', 'preenchido', 'destacaram', 'praticam', 'condução', 'block', 'inicializadas', 'fraca', 'recebimento', 'spoiler', 'parece', 'memorizamos', 'silent', 'suportaríamos', 'doarmedula', 'tangíveis', 'ela', 'motivados', 'varejista', 'planejado', 'delegated', 'péssima', 'sentiria', 'desconsiderado', 'num', 'algum', 'devidos', 'operam', 'bobagens', 'festivas', 'abuse', 'julius', 'entregar', 'indiscriminadamente', 'condicionais', 'horror', 'estreitar', 'comprometimento', 'restaurante', 'arbitrário', 'li', 'simone', 'boot', 'geralmente', 'umbigos', 'legais', 'margens', 'próximos', 'produtosrepository', 'comunicarem', 'doutorados', 'execução', 'default', 'restcontroller', 'animadores', 'bilheteria', 'esperança', 'processamento', 'queues', 'jogado', 'comunicado', 'trabalhosa', 'mostraremos', 'lembrado', 'encerrada', 'contratuais', 'animados', 'cobriria', 'listadas', 'dia', 'entramos', 'prisional', 'sofrerá', 'security', 'propagadas', 'promissor', 'reinventar', 'microaudiência', 'depois', 'dogmas', 'serps', 'ótimos', 'chapeuzinho', 'barack', 'buzzstream', 'qualitativos', 'vmware', 'grasetti', 'devolvem', 'face', 'apertando', 'turbulência', 'reivindicar', 'lote', 'agendas', 'subconsulta', 'discernimento', 'tremendo', 'redirecionamos', 'integradinho', 'desafiando', 'oportunidade', 'brand', 'apresentava', 'comunidades', 'vulnerabilidades', 'motivações', 'adam', 'publicação', 'pesagem', 'atrai', 'bateram', 'desvia', 'repetido', 'teletransportar', 'brinde', 'essas', 'vincularmos', 'imprimirmos', 'marcadores', 'éramos', 'paciente', 'ips', 'realizarmos', 'coberturas', 'implicará', 'transponibilidade', 'despreparados', 'chama', 'tira', 'queridinhos', 'descobriremos', 'luz', 'pay', 'larga', 'restaurados', 'curto', 'aceita', 'mãos', 'postou', 'assíncrono', 'ries', 'rems', 'linguages', 'colocamos', 'ponta', 'tríade', 'nativa', 'bloqueios', 'gasta', 'álbuns', 'animadas', 'tem', 'renovado', 'chateada', 'continuidade', 'sério', 'exibindo', 'conectividade', 'produzirá', 'oposta', 'honras', 'obriga', 'notifica', 'clusters', 'principiante', 'contidos', 'golang', 'inusitado', 'desconectado', 'calcularmos', 'vibram', 'compartilhamos', 'modificamos', 'participado', 'pontas', 'polidas', 'weaknesses', 'preparo', 'adobe', 'workarounds', 'consome', 'representações', 'engrenagem', 'ng', 'utilizadas', 'recência', 'conceitos', 'forneçam', 'contarem', 'potencializadas', 'minimizar', 'globais', 'optarem', 'celulares', 'inteiros', 'desvincularmos', 'forem', 'empreender', 'melhorando', 'barco', 'chrome', 'doida', 'governança', 'inválida', 'pararam', 'lidos', 'acaso', 'alegando', 'inseguro', 'informativos', 'ensinamentos', 'número', 'deslizando', 'dedicar', 'paraná', 'selfies', 'páginas', 'parecida', 'isolados', 'definidas', 'separa', 'irão', 'mix', 'traz', 'soma', 'extraímos', 'continha', 'descriptografar', 'chegam', 'rincon', 'aceitei', 'ofereça', 'mascara', 'guiados', 'manipulável', 'encapsulamento', 'comportar', 'expose', 'atentos', 'motivadas', 'salas', 'some', 'confiáveis', 'consideravelmente', 'importante', 'monetários', 'conta', 'mexemos', 'edições', 'aprenderemos', 'meça', 'ofenda', 'redesenhando', 'surpreenda', 'bebida', 'optamos', 'parada', 'setcor', 'olhe', 'onboarding', 'segmentado', 'incalculável', 'experimentaram', 'frameworks', 'recorremos', 'reverberação', 'demonstrará', 'possuímos', 'tempestade', 'ruins', 'tap', 'trouxe', 'improve', 'gerado', 'franca', 'requisitados', 'lei', 'switchport', 'noite', 'sobreviverem', 'rio', 'dispensa', 'claudinei', 'engajada', 'desviar', 'quadro', 'elevador', 'textões', 'médios', 'planejamos', 'developers', 'ilimitada', 'executassem', 'justo', 'joins', 'realizei', 'imprescindíveis', 'divertir', 'gambiarra', 'tuplas', 'voga', 'declarações', 'boba', 'hardwares', 'apresentou', 'skills', 'edgehtml', 'enganar', 'competitivas', 'conteudo', 'lançou', 'geométrica', 'fatal', 'reiniciado', 'modifica', 'gerada', 'blogueiros', 'acompanhando', 'arrisquei', 'difíceis', 'argumentam', 'vibrante', 'bitwise', 'raiz', 'efetuada', 'exibições', 'veículo', 'computadores', 'allowfullscreen', 'trafegarem', 'ver', 'competência', 'consultas', 'checamos', 'complexos', 'combinados', 'sintam', 'ti', 'formatadas', 'ora', 'seções', 'afinco', 'enriquecedora', 'abriu', 'aside', 'impulsivas', 'results', 'organizados', 'desse', 'afunilando', 'wireframes', 'gamificação', 'oferecemos', 'istrutores', 'sacrificando', 'rodada', 'eloi', 'vazamento', 'willis', 'condiz', 'alçar', 'ficariam', 'paro', 'open', 'demorará', 'orquestras', 'fotografe', 'seek', 'depararam', 'combinadas', 'oculto', 'interpretações', 'abro', 'perigosa', 'ocorrida', 'alguns', 'indicados', 'derivados', 'cite', 'estagnam', 'acerca', 'exista', 'canal', 'método', 'precisava', 'impressionante', 'piano', 'intrigado', 'especial', 'induz', 'relative', 'cm', 'alegam', 'encontraremos', 'contribuíram', 'sobrepõe', 'inclusão', 'traga', 'emails', 'ports', 'agregam', 'decidi', 'caminhar', 'outras', 'tornou', 'confiabilidade', 'jogavam', 'repeat', 'prepará', 'luiza', 'ingrato', 'assimilada', 'boleto', 'acomodam', 'invoca', 'moto', 'grautito', 'pimenta', 'rá', 'frutos', 'desanimador', 'adjustments', 'produzidas', 'apta', 'encaixam', 'começava', 'das', 'aproveitava', 'tratadas', 'tela', 'endindex', 'training', 'reed', 'seria', 'atitude', 'copiarmos', 'retornos', 'varre', 'drax', 'scheduled', 'encontram', 'liberal', 'piadas', 'mutante', 'resumido', 'yetis', 'contador', 'separam', 'candidatos', 'localmentes', 'engraçado', 'iterador', 'chegará', 'precisei', 'finlândia', 'direito', 'popular', 'kurt', 'salva', 'resumo', 'suprir', 'especializar', 'pegadinha', 'participarem', 'gravar', 'percorrem', 'substancial', 'assistir', 'tweepy', 'nomeadas', 'profundamente', 'sal', 'incomuns', 'escutado', 'canva', 'ocultos', 'modifier', 'ensine', 'consideráveis', 'redondo', 'afim', 'angeles', 'esquemas', 'notadas', 'parágrafo', 'agrada', 'testarem', 'concretas', 'impedia', 'destacando', 'executado', 'recessão', 'gold', 'inovadoras', 'units', 'omitido', 'mineiro', 'competitivos', 'blurry', 'exagerar', 'imovie', 'encher', 'furto', 'comics', 'desistindo', 'encapsulada', 'mudarem', 'arrow', 'possivelmente', 'cursam', 'funcionam', 'tristeza', 'questionar', 'compreender', 'usufrua', 'repositórios', 'aquecimento', 'comunica', 'desenhamos', 'durante', 'aleatório', 'transformou', 'multiplicando', 'impressa', 'quebrado', 'simultaneamente', 'desfoco', 'siri', 'modernização', 'celeron', 'advertia', 'baidu', 'continuem', 'brilharam', 'starbucks', 'tool', 'negus', 'anexados', 'fabricam', 'cumprimento', 'providenciar', 'conflicted', 'transform', 'picmonkey', 'torres', 'elas', 'levantei', 'lâmpadas', 'personas', 'planeje', 'filial', 'mandando', 'gerava', 'desejam', 'naturais', 'distinto', 'detecte', 'relaxar', 'destaca', 'jammers', 'sobrecargas', 'ideação', 'linearidade', 'daylight', 'interfere', 'adote', 'maiúsuclas', 'mentor', 'comprovar', 'executarmos', 'apoiado', 'corra', 'trocas', 'invertido', 'responde', 'englobando', 'sessões', 'vivenciamos', 'fazíamos', 'restringia', 'münsterberg', 'economizado', 'necessariamente', 'elemento', 'build', 'desejadas', 'freepik', 'artísticos', 'percurso', 'abalar', 'repelindo', 'class', 'edita', 'swinmurn', 'configure', 'reutilizável', 'lugares', 'trending', 'compondo', 'videoclipes', 'acessou', 'tupla', 'própria', 'adição', 'inflando', 'enfrentamos', 'concordo', 'reorganiza', 'alto', 'instâncias', 'transferência', 'remotamente', 'imprevisível', 'citações', 'fotográfica', 'reajuste', 'inicializada', 'razão', 'dedicam', 'podermos', 'estimação', 'distantes', 'plena', 'semelhante', 'circuit', 'preparação', 'fechado', 'acoplada', 'ficaria', 'engasgar', 'fórum', 'bebidas', 'lidarmos', 'xxi', 'tiff', 'vivenciar', 'indicaremos', 'sexta', 'use', 'unanimidade', 'bloqueados', 'didáticos', 'indiretamente', 'recursiva', 'mesmas', 'seloprocel', 'peding', 'elaboração', 'uber', 'constam', 'caprichada', 'pendência', 'faturamento', 'submarino', 'vejamos', 'pulse', 'energética', 'comuniquem', 'adianta', 'científicas', 'exigentes', 'te', 'conterá', 'revelava', 'juntei', 'autorais', 'bloqueando', 'específica', 'enfileiramento', 'roman', 'classificação', 'juntas', 'img', 'flow', 'desabilitada', 'enorme', 'artur', 'reduzido', 'buscarem', 'álgebra', 'tar', 'vazassem', 'kit', 'tiobe', 'oliver', 'adoção', 'reconhecerem', 'sugere', 'adicionados', 'julia', 'referenciais', 'linhares', 'memorização', 'enviaremos', 'customizáveis', 'emocionalmente', 'errados', 'admnistrativo', 'encapsula', 'surjam', 'colateral', 'prévia', 'meio', 'lucros', 'otimizada', 'lembremos', 'estavam', 'indicou', 'flatten', 'profunda', 'manufatura', 'penúltimo', 'prejudicando', 'reforce', 'examiner', 'matheus', 'enviam', 'comece', 'perguntarmos', 'impessoal', 'colocação', 'atuantes', 'copenhague', 'cometido', 'library', 'completei', 'trello', 'competirem', 'retratar', 'maratonas', 'verbete', 'personagens', 'banco', 'sabe', 'arrumar', 'incluindo', 'esperando', 'vezes', 'restringir', 'nullpointerexception', 'complemento', 'padronização', 'pacientemente', 'agradáveis', 'ativadas', 'dizerem', 'optimization', 'desejo', 'barreiras', 'cigarros', 'reduzem', 'estourar', 'lados', 'aceitar', 'casamento', 'alex', 'conscientização', 'detalho', 'trabalhasse', 'encurtada', 'celebramos', 'geekhunter', 'identificaram', 'léxico', 'acelerasse', 'impressione', 'imbatível', 'obama', 'acordo', 'by', 'evento', 'privada', 'depararem', 'empresário', 'flor', 'dedicamos', 'hábil', 'ordinal', 'festival', 'fecho', 'pessoal', 'rode', 'centralizamos', 'vertical', 'garantida', 'tour', 'quilos', 'setter', 'poliglota', 'óbvios', 'contatos', 'capa', 'construímos', 'elétricos', 'jogam', 'garagem', 'produtor', 'schartmann', 'div', 'informacional', 'diferençås', 'placeit', 'criam', 'concatenações', 'define', 'coreclr', 'luminosidade', 'sequenciais', 'elide', 'leves', 'bancário', 'reinventando', 'acervo', 'estas', 'inspirado', 'dados', 'opinião', 'salvo', 'solucionar', 'composição', 'rotular', 'específicamente', 'fidelizando', 'densidade', 'árdua', 'imprimindo', 'colônia', 'criativas', 'distorcidas', 'captura', 'compactação', 'emissão', 'jogar', 'comprimido', 'seide', 'mktg', 'gang', 'diminui', 'enduro', 'pula', 'movies', 'simulador', 'tipos', 'add', 'luana', 'subsistemas', 'colocaram', 'retomarmos', 'blend', 'forçamos', 'master', 'privacidade', 'uau', 'alexis', 'analisam', 'fundamentos', 'pareçam', 'refletir', 'diminuem', 'vendido', 'enviará', 'fã', 'recrutamento', 'enviou', 'possuí', 'acabadas', 'or', 'idea', 'todo', 'coringa', 'booleano', 'camisetas', 'errarmos', 'contidas', 'responsivas', 'deixe', 'risada', 'relógio', 'loseless', 'maiúscula', 'caractere', 'iterativa', 'ofensiva', 'assíncrona', 'elevadas', 'encaixar', 'resolvesse', 'monitor', 'coordenador', 'terminados', 'agrega', 'saímos', 'bytecodes', 'pequenos', 'oferecem', 'dobro', 'dessa', 'volto', 'hd', 'proteção', 'ilustrando', 'getpocket', 'brincadeiras', 'pendentes', 'atender', 'quadrinhos', 'companhia', 'cartas', 'gerados', 'comparação', 'fixtures', 'vinculadores', 'valido', 'rotativo', 'obrigatórios', 'reconheceu', 'authentication', 'reproduzida', 'melhorar', 'canta', 'jornada', 'identificam', 'películas', 'vai', 'possa', 'ventura', 'refatorando', 'exigirá', 'exploraremos', 'falhado', 'rígida', 'estude', 'frutas', 'voluntariosos', 'programadora', 'cirúrgico', 'aero', 'nascem', 'altera', 'tempinho', 'introversão', 'desapegar', 'funcionários', 'empatia', 'enctype', 'devolveria', 'cirill', 'eric', 'launch', 'estourasse', 'acordou', 'medico', 'polêmica', 'clássica', 'suspensão', 'seguir', 'dedicarmos', 'desempenhe', 'ondes', 'poupança', 'existirá', 'antiquado', 'inspirou', 'fértil', 'michel', 'paypal', 'rodei', 'desanimar', 'subpartes', 'redonda', 'ente', 'localizador', 'internamente', 'tentou', 'valorização', 'romance', 'mini', 'dizendo', 'automatizado', 'realizados', 'mundos', 'npm', 'dividor', 'trabalharemos', 'estabelecemos', 'marketplaces', 'atores', 'voltados', 'bash', 'péssimo', 'descuido', 'conscientizar', 'aprimoramentos', 'treinados', 'comprometer', 'desistir', 'facilitarem', 'lato', 'ouvido', 'carregados', 'experience', 'lida', 'bemmm', 'cofre', 'gonçalves', 'propagando', 'juntar', 'poluindo', 'border', 'lua', 'amp', 'presentear', 'chamarem', 'responsabilidades', 'íntimos', 'importantíssimas', 'contribui', 'construíamos', 'imensa', 'alertas', 'sqlite', 'tecladinho', 'pasta', 'diversidade', 'sucedidos', 'paciência', 'serão', 'conflitantes', 'facul', 'https', 'program', 'produzida', 'ajustam', 'estimular', 'daqueles', 'inversa', 'registrada', 'valide', 'ramos', 'granted', 'e', 'comparecer', 'desvanecido', 'consiste', 'diferenciam', 'compartilhe', 'comunicamos', 'exclusivos', 'rounded', 'inseridos', 'indignado', 'exibida', 'veio', 'estariam', 'dura', 'alienvalley', 'mariana', 'snippets', 'configura', 'portable', 'adm', 'trazer', 'importantíssimos', 'midias', 'enumerados', 'transformaria', 'universitárias', 'treina', 'dominantes', 'maçãs', 'desanime', 'procuram', 'materializar', 'tweenmax', 'tomarmos', 'porta', 'santa', 'tabu', 'possuísse', 'sairá', 'resolvem', 'patas', 'dinâmicos', 'embutido', 'devolve', 'languages', 'insatisfação', 'adabas', 'aspectos', 'investigar', 'bonés', 'neve', 'demande', 'solicitado', 'âmbito', 'confidencial', 'significam', 'permita', 'mon', 'formalizado', 'registrou', 'incluirá', 'aciona', 'processamos', 'imagem', 'quinta', 'formatos', 'série', 'compreensível', 'camaradagem', 'value', 'azar', 'event', 'legenda', 'proteger', 'mediano', 'exclama', 'sentar', 'curitiba', 'volte', 'apagados', 'holder', 'ideia', 'fidelizada', 'desejar', 'participa', 'playlists', 'guiado', 'subject', 'invasiva', 'declaradas', 'caracteriza', 'assinante', 'caminham', 'ma', 'economia', 'máximas', 'discordar', 'inexistente', 'aprimoradas', 'reduza', 'muro', 'atraído', 'fórmula', 'normalizadas', 'jeitinho', 'healing', 'knife', 'demonstraremos', 'escalar', 'utilizei', 'considerava', 'estudada', 'blindados', 'resposta', 'guilherme', 'chateados', 'compense', 'riscos', 'inicializamos', 'urgentemente', 'moovin', 'aí', 'acostumado', 'cabe', 'obturador', 'mudanças', 'invasivo', 'fiquemos', 'gostou', 'quinzenais', 'global', 'baixasse', 'estimativas', 'chute', 'texturização', 'resultante', 'impressões', 'trabalhos', 'repete', 'disso', 'escassez', 'compartilhada', 'melhora', 'apontar', 'atualizadas', 'shopify', 'canivete', 'inteiras', 'nasci', 'metas', 'enconding', 'atentamente', 'extraordinário', 'rejeição', 'cron', 'ilimitado', 'legião', 'liderando', 'fino', 'instantâneas', 'identificados', 'entregues', 'nomeie', 'montagens', 'julgar', 'prossegue', 'atenha', 'contado', 'escolhiam', 'lendário', 'criteriosas', 'modeladores', 'amenidades', 'coreldraw', 'integração', 'polêmicos', 'mostrarão', 'elaborados', 'colaborativas', 'whatsapp', 'esfriamento', 'tarifas', 'transborda', 'terços', 'namedtuple', 'permanecerá', 'ba', 'satisfação', 'poco', 'resta', 'estimulando', 'nos', 'charts', 'nulas', 'obrigatória', 'abusivo', 'quanto', 'blog', 'mind', 'teóricos', 'desaturate', 'varie', 'excel', 'imaginando', 'retornará', 'altas', 'coloquei', 'filosofia', 'ficarem', 'wolter', 'formatado', 'gestor', 'impecável', 'usaram', 'frustrante', 'perdemos', 'assina', 'processor', 'agrupamento', 'emuladores', 'esquisito', 'roteamento', 'manutenção', 'acento', 'maiúsculas', 'amadureça', 'enumerações', 'gravador', 'bot', 'retas', 'instrumento', 'diagramadas', 'capítulo', 'parcela', 'reformulando', 'rabisco', 'palavrão', 'doar', 'enfatize', 'molham', 'separações', 'fechamento', 'sentimentos', 'tchellita', 'koffka', 'solicitar', 'zueira', 'aumentam', 'spa', 'interpretam', 'luiz', 'montagem', 'si', 'casas', 'adaptação', 'sizeof', 'efetua', 'outdoors', 'hospedagem', 'daquilo', 'associando', 'deixada', 'amadurecerá', 'listarmos', 'suspeito', 'moderadores', 'complexidade', 'diagrama', 'yoga', 'assertivo', 'carros', 'json', 'proposital', 'implementa', 'xpto', 'detalhadamente', 'digitei', 'pus', 'horrores', 'reutilizada', 'minimalismo', 'encapsulado', 'didático', 'temas', 'bimestre', 'conversando', 'acentuação', 'visualizado', 'estará', 'cliquem', 'extremas', 'exposto', 'empreendimento', 'publica', 'desconfiança', 'misturas', 'agruparam', 'omariosouto', 'saborear', 'destinado', 'aproximarmos', 'utilizará', 'incluída', 'acumulada', 'atraia', 'agilizando', 'abortado', 'terminal', 'madeira', 'alinhe', 'identity', 'acrescente', 'colaboratory', 'deduzível', 'compartilhadas', 'alocado', 'período', 'registrar', 'comuns', 'contratam', 'operar', 'concluirá', 'econômica', 'quentes', 'legend', 'extração', 'movie', 'hmmm', 'pid', 'cantores', 'cravados', 'terceira', 'falhas', 'facilite', 'executou', 'símbolos', 'cláusulas', 'inconveniente', 'convencido', 'manuais', 'aprendeu', 'agrupamos', 'compreendida', 'efetuar', 'programadoras', 'critérios', 'gestaltista', 'embalo', 'interessados', 'holanda', 'séries', 'consistia', 'graus', 'consultada', 'mostrava', 'carregadas', 'completamente', 'destinos', 'consolidar', 'farão', 'formandos', 'tida', 'leia', 'ansiedade', 'integrar', 'microcopy', 'estilizados', 'outdoor', 'mostrará', 'durabilidade', 'esforça', 'gregoriano', 'lojistas', 'decididos', 'pontuais', 'histórias', 'temporary', 'aplicativos', 'conectarmos', 'desvantagens', 'lentas', 'confidenciais', 'mainframe', 'palestra', 'souza', 'encarar', 'cria', 'profissionais', 'vermos', 'formam', 'formandas', 'adornos', 'almeja', 'rabiscando', 'amamos', 'ocorrencia', 'chinelo', 'convergente', 'leão', 'mensais', 'determinação', 'olimpíada', 'preferimos', 'gostaram', 'novas', 'temem', 'publicada', 'vendendo', 'instalará', 'vetorização', 'trazidos', 'cost', 'meter', 'normalizar', 'mercadológica', 'exatos', 'terry', 'cumprem', 'sabor', 'cabecear', 'exclusividade', 'removeremos', 'height', 'aventurar', 'atingimos', 'pmbok', 'redesenhado', 'bancária', 'comprimentos', 'variável', 'beta', 'grana', 'depositam', 'combinar', 'imaginou', 'estática', 'matos', 'flag', 'balanceie', 'mustache', 'caminhando', 'ato', 'treinadas', 'jpeg', 'radius', 'anotações', 'coloque', 'adquire', 'obstáculo', 'despedida', 'grafos', 'aproveitem', 'fanpages', 'somo', 'evolução', 'ganhei', 'viáveis', 'visitante', 'reaproveitarmos', 'inesperados', 'balão', 'avisa', 'opinativo', 'prospecção', 'auditório', 'alternate', 'programador', 'sofreu', 'experiência', 'presente', 'quatrilhões', 'legado', 'natural', 'atom', 'deveríamos', 'locale', 'humana', 'geográficos', 'ido', 'designer', 'autonomia', 'porcento', 'filosóficos', 'write', 'inicializa', 'divulga', 'saída', 'apostaram', 'colaborando', 'explicando', 'destino', 'validade', 'lousa', 'isso', 'smartwatches', 'adicione', 'nvarchar', 'excluídas', 'juntos', 'posiciona', 'operação', 'opinarem', 'recursivamente', 'fosse', 'firefox', 'adiciona', 'eita', 'chegar', 'teorias', 'aderir', 'retornando', 'colorido', 'ingredientes', 'motivacionais', 'notificação', 'replace', 'recompensador', 'adaptando', 'crédito', 'monomodo', 'elegância', 'dentro', 'introduzir', 'assinada', 'incentivo', 'nessa', 'brilhar', 'participam', 'copiando', 'guiando', 'demorado', 'visualizador', 'exercite', 'ambos', 'dançar', 'adleman', 'arrojadas', 'reenviando', 'serviria', 'pretende', 'pestanejar', 'frustração', 'engajadas', 'flappy', 'públicas', 'após', 'renderizado', 'inovadora', 'berçário', 'subcomandos', 'caráter', 'falamos', 'protocol', 'parallax', 'reflete', 'tonini', 'atrase', 'ie', 'decimal', 'cadastros', 'deter', 'aberturas', 'prestes', 'adicionou', 'declaration', 'consegui', 'compositora', 'insira', 'reúne', 'possam', 'bibliotecas', 'emprestado', 'ordenados', 'hipótese', 'relatadas', 'oferece', 'processados', 'conversacionais', 'vigentes', 'mudarão', 'juntarmos', 'boards', 'espertas', 'pense', 'desperte', 'autoria', 'retirada', 'satisfazer', 'queries', 'rotoscópio', 'captam', 'chega', 'acertada', 'direta', 'outlier', 'freeform', 'carrosseis', 'costumes', 'terms', 'colorização', 'babbage', 'ciclo', 'instalações', 'nenhuma', 'encontrar', 'conjunto', 'estenderá', 'cumprindo', 'armários', 'pare', 'testável', 'modernizadas', 'pingar', 'traduzindo', 'vingadores', 'danos', 'extinção', 'medalha', 'perspectivas', 'isotope', 'matriz', 'dedões', 'intuição', 'acessíveis', 'ukulele', 'divulgando', 'doc', 'identifiquem', 'superfície', 'trabalhosos', 'enxergada', 'prova', 'dispuser', 'adéqua', 'fechando', 'preenchidos', 'visões', 'compreendam', 'perdida', 'selecionar', 'navegadores', 'produzo', 'nascentes', 'preparados', 'favorecerá', 'zoom', 'dinamarca', 'felix', 'manipulation', 'instrutoras', 'consultor', 'adicionada', 'including', 'adaptado', 'alteradas', 'parado', 'pelas', 'expirou', 'gostariamos', 'espanha', 'bom', 'elevados', 'intel', 'poucas', 'encontraria', 'bouncein', 'setinha', 'estampadas', 'atualizações', 'observador', 'comidas', 'rápidas', 'categorização', 'tivéssemos', 'aconteça', 'alivia', 'keymap', 'congressos', 'infelizmente', 'universais', 'fotografado', 'descoberta', 'reconhecendo', 'largue', 'perguntadas', 'exageros', 'interativos', 'munroe', 'liberado', 'desenvolverem', 'estreito', 'ronald', 'exclui', 'serifadas', 'mexendo', 'str', 'acionar', 'mães', 'perderemos', 'defendem', 'rigor', 'mysqli', 'umas', 'exploração', 'clojure', 'arrasta', 'especificado', 'disponibiliza', 'terminar', 'adjetivos', 'digamos', 'rpg', 'explícita', 'scientist', 'esqueleto', 'responsável', 'vendi', 'desinstale', 'anunciantes', 'ricas', 'confirma', 'instanciar', 'entrypoint', 'neurociência', 'reposicionamos', 'engasga', 'tumblr', 'consistência', 'pins', 'observa', 'g', 'entupir', 'destruirá', 'grego', 'retentativa', 'camadas', 'divulgam', 'comportamentais', 'comprovando', 'especiais', 'qualifica', 'abstraction', 'transmita', 'caridade', 'vergonhosamente', 'minúsculas', 'modificáveis', 'descuidar', 'trabalhinho', 'possuam', 'sentiriam', 'governamentais', 'seriamente', 'aplicando', 'máximo', 'salão', 'senioridade', 'input', 'mencionar', 'cause', 'intensas', 'farejador', 'anomalias', 'compactados', 'carrinho', 'aproveitaria', 'recalcular', 'm', 'linkado', 'concisa', 'deslize', 'acontece', 'corporativo', 'cachorro', 'explicadas', 'eliminar', 'precionada', 'encurtados', 'semantica', 'respeitado', 'baixo', 'importa', 'interessantes', 'encaixe', 'osi', 'intrigante', 'hospitalares', 'antecipe', 'produza', 'reversa', 'garante', 'eliminando', 'incertezas', 'primoroso', 'existiriam', 'lentidão', 'começarem', 'línguas', 'alcance', 'pular', 'gravo', 'prazerosas', 'comparadas', 'culpas', 'incentivar', 'comecem', 'atraente', 'naturalmente', 'gostei', 'monolito', 'sortuda', 'highsmith', 'inicializado', 'derem', 'esperem', 'inputs', 'conceituado', 'originado', 'atendimentos', 'yamaha', 'infância', 'compare', 'fortificar', 'modifiers', 'marcelo', 'fluentes', 'tipografias', 'stick', 'leitores', 'gigantesca', 'cláusula', 'primeiros', 'padilha', 'ocupada', 'calc', 'carregada', 'resuminhos', 'agraciados', 'fidelidade', 'perfil', 'embutida', 'adriano', 'manteve', 'mexe', 'compras', 'manipulação', 'desperdício', 'sei', 'completas', 'aaron', 'braziljs', 'exemplo', 'aparecem', 'revisitar', 'ocorrido', 'fundamentalmente', 'calculados', 'informados', 'literalmente', 'recebe', 'dominar', 'revelam', 'despedir', 'intenção', 'distanciar', 'congestionamentos', 'linux', 'popularmente', 'mapas', 'graduar', 'iniciativas', 'abordados', 'pouquinho', 'verá', 'fiscal', 'japonês', 'toa', 'demo', 'levantados', 'determinados', 'ingressar', 'analogia', 'utilizemos', 'viés', 'ficaremos', 'absolutamente', 'você', 'po', 'gustavo', 'dpx', 'franquias', 'ouse', 'maquiagem', 'lean', 'ocorrendo', 'vender', 'carinho', 'desesperador', 'estabelecido', 'propôs', 'lhe', 'desorganização', 'ggj', 'esperamos', 'trabalhava', 'perl', 'operador', 'produzia', 'generics', 'quero', 'aligncenter', 'dependente', 'tipográficas', 'idêntica', 'acelerar', 'respectivas', 'varíaveis', 'povoando', 'salada', 'indexadas', 'centralizado', 'item', 'relacionadas', 'indesign', 'inverno', 'partir', 'financeiras', 'empregar', 'compõe', 'contribuição', 'booktubers', 'indicativa', 'chamou', 'perguntassem', 'objeto', 'construído', 'plotar', 'buildar', 'endereço', 'tranquilos', 'táticas', 'contra', 'colocaríamos', 'aplicativo', 'perdi', 'peque', 'private', 'final', 'ordenamento', 'credo', 'gravit', 'desenhando', 'tomando', 'animal', 'óleo', 'atualizou', 'gomes', 'ignorada', 'lançamentos', 'reúna', 'abreviei', 'harmoniosos', 'servidor', 'play', 'vivência', 'primordial', 'autodesk', 'varchar', 'ótico', 'aprendem', 'créditos', 'juntamente', 'promover', 'semente', 'aproximando', 'aptos', 'complementar', 'caminhamos', 'aliado', 'xcf', 'necessária', 'seminários', 'crenças', 'referência', 'intensity', 'chapado', 'davam', 'real', 'atenção', 'autoconhecimento', 'luminosos', 'interessem', 'assustou', 'tarefa', 'diretor', 'dera', 'combater', 'orienta', 'resenhas', 'alimentados', 'motivos', 'encanto', 'jovens', 'loguei', 'exploratório', 'zend', 'dividiu', 'bateria', 'protótipo', 'oficializado', 'incluso', 'projetos', 'numa', 'limitação', 'priorizado', 'inicialmente', 'digitalmente', 'apagada', 'afastar', 'certas', 'seletivo', 'sol', 'corresponde', 'preocupa', 'detalhando', 'complementos', 'alfabeto', 'protegidos', 'lidava', 'variação', 'norteando', 'otimizou', 'antiqua', 'preferências', 'fechamos', 'cotidiano', 'altos', 'prendeu', 'emagrecer', 'license', 'creator', 'safari', 'plugins', 'controlam', 'recarregamento', 'precisou', 'matemáticos', 'elentos', 'florianópolis', 'redimensione', 'inofensivo', 'concluindo', 'traços', 'propriamente', 'sinônimo', 'adotou', 'realizou', 'ficaram', 'alfabética', 'quesito', 'inkscape', 'signature', 'composto', 'subir', 'modificação', 'estratégica', 'abrange', 'compromisso', 'frequentemente', 'recebido', 'cacheada', 'alurinha', 'especialização', 'roi', 'mexem', 'sejamos', 'descrever', 'fechei', 'contratada', 'redirecionamentos', 'ember', 'planejados', 'decodificadas', 'cidade', 'vivo', 'compararmos', 'bala', 'vierem', 'satisfaça', 'shrek', 'acompanha', 'desenvolvido', 'comportamental', 'acontecesse', 'arrumados', 'segmentar', 'aterrisagem', 'ganhem', 'telegram', 'constantes', 'sofisticada', 'aumentar', 'basta', 'resolvam', 'vida', 'concretização', 'aplicabilidade', 'lançaram', 'cardioides', 'developer', 'ater', 'diniz', 'bayes', 'sombreamentos', 'concreto', 'seus', 'tribunal', 'inventário', 'especifiquei', 'retenção', 'edu', 'obteremos', 'spiderman', 'top', 'permitam', 'profissionalizantes', 'prospectar', 'depreciaram', 'message', 'corrija', 'negativo', 'youidraw', 'contou', 'carregue', 'enviando', 'dividirmos', 'evidenciar', 'lidamos', 'magicamente', 'fagulha', 'enxergará', 'exclusiva', 'apaixonar', 'frescas', 'associa', 'tokens', 'venderam', 'comunicada', 'vigência', 'vem', 'insert', 'anotadinho', 'boniteza', 'rodadas', 'facilitasse', 'retendo', 'sentem', 'imaginamos', 'ocidental', 'pirataria', 'evita', 'entrentato', 'levava', 'cangaceiro', 'ordemdecompra', 'dataframe', 'adi', 'dillinger', 'examinar', 'restriction', 'apontaram', 'painel', 'impedem', 'constant', 'portfólio', 'regrinhas', 'divulgados', 'strings', 'demonstrar', 'teste', 'textual', 'piadinhas', 'provider', 'saiu', 'blame', 'sugerida', 'primárias', 'empregatícios', 'tiver', 'brinca', 'ontem', 'vitrines', 'prestando', 'indo', 'direcione', 'reconheça', 'acessadas', 'excitação', 'invadido', 'priorizamos', 'potencializem', 'cedo', 'cenas', 'memorizando', 'bing', 'limitation', 'learn', 'navigation', 'recomeçar', 'organizador', 'personalizável', 'quarta', 'cruel', 'transformada', 'causadas', 'ferreira', 'moderno', 'novidades', 'incrível', 'visualizar', 'limitadas', 'keywords', 'sacrificamos', 'estilistas', 'robozinho', 'desativadas', 'lendas', 'iterados', 'permitir', 'reaprender', 'maratonistas', 'desejamos', 'descontos', 'legítima', 'blindado', 'empolgada', 'resultar', 'quality', 'windows', 'procedimento', 'desconforto', 'vindi', 'originais', 'retirado', 'fecha', 'instalamos', 'decifre', 'ocupará', 'formadas', 'divisão', 'phonegap', 'permanentes', 'inviabiliza', 'boolean', 'taxa', 'ferreiro', 'espiada', 'travado', 'procurará', 'barra', 'possui', 'proativos', 'euzinho', 'prestativas', 'ragnarok', 'hipotético', 'chances', 'tomara', 'vlan', 'representas', 'cooperativo', 'retorna', 'indice', 'onde', 'acenderfarol', 'profissões', 'seguidas', 'colaboradores', 'esquecermos', 'java', 'notícias', 'dorme', 'informaçãozinha', 'fluxos', 'certinho', 'centrada', 'blocante', 'gordo', 'mudança', 'autocad', 'cativavam', 'parecendo', 'mostrei', 'disponibilizadas', 'domínio', 'máquina', 'influenciado', 'refletindo', 'estado', 'protocolos', 'constantemente', 'varrendo', 'gráficas', 'deixarei', 'gerentes', 'questionarmos', 'office', 'soa', 'guru', 'realizaram', 'baixa', 'ronda', 'argumentos', 'removo', 'determinada', 'grupos', 'estipula', 'prêmios', 'mostrando', 'recebida', 'sabíamos', 'nenhum', 'cheia', 'normais', 'audiovisual', 'serei', 'apresente', 'eliminarmos', 'desatamos', 'projetado', 'inclui', 'pouca', 'dias', 'percebido', 'mandou', 'less', 'passassem', 'negação', 'bruto', 'posta', 'matemáticas', 'mega', 'percebida', 'coletivo', 'quilômetros', 'executamos', 'crescer', 'instintivamente', 'chmod', 'guido', 'pilar', 'justiça', 'preencher', 'lucida', 'nomeado', 'queiram', 'comentando', 'deste', 'feitos', 'comprometidas', 'pressionando', 'bank', 'jogos', 'morando', 'recarregamos', 'sergio', 'colocam', 'prazer', 'processar', 'impactaria', 'resolver', 'overview', 'arredondamento', 'cotidiana', 'plotando', 'variações', 'person', 'podemos', 'perseguição', 'aleatória', 'exata', 'tirando', 'equívoco', 'contratual', 'terá', 'funcionasse', 'graduações', 'diverge', 'dependerem', 'dba', 'persuasiva', 'tiraram', 'acompanhavam', 'cuide', 'tomam', 'minimalista', 'antecipadamente', 'mensal', 'manutenibilidade', 'monetária', 'descartados', 'generalista', 'liberamos', 'juniores', 'ecosistema', 'magic', 'personalidade', 'cd', 'vencermos', 'off', 'anunciamos', 'iii', 'bitmaps', 'inválidos', 'considerações', 'engenharia', 'adaptarem', 'prepared', 'comunicar', 'comprometam', 'redesenhamos', 'encontro', 'forjadas', 'existentes', 'pronta', 'diferenciados', 'diante', 'pulou', 'históricamente', 'vira', 'tornado', 'perceberem', 'domésticas', 'pixels', 'street', 'chamar', 'resiste', 'concentrado', 'nomenclaturas', 'grub', 'disputado', 'praticidade', 'superiores', 'integradas', 'tendem', 'programming', 'sustentabilidade', 'experiences', 'acmetoon', 'recompensa', 'componentes', 'relaciona', 'convidamos', 'banal', 'bloqueio', 'tecnicamente', 'longa', 'improdutivos', 'escrevermos', 'direcionado', 'desenvolva', 'fortalecida', 'validador', 'detém', 'agregação', 'safety', 'plástico', 'executar', 'dispor', 'crise', 'conseguiremos', 'órgãos', 'salvos', 'only', 'empregatício', 'voando', 'removemos', 'discreto', 'tendões', 'afetado', 'null', 'previdência', 'gostava', 'gastei', 'iframe', 'sujar', 'integrante', 'migrar', 'lembretes', 'gerará', 'comentei', 'pedia', 'ludibriar', 'booleanos', 'bermuda', 'nessas', 'desisti', 'batch', 'estava', 'simulando', 'devolução', 'mago', 'destrancada', 'questionamentos', 'deparar', 'liderança', 'personalizadas', 'públicos', 'arregaçar', 'single', 'dispunham', 'direitinho', 'esperava', 'bacanas', 'detalhamento', 'conquiste', 'ilusão', 'pretendo', 'indústria', 'produziram', 'alterando', 'que', 'essa', 'favorece', 'aderem', 'disponibilize', 'microsegundos', 'fomentar', 'graduado', 'coloca', 'logininterno', 'irrestrito', 'animada', 'séculos', 'organizado', 'avançar', 'idosos', 'quantos', 'store', 'assistindo', 'control', 'complexa', 'recarregam', 'anotado', 'antigo', 'entrave', 'reconheço', 'selecionado', 'mire', 'revelar', 'iniciamos', 'smo', 'sorrisos', 'ofereçam', 'joio', 'sensor', 'faziam', 'vive', 'chegasse', 'punição', 'aumento', 'estimuladas', 'rank', 'fluidez', 'determinante', 'lembrando', 'cs', 'recriar', 'touch', 'edifício', 'coleta', 'recompensas', 'inventores', 'aceitos', 'cardíacos', 'brincando', 'twine', 'verbosa', 'andando', 'classse', 'aquela', 'suprimido', 'devendo', 'licenciamento', 'salgado', 'atrapalhar', 'regras', 'ficcionais', 'perca', 'encontrará', 'prático', 'acredita', 'aspirações', 'negociar', 'satisfatoriamente', 'envolvam', 'peculiaridades', 'eremita', 'representantes', 'permitindo', 'telepresença', 'ignorados', 'estigmatizada', 'reclamar', 'cunhou', 'fresta', 'reside', 'áspas', 'o', 'mudou', 'propícios', 'conseguimos', 'autocomplete', 'simplificados', 'antentos', 'maximizar', 'idiomas', 'encarada', 'formalização', 'jana', 'escriba', 'cocos', 'retentativas', 'nervoso', 'hype', 'caímos', 'gentileza', 'revisora', 'uml', 'inicializando', 'receptivas', 'bola', 'indicasse', 'minúsculo', 'dica', 'delongas', 'audios', 'protcolo', 'parciais', 'cadastradas', 'oracle', 'desvalorizar', 'considerado', 'áudios', 'corremos', 'associated', 'trecho', 'simuladores', 'at', 'profissão', 'breve', 'cobre', 'elabore', 'henrique', 'preferem', 'adequação', 'sábado', 'valorizado', 'ironman', 'perguntam', 'perdinha', 'carroussel', 'sonhado', 'risco', 'papelaria', 'maracujás', 'cumpridas', 'piscando', 'retângulo', 'respeitar', 'centésimo', 'esclarece', 'pwas', 'caligrafia', 'zeplin', 'aparentam', 'maximo', 'abrangerá', 'certificado', 'norvig', 'publicarmos', 'democratização', 'praticamos', 'explícitos', 'tradicionalmente', 'requeridas', 'the', 'natan', 'disruptivo', 'conversões', 'vizinhos', 'satisfatório', 'disciplinada', 'recorrente', 'monitore', 'conflito', 'compreenda', 'suma', 'creio', 'confirmar', 'triplo', 'gargalo', 'superbacana', 'cli', 'diversificação', 'localhost', 'camuflados', 'ajudinha', 'inevitavelmente', 'sony', 'opacity', 'linkabilidade', 'instalei', 'trarão', 'ônibus', 'selecionarmos', 'mencionado', 'incentive', 'devolvendo', 'ocorrência', 'erp', 'nominal', 'puxada', 'selecionaram', 'yahoo', 'arredondou', 'testam', 'objetividade', 'tentasse', 'conhecem', 'palavra', 'git', 'px', 'hambúrguer', 'conclusões', 'maito', 'acabamentos', 'encoraje', 'pixel', 'exposta', 'adicionando', 'satisfaz', 'hand', 'relevos', 'ping', 'cargas', 'contentools', 'workshops', 'hospedar', 'remodelei', 'encarregou', 'facilitarão', 'apelido', 'vestuário', 'sonora', 'mostrar', 'york', 'modificarão', 'netbeans', 'integra', 'mineração', 'insista', 'maçante', 'especialidade', 'prover', 'mode', 'presenteados', 'olha', 'jogue', 'mondrian', 'população', 'novamente', 'termina', 'originalidade', 'publicitários', 'usam', 'esconde', 'yum', 'esforçar', 'poucos', 'hierárquico', 'imperativo', 'industriais', 'ponderado', 'ensinamento', 'subestimar', 'amostra', 'desloco', 'recapitulando', 'jurídica', 'vieram', 'fetch', 'revolução', 'encantar', 'intensidade', 'retângulos', 'obra', 'verificação', 'semanas', 'cmd', 'adquirisse', 'codeacademy', 'respondendo', 'phpcs', 'juros', 'expert', 'baseado', 'infinito', 'ternário', 'vetor', 'backups', 'desconfie', 'panasonic', 'loan', 'atrás', 'anterior', 'ambiance', 'métrica', 'adotando', 'setvelocidade', 'maven', 'discuti', 'até', 'inexplorado', 'irreverente', 'mato', 'envolva', 'quase', 'fibras', 'compramos', 'concentrados', 'velocidade', 'controla', 'notimplementederror', 'gás', 'tona', 'negócio', 'alma', 'limpa', 'fatos', 'retirados', 'dedicou', 'grotesca', 'carregador', 'botões', 'rascunhos', 'cambaleante', 'lances', 'desconectarmos', 'refúgio', 'entendemos', 'emulação', 'ajudasse', 'sonha', 'significativas', 'hostnames', 'lxc', 'live', 'ajudamos', 'aproximasse', 'funcionassem', 'lts', 'trabalhou', 'pago', 'plotado', 'quire', 'toca', 'pegará', 'logos', 'roteiro', 'iteração', 'risca', 'empregadores', 'complica', 'reviravolta', 'escanear', 'cócegas', 'grita', 'ditados', 'vastidão', 'diversificadores', 'funcionariam', 'clicarmos', 'inspirem', 'reuniões', 'orgânico', 'dependemos', 'responsiva', 'config', 'remuneração', 'amigável', 'validações', 'pressa', 'explicados', 'aparecia', 'iluminado', 'competências', 'serviu', 'juntando', 'comércio', 'qualificação', 'incorporado', 'preços', 'problemão', 'amadora', 'exposed', 'nuvem', 'fiscais', 'lucas', 'salários', 'ehlert', 'lazy', 'berger', 'subscription', 'havíamos', 'distribuídos', 'avançados', 'credibilidade', 'bancários', 'sumário', 'rest', 'thinking', 'categóricos', 'vasculham', 'locação', 'solucionando', 'messages', 'kilo', 'dificulta', 'divulgada', 'brilho', 'bens', 'informarmos', 'visa', 'rodagunicorn', 'planejadas', 'avalanche', 'personagem', 'reorganizar', 'realizam', 'largos', 'descritivo', 'relacionam', 'mundialmente', 'calendários', 'geradora', 'linha', 'chata', 'new', 'explica', 'adaptáveis', 'yuri', 'harmonização', 'task', 'adicionandos', 'solicitam', 'verdejante', 'fóruns', 'gerenciaria', 'tank', 'destrancado', 'demais', 'alunas', 'retina', 'equivocadamente', 'prejudicamos', 'senta', 'acabarmos', 'simulam', 'calculo', 'finalizando', 'constituída', 'sorteia', 'organizada', 'mapeia', 'modifiquei', 'aumentem', 'acanhe', 'pomada', 'leads', 'subiu', 'perambulava', 'debateu', 'incrementa', 'colhe', 'broadcasts', 'configurando', 'entusiamo', 'destravando', 'visitados', 'resumida', 'testada', 'significado', 'regressam', 'acessava', 'casualidade', 'notificando', 'irmãos', 'dartlang', 'otimizará', 'sticky', 'nós', 'abertas', 'decidem', 'latina', 'pertencerá', 'produtiva', 'controle', 'normalização', 'falharem', 'desejáveis', 'desenhados', 'frente', 'atendendo', 'desista', 'mole', 'simplesmente', 'pedaço', 'estudamos', 'benchmarks', 'sequências', 'certezae', 'atentarmos', 'encerram', 'avanços', 'integrated', 'ornamentos', 'preguiçosa', 'guardo', 'damos', 'básica', 'ancoragem', 'old', 'mudaríamos', 'upload', 'descarta', 'rich', 'sólida', 'threats', 'frustrada', 'dinossáurico', 'undecilhões', 'entendimento', 'migrando', 'gestalt', 'terceiro', 'list', 'possiveis', 'fazia', 'trilha', 'confirme', 'estourados', 'tentam', 'pontuações', 'atalho', 'mostro', 'interface', 'decididas', 'iphone', 'robocop', 'leis', 'convenhamos', 'joviane', 'timedelta', 'sinek', 'simulações', 'parcialmente', 'preencherá', 'possue', 'copies', 'deixava', 'demandaria', 'lopes', 'admiradas', 'sistemas', 'carbonmade', 'mvp', 'retornada', 'patentes', 'caminhos', 'enfrentam', 'acrescentarmos', 'fflush', 'outs', 'visualizando', 'sozinha', 'insere', 'viagem', 'barato', 'obras', 'celebridades', 'gerenciais', 'frustram', 'full', 'pegou', 'exigências', 'numpy', 'xi', 'narradores', 'efetiva', 'pico', 'piores', 'ortográfica', 'exercitam', 'implementada', 'monitorar', 'game', 'seis', 'resolução', 'explico', 'fins', 'distâncias', 'precisávamos', 'opacidade', 'incluiu', 'fernando', 'planejarmos', 'estarão', 'degradê', 'cai', 'fff', 'revistas', 'cadastrei', 'inovadores', 'imagino', 'percorridos', 'documentações', 'apresentaria', 'copiamos', 'proveitoso', 'pulsos', 'rede', 'metais', 'defensiva', 'experimental', 'explosão', 'filosófico', 'lookup', 'vimeo', 'forçados', 'mantendo', 'objetivando', 'deixei', 'dispense', 'detrimento', 'feijão', 'adquiridos', 'vilões', 'trocar', 'stdin', 'pulsação', 'imóveis', 'diria', 'comentar', 'formatada', 'braçal', 'premissa', 'conector', 'vergonha', 'passado', 'powershell', 'webinars', 'iptables', 'referenciadas', 'anunciado', 'precisavam', 'revertido', 'humanas', 'autenticidade', 'ditar', 'timeout', 'databases', 'restart', 'somentes', 'efetuou', 'postmapping', 'fractl', 'alterar', 'options', 'sorteio', 'saia', 'optam', 'fernanda', 'jbcrypt', 'setor', 'ative', 'folha', 'canon', 'enumerado', 'possuir', 'segura', 'gostado', 'laços', 'combinações', 'atrelados', 'scrum', 'deverá', 'lindamente', 'valor', 'morreu', 'encaixavam', 'criássemos', 'com', 'interesse', 'impactados', 'site', 'maneira', 'encobrir', 'recarreguei', 'ligando', 'battoni', 'acrescimento', 'exibido', 'descrição', 'dezena', 'multitarefa', 'zerados', 'ee', 'restrição', 'readme', 'obtendo', 'posteriores', 'puc', 'koji', 'desorganizado', 'gradiente', 'queriam', 'conclua', 'magos', 'técnicas', 'static', 'reprovados', 'dispensar', 'esperada', 'olhos', 'monitorada', 'pensa', 'separadamente', 'discutimos', 'descobre', 'essentials', 'implementem', 'cor', 'solicitada', 'envolvemos', 'solucionasse', 'confere', 'ressaltamos', 'socialmente', 'pixlr', 'tqm', 'enviadas', 'decimais', 'contextualizar', 'repetições', 'ficará', 'wertheimer', 'edwin', 'diversifique', 'disponibilizada', 'escrevíamos', 'executará', 'equilíbrio', 'poética', 'gabinete', 'setença', 'últimas', 'otimizadas', 'certificação', 'editado', 'fill', 'wrapper', 'abandonadas', 'horas', 'data', 'trim', 'devolveremos', 'amsterdam', 'sujeiras', 'fgts', 'interpretadores', 'abertura', 'culinária', 'intermediação', 'distros', 'cheiro', 'chanfros', 'vastas', 'settar', 'iluminação', 'depoimentos', 'artística', 'relaxa', 'sanções', 'apostam', 'perguntei', 'rotinas', 'tagueamento', 'tecnologicamente', 'buscarmos', 'descreva', 'ux', 'possuíam', 'temáticos', 'demos', 'tomo', 'afinidade', 'efetivos', 'índices', 'comissão', 'suite', 'quiserem', 'infantil', 'dreamstime', 'client', 'curinga', 'pertencendo', 'online', 'garantindo', 'concorrer', 'pytz', 'científico', 'tempos', 'já', 'topo', 'internacionalmente', 'main', 'p', 'invocado', 'distribuição', 'robô', 'operamos', 'profundos', 'previamente', 'travel', 'manda', 'anônima', 'riquíssimo', 'convencer', 'rendem', 'joguinho', 'fabricante', 'humanidade', 'incomodo', 'desaprender', 'passaporte', 'overlay', 'estilizar', 'gerador', 'dividem', 'stp', 'comentamos', 'detereminado', 'sentirem', 'descontração', 'enfoca', 'vídeo', 'short', 'progressive', 'trident', 'beans', 'proporcionalmente', 'distribuiçnao', 'instalados', 'digitados', 'enganado', 'acabamos', 'not', 'behringer', 'renderizar', 'região', 'prendemos', 'surgimento', 'var', 'atualmente', 'acharmos', 'motion', 'utilizados', 'flutuante', 'chapecoense', 'liberar', 'passadas', 'yup', 'direcionais', 'vincular', 'dorzinha', 'igual', 'aeroespacial', 'dúvida', 'interaction', 'optando', 'tarde', 'abordam', 'colliderscribe', 'primavera', 'elevação', 'desestruturação', 'ayarza', 'navegue', 'estruta', 'stop', 'diz', 'programa', 'transmitidos', 'contexto', 'tunisiano', 'instale', 'buscam', 'criaram', 'impactado', 'simplificou', 'flexível', 'salvador', 'qualificado', 'spam', 'mínimos', 'telba', 'comparamos', 'estratégicas', 'provenientes', 'prever', 'workflow', 'simboliza', 'colocássemos', 'automatiza', 'analogamente', 'precedido', 'inferência', 'building', 'ultrapassado', 'propriedade', 'manipulações', 'avançamos', 'pensamos', 'otimizações', 'iniciantes', 'prevendo', 'direcionava', 'entrarmos', 'preguiça', 'secos', 'cro', 'usuais', 'presto', 'parentêses', 'percepção', 'desacelerar', 'podcats', 'renomados', 'navbar', 'mantra', 'braços', 'acontecem', 'adicionava', 'refine', 'inutil', 'fighter', 'ascii', 'outubro', 'superficiais', 'desabilitado', 'causas', 'generator', 'extinta', 'perto', 'respeitando', 'remunerados', 'crítica', 'podiam', 'caixa', 'borda', 'stanford', 'construtora', 'ligado', 'surreal', 'categorizado', 'dedicado', 'brilhante', 'contratado', 'acessados', 'induzem', 'psicológicos', 'resumidas', 'fastethernet', 'transmitindo', 'verdadeiros', 'milfont', 'reutilização', 'nomeados', 'rigoroso', 'inesperadas', 'inveja', 'reunir', 'resiliente', 'afete', 'notificada', 'apelidos', 'feature', 'investimento', 'multiplicação', 'rádios', 'ícone', 'penedo', 'abreviado', 'relacionamento', 'virgilio', 'vier', 'my', 'contribuirão', 'jeep', 'resoluções', 'gorjetas', 'ampla', 'refere', 'nulo', 'compilar', 'instituída', 'pessoas', 'verificando', 'joga', 'quitanda', 'tiveram', 'gabriela', 'repetidor', 'desevolver', 'demandados', 'marcante', 'pca', 'almeida', 'offset', 'fascina', 'comumente', 'absoluta', 'eixo', 'fraudulentos', 'alternando', 'repetem', 'acerte', 'vim', 'contido', 'personal', 'viacep', 'sockets', 'momentânea', 'listinha', 'respondo', 'infame', 'interatividade', 'renderia', 'disposição', 'discutido', 'tentarão', 'call', 'preservando', 'australiana', 'prejudique', 'responderem', 'interna', 'descanso', 'image', 'screens', 'refrescar', 'demonstram', 'enum', 'dediquem', 'garantidas', 'saas', 'focada', 'diferente', 'residência', 'detalhe', 'pantones', 'bingo', 'partido', 'proporcionada', 'emergentes', 'evidências', 'sd', 'format', 'medalhas', 'desaponta', 'paisagem', 'setinhas', 'enquete', 'demandadas', 'idas', 'coletamos', 'estourei', 'descriptografia', 'atua', 'vibrando', 'conseguem', 'dinâmicamente', 'julgada', 'coaching', 'abusar', 'queryselectorall', 'criemos', 'atualizar', 'atrativo', 'pixabay', 'encontradas', 'violão', 'repositório', 'desligue', 'editaram', 'influenciaram', 'preta', 'cursos', 'intenções', 'adequada', 'reparam', 'sequência', 'bar', 'unica', 'eficienciastring', 'advogados', 'vcs', 'autoavaliação', 'chamativa', 'apaixonados', 'tráfego', 'express', 'sanitize', 'feijao', 'incansavelmente', 'pepino', 'usaremos', 'postando', 'comprimir', 'apis', 'suponha', 'trechos', 'mídias', 'deixam', 'aparecida', 'listando', 'decifrar', 'alegrar', 'validamos', 'after', 'pressionada', 'sugestões', 'tags', 'interromper', 'takes', 'codebase', 'reformulado', 'exigidas', 'estar', 'solucionou', 'ampliar', 'patterns', 'identificador', 'ementa', 'terça', 'advocacia', 'chamativo', 'substituindo', 'assumiu', 'espionagem', 'paralelo', 'ebooks', 'sucessivamente', 'simon', 'todavia', 'inicializados', 'forms', 'adaptabilidade', 'evenodd', 'raro', 'egoísmo', 'espaçamentos', 'meunamespace', 'tátil', 'watch', 'tendência', 'dinâmica', 'microsystems', 'diagnóstico', 'prováveis', 'dedicando', 'modelar', 'animations', 'trabalham', 'absolute', 'servlets', 'dependendo', 'jupyter', 'prototipação', 'especificados', 'defautl', 'pioneira', 'perderem', 'retirar', 'restaurar', 'destrancar', 'território', 'fala', 'doadores', 'poderes', 'remapear', 'resquício', 'blink', 'aprenda', 'reconhecem', 'restrinja', 'curvas', 'partiu', 'desvatagens', 'professores', 'básicas', 'brutos', 'td', 'dígito', 'rowling', 'otimize', 'lago', 'indexar', 'arredondados', 'melhore', 'manutenabilidade', 'boca', 'applications', 'guide', 'fidelização', 'sopa', 'estudei', 'inicializarmos', 'refice', 'emoji', 'firulas', 'ficam', 'tranquilo', 'gigante', 'arroz', 'conexões', 'maravilhoso', 'modalidades', 'replicar', 'dinamizar', 'avançou', 'baixará', 'posicionados', 'bacana', 'ajustes', 'origens', 'analisa', 'notar', 'charset', 'mergulho', 'puxa', 'predispõe', 'vetorizar', 'malas', 'abstraindo', 'vende', 'beneficiam', 'pixelbbudha', 'resenha', 'frequentando', 'disputam', 'sequer', 'contará', 'inline', 'armazenada', 'juquinha', 'apenas', 'representar', 'desobrigam', 'tração', 'jdbc', 'leticia', 'responder', 'definido', 'mentais', 'tanque', 'enfim', 'infinita', 'desvendando', 'quantificáveis', 'properties', 'components', 'baixei', 'azul', 'famosíssimos', 'marque', 'copiarem', 'translate', 'preferidas', 'desvincular', 'chamo', 'solicitando', 'competições', 'language', 'conquistado', 'olharmos', 'desejarmos', 'instalável', 'inovando', 'acabam', 'foram', 'plano', 'bagunçado', 'reconhecidas', 'survey', 'caderno', 'validando', 'retoque', 'tecnológica', 'elo', 'everton', 'lidar', 'consultar', 'acumular', 'description', 'interno', 'desconto', 'transmissão', 'inicial', 'ninjas', 'acontecer', 'tecnologia', 'bam', 'valueerror', 'preencheram', 'expandindo', 'panos', 'context', 'azuis', 'finalizar', 'utilitário', 'converso', 'fitas', 'confundindo', 'forçam', 'colaborativo', 'incentivamos', 'possuírem', 'truncado', 'tornaram', 'comemoração', 'indevido', 'amarras', 'dispendioso', 'conversar', 'memorável', 'prestativo', 'ebook', 'estoque', 'promovido', 'movimento', 'fotolia', 'ritmos', 'governo', 'verdes', 'colocar', 'ツ', 'agendado', 'semânticas', 'velho', 'encontrava', 'ep', 'negativamente', 'cronológico', 'virava', 'tantos', 'antever', 'ron', 'requisito', 'cativar', 'ganha', 'nada', 'explicativa', 'impedirá', 'decide', 'ali', 'separadas', 'decidindo', 'levada', 'país', 'pensamentos', 'modelarmos', 'acostumamos', 'professora', 'compartilham', 'quente', 'estímulo', 'mandaremos', 'psrs', 'experimentado', 'general', 'lossless', 'assinaturas', 'desenvolvem', 'souber', 'definitivo', 'escutará', 'eficaz', 'padding', 'observados', 'conseguirem', 'pausas', 'checa', 'carregam', 'anotou', 'orgânicos', 'surtindo', 'coragem', 'revolucionários', 'sabem', 'senhor', 'movimentado', 'classifiquem', 'moldados', 'trampo', 'receberam', 'resulte', 'isto', 'consolidada', 'valorizar', 'compreende', 'foque', 'informamos', 'arduamente', 'copywriting', 'esmo', 'refinados', 'contextualiza', 'maxima', 'desinformação', 'sentimento', 'olhadinha', 'legados', 'pudesse', 'grafia', 'comemoramos', 'dividir', 'segunda', 'estéreis', 'advanced', 'deitar', 'delicadamente', 'esclareceu', 'danilo', 'plausível', 'viewholder', 'descritivas', 'acessei', 'disparo', 'sérgio', 'inss', 'horários', 'mouse', 'sumproduct', 'exercitar', 'sobrarem', 'id', 'falei', 'volatile', 'essenciais', 'haverá', 'privilegiado', 'mariadb', 'considere', 'chip', 'twenty', 'candidato', 'experiências', 'verifyclient', 'despreocupado', 'doença', 'enxugar', 'requerida', 'dirigir', 'middle', 'coubesse', 'retornam', 'itália', 'ira', 'regulados', 'anunciou', 'culta', 'x', 'insatisfeitos', 'quebrados', 'chart', 'abaixo', 'shows', 'identação', 'telefonica', 'reclamam', 'shells', 'instanciando', 'valorizada', 'taxas', 'alocar', 'encapsular', 'controversos', 'proativas', 'maestria', 'obtermos', 'legítimo', 'predefinido', 'leem', 'relação', 'versões', 'pegassemos', 'tentativas', 'trocados', 'esquematizações', 'camiseta', 'sobrescreveria', 'autoridades', 'invertidas', 'inadequada', 'mantenha', 'identificado', 'capacidades', 'estúdio', 'inquestionável', 'recorrência', 'resultará', 'compromete', 'wed', 'mascarar', 'aprendemos', 'proceda', 'financiamento', 'recriam', 'tesla', 'leigos', 'bombril', 'bastava', 'hipoteticamente', 'atraiu', 'utilizar', 'sofisticado', 'xampp', 'sorriso', 'spoilers', 'interrompido', 'desembolsa', 'construtores', 'aberto', 'influência', 'requeridos', 'receitas', 'funcionalidades', 'continual', 'consertar', 'acústica', 'continuando', 'palatino', 'transfere', 'sincronização', 'parti', 'supetão', 'referenciando', 'disparados', 'bons', 'tão', 'estagiou', 'mensalmente', 'matrix', 'gênios', 'maratona', 'consolidação', 'bilheterias', 'definitivamente', 'tambm', 'dns', 'mention', 'msn', 'cito', 'densos', 'calculadoras', 'caindo', 'stella', 'kaggle', 'constituem', 'rende', 'poupar', 'oitenta', 'mask', 'repito', 'percebam', 'preceitos', 'mentalmente', 'ele', 'tranquila', 'vidros', 'stefanini', 'terminando', 'especificadas', 'juliana', 'delegates', 'preparando', 'tênue', 'perspectiva', 'ferir', 'seguiriam', 'suposto', 'subquery', 'descansar', 'inéditas', 'rompem', 'comprometendo', 'via', 'desafiem', 'estudava', 'faladas', 'release', 'aprender', 'certamente', 'finalização', 'bluesoft', 'imagemcentral', 'verificar', 'gatilho', 'clichês', 'miniblog', 'jornadas', 'verticalidade', 'saí', 'janelas', 'incentivadas', 'mandado', 'provocar', 'bin', 'chegada', 'moldar', 'causa', 'laço', 'parede', 'vivem', 'organização', 'guile', 'posicionamento', 'apostar', 'escasso', 'multi', 'devolver', 'pressionado', 'process', 'migrou', 'personalização', 'enterprise', 'cenário', 'aproveitada', 'interpretação', 'orgulho', 'cavalieri', 'smart', 'práticas', 'sincronizar', 'jornais', 'estratégias', 'ferro', 'especializando', 'proteja', 'reutilizados', 'somar', 'big', 'perdeu', 'complexo', 'porto', 'milk', 'refinar', 'metadados', 'misturando', 'macintosh', 'permissiva', 'clicado', 'relatos', 'consciência', 'custo', 'armário', 'axure', 'panaceia', 'ramificações', 'serem', 'contratando', 'vestirão', 'indignada', 'infomações', 'patrocinada', 'gota', 'dependentes', 'reflection', 'cultivo', 'aprendo', 'diferencia', 'disposto', 'respirar', 'wearables', 'impactará', 'simples', 'sigma', 'deletando', 'relatar', 'feriados', 'explora', 'vetorial', 'gente', 'tratamos', 'impedindo', 'respeitados', 'modulo', 'desenhos', 'uxi', 'deles', 'redhat', 'diferença', 'vertentes', 'typegoodness', 'vantagens', 'harmonioso', 'ponha', 'registros', 'adicionar', 'avengers', 'consigo', 'desastres', 'aceitável', 'alimentos', 'save', 'apuração', 'belas', 'orquestração', 'movimentadas', 'exibirmos', 'pergunto', 'esperar', 'solteira', 'somente', 'desnecessária', 'pro', 'ponte', 'microfones', 'retrato', 'isolam', 'model', 'colocou', 'diversas', 'existente', 'leituras', 'competitivo', 'delas', 'enfrentava', 'fechássemos', 'tiramos', 'posseum', 'pesquisando', 'jar', 'concentra', 'receptível', 'disponibilizou', 'eternas', 'surge', 'público', 'commits', 'boa', 'esbarramos', 'explicaria', 'influências', 'mesa', 'usariam', 'exibiria', 'lesse', 'retornaremos', 'exibirá', 'frequentadores', 'blogar', 'independente', 'axdboy', 'esconder', 'utilizava', 'firewall', 'permite', 'preferir', 'artesanal', 'colaterais', 'placo', 'engane', 'habilitado', 'millisegundos', 'chave', 'pagar', 'nesse', 'surgir', 'funcional', 'istock', 'tráfegos', 'power', 'ocorrerá', 'metal', 'tentadora', 'buscadores', 'ultimamente', 'cento', 'complementa', 'profissionalmente', 'útil', 'pensada', 'poderemos', 'path', 'temporárias', 'eternamente', 'existirem', 'incandescentes', 'emblemático', 'mecanismos', 'incentivada', 'divulgaremos', 'potentes', 'sms', 'virtuais', 'aparentar', 'toquem', 'insights', 'equivale', 'sapatos', 'pagam', 'bebê', 'bytes', 'editável', 'classifique', 'transfer', 'significativo', 'pista', 'instagram', 'convicção', 'gostavam', 'espaçonaves', 'trabalhados', 'trabalharmos', 'relativa', 'auto', 'vinhetas', 'recebíamos', 'setembro', 'linguagens', 'geolocalização', 'huff', 'isola', 'figurinha', 'atendimento', 'simetria', 'rendimento', 'padronizada', 'acentuar', 'classificamos', 'exercemos', 'resgatarmos', 'cursivas', 'interessavam', 'pixeden', 'tipada', 'clara', 'atrativa', 'paisescomnomesemespaco', 'crio', 'obsoleto', 'charles', 'acreditar', 'sofreram', 'contentes', 'jogando', 'dê', 'fifa', 'prestadores', 'editoras', 'gastaria', 'teria', 'diferenciação', 'transformações', 'empolgante', 'evolua', 'mandamos', 'educada', 'corri', 'readaptar', 'adquiriram', 'videogame', 'hql', 'iniciado', 'imprevisíveis', 'capacetes', 'obscurecidos', 'saudável', 'now', 'precisas', 'fluido', 'crus', 'cartório', 'escrevendo', 'hobbies', 'extenda', 'revista', 'acrescentava', 'privilégio', 'sample', 'integrações', 'facilitada', 'válidos', 'google', 'espaços', 'locais', 'minhas', 'genial', 'compile', 'desativa', 'codeforces', 'marcamos', 'managed', 'abreu', 'zone', 'imprescindível', 'batalhar', 'visíveis', 'suavidade', 'redux', 'adicionado', 'humanos', 'realizando', 'marcados', 'atinge', 'reponsavel', 'subpacotes', 'pomodoro', 'assegurar', 'razões', 'exercer', 'obterá', 'numéricos', 'diferenciado', 'eliminam', 'advogado', 'deming', 'deletar', 'interceptador', 'executadas', 'postgres', 'interpreta', 'cyan', 'amadas', 'houvesse', 'pepinos', 'adquira', 'transparecer', 'oficializou', 'impostos', 'centros', 'games', 'exaustivo', 'mencionada', 'medidas', 'acreditavam', 'tomarem', 'encerrar', 'manualmente', 'afetar', 'diferentes', 'utilizando', 'dispositivo', 'veríamos', 'amigáveis', 'pontinhos', 'persistência', 'internos', 'cavaleiros', 'apresentações', 'convive', 'sequencialmente', 'garamond', 'participativo', 'salvarmos', 'festivais', 'filho', 'cursar', 'salvar', 'cover', 'menos', 'indisponível', 'avançadas', 'prazos', 'esforçando', 'prepare', 'mecanismodeaceleracaodemotos', 'transparentes', 'estudaram', 'foguete', 'definimos', 'jms', 'cadê', 'troco', 'cairmos', 'fluidas', 'batemos', 'pensou', 'doutor', 'persistir', 'tímida', 'slider', 'festas', 'familiarize', 'filtrados', 'chamado', 'enviado', 'titulo', 'sec', 'registram', 'inc', 'share', 'homenageia', 'procedural', 'mandarim', 'alternativas', 'encanta', 'separe', 'garantam', 'machine', 'mentalidade', 'excelentes', 'noção', 'receba', 'cin', 'lentes', 'lembrarmos', 'illustrator', 'jira', 'produtivas', 'relacionar', 'veia', 'familiarizado', 'tonalidades', 'altíssima', 'ja', 'evitado', 'tamanha', 'bruxelas', 'orientadas', 'infosusuario', 'manuseio', 'cruzar', 'escolaridade', 'agradeço', 'raros', 'iniciasse', 'voltar', 'suco', 'favoritas', 'imutáveis', 'acompanhamento', 'errar', 'promovidos', 'obsoletas', 'tcc', 'retira', 'webapps', 'entendi', 'contribuindo', 'buga', 'marketing', 'migração', 'paralelismo', 'toggl', 'destruído', 'aproveitam', 'automovel', 'afetou', 'inscritos', 'geração', 'tinhamos', 'escuro', 'trançado', 'receptor', 'wikipédia', 'contribuirá', 'consensos', 'cruzão', 'newsletters', 'improdutivas', 'destaco', 'transmitido', 'encurtadas', 'figura', 'registrados', 'desponta', 'contrapõem', 'criação', 'trabalhada', 'character', 'propagar', 'espalhado', 'souberam', 'warning', 'recife', 'completando', 'preocupação', 'homebrew', 'trace', 'cain', 'cidadaobr', 'criada', 'sobreviver', 'socializar', 'reponsável', 'versáteis', 'rodando', 'saudate', 'invente', 'infinitamente', 'iniciei', 'tips', 'ajudado', 'donkey', 'phpunit', 'cálculo', 'tomado', 'serve', 'parcerias', 'alimentar', 'substituída', 'passa', 'autor', 'robusto', 'abstraídos', 'judicial', 'hackers', 'revolucionária', 'duck', 'regravado', 'andressa', 'ócio', 'login', 'habituados', 'desestruturar', 'tornamos', 'autoformatador', 'disputados', 'ciclistas', 'algoritmo', 'comparativa', 'ache', 'convenientemente', 'autoexplicativo', 'brinque', 'pausar', 'alongando', 'focaremos', 'formais', 'propriedae', 'mecanismoaceleracao', 'duplicadas', 'vetoriais', 'if', 'react', 'ajudante', 'vivos', 'encontrado', 'datagrama', 'cobra', 'ressalvas', 'condizam', 'twitch', 'feliz', 'irlanda', 'cometidos', 'afunilar', 'mencionamos', 'supondo', 'limitando', 'evidenciado', 'organizacionais', 'integral', 'mostram', 'descubra', 'tratamento', 'barriga', 'criptografadas', 'ilustram', 'obtenção', 'verifica', 'enrascadas', 'identificará', 'rolagem', 'quarto', 'interagem', 'incorpora', 'certificar', 'comitê', 'fase', 'nexmo', 'exige', 'métricas', 'jam', 'calculadora', 'acrescentem', 'favoreçam', 'confundem', 'habilidades', 'gravada', 'vaga', 'alencar', 'aconteceu', 'unreal', 'quão', 'contrapartida', 'obtaining', 'conversamos', 'coerente', 'escutando', 'primórdios', 'prometida', 'brutas', 'justificam', 'excitantes', 'convertemos', 'prejudiciais', 'empregada', 'referenceerror', 'chamariz', 'agregadas', 'possível', 'estabelecem', 'deixarmos', 'inovações', 'plurais', 'camera', 'configurada', 'aceleração', 'entrevistador', 'inesperado', 'desenvolviam', 'exporte', 'herdando', 'fraude', 'extraiam', 'entendeu', 'sympla', 'tediosas', 'adjust', 'anônimo', 'solicitados', 'fabricar', 'pensado', 'faltaram', 'evoluindo', 'fotógrafo', 'minucioso', 'enviamos', 'sétima', 'codigos', 'aquelas', 'craque', 'trabalhoso', 'chiques', 'duplo', 'comprometida', 'mural', 'mínimo', 'relacionamentos', 'impressora', 'clicks', 'disparam', 'recomendação', 'costumamos', 'community', 'decorrência', 'planejamento', 'tipicamente', 'raíz', 'wedologos', 'conheceremos', 'obrigue', 'dificilmente', 'pessoalmente', 'adaptadores', 'capital', 'limitados', 'iterações', 'contrataria', 'distribute', 'descomplicada', 'lendo', 'vilãs', 'técnica', 'videoaulas', 'direcionar', 'trouxeram', 'começam', 'oceano', 'formatados', 'fluir', 'dinar', 'foco', 'propagandas', 'gostem', 'fechada', 'romário', 'perante', 'assuntos', 'adotados', 'abordagem', 'armazenar', 'donald', 'conhecerá', 'adaptada', 'respectivo', 'transcreva', 'origem', 'mentes', 'guarde', 'oferecidos', 'coração', 'replotamos', 'fotos', 'funcionalidade', 'entrega', 'magenta', 'identificou', 'inove', 'francesco', 'achou', 'customize', 'mestrados', 'interagirem', 'mesas', 'incluídos', 'listas', 'fatalmente', 'airbnb', 'acionamos', 'cheguei', 'contestar', 'pulado', 'elimina', 'nisto', 'sumir', 'vocação', 'genéricos', 'formularam', 'equações', 'sync', 'unsubscribe', 'amantes', 'fossem', 'bit', 'fraquíssima', 'selects', 'efetuado', 'conhecêssemos', 'nowrap', 'ingressando', 'absurdas', 'gourmet', 'aleatoriedade', 'caprichar', 'iteradores', 'saúde', 'conhecerem', 'tv', 'renderização', 'marcus', 'abreviação', 'devtools', 'jogabilidade', 'finalizado', 'flash', 'equivalentes', 'aprofundando', 'colega', 'sugeridas', 'include', 'elementares', 'fit', 'preparado', 'acrescentadas', 'separando', 'débito', 'jornalísticos', 'animando', 'dupla', 'scrolla', 'integradora', 'melo', 'compose', 'beneficie', 'assine', 'predileto', 'primária', 'tokyo', 'esquencendo', 'confiantes', 'removidos', 'varargs', 'lucrar', 'estivermos', 'sensíveis', 'plotados', 'vozes', 'incluíndo', 'percebemos', 'segundos', 'espiões', 'mediação', 'pálida', 'mudássemos', 'considerados', 'conecte', 'sinalizado', 'mail', 'torcidas', 'demoro', 'empresários', 'colaboração', 'provocam', 'caberá', 'deixarem', 'rodou', 'resumindo', 'desenrolar', 'desvendarem', 's', 'usávamos', 'escapava', 'tocamos', 'supervisionado', 'columns', 'size', 'entradas', 'doze', 'círculos', 'seriedade', 'guarda', 'mudando', 'melhores', 'guardando', 'reforça', 'som', 'acessada', 'apostando', 'esclarecimento', 'dói', 'atingidas', 'refatoração', 'logados', 'desenvolvedores', 'prazerosa', 'pública', 'escalas', 'spoofing', 'correto', 'cadeia', 'institutos', 'especificos', 'beneficiada', 'entrevista', 'coberto', 'tornem', 'motorista', 'daos', 'quebrada', 'amigas', 'tiverem', 'senha', 'ativa', 'momentos', 'distância', 'interpretou', 'bart', 'aprovada', 'valorize', 'persistida', 'demoramos', 'bruta', 'sincronizados', 'utilidades', 'mm', 'pesquisou', 'jovialidade', 'obrigação', 'envolvem', 'nelas', 'publiquei', 'conduta', 'stored', 'rogers', 'ciências', 'fantasia', 'residências', 'distração', 'intervalos', 'enfatizar', 'text', 'integre', 'confortáveis', 'entregue', 'parecer', 'confinity', 'madrugada', 'suporte', 'malicioso', 'defender', 'encontramos', 'formulários', 'desmotivação', 'matplot', 'elementos', 'treine', 'remetendo', 'exemplar', 'satisfeitos', 'otimizam', 'bairro', 'começando', 'exponencialmente', 'ví', 'an', 'mudaram', 'different', 'passe', 'cross', 'objetiva', 'intacto', 'currículo', 'início', 'reaproveitável', 'escreva', 'desmistificar', 'contribuído', 'arrastar', 'abril', 'vista', 'divisível', 'vão', 'estabelecermos', 'viriam', 'perigosas', 'medir', 'limpar', 'surgiram', 'identificarem', 'russell', 'inadimplência', 'apontado', 'entrasse', 'mãozinha', 'argila', 'apareça', 'distribuída', 'alegria', 'autoloading', 'preencheu', 'teórico', 'referenciamos', 'vício', 'batalhas', 'transmitidas', 'abundante', 'functions', 'anéis', 'abordarmos', 'realidades', 'ii', 'dezoito', 'passava', 'aprimora', 'nisso', 'capturando', 'professional', 'views', 'outracontadamaria', 'proximo', 'acompanhem', 'aprenderia', 'começado', 'velha', 'descontado', 'percepções', 'circulo', 'sofrem', 'inteiramente', 'atenuação', 'regimentos', 'astericos', 'qualquercoisa', 'realmente', 'atração', 'fábricas', 'garantido', 'scanner', 'assunto', 'colocarei', 'devem', 'comportam', 'enviávamos', 'graduados', 'loucura', 'feedbacks', 'chamem', 'diária', 'terminam', 'corte', 'resource', 'rodamos', 'terceirizado', 'performance', 'sobrecarregar', 'tridimensional', 'sexo', 'bruxo', 'constituição', 'críticos', 'dojo', 'turbinado', 'repensar', 'ouvintes', 'ensinarmos', 'pechinchar', 'grid', 'pranchas', 'favorecem', 'sobrenomes', 'clicam', 'free', 'volante', 'passivos', 'agirá', 'digitos', 'cabeçalhos', 'emendam', 'balança', 'impossivel', 'proximidade', 'relacionado', 'paredes', 'chegue', 'melhoram', 'acelerada', 'none', 'aproxime', 'credencia', 'acontecerem', 'possuissem', 'embarquei', 'fusos', 'legível', 'descreve', 'sabao', 'visualizarmos', 'protagonizados', 'isolamos', 'mãe', 'webcam', 'saturação', 'sozinhos', 'deuteranomalia', 'revisados', 'strpos', 'complicação', 'enfatizamos', 'enfatiza', 'entity', 'inata', 'informes', 'interligações', 'reportados', 'silveira', 'truques', 'impressão', 'longhi', 'no', 'reduz', 'edge', 'recorram', 'esforço', 'tabelas', 'conseguiu', 'paginação', 'uptade', 'caudas', 'criança', 'trata', 'invista', 'sklearn', 'correu', 'não', 'debounce', 'colocados', 'indicativo', 'interferem', 'títulos', 'secundário', 'otimismo', 'inflar', 'díficil', 'artigos', 'consideraram', 'listagens', 'ligar', 'aprimorado', 'santos', 'motors', 'feedback', 'fors', 'lógica', 'command', 'importam', 'assistido', 'download', 'displays', 'contratempos', 'religioso', 'recomendável', 'apropriada', 'installation', 'servem', 'interativas', 'distribuições', 'ilustração', 'conseguisse', 'without', 'flyout', 'ampliada', 'ingressos', 'frequente', 'desapareceu', 'dei', 'transito', 'voltado', 'conforme', 'sofra', 'toquei', 'concentremos', 'workspace', 'referente', 'traduzido', 'imediatos', 'gerenciadores', 'websockets', 'usaria', 'ênfase', 'correlação', 'soltas', 'absorve', 'super', 'checar', 'conferindo', 'imutabilidade', 'maioria', 'alimentado', 'promete', 'habilitados', 'almirante', 'alinhamento', 'cards', 'perde', 'implementações', 'idademinima', 'abra', 'olhar', 'conseguirá', 'sento', 'turbinar', 'responsabiliza', 'indeciso', 'nodelist', 'estrategicamente', 'exija', 'aprofundado', 'paletas', 'potencialize', 'minutos', 'atributo', 'rotina', 'diminuído', 'dentes', 'especificamos', 'despenca', 'anexar', 'graves', 'tributação', 'queria', 'desligando', 'levaria', 'anotados', 'crescimento', 'acredito', 'remarketing', 'aparelho', 'param', 'pensados', 'probabilidades', 'explicativo', 'atento', 'freelar', 'celebrações', 'encantadora', 'nerdcast', 'raras', 'queríamos', 'tentação', 'vivia', 'significa', 'seventeen', 'cogitando', 'supervalorizar', 'programados', 'acabaram', 'gaussiano', 'apaixonada', 'velocímetro', 'wordpress', 'comentário', 'acessando', 'prop', 'formatador', 'foro', 'sustentar', 'lifelong', 'manja', 'deletaremos', 'coletivos', 'disponíveis', 'ensinamos', 'translatex', 'cabo', 'adaptei', 'estrelato', 'obter', 'comente', 'recomenda', 'ajudará', 'focados', 'enriquecer', 'tagged', 'interesses', 'centena', 'enxergado', 'owner', 'costumava', 'infinite', 'ordem', 'previmos', 'fundamentais', 'serp', 'software', 'protótipos', 'estiverem', 'desistem', 'positivamente', 'vírus', 'discutindo', 'equivocada', 'vlogs', 'façamos', 'matz', 'estejam', 'autores', 'limpo', 'planejando', 'triggers', 'preview', 'comprovam', 'drop', 'legibilidade', 'desatualizado', 'htmlbars', 'conseguirão', 'demandar', 'portanto', 'promovendo', 'mailto', 'efetivas', 'desenvolve', 'fugia', 'periodicidade', 'baixarem', 'ruido', 'aceitação', 'adicionarmos', 'versus', 'diferenças', 'metodologias', 'realizado', 'listener', 'iterando', 'continuarão', 'causem', 'incômodo', 'ae', 'suportam', 'imaginem', 'colocaremos', 'coimbra', 'fornecimento', 'sentirão', 'crazy', 'emprestadas', 'divulgue', 'hamilton', 'maniuplar', 'uniforme', 'syntaxerror', 'transformarmos', 'opa', 'motivou', 'juntamos', 'ilusório', 'estreia', 'caminhões', 'escutar', 'pop', 'costume', 'branding', 'cruzamentos', 'acordado', 'acréscimos', 'facilitando', 'vividas', 'pesada', 'reunidas', 'köhler', 'variáveis', 'resolveria', 'drawplus', 'fixo', 'armazenamento', 'criarem', 'chief', 'peixe', 'representativos', 'inspiração', 'inclusos', 'letter', 'audition', 'aspirantes', 'inviável', 'trabalharia', 'pisar', 'quintal', 'engaja', 'corrido', 'gunicorn', 'pergunte', 'miram', 'apartamentos', 'qua', 'roteadores', 'economizará', 'estipular', 'viajar', 'surfaces', 'etnia', 'chamaram', 'digitado', 'escorregar', 'emitido', 'reservado', 'mudam', 'exceto', 'necessidades', 'moro', 'apanhado', 'livres', 'investimentos', 'oferecia', 'sons', 'demanda', 'conectada', 'pijama', 'convidado', 'editores', 'expoentes', 'comida', 'equação', 'examina', 'soubesse', 'enfrentou', 'alfonso', 'aparentes', 'cerveja', 'wnezrpx', 'estudados', 'encontraram', 'filhos', 'alegres', 'diretórios', 'indicada', 'correções', 'compartilhamento', 'legendas', 'fullscreen', 'ondas', 'jakob', 'naquilo', 'lavar', 'travam', 'refatorar', 'trampos', 'nunca', 'computar', 'rodarem', 'testo', 'vítima', 'encontrabilidade', 'mão', 'daria', 'duplicidade', 'teriamos', 'arquitetônicos', 'alimentação', 'armazenando', 'espero', 'reclamava', 'crescentes', 'suprema', 'repetição', 'localmente', 'investigativa', 'tablets', 'wheel', 'elaborada', 'hashtags', 'empreendedores', 'raspando', 'reformular', 'prejudicariam', 'porém', 'atirar', 'vantajoso', 'shopping', 'pacotes', 'esqueça', 'assuma', 'viu', 'comprida', 'manipularmos', 'col', 'resulta', 'otimizando', 'reaproveitamento', 'grupo', 'presos', 'classe', 'procurei', 'netbios', 'professor', 'certeza', 'assinatura', 'interessadas', 'soltos', 'organize', 'cinquenta', 'cauê', 'fizeram', 'biblioteca', 'puderam', 'definam', 'falar', 'kung', 'levantar', 'versionamento', 'permitiriam', 'entrevistados', 'slides', 'irmos', 'grau', 'alignnone', 'empresarial', 'duro', 'shallow', 'comecei', 'responsividade', 'engatou', 'personalizáveis', 'sequencial', 'buffer', 'estudam', 'leilão', 'puxe', 'pratica', 'auditoria', 'diversa', 'let', 'fantástico', 'locutor', 'gratuito', 'honra', 'acomodando', 'modelagem', 'concursos', 'acompanhados', 'agradável', 'equívocos', 'desafiará', 'activities', 'encontrou', 'profissionalização', 'pôr', 'excesso', 'adotado', 'coordenação', 'elon', 'qualificada', 'determinou', 'funcionará', 'homenagens', 'imprimem', 'flávio', 'protege', 'cristina', 'lançado', 'sofrimento', 'desliga', 'aninhados', 'testa', 'coluna', 'solto', 'business', 'preferível', 'menosprezados', 'extensivamente', 'montantes', 'parceiras', 'entrevistas', 'conversarem', 'fotográfico', 'geometria', 'programadas', 'voltamos', 'hugo', 'critério', 'ilegível', 'artista', 'obscuros', 'plataformas', 'qualificadas', 'spectrum', 'changed', 'sentimos', 'eclipse', 'alheio', 'manifestações', 'enriquece', 'sérias', 'regularmente', 'minimamente', 'afetando', 'reutilizando', 'surface', 'honda', 'zero', 'desfavorável', 'pr', 'mestrado', 'especificidade', 'visualizados', 'void', 'encerramos', 'andrea', 'canhoto', 'moldes', 'mondays', 'vinheta', 'procurarmos', 'standards', 'científica', 'mandei', 'schema', 'terminei', 'reajustar', 'regulam', 'microcopies', 'forçar', 'semanticos', 'programe', 'estourado', 'refatorações', 'speed', 'desencurtador', 'devolveu', 'acessarão', 'curioso', 'redirecionando', 'visando', 'guis', 'solucione', 'leucemiazero', 'italiano', 'entrei', 'excluída', 'escolheram', 'acumulamos', 'redor', 'notação', 'literal', 'strategy', 'clean', 'sinalizar', 'movimentam', 'aprofunda', 'parcelas', 'moleculas', 'workdir', 'macêdo', 'tecnologias', 'largas', 'vm', 'suíço', 'inimiga', 'calculamos', 'freeimages', 'representava', 'clicavam', 'intencional', 'nível', 'flexibilização', 'havendo', 'locaweb', 'complexidades', 'enumerate', 'parecido', 'correspondência', 'proporcionavam', 'pneus', 'produtores', 'retocar', 'cuidar', 'preparam', 'binomiais', 'clicaram', 'bizarros', 'uris', 'nmb', 'goste', 'ciclos', 'provendo', 'perda', 'tímido', 'crista', 'isolarmos', 'livra', 'colecione', 'estradas', 'controlamos', 'entregarmos', 'dreamworks', 'googlebot', 'completa', 'linq', 'classificador', 'perdia', 'strengths', 'pontual', 'supervisionados', 'claras', 'acabou', 'vimos', 'processam', 'pagos', 'contras', 'acredite', 'modesta', 'disponibilizamos', 'faturas', 'repetir', 'humildade', 'nuget', 'batching', 'redigir', 'procura', 'iptus', 'perspicácia', 'câmbio', 'opiniões', 'atualização', 'refrigerante', 'map', 'centrais', 'darmos', 'pontuação', 'projeto', 'acadêmicos', 'º', 'química', 'apelo', 'verbo', 'resolvida', 'impede', 'inicialização', 'movermos', 'gera', 'monday', 'informais', 'mistério', 'estivessem', 'meiodetransporte', 'dark', 'incorreto', 'escolhidas', 'sintaxe', 'sobrou', 'califórnia', 'sub', 'beginindex', 'visado', 'negligência', 'eletrônico', 'atlético', 'vídeos', 'consumes', 'nesses', 'pedirmos', 'ifs', 'envolve', 'tweets', 'alterássemos', 'reivindicações', 'eights', 'gravações', 'básico', 'nps', 'atue', 'comprova', 'fracassar', 'zerado', 'custam', 'família', 'cruzado', 'arredonda', 'relatando', 'gigantes', 'godot', 'insiste', 'brasileira', 'cadeado', 'querem', 'voltam', 'mensurável', 'escalabilidade', 'indispensável', 'harmonicamente', 'revisamos', 'determina', 'perderão', 'errado', 'variable', 'disposta', 'curvos', 'deveriam', 'dispormos', 'unifica', 'possibilitar', 'jony', 'apresentam', 'cambridge', 'listamos', 'quadradinhos', 'custos', 'fcm', 'besteiras', 'engenhosa', 'desenvolvermos', 'capacitar', 'longe', 'impostas', 'varificando', 'feixe', 'andre', 'atendermos', 'sofisticados', 'solução', 'fundou', 'gerenciando', 'freela', 'mudará', 'navega', 'dígitos', 'existência', 'conclusiva', 'eixos', 'familiar', 'bonitos', 'fecharmos', 'mais', 'armazenava', 'plotagem', 'estrategista', 'robustas', 'porquês', 'cobrem', 'optar', 'descansado', 'conteúdo', 'mar', 'deliverys', 'airtravellers', 'tangerine', 'consistente', 'atraídas', 'xerox', 'recentemente', 'melhorou', 'derivam', 'removendo', 'marketplace', 'desing', 'compartilharmos', 'soutomario', 'linka', 'assustaria', 'inpirado', 'editar', 'minuto', 'travas', 'genérica', 'relações', 'vencimento', 'following', 'devianart', 'prédio', 'ficção', 'jovie', 'bjarne', 'anderson', 'enaltecer', 'reinterpretar', 'npe', 'ah', 'guardada', 'clientela', 'alarmes', 'virada', 'objeções', 'baa', 'benefício', 'únicos', 'ostentar', 'vento', 'tvs', 'ternários', 'pelos', 'prints', 'commons', 'cálculos', 'interações', 'encaravam', 'iterado', 'sobretudo', 'cumprir', 'seguras', 'desvio', 'teriam', 'entraram', 'omitir', 'infra', 'vencer', 'justificado', 'utilizada', 'importado', 'rankeie', 'põe', 'terabits', 'maximum', 'pequenas', 'br', 'portais', 'frio', 'gradual', 'afirmar', 'sacanagem', 'contrato', 'enviesamento', 'ninja', 'reparação', 'semestre', 'seleção', 'duplicate', 'sossegarão', 'distante', 'imensuravelmente', 'reconstruida', 'cases', 'copyright', 'almoçado', 'consumirem', 'traquejo', 'cms', 'convencionais', 'remunerações', 'criativo', 'provoque', 'passando', 'causam', 'pdt', 'defined', 'colarmos', 'ganhamos', 'fechamentos', 'comentável', 'kuler', 'verificados', 'configuração', 'timesheets', 'chineses', 'achei', 'escapar', 'espectador', 'crescerem', 'requisitamos', 'alteração', 'enxergamos', 'websites', 'familiarizar', 'removidas', 'repletos', 'adotaremos', 'analisada', 'familiarizados', 'lerem', 'oscar', 'router', 'subimos', 'refletido', 'finas', 'ipod', 'binários', 'familiares', 'desenvoltura', 'crescente', 'tag', 'incomum', 'patrocinador', 'expression', 'avião', 'portáteis', 'miller', 'desdobre', 'caminhada', 'sprites', 'acrônimo', 'muitas', 'fale', 'impactantes', 'emitir', 'empurrão', 'incríveis', 'arriscar', 'suportados', 'favoritos', 'níveis', 'sensibilidade', 'déficit', 'resolvermos', 'individuo', 'prestou', 'influenciador', 'portuguesa', 'deram', 'envolvimento', 'safe', 'rolou', 'trilhar', 'obsoleta', 'joão', 'totalmente', 'time', 'atendidas', 'batem', 'socket', 'brazil', 'investidos', 'convênio', 'estende', 'ofício', 'giovanna', 'fantásticas', 'arrojada', 'recompensar', 'preocuparmos', 'guaraná', 'mulher', 'expats', 'régua', 'matado', 'atividades', 'planning', 'social', 'análogas', 'pairing', 'busco', 'ferramente', 'compilada', 'assets', 'descartar', 'recuperar', 'passam', 'aperfeiçoa', 'intuitiva', 'evoluir', 'defendeu', 'selecione', 'recente', 'redimensionados', 'envie', 'equilibrar', 'dinheiro', 'gigabytes', 'afinal', 'decrescente', 'acreditamos', 'veiculação', 'subúrbio', 'descontraídos', 'soar', 'difundido', 'híbridas', 'impresso', 'gargalos', 'desenvolvi', 'cacheados', 'mudarvolume', 'reunindo', 'aluno', 'hipsters', 'vcf', 'finitos', 'simultânea', 'somaproduto', 'guardar', 'funcionarios', 'chown', 'aprimorei', 'vazia', 'balanceamento', 'desafiasse', 'chique', 'informação', 'laravel', 'enfrentar', 'inicie', 'pedem', 'hesitou', 'console', 'while', 'replicáveis', 'talento', 'mergo', 'impressionantes', 'configuramos', 'realizará', 'puxo', 'nicho', 'engenheiros', 'consultorias', 'mesclam', 'solicitou', 'notem', 'hds', 'negócios', 'separamos', 'inscreve', 'orgulhos', 'conectarem', 'row', 'kindle', 'confrontar', 'tais', 'bobos', 'compositor', 'surpresa', 'dormia', 'urgência', 'dificultar', 'glitter', 'avaliados', 'inserida', 'checkout', 'comer', 'substituídos', 'carente', 'premissas', 'acessamos', 'inteligentes', 'leve', 'gerenciada', 'lucro', 'anel', 'jquery', 'programamos', 'indicações', 'conectado', 'informar', 'relevantes', 'frisar', 'excluindo', 'terminado', 'arquiteto', 'acertar', 'fosco', 'réplica', 'troque', 'aumentando', 'manterá', 'hh', 'brito', 'precisa', 'ong', 'regionalização', 'imersos', 'ultrapassados', 'carecem', 'este', 'opção', 'preocupados', 'colisão', 'categorias', 'testados', 'aprimorada', 'pseudoclasses', 'personalizar', 'baterem', 'finaliza', 'herdarem', 'getcor', 'petulante', 'apt', 'osx', 'guardados', 'correios', 'bendito', 'integrando', 'fragmento', 'acrescentam', 'campeonato', 'codepen', 'fazem', 'cópias', 'procurava', 'deformada', 'disney', 'sondar', 'externos', 'verificamos', 'utilizarmos', 'object', 'corpos', 'terminarmos', 'df', 'chegarão', 'ocultas', 'braspag', 'apertamos', 'mantida', 'estranha', 'colou', 'cargos', 'mergulhar', 'físico', 'desordenados', 'preferiu', 'perfis', 'elaborou', 'futsal', 'brasil', 'dinares', 'passamos', 'informativo', 'filtragem', 'turini', 'consiga', 'ouviram', 'bobo', 'trabalhe', 'válidas', 'uiimage', 'copa', 'rabiscos', 'invertemos', 'sublinhado', 'presidencial', 'prancheta', 'function', 'contorno', 'accelerometer', 'checando', 'dela', 'durantes', 'parâmetros', 'poxa', 'forum', 'susan', 'abacaxi', 'restrito', 'respondiam', 'encaixem', 'adquirindo', 'euro', 'andará', 'construiu', 'tópico', 'senhas', 'screencasts', 'lançados', 'utilização', 'all', 'reposicionar', 'cem', 'descompacte', 'na', 'finos', 'lottie', 'memes', 'empenhado', 'rigidez', 'philadelphia', 'folders', 'transportar', 'escolhendo', 'fez', 'comprar', 'analisaram', 'evoca', 'incrivel', 'adesões', 'atrasam', 'mantivesse', 'possibilidades', 'duvida', 'bela', 'nasce', 'proposição', 'src', 'compatibilidade', 'calligra', 'decidiram', 'acharam', 'paralama', 'eliminaria', 'distintos', 'copiasse', 'minimizando', 'caca', 'alcançada', 'okhttp', 'passarão', 'moram', 'realização', 'trancados', 'módulo', 'exagerado', 'trazidas', 'venta', 'executam', 'this', 'art', 'categoria', 'premiações', 'modificou', 'retrocompatibilidade', 'combina', 'vínhamos', 'artesão', 'deva', 'silvio', 'antropológicos', 'retomamos', 'avulsas', 'milhares', 'aproveitando', 'executando', 'monte', 'redefinida', 'tremenda', 'mostrem', 'overflow', 'mapeando', 'resolvendo', 'typescript', 'óculos', 'integridade', 'cortar', 'pertencem', 'christian', 'sobrescreve', 'deletada', 'ch', 'atacar', 'entrou', 'comprou', 'reduzimos', 'inserts', 'end', 'mesmos', 'voltada', 'percorrido', 'entrarem', 'gesso', 'preocupar', 'particularidade', 'aptidão', 'for', 'exijam', 'gravidade', 'inspirações', 'popup', 'criavam', 'gifs', 'erros', 'projetinho', 'especificarmos', 'ou', 'deitado', 'empregue', 'calculada', 'nove', 'página', 'focadas', 'tema', 'médio', 'curtiu', 'exclusivamente', 'ar', 'shampoo', 'marcou', 'voltaremos', 'arquivos', 'estendendo', 'expor', 'vaidade', 'ciladas', 'copia', 'acrescentado', 'atingidos', 'virar', 'removi', 'associarmos', 'fundamento', 'cancelou', 'londres', 'estando', 'lança', 'virtualenv', 'parallels', 'mudava', 'remoção', 'nervos', 'erick', 'ensina', 'associados', 'redis', 'antigas', 'aumente', 'trocará', 'vantagem', 'polimorfismo', 'eles', 'olhando', 'ligadas', 'acabando', 'formatações', 'começarmos', 'correção', 'orientar', 'ouvidos', 'modificada', 'equipamentos', 'principais', 'hover', 'adicionadas', 'desligar', 'traço', 'pull', 'dosagem', 'exportando', 'conversas', 'mundial', 'voltará', 'caio', 'controller', 'emergiram', 'dispensam', 'perseguir', 'fadein', 'devolvidos', 'analisemos', 'telnet', 'aperto', 'último', 'jeitos', 'gcc', 'desempenhada', 'lucrem', 'semestrais', 'retangular', 'áreas', 'descriptions', 'precisaria', 'repercussão', 'ortográficos', 'pornografia', 'significaria', 'dali', 'incentivava', 'greves', 'neutralidade', 'engenier', 'vanessa', 'web', 'assossiação', 'movimentando', 'claro', 'confirmado', 'cansar', 'desaparecido', 'reorganizamos', 'internet', 'formalize', 'seta', 'dependem', 'eficiente', 'arquiteturais', 'transformávamos', 'retrabalhos', 'altamente', 'pintou', 'varios', 'direcionasse', 'blocks', 'monetize', 'produtos', 'interpretada', 'olho', 'suspeita', 'repetitiva', 'falem', 'lançamento', 'cuidador', 'voz', 'emulator', 'recebemos', 'mantenham', 'vw', 'delimitador', 'vanguarda', 'extrapolação', 'literals', 'pseudo', 'especificamente', 'alterado', 'fusão', 'necessidade', 'prata', 'hahaha', 'material', 'ministrada', 'flags', 'coordenadores', 'precisarão', 'afetados', 'criadas', 'doido', 'apaixonado', 'limpando', 'armazena', 'decahexateto', 'ratinho', 'cumpra', 'instanciada', 'trancada', 'subdomínio', 'compradores', 'teatro', 'promovidas', 'corrigido', 'significativos', 'vermelho', 'treinamos', 'conheçamos', 'viola', 'levando', 'obrigatoriamente', 'passados', 'leitura', 'mínimas', 'liste', 'lerdo', 'sigla', 'superusuário', 'cinza', 'request', 'enxergam', 'procuraram', 'cair', 'conquistar', 'próprias', 'estudante', 'itera', 'cena', 'flutuantes', 'telsp', 'rocco', 'servlet', 'longevidade', 'medição', 'interferisse', 'organizações', 'beleza', 'coincidência', 'implementam', 'dívidas', 'getdeclaredfields', 'aspecto', 'convidei', 'primeiro', 'prefira', 'impressionar', 'melhoriais', 'wears', 'dita', 'seguintes', 'localiza', 'compartilharem', 'love', 'diversificadas', 'combinamos', 'reserva', 'mvc', 'museus', 'precisarem', 'especifico', 'voos', 'encurtar', 'arte', 'interessa', 'canvas', 'videoconferências', 'só', 'reorganize', 'transação', 'responderam', 'segui', 'antiga', 'zona', 'ofensivo', 'aceitam', 'declarar', 'ajustar', 'desejarem', 'pizza', 'voluntários', 'torne', 'alpn', 'fabiano', 'unânime', 'inclinar', 'interessou', 'movimente', 'proporcionará', 'nomeada', 'alfa', 'incrementado', 'aprimorou', 'fundos', 'recebidos', 'descubram', 'contextos', 'dono', 'tolerante', 'arrebatou', 'gigantesco', 'emergências', 'saberemos', 'filtro', 'boletos', 'postura', 'parke', 'suportavam', 'executem', 'quantitativas', 'sugeriu', 'exercícios', 'plataforma', 'rumo', 'respeitoso', 'instruções', 'gráficos', 'just', 'relevância', 'sans', 'confiança', 'imprensa', 'espantando', 'pao', 'coisinhas', 'idênticas', 'certified', 'válida', 'duplas', 'desenvolvidos', 'exportável', 'visualizadas', 'verbosidade', 'ativado', 'abaixar', 'injetados', 'pokémon', 'substituído', 'listaautomoveis', 'observação', 'automáticas', 'gostam', 'assertivas', 'iam', 'mencionados', 'gateways', 'naquelas', 'instrumentais', 'suportar', 'enxergou', 'you', 'efetividade', 'checagem', 'repare', 'construindo', 'hootsuite', 'saiam', 'aliando', 'esperam', 'supersoma', 'faixas', 'desligada', 'account', 'contéudo', 'usar', 'isolar', 'eu', 'incremental', 'gastando', 'chocolate', 'melhoramos', 'hifenização', 'seguiremos', 'misturarem', 'realçar', 'curtos', 'técnicos', 'datados', 'querer', 'psd', 'distribuído', 'aprendidos', 'analisou', 'velocidades', 'colaboradoras', 'passem', 'barramento', 'falando', 'sobrecarga', 'emocional', 'desejado', 'competidor', 'licenciar', 'falsificar', 'abundância', 'produzindo', 'culturas', 'inimigos', 'dando', 'post', 'década', 'escolhas', 'intensa', 'namepsace', 'caroneiros', 'concorda', 'tese', 'escalável', 'precisando', 'trajeto', 'webservice', 'ganharão', 'válvulas', 'substancialmente', 'adapter', 'fracasso', 'ongs', 'criarmos', 'aumentarão', 'cambio', 'praticamente', 'lightroom', 'simplicidade', 'mu', 'capacidade', 'reutilizamos', 'esclareçam', 'apresentando', 'televisão', 'espeficífico', 'unicode', 'redefinição', 'moleza', 'howard', 'significados', 'objetivos', 'anexe', 'relembrar', 'alvo', 'mb', 'peças', 'dificultavam', 'entrem', 'devo', 'alinhamentos', 'tamanhos', 'vislumbrar', 'flutuação', 'starred', 'bidimensional', 'paz', 'autopromoção', 'rodapés', 'permissão', 'servidores', 'standard', 'assimilação', 'passeie', 'tablet', 'nintendo', 'reforço', 'sucinto', 'carregando', 'exercem', 'causaria', 'abri', 'concentram', 'reis', 'ansiava', 'sediadas', 'gramática', 'dividindo', 'curados', 'favoreça', 'development', 'oficiais', 'misturado', 'brasileiro', 'harmônico', 'pesonagens', 'numérico', 'pass', 'cultivar', 'consumidoras', 'tentado', 'àqueles', 'protegido', 'reforçado', 'exigir', 'exchange', 'acreditava', 'acostumando', 'formatando', 'silenciosamente', 'televisivo', 'testando', 'funcione', 'recebidas', 'resultado', 'colocando', 'fone', 'represente', 'acreditei', 'impactar', 'considerável', 'alterações', 'melhoria', 'utilizasse', 'acessório', 'tentar', 'contínuo', 'sonoro', 'sorte', 'inferir', 'preveja', 'const', 'positivo', 'abreviando', 'layouts', 'deslizar', 'sugerindo', 'certinha', 'pensavam', 'chato', 'trocadas', 'parametrodaquery', 'famosas', 'normalmente', 'jsf', 'concatenamos', 'pódio', 'marcado', 'aguiar', 'modernos', 'bonilha', 'enjoei', 'plagiado', 'cisco', 'paira', 'sorting', 'esforce', 'escopos', 'saggio', 'instala', 'dadosemjson', 'busca', 'semântica', 'melodias', 'modificando', 'proativa', 'concatenando', 'think', 'abstração', 'perguntou', 'automático', 'escritor', 'lúdico', 'tratarem', 'construções', 'amplo', 'tentadores', 'vmax', 'gyroscope', 'wireframe', 'objective', 'matérias', 'consistentemente', 'tintas', 'escolheu', 'processa', 'interrupção', 'convidados', 'pudemos', 'colaborem', 'aluguel', 'destruir', 'apresentar', 'prospect', 'ajudando', 'recrutadores', 'aquecido', 'instante', 'âncora', 'crises', 'agni', 'múltiplas', 'baixas', 'pai', 'apaixonaram', 'refinando', 'menssagem', 'submissão', 'oferecer', 'funcionava', 'inúteis', 'manterem', 'reprovado', 'investidores', 'agente', 'inferior', 'peraí', 'entregou', 'instaurar', 'minúscula', 'manter', 'bosque', 'botijão', 'instalarem', 'aspirante', 'ande', 'tentassem', 'print', 'powerdirector', 'pensador', 'decisivo', 'permitimos', 'sócio', 'fabio', 'sim', 'rígido', 'inclua', 'compactar', 'sobrevivência', 'combinam', 'atingido', 'outros', 'provoca', 'collaaj', 'bitmap', 'travada', 'ferviam', 'centro', 'confecção', 'desnecessários', 'includes', 'xmpp', 'delimitar', 'screenshot', 'ambientações', 'otimizado', 'aconteceria', 'gerente', 'mapa', 'controles', 'foreach', 'revolucionado', 'subcamada', 'né', 'indicarmos', 'coding', 'version', 'bonitinho', 'demonstrada', 'lermos', 'pencil', 'sào', 'documento', 'sobreposição', 'ouch', 'cubos', 'exemplos', 'particular', 'tanta', 'marcação', 'individual', 'hacks', 'conhecemos', 'versatilidade', 'lacunas', 'modificam', 'oportunista', 'isoladas', 'glamuroso', 'frame', 'comprovados', 'qualidade', 'versátil', 'interfira', 'cobradas', 'potência', 'hesite', 'auxiliam', 'customizável', 'otimização', 'legalmente', 'bucket', 'estudo', 'principalmente', 'empobrece', 'apreciar', 'aparelhos', 'destrinchar', 'recalculam', 'explore', 'buscamos', 'acumulou', 'sangue', 'ave', 'gratuitos', 'background', 'faixa', 'gravando', 'apostilas', 'respeite', 'entrando', 'ensinam', 'pizzaria', 'excessos', 'espaçamento', 'menina', 'despercebidas', 'leio', 'inscreviam', 'sentido', 'amigos', 'chamam', 'pagina', 'multiplica', 'balsamiq', 'segmentos', 'sintático', 'marciano', 'desnecessário', 'cifrado', 'conquistando', 'referenciam', 'gamestorming', 'redimensionamentos', 'simplificada', 'fatec', 'mailchimp', 'causou', 'esclarecido', 'preocupamos', 'partição', 'abraço', 'publicitárias', 'deflação', 'fundo', 'constrangedoras', 'fronteiras', 'case', 'unlicense', 'capte', 'type', 'transportes', 'disco', 'claramente', 'pc', 'controlar', 'ficando', 'inimigo', 'executáveis', 'expressar', 'stdout', 'trazermos', 'conversa', 'tab', 'dedos', 'exibimos', 'cadastrando', 'roteador', 'chamarmos', 'namespace', 'significamente', 'ajax', 'adapte', 'adiante', 'burocracias', 'sofria', 'probleminha', 'piso', 'famigerado', 'execute', 'startups', 'subindo', 'particulares', 'introduzindo', 'telefones', 'entusiastas', 'acadêmica', 'codificar', 'golpe', 'bundle', 'herdada', 'trabalhado', 'fórmulas', 'apaguem', 'template', 'somou', 'vir', 'meu', 'linear', 'modificar', 'núcleo', 'ideais', 'william', 'infrastructure', 'preferida', 'mindset', 'exceções', 'selected', 'fortalecimento', 'graphicburger', 'faculdade', 'projetando', 'vise', 'necessite', 'poste', 'batermos', 'expediente', 'simétrica', 'counts', 'lugar', 'riqueza', 'camtasia', 'interior', 'pouso', 'intermediárias', 'medium', 'hífens', 'abordando', 'patenteados', 'fazerem', 'perdendo', 'gibis', 'estranhas', 'diversão', 'acabem', 'removida', 'solucoes', 'vivemos', 'estrangeira', 'dominam', 'indices', 'detectar', 'experimentos', 'quatro', 'influenciam', 'evitarem', 'homologação', 'acelerômetro', 'digo', 'paixão', 'garantem', 'firmar', 'variados', 'aparecido', 'mei', 'compreendemos', 'tangível', 'adora', 'gambiarras', 'disponibilizarmos', 'amarelos', 'inspiracional', 'pura', 'centímetro', 'decidir', 'específicos', 'visumbrei', 'scripting', 'fenomenal', 'básicos', 'john', 'timing', 'calculando', 'piratas', 'carinha', 'fictícia', 'aumentarmos', 'inválido', 'gartner', 'queira', 'exclusivas', 'melhorarmos', 'consumida', 'consumo', 'corresponda', 'pesquisamos', 'foruns', 'exercidas', 'geométricas', 'destacamos', 'oferecido', 'depararmos', 'proprietários', 'resumidamente', 'nodejs', 'bolar', 'possibilitando', 'comentarão', 'foreground', 'hibernate', 'amizades', 'engessado', 'argumentar', 'bíblia', 'abandonando', 'menu', 'reparem', 'roxo', 'baixos', 'courses', 'rotulou', 'estrelas', 'ganho', 'testamos', 'matricular', 'mecanismo', 'mostradores', 'potencial', 'identificamos', 'lang', 'pulando', 'limitada', 'setando', 'acerta', 'ousadia', 'desvantagem', 'cobrir', 'magalhães', 'discute', 'avanço', 'três', 'jared', 'questionará', 'preenchi', 'musculação', 'quanta', 'ganhado', 'tirada', 'affinity', 'passageiro', 'nivelar', 'entorno', 'imergir', 'decepcionados', 'comunique', 'ufa', 'changes', 'been', 'fiddle', 'apresentados', 'atrasos', 'escape', 'trabalhem', 'revoluciona', 'sentida', 'satisfatória', 'high', 'tivessem', 'notei', 'ansi', 'wall', 'desapareça', 'colaboradora', 'find', 'native', 'invocada', 'streaming', 'ctas', 'orientasse', 'apto', 'mapeamos', 'applayoutbar', 'dart', 'fortemente', 'especialidades', 'conhecer', 'engajar', 'visualiza', 'trivial', 'manifest', 'parques', 'talentos', 'analisados', 'estatística', 'personalizada', 'diagramar', 'sabia', 'receberá', 'marcobrunobr', 'pedaços', 'alunos', 'interpretador', 'middleware', 'muita', 'gratuitamente', 'dialogo', 'coletânea', 'conservadora', 'prototipar', 'declaração', 'regredi', 'preto', 'toalha', 'chão', 'daí', 'áfrica', 'digam', 'ilegais', 'mira', 'porcentagens', 'bolinhas', 'slugs', 'aparente', 'gerência', 'coleções', 'imutável', 'controlarmos', 'citar', 'neste', 'sustentada', 'aula', 'ce', 'mostre', 'competitividade', 'declarando', 'freelas', 'mensuram', 'tentássemos', 'target', 'quadrada', 'resistência', 'deixado', 'reformulação', 'hang', 'procurar', 'premiados', 'glauco', 'impacta', 'descrevemos', 'ftp', 'reestruturação', 'bagunça', 'customizando', 'age', 'passagem', 'aprofundar', 'saffer', 'butter', 'hamburguer', 'introduziu', 'assustadoras', 'legíveis', 'gerarem', 'estimar', 'porque', 'considero', 'retornar', 'esqueci', 'teve', 'imprevisibilidade', 'favorito', 'contrastante', 'formiguinha', 'repetidos', 'margem', 'clicasse', 'daemon', 'tarifa', 'openssl', 'exemplares', 'caber', 'lembram', 'termo', 'ganhos', 'sugestão', 'incentivados', 'pára', 'nossos', 'apontamentos', 'automatização', 'procuradas', 'retornado', 'pinterest', 'desk', 'pensamento', 'incentivou', 'industrialização', 'componentizando', 'join', 'l', 'solar', 'sobrescrita', 'decorativos', 'liberdade', 'híbrida', 'participando', 'plugin', 'murty', 'perceberá', 'institucionais', 'demore', 'obtive', 'persistidos', 'agrupada', 'mude', 'esquecerá', 'blocos', 'bloqueada', 'fundamental', 'utilidade', 'firme', 'submetidas', 'ortografia', 'superar', 'angularjs', 'liga', 'ampliado', 'veiculados', 'especificada', 'custa', 'mobilestudio', 'paas', 'desvirtua', 'consultório', 'multiplicador', 'geram', 'equivalem', 'procedimentos', 'principal', 'database', 'prejudicado', 'tapando', 'fotografias', 'itálico', 'acerto', 'pacote', 'atenda', 'quiser', 'indesejáveis', 'normas', 'monolítica', 'acertou', 'steves', 'perguntado', 'digital', 'criptografada', 'provavelmente', 'doloroso', 'chatas', 'randall', 'implementou', 'será', 'popularizaram', 'estagnação', 'simbólico', 'caracteres', 'ações', 'transmitida', 'assuste', 'recapitular', 'dividida', 'automotivo', 'felicio', 'interagiu', 'esboçar', 'subinterface', 'pressionarmos', 'puros', 'registra', 'frustrarem', 'procurávamos', 'levantando', 'fronteira', 'estão', 'adiantada', 'segmentação', 'gratuitas', 'consumirão', 'depoimento', 'apareceram', 'une', 'tinha', 'navegabilidade', 'interiores', 'houve', 'dito', 'parte', 'premiado', 'viraram', 'priorizam', 'precisão', 'verem', 'opte', 'everystockphoto', 'sociedade', 'estabilidade', 'espere', 'correspondendo', 'gerar', 'isolamento', 'recomendada', 'venho', 'eventos', 'renovam', 'preço', 'tecnicidades', 'digitadas', 'enxerguei', 'popularidade', 'ocorrem', 'dunnnk', 'preferirei', 'fantástica', 'balanço', 'economicamente', 'confusões', 'perderá', 'gravado', 'funcionando', 'tuíta', 'cuidados', 'contraste', 'bored', 'submetidos', 'conhecendo', 'processo', 'cassiopeia', 'segmentadas', 'completaram', 'sessão', 'modinhas', 'zencastr', 'conseguiria', 'padronizar', 'listei', 'diploma', 'manipular', 'trial', 'didaticamente', 'cursa', 'em', 'intermedia', 'colagens', 'desapegamos', 'admira', 'nas', 'preguiçoso', 'profundas', 'compressão', 'cadastro', 'desempacotar', 'estenda', 'ricos', 'prosseguir', 'vazio', 'brandlovers', 'cds', 'assinado', 'comprimento', 'habilitando', 'realocado', 'divido', 'devia', 'bytebank', 'integrados', 'vislumbraram', 'kde', 'positivas', 'acompanhadas', 'retornou', 'mera', 'sonhada', 'cada', 'dizer', 'complicada', 'plana', 'recompensam', 'corretas', 'analise', 'levou', 'disto', 'ascendente', 'confesso', 'cascata', 'vivendo', 'descemos', 'armazém', 'homenageamos', 'yan', 'bonitas', 'divulgarem', 'receberia', 'estacionamento', 'corefx', 'ultra', 'ganham', 'preferiria', 'atrasa', 'quebrar', 'zeldas', 'fornecedores', 'analisado', 'hipotética', 'histórico', 'user', 'editoração', 'começaram', 'gerenciam', 'word', 'leite', 'descomplicado', 'nova', 'ok', 'consciente', 'unit', 'obrigatórias', 'específicar', 'porção', 'fisher', 'revitalizado', 'coletando', 'consumidor', 'versos', 'tunísia', 'expirar', 'emergem', 'selecionados', 'parseint', 'retornados', 'yaml', 'resolvido', 'descontraído', 'adicionaram', 'bastidores', 'criará', 'buscas', 'revisado', 'despertem', 'acontecendo', 'desafio', 'eletromagnéticas', 'frustrados', 'relatórios', 'ganharíamos', 'levantamos', 'iniciar', 'alinhar', 'anualmente', 'discussões', 'voltou', 'existido', 'geramos', 'ensinados', 'destacar', 'organismo', 'infográfico', 'configurei', 'kpis', 'temiam', 'movimentos', 'ficou', 'externas', 'democratizado', 'reformulamos', 'tente', 'guardadas', 'orgânicas', 'strange', 'swift', 'emergindo', 'solitária', 'apropriadas', 'palpáveis', 'into', 'thread', 'fixure', 'especializados', 'perceptível', 'encontrada', 'consistem', 'posição', 'precisamos', 'complicadíssima', 'getinstance', 'colocado', 'lembre', 'herda', 'programmer', 'levantamento', 'mutabilidade', 'livestreams', 'esquece', 'bastaria', 'engine', 'ios', 'cativante', 'século', 'importamos', 'fornecendo', 'obteve', 'caminhadas', 'comento', 'vba', 'copiaram', 'baixáveis', 'mostrarmos', 'estritamente', 'comprada', 'recai', 'aguarde', 'prolongamentos', 'aprenderá', 'confirmou', 'gabando', 'convergir', 'habituar', 'thanos', 'praticando', 'desfrutar', 'saberá', 'americano', 'marca', 'defesa', 'jvm', 'kalbach', 'percebidos', 'vejam', 'document', 'reflexão', 'licença', 'documentando', 'sales', 'procure', 'premium', 'dup', 'growth', 'manipulador', 'recomendaria', 'especializadas', 'marcações', 'reclamando', 'movendo', 'hábito', 'latitude', 'preconceito', 'completo', 'votos', 'sdist', 'toy', 'bolo', 'disponibilizados', 'dom', 'markdown', 'ilustrativos', 'ilustradores', 'ficha', 'trouxesse', 'apresenta', 'referirmos', 'cavaquinho', 'desestimula', 'desengajadas', 'emprego', 'reagiram', 'refletirmos', 'confundir', 'comparison', 'experimentavam', 'etária', 'entry', 'continuariam', 'alemanha', 'svn', 'emulador', 'ensinada', 'sonhos', 'tendências', 'comentou', 'mongodb', 'cartazes', 'acessa', 'lavanderia', 'russo', 'emerson', 'assinalar', 'contratos', 'imagina', 'extrair', 'remediando', 'mim', 'apelativo', 'places', 'serifados', 'dormindo', 'dominando', 'enfrentei', 'convertidos', 'sedes', 'seguros', 'destaque', 'focou', 'conselho', 'serie', 'meios', 'jogaremos', 'assaltadas', 'vestem', 'atentar', 'deseja', 'rhodecode', 'vibrações', 'solicitadas', 'trinta', 'respiração', 'transparências', 'portátil', 'bolso', 'eis', 'delimite', 'simplificadas', 'bmp', 'cobrirem', 'engines', 'vermelhinho', 'aliados', 'aliviaria', 'management', 'neutra', 'textos', 'ajustados', 'terceiros', 'estampada', 'trouxemos', 'espairecer', 'desktop', 'indicadores', 'roboto', 'componente', 'typography', 'curvo', 'android', 'entrelinhas', 'combine', 'pwned', 'seu', 'aplicarmos', 'anchored', 'concentração', 'ip', 'afetavam', 'entendamos', 'orientado', 'safado', 'trafegam', 'hub', 'afetada', 'nossa', 'mobiles', 'logins', 'vejo', 'individualidade', 'mescla', 'reedição', 'gecko', 'melhor', 'eua', 'explorarmos', 'entregará', 'jornal', 'demarcação', 'popularizou', 'fireworks', 'complicou', 'escuta', 'escritos', 'venham', 'avaliar', 'clonando', 'especificando', 'confusão', 'identificaremos', 'empresariais', 'lucrativas', 'gordas', 'deficiências', 'investigando', 'hsv', 'efervescência', 'meia', 'espinhosos', 'pensemos', 'agora', 'revelaram', 'frequências', 'olham', 'bemerizamos', 'encaixa', 'buscaram', 'toque', 'ordenando', 'tomaremos', 'hazanavicius', 'cruza', 'conseguiam', 'magnético', 'disse', 'benéfica', 'deixem', 'ganhe', 'hours', 'felizmente', 'elements', 'encarou', 'respiro', 'fornece', 'empresária', 'apontando', 'puras', 'singup', 'reiniciando', 'rg', 'determinarmos', 'virtualizado', 'famoso', 'constatar', 'agradece', 'resolva', 'assisti', 'agressividade', 'iniciarmos', 'rola', 'incluí', 'visualize', 'cometer', 'reclamação', 'impressoras', 'formular', 'falsas', 'índice', 'indicássemos', 'resultaria', 'gigahertz', 'desqualificado', 'permissionamento', 'indivíduo', 'patrocinadores', 'entidades', 'consideradas', 'len', 'buscador', 'corretor', 'respondida', 'susto', 'multichannel', 'plásticos', 'estranhe', 'contornar', 'remandar', 'rosto', 'dan', 'dispensando', 'mamífero', 'wildcard', 'requestmapping', 'nomes', 'atrasado', 'convívio', 'autenticação', 'informática', 'representa', 'bastantes', 'desmontar', 'programar', 'ruídos', 'ocorresse', 'agrupa', 'ppc', 'testado', 'mundiais', 'evitam', 'webkit', 'dependencies', 'metaball', 'tranquilas', 'atenciosa', 'maldade', 'utilizarão', 'seguramente', 'um', 'assustar', 'activity', 'selecionei', 'estanque', 'rodo', 'clipper', 'assistem', 'binding', 'emprega', 'learning', 'status', 'respirando', 'porfolio', 'gasolina', 'à', 'absorver', 'active', 'arma', 'sintonia', 'devaneios', 'qual', 'cuidadosamente', 'exploram', 'precisarei', 'indica', 'float', 'entenderem', 'interessado', 'order', 'yuzo', 'corridas', 'absurdo', 'digitais', 'animation', 'calendar', 'bruno', 'caiu', 'análoga', 'entretanto', 'perguntamos', 'fecham', 'startswith', 'irei', 'pretendiam', 'modificadas', 'xviii', 'mensure', 'tesoura', 'elétrica', 'arquivadas', 'entregando', 'aparecerem', 'horripilante', 'remixando', 'estabelece', 'cidades', 'delete', 'testarei', 'filtrado', 'olhou', 'ouvirá', 'desaparecimento', 'customizações', 'tirou', 'ministrar', 'consequentemente', 'ajudaram', 'pote', 'disponível', 'arrepender', 'impedir', 'abrangem', 'bonitnho', 'investiram', 'clicar', 'espacial', 'wingbirds', 'marcada', 'espalhar', 'cadastra', 'mantido', 'equipara', 'dose', 'tamaho', 'entrará', 'possíveis', 'aumentado', 'bastasse', 'invocar', 'padrões', 'balões', 'tipográfica', 'motoristas', 'dev', 'tratarei', 'sugiro', 'conseguíssemos', 'evoluí', 'escolhe', 'montarmos', 'inexistência', 'comercial', 'caso', 'seos', 'monetário', 'quantia', 'writing', 'muito', 'instalar', 'incentivos', 'transmitiam', 'classificando', 'rumores', 'friendly', 'recheada', 'cumprimentos', 'compensatório', 'comunicarmos', 'amplamente', 'gastaríamos', 'avatares', 'considerem', 'árvore', 'contarmos', 'pera', 'contínuos', 'formado', 'voltagem', 'atribuida', 'diretivas', 'manutenível', 'agências', 'atualize', 'barrados', 'prolancer', 'castelo', 'quatros', 'preposições', 'inspect', 'abordaremos', 'getvelocidade', 'hora', 'demonstramos', 'microempreendedor', 'previsões', 'ps', 'negotiation', 'pareça', 'loja', 'setoriais', 'monstrinho', 'arredondamentos', 'economizamos', 'pouquíssima', 'pip', 'supostamente', 'lambdas', 'cogite', 'expressões', 'apertados', 'imperatividade', 'vagas', 'apontaria', 'precisasse', 'nginx', 'nula', 'guardem', 'proveitosa', 'prazo', 'tipografia', 'adapta', 'horizontal', 'digitaram', 'fracos', 'subjetivos', 'sutil', 'partindo', 'anúncio', 'encapsulamos', 'mandarmos', 'multas', 'determinará', 'microondas', 'gravei', 'adiar', 'ecmascript', 'abriram', 'modernas', 'identificação', 'validada', 'dificultava', 'inverted', 'ângulos', 'adeptos', 'latido', 'sujeita', 'trabalhamos', 'ultimos', 'expressiva', 'controlados', 'metalizados', 'constatação', 'reúnem', 'outra', 'publicar', 'acreditam', 'acessado', 'mecanismodeaceleracaodecarros', 'metodologia', 'doideira', 'pmes', 'pudéssemos', 'chegarmos', 'pedidos', 'listar', 'conseguirei', 'sendo', 'comet', 'conheço', 'montamos', 'sonoros', 'suave', 'improvável', 'shark', 'ativo', 'corrigir', 'ocean', 'reserve', 'diminuíram', 'etapa', 'notificamos', 'coleateral', 'parameter', 'formatura', 'valorizadas', 'pousar', 'ajustado', 'treehouse', 'levei', 'promessa', 'renomeando', 'administrativo', 'fatiamento', 'metros', 'contam', 'existe', 'teoricamente', 'remete', 'ignorarem', 'serviços', 'regime', 'computacionais', 'magia', 'func', 'educadores', 'seguiam', 'inbound', 'contribuiu', 'jurídicas', 'integralmente', 'go', 'suporta', 'analisando', 'detached', 'variadas', 'sugeriria', 'avinash', 'britânicas', 'correm', 'christiano', 'observou', 'automatizando', 'prévio', 'loop', 'demorei', 'episódios', 'mau', 'adquirir', 'computação', 'vivências', 'merecem', 'payday', 'compraram', 'numérica', 'escritora', 'pareceu', 'inapropriado', 'invenções', 'avaliada', 'combinação', 'interagir', 'garras', 'patamar', 'composições', 'reescrevendo', 'consideramos', 'achávamos', 'bolsa', 'pirou', 'contábeis', 'frear', 'common', 'adjustment', 'promissoras', 'espertinho', 'atuação', 'agilidade', 'tomávamos', 'teórica', 'jogou', 'cansado', 'iterativos', 'antenada', 'escrevemos', 'utilizamos', 'inegável', 'terríveis', 'interligada', 'minimizamos', 'abríssemos', 'ilustre', 'mecâncias', 'cruzamento', 'preferencialmente', 'contato', 'adivinhação', 'sincronizando', 'imaginam', 'fullstack', 'calcularemos', 'proporção', 'sanguínea', 'convence', 'recortes', 'registrei', 'curtido', 'glorioso', 'more', 'representam', 'freelafree', 'mercado', 'javac', 'spec', 'vectorilla', 'etiqueta', 'meditor', 'horizontes', 'mapeie', 'justificados', 'mangas', 'trabalhistas', 'ruby', 'directory', 'framework', 'clones', 'gerenciava', 'lembra', 'planejam', 'consta', 'glossários', 'sites', 'projeções', 'suportadas', 'parodiando', 'bastando', 'responsabilidade', 'enxutas', 'suportando', 'subjetividade', 'dificuldades', 'próteses', 'assaltos', 'descartado', 'colorir', 'import', 'retrabalho', 'insegura', 'buscado', 'estruturamos', 'adiantar', 'pacotão', 'perigos', 'contribuições', 'cresce', 'acrescentaremos', 'agência', 'farol', 'parecem', 'influenciada', 'ativos', 'corriqueiro', 'linkedin', 'naves', 'autoridade', 'falhar', 'materiais', 'britânica', 'par', 'requisição', 'presenciamos', 'triste', 'geraria', 'inspirar', 'reexecutar', 'possuimos', 'binária', 'visitadas', 'brush', 'universitários', 'concretizáveis', 'antigos', 'fortalecer', 'autodisciplina', 'exerça', 'asteriscos', 'táxis', 'ambiente', 'torno', 'repetidamente', 'preservar', 'transmissões', 'encarrega', 'reutilizar', 'vestir', 'heurísticas', 'tentativa', 'ampliou', 'preparamos', 'varias', 'peteca', 'acorde', 'recommendation', 'passada', 'mínina', 'imóvel', 'politécnica', 'percorre', 'compromissos', 'permission', 'visam', 'tradição', 'distribution', 'roupagem', 'estilização', 'notas', 'js', 'simbólicas', 'separador', 'teríamos', 'escreveu', 'coordenado', 'estratégico', 'doctor', 'íamos', 'basear', 'receptividade', 'gushiken', 'encare', 'conversei', 'feio', 'chamda', 'contabilizarem', 'diretamente', 'lá', 'to', 'honesta', 'missão', 'diminuiu', 'agregarem', 'interpretadas', 'explicaram', 'reframe', 'escala', 'curta', 'textview', 'associada', 'egos', 'classificadores', 'pitada', 'furos', 'punidos', 'habilita', 'alem', 'seguida', 'aproveite', 'percorrermos', 'gosto', 'fantásticos', 'pintado', 'pausada', 'deixassem', 'me', 'lançando', 'vendem', 'apps', 'falo', 'tivemos', 'livremente', 'visualizações', 'destreza', 'compartilhados', 'absoluto', 'cabeamento', 'números', 'flickr', 'assiste', 'redirecionados', 'sensações', 'formal', 'continuada', 'temporizador', 'pirateia', 'viria', 'vez', 'ellipsis', 'anunciam', 'movem', 'fotográficos', 'qualidades', 'resgatar', 'postagens', 'imagine', 'export', 'colidir', 'show', 'criem', 'constar', 'conseguiríamos', 'linkar', 'irem', 'php', 'tomadas', 'prejudica', 'becos', 'comparado', 'gnu', 'lançarei', 'mutável', 'atuais', 'agindo', 'administrar', 'vulnerabilidade', 'cnn', 'publicidade', 'práticos', 'vendida', 'fundador', 'encarregados', 'sabiam', 'search', 'adotada', 'alavancar', 'hypertext', 'autodidatas', 'criadora', 'file', 'lenta', 'dialog', 'transitions', 'isolou', 'dar', 'catherine', 'controlando', 'transparece', 'inferimento', 'correta', 'obtidas', 'circulares', 'autenticamos', 'ficamos', 'julgamento', 'instanciamos', 'inteira', 'absolutas', 'subparte', 'mesmo', 'ás', 'tratado', 'enquadra', 'dhcp', 'documentação', 'defini', 'hubspot', 'mixins', 'compridos', 'guia', 'observar', 'modificaremos', 'movimenta', 'ambígua', 'pecar', 'surgindo', 'favor', 'representatividade', 'concentrou', 'index', 'acm', 'letras', 'força', 'buscavam', 'vue', 'exclamação', 'compostos', 'girar', 'hipotéticos', 'tomasse', 'apresentarem', 'existiram', 'barbara', 'aposto', 'conseguir', 'interceptar', 'way', 'pensaram', 'ocupam', 'kirkpatrick', 'webdesigner', 'extract', 'hierarquia', 'investigue', 'casa', 'achar', 'ice', 'respostas', 'famosos', 'nickname', 'diariamente', 'imacs', 'forca', 'simplicando', 'unboxing', 'satisfeitas', 'qualquer', 'restam', 'substituirmos', 'atraem', 'conflitos', 'secret', 'listam', 'distancia', 'possuia', 'indivíduos', 'ativada', 'esquecemo', 'desestruturando', 'estive', 'like', 'remodelar', 'privados', 'opine', 'enviei', 'mascotes', 'rendering', 'bolinha', 'molde', 'san', 'uol', 'reconhecia', 'contanto', 'afastará', 'brecha', 'enfrenta', 'perdermos', 'preparou', 'bilionário', 'codar', 'criou', 'arredondando', 'autossuficiência', 'contraposição', 'gui', 'filter', 'direita', 'nave', 'se', 'empresas', 'rapidez', 'esquecidos', 'ranqueados', 'ned', 'procuro', 'dreamjob', 'mendicância', 'estável', 'manhã', 'encontrarmos', 'delfino', 'forçando', 'relacionando', 'afastado', 'onblur', 'deparei', 'artísticas', 'conectando', 'viabilizando', 'epa', 'clt', 'tirava', 'vasta', 'formacao', 'ideias', 'saibam', 'interceptado', 'factory', 'ressurgimento', 'precisaríamos', 'repara', 'acionáveis', 'otimizo', 'lightwork', 'fixado', 'suscetíveis', 'levaram', 'realoca', 'prometer', 'pertencer', 'explicitado', 'idades', 'levará', 'foo', 'freelancer', 'partida', 'planilhas', 'rápidos', 'famílias', 'escolher', 'apertado', 'elevar', 'pâmela', 'promova', 'representadas', 'paranoicos', 'rights', 'in', 'assemelhassem', 'pensar', 'coca', 'funcionarão', 'longas', 'resultando', 'proporcionar', 'contente', 'espaciais', 'reproduzíveis', 'pertinentes', 'nomenclatura', 'apache', 'geradas', 'tocando', 'internacional', 'criados', 'funcionaria', 'aline', 'querido', 'bege', 'parabéns', 'planejou', 'flui', 'canto', 'adicionará', 'suavizam', 'bacharelado', 'ganhador', 'ingrediente', 'representando', 'arrepios', 'aprenderei', 'prol', 'américa', 'roubou', 'estender', 'trajetória', 'ético', 'virtual', 'aprendido', 'anote', 'persona', 'condição', 'médico', 'desistiram', 'aponta', 'masks', 'consumindo', 'analisará', 'visionário', 'juntássemos', 'gestures', 'analizando', 'fixas', 'subdomínios', 'saídas', 'dialogam', 'salve', 'media', 'impossível', 'decodificamos', 'cometeu', 'encosto', 'citamos', 'slack', 'instrutora', 'cdigo', 'descompactação', 'extraordinários', 'redirecione', 'diversificado', 'baita', 'narrativas', 'quê', 'comparações', 'valiosa', 'string', 'compilamos', 'encontrando', 'escolhida', 'loops', 'tivesse', 'seco', 'permitirem', 'vendeu', 'leremos', 'sobem', 'aconteceriam', 'quais', 'jan', 'key', 'bem', 'estabelecer', 'falaríamos', 'subunidade', 'prontos', 'reorganizando', 'substring', 'limitar', 'vantajosa', 'host', 'tenham', 'edit', 'visitamos', 'atribuímos', 'fixture', 'janela', 'aranha', 'tradutor', 'surgem', 'remoto', 'criações', 'panfletos', 'sucedida', 'farei', 'codando', 'sean', 'interpolação', 'semântico', 'inexplorados', 'decidiu', 'videogames', 'pede', 'dist', 'fresco', 'entediantes', 'atendido', 'lives', 'james', 'instalarmos', 'circundam', 'parametro', 'funcao', 'templates', 'lista', 'misturar', 'amplia', 'previsão', 'faríamos', 'filiais', 'recursos', 'carimbo', 'custar', 'deixa', 'crianças', 'remodelações', 'inside', 'denso', 'audiência', 'voltaram', 'devagarzinho', 'prefixando', 'reinado', 'começar', 'ordene', 'adesivos', 'desculpa', 'maps', 'anteriores', 'saida', 'incluimos', 'desproporcional', 'pensadas', 'pau', 'astúcia', 'efetivação', 'consideraremos', 'motiva', 'fica', 'amarelo', 'agradam', 'desperdícios', 'terminantemente', 'disponibilizam', 'mauricio', 'permit', 'estreante', 'bissextos', 'contrário', 'extends', 'usem', 'potter', 'passariam', 'padronizados', 'enviados', 'django', 'funções', 'substituo', 'restaurando', 'abstrato', 'comparadores', 'gesturização', 'descoloração', 'evolui', 'newzoo', 'problema', 'monocromático', 'pagamento', 'yoko', 'tenha', 'naive', 'kong', 'potencialmente', 'virado', 'svg', 'messaging', 'escolhi', 'classic', 'posteriormante', 'gimp', 'contrária', 'conseguiram', 'temporizável', 'anunciante', 'ocasiões', 'prontas', 'cobrados', 'fact', 'canetas', 'resultados', 'defensoras', 'retoma', 'ingressantes', 'desenho', 'praças', 'comendo', 'pipocam', 'cresceu', 'matiz', 'micro', 'diversos', 'recebendo', 'melhorarem', 'surpreso', 'conferiu', 'instancia', 'linhas', 'structure', 'falaram', 'ágil', 'perfeita', 'atribuído', 'virando', 'ead', 'initializer', 'incluído', 'acelera', 'escalarão', 'encapsulation', 'rotas', 'abrangentes', 'integrado', 'propriedades', 'audible', 'confusos', 'formações', 'onu', 'abstrata', 'botão', 'acumulando', 'andarmos', 'estadunidense', 'retiramos', 'pesquisador', 'bateu', 'trends', 'funcionou', 'textura', 'responsáveis', 'fictícios', 'mora', 'sitemaps', 'exigem', 'tomou', 'tchau', 'css', 'automatizam', 'gps', 'falam', 'dimension', 'traçada', 'reembolso', 'efeito', 'periscope', 'temporário', 'ehrenfels', 'darão', 'sumirem', 'logs', 'ignorar', 'vlans', 'criptografando', 'verifiquem', 'replicando', 'encaminham', 'objetos', 'instalação', 'root', 'realistas', 'nomear', 'refletimos', 'wolfgang', 'narrativa', 'décadas', 'novo', 'dedicada', 'removesse', 'reduzidas', 'instável', 'desta', 'acreditarem', 'transferindo', 'tratando', 'encarregar', 'gastas', 'tento', 'permitida', 'ousar', 'gerenciamento', 'pesados', 'icmp', 'órgão', 'desconhecidos', 'fix', 'supor', 'penetrar', 'satisfeita', 'apostas', 'obstáculos', 'óbvia', 'sampaio', 'enraizar', 'avalie', 'pares', 'cometendo', 'sell', 'agilizar', 'tools', 'card', 'clube', 'ativismo', 'arquitetura', 'sorriu', 'detalhar', 'além', 'recebiam', 'contadas', 'complementares', 'impulsionador', 'logar', 'substituições', 'hasheadas', 'nascia', 'agir', 'tutoriais', 'imprimimos', 'soluções', 'ligada', 'estagiários', 'cabem', 'posteriormente', 'tirinha', 'vectorscribe', 'salvamos', 'festa', 'vitória', 'comparativo', 'variantes', 'prefeitura', 'grátis', 'moderado', 'vinculados', 'curiosos', 'ul', 'impulsividade', 'headphone', 'fanpage', 'treinado', 'seguirá', 'guardarmos', 'tratada', 'salário', 'cyano', 'patrocinados', 'concepções', 'comentam', 'situada', 'identico', 'faltantes', 'desdobramento', 'corrigindo', 'fevereiro', 'acompanham', 'agressivos', 'clicava', 'choque', 'gratuita', 'inscrição', 'gênero', 'teoria', 'socialização', 'agiram', 'entretenimento', 'scala', 'seguiu', 'californiana', 'mental', 'multimodo', 'intermediários', 'ir', 'webapp', 'tirar', 'regiões', 'refinado', 'interdisciplinares', 'start', 'suficientes', 'matar', 'miniportfólio', 'continuava', 'rasa', 'enxuta', 'onze', 'distinta', 'preferidos', 'tentávamos', 'conseguissmos', 'alteraram', 'entendido', 'gostarem', 'fizesse', 'adiando', 'disponha', 'remodelando', 'double', 'consequência', 'ex', 'node', 'acaloradas', 'ajustando', 'stack', 'curiosa', 'coordenar', 'formato', 'reaproveitando', 'significantes', 'confie', 'acionada', 'preocupações', 'farejar', 'difere', 'comparator', 'interligadas', 'discutir', 'percebi', 'unido', 'reduction', 'inadequado', 'palpável', 'tdd', 'executasse', 'configurado', 'interessada', 'nesta', 'telas', 'desejados', 'vermelha', 'positivos', 'exec', 'cdi', 'enfoque', 'triunfo', 'chamei', 'fazenda', 'filtre', 'peculiaridade', 'nasa', 'versa', 'cliente', 'elencamos', 'demandas', 'procuramos', 'condições', 'apresentável', 'ordenamos', 'agrupe', 'determinaram', 'umbler', 'jovem', 'aprimore', 'implementadora', 'aumentei', 'inverter', 'vicios', 'prevent', 'switches', 'adaptem', 'aiiiiiii', 'impressos', 'austrália', 'autônomo', 'baixada', 'agrupadas', 'suprarreais', 'adaptworks', 'retiniana', 'utilizam', 'treinamentos', 'submete', 'receio', 'fator', 'faltava', 'translatey', 'rivest', 'prolixo', 'populares', 'personalize', 'harmonia', 'noise', 'surgiu', 'tendendo', 'personalidades', 'acoplamento', 'amadores', 'ruim', 'chegamos', 'divertidos', 'desejos', 'autopromover', 'folhagem', 'usualmente', 'impulsionada', 'seguidores', 'editora', 'propõe', 'ulli', 'then', 'terminada', 'verídico', 'reagindo', 'abraçar', 'planejar', 'investido', 'inserção', 'automáticos', 'separada', 'entra', 'quebraria', 'selva', 'daciuk', 'ocultam', 'seriam', 'vindos', 'gostamos', 'diferenciarem', 'temida', 'anotadas', 'otimizar', 'incompatível', 'retoques', 'engana', 'heading', 'leo', 'mudei', 'divida', 'equal', 'monetizar', 'alcançou', 'ângulo', 'reproduz', 'substituem', 'afirmou', 'eliminado', 'conquistaram', 'liam', 'empregos', 'abcdef', 'como', 'carregar', 'europa', 'tranqüila', 'installed', 'ed', 'volumes', 'pattern', 'funcionavam', 'cinepaint', 'finalizados', 'front', 'instigados', 'mercadorias', 'mmorpg', 'briefing', 'podem', 'ensinará', 'topics', 'desenvolvedor', 'motor', 'missing', 'romantismo', 'ghz', 'ajude', 'implementando', 'modele', 'simultâneos', 'excluído', 'observe', 'fibra', 'abre', 'ficções', 'deixamos', 'organicamente', 'gaussian', 'ajustarmos', 'renovação', 'atente', 'simular', 'legalize', 'frequência', 'vertente', 'adaptados', 'avance', 'twisted', 'permitisse', 'rizon', 'libs', 'restartar', 'contratou', 'processado', 'facilitado', 'consultoria', 'square', 'arduíno', 'unix', 'impulsione', 'finalizadas', 'officer', 'sucessos', 'da', 'contar', 'rotacionarmos', 'funcionária', 'pedimos', 'estético', 'sp', 'pergunta', 'expressamos', 'extenso', 'perdido', 'concreta', 'mit', 'cometem', 'blindamos', 'precisaremos', 'pegada', 'aplicamos', 'fará', 'exports', 'persons', 'furnished', 'fraco', 'ilustrado', 'inevitável', 'values', 'dinastia', 'vaio', 'fiéis', 'centralizar', 'fique', 'agosto', 'negar', 'explicação', 'verifique', 'select', 'admiradores', 'ddds', 'surpresas', 'intermédio', 'gif', 'original', 'quarenta', 'reduzida', 'analisamos', 'bonificação', 'correndo', 'rússia', 'travamos', 'valida', 'executável', 'nacionalidade', 'wireshark', 'cursosque', 'inicio', 'programarem', 'participantes', 'agrupo', 'cangaceira', 'atendem', 'madagascar', 'atropelar', 'tls', 'sede', 'pending', 'digitar', 'anoto', 'portugal', 'nortear', 'empecilho', 'síncrona', 'clicável', 'respeito', 'negativa', 'mockup', 'slim', 'aglomeram', 'acabasse', 'anônimos', 'trocarmos', 'más', 'conecta', 'desenhou', 'insegurança', 'passássemos', 'exr', 'artblue', 'simpática', 'regravar', 'ínicio', 'aninhadas', 'desgaste', 'imprimiu', 'pensei', 'tempo', 'iteráveis', 'padronizadas', 'rm', 'identidades', 'concorrência', 'exibição', 'agradar', 'visto', 'notará', 'obi', 'retratos', 'capacete', 'realizar', 'def', 'color', 'valorizam', 'platform', 'interferindo', 'novela', 'escudeiro', 'agressiva', 'bosco', 'contando', 'votaram', 'elaboramos', 'distintas', 'criar', 'apreciação', 'importação', 'ilustrar', 'campos', 'subtração', 'cafe', 'rebuscado', 'alicerce', 'capturado', 'photo', 'predominantes', 'employee', 'laura', 'ssl', 'correr', 'trate', 'sabendo', 'excluir', 'disponibilidade', 'imensas', 'olá', 'trilhei', 'space', 'esquecido', 'vendermos', 'entusiasmo', 'firebase', 'investir', 'sempre', 'jokenpô', 'observarmos', 'interlocutor', 'apagara', 'luva', 'invasão', 'aguçados', 'faturem', 'focamos', 'efeitos', 'fundar', 'rasas', 'side', 'tunisianos', 'ajudarem', 'obedece', 'intellij', 'afinado', 'oculpa', 'importada', 'adquirida', 'aprovados', 'viável', 'inventando', 'implacável', 'enxerguem', 'faz', 'analistas', 'ceo', 'ranqueado', 'construtivos', 'favorecer', 'espelhos', 'similaridades', 'elasticsearch', 'direcionam', 'priscila', 'xml', 'plural', 'típico', 'experimentais', 'abrimos', 'interativa', 'scrollar', 'eficácia', 'implementarmos', 'cansativa', 'lamento', 'evitados', 'histograma', 'we', 'doação', 'heavy', 'gordon', 'precisemos', 'meses', 'loaded', 'mulheres', 'celsius', 'consulte', 'desenvolvam', 'subtraindo', 'segue', 'citadas', 'verdana', 'tascam', 'entregam', 'vinicius', 'diferenciada', 'pypi', 'corajoso', 'autoformatação', 'expostos', 'danosas', 'empacotamento', 'edges', 'philippe', 'contraponto', 'informal', 'desistido', 'cassete', 'typographica', 'trafega', 'codificadas', 'bilhões', 'encadernado', 'harmonias', 'poder', 'ganharam', 'modificador', 'kits', 'marinha', 'benéfico', 'antecedência', 'comum', 'aconselho', 'modal', 'precipitada', 'recebermos', 'apareciam', 'fugirmos', 'trazem', 'trabalhando', 'legacy', 'lápis', 'portrait', 'quadros', 'aprimoramento', 'atmosfera', 'limpeza', 'rivais', 'incrivelmente', 'sonoras', 'revolucionário', 'obtida', 'aborde', 'gráfico', 'responseentity', 'assistenciais', 'divergindo', 'burocrática', 'caí', 'esferas', 'rever', 'realizadas', 'permanecido', 'doctrine', 'lido', 'mande', 'operações', 'decidido', 'cartão', 'explicações', 'invertida', 'entretêm', 'desconectadas', 'encurtando', 'notícia', 'desfeita', 'igualdade', 'mamilos', 'questionamento', 'prestei', 'talk', 'interpretado', 'syntax', 'comandos', 'atuará', 'tuitar', 'microframework', 'documentado', 'reconstruir', 'analisasse', 'autoboxing', 'enlace', 'negociações', 'rolável', 'descomplicamos', 'teremos', 'determine', 'computer', 'smartphone', 'fui', 'oriented', 'cerimônias', 'especificidades', 'limitado', 'findall', 'auxiliem', 'companheiros', 'documentation', 'clássico', 'gatilhos', 'diferentemente', 'hangouts', 'empreendedorismo', 'respectivamente', 'disputa', 'ouvinte', 'focar', 'rodas', 'autora', 'variavel', 'supervisão', 'system', 'solicitações', 'recebesse', 'onbindviewholder', 'gasto', 'ficarão', 'exercita', 'adquiriu', 'tingimos', 'redesenha', 'usa', 'apartamento', 'indexação', 'apoio', 'doesangue', 'prendessem', 'codigocategoria', 'cá', 'desconfiemos', 'privilégios', 'clima', 'encha', 'iot', 'convencionalmente', 'gelo', 'indícios', 'invenção', 'dêem', 'associação', 'criativos', 'remuneram', 'rotacionamento', 'engraçados', 'scripts', 'experimentação', 'aparar', 'abarcam', 'detalhes', 'subirá', 'obviamente', 'mérito', 'buyer', 'segmentada', 'techweek', 'exato', 'optional', 'screen', 'vasculhando', 'mantenedores', 'recomendou', 'karbon', 'adequadas', 'archive', 'estaria', 'registry', 'vishing', 'compartilharam', 'explorer', 'pauta', 'ofertas', 'motivada', 'url', 'phd', 'viciado', 'pegue', 'injustificado', 'graças', 'eleitas', 'abreviada', 'koshiro', 'deseje', 'piratear', 'acostumou', 'webdesign', 'escrita', 'encode', 'supervalorizada', 'significativa', 'selecionando', 'interferências', 'bus', 'visitar', 'atuante', 'tentaram', 'constraints', 'estruturar', 'recomendamos', 'provedor', 'esquemática', 'roubar', 'pragmática', 'existirão', 'video', 'categorizados', 'endpoints', 'reiniciar', 'julho', 'crescendo', 'barras', 'softwares', 'poderosos', 'ocupa', 'decorrer', 'bold', 'acumulado', 'recalcularmos', 'braga', 'traduz', 'trancar', 'caia', 'desembrulhando', 'checklist', 'calculadas', 'explorar', 'expormos', 'produtivo', 'voltei', 'teclar', 'separar', 'sombras', 'retrata', 'próximas', 'quis', 'sugerimos', 'secundária', 'vocabulário', 'artesanato', 'valeu', 'blindagem', 'assistidos', 'vr', 'ef', 'interrompe', 'csv', 'hmmmm', 'yellows', 'cols', 'asas', 'combustível', 'genéricas', 'lasso', 'divulgador', 'ordena', 'atingem', 'ultranerd', 'estressante', 'expressa', 'inerentes', 'santander', 'jurisdições', 'matarmos', 'incompatíveis', 'truque', 'enfrentando', 'diferenciar', 'convincente', 'corporação', 'aumentaria', 'evite', 'vpn', 'característica', 'xlr', 'prevaleceu', 'faremos', 'conveniente', 'homens', 'monstro', 'barry', 'formados', 'espírito', 'controvérsias', 'gastar', 'percorrer', 'tradutores', 'buscassem', 'cabeçalho', 'solid', 'assimétrica', 'timer', 'as', 'anexos', 'impossíveis', 'exame', 'mixin', 'intervalares', 'vacinação', 'cafés', 'irá', 'aprendiz', 'pararmos', 'universal', 'informações', 'ceremony', 'repetitivas', 'assertiva', 'bootstrap', 'feito', 'áudio', 'ruído', 'job', 'incentivando', 'máxima', 'elaborar', 'fossemos', 'abrirá', 'possibilidade', 'aceleram', 'parametros', 'especifica', 'fake', 'gerenciar', 'desejável', 'negativas', 'reconhecimento', 'clicaria', 'init', 'email', 'cairia', 'usabilidade', 'turismos', 'disparadas', 'graduação', 'escolhíamos', 'reduce', 'escolheria', 'lembramos', 'veículos', 'of', 'certificaram', 'concluídos', 'recebam', 'terminarão', 'quinto', 'turmas', 'introdução', 'story', 'clicados', 'interativo', 'shift', 'sensível', 'boas', 'deslizantes', 'ficar', 'movimentações', 'caixas', 'tio', 'obrigado', 'iceberg', 'restar', 'periódicas', 'higiene', 'matrículas', 'viable', 'possuindo', 'comparando', 'desafiadores', 'first', 'microsserviços', 'placa', 'viewport', 'provocadas', 'cabelos', 'época', 'baixados', 'dependência', 'abordamos', 'conciso', 'milhões', 'sobressair', 'gancho', 'defina', 'têm', 'desconhecida', 'publicados', 'gaussiana', 'permanent', 'preocupe', 'db', 'devagar', 'descrita', 'triângulos', 'fachadas', 'hajam', 'especializações', 'estilo', 'anexou', 'usado', 'dispostas', 'admin', 'conexão', 'patrão', 'reseta', 'wrappers', 'fontes', 'ótima', 'peguei', 'condizendo', 'afetarão', 'remember', 'resistir', 'digita', 'caelum', 'dois', 'sustentáveis', 'dicionários', 'incluídas', 'disputar', 'sensacional', 'ignoravam', 'colocada', 'cara', 'lixo', 'prezar', 'brainstorming', 'victor', 'consideram', 'referenciados', 'set', 'concluímos', 'voice', 'harry', 'contenha', 'vendas', 'aliás', 'apoiam', 'fechar', 'customizados', 'produces', 'aparecendo', 'vencedores', 'convincentemente', 'docker', 'tentarmos', 'ágeis', 'demonstra', 'eventuais', 'voaram', 'barcos', 'identityserver', 'desenvolver', 'opcionais', 'foto', 'faculdades', 'avalia', 'trabalhista', 'jogaríamos', 'permitidos', 'akira', 'necessárias', 'desacelerarão', 'vazias', 'amador', 'usei', 'unitários', 'médias', 'figma', 'dantas', 'começa', 'ambiguous', 'parados', 'pensarmos', 'semanais', 'bizarro', 'sumiu', 'quantidades', 'consulta', 'incontáveis', 'informada', 'rindo', 'gerando', 'engajamento', 'penso', 'blended', 'líderes', 'trava', 'delegar', 'grave', 'atacante', 'exportar', 'poderosa', 'declarado', 'chame', 'estivéssemos', 'comunicação', 'intenso', 'ganhadora', 'retornaria', 'floricultura', 'façam', 'apresentarmos', 'ilustrações', 'prosseguirmos', 'paradigma', 'líder', 'vibração', 'aptidões', 'imprimiam', 'demonstre', 'óptica', 'frança', 'quiséssemos', 'mapeadas', 'unir', 'recarregasse', 'tomar', 'haberkorn', 'exploradas', 'cama', 'móveis', 'alguma', 'citados', 'medido', 'existia', 'alinhados', 'lateral', 'noções', 'decisão', 'determinamos', 'invadem', 'visor', 'descanse', 'ponto', 'detesta', 'reflexões', 'desorganizados', 'definidos', 'padronizou', 'peso', 'manga', 'transferencia', 'sentir', 'other', 'reuniu', 'notbook', 'agendar', 'estudarei', 'dividimos', 'subunidades', 'priorizações', 'regra', 'métodos', 'transições', 'topologias', 'vestibular', 'delay', 'poluído', 'sorted', 'giram', 'sequencia', 'batido', 'questões', 'possivel', 'instantâneamente', 'iria', 'sido', 'enxerga', 'bounce', 'arriscarem', 'executados', 'engessados', 'catálogos', 'assertividade', 'assimilável', 'pecl', 'preparar', 'encontre', 'departamentos', 'líquidos', 'anotamos', 'hello', 'mercados', 'requeijao', 'arc', 'ta', 'cadastre', 'seríamos', 'compiler', 'sobrenome', 'cautelosa', 'reutilizado', 'ofensivos', 'demandam', 'png', 'indisponibilidade', 'limpos', 'processadas', 'agendadas', 'ter', 'anúncios', 'apelidando', 'membro', 'consumir', 'imediata', 'divergência', 'desincentivando', 'dada', 'eram', 'espameando', 'freelancers', 'atentamos', 'verboso', 'run', 'máximos', 'livro', 'browsers', 'sincero', 'alurafy', 'obtivemos', 'direcionamento', 'aplicadas', 'prometeu', 'delinear', 'agem', 'senhora', 'produzir', 'b', 'install', 'tendo', 'carreiras', 'dedicação', 'aparecer', 'esc', 'documentar', 'colisões', 'mensuração', 'desleal', 'górdio', 'incentiva', 'preparei', 'virtualizações', 'teleportar', 'países', 'haptic', 'trancou', 'praticar', 'animações', 'expectativa', 'storytelling', 'auxiliando', 'quantificar', 'clico', 'simpatizar', 'busquei', 'comerciais', 'futura', 'playlist', 'vila', 'ide', 'coesão', 'openexr', 'perigo', 'impulsionam', 'digitando', 'avaliam', 'sortudo', 'nãos', 'texto', 'justin', 'diferenciarmos', 'conflitando', 'escolhem', 'seguiria', 'encerra', 'paguei', 'ignore', 'fixa', 'operadoras', 'parecidas', 'presidente', 'navegador', 'ligações', 'hoje', 'terminais', 'hollywood', 'logger', 'range', 'flux', 'mysql', 'trazendo', 'sweden', 'sul', 'society', 'está', 'renoir', 'compreendidas', 'dobre', 'perder', 'indispensáveis', 'manager', 'verdadeiras', 'nathalia', 'percebeu', 'investindo', 'junta', 'tomamos', 'acessar', 'contratante', 'desperdiçar', 'contrata', 'projetar', 'ótimas', 'delimitação', 'formate', 'sproutcore', 'mercadinho', 'aleatórias', 'programam', 'estímulos', 'rebuscadas', 'bigode', 'adquirido', 'group', 'prometido', 'redesenhar', 'conhecimento', 'flavio', 'on', 'desaparecer', 'embutidos', 'gravados', 'fiquem', 'operássemos', 'freelances', 'extraia', 'querermos', 'fixos', 'cozinha', 'reage', 'confirmamos', 'funcionárias', 'codificação', 'frações', 'consolido', 'massivo', 'lançarem', 'tratar', 'vi', 'funcionar', 'contentando', 'estimula', 'usp', 'encaminha', 'gratificantes', 'rebrand', 'chegando', 'cansadas', 'trabalhemos', 'code', 'christi', 'votação', 'evidente', 'devido', 'confia', 'irc', 'ensaio', 'milisegundos', 'landing', 'pagamentos', 'organismos', 'dermos', 'executa', 'má', 'page', 'restrições', 'component', 'pré', 'ciclismo', 'max', 'oxford', 'mandar', 'limpas', 'surgirem', 'aritmética', 'ritmo', 'dockerfiles', 'àquilo', 'adequa', 'ministério', 'arquivo', 'apresentamos', 'interessar', 'lib', 'viajando', 'broadcast', 'mutáveis', 'falavam', 'adaptar', 'começos', 'moverá', 'desugar', 'gostando', 'adicionemos', 'exemplificando', 'prevalece', 'impulsionando', 'interessante', 'alura', 'lembro', 'prejudicar', 'teatros', 'indesejados', 'instantânea', 'pressiona', 'afetadas', 'urbanos', 'complicado', 'avisada', 'identificando', 'detalhista', 'conduzam', 'comercializar', 'capacite', 'organizamos', 'widget', 'insuficiente', 'enrolou', 'estúdios', 'udp', 'badaladas', 'date', 'desempregados', 'firmas', 'vetorizando', 'algo', 'buzzword', 'vergueiro', 'horária', 'contida', 'adotadas', 'redator', 'ensinou', 'crucial', 'futuramente', 'ocupariam', 'poligonal', 'estavámos', 'estratégia', 'queiroz', 'vemos', 'alguém', 'troca', 'formalmente', 'conquistas', 'reutilizáveis', 'parenteses', 'sabedoria', 'ns', 'necessários', 'últimos', 'estagiário', 'apetite', 'tornando', 'candidatar', 'colocarmos', 'temáticas', 'reescreva', 'estaca', 'comprovadamente', 'jogamos', 'prometia', 'retweet', 'prós', 'terreno', 'propaganda', 'preso', 'frustrado', 'segmento', 'minimum', 'compartilho', 'viramos', 'capriche', 'trauma', 'similares', 'destruída', 'ajudar', 'envolvido', 'estendida', 'verdade', 'adicionássemos', 'acesse', 'contaria', 'aconselharia', 'copiados', 'participaram', 'sentença', 'arrastando', 'certos', 'novos', 'fizer', 'limpinha', 'vistos', 'testar', 'vindas', 'conciliando', 'emigração', 'crud', 'esfera', 'encantam', 'erre', 'treinos', 'mobilizar', 'levantado', 'listado', 'calendário', 'moral', 'conduz', 'confiável', 'header', 'tentavam', 'rounds', 'precioso', 'devidamente', 'ernesto', 'continuamente', 'resolve', 'apertarmos', 'definição', 'relembrada', 'maleável', 'propostas', 'roma', 'representação', 'nascido', 'inspector', 'setlength', 'desconfigurado', 'baseiam', 'contextualizada', 'alegava', 'escolhido', 'ajustem', 'blogs', 'glossário', 'essencial', 'autônomos', 'cléber', 'desolados', 'veem', 'pm', 'fname', 'panfleto', 'orquestrar', 'emplacar', 'acrescentar', 'sofá', 'permanecer', 'cancelar', 'calor', 'esperávamos', 'napster', 'homenagem', 'flores', 'complicações', 'printar', 'á', 'anteriormente', 'abraçam', 'francês', 'cruzada', 'ddd', 'vb', 'digitada', 'mark', 'atendo', 'desligado', 'ganhava', 'migrações', 'plan', 'quebramos', 'cola', 'operacionais', 'obtenha', 'viva', 'avaliamos', 'contrario', 'amiga', 'objects', 'por', 'sassmesteir', 'interpretará', 'daniel', 'inscrevem', 'fazendo', 'julio', 'gostaríamos', 'definida', 'parecidos', 'compreendendo', 'deixou', 'marte', 'inseri', 'orientada', 'poo', 'batista', 'sketch', 'registre', 'repetitivo', 'apontadas', 'bombardeados', 'iptu', 'criticadas', 'desconsiderando', 'houverem', 'philips', 'chico', 'baixamos', 'isolado', 'houver', 'localizações', 'ligue', 'vital', 'comprometidos', 'sanar', 'horário', 'oo', 'manipulamento', 'gerenciado', 'comunicativa', 'corre', 'valem', 'sumarizar', 'todas', 'sum', 'pesquisei', 'cunhado', 'debate', 'next', 'rosa', 'armazeno', 'recebi', 'turbine', 'plaquinha', 'proprietário', 'impondo', 'memoráveis', 'dispensável', 'reprodutibilidade', 'devs', 'moeda', 'messenger', 'subdivide', 'acolhida', 'metro', 'podendo', 'reforçar', 'seguro', 'theme', 'preenchimento', 'associe', 'rodeados', 'perturbador', 'espalhados', 'buscar', 'fama', 'trabalho', 'acha', 'relativamente', 'compensa', 'nascida', 'escolhidos', 'preocupam', 'ajuda', 'necessitarmos', 'receios', 'afunilados', 'checou', 'gb', 'contratados', 'possibilita', 'temo', 'tipagem', 'sensores', 'fonts', 'autoanálise', 'regular', 'appelo', 'alinham', 'peter', 'figuras', 'comparados', 'pendurado', 'nov', 'converte', 'decoramos', 'optei', 'úteis', 'declarada', 'banda', 'pertinente', 'false', 'sys', 'disseram', 'empreendimentos', 'window', 'precisam', 'morfologia', 'ouvir', 'reposicionamento', 'conectamos', 'alturas', 'natureza', 'entre', 'college', 'pintura', 'piradão', 'imperfeição', 'tocado', 'matches', 'inesquecível', 'escura', 'derivadas', 'polígono', 'cometemos', 'orientações', 'mapeei', 'baratinho', 'congestionamento', 'fiz', 'convertida', 'faça', 'macbook', 'driver', 'aceito', 'cartões', 'apropriado', 'implementados', 'tornar', 'method', 'desenvolvimento', 'recuperação', 'poodle', 'priorizados', 'cast', 'ininteligíveis', 'rs', 'massiva', 'concebida', 'mostrados', 'decoração', 'silêncio', 'comodidade', 'hummingbird', 'aproximado', 'pesquisas', 'sublime', 'automóvel', 'dependências', 'imperfeições', 'dependa', 'consumer', 'falou', 'religião', 'melhorado', 'jasmine', 'apressar', 'explicasse', 'ética', 'apostila', 'poluídos', 'compilação', 'goetz', 'bmps', 'getter', 'implantação', 'trabalhadas', 'environment', 'imediato', 'avançado', 'televisiva', 'almejando', 'company', 'música', 'disseminação', 'cores', 'ficava', 'analisava', 'posts', 'desmotivado', 'há', 'publicações', 'considerando', 'escreve', 'gerenciamentos', 'condensadores', 'edite', 'pegaríamos', 'poderíamos', 'errinhos', 'roberta', 'outbound', 'sucintamente', 'senso', 'notificações', 'colab', 'maçã', 'pool', 'saindo', 'especificação', 'analytics', 'empregador', 'permitidas', 'redimensionar', 'batalha', 'alerta', 'receberiam', 'necessitará', 'contenham', 'imprimia', 'prevenimos', 'medicina', 'autônomas', 'alternativa', 'roteiristas', 'considerou', 'terão', 'curtidas', 'fintechs', 'sincronia', 'começavam', 'salvando', 'frenéticos', 'fariam', 'cnpj', 'autoload', 'explique', 'indefinidamente', 'detecta', 'mudo', 'imperceptível', 'resolvi', 'dos', 'obtemos', 'loader', 'consolidaram', 'simbólicos', 'pagaria', 'desenvolvidas', 'beira', 'destruida', 'interpolar', 'listará', 'tirei', 'dinamicamente', 'apagando', 'converter', 'bars', 'poluição', 'verificações', 'subclasse', 'ocupando', 'nuâncias', 'esgotamento', 'brasília', 'chamarizes', 'tornassem', 'translations', 'instalada', 'olivetti', 'assusta', 'comunicam', 'impediria', 'excessivo', 'modify', 'fato', 'reta', 'frenéticamente', 'empresa', 'armazenará', 'viagens', 'silva', 'christopher', 'obs', 'poderão', 'executei', 'moradia', 'transition', 'revolucionar', 'cita', 'vidas', 'mesh', 'adéquam', 'importando', 'pragmáticas', 'saberia', 'cobrei', 'contribuir', 'contrabalancear', 'abordadas', 'neurais', 'twython', 'destacarem', 'mirar', 'documentos', 'estabelecidos', 'ajusta', 'pretensão', 'isbn', 'implementar', 'capture', 'voce', 'action', 'levam', 'timezone', 'codigo', 'truncamento', 'pesado', 'subcategorias', 'suaves', 'prestador', 'poupando', 'proxima', 'tratam', 'conclusão', 'continuar', 'discutirmos', 'armazenarmos', 'vanguardistas', 'zé', 'usados', 'explicada', 'behance', 'subtraímos', 'acostumados', 'oferecesse', 'laboratório', 'condicionamento', 'colabora', 'sensorial', 'estágios', 'valiosos', 'gradativamente', 'marcela', 'portfólios', 'fora', 'visão', 'incomodar', 'brasileiras', 'decolar', 'sozinhas', 'denominados', 'financeiros', 'timeline', 'identifique', 'stackoverflow', 'coleção', 'carro', 'enquadrar', 'baixado', 'percebem', 'microfone', 'alcançado', 'quilometragem', 'encomendou', 'disseminando', 'estrela', 'tendemos', 'capturam', 'sobreescrever', 'nota', 'sucumbirá', 'extensa', 'adaptador', 'pagavam', 'fizéssemos', 'supermercados', 'centrado', 'seguimos', 'nerd', 'odontologia', 'frete', 'national', 'guardam', 'colégios', 'pomodoros', 'ativas', 'caos', 'diy', 'continuasse', 'adquirente', 'click', 'cpfatual', 'limitou', 'anseios', 'difundida', 'oposto', 'rumos', 'costumam', 'acordar', 'consumisse', 'aceitas', 'passageira', 'desvantajosa', 'chegaram', 'aldeia', 'momento', 'tratamentos', 'permitirmos', 'avatar', 'sudo', 'negro', 'evoluiu', 'consumirá', 'corporativas', 'confira', 'ads', 'abrir', 'questionando', 'abandono', 'lê', 'triangulação', 'perfeição', 'contribuem', 'melhorada', 'fonte', 'diferencial', 'extra', 'encantasse', 'rescisão', 'abrangente', 'adicionamos', 'merge', 'descrevo', 'longuíssimo', 'recuperado', 'pertenceria', 'inicializável', 'brilhantes', 'lucrativo', 'ingles', 'meetups', 'mean', 'ressaltaram', 'calados', 'instituição', 'seashore', 'personifica', 'produtivos', 'compartilhado', 'shielded', 'cookies', 'engrenagens', 'conferir', 'comporta', 'moz', 'navegando', 'escaneável', 'heterogêneos', 'vírgula', 'dispare', 'generatedvalue', 'divisvel', 'aguardar', 'metódica', 'contém', 'sua', 'evidencia', 'criptografar', 'poderosas', 'levados', 'logovia', 'steppat', 'degraus', 'indicar', 'péssimas', 'conciliação', 'contrariem', 'adequar', 'bottom', 'aproximar', 'picnik', 'zumbi', 'mergulhando', 'maintaining', 'imac', 'entendermos', 'péssimos', 'francisco', 'trunk', 'construct', 'trechinho', 'acalma', 'palestras', 'tentarem', 'amanhã', 'currículos', 'lêem', 'inventado', 'rj', 'incômodos', 'storyboards', 'quererem', 'opções', 'prefere', 'serif', 'captação', 'zoou', 'muitos', 'smb', 'quinze', 'roubassem', 'igor', 'declarados', 'batimentos', 'regressão', 'flexibilizar', 'percebe', 'criei', 'turismo', 'surgirão', 'primário', 'diálogos', 'app', 'lazyload', 'require', 'criptografia', 'diário', 'finalizada', 'quebraram', 'reescreveram', 'acharem', 'rege', 'cursivos', 'wacom', 'cidadão', 'poderiamos', 'panorama', 'descompactado', 'homepage', 'seo', 'portabilidade', 'tecle', 'revisor', 'fotografar', 'visibilidade', 'culturais', 'instigue', 'replanejar', 'alternar', 'aperfeiçoarem', 'ineficaz', 'negrito', 'subtipo', 'lpi', 'contudo', 'conectem', 'medianas', 'suécia', 'existem', 'existir', 'malwares', 'bidirecional', 'traduzirmos', 'inscrito', 'produtividade', 'downgraded', 'statements', 'paul', 'indicamos', 'pressione', 'dependia', 'confuso', 'apelar', 'espelham', 'gunisalvo', 'asset', 'próprios', 'facilitadas', 'sqlalchemy', 'sono', 'espeto', 'keysmaps', 'facilita', 'transparecendo', 'mede', 'indique', 'triângulo', 'marcaram', 'aprendizagem', 'sonhavam', 'prepara', 'combinando', 'wozniak', 'ampliam', 'motivam', 'cercam', 'postos', 'fizerem', 'repensou', 'demandava', 'colocações', 'dedo', 'airlines', 'minuciosamente', 'norte', 'conferência', 'errinho', 'impression', 'interpolados', 'folhas', 'vindo', 'completos', 'verou', 'maternidade', 'diagramas', 'envolvia', 'passo', 'veremos', 'carregado', 'contratação', 'programando', 'browser', 'transportadora', 'cansativo', 'atrativas', 'quedas', 'sãos', 'imersão', 'dobrada', 'reference', 'céu', 'aprensentada', 'adquiri', 'microinteração', 'cauda', 'packagist', 'consumimos', 'problemático', 'distorção', 'downloads', 'quando', 'amassadas', 'banho', 'listados', 'arrisco', 'perigosos', 'fruit', 'pressão', 'estouram', 'delírios', 'aventurando', 'centralizada', 'guias', 'temporários', 'encantamento', 'transformadas', 'desenhar', 'playstation', 'redigitar', 'documentada', 'atualizarmos', 'metaboxes', 'nativos', 'vazios', 'capacitações', 'dna', 'profere', 'emprestados', 'bierwagen', 'curtir', 'corpus', 'passará', 'conteria', 'octal', 'estabelecimento', 'elimine', 'esmagadora', 'obterem', 'gramaticalmente', 'treinar', 'recorrerem', 'marotos', 'pensam', 'correspondente', 'ajudem', 'auxliliar', 'cópia', 'autocrítica', 'bordas', 'alterne', 'integram', 'escondendo', 'tornarem', 'compacta', 'moda', 'publicando', 'ajustou', 'guidelines', 'afetivo', 'projetou', 'mensageria', 'revanche', 'land', 'ordenar', 'digito', 'módulos', 'conceituais', 'invés', 'problemas', 'servirão', 'incompletas', 'alterada', 'acreditando', 'sistema', 'planilha', 'tutorais', 'cabos', 'propenso', 'achômetro', 'roupas', 'tablepress', 'repararam', 'inventor', 'marmitas', 'reducing', 'entrelaçados', 'guiar', 'segundo', 'onda', 'mas', 'atráves', 'transmite', 'reação', 'continham', 'cyberlink', 'mover', 'award', 'pele', 'prescreveu', 'criterioso', 'construirmos', 'envia', 'reuniram', 'imaginava', 'aniche', 'black', 'alertamos', 'implementaremos', 'soube', 'granularidade', 'unimodal', 'viabilidade', 'matéria', 'gerencia', 'anotando', 'simplemente', 'assinarem', 'aclamada', 'drasticamente', 'porções', 'estranhar', 'depara', 'auge', 'visualização', 'durar', 'selo', 'avançando', 'práticar', 'competem', 'dependerá', 'requer', 'clubes', 'instaladas', 'crescem', 'issue', 'universum', 'implements', 'strftime', 'exerce', 'escreveram', 'bona', 'distrações', 'capturados', 'ser', 'desmarcarmos', 'ué', 'fuja', 'lacuna', 'relatado', 'nakayama', 'questão', 'deixados', 'gama', 'compra', 'notáveis', 'abrirmos', 'mencionam', 'ouvimos', 'empurrãozinho', 'nf', 'seed', 'medida', 'uso', 'pubspeclock', 'mdn', 'levantadas', 'sênior', 'incrementados', 'datetime', 'debugger', 'compilado', 'usarem', 'modificados', 'etapas', 'dinâmico', 'imigrantes', 'xx', 'finais', 'cronômetro', 'menções', 'nebula', 'aplica', 'simulação', 'altíssimo', 'provam', 'travando', 'yahama', 'entedermos', 'ressalvar', 'tecnológicas', 'contabilidade', 'localizadas', 'disponibilizado', 'vraptor', 'propensa', 'args', 'uuid', 'único', 'revenge', 'barulho', 'sirva', 'forte', 'garantir', 'incomodava', 'mexido', 'prolongar', 'jogador', 'alocados', 'recupere', 'pras', 'fração', 'começasse', 'compartilharão', 'capazes', 'alt', 'rascunho', 'citam', 'ensino', 'propósito', 'telefônicos', 'sentidos', 'altere', 'faróis', 'importantes', 'acabe', 'finalizamos', 'manual', 'generalizar', 'sgid', 'apontou', 'curiosidade', 'váaaarias', 'npss', 'neutro', 'incrementar', 'diretos', 'ficassem', 'varremos', 'compreendidos', 'inconsistências', 'localizada', 'vínculo', 'xícara', 'disformes', 'males', 'notou', 'beckman', 'serifa', 'avançada', 'aulas', 'cpython', 'gira', 'varejo', 'finalmente', 'alcançando', 'estatísticos', 'agruparmos', 'publicamente', 'estou', 'indiferente', 'prática', 'cairemos', 'daríamos', 'físicas', 'importarmos', 'mockups', 'pênaltis', 'compor', 'colourlovers', 'disputadas', 'wes', 'encaminhada', 'squestões', 'statement', 'virarmos', 'soft', 'incluir', 'publicitária', 'decorar', 'gere', 'milésimo', 'demonstração', 'limite', 'causando', 'ides', 'icepick', 'salvam', 'jeito', 'vc', 'folga', 'automaticamente', 'cientista', 'leonardo', 'remover', 'local', 'kernel', 'coalesce', 'capacitados', 'vocês', 'rsrsrs', 'estrutural', 'rhinoceros', 'filmagens', 'motorola', 'd', 'leque', 'aplicar', 'fortalece', 'aumenta', 'incomoda', 'vivas', 'crossfit', 'curves', 'aqui', 'frentes', 'humor', 'inicializar', 'rh', 'pelo', 'inverso', 'automática', 'barulhentos', 'dedicava', 'esquerda', 'deloitte', 'assinantes', 'estresse', 'ansioso', 'atestar', 'promoções', 'moocs', 'rotacionar', 'inúmeros', 'science', 'minuscula', 'instigantes', 'êxitos', 'interdependência', 'tange', 'fizermos', 'arrependimento', 'aparecerão', 'informadas', 'influenciará', 'denominado', 'parâmetro', 'desorganizada', 'implícitos', 'imaturo', 'máquinas', 'efetivo', 'inseguros', 'requisitado', 'guiará', 'provém', 'menus', 'render', 'convivência', 'longitude', 'mindmeister', 'implícito', 'familia', 'pandora', 'simplificando', 'reduzidos', 'letícia', 'possuem', 'inserimos', 'marcas', 'intactos', 'mensalidades', 'assumir', 'override', 'destacáveis', 'junção', 'homem', 'adivinha', 'numeração', 'getninjas', 'do', 'roberto', 'justa', 'coletar', 'levem', 'polícia', 'result', 'clichê', 'slogan', 'reenvio', 'ai', 'natal', 'exigente', 'focarei', 'descansando', 'fizemos', 'tratados', 'acionará', 'concorrentes', 'interace', 'puxar', 'objetivas', 'restante', 'dispersar', 'magnífica', 'definições', 'sucinta', 'maneiras', 'ocarina', 'preliminarmente', 'animarmos', 'korn', 'emacs', 'subsequentes', 'series', 'visite', 'cujas', 'elliott', 'indicado', 'vias', 'profissionalizar', 'instituições', 'handlebars', 'ávidos', 'eletrônica', 'associar', 'sqlmap', 'github', 'datagram', 'antenado', 'beneficiar', 'desenhava', 'fico', 'contem', 'discutem', 'keyframes', 'participe', 'informado', 'iríamos', 'sugerem', 'espectadores', 'roger', 'steps', 'pedidas', 'reunião', 'grava', 'expectativas', 'falha', 'rankings', 'constrói', 'semelhantes', 'linguagem', 'scrollagem', 'monitora', 'verticais', 'espaçadas', 'facilidades', 'possuía', 'engraçadinhos', 'scroll', 'apoiar', 'reservando', 'features', 'matamos', 'conectam', 'comparativos', 'tornaria', 'instabilidade', 'mencionadas', 'tecido', 'precisassem', 'teclas', 'movemos', 'experimente', 'minha', 'fidelizado', 'poupa', 'visitada', 'realista', 'distribua', 'descreveu', 'octais', 'inserido', 'multiexporter', 'legal', 'pegadinhas', 'constrangimentos', 'retornarmos', 'alta', 'recebessem', 'gradient', 'parseada', 'calcular', 'ops', 'transformando', 'instantâneo', 'cronograma', 'derrubar', 'vidro', 'perdidos', 'volume', 'output', 'usará', 'depth', 'saving', 'cancelamentos', 'hipster', 'fidelizar', 'presenteado', 'alimentam', 'dentre', 'trará', 'escalará', 'ampliarmos', 'formatação', 'focaram', 'proficiente', 'alavancou', 'lima', 'clareza', 'escondida', 'testing', 'qualificados', 'plenamente', 'checks', 'inibir', 'estourando', 'gafes', 'frutiger', 'inglesa', 'ultrapassam', 'acostumar', 'atualizando', 'ceps', 'altura', 'human', 'brst', 'sorrindo', 'spring', 'visível', 'see', 'jurgen', 'receberem', 'shot', 'fobias', 'bronze', 'exibe', 'termine', 'interessasse', 'oito', 'f', 'pronto', 'buscávamos', 'prazerosos', 'abrangência', 'minar', 'universidade', 'canadá', 'http', 'gestionar', 'desempenha', 'fechados', 'somamos', 'respectiva', 'intercepte', 'independentemente', 'silencioso', 'quietos', 'preenchem', 'atraentes', 'espera', 'presencial', 'apontam', 'jargões', 'primera', 'existam', 'rédeas', 'movida', 'capacitadas', 'compartilhando', 'desperdiçando', 'exatamente', 'propostos', 'depreciada', 'observada', 'automóveis', 'processos', 'armazenado', 'trarei', 'digitou', 'descaracterizado', 'ficarmos', 'iniciais', 'centavos', 'renda', 'cleber', 'aprenderem', 'condicional', 'responsivo', 'proporcionam', 'viaje', 'definirmos', 'pânico', 'pirâmide', 'sai', 'marmotex', 'pela', 'produtocontroller', 'enfeitar', 'priorize', 'gestão', 'rodrigues', 'acabava', 'pareamentos', 'substituir', 'alinhadas', 'gerir', 'pessoa', 'inovação', 'espanhol', 'concedeu', 'reduzir', 'aritméticas', 'estragava', 'ssh', 'estampado', 'colamos', 'tech', 'autêntico', 'herdadas', 'orientados', 'baixe', 'antes', 'radar', 'providos', 'valores', 'convidativa', 'acessível', 'bagagem', 'opinar', 'ita', 'mediana', 'carreira', 'reestruturar', 'anos', 'base', 'oferecerem', 'globalização', 'voltas', 'box', 'esqueço', 'maratonista', 'passagens', 'assertivos', 'igualmente', 'uniformemente', 'ring', 'superior', 'implementamos', 'direcionados', 'desmistificando', 'jep', 'queridas', 'investem', 'esquecem', 'sugeri', 'compartilharei', 'tipográficos', 'confunde', 'aproveitar', 'avaliado', 'injeção', 'apple', 'sairão', 'remotos', 'limita', 'escurece', 'participante', 'então', 'esboço', 'torna', 'prevenir', 'vantajosos', 'dor', 'recomendava', 'adesão', 'lapidar', 'dockerfile', 'pretas', 'desempregado', 'state', 'convidadas', 'mario', 'detalhado', 'dólares', 'commit', 'pin', 'características', 'busque', 'haja', 'designs', 'esquecimento', 'culpado', 'marissa', 'curte', 'entusiasmado', 'diva', 'lerá', 'remove', 'representativo', 'namespaces', 'inscrições', 'knowledge', 'ecommerce', 'proporciona', 'clica', 'dbase', 'catering', 'suid', 'laptop', 'subsídios', 'gatos', 'ramo', 'permissões', 'dinâmicas', 'quintas', 'clicada', 'discretizar', 'incompleto', 'validar', 'desenvolvendo', 'corriqueira', 'montei', 'comete', 'oferecida', 'dúvidas', 'afora', 'doses', 'reorganização', 'dictionary', 'qualitativo', 'maca', 'analysis', 'aprenderam', 'steve', 'cubo', 'significar', 'atingirei', 'attack', 'limitam', 'estepe', 'revolucionaram', 'compacto', 'listada', 'declarativo', 'coaxial', 'buffet', 'boss', 'norman', 'cerimônia', 'pdf', 'jobs', 'delicado', 'captamos', 'poderia', 'ideal', 'arrows', 'sa', 'buracos', 'calçados', 'transporte', 'impediu', 'acrescentássemos', 'fraquezas', 'depender', 'pertencentes', 'radiofobia', 'chefia', 'entanto', 'causavam', 'concebendo', 'obsessiva', 'distinguir', 'lideranças', 'atribuirmos', 'faltando', 'filosofal', 'sinais', 'subrotinas', 'chamativas', 'associações', 'comunicando', 'cérebro', 'quill', 'editorial', 'divulgamos', 'caras', 'inconvenientes', 'preciosa', 'variar', 'pagamos', 'disparada', 'zelda', 'comunicageral', 'focos', 'submeter', 'aninhamentos', 'almoço', 'normal', 'funcionaram', 'aposta', 'quebrando', 'obrigações', 'pediu', 'adequado', 'duplicado', 'aws', 'monótono', 'rodam', 'elaborava', 'similar', 'whitepaper', 'filtrando', 'esforços', 'gato', 'confundirem', 'fortaleza', 'corretamente', 'generalizadas', 'apagamos', 'pego', 'poesia', 'ferramenta', 'candidata', 'computador', 'nav', 'graphic', 'verify', 'january', 'utilizavam', 'anunciar', 'adota', 'acessaram', 'heat', 'autoconfiança', 'cíclicos', 'libertar', 'mascote', 'amor', 'planos', 'todos', 'erradas', 'baseada', 'píxel', 'maliciosos', 'sólidas', 'amostras', 'carteiros', 'acidente', 'fu', 'codemig', 'vestindo', 'acontecimentos', 'placas', 'network', 'conquistou', 'roadmap', 'editando', 'preenche', 'endpoint', 'exageradamente', 'tridimensionais', 'morimoto', 'reorganizaram', 'orçamento', 'garantimos', 'construa', 'atribuída', 'acrobacias', 'bronca', 'portando', 'container', 'substitui', 'guimarães', 'presenciais', 'propomos', 'prioridades', 'multiplicar', 'inteligente', 'viviane', 'spotify', 'ideo', 'enviarmos', 'unity', 'anime', 'atuando', 'trabalhadores', 'percorremos', 'youtubers', 'uando', 'aumentamos', 'amazon', 'descarregamento', 'mixer', 'ocultar', 'cesar', 'contratantes', 'claros', 'robin', 'ibm', 'futuro', 'inclass', 'sala', 'exploratória', 'genuínas', 'enviada', 'cv', 'validado', 'mostrasse', 'activityviewcontroller', 'coroutines', 'acelerado', 'sujeito', 'atalhos', 'instalador', 'belo', 'camada', 'consuma', 'testasse', 'clarear', 'vinha', 'unidade', 'parta', 'conte', 'advindas', 'six', 'sugerir', 'montando', 'inspiram', 'engloba', 'vivenciou', 'dominante', 'relaxado', 'indeterminado', 'scratch', 'provocativo', 'pizzarias', 'marcar', 'revendedores', 'esbanjando', 'vendo', 'aleatoriamente', 'editam', 'apresentado', 'testáveis', 'dobrado', 'cultura', 'lógicas', 'invocando', 'criando', 'rows', 'menssagens', 'ranqueamento', 'comportem', 'bytecode', 'stamp', 'aguçar', 'diplomas', 'scm', 'retirando', 'gringos', 'redes', 'encontrasse', 'despertou', 'executada', 'lançada', 'conjunta', 'pule', 'milímetros', 'capacitado', 'escultor', 'bitolado', 'encorajam', 'importar', 'seguem', 'dropbox', 'entitidades', 'geral', 'suba', 'verão', 'ambientes', 'afirma', 'suar', 'anexo', 'concluído', 'spread', 'upgrade', 'aplicará', 'sinalizada', 'frios', 'provável', 'mesma', 'cautela', 'quadrados', 'transportadas', 'finalidade', 'fazemos', 'numero', 'ambiental', 'idênticos', 'recuperadas', 'envolvida', 'hospital', 'miniprojeto', 'lanche', 'renomeação', 'emberjs', 'revisar', 'bimodal', 'orientação', 'respectivos', 'per', 'administrador', 'maquininhas', 'andar', 'ilimitadas', 'sigam', 'pegam', 'motivação', 'falham', 'estimativa', 'notamos', 'leu', 'adivinham', 'duplicar', 'voilà', 'inscreva', 'feminina', 'aliadas', 'baseadas', 'remetente', 'simula', 'grega', 'elevado', 'solicita', 'mal', 'menção', 'esperaria', 'diagnósticos', 'gerariam', 'executarão', 'renova', 'renan', 'hyper', 'assimilam', 'restauramos', 'fazes', 'realidade', 'dobra', 'bombom', 'matricula', 'diretório', 'baixando', 'smtp', 'necessaria', 'chicago', 'secundárias', 'verbos', 'equals', 'sob', 'nubank', 'crer', 'traduções', 'conversão', 'v', 'endereços', 'acessos', 'chamados', 'lançar', 'tensos', 'acessam', 'powerpoint', 'posterior', 'amadureceria', 'sentindo', 'complexas', 'rivalidade', 'intimamente', 'apelos', 'estivesse', 'herdam', 'atinja'}\n"
          ]
        }
      ]
    },
    {
      "cell_type": "markdown",
      "source": [
        "This variable, however, has the type \"set\". Thus, we may simply do:"
      ],
      "metadata": {
        "id": "WAozCzl6Ubcu"
      }
    },
    {
      "cell_type": "code",
      "source": [
        "tokens = list(set(tokens_norm))\n",
        "print(tokens[:50])"
      ],
      "metadata": {
        "colab": {
          "base_uri": "https://localhost:8080/"
        },
        "id": "pRYR2JMNUfIJ",
        "outputId": "e7397ef3-2a41-4e66-b9e6-55217ed42773"
      },
      "execution_count": 22,
      "outputs": [
        {
          "output_type": "stream",
          "name": "stdout",
          "text": [
            "['exclusivo', 'mudarmos', 'avisos', 'olhado', 'compreensivo', 'pixar', 'pereira', 'redimensionamento', 'cuidado', 'picos', 'realizem', 'berkeley', 'update', 'composta', 'livrar', 'extende', 'manteremos', 'fascinante', 'interesso', 'monospace', 'critical', 'opcional', 'simularemos', 'escaneáveis', 'tentamos', 'acertado', 'maiuscula', 'undefined', 'conectar', 'pagariam', 'absorvido', 'hashcode', 'width', 'fita', 'uma', 'importantíssimo', 'recarregadas', 'percam', 'pais', 'mobilegeddon', 'workana', 'conhecida', 'consigamos', 'construir', 'encontrassem', 'saga', 'aproximamos', 'canudo', 'jsdom', 'pegar']\n"
          ]
        }
      ]
    },
    {
      "cell_type": "markdown",
      "source": [
        "Finally, we may correctly evaluate the number of non-repeated entries:"
      ],
      "metadata": {
        "id": "EhcqDSTwUljJ"
      }
    },
    {
      "cell_type": "code",
      "source": [
        "len(tokens)"
      ],
      "metadata": {
        "colab": {
          "base_uri": "https://localhost:8080/"
        },
        "id": "vjNtcJGzUkWt",
        "outputId": "2e4e9376-3bf4-44d8-d8f5-361229a151dc"
      },
      "execution_count": 23,
      "outputs": [
        {
          "output_type": "execute_result",
          "data": {
            "text/plain": [
              "17652"
            ]
          },
          "metadata": {},
          "execution_count": 23
        }
      ]
    },
    {
      "cell_type": "markdown",
      "source": [
        "Great! Our corpus has more than 17,000 unique entries. "
      ],
      "metadata": {
        "id": "O7EQiBioUzHJ"
      }
    },
    {
      "cell_type": "markdown",
      "source": [
        "# Developing and testing our spell checker"
      ],
      "metadata": {
        "id": "WI6UIC49lD_4"
      }
    },
    {
      "cell_type": "markdown",
      "source": [
        "Now that we have our corpus, we may start developing and testing our spell checker. First, we will make a basic checker which:\n",
        "\n",
        "*   Checks if there is any missing letter; and\n",
        "*   Suggests a right word to replace.\n",
        "\n",
        "To make this, we can test inserting in our word any letter in any part of the word. For instance, if we pass *lgica* to our algorithm, the algorithm should test various candidates until finding out that the correct word is *lógica*.\n",
        "\n",
        "For that end, our algorithm should test different cases, joining two \"sides\" of the word and putting a letter between them. Our algorithm should test different words, such as:\n",
        "\n",
        "*   ólgica\n",
        "*   lógica\n",
        "*   lgóica\n",
        "*   lgióca\n",
        "*   lgicóa\n",
        "*   lgicaó\n",
        "\n",
        "Of course, we also don't know if \"ó\" is the right missing letter. Thus, we have to make this for every possible letter.\n",
        "\n"
      ],
      "metadata": {
        "id": "3-wzg1iclOam"
      }
    },
    {
      "cell_type": "markdown",
      "source": [
        "## Adding letters\n",
        "\n",
        "Let's start to work on the code. First, let's define a function to generate candidate solutions for our algorithm:"
      ],
      "metadata": {
        "id": "RP3pW60Im-pm"
      }
    },
    {
      "cell_type": "code",
      "source": [
        "def GetSliceList(word):                  # This function will generate the list of possible slices\n",
        "  slices = []                     \n",
        "  for i in range(len(word) + 1):         # In this loop we will create a list of pairs of slices (left and right slices)\n",
        "    slice_l = word[:i]                   # Left slice\n",
        "    slice_r = word[i:]                   # Right slice\n",
        "    slices.append( (slice_l, slice_r) )  # Storing the slices as a tuple on a list\n",
        "  return slices"
      ],
      "metadata": {
        "id": "9ylIBIuoN2gD"
      },
      "execution_count": 24,
      "outputs": []
    },
    {
      "cell_type": "code",
      "source": [
        "def CandidateSolutions(word):            # This function will generate candidate solutions\n",
        "\n",
        "  slices = GetSliceList(word)            # This function will get of list of tuples, each indicating a possible slice\n",
        "  cand_sols = InsertLetters(slices)      # This function will insert letters in our slices, creating our candidate solutions\n",
        "\n",
        "  return cand_sols\n"
      ],
      "metadata": {
        "id": "2n5hO8ZDkpaw"
      },
      "execution_count": 25,
      "outputs": []
    },
    {
      "cell_type": "code",
      "source": [
        "def InsertLetters(slices):\n",
        "  letters = 'abcdefghijklmnopqrstuvwxyzáâàãéêèíîìóôòúûù'  # We will insert these letters\n",
        "  candidate_solutions = []              \n",
        "  for left, right in slices:                              # We will make a loop over the list of tuples \n",
        "    for letter in letters:                                # We will make a loop over the list of letters\n",
        "      candidate_solutions.append(left + letter + right)   # We will join the left and right slices, putting the letter between them\n",
        "\n",
        "  return candidate_solutions"
      ],
      "metadata": {
        "id": "JrcJtO4loGy7"
      },
      "execution_count": 26,
      "outputs": []
    },
    {
      "cell_type": "markdown",
      "source": [
        "Now let's see if our algorithm is working:"
      ],
      "metadata": {
        "id": "jjzvf9phrtwi"
      }
    },
    {
      "cell_type": "code",
      "source": [
        "cand_sol = CandidateSolutions('lgica')\n",
        "print(cand_sol)"
      ],
      "metadata": {
        "colab": {
          "base_uri": "https://localhost:8080/"
        },
        "id": "ZFa3wi6OodrG",
        "outputId": "b23f7f78-9ded-4f77-b3d1-02197ba3085f"
      },
      "execution_count": 27,
      "outputs": [
        {
          "output_type": "stream",
          "name": "stdout",
          "text": [
            "['algica', 'blgica', 'clgica', 'dlgica', 'elgica', 'flgica', 'glgica', 'hlgica', 'ilgica', 'jlgica', 'klgica', 'llgica', 'mlgica', 'nlgica', 'olgica', 'plgica', 'qlgica', 'rlgica', 'slgica', 'tlgica', 'ulgica', 'vlgica', 'wlgica', 'xlgica', 'ylgica', 'zlgica', 'álgica', 'âlgica', 'àlgica', 'ãlgica', 'élgica', 'êlgica', 'èlgica', 'ílgica', 'îlgica', 'ìlgica', 'ólgica', 'ôlgica', 'òlgica', 'úlgica', 'ûlgica', 'ùlgica', 'lagica', 'lbgica', 'lcgica', 'ldgica', 'legica', 'lfgica', 'lggica', 'lhgica', 'ligica', 'ljgica', 'lkgica', 'llgica', 'lmgica', 'lngica', 'logica', 'lpgica', 'lqgica', 'lrgica', 'lsgica', 'ltgica', 'lugica', 'lvgica', 'lwgica', 'lxgica', 'lygica', 'lzgica', 'lágica', 'lâgica', 'làgica', 'lãgica', 'légica', 'lêgica', 'lègica', 'lígica', 'lîgica', 'lìgica', 'lógica', 'lôgica', 'lògica', 'lúgica', 'lûgica', 'lùgica', 'lgaica', 'lgbica', 'lgcica', 'lgdica', 'lgeica', 'lgfica', 'lggica', 'lghica', 'lgiica', 'lgjica', 'lgkica', 'lglica', 'lgmica', 'lgnica', 'lgoica', 'lgpica', 'lgqica', 'lgrica', 'lgsica', 'lgtica', 'lguica', 'lgvica', 'lgwica', 'lgxica', 'lgyica', 'lgzica', 'lgáica', 'lgâica', 'lgàica', 'lgãica', 'lgéica', 'lgêica', 'lgèica', 'lgíica', 'lgîica', 'lgìica', 'lgóica', 'lgôica', 'lgòica', 'lgúica', 'lgûica', 'lgùica', 'lgiaca', 'lgibca', 'lgicca', 'lgidca', 'lgieca', 'lgifca', 'lgigca', 'lgihca', 'lgiica', 'lgijca', 'lgikca', 'lgilca', 'lgimca', 'lginca', 'lgioca', 'lgipca', 'lgiqca', 'lgirca', 'lgisca', 'lgitca', 'lgiuca', 'lgivca', 'lgiwca', 'lgixca', 'lgiyca', 'lgizca', 'lgiáca', 'lgiâca', 'lgiàca', 'lgiãca', 'lgiéca', 'lgiêca', 'lgièca', 'lgiíca', 'lgiîca', 'lgiìca', 'lgióca', 'lgiôca', 'lgiòca', 'lgiúca', 'lgiûca', 'lgiùca', 'lgicaa', 'lgicba', 'lgicca', 'lgicda', 'lgicea', 'lgicfa', 'lgicga', 'lgicha', 'lgicia', 'lgicja', 'lgicka', 'lgicla', 'lgicma', 'lgicna', 'lgicoa', 'lgicpa', 'lgicqa', 'lgicra', 'lgicsa', 'lgicta', 'lgicua', 'lgicva', 'lgicwa', 'lgicxa', 'lgicya', 'lgicza', 'lgicáa', 'lgicâa', 'lgicàa', 'lgicãa', 'lgicéa', 'lgicêa', 'lgicèa', 'lgicía', 'lgicîa', 'lgicìa', 'lgicóa', 'lgicôa', 'lgicòa', 'lgicúa', 'lgicûa', 'lgicùa', 'lgicaa', 'lgicab', 'lgicac', 'lgicad', 'lgicae', 'lgicaf', 'lgicag', 'lgicah', 'lgicai', 'lgicaj', 'lgicak', 'lgical', 'lgicam', 'lgican', 'lgicao', 'lgicap', 'lgicaq', 'lgicar', 'lgicas', 'lgicat', 'lgicau', 'lgicav', 'lgicaw', 'lgicax', 'lgicay', 'lgicaz', 'lgicaá', 'lgicaâ', 'lgicaà', 'lgicaã', 'lgicaé', 'lgicaê', 'lgicaè', 'lgicaí', 'lgicaî', 'lgicaì', 'lgicaó', 'lgicaô', 'lgicaò', 'lgicaú', 'lgicaû', 'lgicaù']\n"
          ]
        }
      ]
    },
    {
      "cell_type": "markdown",
      "source": [
        "It does seem to be working fine! We can even see that our correct word is in the list"
      ],
      "metadata": {
        "id": "xNP-6D7arxql"
      }
    },
    {
      "cell_type": "code",
      "source": [
        "cand_sol[78]"
      ],
      "metadata": {
        "colab": {
          "base_uri": "https://localhost:8080/",
          "height": 35
        },
        "id": "vshvO-PVrqYB",
        "outputId": "18f266a3-0443-462a-f9ce-ef4223078bd8"
      },
      "execution_count": 28,
      "outputs": [
        {
          "output_type": "execute_result",
          "data": {
            "text/plain": [
              "'lógica'"
            ],
            "application/vnd.google.colaboratory.intrinsic+json": {
              "type": "string"
            }
          },
          "metadata": {},
          "execution_count": 28
        }
      ]
    },
    {
      "cell_type": "markdown",
      "source": [
        "However, how do we find the right word automatically? After all, that is exactly what a spell checker should do."
      ],
      "metadata": {
        "id": "j4xispMRr-l3"
      }
    },
    {
      "cell_type": "markdown",
      "source": [
        "An idea is to evaluate the likelihood that a given word can be the right guess. Then, to find the best possible guess, we simply choose the word with the maximum likelihood!\n",
        "\n",
        "To evaluate this likelihood, we can simply get a candidate solution and see how many times this candidate solution appears in our corpus. We may use a function from nltk:"
      ],
      "metadata": {
        "id": "C4EeiGKWvXnZ"
      }
    },
    {
      "cell_type": "code",
      "source": [
        "freq = nltk.FreqDist(tokens_norm)"
      ],
      "metadata": {
        "id": "HiREu7ibxHm_"
      },
      "execution_count": 29,
      "outputs": []
    },
    {
      "cell_type": "markdown",
      "source": [
        "Let's see our most common words:"
      ],
      "metadata": {
        "id": "YQgYJCR6xLqf"
      }
    },
    {
      "cell_type": "code",
      "source": [
        "freq.most_common(20)"
      ],
      "metadata": {
        "colab": {
          "base_uri": "https://localhost:8080/"
        },
        "id": "8LCS6ko1xNzP",
        "outputId": "a2728fe1-0639-4dbb-fb39-eb359774c4ff"
      },
      "execution_count": 30,
      "outputs": [
        {
          "output_type": "execute_result",
          "data": {
            "text/plain": [
              "[('de', 15494),\n",
              " ('o', 13966),\n",
              " ('que', 12225),\n",
              " ('a', 11034),\n",
              " ('e', 10478),\n",
              " ('para', 7694),\n",
              " ('um', 6346),\n",
              " ('é', 5881),\n",
              " ('uma', 5202),\n",
              " ('do', 5116),\n",
              " ('em', 4718),\n",
              " ('com', 4711),\n",
              " ('como', 3809),\n",
              " ('no', 3354),\n",
              " ('da', 3282),\n",
              " ('os', 3153),\n",
              " ('mais', 3039),\n",
              " ('não', 3037),\n",
              " ('se', 3021),\n",
              " ('por', 2693)]"
            ]
          },
          "metadata": {},
          "execution_count": 30
        }
      ]
    },
    {
      "cell_type": "markdown",
      "source": [
        "Everything seems to be working out fine."
      ],
      "metadata": {
        "id": "u2bf8fpSxQ1m"
      }
    },
    {
      "cell_type": "markdown",
      "source": [
        "Our checker should be able to assess the frequency of each word and, then, get the candidate solution with the highest frequency. So, we will first create a function to evaluate the likelihood of a given word, given by the frequency of that word on our corpus divided by the number of words."
      ],
      "metadata": {
        "id": "rjZLqxc07rZn"
      }
    },
    {
      "cell_type": "code",
      "source": [
        "def likelihood(word, freq, num_words):\n",
        "  return freq[word]/num_words"
      ],
      "metadata": {
        "id": "NZnp6F8n8Sb-"
      },
      "execution_count": 31,
      "outputs": []
    },
    {
      "cell_type": "markdown",
      "source": [
        "Let's test our function. If we try to get the likelihood of 'lagica':"
      ],
      "metadata": {
        "id": "vOwPnIOd_aKL"
      }
    },
    {
      "cell_type": "code",
      "source": [
        "likelihood('lagica', freq, num_words)"
      ],
      "metadata": {
        "colab": {
          "base_uri": "https://localhost:8080/"
        },
        "id": "2c2WanpM_iNC",
        "outputId": "ebf487dc-5711-408f-a9ee-4644fed9ff6c"
      },
      "execution_count": 32,
      "outputs": [
        {
          "output_type": "execute_result",
          "data": {
            "text/plain": [
              "0.0"
            ]
          },
          "metadata": {},
          "execution_count": 32
        }
      ]
    },
    {
      "cell_type": "markdown",
      "source": [
        "We get 0.0, because there is no such word in our corpus. However, if we try to get the likelihood of 'lógica':"
      ],
      "metadata": {
        "id": "E8v65G7W_htA"
      }
    },
    {
      "cell_type": "code",
      "source": [
        "likelihood('lógica', freq, num_words)"
      ],
      "metadata": {
        "colab": {
          "base_uri": "https://localhost:8080/"
        },
        "id": "voAQHsIb_tmG",
        "outputId": "5922cb6e-5c8e-40e0-b3cc-640274847d62"
      },
      "execution_count": 33,
      "outputs": [
        {
          "output_type": "execute_result",
          "data": {
            "text/plain": [
              "0.00022086039084673304"
            ]
          },
          "metadata": {},
          "execution_count": 33
        }
      ]
    },
    {
      "cell_type": "markdown",
      "source": [
        "Everything seems to be working out fine. Now, we will create our spell checker:"
      ],
      "metadata": {
        "id": "pKklMsmk-xeJ"
      }
    },
    {
      "cell_type": "code",
      "source": [
        "def spell_checker(word, freq, num_words):\n",
        "  cand_sols = CandidateSolutions(word)       # Getting all candidate soltions\n",
        "  max_like, right_word = 0, None             # Creating the maximum likelihood and the right word variables\n",
        "  for sol in cand_sols:                      # Initiating loops through candidate solutions\n",
        "    like = likelihood(sol, freq, num_words)  # Evaluating likelihood of a candidate solution\n",
        "    if like > max_like:                      # Checking if its likelihood is higher than the maximum likelihood\n",
        "      right_word, max_like = sol, like       # If so, the right_word and the max_like variables are updated    \n",
        "\n",
        "  # These lines of code are commented so that our testing does not get overcrowded.\n",
        "  \n",
        "  # if right_word == None:\n",
        "  #  print(\"The spell checker was not able to find a good educated guess for the correct word.\")\n",
        "  \n",
        "  return right_word"
      ],
      "metadata": {
        "id": "Q19FarfZr5K7"
      },
      "execution_count": 34,
      "outputs": []
    },
    {
      "cell_type": "markdown",
      "source": [
        "Good! Let's test our checker:"
      ],
      "metadata": {
        "id": "a513NdH3_VMh"
      }
    },
    {
      "cell_type": "code",
      "source": [
        "spell_checker(\"lgica\", freq, num_words)"
      ],
      "metadata": {
        "colab": {
          "base_uri": "https://localhost:8080/",
          "height": 35
        },
        "id": "Xi6EpLMd9PTH",
        "outputId": "58743ec2-aef4-4432-a61f-f9cd33701c99"
      },
      "execution_count": 35,
      "outputs": [
        {
          "output_type": "execute_result",
          "data": {
            "text/plain": [
              "'lógica'"
            ],
            "application/vnd.google.colaboratory.intrinsic+json": {
              "type": "string"
            }
          },
          "metadata": {},
          "execution_count": 35
        }
      ]
    },
    {
      "cell_type": "markdown",
      "source": [
        "Great! The checker was able to return the right word. Let's try with other words:"
      ],
      "metadata": {
        "id": "Poeemhm__XO_"
      }
    },
    {
      "cell_type": "code",
      "source": [
        "spell_checker(\"armáro\", freq, num_words)"
      ],
      "metadata": {
        "colab": {
          "base_uri": "https://localhost:8080/",
          "height": 35
        },
        "id": "XAJ4ModoAXb4",
        "outputId": "eb2b4a61-b97d-4ea3-fe88-5688c22c1a90"
      },
      "execution_count": 36,
      "outputs": [
        {
          "output_type": "execute_result",
          "data": {
            "text/plain": [
              "'armário'"
            ],
            "application/vnd.google.colaboratory.intrinsic+json": {
              "type": "string"
            }
          },
          "metadata": {},
          "execution_count": 36
        }
      ]
    },
    {
      "cell_type": "code",
      "source": [
        "spell_checker(\"piza\", freq, num_words)"
      ],
      "metadata": {
        "colab": {
          "base_uri": "https://localhost:8080/",
          "height": 35
        },
        "id": "nt1Hbp3S-gy4",
        "outputId": "1a8433a1-fa00-48f4-bcff-af1b1c03f381"
      },
      "execution_count": 37,
      "outputs": [
        {
          "output_type": "execute_result",
          "data": {
            "text/plain": [
              "'pizza'"
            ],
            "application/vnd.google.colaboratory.intrinsic+json": {
              "type": "string"
            }
          },
          "metadata": {},
          "execution_count": 37
        }
      ]
    },
    {
      "cell_type": "code",
      "source": [
        "spell_checker(\"lógice\", freq, num_words)"
      ],
      "metadata": {
        "id": "8yt0H0MGAb3_"
      },
      "execution_count": 38,
      "outputs": []
    },
    {
      "cell_type": "markdown",
      "source": [
        "Note that, this time, our spell checker only works for one type of error: when people forget to use a single letter. However, when people use a wrong letter instead of the right one, or when people use an additional letter, our checker does not work! \n",
        "\n",
        "Let's see how to fix other types of errors."
      ],
      "metadata": {
        "id": "pJotWzu3AARQ"
      }
    },
    {
      "cell_type": "markdown",
      "source": [
        "# Checking the quality of our spell checker"
      ],
      "metadata": {
        "id": "T7Jm4brcBBKM"
      }
    },
    {
      "cell_type": "markdown",
      "source": [
        "Before fixing other types of errors, let's use a test set. A test set is a very good tool to test an algorithm, so that we can compare two different approaches. \n",
        "\n",
        "In this case, our test set is composed of multiple words which need to be corrected by the use of a spell checker. Let's see how many words our current checker is able to fix, and then let's determine the reliability of our checker. Here, the reliability is given by:\n",
        "\n",
        "* Number of time our checker suggested the right word divided by the number of words tested.\n",
        "\n",
        "Let's create a function to evaluate the reliability of our checker:"
      ],
      "metadata": {
        "id": "ZZCUnc0WBMTj"
      }
    },
    {
      "cell_type": "code",
      "source": [
        "def CheckerReliability(testset, freq, num_words, func_checker):\n",
        "  hit = 0\n",
        "  for right_word, test_word in testset:\n",
        "    guess = func_checker(test_word, freq, num_words) # Note that we are passing our checker function as an argument! \n",
        "    if guess == right_word:\n",
        "      hit += 1\n",
        "\n",
        "  reliab = hit/len(testset)\n",
        "\n",
        "  print(f\"Reliability: {round(reliab*100,2)}% (number of words tested: {len(testset)})\")"
      ],
      "metadata": {
        "id": "eJ5CYYRz__Di"
      },
      "execution_count": 39,
      "outputs": []
    },
    {
      "cell_type": "markdown",
      "source": [
        "Now, let's create a function to read the test set and store it in a list."
      ],
      "metadata": {
        "id": "RcUikufPC8Fr"
      }
    },
    {
      "cell_type": "code",
      "source": [
        "def GetTestData(name_file):\n",
        "  test_words = []\n",
        "  f = open(name_file, \"r\")\n",
        "  for row in f:\n",
        "    right, wrong = row.split( )\n",
        "    test_words.append( (right, wrong) )\n",
        "  f.close( )\n",
        "  return test_words"
      ],
      "metadata": {
        "id": "6qejYp_QCbKO"
      },
      "execution_count": 40,
      "outputs": []
    },
    {
      "cell_type": "markdown",
      "source": [
        "Note that our test set needs to have two informations: one for the **right word**, which is the word our checker needs to find as the output, and one the the **misspelled word**, which is passed to the checker."
      ],
      "metadata": {
        "id": "gD5BMEtSDBW_"
      }
    },
    {
      "cell_type": "markdown",
      "source": [
        "Finally, let's use our functions to check the reliability of our checker."
      ],
      "metadata": {
        "id": "C3l1TPfUEs9j"
      }
    },
    {
      "cell_type": "code",
      "source": [
        "testset = GetTestData('palavras.txt')\n",
        "\n",
        "CheckerReliability(testset, freq, num_words, spell_checker)"
      ],
      "metadata": {
        "colab": {
          "base_uri": "https://localhost:8080/"
        },
        "id": "ErcCuXaSDPZY",
        "outputId": "7aba9780-be55-4385-fbc5-d6c327697b7d"
      },
      "execution_count": 41,
      "outputs": [
        {
          "output_type": "stream",
          "name": "stdout",
          "text": [
            "Reliability: 1.08% (number of words tested: 186)\n"
          ]
        }
      ]
    },
    {
      "cell_type": "markdown",
      "source": [
        "Note that our spell checker was able to find the correct guess only 1.08% of the time."
      ],
      "metadata": {
        "id": "IJg2opPvW6ah"
      }
    },
    {
      "cell_type": "markdown",
      "source": [
        "Ok, so let's try to improve our spell checker."
      ],
      "metadata": {
        "id": "9dys4FDrGD9_"
      }
    },
    {
      "cell_type": "markdown",
      "source": [
        "# Improving our spell checker"
      ],
      "metadata": {
        "id": "IOWbT-_mGYX4"
      }
    },
    {
      "cell_type": "markdown",
      "source": [
        "Now let's give an added functionality to our checker. Now, it should be able to check if there is any **addtional** letter in the word and delete it, generating the correct word. For instance, it must be able to receive a misspelled word, such as\n",
        "\n",
        "\n",
        "*   *lóigica*\n",
        "\n",
        "and guess the correct word:\n",
        "\n",
        "*   *lógica*\n",
        "\n",
        "\n",
        "\n"
      ],
      "metadata": {
        "id": "7klO6a14LcaV"
      }
    },
    {
      "cell_type": "markdown",
      "source": [
        "Note that, now, our spell checker is not able to solve such a problem:"
      ],
      "metadata": {
        "id": "sYXRzJdxMD6b"
      }
    },
    {
      "cell_type": "code",
      "source": [
        "spell_checker(\"lóigica\", freq, num_words)"
      ],
      "metadata": {
        "id": "TNsYxxYVGaTM"
      },
      "execution_count": 42,
      "outputs": []
    },
    {
      "cell_type": "markdown",
      "source": [
        "So, let's start improving our spell checker. "
      ],
      "metadata": {
        "id": "efHAUjbjMJcb"
      }
    },
    {
      "cell_type": "markdown",
      "source": [
        "## Deleting letters\n",
        "\n",
        "Once again, we will break our word in two slices. To that end, we can use our already defined function:"
      ],
      "metadata": {
        "id": "sS_4ApK9ZBjK"
      }
    },
    {
      "cell_type": "code",
      "source": [
        "test_word = 'lóigica'\n",
        "\n",
        "print(GetSliceList(test_word))"
      ],
      "metadata": {
        "colab": {
          "base_uri": "https://localhost:8080/"
        },
        "id": "rXxunDbEMH4k",
        "outputId": "d656b245-ddcd-4417-e138-3ef5ed1f6541"
      },
      "execution_count": 43,
      "outputs": [
        {
          "output_type": "stream",
          "name": "stdout",
          "text": [
            "[('', 'lóigica'), ('l', 'óigica'), ('ló', 'igica'), ('lói', 'gica'), ('lóig', 'ica'), ('lóigi', 'ca'), ('lóigic', 'a'), ('lóigica', '')]\n"
          ]
        }
      ]
    },
    {
      "cell_type": "markdown",
      "source": [
        "Now, let's create a new function to create candidate solutions, this time by removing one letter from our word:"
      ],
      "metadata": {
        "id": "RZtkM3WZOjlW"
      }
    },
    {
      "cell_type": "code",
      "source": [
        "def CandidateSolutions2(word):           # This function will generate candidate solutions\n",
        "\n",
        "  slices = GetSliceList(word)            # This function will get of list of tuples, each indicating a possible slice\n",
        "  cand_sols = RemoveLetters(slices)      # This function will remove letters in our slices, creating our candidate solutions\n",
        "\n",
        "  return cand_sols\n"
      ],
      "metadata": {
        "id": "dP1h_g1bOg74"
      },
      "execution_count": 44,
      "outputs": []
    },
    {
      "cell_type": "markdown",
      "source": [
        "And finally, let's implement our letter deletion algorithm:"
      ],
      "metadata": {
        "id": "Kl1s4_82O9ZS"
      }
    },
    {
      "cell_type": "code",
      "source": [
        "def RemoveLetters(slices):\n",
        "  candidate_solutions = []              \n",
        "  for left, right in slices:                     # We will make a loop over the list of tuples \n",
        "    candidate_solutions.append(left + right[1:]) # We will join the left and right slices, removing the first letter from the right slice\n",
        "\n",
        "  return candidate_solutions"
      ],
      "metadata": {
        "id": "8z8DaIpxNsq6"
      },
      "execution_count": 45,
      "outputs": []
    },
    {
      "cell_type": "markdown",
      "source": [
        "Now, let's test if our candidate solutions make sense:"
      ],
      "metadata": {
        "id": "nW7KmhLXPa1J"
      }
    },
    {
      "cell_type": "code",
      "source": [
        "CandidateSolutions2('lóigica')"
      ],
      "metadata": {
        "colab": {
          "base_uri": "https://localhost:8080/"
        },
        "id": "oJgukKuaPZ_8",
        "outputId": "e92ba394-d20f-47d5-ce54-5ff54cde3cc0"
      },
      "execution_count": 46,
      "outputs": [
        {
          "output_type": "execute_result",
          "data": {
            "text/plain": [
              "['óigica',\n",
              " 'ligica',\n",
              " 'lógica',\n",
              " 'lóiica',\n",
              " 'lóigca',\n",
              " 'lóigia',\n",
              " 'lóigic',\n",
              " 'lóigica']"
            ]
          },
          "metadata": {},
          "execution_count": 46
        }
      ]
    },
    {
      "cell_type": "markdown",
      "source": [
        "Great! We can even see our right word (*lógica*) at index 2 in our list of candidate solutions. \n",
        "\n",
        "Now, let's redefine our spell checker function."
      ],
      "metadata": {
        "id": "WM1iNqBYPj5_"
      }
    },
    {
      "cell_type": "code",
      "source": [
        "def spell_checker2(word, freq, num_words):\n",
        "  cand_sols1 = CandidateSolutions(word)      # Getting candidate solutions for the letter addition operation\n",
        "  cand_sols2 = CandidateSolutions2(word)     # Getting candidate solutions for the letter deletion operation\n",
        "  cand_sols = [*cand_sols1, *cand_sols2]     # This will concatenate both lists in a single one\n",
        "  max_like, right_word = 0, None             # Creating the maximum likelihood and the right word variables\n",
        "  for sol in cand_sols:                      # Initiating loops through candidate solutions\n",
        "    like = likelihood(sol, freq, num_words)  # Evaluating likelihood of a candidate solution\n",
        "    if like > max_like:                      # Checking if its likelihood is higher than the maximum likelihood\n",
        "      right_word, max_like = sol, like       # If so, the right_word and the max_like variables are updated    \n",
        "\n",
        "  # These lines of code are commented so that our testing does not get overcrowded.\n",
        "  \n",
        "  # if right_word == None:\n",
        "  #  print(\"The spell checker was not able to find a good educated guess for the correct word.\")\n",
        "  \n",
        "  return right_word"
      ],
      "metadata": {
        "id": "buJAO8-yPYVZ"
      },
      "execution_count": 47,
      "outputs": []
    },
    {
      "cell_type": "markdown",
      "source": [
        "Note that, instead of having to redefine our spell checker function, we could have just redefined our function to generate candidate solutions, so that it could give us all possible solutions at once. \n",
        "\n",
        "Let's just test if our new checker is able to guess the correct word for our example:\n"
      ],
      "metadata": {
        "id": "F__9Ca73QjYT"
      }
    },
    {
      "cell_type": "code",
      "source": [
        "test_word = 'lóigica'\n",
        "\n",
        "spell_checker2(test_word, freq, num_words)"
      ],
      "metadata": {
        "colab": {
          "base_uri": "https://localhost:8080/",
          "height": 35
        },
        "id": "rnMshgjKYPBR",
        "outputId": "f9e348c3-724a-44ba-ea22-f43a4fae4b86"
      },
      "execution_count": 48,
      "outputs": [
        {
          "output_type": "execute_result",
          "data": {
            "text/plain": [
              "'lógica'"
            ],
            "application/vnd.google.colaboratory.intrinsic+json": {
              "type": "string"
            }
          },
          "metadata": {},
          "execution_count": 48
        }
      ]
    },
    {
      "cell_type": "markdown",
      "source": [
        "Nice! Finally, let's test again our spell checkers. For the first checker, we got a reliability of only 1.08%:"
      ],
      "metadata": {
        "id": "jsETvamJXTvS"
      }
    },
    {
      "cell_type": "code",
      "source": [
        "CheckerReliability(testset, freq, num_words, spell_checker)"
      ],
      "metadata": {
        "colab": {
          "base_uri": "https://localhost:8080/"
        },
        "id": "nHpt3UgZQXCi",
        "outputId": "9a715293-24c4-453c-ff96-6f500b6148d2"
      },
      "execution_count": 49,
      "outputs": [
        {
          "output_type": "stream",
          "name": "stdout",
          "text": [
            "Reliability: 1.08% (number of words tested: 186)\n"
          ]
        }
      ]
    },
    {
      "cell_type": "markdown",
      "source": [
        "Now, for the second checker:"
      ],
      "metadata": {
        "id": "Gk9opeR-XbMC"
      }
    },
    {
      "cell_type": "code",
      "source": [
        "CheckerReliability(testset, freq, num_words, spell_checker2)"
      ],
      "metadata": {
        "colab": {
          "base_uri": "https://localhost:8080/"
        },
        "id": "dMCbDXpFXaf4",
        "outputId": "89fc7bff-1e5f-4428-a98b-3c036e63410a"
      },
      "execution_count": 50,
      "outputs": [
        {
          "output_type": "stream",
          "name": "stdout",
          "text": [
            "Reliability: 41.4% (number of words tested: 186)\n"
          ]
        }
      ]
    },
    {
      "cell_type": "markdown",
      "source": [
        "Great! We were able to improve our reliability by adding a new functionality to our checker. Now it is able to show the correct guess for 41.4% of the tested words.\n",
        "\n",
        "By adding more functionalities we may be able to improve this reliability even more."
      ],
      "metadata": {
        "id": "rSxR3mgJXdwi"
      }
    },
    {
      "cell_type": "markdown",
      "source": [
        "# Improving our spell checker even more"
      ],
      "metadata": {
        "id": "DEB0PCniY3PB"
      }
    },
    {
      "cell_type": "markdown",
      "source": [
        "## Changing letters"
      ],
      "metadata": {
        "id": "KI8QR2pqY79S"
      }
    },
    {
      "cell_type": "markdown",
      "source": [
        "Our checker is already able to solve two kinds of problems:\n",
        "\n",
        "*   Adding a letter;\n",
        "*   Deleting a letter.\n",
        "\n",
        "Now, let's add a new functionality, where the checker will be able to:\n",
        "\n",
        "*   Change letters.\n",
        "\n",
        "For instance, when receiving the word *lígica*, the checker should be able to guess the word *lógica* by testing candidate solutions generated via a change in the letters of the word.\n",
        "\n",
        "\n",
        "\n"
      ],
      "metadata": {
        "id": "GfnHi-DLaTHb"
      }
    },
    {
      "cell_type": "markdown",
      "source": [
        "So, let's start by creating **another** function to generate candidate solutions:"
      ],
      "metadata": {
        "id": "saxCCxa2azz8"
      }
    },
    {
      "cell_type": "code",
      "source": [
        "def CandidateSolutions3(word):           # This function will generate candidate solutions\n",
        "\n",
        "  slices = GetSliceList(word)            # This function will get of list of tuples, each indicating a possible slice\n",
        "  cand_sols = ChangeLetters(slices)      # This function will change letters in our slices, creating our candidate solutions\n",
        "\n",
        "  return cand_sols"
      ],
      "metadata": {
        "id": "-VsZkwSkY7G8"
      },
      "execution_count": 51,
      "outputs": []
    },
    {
      "cell_type": "markdown",
      "source": [
        "And let's implement our function to change letters. Note that this operation is basically a sum between the two others: we will delete a letter and then add a new letter in its place. So, the function *ChangeLetters( )* can be defined as:\n",
        "\n"
      ],
      "metadata": {
        "id": "6whpxn8pbHTX"
      }
    },
    {
      "cell_type": "code",
      "source": [
        "def ChangeLetters(slices):\n",
        "  letters = 'abcdefghijklmnopqrstuvwxyzáâàãéêèíîìóôòúûù'     # We will insert these letters\n",
        "  candidate_solutions = []              \n",
        "  for left, right in slices:                                 # We will make a loop over the list of tuples \n",
        "    for letter in letters:                                   # We will make a loop over the list of letters\n",
        "    \n",
        "      candidate_solutions.append(left + letter + right[1:])  # We will join the left and right slices, removing the first \n",
        "                                                             # letter from the right slice and adding a new letter\n",
        "\n",
        "  return candidate_solutions"
      ],
      "metadata": {
        "id": "5ckMKEusXc8L"
      },
      "execution_count": 52,
      "outputs": []
    },
    {
      "cell_type": "markdown",
      "source": [
        "So, let's test our candidate solutions:"
      ],
      "metadata": {
        "id": "BCc5RfYlcBiB"
      }
    },
    {
      "cell_type": "code",
      "source": [
        "cand3 = CandidateSolutions3('lígica')\n",
        "print(cand3)"
      ],
      "metadata": {
        "colab": {
          "base_uri": "https://localhost:8080/"
        },
        "id": "6e1Z9t7ubuNc",
        "outputId": "a119b8f2-e654-40b2-8619-c3fee46249e2"
      },
      "execution_count": 53,
      "outputs": [
        {
          "output_type": "stream",
          "name": "stdout",
          "text": [
            "['aígica', 'bígica', 'cígica', 'dígica', 'eígica', 'fígica', 'gígica', 'hígica', 'iígica', 'jígica', 'kígica', 'lígica', 'mígica', 'nígica', 'oígica', 'pígica', 'qígica', 'rígica', 'sígica', 'tígica', 'uígica', 'vígica', 'wígica', 'xígica', 'yígica', 'zígica', 'áígica', 'âígica', 'àígica', 'ãígica', 'éígica', 'êígica', 'èígica', 'íígica', 'îígica', 'ìígica', 'óígica', 'ôígica', 'òígica', 'úígica', 'ûígica', 'ùígica', 'lagica', 'lbgica', 'lcgica', 'ldgica', 'legica', 'lfgica', 'lggica', 'lhgica', 'ligica', 'ljgica', 'lkgica', 'llgica', 'lmgica', 'lngica', 'logica', 'lpgica', 'lqgica', 'lrgica', 'lsgica', 'ltgica', 'lugica', 'lvgica', 'lwgica', 'lxgica', 'lygica', 'lzgica', 'lágica', 'lâgica', 'làgica', 'lãgica', 'légica', 'lêgica', 'lègica', 'lígica', 'lîgica', 'lìgica', 'lógica', 'lôgica', 'lògica', 'lúgica', 'lûgica', 'lùgica', 'líaica', 'líbica', 'lícica', 'lídica', 'líeica', 'lífica', 'lígica', 'líhica', 'líiica', 'líjica', 'líkica', 'lílica', 'límica', 'línica', 'líoica', 'lípica', 'líqica', 'lírica', 'lísica', 'lítica', 'líuica', 'lívica', 'líwica', 'líxica', 'líyica', 'lízica', 'líáica', 'líâica', 'líàica', 'líãica', 'líéica', 'líêica', 'líèica', 'lííica', 'líîica', 'líìica', 'líóica', 'líôica', 'líòica', 'líúica', 'líûica', 'líùica', 'lígaca', 'lígbca', 'lígcca', 'lígdca', 'lígeca', 'lígfca', 'líggca', 'líghca', 'lígica', 'lígjca', 'lígkca', 'líglca', 'lígmca', 'lígnca', 'lígoca', 'lígpca', 'lígqca', 'lígrca', 'lígsca', 'lígtca', 'líguca', 'lígvca', 'lígwca', 'lígxca', 'lígyca', 'lígzca', 'lígáca', 'lígâca', 'lígàca', 'lígãca', 'lígéca', 'lígêca', 'lígèca', 'lígíca', 'lígîca', 'lígìca', 'lígóca', 'lígôca', 'lígòca', 'lígúca', 'lígûca', 'lígùca', 'lígiaa', 'lígiba', 'lígica', 'lígida', 'lígiea', 'lígifa', 'lígiga', 'lígiha', 'lígiia', 'lígija', 'lígika', 'lígila', 'lígima', 'lígina', 'lígioa', 'lígipa', 'lígiqa', 'lígira', 'lígisa', 'lígita', 'lígiua', 'lígiva', 'lígiwa', 'lígixa', 'lígiya', 'lígiza', 'lígiáa', 'lígiâa', 'lígiàa', 'lígiãa', 'lígiéa', 'lígiêa', 'lígièa', 'lígiía', 'lígiîa', 'lígiìa', 'lígióa', 'lígiôa', 'lígiòa', 'lígiúa', 'lígiûa', 'lígiùa', 'lígica', 'lígicb', 'lígicc', 'lígicd', 'lígice', 'lígicf', 'lígicg', 'lígich', 'lígici', 'lígicj', 'lígick', 'lígicl', 'lígicm', 'lígicn', 'lígico', 'lígicp', 'lígicq', 'lígicr', 'lígics', 'lígict', 'lígicu', 'lígicv', 'lígicw', 'lígicx', 'lígicy', 'lígicz', 'lígicá', 'lígicâ', 'lígicà', 'lígicã', 'lígicé', 'lígicê', 'lígicè', 'lígicí', 'lígicî', 'lígicì', 'lígicó', 'lígicô', 'lígicò', 'lígicú', 'lígicû', 'lígicù', 'lígicaa', 'lígicab', 'lígicac', 'lígicad', 'lígicae', 'lígicaf', 'lígicag', 'lígicah', 'lígicai', 'lígicaj', 'lígicak', 'lígical', 'lígicam', 'lígican', 'lígicao', 'lígicap', 'lígicaq', 'lígicar', 'lígicas', 'lígicat', 'lígicau', 'lígicav', 'lígicaw', 'lígicax', 'lígicay', 'lígicaz', 'lígicaá', 'lígicaâ', 'lígicaà', 'lígicaã', 'lígicaé', 'lígicaê', 'lígicaè', 'lígicaí', 'lígicaî', 'lígicaì', 'lígicaó', 'lígicaô', 'lígicaò', 'lígicaú', 'lígicaû', 'lígicaù']\n"
          ]
        }
      ]
    },
    {
      "cell_type": "markdown",
      "source": [
        "Great! Everything seems to be working out fine. We can even find our correct guess in the list."
      ],
      "metadata": {
        "id": "0bgWGj8kcZhh"
      }
    },
    {
      "cell_type": "code",
      "source": [
        "cand3[78]"
      ],
      "metadata": {
        "colab": {
          "base_uri": "https://localhost:8080/",
          "height": 35
        },
        "id": "QGvqP1CzcG-8",
        "outputId": "ed6044a3-b553-458e-a6ce-2c016c7c72b9"
      },
      "execution_count": 54,
      "outputs": [
        {
          "output_type": "execute_result",
          "data": {
            "text/plain": [
              "'lógica'"
            ],
            "application/vnd.google.colaboratory.intrinsic+json": {
              "type": "string"
            }
          },
          "metadata": {},
          "execution_count": 54
        }
      ]
    },
    {
      "cell_type": "markdown",
      "source": [
        "Now, we just have to implement the third iteration of our checker:"
      ],
      "metadata": {
        "id": "KjGnsESLcema"
      }
    },
    {
      "cell_type": "code",
      "source": [
        "def spell_checker3(word, freq, num_words):\n",
        "  cand_sols1 = CandidateSolutions(word)                   # Getting candidate solutions for the letter addition operation\n",
        "  cand_sols2 = CandidateSolutions2(word)                  # Getting candidate solutions for the letter deletion operation\n",
        "  cand_sols3 = CandidateSolutions3(word)                  # Getting candidate solutions for the letter changing operation\n",
        "\n",
        "  cand_sols = [*cand_sols1, *cand_sols2, *cand_sols3]     # This will concatenate both lists in a single one\n",
        "  max_like, right_word = 0, None                          # Creating the maximum likelihood and the right word variables\n",
        "  for sol in cand_sols:                                   # Initiating loops through candidate solutions\n",
        "    like = likelihood(sol, freq, num_words)               # Evaluating likelihood of a candidate solution\n",
        "    if like > max_like:                                   # Checking if its likelihood is higher than the maximum likelihood\n",
        "      right_word, max_like = sol, like                    # If so, the right_word and the max_like variables are updated    \n",
        "\n",
        "  # These lines of code are commented so that our testing does not get overcrowded.\n",
        "  \n",
        "  # if right_word == None:\n",
        "  #  print(\"The spell checker was not able to find a good educated guess for the correct word.\")\n",
        "  \n",
        "  return right_word"
      ],
      "metadata": {
        "id": "vEpgjNVscXl5"
      },
      "execution_count": 55,
      "outputs": []
    },
    {
      "cell_type": "markdown",
      "source": [
        "Good. Now, let's test the reliability of our checkers once again:"
      ],
      "metadata": {
        "id": "_2PNp0Tmculc"
      }
    },
    {
      "cell_type": "code",
      "source": [
        "CheckerReliability(testset, freq, num_words, spell_checker)"
      ],
      "metadata": {
        "colab": {
          "base_uri": "https://localhost:8080/"
        },
        "id": "uJOKQxovcqdu",
        "outputId": "88d17ca4-7492-4962-8615-4c1dc8d90762"
      },
      "execution_count": 56,
      "outputs": [
        {
          "output_type": "stream",
          "name": "stdout",
          "text": [
            "Reliability: 1.08% (number of words tested: 186)\n"
          ]
        }
      ]
    },
    {
      "cell_type": "code",
      "source": [
        "CheckerReliability(testset, freq, num_words, spell_checker2)"
      ],
      "metadata": {
        "colab": {
          "base_uri": "https://localhost:8080/"
        },
        "id": "-Bz41trYc3MQ",
        "outputId": "1a85cb93-6ad4-49d9-9e7c-514e0b2a8fd8"
      },
      "execution_count": 57,
      "outputs": [
        {
          "output_type": "stream",
          "name": "stdout",
          "text": [
            "Reliability: 41.4% (number of words tested: 186)\n"
          ]
        }
      ]
    },
    {
      "cell_type": "code",
      "source": [
        "CheckerReliability(testset, freq, num_words, spell_checker3)"
      ],
      "metadata": {
        "colab": {
          "base_uri": "https://localhost:8080/"
        },
        "id": "RJLcicXhc36D",
        "outputId": "f5e0ad86-8213-483a-b928-77bc83b2d15a"
      },
      "execution_count": 58,
      "outputs": [
        {
          "output_type": "stream",
          "name": "stdout",
          "text": [
            "Reliability: 76.34% (number of words tested: 186)\n"
          ]
        }
      ]
    },
    {
      "cell_type": "markdown",
      "source": [
        "Great! Now our checker is able to guess the correct word in 76.34% of cases in our test set! Still, there is one more type of error that we may want to fix."
      ],
      "metadata": {
        "id": "N5LfibbPdDcs"
      }
    },
    {
      "cell_type": "markdown",
      "source": [
        "## Inverting letters\n",
        "\n",
        "Sometimes, we just invert our letters. For instance, when trying to spell *lógica*, it is common to write, for instance, *lóigca*, especially when typing fast.\n",
        "\n",
        "To do so, we may simply get our slices, and then invert the first and second letters from our right slices."
      ],
      "metadata": {
        "id": "FI5zdFNqezNv"
      }
    },
    {
      "cell_type": "markdown",
      "source": [
        "So, let's implement an algorithm that will invert those letters, and generate new candidate solutions."
      ],
      "metadata": {
        "id": "3WJAxJxTfGYX"
      }
    },
    {
      "cell_type": "code",
      "source": [
        "def InvertLetters(slices):\n",
        "  candidate_solutions = []              \n",
        "  for left, right in slices:                                            # We will make a loop over the list of tuples \n",
        "\n",
        "    if (len(right) < 2):                                                # First, we will test if our right slice has at least 2 letters\n",
        "      break                                                             # If not, the loop will break\n",
        "\n",
        "    candidate_solutions.append(left + right[1] + right[0] + right[2:])  # We will join the left and right slices, but we will invert \n",
        "                                                                        # the first and second letters from the right slice\n",
        "\n",
        "  return candidate_solutions"
      ],
      "metadata": {
        "id": "VdyRmBCEc44S"
      },
      "execution_count": 59,
      "outputs": []
    },
    {
      "cell_type": "markdown",
      "source": [
        "Now, implementing our new function to evaluate candidate solutions:"
      ],
      "metadata": {
        "id": "Xp0t_GC-f5Hp"
      }
    },
    {
      "cell_type": "code",
      "source": [
        "def CandidateSolutions4(word):           # This function will generate candidate solutions\n",
        "\n",
        "  slices = GetSliceList(word)            # This function will get of list of tuples, each indicating a possible slice\n",
        "  cand_sols = InvertLetters(slices)      # This function will invert letters in our slices, creating our candidate solutions\n",
        "\n",
        "  return cand_sols"
      ],
      "metadata": {
        "id": "V656P0WXf4UJ"
      },
      "execution_count": 60,
      "outputs": []
    },
    {
      "cell_type": "markdown",
      "source": [
        "Ok. Let's test our new function:"
      ],
      "metadata": {
        "id": "HOak342AgFRb"
      }
    },
    {
      "cell_type": "code",
      "source": [
        "test_word = 'lóigca'\n",
        "\n",
        "cand = CandidateSolutions4(test_word)\n",
        "print(cand)"
      ],
      "metadata": {
        "colab": {
          "base_uri": "https://localhost:8080/"
        },
        "id": "KyK0hJcegE6W",
        "outputId": "44071952-dd87-46bf-ad32-0e5fe4ef33ed"
      },
      "execution_count": 61,
      "outputs": [
        {
          "output_type": "stream",
          "name": "stdout",
          "text": [
            "['óligca', 'liógca', 'lógica', 'lóicga', 'lóigac']\n"
          ]
        }
      ]
    },
    {
      "cell_type": "markdown",
      "source": [
        "Great! Again, we can even see our correct guess, at index 2.\n",
        "\n",
        "Finally, implementing our fourth and final checker:"
      ],
      "metadata": {
        "id": "VHXU5saHg1XB"
      }
    },
    {
      "cell_type": "code",
      "source": [
        "def spell_checker4(word, freq, num_words):\n",
        "  cand_sols1 = CandidateSolutions(word)                            # Getting candidate solutions for the letter addition operation\n",
        "  cand_sols2 = CandidateSolutions2(word)                           # Getting candidate solutions for the letter deletion operation\n",
        "  cand_sols3 = CandidateSolutions3(word)                           # Getting candidate solutions for the letter changing operation\n",
        "  cand_sols4 = CandidateSolutions4(word)                           # Getting candidate solutions for the letter invertion operation\n",
        "\n",
        "  cand_sols = [*cand_sols1, *cand_sols2, *cand_sols3, *cand_sols4] # This will concatenate both lists in a single one\n",
        "  max_like, right_word = 0, None                                   # Creating the maximum likelihood and the right word variables\n",
        "  for sol in cand_sols:                                            # Initiating loops through candidate solutions\n",
        "    like = likelihood(sol, freq, num_words)                        # Evaluating likelihood of a candidate solution\n",
        "    if like > max_like:                                            # Checking if its likelihood is higher than the maximum likelihood\n",
        "      right_word, max_like = sol, like                             # If so, the right_word and the max_like variables are updated    \n",
        "\n",
        "  # These lines of code are commented so that our testing does not get overcrowded.\n",
        "  \n",
        "  # if right_word == None:\n",
        "  #  print(\"The spell checker was not able to find a good educated guess for the correct word.\")\n",
        "  \n",
        "  return right_word"
      ],
      "metadata": {
        "id": "ZJSthlWZgN6X"
      },
      "execution_count": 62,
      "outputs": []
    },
    {
      "cell_type": "markdown",
      "source": [
        "Testing our checker:"
      ],
      "metadata": {
        "id": "reBxVLBthOEr"
      }
    },
    {
      "cell_type": "code",
      "source": [
        "spell_checker4(test_word, freq, num_words)"
      ],
      "metadata": {
        "colab": {
          "base_uri": "https://localhost:8080/",
          "height": 35
        },
        "id": "jS6l_BaghNNS",
        "outputId": "760475b8-2546-4cc9-e421-607136c49d1a"
      },
      "execution_count": 63,
      "outputs": [
        {
          "output_type": "execute_result",
          "data": {
            "text/plain": [
              "'lógica'"
            ],
            "application/vnd.google.colaboratory.intrinsic+json": {
              "type": "string"
            }
          },
          "metadata": {},
          "execution_count": 63
        }
      ]
    },
    {
      "cell_type": "markdown",
      "source": [
        "Good! Now, let's assess the reliability of our checkers once again:"
      ],
      "metadata": {
        "id": "LyY0hQGXhR5q"
      }
    },
    {
      "cell_type": "code",
      "source": [
        "CheckerReliability(testset, freq, num_words, spell_checker)"
      ],
      "metadata": {
        "colab": {
          "base_uri": "https://localhost:8080/"
        },
        "id": "7RzcJNL_hRP9",
        "outputId": "1f71da2c-025d-4588-d878-608ea865bbc4"
      },
      "execution_count": 64,
      "outputs": [
        {
          "output_type": "stream",
          "name": "stdout",
          "text": [
            "Reliability: 1.08% (number of words tested: 186)\n"
          ]
        }
      ]
    },
    {
      "cell_type": "code",
      "source": [
        "CheckerReliability(testset, freq, num_words, spell_checker2)"
      ],
      "metadata": {
        "colab": {
          "base_uri": "https://localhost:8080/"
        },
        "id": "hqz6WX1ChX5i",
        "outputId": "4f96058a-8dc9-4f6d-9891-0bcf48ee5590"
      },
      "execution_count": 65,
      "outputs": [
        {
          "output_type": "stream",
          "name": "stdout",
          "text": [
            "Reliability: 41.4% (number of words tested: 186)\n"
          ]
        }
      ]
    },
    {
      "cell_type": "code",
      "source": [
        "CheckerReliability(testset, freq, num_words, spell_checker3)"
      ],
      "metadata": {
        "colab": {
          "base_uri": "https://localhost:8080/"
        },
        "id": "n1OfUN9ZhYg8",
        "outputId": "682e3aef-5270-4b75-c10c-e19d4fd8b896"
      },
      "execution_count": 66,
      "outputs": [
        {
          "output_type": "stream",
          "name": "stdout",
          "text": [
            "Reliability: 76.34% (number of words tested: 186)\n"
          ]
        }
      ]
    },
    {
      "cell_type": "code",
      "source": [
        "CheckerReliability(testset, freq, num_words, spell_checker4)"
      ],
      "metadata": {
        "colab": {
          "base_uri": "https://localhost:8080/"
        },
        "id": "Csl5niZYhZCW",
        "outputId": "6c27b205-a5d2-43ac-aa39-4fb4f2e80b4b"
      },
      "execution_count": 67,
      "outputs": [
        {
          "output_type": "stream",
          "name": "stdout",
          "text": [
            "Reliability: 76.34% (number of words tested: 186)\n"
          ]
        }
      ]
    },
    {
      "cell_type": "markdown",
      "source": [
        "Note that our new implementation was not able to improving upon our reliability. This means that it was not able to improve upon our previous iteration. Note that the reliability as also a function of our test set: Most likely our test set had no misspelled words with this kind of error.\n",
        "\n",
        "Now, let's see how much time each of checkers take to run. For that end, we will run *CheckerReliability( )* one time for each checker, and see how much time each checker takes."
      ],
      "metadata": {
        "id": "Wpzl-wB6hy_F"
      }
    },
    {
      "cell_type": "code",
      "source": [
        "%time CheckerReliability(testset, freq, num_words, spell_checker)"
      ],
      "metadata": {
        "colab": {
          "base_uri": "https://localhost:8080/"
        },
        "id": "bZvEZx86hjmY",
        "outputId": "2d8b45aa-71bf-420e-a3c2-8f17ad400d24"
      },
      "execution_count": 68,
      "outputs": [
        {
          "output_type": "stream",
          "name": "stdout",
          "text": [
            "Reliability: 1.08% (number of words tested: 186)\n",
            "CPU times: user 34.5 ms, sys: 0 ns, total: 34.5 ms\n",
            "Wall time: 35.4 ms\n"
          ]
        }
      ]
    },
    {
      "cell_type": "code",
      "source": [
        "%time CheckerReliability(testset, freq, num_words, spell_checker2)"
      ],
      "metadata": {
        "colab": {
          "base_uri": "https://localhost:8080/"
        },
        "id": "PPr-O6aPip6V",
        "outputId": "0e7fc76c-aab3-4c0a-c8ae-4de6d535df6f"
      },
      "execution_count": 69,
      "outputs": [
        {
          "output_type": "stream",
          "name": "stdout",
          "text": [
            "Reliability: 41.4% (number of words tested: 186)\n",
            "CPU times: user 38.9 ms, sys: 0 ns, total: 38.9 ms\n",
            "Wall time: 41.2 ms\n"
          ]
        }
      ]
    },
    {
      "cell_type": "code",
      "source": [
        "%time CheckerReliability(testset, freq, num_words, spell_checker3)"
      ],
      "metadata": {
        "colab": {
          "base_uri": "https://localhost:8080/"
        },
        "id": "jpfLNyeairsA",
        "outputId": "3292b1cb-6e27-4766-cb60-a29011380057"
      },
      "execution_count": 70,
      "outputs": [
        {
          "output_type": "stream",
          "name": "stdout",
          "text": [
            "Reliability: 76.34% (number of words tested: 186)\n",
            "CPU times: user 71.4 ms, sys: 0 ns, total: 71.4 ms\n",
            "Wall time: 72 ms\n"
          ]
        }
      ]
    },
    {
      "cell_type": "code",
      "source": [
        "%time CheckerReliability(testset, freq, num_words, spell_checker4)"
      ],
      "metadata": {
        "colab": {
          "base_uri": "https://localhost:8080/"
        },
        "id": "rZ7JALdCit9J",
        "outputId": "ac4dc7ea-cfa9-403c-b066-4e1a7e18ca88"
      },
      "execution_count": 71,
      "outputs": [
        {
          "output_type": "stream",
          "name": "stdout",
          "text": [
            "Reliability: 76.34% (number of words tested: 186)\n",
            "CPU times: user 75 ms, sys: 857 µs, total: 75.8 ms\n",
            "Wall time: 77 ms\n"
          ]
        }
      ]
    },
    {
      "cell_type": "markdown",
      "source": [
        "Note that there is a very small loss of efficiency as we improve our checker. Note that this time spent is not fixed, and different runs of our algorithm could get different results. Let's reimplement our *CheckerReliability( )* function and then do a similar test, now checking how much time it takes to run the algorithm **100** times. "
      ],
      "metadata": {
        "id": "xojEo3LEjRup"
      }
    },
    {
      "cell_type": "code",
      "source": [
        "def CheckerReliability_NoPrint(testset, freq, num_words, func_checker):\n",
        "  hit = 0\n",
        "  for right_word, test_word in testset:\n",
        "    guess = func_checker(test_word, freq, num_words) # Note that we are passing our checker function as an argument! \n",
        "    if guess == right_word:\n",
        "      hit += 1\n",
        "\n",
        "  reliab = hit/len(testset)"
      ],
      "metadata": {
        "id": "D3TEyW75iwb1"
      },
      "execution_count": 72,
      "outputs": []
    },
    {
      "cell_type": "code",
      "source": [
        "%time for _ in range(100): CheckerReliability_NoPrint(testset, freq, num_words, spell_checker)"
      ],
      "metadata": {
        "colab": {
          "base_uri": "https://localhost:8080/"
        },
        "id": "Tw3J-ewcjx_M",
        "outputId": "4a8a3750-eaac-4b02-965e-af03c31d4958"
      },
      "execution_count": 73,
      "outputs": [
        {
          "output_type": "stream",
          "name": "stdout",
          "text": [
            "CPU times: user 3.14 s, sys: 12.1 ms, total: 3.15 s\n",
            "Wall time: 3.16 s\n"
          ]
        }
      ]
    },
    {
      "cell_type": "code",
      "source": [
        "%time for _ in range(100): CheckerReliability_NoPrint(testset, freq, num_words, spell_checker2)"
      ],
      "metadata": {
        "colab": {
          "base_uri": "https://localhost:8080/"
        },
        "id": "rc2sZmIHj4NP",
        "outputId": "8282b884-a540-429d-8459-8bdb6c21dadd"
      },
      "execution_count": 74,
      "outputs": [
        {
          "output_type": "stream",
          "name": "stdout",
          "text": [
            "CPU times: user 3.29 s, sys: 10.8 ms, total: 3.31 s\n",
            "Wall time: 3.32 s\n"
          ]
        }
      ]
    },
    {
      "cell_type": "code",
      "source": [
        "%time for _ in range(100): CheckerReliability_NoPrint(testset, freq, num_words, spell_checker3)"
      ],
      "metadata": {
        "colab": {
          "base_uri": "https://localhost:8080/"
        },
        "id": "-iaq34vUkEDO",
        "outputId": "57d0b184-68e8-445d-c906-c3e6363ecaaf"
      },
      "execution_count": 75,
      "outputs": [
        {
          "output_type": "stream",
          "name": "stdout",
          "text": [
            "CPU times: user 6.76 s, sys: 18 ms, total: 6.78 s\n",
            "Wall time: 6.8 s\n"
          ]
        }
      ]
    },
    {
      "cell_type": "code",
      "source": [
        "%time for _ in range(100): CheckerReliability_NoPrint(testset, freq, num_words, spell_checker4)"
      ],
      "metadata": {
        "colab": {
          "base_uri": "https://localhost:8080/"
        },
        "id": "410w83WSkT-z",
        "outputId": "4ee36958-e33d-4cd3-c632-630458c86b65"
      },
      "execution_count": 76,
      "outputs": [
        {
          "output_type": "stream",
          "name": "stdout",
          "text": [
            "CPU times: user 6.89 s, sys: 19.6 ms, total: 6.91 s\n",
            "Wall time: 6.93 s\n"
          ]
        }
      ]
    },
    {
      "cell_type": "markdown",
      "source": [
        "Now, we can see more clearly that, at each iteration, our checker becomes more and more inefficient. So, as we add new operations to the checker, we have to keep in mind that these operations take **time**, and may turn our checker into a very costly algorithm."
      ],
      "metadata": {
        "id": "YY-9qcaBkXL8"
      }
    },
    {
      "cell_type": "markdown",
      "source": [
        "## Discussing the checker error"
      ],
      "metadata": {
        "id": "dLFtzo3Ykr-e"
      }
    },
    {
      "cell_type": "markdown",
      "source": [
        "Ok, we managed to create a checker with a very good reliability of 76.34%. Also, we saw that, as we incremented our checker with new functionalities, it became **more reliable**, but also **less efficient**. \n",
        "\n",
        "However, it is important to note that this error is not entirely due to the algorithm: it is also related to our **vocabulary**. If our checker does not know the right word, it is not able to make a good guess.\n",
        "\n",
        "So, let's see if our checker knows all right words from our test set."
      ],
      "metadata": {
        "id": "xgXOwl7vkv8D"
      }
    },
    {
      "cell_type": "code",
      "source": [
        "def RateKnownWords(dataset, testset):\n",
        "  num_known_words = 0\n",
        "  for right, wrong in testset:\n",
        "    if right in dataset:\n",
        "      num_known_words += 1\n",
        "  print(f'Of the {len(testset)} words in our testset, our corpus knows {num_known_words} words ({round(num_known_words/len(testset)*100 ,2)}%).')"
      ],
      "metadata": {
        "id": "dKgj2Qi1kWpC"
      },
      "execution_count": 77,
      "outputs": []
    },
    {
      "cell_type": "markdown",
      "source": [
        "Now, let's run this function using the right parameters"
      ],
      "metadata": {
        "id": "DOTfR5nLmgpJ"
      }
    },
    {
      "cell_type": "code",
      "source": [
        "RateKnownWords(tokens, testset)"
      ],
      "metadata": {
        "colab": {
          "base_uri": "https://localhost:8080/"
        },
        "id": "5qVsUw8omfKa",
        "outputId": "3b51db2b-416e-4f25-b7ac-2275a45e4e30"
      },
      "execution_count": 78,
      "outputs": [
        {
          "output_type": "stream",
          "name": "stdout",
          "text": [
            "Of the 186 words in our testset, our corpus knows 173 words (93.01%).\n"
          ]
        }
      ]
    },
    {
      "cell_type": "markdown",
      "source": [
        "So, there are 13 words in our test set that our algorithm does not know!"
      ],
      "metadata": {
        "id": "8_OZbLvjnJk7"
      }
    },
    {
      "cell_type": "markdown",
      "source": [
        "# Improving our spell checker even further"
      ],
      "metadata": {
        "id": "Pdh_e1L8sbXr"
      }
    },
    {
      "cell_type": "markdown",
      "source": [
        "Ok, our checker is able to guess the right words for multiple types of errors, generating candidate solutions via the following operations:\n",
        "\n",
        "*   Letter addition\n",
        "*   Letter deletion\n",
        "*   Letter changing\n",
        "*   Letter invertion\n",
        "\n",
        "However, it only guess the correct word when **only one** operation is necessary. For instance, if we try to check 'lóggica':\n",
        "\n",
        "\n",
        "\n"
      ],
      "metadata": {
        "id": "j_gkfU_1shcZ"
      }
    },
    {
      "cell_type": "code",
      "source": [
        "spell_checker4('lóggica', freq, num_words)"
      ],
      "metadata": {
        "colab": {
          "base_uri": "https://localhost:8080/",
          "height": 35
        },
        "id": "TDAoPUjHmsky",
        "outputId": "4f43091a-3ba4-480c-e27a-1c7eaa84e903"
      },
      "execution_count": 79,
      "outputs": [
        {
          "output_type": "execute_result",
          "data": {
            "text/plain": [
              "'lógica'"
            ],
            "application/vnd.google.colaboratory.intrinsic+json": {
              "type": "string"
            }
          },
          "metadata": {},
          "execution_count": 79
        }
      ]
    },
    {
      "cell_type": "markdown",
      "source": [
        "we are able to find the correct guess, using the letter deletion operation. However, if we check 'lóggicca':"
      ],
      "metadata": {
        "id": "OzPDz-4FtMiT"
      }
    },
    {
      "cell_type": "code",
      "source": [
        "spell_checker4('lóggicca', freq, num_words)"
      ],
      "metadata": {
        "id": "3Cjt2iC6tHo3"
      },
      "execution_count": 80,
      "outputs": []
    },
    {
      "cell_type": "markdown",
      "source": [
        "we are not able to find the correct guess, as we actually need to perform the letter deletion operation **twice**."
      ],
      "metadata": {
        "id": "YPpjbQNrtZuy"
      }
    },
    {
      "cell_type": "markdown",
      "source": [
        "So, let's make another iteration of our checker. This time the checker will be able to employ two operations, generating **candidate solutions for our candidate solutions**. First, let's implement an unique function to get our candidate solutions:"
      ],
      "metadata": {
        "id": "zNDI8QBTtkaO"
      }
    },
    {
      "cell_type": "code",
      "source": [
        "def GetAllCandidateSols(word):\n",
        "  cand_sols1 = CandidateSolutions(word)  # Getting candidate solutions for the letter addition operation\n",
        "  cand_sols2 = CandidateSolutions2(word) # Getting candidate solutions for the letter deletion operation\n",
        "  cand_sols3 = CandidateSolutions3(word) # Getting candidate solutions for the letter changing operation\n",
        "  cand_sols4 = CandidateSolutions4(word) # Getting candidate solutions for the letter invertion operation\n",
        "\n",
        "  cand_sols = [*cand_sols1, *cand_sols2, *cand_sols3, *cand_sols4]\n",
        "\n",
        "  return cand_sols"
      ],
      "metadata": {
        "id": "75hbo5IXtXVW"
      },
      "execution_count": 90,
      "outputs": []
    },
    {
      "cell_type": "markdown",
      "source": [
        "Now, let's implement a new iteration of our checker:"
      ],
      "metadata": {
        "id": "cEkwTqs_uJmR"
      }
    },
    {
      "cell_type": "code",
      "source": [
        "def spell_checker5(word, freq, num_words):\n",
        "  cand_sols_it1 = GetAllCandidateSols(word)                        # This function will get all candidate solutions for our misspelled word\n",
        "\n",
        "  cand_sols_it2 = cand_sols_it1                                    # In this variable, we will store the candidate solutions for our candidates\n",
        "  for cand_sol in cand_sols_it1:\n",
        "    new_cands = GetAllCandidateSols(cand_sol)                      # Getting the candidate solutions for each former candidate\n",
        "    cand_sols_it2 = [*cand_sols_it2, *new_cands]                   # Storing all candidates in a single list\n",
        "\n",
        "  max_like, right_word = 0, None                                   # Creating the maximum likelihood and the right word variables\n",
        "  for sol in cand_sols_it2:                                        # Initiating loops through candidate solutions\n",
        "    like = likelihood(sol, freq, num_words)                        # Evaluating likelihood of a candidate solution\n",
        "    if like > max_like:                                            # Checking if its likelihood is higher than the maximum likelihood\n",
        "      right_word, max_like = sol, like                             # If so, the right_word and the max_like variables are updated    \n",
        "\n",
        "  # These lines of code are commented so that our testing does not get overcrowded.\n",
        "  \n",
        "  # if right_word == None:\n",
        "  #  print(\"The spell checker was not able to find a good educated guess for the correct word.\")\n",
        "  \n",
        "  return right_word"
      ],
      "metadata": {
        "id": "iHOE1jQquI6n"
      },
      "execution_count": 91,
      "outputs": []
    },
    {
      "cell_type": "markdown",
      "source": [
        "Great. Now, let's test with our example word."
      ],
      "metadata": {
        "id": "heHz-e0uvjfC"
      }
    },
    {
      "cell_type": "code",
      "source": [
        "spell_checker5('lóggicca', freq, num_words)"
      ],
      "metadata": {
        "colab": {
          "base_uri": "https://localhost:8080/",
          "height": 35
        },
        "id": "1ZFaAwDkPFMZ",
        "outputId": "2a1d0558-895d-462f-bc4f-fe27ce9e7614"
      },
      "execution_count": 92,
      "outputs": [
        {
          "output_type": "execute_result",
          "data": {
            "text/plain": [
              "'lógica'"
            ],
            "application/vnd.google.colaboratory.intrinsic+json": {
              "type": "string"
            }
          },
          "metadata": {},
          "execution_count": 92
        }
      ]
    },
    {
      "cell_type": "markdown",
      "source": [
        "It worked! However, is this checker efficient? Let's see how much time it takes to fix only one word:"
      ],
      "metadata": {
        "id": "2yMGkZ0ivnpc"
      }
    },
    {
      "cell_type": "code",
      "source": [
        "%time spell_checker5('lóggicca', freq, num_words)"
      ],
      "metadata": {
        "colab": {
          "base_uri": "https://localhost:8080/",
          "height": 70
        },
        "id": "R9a04ot8PWKA",
        "outputId": "0d8435bd-e4d0-4ee7-94bf-4800b554d653"
      },
      "execution_count": 93,
      "outputs": [
        {
          "output_type": "stream",
          "name": "stdout",
          "text": [
            "CPU times: user 5.42 s, sys: 2.55 s, total: 7.97 s\n",
            "Wall time: 7.98 s\n"
          ]
        },
        {
          "output_type": "execute_result",
          "data": {
            "text/plain": [
              "'lógica'"
            ],
            "application/vnd.google.colaboratory.intrinsic+json": {
              "type": "string"
            }
          },
          "metadata": {},
          "execution_count": 93
        }
      ]
    },
    {
      "cell_type": "markdown",
      "source": [
        "Note that this checker is **very** inefficient. Is there any way to improve the efficiency of our checker?\n",
        "\n",
        "First, let's look at the number of candidate solutions. For our previous algorithm, we had 772 candidate solutions:\n",
        "\n"
      ],
      "metadata": {
        "id": "ilAq2eGpwRKF"
      }
    },
    {
      "cell_type": "code",
      "source": [
        "cand_sols_it1 = GetAllCandidateSols('lóiigica') \n",
        "len(cand_sols_it1)"
      ],
      "metadata": {
        "id": "pEcHsOGPwEoI",
        "colab": {
          "base_uri": "https://localhost:8080/"
        },
        "outputId": "b411abb6-3aeb-4ed4-cdd7-22cea63e2eed"
      },
      "execution_count": 87,
      "outputs": [
        {
          "output_type": "execute_result",
          "data": {
            "text/plain": [
              "772"
            ]
          },
          "metadata": {},
          "execution_count": 87
        }
      ]
    },
    {
      "cell_type": "markdown",
      "source": [
        "However, for our new checker, we have 632,188 candidate solutions:"
      ],
      "metadata": {
        "id": "ST3RO4pkxs5L"
      }
    },
    {
      "cell_type": "code",
      "source": [
        "  cand_sols_it1 = GetAllCandidateSols('lóiigica')                      \n",
        "\n",
        "  cand_sols_it2 = cand_sols_it1                                    \n",
        "  for cand_sol in cand_sols_it1:\n",
        "    new_cands = GetAllCandidateSols(cand_sol)                     \n",
        "    cand_sols_it2 = [*cand_sols_it2, *new_cands]     \n",
        "\n",
        "len(cand_sols_it2)             "
      ],
      "metadata": {
        "id": "rWqHI_nHxsN4",
        "colab": {
          "base_uri": "https://localhost:8080/"
        },
        "outputId": "5987e767-a980-4d32-8969-7922a0d88610"
      },
      "execution_count": 94,
      "outputs": [
        {
          "output_type": "execute_result",
          "data": {
            "text/plain": [
              "632188"
            ]
          },
          "metadata": {},
          "execution_count": 94
        }
      ]
    },
    {
      "cell_type": "markdown",
      "source": [
        "This way, we have to perform way to many checks too finally define our right guess!\n",
        "\n",
        "Let's try to perform a more efficient checking process. First, we can remove our duplicate candidate solutions. Then, we can check if our candidate is in our corpus. If not, we can simply remove it, and then we don't need to check its likelihood. Let's implement these ideas:"
      ],
      "metadata": {
        "id": "yUmyjneIyAYj"
      }
    },
    {
      "cell_type": "code",
      "source": [
        "def spell_checker6(word, freq, num_words):\n",
        "  cand_sols_it1 = GetAllCandidateSols(word)                        # This function will get all candidate solutions for our misspelled word\n",
        "\n",
        "  cand_sols_it2 = cand_sols_it1                                    # In this variable, we will store the candidate solutions for our candidates\n",
        "  for cand_sol in cand_sols_it1:\n",
        "    new_cands = GetAllCandidateSols(cand_sol)                      # Getting the candidate solutions for each former candidate\n",
        "    cand_sols_it2 = [*cand_sols_it2, *new_cands]                   # Storing all candidates in a single list\n",
        "\n",
        "  cand_sols_it3 = set(cand_sols_it2)                               # Removing duplicates\n",
        "\n",
        "  cand_sols_it4 = []\n",
        "  for cand_sol in cand_sols_it3:\n",
        "    if cand_sol in freq.keys( ):                                   # Checking if our candidate solution is in our vocabulary\n",
        "      cand_sols_it4.append(cand_sol)\n",
        "\n",
        "  max_like, right_word = 0, None                                   # Creating the maximum likelihood and the right word variables\n",
        "  for sol in cand_sols_it4:                                        # Initiating loops through candidate solutions\n",
        "    like = likelihood(sol, freq, num_words)                        # Evaluating likelihood of a candidate solution\n",
        "    if like > max_like:                                            # Checking if its likelihood is higher than the maximum likelihood\n",
        "      right_word, max_like = sol, like                             # If so, the right_word and the max_like variables are updated    \n",
        "\n",
        "  # These lines of code are commented so that our testing does not get overcrowded.\n",
        "  \n",
        "  # if right_word == None:\n",
        "  #  print(\"The spell checker was not able to find a good educated guess for the correct word.\")\n",
        "  \n",
        "  return right_word"
      ],
      "metadata": {
        "id": "AKnmMhvDx71g"
      },
      "execution_count": 95,
      "outputs": []
    },
    {
      "cell_type": "code",
      "source": [
        "spell_checker6('lóiigica', freq, num_words)"
      ],
      "metadata": {
        "id": "V4KkKmCC0K1H",
        "colab": {
          "base_uri": "https://localhost:8080/",
          "height": 35
        },
        "outputId": "efe9c039-2144-4d9e-f7b4-85cbcfff0039"
      },
      "execution_count": 96,
      "outputs": [
        {
          "output_type": "execute_result",
          "data": {
            "text/plain": [
              "'lógica'"
            ],
            "application/vnd.google.colaboratory.intrinsic+json": {
              "type": "string"
            }
          },
          "metadata": {},
          "execution_count": 96
        }
      ]
    },
    {
      "cell_type": "markdown",
      "source": [
        "Great! Our checker works! \n",
        "\n",
        "Now, let's check our time spent."
      ],
      "metadata": {
        "id": "SDoYqyUq2GUD"
      }
    },
    {
      "cell_type": "code",
      "source": [
        "%time spell_checker6('lóggicca', freq, num_words)"
      ],
      "metadata": {
        "id": "Mzh8A5oM0Sv7",
        "colab": {
          "base_uri": "https://localhost:8080/",
          "height": 70
        },
        "outputId": "57df0e65-04d9-4885-ff77-5c75e5fc842a"
      },
      "execution_count": 97,
      "outputs": [
        {
          "output_type": "stream",
          "name": "stdout",
          "text": [
            "CPU times: user 5.41 s, sys: 951 ms, total: 6.36 s\n",
            "Wall time: 6.38 s\n"
          ]
        },
        {
          "output_type": "execute_result",
          "data": {
            "text/plain": [
              "'lógica'"
            ],
            "application/vnd.google.colaboratory.intrinsic+json": {
              "type": "string"
            }
          },
          "metadata": {},
          "execution_count": 97
        }
      ]
    },
    {
      "cell_type": "markdown",
      "source": [
        "Note that our checker is slightly more efficient than the previous one. Now, let's test our checker reliability:"
      ],
      "metadata": {
        "id": "ADXcKInoPyTz"
      }
    },
    {
      "cell_type": "code",
      "source": [
        "%time CheckerReliability(testset, freq, num_words, spell_checker6)"
      ],
      "metadata": {
        "id": "cChz1lAT2V81",
        "colab": {
          "base_uri": "https://localhost:8080/"
        },
        "outputId": "98e12f32-e60a-49b0-fc2d-05c87d63f084"
      },
      "execution_count": 98,
      "outputs": [
        {
          "output_type": "stream",
          "name": "stdout",
          "text": [
            "Reliability: 55.38% (number of words tested: 186)\n",
            "CPU times: user 7min 26s, sys: 2min, total: 9min 26s\n",
            "Wall time: 9min 28s\n"
          ]
        }
      ]
    },
    {
      "cell_type": "markdown",
      "source": [
        "Wait, why did our checker reliability lowered?"
      ],
      "metadata": {
        "id": "xwd1K0wYWN7E"
      }
    },
    {
      "cell_type": "markdown",
      "source": [
        "That occurred because our new checker is receiving a misspelled word and correcting it to a wrong word. For instance, take the case where one writes 'esje' instead of 'esse'. Let's use our checker:"
      ],
      "metadata": {
        "id": "YCkl8EagWY8r"
      }
    },
    {
      "cell_type": "code",
      "source": [
        "spell_checker6('esje', freq, num_words)"
      ],
      "metadata": {
        "colab": {
          "base_uri": "https://localhost:8080/",
          "height": 35
        },
        "id": "TQUWx3xwP6q6",
        "outputId": "cbf7b227-1645-42ef-c25b-cfca67454c74"
      },
      "execution_count": 99,
      "outputs": [
        {
          "output_type": "execute_result",
          "data": {
            "text/plain": [
              "'se'"
            ],
            "application/vnd.google.colaboratory.intrinsic+json": {
              "type": "string"
            }
          },
          "metadata": {},
          "execution_count": 99
        }
      ]
    },
    {
      "cell_type": "markdown",
      "source": [
        "We actually get the word 'se', and not 'este', as expected. That occurs because the likelihood of 'se' is much higher than that of 'este':"
      ],
      "metadata": {
        "id": "JWW3-X3dXI2L"
      }
    },
    {
      "cell_type": "code",
      "source": [
        "likelihood('se', freq, num_words)"
      ],
      "metadata": {
        "colab": {
          "base_uri": "https://localhost:8080/"
        },
        "id": "09q32pCNXHrK",
        "outputId": "8e90d853-dc92-4bac-d35d-b89e705380a3"
      },
      "execution_count": 101,
      "outputs": [
        {
          "output_type": "execute_result",
          "data": {
            "text/plain": [
              "0.007669186675264144"
            ]
          },
          "metadata": {},
          "execution_count": 101
        }
      ]
    },
    {
      "cell_type": "code",
      "source": [
        "likelihood('este', freq, num_words)"
      ],
      "metadata": {
        "colab": {
          "base_uri": "https://localhost:8080/"
        },
        "id": "9X6iH5f9XSV4",
        "outputId": "db2463cc-ba90-45a8-c48b-199bf998bf91"
      },
      "execution_count": 102,
      "outputs": [
        {
          "output_type": "execute_result",
          "data": {
            "text/plain": [
              "0.0005508816645257594"
            ]
          },
          "metadata": {},
          "execution_count": 102
        }
      ]
    },
    {
      "cell_type": "markdown",
      "source": [
        "This behavior is very common when we allow a model to be very general. We say that these models have a very low **bias**, but a very large **variance**. That means that our new model is very exposed to overfitting our data."
      ],
      "metadata": {
        "id": "KEgcOPCkXZJk"
      }
    },
    {
      "cell_type": "markdown",
      "source": [
        "Thus, actually, our best checker was *spell_checker4( )*, which showed a good reliability and efficiency:"
      ],
      "metadata": {
        "id": "ZvurfXJgXuST"
      }
    },
    {
      "cell_type": "code",
      "source": [
        "%time spell_checker4('lógicca', freq, num_words)"
      ],
      "metadata": {
        "colab": {
          "base_uri": "https://localhost:8080/",
          "height": 70
        },
        "id": "yW9nqXI5XXir",
        "outputId": "5b6c8577-090f-42e4-dc3c-985a8adca8b5"
      },
      "execution_count": 103,
      "outputs": [
        {
          "output_type": "stream",
          "name": "stdout",
          "text": [
            "CPU times: user 1.12 ms, sys: 0 ns, total: 1.12 ms\n",
            "Wall time: 1.27 ms\n"
          ]
        },
        {
          "output_type": "execute_result",
          "data": {
            "text/plain": [
              "'lógica'"
            ],
            "application/vnd.google.colaboratory.intrinsic+json": {
              "type": "string"
            }
          },
          "metadata": {},
          "execution_count": 103
        }
      ]
    }
  ]
}